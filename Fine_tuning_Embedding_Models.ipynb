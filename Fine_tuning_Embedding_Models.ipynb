{
  "nbformat": 4,
  "nbformat_minor": 0,
  "metadata": {
    "colab": {
      "provenance": [],
      "collapsed_sections": [
        "ilAjOLCehSDm",
        "f7_diuzhNISN",
        "AcEhCUom20zX",
        "jUF_JIPtUMf1"
      ],
      "gpuType": "T4",
      "authorship_tag": "ABX9TyOwT4bmd/9avgghH0cdo4KR",
      "include_colab_link": true
    },
    "kernelspec": {
      "name": "python3",
      "display_name": "Python 3"
    },
    "language_info": {
      "name": "python"
    },
    "widgets": {
      "application/vnd.jupyter.widget-state+json": {
        "d1102e930fad4bc1aa7cfaee30e3db49": {
          "model_module": "@jupyter-widgets/controls",
          "model_name": "HBoxModel",
          "model_module_version": "1.5.0",
          "state": {
            "_dom_classes": [],
            "_model_module": "@jupyter-widgets/controls",
            "_model_module_version": "1.5.0",
            "_model_name": "HBoxModel",
            "_view_count": null,
            "_view_module": "@jupyter-widgets/controls",
            "_view_module_version": "1.5.0",
            "_view_name": "HBoxView",
            "box_style": "",
            "children": [
              "IPY_MODEL_df1b91437ed6489ebbc29c59bd1561b1",
              "IPY_MODEL_3135ef382f214ff1a2627ccac6f9a2f5",
              "IPY_MODEL_32494ae7c5f846d59f596cdb5a9e2288"
            ],
            "layout": "IPY_MODEL_380ea48ca6ba48c3a418bb9c5d76526c"
          }
        },
        "df1b91437ed6489ebbc29c59bd1561b1": {
          "model_module": "@jupyter-widgets/controls",
          "model_name": "HTMLModel",
          "model_module_version": "1.5.0",
          "state": {
            "_dom_classes": [],
            "_model_module": "@jupyter-widgets/controls",
            "_model_module_version": "1.5.0",
            "_model_name": "HTMLModel",
            "_view_count": null,
            "_view_module": "@jupyter-widgets/controls",
            "_view_module_version": "1.5.0",
            "_view_name": "HTMLView",
            "description": "",
            "description_tooltip": null,
            "layout": "IPY_MODEL_df9f5a0796374d939fdeb87a5e4af958",
            "placeholder": "​",
            "style": "IPY_MODEL_d8e4b3c970de459da1e3420416e6e49e",
            "value": "Parsing nodes: 100%"
          }
        },
        "3135ef382f214ff1a2627ccac6f9a2f5": {
          "model_module": "@jupyter-widgets/controls",
          "model_name": "FloatProgressModel",
          "model_module_version": "1.5.0",
          "state": {
            "_dom_classes": [],
            "_model_module": "@jupyter-widgets/controls",
            "_model_module_version": "1.5.0",
            "_model_name": "FloatProgressModel",
            "_view_count": null,
            "_view_module": "@jupyter-widgets/controls",
            "_view_module_version": "1.5.0",
            "_view_name": "ProgressView",
            "bar_style": "success",
            "description": "",
            "description_tooltip": null,
            "layout": "IPY_MODEL_7b2d555b56c840f4b7e18979eab48355",
            "max": 2,
            "min": 0,
            "orientation": "horizontal",
            "style": "IPY_MODEL_20e7961a91d44928a88bd82f06ffd3e2",
            "value": 2
          }
        },
        "32494ae7c5f846d59f596cdb5a9e2288": {
          "model_module": "@jupyter-widgets/controls",
          "model_name": "HTMLModel",
          "model_module_version": "1.5.0",
          "state": {
            "_dom_classes": [],
            "_model_module": "@jupyter-widgets/controls",
            "_model_module_version": "1.5.0",
            "_model_name": "HTMLModel",
            "_view_count": null,
            "_view_module": "@jupyter-widgets/controls",
            "_view_module_version": "1.5.0",
            "_view_name": "HTMLView",
            "description": "",
            "description_tooltip": null,
            "layout": "IPY_MODEL_db0662e7dc4c4f94a295f16143e64c98",
            "placeholder": "​",
            "style": "IPY_MODEL_31747933881340129603e64096c6d008",
            "value": " 2/2 [00:00&lt;00:00,  6.34it/s]"
          }
        },
        "380ea48ca6ba48c3a418bb9c5d76526c": {
          "model_module": "@jupyter-widgets/base",
          "model_name": "LayoutModel",
          "model_module_version": "1.2.0",
          "state": {
            "_model_module": "@jupyter-widgets/base",
            "_model_module_version": "1.2.0",
            "_model_name": "LayoutModel",
            "_view_count": null,
            "_view_module": "@jupyter-widgets/base",
            "_view_module_version": "1.2.0",
            "_view_name": "LayoutView",
            "align_content": null,
            "align_items": null,
            "align_self": null,
            "border": null,
            "bottom": null,
            "display": null,
            "flex": null,
            "flex_flow": null,
            "grid_area": null,
            "grid_auto_columns": null,
            "grid_auto_flow": null,
            "grid_auto_rows": null,
            "grid_column": null,
            "grid_gap": null,
            "grid_row": null,
            "grid_template_areas": null,
            "grid_template_columns": null,
            "grid_template_rows": null,
            "height": null,
            "justify_content": null,
            "justify_items": null,
            "left": null,
            "margin": null,
            "max_height": null,
            "max_width": null,
            "min_height": null,
            "min_width": null,
            "object_fit": null,
            "object_position": null,
            "order": null,
            "overflow": null,
            "overflow_x": null,
            "overflow_y": null,
            "padding": null,
            "right": null,
            "top": null,
            "visibility": null,
            "width": null
          }
        },
        "df9f5a0796374d939fdeb87a5e4af958": {
          "model_module": "@jupyter-widgets/base",
          "model_name": "LayoutModel",
          "model_module_version": "1.2.0",
          "state": {
            "_model_module": "@jupyter-widgets/base",
            "_model_module_version": "1.2.0",
            "_model_name": "LayoutModel",
            "_view_count": null,
            "_view_module": "@jupyter-widgets/base",
            "_view_module_version": "1.2.0",
            "_view_name": "LayoutView",
            "align_content": null,
            "align_items": null,
            "align_self": null,
            "border": null,
            "bottom": null,
            "display": null,
            "flex": null,
            "flex_flow": null,
            "grid_area": null,
            "grid_auto_columns": null,
            "grid_auto_flow": null,
            "grid_auto_rows": null,
            "grid_column": null,
            "grid_gap": null,
            "grid_row": null,
            "grid_template_areas": null,
            "grid_template_columns": null,
            "grid_template_rows": null,
            "height": null,
            "justify_content": null,
            "justify_items": null,
            "left": null,
            "margin": null,
            "max_height": null,
            "max_width": null,
            "min_height": null,
            "min_width": null,
            "object_fit": null,
            "object_position": null,
            "order": null,
            "overflow": null,
            "overflow_x": null,
            "overflow_y": null,
            "padding": null,
            "right": null,
            "top": null,
            "visibility": null,
            "width": null
          }
        },
        "d8e4b3c970de459da1e3420416e6e49e": {
          "model_module": "@jupyter-widgets/controls",
          "model_name": "DescriptionStyleModel",
          "model_module_version": "1.5.0",
          "state": {
            "_model_module": "@jupyter-widgets/controls",
            "_model_module_version": "1.5.0",
            "_model_name": "DescriptionStyleModel",
            "_view_count": null,
            "_view_module": "@jupyter-widgets/base",
            "_view_module_version": "1.2.0",
            "_view_name": "StyleView",
            "description_width": ""
          }
        },
        "7b2d555b56c840f4b7e18979eab48355": {
          "model_module": "@jupyter-widgets/base",
          "model_name": "LayoutModel",
          "model_module_version": "1.2.0",
          "state": {
            "_model_module": "@jupyter-widgets/base",
            "_model_module_version": "1.2.0",
            "_model_name": "LayoutModel",
            "_view_count": null,
            "_view_module": "@jupyter-widgets/base",
            "_view_module_version": "1.2.0",
            "_view_name": "LayoutView",
            "align_content": null,
            "align_items": null,
            "align_self": null,
            "border": null,
            "bottom": null,
            "display": null,
            "flex": null,
            "flex_flow": null,
            "grid_area": null,
            "grid_auto_columns": null,
            "grid_auto_flow": null,
            "grid_auto_rows": null,
            "grid_column": null,
            "grid_gap": null,
            "grid_row": null,
            "grid_template_areas": null,
            "grid_template_columns": null,
            "grid_template_rows": null,
            "height": null,
            "justify_content": null,
            "justify_items": null,
            "left": null,
            "margin": null,
            "max_height": null,
            "max_width": null,
            "min_height": null,
            "min_width": null,
            "object_fit": null,
            "object_position": null,
            "order": null,
            "overflow": null,
            "overflow_x": null,
            "overflow_y": null,
            "padding": null,
            "right": null,
            "top": null,
            "visibility": null,
            "width": null
          }
        },
        "20e7961a91d44928a88bd82f06ffd3e2": {
          "model_module": "@jupyter-widgets/controls",
          "model_name": "ProgressStyleModel",
          "model_module_version": "1.5.0",
          "state": {
            "_model_module": "@jupyter-widgets/controls",
            "_model_module_version": "1.5.0",
            "_model_name": "ProgressStyleModel",
            "_view_count": null,
            "_view_module": "@jupyter-widgets/base",
            "_view_module_version": "1.2.0",
            "_view_name": "StyleView",
            "bar_color": null,
            "description_width": ""
          }
        },
        "db0662e7dc4c4f94a295f16143e64c98": {
          "model_module": "@jupyter-widgets/base",
          "model_name": "LayoutModel",
          "model_module_version": "1.2.0",
          "state": {
            "_model_module": "@jupyter-widgets/base",
            "_model_module_version": "1.2.0",
            "_model_name": "LayoutModel",
            "_view_count": null,
            "_view_module": "@jupyter-widgets/base",
            "_view_module_version": "1.2.0",
            "_view_name": "LayoutView",
            "align_content": null,
            "align_items": null,
            "align_self": null,
            "border": null,
            "bottom": null,
            "display": null,
            "flex": null,
            "flex_flow": null,
            "grid_area": null,
            "grid_auto_columns": null,
            "grid_auto_flow": null,
            "grid_auto_rows": null,
            "grid_column": null,
            "grid_gap": null,
            "grid_row": null,
            "grid_template_areas": null,
            "grid_template_columns": null,
            "grid_template_rows": null,
            "height": null,
            "justify_content": null,
            "justify_items": null,
            "left": null,
            "margin": null,
            "max_height": null,
            "max_width": null,
            "min_height": null,
            "min_width": null,
            "object_fit": null,
            "object_position": null,
            "order": null,
            "overflow": null,
            "overflow_x": null,
            "overflow_y": null,
            "padding": null,
            "right": null,
            "top": null,
            "visibility": null,
            "width": null
          }
        },
        "31747933881340129603e64096c6d008": {
          "model_module": "@jupyter-widgets/controls",
          "model_name": "DescriptionStyleModel",
          "model_module_version": "1.5.0",
          "state": {
            "_model_module": "@jupyter-widgets/controls",
            "_model_module_version": "1.5.0",
            "_model_name": "DescriptionStyleModel",
            "_view_count": null,
            "_view_module": "@jupyter-widgets/base",
            "_view_module_version": "1.2.0",
            "_view_name": "StyleView",
            "description_width": ""
          }
        },
        "423e464e2ae248509fb7b58a93838d02": {
          "model_module": "@jupyter-widgets/controls",
          "model_name": "HBoxModel",
          "model_module_version": "1.5.0",
          "state": {
            "_dom_classes": [],
            "_model_module": "@jupyter-widgets/controls",
            "_model_module_version": "1.5.0",
            "_model_name": "HBoxModel",
            "_view_count": null,
            "_view_module": "@jupyter-widgets/controls",
            "_view_module_version": "1.5.0",
            "_view_name": "HBoxView",
            "box_style": "",
            "children": [
              "IPY_MODEL_48760e121b5e442c862a450e8155a641",
              "IPY_MODEL_992e50dae8a44302ad89a00e2fe01b90",
              "IPY_MODEL_4b6874db61544f62821d6ea19d483766"
            ],
            "layout": "IPY_MODEL_04857936c416478a8177c1a668809e7f"
          }
        },
        "48760e121b5e442c862a450e8155a641": {
          "model_module": "@jupyter-widgets/controls",
          "model_name": "HTMLModel",
          "model_module_version": "1.5.0",
          "state": {
            "_dom_classes": [],
            "_model_module": "@jupyter-widgets/controls",
            "_model_module_version": "1.5.0",
            "_model_name": "HTMLModel",
            "_view_count": null,
            "_view_module": "@jupyter-widgets/controls",
            "_view_module_version": "1.5.0",
            "_view_name": "HTMLView",
            "description": "",
            "description_tooltip": null,
            "layout": "IPY_MODEL_c3da2f82603244e085ab22a1efa098e8",
            "placeholder": "​",
            "style": "IPY_MODEL_61f0e545393c48c6b9b6e5aa0cde2fdb",
            "value": "Parsing nodes: 100%"
          }
        },
        "992e50dae8a44302ad89a00e2fe01b90": {
          "model_module": "@jupyter-widgets/controls",
          "model_name": "FloatProgressModel",
          "model_module_version": "1.5.0",
          "state": {
            "_dom_classes": [],
            "_model_module": "@jupyter-widgets/controls",
            "_model_module_version": "1.5.0",
            "_model_name": "FloatProgressModel",
            "_view_count": null,
            "_view_module": "@jupyter-widgets/controls",
            "_view_module_version": "1.5.0",
            "_view_name": "ProgressView",
            "bar_style": "success",
            "description": "",
            "description_tooltip": null,
            "layout": "IPY_MODEL_6b257ef44a1642eb81446ea28afbe83f",
            "max": 1,
            "min": 0,
            "orientation": "horizontal",
            "style": "IPY_MODEL_91e843c3fbf64f7ba0b4a1547de407b1",
            "value": 1
          }
        },
        "4b6874db61544f62821d6ea19d483766": {
          "model_module": "@jupyter-widgets/controls",
          "model_name": "HTMLModel",
          "model_module_version": "1.5.0",
          "state": {
            "_dom_classes": [],
            "_model_module": "@jupyter-widgets/controls",
            "_model_module_version": "1.5.0",
            "_model_name": "HTMLModel",
            "_view_count": null,
            "_view_module": "@jupyter-widgets/controls",
            "_view_module_version": "1.5.0",
            "_view_name": "HTMLView",
            "description": "",
            "description_tooltip": null,
            "layout": "IPY_MODEL_b432b189123448c2acfda868866563d3",
            "placeholder": "​",
            "style": "IPY_MODEL_809ab03a147a4ce49561facfa9e1b467",
            "value": " 1/1 [00:00&lt;00:00,  9.45it/s]"
          }
        },
        "04857936c416478a8177c1a668809e7f": {
          "model_module": "@jupyter-widgets/base",
          "model_name": "LayoutModel",
          "model_module_version": "1.2.0",
          "state": {
            "_model_module": "@jupyter-widgets/base",
            "_model_module_version": "1.2.0",
            "_model_name": "LayoutModel",
            "_view_count": null,
            "_view_module": "@jupyter-widgets/base",
            "_view_module_version": "1.2.0",
            "_view_name": "LayoutView",
            "align_content": null,
            "align_items": null,
            "align_self": null,
            "border": null,
            "bottom": null,
            "display": null,
            "flex": null,
            "flex_flow": null,
            "grid_area": null,
            "grid_auto_columns": null,
            "grid_auto_flow": null,
            "grid_auto_rows": null,
            "grid_column": null,
            "grid_gap": null,
            "grid_row": null,
            "grid_template_areas": null,
            "grid_template_columns": null,
            "grid_template_rows": null,
            "height": null,
            "justify_content": null,
            "justify_items": null,
            "left": null,
            "margin": null,
            "max_height": null,
            "max_width": null,
            "min_height": null,
            "min_width": null,
            "object_fit": null,
            "object_position": null,
            "order": null,
            "overflow": null,
            "overflow_x": null,
            "overflow_y": null,
            "padding": null,
            "right": null,
            "top": null,
            "visibility": null,
            "width": null
          }
        },
        "c3da2f82603244e085ab22a1efa098e8": {
          "model_module": "@jupyter-widgets/base",
          "model_name": "LayoutModel",
          "model_module_version": "1.2.0",
          "state": {
            "_model_module": "@jupyter-widgets/base",
            "_model_module_version": "1.2.0",
            "_model_name": "LayoutModel",
            "_view_count": null,
            "_view_module": "@jupyter-widgets/base",
            "_view_module_version": "1.2.0",
            "_view_name": "LayoutView",
            "align_content": null,
            "align_items": null,
            "align_self": null,
            "border": null,
            "bottom": null,
            "display": null,
            "flex": null,
            "flex_flow": null,
            "grid_area": null,
            "grid_auto_columns": null,
            "grid_auto_flow": null,
            "grid_auto_rows": null,
            "grid_column": null,
            "grid_gap": null,
            "grid_row": null,
            "grid_template_areas": null,
            "grid_template_columns": null,
            "grid_template_rows": null,
            "height": null,
            "justify_content": null,
            "justify_items": null,
            "left": null,
            "margin": null,
            "max_height": null,
            "max_width": null,
            "min_height": null,
            "min_width": null,
            "object_fit": null,
            "object_position": null,
            "order": null,
            "overflow": null,
            "overflow_x": null,
            "overflow_y": null,
            "padding": null,
            "right": null,
            "top": null,
            "visibility": null,
            "width": null
          }
        },
        "61f0e545393c48c6b9b6e5aa0cde2fdb": {
          "model_module": "@jupyter-widgets/controls",
          "model_name": "DescriptionStyleModel",
          "model_module_version": "1.5.0",
          "state": {
            "_model_module": "@jupyter-widgets/controls",
            "_model_module_version": "1.5.0",
            "_model_name": "DescriptionStyleModel",
            "_view_count": null,
            "_view_module": "@jupyter-widgets/base",
            "_view_module_version": "1.2.0",
            "_view_name": "StyleView",
            "description_width": ""
          }
        },
        "6b257ef44a1642eb81446ea28afbe83f": {
          "model_module": "@jupyter-widgets/base",
          "model_name": "LayoutModel",
          "model_module_version": "1.2.0",
          "state": {
            "_model_module": "@jupyter-widgets/base",
            "_model_module_version": "1.2.0",
            "_model_name": "LayoutModel",
            "_view_count": null,
            "_view_module": "@jupyter-widgets/base",
            "_view_module_version": "1.2.0",
            "_view_name": "LayoutView",
            "align_content": null,
            "align_items": null,
            "align_self": null,
            "border": null,
            "bottom": null,
            "display": null,
            "flex": null,
            "flex_flow": null,
            "grid_area": null,
            "grid_auto_columns": null,
            "grid_auto_flow": null,
            "grid_auto_rows": null,
            "grid_column": null,
            "grid_gap": null,
            "grid_row": null,
            "grid_template_areas": null,
            "grid_template_columns": null,
            "grid_template_rows": null,
            "height": null,
            "justify_content": null,
            "justify_items": null,
            "left": null,
            "margin": null,
            "max_height": null,
            "max_width": null,
            "min_height": null,
            "min_width": null,
            "object_fit": null,
            "object_position": null,
            "order": null,
            "overflow": null,
            "overflow_x": null,
            "overflow_y": null,
            "padding": null,
            "right": null,
            "top": null,
            "visibility": null,
            "width": null
          }
        },
        "91e843c3fbf64f7ba0b4a1547de407b1": {
          "model_module": "@jupyter-widgets/controls",
          "model_name": "ProgressStyleModel",
          "model_module_version": "1.5.0",
          "state": {
            "_model_module": "@jupyter-widgets/controls",
            "_model_module_version": "1.5.0",
            "_model_name": "ProgressStyleModel",
            "_view_count": null,
            "_view_module": "@jupyter-widgets/base",
            "_view_module_version": "1.2.0",
            "_view_name": "StyleView",
            "bar_color": null,
            "description_width": ""
          }
        },
        "b432b189123448c2acfda868866563d3": {
          "model_module": "@jupyter-widgets/base",
          "model_name": "LayoutModel",
          "model_module_version": "1.2.0",
          "state": {
            "_model_module": "@jupyter-widgets/base",
            "_model_module_version": "1.2.0",
            "_model_name": "LayoutModel",
            "_view_count": null,
            "_view_module": "@jupyter-widgets/base",
            "_view_module_version": "1.2.0",
            "_view_name": "LayoutView",
            "align_content": null,
            "align_items": null,
            "align_self": null,
            "border": null,
            "bottom": null,
            "display": null,
            "flex": null,
            "flex_flow": null,
            "grid_area": null,
            "grid_auto_columns": null,
            "grid_auto_flow": null,
            "grid_auto_rows": null,
            "grid_column": null,
            "grid_gap": null,
            "grid_row": null,
            "grid_template_areas": null,
            "grid_template_columns": null,
            "grid_template_rows": null,
            "height": null,
            "justify_content": null,
            "justify_items": null,
            "left": null,
            "margin": null,
            "max_height": null,
            "max_width": null,
            "min_height": null,
            "min_width": null,
            "object_fit": null,
            "object_position": null,
            "order": null,
            "overflow": null,
            "overflow_x": null,
            "overflow_y": null,
            "padding": null,
            "right": null,
            "top": null,
            "visibility": null,
            "width": null
          }
        },
        "809ab03a147a4ce49561facfa9e1b467": {
          "model_module": "@jupyter-widgets/controls",
          "model_name": "DescriptionStyleModel",
          "model_module_version": "1.5.0",
          "state": {
            "_model_module": "@jupyter-widgets/controls",
            "_model_module_version": "1.5.0",
            "_model_name": "DescriptionStyleModel",
            "_view_count": null,
            "_view_module": "@jupyter-widgets/base",
            "_view_module_version": "1.2.0",
            "_view_name": "StyleView",
            "description_width": ""
          }
        },
        "8d77c5cbd6b043869b0c7a4d4436c6a8": {
          "model_module": "@jupyter-widgets/controls",
          "model_name": "HBoxModel",
          "model_module_version": "1.5.0",
          "state": {
            "_dom_classes": [],
            "_model_module": "@jupyter-widgets/controls",
            "_model_module_version": "1.5.0",
            "_model_name": "HBoxModel",
            "_view_count": null,
            "_view_module": "@jupyter-widgets/controls",
            "_view_module_version": "1.5.0",
            "_view_name": "HBoxView",
            "box_style": "",
            "children": [
              "IPY_MODEL_1654254329124b54b3360e967e4d0992",
              "IPY_MODEL_975a9d5fad8f4b0281d7577060337431",
              "IPY_MODEL_7563c72636d14d5c8d1985df3c1ee229"
            ],
            "layout": "IPY_MODEL_addb664ec5044dab879eae7406b51018"
          }
        },
        "1654254329124b54b3360e967e4d0992": {
          "model_module": "@jupyter-widgets/controls",
          "model_name": "HTMLModel",
          "model_module_version": "1.5.0",
          "state": {
            "_dom_classes": [],
            "_model_module": "@jupyter-widgets/controls",
            "_model_module_version": "1.5.0",
            "_model_name": "HTMLModel",
            "_view_count": null,
            "_view_module": "@jupyter-widgets/controls",
            "_view_module_version": "1.5.0",
            "_view_name": "HTMLView",
            "description": "",
            "description_tooltip": null,
            "layout": "IPY_MODEL_23979285b6014da8951e97b302489f73",
            "placeholder": "​",
            "style": "IPY_MODEL_2b9201a1678f44b58e1ff0d705ba75b1",
            "value": "Loading checkpoint shards: 100%"
          }
        },
        "975a9d5fad8f4b0281d7577060337431": {
          "model_module": "@jupyter-widgets/controls",
          "model_name": "FloatProgressModel",
          "model_module_version": "1.5.0",
          "state": {
            "_dom_classes": [],
            "_model_module": "@jupyter-widgets/controls",
            "_model_module_version": "1.5.0",
            "_model_name": "FloatProgressModel",
            "_view_count": null,
            "_view_module": "@jupyter-widgets/controls",
            "_view_module_version": "1.5.0",
            "_view_name": "ProgressView",
            "bar_style": "success",
            "description": "",
            "description_tooltip": null,
            "layout": "IPY_MODEL_8be1074fb75b4fa69ed7e547632bb7fd",
            "max": 2,
            "min": 0,
            "orientation": "horizontal",
            "style": "IPY_MODEL_28f30a822b2644aa8cc2dd5b48d1faa8",
            "value": 2
          }
        },
        "7563c72636d14d5c8d1985df3c1ee229": {
          "model_module": "@jupyter-widgets/controls",
          "model_name": "HTMLModel",
          "model_module_version": "1.5.0",
          "state": {
            "_dom_classes": [],
            "_model_module": "@jupyter-widgets/controls",
            "_model_module_version": "1.5.0",
            "_model_name": "HTMLModel",
            "_view_count": null,
            "_view_module": "@jupyter-widgets/controls",
            "_view_module_version": "1.5.0",
            "_view_name": "HTMLView",
            "description": "",
            "description_tooltip": null,
            "layout": "IPY_MODEL_11f42e45be4b45c6a9a3804338861039",
            "placeholder": "​",
            "style": "IPY_MODEL_70e3e275568a423495dc3cae69e9e03e",
            "value": " 2/2 [00:39&lt;00:00, 18.49s/it]"
          }
        },
        "addb664ec5044dab879eae7406b51018": {
          "model_module": "@jupyter-widgets/base",
          "model_name": "LayoutModel",
          "model_module_version": "1.2.0",
          "state": {
            "_model_module": "@jupyter-widgets/base",
            "_model_module_version": "1.2.0",
            "_model_name": "LayoutModel",
            "_view_count": null,
            "_view_module": "@jupyter-widgets/base",
            "_view_module_version": "1.2.0",
            "_view_name": "LayoutView",
            "align_content": null,
            "align_items": null,
            "align_self": null,
            "border": null,
            "bottom": null,
            "display": null,
            "flex": null,
            "flex_flow": null,
            "grid_area": null,
            "grid_auto_columns": null,
            "grid_auto_flow": null,
            "grid_auto_rows": null,
            "grid_column": null,
            "grid_gap": null,
            "grid_row": null,
            "grid_template_areas": null,
            "grid_template_columns": null,
            "grid_template_rows": null,
            "height": null,
            "justify_content": null,
            "justify_items": null,
            "left": null,
            "margin": null,
            "max_height": null,
            "max_width": null,
            "min_height": null,
            "min_width": null,
            "object_fit": null,
            "object_position": null,
            "order": null,
            "overflow": null,
            "overflow_x": null,
            "overflow_y": null,
            "padding": null,
            "right": null,
            "top": null,
            "visibility": null,
            "width": null
          }
        },
        "23979285b6014da8951e97b302489f73": {
          "model_module": "@jupyter-widgets/base",
          "model_name": "LayoutModel",
          "model_module_version": "1.2.0",
          "state": {
            "_model_module": "@jupyter-widgets/base",
            "_model_module_version": "1.2.0",
            "_model_name": "LayoutModel",
            "_view_count": null,
            "_view_module": "@jupyter-widgets/base",
            "_view_module_version": "1.2.0",
            "_view_name": "LayoutView",
            "align_content": null,
            "align_items": null,
            "align_self": null,
            "border": null,
            "bottom": null,
            "display": null,
            "flex": null,
            "flex_flow": null,
            "grid_area": null,
            "grid_auto_columns": null,
            "grid_auto_flow": null,
            "grid_auto_rows": null,
            "grid_column": null,
            "grid_gap": null,
            "grid_row": null,
            "grid_template_areas": null,
            "grid_template_columns": null,
            "grid_template_rows": null,
            "height": null,
            "justify_content": null,
            "justify_items": null,
            "left": null,
            "margin": null,
            "max_height": null,
            "max_width": null,
            "min_height": null,
            "min_width": null,
            "object_fit": null,
            "object_position": null,
            "order": null,
            "overflow": null,
            "overflow_x": null,
            "overflow_y": null,
            "padding": null,
            "right": null,
            "top": null,
            "visibility": null,
            "width": null
          }
        },
        "2b9201a1678f44b58e1ff0d705ba75b1": {
          "model_module": "@jupyter-widgets/controls",
          "model_name": "DescriptionStyleModel",
          "model_module_version": "1.5.0",
          "state": {
            "_model_module": "@jupyter-widgets/controls",
            "_model_module_version": "1.5.0",
            "_model_name": "DescriptionStyleModel",
            "_view_count": null,
            "_view_module": "@jupyter-widgets/base",
            "_view_module_version": "1.2.0",
            "_view_name": "StyleView",
            "description_width": ""
          }
        },
        "8be1074fb75b4fa69ed7e547632bb7fd": {
          "model_module": "@jupyter-widgets/base",
          "model_name": "LayoutModel",
          "model_module_version": "1.2.0",
          "state": {
            "_model_module": "@jupyter-widgets/base",
            "_model_module_version": "1.2.0",
            "_model_name": "LayoutModel",
            "_view_count": null,
            "_view_module": "@jupyter-widgets/base",
            "_view_module_version": "1.2.0",
            "_view_name": "LayoutView",
            "align_content": null,
            "align_items": null,
            "align_self": null,
            "border": null,
            "bottom": null,
            "display": null,
            "flex": null,
            "flex_flow": null,
            "grid_area": null,
            "grid_auto_columns": null,
            "grid_auto_flow": null,
            "grid_auto_rows": null,
            "grid_column": null,
            "grid_gap": null,
            "grid_row": null,
            "grid_template_areas": null,
            "grid_template_columns": null,
            "grid_template_rows": null,
            "height": null,
            "justify_content": null,
            "justify_items": null,
            "left": null,
            "margin": null,
            "max_height": null,
            "max_width": null,
            "min_height": null,
            "min_width": null,
            "object_fit": null,
            "object_position": null,
            "order": null,
            "overflow": null,
            "overflow_x": null,
            "overflow_y": null,
            "padding": null,
            "right": null,
            "top": null,
            "visibility": null,
            "width": null
          }
        },
        "28f30a822b2644aa8cc2dd5b48d1faa8": {
          "model_module": "@jupyter-widgets/controls",
          "model_name": "ProgressStyleModel",
          "model_module_version": "1.5.0",
          "state": {
            "_model_module": "@jupyter-widgets/controls",
            "_model_module_version": "1.5.0",
            "_model_name": "ProgressStyleModel",
            "_view_count": null,
            "_view_module": "@jupyter-widgets/base",
            "_view_module_version": "1.2.0",
            "_view_name": "StyleView",
            "bar_color": null,
            "description_width": ""
          }
        },
        "11f42e45be4b45c6a9a3804338861039": {
          "model_module": "@jupyter-widgets/base",
          "model_name": "LayoutModel",
          "model_module_version": "1.2.0",
          "state": {
            "_model_module": "@jupyter-widgets/base",
            "_model_module_version": "1.2.0",
            "_model_name": "LayoutModel",
            "_view_count": null,
            "_view_module": "@jupyter-widgets/base",
            "_view_module_version": "1.2.0",
            "_view_name": "LayoutView",
            "align_content": null,
            "align_items": null,
            "align_self": null,
            "border": null,
            "bottom": null,
            "display": null,
            "flex": null,
            "flex_flow": null,
            "grid_area": null,
            "grid_auto_columns": null,
            "grid_auto_flow": null,
            "grid_auto_rows": null,
            "grid_column": null,
            "grid_gap": null,
            "grid_row": null,
            "grid_template_areas": null,
            "grid_template_columns": null,
            "grid_template_rows": null,
            "height": null,
            "justify_content": null,
            "justify_items": null,
            "left": null,
            "margin": null,
            "max_height": null,
            "max_width": null,
            "min_height": null,
            "min_width": null,
            "object_fit": null,
            "object_position": null,
            "order": null,
            "overflow": null,
            "overflow_x": null,
            "overflow_y": null,
            "padding": null,
            "right": null,
            "top": null,
            "visibility": null,
            "width": null
          }
        },
        "70e3e275568a423495dc3cae69e9e03e": {
          "model_module": "@jupyter-widgets/controls",
          "model_name": "DescriptionStyleModel",
          "model_module_version": "1.5.0",
          "state": {
            "_model_module": "@jupyter-widgets/controls",
            "_model_module_version": "1.5.0",
            "_model_name": "DescriptionStyleModel",
            "_view_count": null,
            "_view_module": "@jupyter-widgets/base",
            "_view_module_version": "1.2.0",
            "_view_name": "StyleView",
            "description_width": ""
          }
        },
        "d2a7fe62433b440e916d5da9d392ea66": {
          "model_module": "@jupyter-widgets/controls",
          "model_name": "HBoxModel",
          "model_module_version": "1.5.0",
          "state": {
            "_dom_classes": [],
            "_model_module": "@jupyter-widgets/controls",
            "_model_module_version": "1.5.0",
            "_model_name": "HBoxModel",
            "_view_count": null,
            "_view_module": "@jupyter-widgets/controls",
            "_view_module_version": "1.5.0",
            "_view_name": "HBoxView",
            "box_style": "",
            "children": [
              "IPY_MODEL_bc4f94cd2b2c40b184a8c6823519a187",
              "IPY_MODEL_64561e40eb4e45f5add666e7487cab85",
              "IPY_MODEL_78cca3a156d04f9183ed80fbcc502c09"
            ],
            "layout": "IPY_MODEL_ce23201b25de4eefa6032dafc5f6394c"
          }
        },
        "bc4f94cd2b2c40b184a8c6823519a187": {
          "model_module": "@jupyter-widgets/controls",
          "model_name": "HTMLModel",
          "model_module_version": "1.5.0",
          "state": {
            "_dom_classes": [],
            "_model_module": "@jupyter-widgets/controls",
            "_model_module_version": "1.5.0",
            "_model_name": "HTMLModel",
            "_view_count": null,
            "_view_module": "@jupyter-widgets/controls",
            "_view_module_version": "1.5.0",
            "_view_name": "HTMLView",
            "description": "",
            "description_tooltip": null,
            "layout": "IPY_MODEL_0d17b01959ec4d3e8335feedaedbf393",
            "placeholder": "​",
            "style": "IPY_MODEL_672697ad217c4ce7b16154370f5967d5",
            "value": "Parsing nodes: 100%"
          }
        },
        "64561e40eb4e45f5add666e7487cab85": {
          "model_module": "@jupyter-widgets/controls",
          "model_name": "FloatProgressModel",
          "model_module_version": "1.5.0",
          "state": {
            "_dom_classes": [],
            "_model_module": "@jupyter-widgets/controls",
            "_model_module_version": "1.5.0",
            "_model_name": "FloatProgressModel",
            "_view_count": null,
            "_view_module": "@jupyter-widgets/controls",
            "_view_module_version": "1.5.0",
            "_view_name": "ProgressView",
            "bar_style": "success",
            "description": "",
            "description_tooltip": null,
            "layout": "IPY_MODEL_8b0ea0634fb341ffaf42625a7257e605",
            "max": 1,
            "min": 0,
            "orientation": "horizontal",
            "style": "IPY_MODEL_2a5b553988774ac987a8510dbb741a4e",
            "value": 1
          }
        },
        "78cca3a156d04f9183ed80fbcc502c09": {
          "model_module": "@jupyter-widgets/controls",
          "model_name": "HTMLModel",
          "model_module_version": "1.5.0",
          "state": {
            "_dom_classes": [],
            "_model_module": "@jupyter-widgets/controls",
            "_model_module_version": "1.5.0",
            "_model_name": "HTMLModel",
            "_view_count": null,
            "_view_module": "@jupyter-widgets/controls",
            "_view_module_version": "1.5.0",
            "_view_name": "HTMLView",
            "description": "",
            "description_tooltip": null,
            "layout": "IPY_MODEL_bb7f324ddc2446fd97f8a0bfeaa0bdec",
            "placeholder": "​",
            "style": "IPY_MODEL_7cdf68d9708c4cfdb52ab643a3469ce9",
            "value": " 1/1 [00:00&lt;00:00, 10.52it/s]"
          }
        },
        "ce23201b25de4eefa6032dafc5f6394c": {
          "model_module": "@jupyter-widgets/base",
          "model_name": "LayoutModel",
          "model_module_version": "1.2.0",
          "state": {
            "_model_module": "@jupyter-widgets/base",
            "_model_module_version": "1.2.0",
            "_model_name": "LayoutModel",
            "_view_count": null,
            "_view_module": "@jupyter-widgets/base",
            "_view_module_version": "1.2.0",
            "_view_name": "LayoutView",
            "align_content": null,
            "align_items": null,
            "align_self": null,
            "border": null,
            "bottom": null,
            "display": null,
            "flex": null,
            "flex_flow": null,
            "grid_area": null,
            "grid_auto_columns": null,
            "grid_auto_flow": null,
            "grid_auto_rows": null,
            "grid_column": null,
            "grid_gap": null,
            "grid_row": null,
            "grid_template_areas": null,
            "grid_template_columns": null,
            "grid_template_rows": null,
            "height": null,
            "justify_content": null,
            "justify_items": null,
            "left": null,
            "margin": null,
            "max_height": null,
            "max_width": null,
            "min_height": null,
            "min_width": null,
            "object_fit": null,
            "object_position": null,
            "order": null,
            "overflow": null,
            "overflow_x": null,
            "overflow_y": null,
            "padding": null,
            "right": null,
            "top": null,
            "visibility": null,
            "width": null
          }
        },
        "0d17b01959ec4d3e8335feedaedbf393": {
          "model_module": "@jupyter-widgets/base",
          "model_name": "LayoutModel",
          "model_module_version": "1.2.0",
          "state": {
            "_model_module": "@jupyter-widgets/base",
            "_model_module_version": "1.2.0",
            "_model_name": "LayoutModel",
            "_view_count": null,
            "_view_module": "@jupyter-widgets/base",
            "_view_module_version": "1.2.0",
            "_view_name": "LayoutView",
            "align_content": null,
            "align_items": null,
            "align_self": null,
            "border": null,
            "bottom": null,
            "display": null,
            "flex": null,
            "flex_flow": null,
            "grid_area": null,
            "grid_auto_columns": null,
            "grid_auto_flow": null,
            "grid_auto_rows": null,
            "grid_column": null,
            "grid_gap": null,
            "grid_row": null,
            "grid_template_areas": null,
            "grid_template_columns": null,
            "grid_template_rows": null,
            "height": null,
            "justify_content": null,
            "justify_items": null,
            "left": null,
            "margin": null,
            "max_height": null,
            "max_width": null,
            "min_height": null,
            "min_width": null,
            "object_fit": null,
            "object_position": null,
            "order": null,
            "overflow": null,
            "overflow_x": null,
            "overflow_y": null,
            "padding": null,
            "right": null,
            "top": null,
            "visibility": null,
            "width": null
          }
        },
        "672697ad217c4ce7b16154370f5967d5": {
          "model_module": "@jupyter-widgets/controls",
          "model_name": "DescriptionStyleModel",
          "model_module_version": "1.5.0",
          "state": {
            "_model_module": "@jupyter-widgets/controls",
            "_model_module_version": "1.5.0",
            "_model_name": "DescriptionStyleModel",
            "_view_count": null,
            "_view_module": "@jupyter-widgets/base",
            "_view_module_version": "1.2.0",
            "_view_name": "StyleView",
            "description_width": ""
          }
        },
        "8b0ea0634fb341ffaf42625a7257e605": {
          "model_module": "@jupyter-widgets/base",
          "model_name": "LayoutModel",
          "model_module_version": "1.2.0",
          "state": {
            "_model_module": "@jupyter-widgets/base",
            "_model_module_version": "1.2.0",
            "_model_name": "LayoutModel",
            "_view_count": null,
            "_view_module": "@jupyter-widgets/base",
            "_view_module_version": "1.2.0",
            "_view_name": "LayoutView",
            "align_content": null,
            "align_items": null,
            "align_self": null,
            "border": null,
            "bottom": null,
            "display": null,
            "flex": null,
            "flex_flow": null,
            "grid_area": null,
            "grid_auto_columns": null,
            "grid_auto_flow": null,
            "grid_auto_rows": null,
            "grid_column": null,
            "grid_gap": null,
            "grid_row": null,
            "grid_template_areas": null,
            "grid_template_columns": null,
            "grid_template_rows": null,
            "height": null,
            "justify_content": null,
            "justify_items": null,
            "left": null,
            "margin": null,
            "max_height": null,
            "max_width": null,
            "min_height": null,
            "min_width": null,
            "object_fit": null,
            "object_position": null,
            "order": null,
            "overflow": null,
            "overflow_x": null,
            "overflow_y": null,
            "padding": null,
            "right": null,
            "top": null,
            "visibility": null,
            "width": null
          }
        },
        "2a5b553988774ac987a8510dbb741a4e": {
          "model_module": "@jupyter-widgets/controls",
          "model_name": "ProgressStyleModel",
          "model_module_version": "1.5.0",
          "state": {
            "_model_module": "@jupyter-widgets/controls",
            "_model_module_version": "1.5.0",
            "_model_name": "ProgressStyleModel",
            "_view_count": null,
            "_view_module": "@jupyter-widgets/base",
            "_view_module_version": "1.2.0",
            "_view_name": "StyleView",
            "bar_color": null,
            "description_width": ""
          }
        },
        "bb7f324ddc2446fd97f8a0bfeaa0bdec": {
          "model_module": "@jupyter-widgets/base",
          "model_name": "LayoutModel",
          "model_module_version": "1.2.0",
          "state": {
            "_model_module": "@jupyter-widgets/base",
            "_model_module_version": "1.2.0",
            "_model_name": "LayoutModel",
            "_view_count": null,
            "_view_module": "@jupyter-widgets/base",
            "_view_module_version": "1.2.0",
            "_view_name": "LayoutView",
            "align_content": null,
            "align_items": null,
            "align_self": null,
            "border": null,
            "bottom": null,
            "display": null,
            "flex": null,
            "flex_flow": null,
            "grid_area": null,
            "grid_auto_columns": null,
            "grid_auto_flow": null,
            "grid_auto_rows": null,
            "grid_column": null,
            "grid_gap": null,
            "grid_row": null,
            "grid_template_areas": null,
            "grid_template_columns": null,
            "grid_template_rows": null,
            "height": null,
            "justify_content": null,
            "justify_items": null,
            "left": null,
            "margin": null,
            "max_height": null,
            "max_width": null,
            "min_height": null,
            "min_width": null,
            "object_fit": null,
            "object_position": null,
            "order": null,
            "overflow": null,
            "overflow_x": null,
            "overflow_y": null,
            "padding": null,
            "right": null,
            "top": null,
            "visibility": null,
            "width": null
          }
        },
        "7cdf68d9708c4cfdb52ab643a3469ce9": {
          "model_module": "@jupyter-widgets/controls",
          "model_name": "DescriptionStyleModel",
          "model_module_version": "1.5.0",
          "state": {
            "_model_module": "@jupyter-widgets/controls",
            "_model_module_version": "1.5.0",
            "_model_name": "DescriptionStyleModel",
            "_view_count": null,
            "_view_module": "@jupyter-widgets/base",
            "_view_module_version": "1.2.0",
            "_view_name": "StyleView",
            "description_width": ""
          }
        },
        "a940dada0bc84409a6e1d4d7fc280b51": {
          "model_module": "@jupyter-widgets/controls",
          "model_name": "HBoxModel",
          "model_module_version": "1.5.0",
          "state": {
            "_dom_classes": [],
            "_model_module": "@jupyter-widgets/controls",
            "_model_module_version": "1.5.0",
            "_model_name": "HBoxModel",
            "_view_count": null,
            "_view_module": "@jupyter-widgets/controls",
            "_view_module_version": "1.5.0",
            "_view_name": "HBoxView",
            "box_style": "",
            "children": [
              "IPY_MODEL_9b2429bc0a33427c9d14d97ee698ef7d",
              "IPY_MODEL_c3fd579d9f5a4e469b713ea542f65071",
              "IPY_MODEL_bce1cd3bf5f643308c2ba475e7032792"
            ],
            "layout": "IPY_MODEL_92efd2f207724dc3ae82aa424683be36"
          }
        },
        "9b2429bc0a33427c9d14d97ee698ef7d": {
          "model_module": "@jupyter-widgets/controls",
          "model_name": "HTMLModel",
          "model_module_version": "1.5.0",
          "state": {
            "_dom_classes": [],
            "_model_module": "@jupyter-widgets/controls",
            "_model_module_version": "1.5.0",
            "_model_name": "HTMLModel",
            "_view_count": null,
            "_view_module": "@jupyter-widgets/controls",
            "_view_module_version": "1.5.0",
            "_view_name": "HTMLView",
            "description": "",
            "description_tooltip": null,
            "layout": "IPY_MODEL_bba9354ec6e74251b9be617b1594f25a",
            "placeholder": "​",
            "style": "IPY_MODEL_283e9526c51c4ebd914a85f7897f2922",
            "value": "Parsing nodes: 100%"
          }
        },
        "c3fd579d9f5a4e469b713ea542f65071": {
          "model_module": "@jupyter-widgets/controls",
          "model_name": "FloatProgressModel",
          "model_module_version": "1.5.0",
          "state": {
            "_dom_classes": [],
            "_model_module": "@jupyter-widgets/controls",
            "_model_module_version": "1.5.0",
            "_model_name": "FloatProgressModel",
            "_view_count": null,
            "_view_module": "@jupyter-widgets/controls",
            "_view_module_version": "1.5.0",
            "_view_name": "ProgressView",
            "bar_style": "success",
            "description": "",
            "description_tooltip": null,
            "layout": "IPY_MODEL_f21e18a821e741cf8e4d5a72e90833fe",
            "max": 3,
            "min": 0,
            "orientation": "horizontal",
            "style": "IPY_MODEL_91ced93d22f4426d93caf7e4cbeac39d",
            "value": 3
          }
        },
        "bce1cd3bf5f643308c2ba475e7032792": {
          "model_module": "@jupyter-widgets/controls",
          "model_name": "HTMLModel",
          "model_module_version": "1.5.0",
          "state": {
            "_dom_classes": [],
            "_model_module": "@jupyter-widgets/controls",
            "_model_module_version": "1.5.0",
            "_model_name": "HTMLModel",
            "_view_count": null,
            "_view_module": "@jupyter-widgets/controls",
            "_view_module_version": "1.5.0",
            "_view_name": "HTMLView",
            "description": "",
            "description_tooltip": null,
            "layout": "IPY_MODEL_d4e82fda8b3b49ce8a857f2083a00bb1",
            "placeholder": "​",
            "style": "IPY_MODEL_5b3d162cfcaa49a3a82dad5d46f99a4b",
            "value": " 3/3 [00:00&lt;00:00,  6.64it/s]"
          }
        },
        "92efd2f207724dc3ae82aa424683be36": {
          "model_module": "@jupyter-widgets/base",
          "model_name": "LayoutModel",
          "model_module_version": "1.2.0",
          "state": {
            "_model_module": "@jupyter-widgets/base",
            "_model_module_version": "1.2.0",
            "_model_name": "LayoutModel",
            "_view_count": null,
            "_view_module": "@jupyter-widgets/base",
            "_view_module_version": "1.2.0",
            "_view_name": "LayoutView",
            "align_content": null,
            "align_items": null,
            "align_self": null,
            "border": null,
            "bottom": null,
            "display": null,
            "flex": null,
            "flex_flow": null,
            "grid_area": null,
            "grid_auto_columns": null,
            "grid_auto_flow": null,
            "grid_auto_rows": null,
            "grid_column": null,
            "grid_gap": null,
            "grid_row": null,
            "grid_template_areas": null,
            "grid_template_columns": null,
            "grid_template_rows": null,
            "height": null,
            "justify_content": null,
            "justify_items": null,
            "left": null,
            "margin": null,
            "max_height": null,
            "max_width": null,
            "min_height": null,
            "min_width": null,
            "object_fit": null,
            "object_position": null,
            "order": null,
            "overflow": null,
            "overflow_x": null,
            "overflow_y": null,
            "padding": null,
            "right": null,
            "top": null,
            "visibility": null,
            "width": null
          }
        },
        "bba9354ec6e74251b9be617b1594f25a": {
          "model_module": "@jupyter-widgets/base",
          "model_name": "LayoutModel",
          "model_module_version": "1.2.0",
          "state": {
            "_model_module": "@jupyter-widgets/base",
            "_model_module_version": "1.2.0",
            "_model_name": "LayoutModel",
            "_view_count": null,
            "_view_module": "@jupyter-widgets/base",
            "_view_module_version": "1.2.0",
            "_view_name": "LayoutView",
            "align_content": null,
            "align_items": null,
            "align_self": null,
            "border": null,
            "bottom": null,
            "display": null,
            "flex": null,
            "flex_flow": null,
            "grid_area": null,
            "grid_auto_columns": null,
            "grid_auto_flow": null,
            "grid_auto_rows": null,
            "grid_column": null,
            "grid_gap": null,
            "grid_row": null,
            "grid_template_areas": null,
            "grid_template_columns": null,
            "grid_template_rows": null,
            "height": null,
            "justify_content": null,
            "justify_items": null,
            "left": null,
            "margin": null,
            "max_height": null,
            "max_width": null,
            "min_height": null,
            "min_width": null,
            "object_fit": null,
            "object_position": null,
            "order": null,
            "overflow": null,
            "overflow_x": null,
            "overflow_y": null,
            "padding": null,
            "right": null,
            "top": null,
            "visibility": null,
            "width": null
          }
        },
        "283e9526c51c4ebd914a85f7897f2922": {
          "model_module": "@jupyter-widgets/controls",
          "model_name": "DescriptionStyleModel",
          "model_module_version": "1.5.0",
          "state": {
            "_model_module": "@jupyter-widgets/controls",
            "_model_module_version": "1.5.0",
            "_model_name": "DescriptionStyleModel",
            "_view_count": null,
            "_view_module": "@jupyter-widgets/base",
            "_view_module_version": "1.2.0",
            "_view_name": "StyleView",
            "description_width": ""
          }
        },
        "f21e18a821e741cf8e4d5a72e90833fe": {
          "model_module": "@jupyter-widgets/base",
          "model_name": "LayoutModel",
          "model_module_version": "1.2.0",
          "state": {
            "_model_module": "@jupyter-widgets/base",
            "_model_module_version": "1.2.0",
            "_model_name": "LayoutModel",
            "_view_count": null,
            "_view_module": "@jupyter-widgets/base",
            "_view_module_version": "1.2.0",
            "_view_name": "LayoutView",
            "align_content": null,
            "align_items": null,
            "align_self": null,
            "border": null,
            "bottom": null,
            "display": null,
            "flex": null,
            "flex_flow": null,
            "grid_area": null,
            "grid_auto_columns": null,
            "grid_auto_flow": null,
            "grid_auto_rows": null,
            "grid_column": null,
            "grid_gap": null,
            "grid_row": null,
            "grid_template_areas": null,
            "grid_template_columns": null,
            "grid_template_rows": null,
            "height": null,
            "justify_content": null,
            "justify_items": null,
            "left": null,
            "margin": null,
            "max_height": null,
            "max_width": null,
            "min_height": null,
            "min_width": null,
            "object_fit": null,
            "object_position": null,
            "order": null,
            "overflow": null,
            "overflow_x": null,
            "overflow_y": null,
            "padding": null,
            "right": null,
            "top": null,
            "visibility": null,
            "width": null
          }
        },
        "91ced93d22f4426d93caf7e4cbeac39d": {
          "model_module": "@jupyter-widgets/controls",
          "model_name": "ProgressStyleModel",
          "model_module_version": "1.5.0",
          "state": {
            "_model_module": "@jupyter-widgets/controls",
            "_model_module_version": "1.5.0",
            "_model_name": "ProgressStyleModel",
            "_view_count": null,
            "_view_module": "@jupyter-widgets/base",
            "_view_module_version": "1.2.0",
            "_view_name": "StyleView",
            "bar_color": null,
            "description_width": ""
          }
        },
        "d4e82fda8b3b49ce8a857f2083a00bb1": {
          "model_module": "@jupyter-widgets/base",
          "model_name": "LayoutModel",
          "model_module_version": "1.2.0",
          "state": {
            "_model_module": "@jupyter-widgets/base",
            "_model_module_version": "1.2.0",
            "_model_name": "LayoutModel",
            "_view_count": null,
            "_view_module": "@jupyter-widgets/base",
            "_view_module_version": "1.2.0",
            "_view_name": "LayoutView",
            "align_content": null,
            "align_items": null,
            "align_self": null,
            "border": null,
            "bottom": null,
            "display": null,
            "flex": null,
            "flex_flow": null,
            "grid_area": null,
            "grid_auto_columns": null,
            "grid_auto_flow": null,
            "grid_auto_rows": null,
            "grid_column": null,
            "grid_gap": null,
            "grid_row": null,
            "grid_template_areas": null,
            "grid_template_columns": null,
            "grid_template_rows": null,
            "height": null,
            "justify_content": null,
            "justify_items": null,
            "left": null,
            "margin": null,
            "max_height": null,
            "max_width": null,
            "min_height": null,
            "min_width": null,
            "object_fit": null,
            "object_position": null,
            "order": null,
            "overflow": null,
            "overflow_x": null,
            "overflow_y": null,
            "padding": null,
            "right": null,
            "top": null,
            "visibility": null,
            "width": null
          }
        },
        "5b3d162cfcaa49a3a82dad5d46f99a4b": {
          "model_module": "@jupyter-widgets/controls",
          "model_name": "DescriptionStyleModel",
          "model_module_version": "1.5.0",
          "state": {
            "_model_module": "@jupyter-widgets/controls",
            "_model_module_version": "1.5.0",
            "_model_name": "DescriptionStyleModel",
            "_view_count": null,
            "_view_module": "@jupyter-widgets/base",
            "_view_module_version": "1.2.0",
            "_view_name": "StyleView",
            "description_width": ""
          }
        },
        "f73abd7746b14bd6b2b44777eeeeda5d": {
          "model_module": "@jupyter-widgets/controls",
          "model_name": "HBoxModel",
          "model_module_version": "1.5.0",
          "state": {
            "_dom_classes": [],
            "_model_module": "@jupyter-widgets/controls",
            "_model_module_version": "1.5.0",
            "_model_name": "HBoxModel",
            "_view_count": null,
            "_view_module": "@jupyter-widgets/controls",
            "_view_module_version": "1.5.0",
            "_view_name": "HBoxView",
            "box_style": "",
            "children": [
              "IPY_MODEL_345cf7773caf437fa73d96eb3b68d043",
              "IPY_MODEL_a721acad9f104f6cba82920b280e7461",
              "IPY_MODEL_4db10da826e745e9ba642d3c4195fdde"
            ],
            "layout": "IPY_MODEL_a1081aedf23a4534949a6b0522344455"
          }
        },
        "345cf7773caf437fa73d96eb3b68d043": {
          "model_module": "@jupyter-widgets/controls",
          "model_name": "HTMLModel",
          "model_module_version": "1.5.0",
          "state": {
            "_dom_classes": [],
            "_model_module": "@jupyter-widgets/controls",
            "_model_module_version": "1.5.0",
            "_model_name": "HTMLModel",
            "_view_count": null,
            "_view_module": "@jupyter-widgets/controls",
            "_view_module_version": "1.5.0",
            "_view_name": "HTMLView",
            "description": "",
            "description_tooltip": null,
            "layout": "IPY_MODEL_7be85d26b20b40c2989497693ffb15ba",
            "placeholder": "​",
            "style": "IPY_MODEL_aa1a74f194a640dca29d8d20dcb75a83",
            "value": "model.safetensors.index.json: 100%"
          }
        },
        "a721acad9f104f6cba82920b280e7461": {
          "model_module": "@jupyter-widgets/controls",
          "model_name": "FloatProgressModel",
          "model_module_version": "1.5.0",
          "state": {
            "_dom_classes": [],
            "_model_module": "@jupyter-widgets/controls",
            "_model_module_version": "1.5.0",
            "_model_name": "FloatProgressModel",
            "_view_count": null,
            "_view_module": "@jupyter-widgets/controls",
            "_view_module_version": "1.5.0",
            "_view_name": "ProgressView",
            "bar_style": "success",
            "description": "",
            "description_tooltip": null,
            "layout": "IPY_MODEL_785a1bc973d642018a6444a245715541",
            "max": 23950,
            "min": 0,
            "orientation": "horizontal",
            "style": "IPY_MODEL_75f16d0da63c48a2adc03ed1266fd62d",
            "value": 23950
          }
        },
        "4db10da826e745e9ba642d3c4195fdde": {
          "model_module": "@jupyter-widgets/controls",
          "model_name": "HTMLModel",
          "model_module_version": "1.5.0",
          "state": {
            "_dom_classes": [],
            "_model_module": "@jupyter-widgets/controls",
            "_model_module_version": "1.5.0",
            "_model_name": "HTMLModel",
            "_view_count": null,
            "_view_module": "@jupyter-widgets/controls",
            "_view_module_version": "1.5.0",
            "_view_name": "HTMLView",
            "description": "",
            "description_tooltip": null,
            "layout": "IPY_MODEL_d596c3ee0b424781b3df0fd9aebd073c",
            "placeholder": "​",
            "style": "IPY_MODEL_1fc6fdf103e84ba5a504b4d09c48b589",
            "value": " 23.9k/23.9k [00:00&lt;00:00, 1.23MB/s]"
          }
        },
        "a1081aedf23a4534949a6b0522344455": {
          "model_module": "@jupyter-widgets/base",
          "model_name": "LayoutModel",
          "model_module_version": "1.2.0",
          "state": {
            "_model_module": "@jupyter-widgets/base",
            "_model_module_version": "1.2.0",
            "_model_name": "LayoutModel",
            "_view_count": null,
            "_view_module": "@jupyter-widgets/base",
            "_view_module_version": "1.2.0",
            "_view_name": "LayoutView",
            "align_content": null,
            "align_items": null,
            "align_self": null,
            "border": null,
            "bottom": null,
            "display": null,
            "flex": null,
            "flex_flow": null,
            "grid_area": null,
            "grid_auto_columns": null,
            "grid_auto_flow": null,
            "grid_auto_rows": null,
            "grid_column": null,
            "grid_gap": null,
            "grid_row": null,
            "grid_template_areas": null,
            "grid_template_columns": null,
            "grid_template_rows": null,
            "height": null,
            "justify_content": null,
            "justify_items": null,
            "left": null,
            "margin": null,
            "max_height": null,
            "max_width": null,
            "min_height": null,
            "min_width": null,
            "object_fit": null,
            "object_position": null,
            "order": null,
            "overflow": null,
            "overflow_x": null,
            "overflow_y": null,
            "padding": null,
            "right": null,
            "top": null,
            "visibility": null,
            "width": null
          }
        },
        "7be85d26b20b40c2989497693ffb15ba": {
          "model_module": "@jupyter-widgets/base",
          "model_name": "LayoutModel",
          "model_module_version": "1.2.0",
          "state": {
            "_model_module": "@jupyter-widgets/base",
            "_model_module_version": "1.2.0",
            "_model_name": "LayoutModel",
            "_view_count": null,
            "_view_module": "@jupyter-widgets/base",
            "_view_module_version": "1.2.0",
            "_view_name": "LayoutView",
            "align_content": null,
            "align_items": null,
            "align_self": null,
            "border": null,
            "bottom": null,
            "display": null,
            "flex": null,
            "flex_flow": null,
            "grid_area": null,
            "grid_auto_columns": null,
            "grid_auto_flow": null,
            "grid_auto_rows": null,
            "grid_column": null,
            "grid_gap": null,
            "grid_row": null,
            "grid_template_areas": null,
            "grid_template_columns": null,
            "grid_template_rows": null,
            "height": null,
            "justify_content": null,
            "justify_items": null,
            "left": null,
            "margin": null,
            "max_height": null,
            "max_width": null,
            "min_height": null,
            "min_width": null,
            "object_fit": null,
            "object_position": null,
            "order": null,
            "overflow": null,
            "overflow_x": null,
            "overflow_y": null,
            "padding": null,
            "right": null,
            "top": null,
            "visibility": null,
            "width": null
          }
        },
        "aa1a74f194a640dca29d8d20dcb75a83": {
          "model_module": "@jupyter-widgets/controls",
          "model_name": "DescriptionStyleModel",
          "model_module_version": "1.5.0",
          "state": {
            "_model_module": "@jupyter-widgets/controls",
            "_model_module_version": "1.5.0",
            "_model_name": "DescriptionStyleModel",
            "_view_count": null,
            "_view_module": "@jupyter-widgets/base",
            "_view_module_version": "1.2.0",
            "_view_name": "StyleView",
            "description_width": ""
          }
        },
        "785a1bc973d642018a6444a245715541": {
          "model_module": "@jupyter-widgets/base",
          "model_name": "LayoutModel",
          "model_module_version": "1.2.0",
          "state": {
            "_model_module": "@jupyter-widgets/base",
            "_model_module_version": "1.2.0",
            "_model_name": "LayoutModel",
            "_view_count": null,
            "_view_module": "@jupyter-widgets/base",
            "_view_module_version": "1.2.0",
            "_view_name": "LayoutView",
            "align_content": null,
            "align_items": null,
            "align_self": null,
            "border": null,
            "bottom": null,
            "display": null,
            "flex": null,
            "flex_flow": null,
            "grid_area": null,
            "grid_auto_columns": null,
            "grid_auto_flow": null,
            "grid_auto_rows": null,
            "grid_column": null,
            "grid_gap": null,
            "grid_row": null,
            "grid_template_areas": null,
            "grid_template_columns": null,
            "grid_template_rows": null,
            "height": null,
            "justify_content": null,
            "justify_items": null,
            "left": null,
            "margin": null,
            "max_height": null,
            "max_width": null,
            "min_height": null,
            "min_width": null,
            "object_fit": null,
            "object_position": null,
            "order": null,
            "overflow": null,
            "overflow_x": null,
            "overflow_y": null,
            "padding": null,
            "right": null,
            "top": null,
            "visibility": null,
            "width": null
          }
        },
        "75f16d0da63c48a2adc03ed1266fd62d": {
          "model_module": "@jupyter-widgets/controls",
          "model_name": "ProgressStyleModel",
          "model_module_version": "1.5.0",
          "state": {
            "_model_module": "@jupyter-widgets/controls",
            "_model_module_version": "1.5.0",
            "_model_name": "ProgressStyleModel",
            "_view_count": null,
            "_view_module": "@jupyter-widgets/base",
            "_view_module_version": "1.2.0",
            "_view_name": "StyleView",
            "bar_color": null,
            "description_width": ""
          }
        },
        "d596c3ee0b424781b3df0fd9aebd073c": {
          "model_module": "@jupyter-widgets/base",
          "model_name": "LayoutModel",
          "model_module_version": "1.2.0",
          "state": {
            "_model_module": "@jupyter-widgets/base",
            "_model_module_version": "1.2.0",
            "_model_name": "LayoutModel",
            "_view_count": null,
            "_view_module": "@jupyter-widgets/base",
            "_view_module_version": "1.2.0",
            "_view_name": "LayoutView",
            "align_content": null,
            "align_items": null,
            "align_self": null,
            "border": null,
            "bottom": null,
            "display": null,
            "flex": null,
            "flex_flow": null,
            "grid_area": null,
            "grid_auto_columns": null,
            "grid_auto_flow": null,
            "grid_auto_rows": null,
            "grid_column": null,
            "grid_gap": null,
            "grid_row": null,
            "grid_template_areas": null,
            "grid_template_columns": null,
            "grid_template_rows": null,
            "height": null,
            "justify_content": null,
            "justify_items": null,
            "left": null,
            "margin": null,
            "max_height": null,
            "max_width": null,
            "min_height": null,
            "min_width": null,
            "object_fit": null,
            "object_position": null,
            "order": null,
            "overflow": null,
            "overflow_x": null,
            "overflow_y": null,
            "padding": null,
            "right": null,
            "top": null,
            "visibility": null,
            "width": null
          }
        },
        "1fc6fdf103e84ba5a504b4d09c48b589": {
          "model_module": "@jupyter-widgets/controls",
          "model_name": "DescriptionStyleModel",
          "model_module_version": "1.5.0",
          "state": {
            "_model_module": "@jupyter-widgets/controls",
            "_model_module_version": "1.5.0",
            "_model_name": "DescriptionStyleModel",
            "_view_count": null,
            "_view_module": "@jupyter-widgets/base",
            "_view_module_version": "1.2.0",
            "_view_name": "StyleView",
            "description_width": ""
          }
        },
        "95768572b07a463aa1ad15f7497dee2f": {
          "model_module": "@jupyter-widgets/controls",
          "model_name": "HBoxModel",
          "model_module_version": "1.5.0",
          "state": {
            "_dom_classes": [],
            "_model_module": "@jupyter-widgets/controls",
            "_model_module_version": "1.5.0",
            "_model_name": "HBoxModel",
            "_view_count": null,
            "_view_module": "@jupyter-widgets/controls",
            "_view_module_version": "1.5.0",
            "_view_name": "HBoxView",
            "box_style": "",
            "children": [
              "IPY_MODEL_33b5823bd0fc470897ca860fa43bf6c9",
              "IPY_MODEL_5bab30181de94ec9be431fe6a1b7c9f2",
              "IPY_MODEL_e57a21b3d21542e6b910ccb6037aad29"
            ],
            "layout": "IPY_MODEL_38655a6ccd31447e9dce3759d8bb01e8"
          }
        },
        "33b5823bd0fc470897ca860fa43bf6c9": {
          "model_module": "@jupyter-widgets/controls",
          "model_name": "HTMLModel",
          "model_module_version": "1.5.0",
          "state": {
            "_dom_classes": [],
            "_model_module": "@jupyter-widgets/controls",
            "_model_module_version": "1.5.0",
            "_model_name": "HTMLModel",
            "_view_count": null,
            "_view_module": "@jupyter-widgets/controls",
            "_view_module_version": "1.5.0",
            "_view_name": "HTMLView",
            "description": "",
            "description_tooltip": null,
            "layout": "IPY_MODEL_5de9e1bb1cac4c818fd4d2443f41b8bf",
            "placeholder": "​",
            "style": "IPY_MODEL_127339e4f1124a02aa63efee89310216",
            "value": "Downloading shards: 100%"
          }
        },
        "5bab30181de94ec9be431fe6a1b7c9f2": {
          "model_module": "@jupyter-widgets/controls",
          "model_name": "FloatProgressModel",
          "model_module_version": "1.5.0",
          "state": {
            "_dom_classes": [],
            "_model_module": "@jupyter-widgets/controls",
            "_model_module_version": "1.5.0",
            "_model_name": "FloatProgressModel",
            "_view_count": null,
            "_view_module": "@jupyter-widgets/controls",
            "_view_module_version": "1.5.0",
            "_view_name": "ProgressView",
            "bar_style": "success",
            "description": "",
            "description_tooltip": null,
            "layout": "IPY_MODEL_2994851d0dfb4ceab6bfe77222567cd8",
            "max": 8,
            "min": 0,
            "orientation": "horizontal",
            "style": "IPY_MODEL_8a950372edc84d99a476724d36d2b347",
            "value": 8
          }
        },
        "e57a21b3d21542e6b910ccb6037aad29": {
          "model_module": "@jupyter-widgets/controls",
          "model_name": "HTMLModel",
          "model_module_version": "1.5.0",
          "state": {
            "_dom_classes": [],
            "_model_module": "@jupyter-widgets/controls",
            "_model_module_version": "1.5.0",
            "_model_name": "HTMLModel",
            "_view_count": null,
            "_view_module": "@jupyter-widgets/controls",
            "_view_module_version": "1.5.0",
            "_view_name": "HTMLView",
            "description": "",
            "description_tooltip": null,
            "layout": "IPY_MODEL_747de835edfc431f934855f552813461",
            "placeholder": "​",
            "style": "IPY_MODEL_4c774de5a37c4798a5e8fc83610d6ce4",
            "value": " 8/8 [01:21&lt;00:00,  8.21s/it]"
          }
        },
        "38655a6ccd31447e9dce3759d8bb01e8": {
          "model_module": "@jupyter-widgets/base",
          "model_name": "LayoutModel",
          "model_module_version": "1.2.0",
          "state": {
            "_model_module": "@jupyter-widgets/base",
            "_model_module_version": "1.2.0",
            "_model_name": "LayoutModel",
            "_view_count": null,
            "_view_module": "@jupyter-widgets/base",
            "_view_module_version": "1.2.0",
            "_view_name": "LayoutView",
            "align_content": null,
            "align_items": null,
            "align_self": null,
            "border": null,
            "bottom": null,
            "display": null,
            "flex": null,
            "flex_flow": null,
            "grid_area": null,
            "grid_auto_columns": null,
            "grid_auto_flow": null,
            "grid_auto_rows": null,
            "grid_column": null,
            "grid_gap": null,
            "grid_row": null,
            "grid_template_areas": null,
            "grid_template_columns": null,
            "grid_template_rows": null,
            "height": null,
            "justify_content": null,
            "justify_items": null,
            "left": null,
            "margin": null,
            "max_height": null,
            "max_width": null,
            "min_height": null,
            "min_width": null,
            "object_fit": null,
            "object_position": null,
            "order": null,
            "overflow": null,
            "overflow_x": null,
            "overflow_y": null,
            "padding": null,
            "right": null,
            "top": null,
            "visibility": null,
            "width": null
          }
        },
        "5de9e1bb1cac4c818fd4d2443f41b8bf": {
          "model_module": "@jupyter-widgets/base",
          "model_name": "LayoutModel",
          "model_module_version": "1.2.0",
          "state": {
            "_model_module": "@jupyter-widgets/base",
            "_model_module_version": "1.2.0",
            "_model_name": "LayoutModel",
            "_view_count": null,
            "_view_module": "@jupyter-widgets/base",
            "_view_module_version": "1.2.0",
            "_view_name": "LayoutView",
            "align_content": null,
            "align_items": null,
            "align_self": null,
            "border": null,
            "bottom": null,
            "display": null,
            "flex": null,
            "flex_flow": null,
            "grid_area": null,
            "grid_auto_columns": null,
            "grid_auto_flow": null,
            "grid_auto_rows": null,
            "grid_column": null,
            "grid_gap": null,
            "grid_row": null,
            "grid_template_areas": null,
            "grid_template_columns": null,
            "grid_template_rows": null,
            "height": null,
            "justify_content": null,
            "justify_items": null,
            "left": null,
            "margin": null,
            "max_height": null,
            "max_width": null,
            "min_height": null,
            "min_width": null,
            "object_fit": null,
            "object_position": null,
            "order": null,
            "overflow": null,
            "overflow_x": null,
            "overflow_y": null,
            "padding": null,
            "right": null,
            "top": null,
            "visibility": null,
            "width": null
          }
        },
        "127339e4f1124a02aa63efee89310216": {
          "model_module": "@jupyter-widgets/controls",
          "model_name": "DescriptionStyleModel",
          "model_module_version": "1.5.0",
          "state": {
            "_model_module": "@jupyter-widgets/controls",
            "_model_module_version": "1.5.0",
            "_model_name": "DescriptionStyleModel",
            "_view_count": null,
            "_view_module": "@jupyter-widgets/base",
            "_view_module_version": "1.2.0",
            "_view_name": "StyleView",
            "description_width": ""
          }
        },
        "2994851d0dfb4ceab6bfe77222567cd8": {
          "model_module": "@jupyter-widgets/base",
          "model_name": "LayoutModel",
          "model_module_version": "1.2.0",
          "state": {
            "_model_module": "@jupyter-widgets/base",
            "_model_module_version": "1.2.0",
            "_model_name": "LayoutModel",
            "_view_count": null,
            "_view_module": "@jupyter-widgets/base",
            "_view_module_version": "1.2.0",
            "_view_name": "LayoutView",
            "align_content": null,
            "align_items": null,
            "align_self": null,
            "border": null,
            "bottom": null,
            "display": null,
            "flex": null,
            "flex_flow": null,
            "grid_area": null,
            "grid_auto_columns": null,
            "grid_auto_flow": null,
            "grid_auto_rows": null,
            "grid_column": null,
            "grid_gap": null,
            "grid_row": null,
            "grid_template_areas": null,
            "grid_template_columns": null,
            "grid_template_rows": null,
            "height": null,
            "justify_content": null,
            "justify_items": null,
            "left": null,
            "margin": null,
            "max_height": null,
            "max_width": null,
            "min_height": null,
            "min_width": null,
            "object_fit": null,
            "object_position": null,
            "order": null,
            "overflow": null,
            "overflow_x": null,
            "overflow_y": null,
            "padding": null,
            "right": null,
            "top": null,
            "visibility": null,
            "width": null
          }
        },
        "8a950372edc84d99a476724d36d2b347": {
          "model_module": "@jupyter-widgets/controls",
          "model_name": "ProgressStyleModel",
          "model_module_version": "1.5.0",
          "state": {
            "_model_module": "@jupyter-widgets/controls",
            "_model_module_version": "1.5.0",
            "_model_name": "ProgressStyleModel",
            "_view_count": null,
            "_view_module": "@jupyter-widgets/base",
            "_view_module_version": "1.2.0",
            "_view_name": "StyleView",
            "bar_color": null,
            "description_width": ""
          }
        },
        "747de835edfc431f934855f552813461": {
          "model_module": "@jupyter-widgets/base",
          "model_name": "LayoutModel",
          "model_module_version": "1.2.0",
          "state": {
            "_model_module": "@jupyter-widgets/base",
            "_model_module_version": "1.2.0",
            "_model_name": "LayoutModel",
            "_view_count": null,
            "_view_module": "@jupyter-widgets/base",
            "_view_module_version": "1.2.0",
            "_view_name": "LayoutView",
            "align_content": null,
            "align_items": null,
            "align_self": null,
            "border": null,
            "bottom": null,
            "display": null,
            "flex": null,
            "flex_flow": null,
            "grid_area": null,
            "grid_auto_columns": null,
            "grid_auto_flow": null,
            "grid_auto_rows": null,
            "grid_column": null,
            "grid_gap": null,
            "grid_row": null,
            "grid_template_areas": null,
            "grid_template_columns": null,
            "grid_template_rows": null,
            "height": null,
            "justify_content": null,
            "justify_items": null,
            "left": null,
            "margin": null,
            "max_height": null,
            "max_width": null,
            "min_height": null,
            "min_width": null,
            "object_fit": null,
            "object_position": null,
            "order": null,
            "overflow": null,
            "overflow_x": null,
            "overflow_y": null,
            "padding": null,
            "right": null,
            "top": null,
            "visibility": null,
            "width": null
          }
        },
        "4c774de5a37c4798a5e8fc83610d6ce4": {
          "model_module": "@jupyter-widgets/controls",
          "model_name": "DescriptionStyleModel",
          "model_module_version": "1.5.0",
          "state": {
            "_model_module": "@jupyter-widgets/controls",
            "_model_module_version": "1.5.0",
            "_model_name": "DescriptionStyleModel",
            "_view_count": null,
            "_view_module": "@jupyter-widgets/base",
            "_view_module_version": "1.2.0",
            "_view_name": "StyleView",
            "description_width": ""
          }
        },
        "c64a932f98e841cca5c54096cc1290de": {
          "model_module": "@jupyter-widgets/controls",
          "model_name": "HBoxModel",
          "model_module_version": "1.5.0",
          "state": {
            "_dom_classes": [],
            "_model_module": "@jupyter-widgets/controls",
            "_model_module_version": "1.5.0",
            "_model_name": "HBoxModel",
            "_view_count": null,
            "_view_module": "@jupyter-widgets/controls",
            "_view_module_version": "1.5.0",
            "_view_name": "HBoxView",
            "box_style": "",
            "children": [
              "IPY_MODEL_c10f8ab603c14ffd9ff67d608527eaa8",
              "IPY_MODEL_d90ff83df2ca453eaa66aa3c1b66e801",
              "IPY_MODEL_76bc49f59cf846778b534f97909b8d47"
            ],
            "layout": "IPY_MODEL_2bdc30eff0cf4c059afd1d3ce2f01883"
          }
        },
        "c10f8ab603c14ffd9ff67d608527eaa8": {
          "model_module": "@jupyter-widgets/controls",
          "model_name": "HTMLModel",
          "model_module_version": "1.5.0",
          "state": {
            "_dom_classes": [],
            "_model_module": "@jupyter-widgets/controls",
            "_model_module_version": "1.5.0",
            "_model_name": "HTMLModel",
            "_view_count": null,
            "_view_module": "@jupyter-widgets/controls",
            "_view_module_version": "1.5.0",
            "_view_name": "HTMLView",
            "description": "",
            "description_tooltip": null,
            "layout": "IPY_MODEL_3a31f6e7b142449ebfb0db7ed6d195de",
            "placeholder": "​",
            "style": "IPY_MODEL_8a20fa8d583c43648f7723548dfdefe5",
            "value": "model-00001-of-00008.safetensors: 100%"
          }
        },
        "d90ff83df2ca453eaa66aa3c1b66e801": {
          "model_module": "@jupyter-widgets/controls",
          "model_name": "FloatProgressModel",
          "model_module_version": "1.5.0",
          "state": {
            "_dom_classes": [],
            "_model_module": "@jupyter-widgets/controls",
            "_model_module_version": "1.5.0",
            "_model_name": "FloatProgressModel",
            "_view_count": null,
            "_view_module": "@jupyter-widgets/controls",
            "_view_module_version": "1.5.0",
            "_view_name": "ProgressView",
            "bar_style": "success",
            "description": "",
            "description_tooltip": null,
            "layout": "IPY_MODEL_26246fb56d7d4338a98ff531effcd111",
            "max": 1889587040,
            "min": 0,
            "orientation": "horizontal",
            "style": "IPY_MODEL_3a0afade2719421cb47268ce8e1a895d",
            "value": 1889587040
          }
        },
        "76bc49f59cf846778b534f97909b8d47": {
          "model_module": "@jupyter-widgets/controls",
          "model_name": "HTMLModel",
          "model_module_version": "1.5.0",
          "state": {
            "_dom_classes": [],
            "_model_module": "@jupyter-widgets/controls",
            "_model_module_version": "1.5.0",
            "_model_name": "HTMLModel",
            "_view_count": null,
            "_view_module": "@jupyter-widgets/controls",
            "_view_module_version": "1.5.0",
            "_view_name": "HTMLView",
            "description": "",
            "description_tooltip": null,
            "layout": "IPY_MODEL_ccb3bdd1b6e14ba7b506ab0a694be840",
            "placeholder": "​",
            "style": "IPY_MODEL_e3b9c27581714eedb44dda9c7ef02b4b",
            "value": " 1.89G/1.89G [00:10&lt;00:00, 273MB/s]"
          }
        },
        "2bdc30eff0cf4c059afd1d3ce2f01883": {
          "model_module": "@jupyter-widgets/base",
          "model_name": "LayoutModel",
          "model_module_version": "1.2.0",
          "state": {
            "_model_module": "@jupyter-widgets/base",
            "_model_module_version": "1.2.0",
            "_model_name": "LayoutModel",
            "_view_count": null,
            "_view_module": "@jupyter-widgets/base",
            "_view_module_version": "1.2.0",
            "_view_name": "LayoutView",
            "align_content": null,
            "align_items": null,
            "align_self": null,
            "border": null,
            "bottom": null,
            "display": null,
            "flex": null,
            "flex_flow": null,
            "grid_area": null,
            "grid_auto_columns": null,
            "grid_auto_flow": null,
            "grid_auto_rows": null,
            "grid_column": null,
            "grid_gap": null,
            "grid_row": null,
            "grid_template_areas": null,
            "grid_template_columns": null,
            "grid_template_rows": null,
            "height": null,
            "justify_content": null,
            "justify_items": null,
            "left": null,
            "margin": null,
            "max_height": null,
            "max_width": null,
            "min_height": null,
            "min_width": null,
            "object_fit": null,
            "object_position": null,
            "order": null,
            "overflow": null,
            "overflow_x": null,
            "overflow_y": null,
            "padding": null,
            "right": null,
            "top": null,
            "visibility": null,
            "width": null
          }
        },
        "3a31f6e7b142449ebfb0db7ed6d195de": {
          "model_module": "@jupyter-widgets/base",
          "model_name": "LayoutModel",
          "model_module_version": "1.2.0",
          "state": {
            "_model_module": "@jupyter-widgets/base",
            "_model_module_version": "1.2.0",
            "_model_name": "LayoutModel",
            "_view_count": null,
            "_view_module": "@jupyter-widgets/base",
            "_view_module_version": "1.2.0",
            "_view_name": "LayoutView",
            "align_content": null,
            "align_items": null,
            "align_self": null,
            "border": null,
            "bottom": null,
            "display": null,
            "flex": null,
            "flex_flow": null,
            "grid_area": null,
            "grid_auto_columns": null,
            "grid_auto_flow": null,
            "grid_auto_rows": null,
            "grid_column": null,
            "grid_gap": null,
            "grid_row": null,
            "grid_template_areas": null,
            "grid_template_columns": null,
            "grid_template_rows": null,
            "height": null,
            "justify_content": null,
            "justify_items": null,
            "left": null,
            "margin": null,
            "max_height": null,
            "max_width": null,
            "min_height": null,
            "min_width": null,
            "object_fit": null,
            "object_position": null,
            "order": null,
            "overflow": null,
            "overflow_x": null,
            "overflow_y": null,
            "padding": null,
            "right": null,
            "top": null,
            "visibility": null,
            "width": null
          }
        },
        "8a20fa8d583c43648f7723548dfdefe5": {
          "model_module": "@jupyter-widgets/controls",
          "model_name": "DescriptionStyleModel",
          "model_module_version": "1.5.0",
          "state": {
            "_model_module": "@jupyter-widgets/controls",
            "_model_module_version": "1.5.0",
            "_model_name": "DescriptionStyleModel",
            "_view_count": null,
            "_view_module": "@jupyter-widgets/base",
            "_view_module_version": "1.2.0",
            "_view_name": "StyleView",
            "description_width": ""
          }
        },
        "26246fb56d7d4338a98ff531effcd111": {
          "model_module": "@jupyter-widgets/base",
          "model_name": "LayoutModel",
          "model_module_version": "1.2.0",
          "state": {
            "_model_module": "@jupyter-widgets/base",
            "_model_module_version": "1.2.0",
            "_model_name": "LayoutModel",
            "_view_count": null,
            "_view_module": "@jupyter-widgets/base",
            "_view_module_version": "1.2.0",
            "_view_name": "LayoutView",
            "align_content": null,
            "align_items": null,
            "align_self": null,
            "border": null,
            "bottom": null,
            "display": null,
            "flex": null,
            "flex_flow": null,
            "grid_area": null,
            "grid_auto_columns": null,
            "grid_auto_flow": null,
            "grid_auto_rows": null,
            "grid_column": null,
            "grid_gap": null,
            "grid_row": null,
            "grid_template_areas": null,
            "grid_template_columns": null,
            "grid_template_rows": null,
            "height": null,
            "justify_content": null,
            "justify_items": null,
            "left": null,
            "margin": null,
            "max_height": null,
            "max_width": null,
            "min_height": null,
            "min_width": null,
            "object_fit": null,
            "object_position": null,
            "order": null,
            "overflow": null,
            "overflow_x": null,
            "overflow_y": null,
            "padding": null,
            "right": null,
            "top": null,
            "visibility": null,
            "width": null
          }
        },
        "3a0afade2719421cb47268ce8e1a895d": {
          "model_module": "@jupyter-widgets/controls",
          "model_name": "ProgressStyleModel",
          "model_module_version": "1.5.0",
          "state": {
            "_model_module": "@jupyter-widgets/controls",
            "_model_module_version": "1.5.0",
            "_model_name": "ProgressStyleModel",
            "_view_count": null,
            "_view_module": "@jupyter-widgets/base",
            "_view_module_version": "1.2.0",
            "_view_name": "StyleView",
            "bar_color": null,
            "description_width": ""
          }
        },
        "ccb3bdd1b6e14ba7b506ab0a694be840": {
          "model_module": "@jupyter-widgets/base",
          "model_name": "LayoutModel",
          "model_module_version": "1.2.0",
          "state": {
            "_model_module": "@jupyter-widgets/base",
            "_model_module_version": "1.2.0",
            "_model_name": "LayoutModel",
            "_view_count": null,
            "_view_module": "@jupyter-widgets/base",
            "_view_module_version": "1.2.0",
            "_view_name": "LayoutView",
            "align_content": null,
            "align_items": null,
            "align_self": null,
            "border": null,
            "bottom": null,
            "display": null,
            "flex": null,
            "flex_flow": null,
            "grid_area": null,
            "grid_auto_columns": null,
            "grid_auto_flow": null,
            "grid_auto_rows": null,
            "grid_column": null,
            "grid_gap": null,
            "grid_row": null,
            "grid_template_areas": null,
            "grid_template_columns": null,
            "grid_template_rows": null,
            "height": null,
            "justify_content": null,
            "justify_items": null,
            "left": null,
            "margin": null,
            "max_height": null,
            "max_width": null,
            "min_height": null,
            "min_width": null,
            "object_fit": null,
            "object_position": null,
            "order": null,
            "overflow": null,
            "overflow_x": null,
            "overflow_y": null,
            "padding": null,
            "right": null,
            "top": null,
            "visibility": null,
            "width": null
          }
        },
        "e3b9c27581714eedb44dda9c7ef02b4b": {
          "model_module": "@jupyter-widgets/controls",
          "model_name": "DescriptionStyleModel",
          "model_module_version": "1.5.0",
          "state": {
            "_model_module": "@jupyter-widgets/controls",
            "_model_module_version": "1.5.0",
            "_model_name": "DescriptionStyleModel",
            "_view_count": null,
            "_view_module": "@jupyter-widgets/base",
            "_view_module_version": "1.2.0",
            "_view_name": "StyleView",
            "description_width": ""
          }
        },
        "bdf40bc7eb11465d810195416ab08998": {
          "model_module": "@jupyter-widgets/controls",
          "model_name": "HBoxModel",
          "model_module_version": "1.5.0",
          "state": {
            "_dom_classes": [],
            "_model_module": "@jupyter-widgets/controls",
            "_model_module_version": "1.5.0",
            "_model_name": "HBoxModel",
            "_view_count": null,
            "_view_module": "@jupyter-widgets/controls",
            "_view_module_version": "1.5.0",
            "_view_name": "HBoxView",
            "box_style": "",
            "children": [
              "IPY_MODEL_09c87874280847899469d79323460540",
              "IPY_MODEL_57019459158e4f91bfcf34b7b430fc8b",
              "IPY_MODEL_783c0d663c2346118729216a39746939"
            ],
            "layout": "IPY_MODEL_3e6b0bca8378494290ced35d0c804546"
          }
        },
        "09c87874280847899469d79323460540": {
          "model_module": "@jupyter-widgets/controls",
          "model_name": "HTMLModel",
          "model_module_version": "1.5.0",
          "state": {
            "_dom_classes": [],
            "_model_module": "@jupyter-widgets/controls",
            "_model_module_version": "1.5.0",
            "_model_name": "HTMLModel",
            "_view_count": null,
            "_view_module": "@jupyter-widgets/controls",
            "_view_module_version": "1.5.0",
            "_view_name": "HTMLView",
            "description": "",
            "description_tooltip": null,
            "layout": "IPY_MODEL_b475528a780941b283031cfa6cb0ea68",
            "placeholder": "​",
            "style": "IPY_MODEL_5c357c46f22245efa7fbc6ac550827a9",
            "value": "model-00002-of-00008.safetensors: 100%"
          }
        },
        "57019459158e4f91bfcf34b7b430fc8b": {
          "model_module": "@jupyter-widgets/controls",
          "model_name": "FloatProgressModel",
          "model_module_version": "1.5.0",
          "state": {
            "_dom_classes": [],
            "_model_module": "@jupyter-widgets/controls",
            "_model_module_version": "1.5.0",
            "_model_name": "FloatProgressModel",
            "_view_count": null,
            "_view_module": "@jupyter-widgets/controls",
            "_view_module_version": "1.5.0",
            "_view_name": "ProgressView",
            "bar_style": "success",
            "description": "",
            "description_tooltip": null,
            "layout": "IPY_MODEL_0726d86a26144c2d8f3a9e573a7e1697",
            "max": 1946243936,
            "min": 0,
            "orientation": "horizontal",
            "style": "IPY_MODEL_60d07da1731a494cb5d285ec74f4ba65",
            "value": 1946243936
          }
        },
        "783c0d663c2346118729216a39746939": {
          "model_module": "@jupyter-widgets/controls",
          "model_name": "HTMLModel",
          "model_module_version": "1.5.0",
          "state": {
            "_dom_classes": [],
            "_model_module": "@jupyter-widgets/controls",
            "_model_module_version": "1.5.0",
            "_model_name": "HTMLModel",
            "_view_count": null,
            "_view_module": "@jupyter-widgets/controls",
            "_view_module_version": "1.5.0",
            "_view_name": "HTMLView",
            "description": "",
            "description_tooltip": null,
            "layout": "IPY_MODEL_0d0e05a7e5d447c3ae610d984bc40c42",
            "placeholder": "​",
            "style": "IPY_MODEL_77c1af2448694b08a7ade0768fab10aa",
            "value": " 1.95G/1.95G [00:11&lt;00:00, 255MB/s]"
          }
        },
        "3e6b0bca8378494290ced35d0c804546": {
          "model_module": "@jupyter-widgets/base",
          "model_name": "LayoutModel",
          "model_module_version": "1.2.0",
          "state": {
            "_model_module": "@jupyter-widgets/base",
            "_model_module_version": "1.2.0",
            "_model_name": "LayoutModel",
            "_view_count": null,
            "_view_module": "@jupyter-widgets/base",
            "_view_module_version": "1.2.0",
            "_view_name": "LayoutView",
            "align_content": null,
            "align_items": null,
            "align_self": null,
            "border": null,
            "bottom": null,
            "display": null,
            "flex": null,
            "flex_flow": null,
            "grid_area": null,
            "grid_auto_columns": null,
            "grid_auto_flow": null,
            "grid_auto_rows": null,
            "grid_column": null,
            "grid_gap": null,
            "grid_row": null,
            "grid_template_areas": null,
            "grid_template_columns": null,
            "grid_template_rows": null,
            "height": null,
            "justify_content": null,
            "justify_items": null,
            "left": null,
            "margin": null,
            "max_height": null,
            "max_width": null,
            "min_height": null,
            "min_width": null,
            "object_fit": null,
            "object_position": null,
            "order": null,
            "overflow": null,
            "overflow_x": null,
            "overflow_y": null,
            "padding": null,
            "right": null,
            "top": null,
            "visibility": null,
            "width": null
          }
        },
        "b475528a780941b283031cfa6cb0ea68": {
          "model_module": "@jupyter-widgets/base",
          "model_name": "LayoutModel",
          "model_module_version": "1.2.0",
          "state": {
            "_model_module": "@jupyter-widgets/base",
            "_model_module_version": "1.2.0",
            "_model_name": "LayoutModel",
            "_view_count": null,
            "_view_module": "@jupyter-widgets/base",
            "_view_module_version": "1.2.0",
            "_view_name": "LayoutView",
            "align_content": null,
            "align_items": null,
            "align_self": null,
            "border": null,
            "bottom": null,
            "display": null,
            "flex": null,
            "flex_flow": null,
            "grid_area": null,
            "grid_auto_columns": null,
            "grid_auto_flow": null,
            "grid_auto_rows": null,
            "grid_column": null,
            "grid_gap": null,
            "grid_row": null,
            "grid_template_areas": null,
            "grid_template_columns": null,
            "grid_template_rows": null,
            "height": null,
            "justify_content": null,
            "justify_items": null,
            "left": null,
            "margin": null,
            "max_height": null,
            "max_width": null,
            "min_height": null,
            "min_width": null,
            "object_fit": null,
            "object_position": null,
            "order": null,
            "overflow": null,
            "overflow_x": null,
            "overflow_y": null,
            "padding": null,
            "right": null,
            "top": null,
            "visibility": null,
            "width": null
          }
        },
        "5c357c46f22245efa7fbc6ac550827a9": {
          "model_module": "@jupyter-widgets/controls",
          "model_name": "DescriptionStyleModel",
          "model_module_version": "1.5.0",
          "state": {
            "_model_module": "@jupyter-widgets/controls",
            "_model_module_version": "1.5.0",
            "_model_name": "DescriptionStyleModel",
            "_view_count": null,
            "_view_module": "@jupyter-widgets/base",
            "_view_module_version": "1.2.0",
            "_view_name": "StyleView",
            "description_width": ""
          }
        },
        "0726d86a26144c2d8f3a9e573a7e1697": {
          "model_module": "@jupyter-widgets/base",
          "model_name": "LayoutModel",
          "model_module_version": "1.2.0",
          "state": {
            "_model_module": "@jupyter-widgets/base",
            "_model_module_version": "1.2.0",
            "_model_name": "LayoutModel",
            "_view_count": null,
            "_view_module": "@jupyter-widgets/base",
            "_view_module_version": "1.2.0",
            "_view_name": "LayoutView",
            "align_content": null,
            "align_items": null,
            "align_self": null,
            "border": null,
            "bottom": null,
            "display": null,
            "flex": null,
            "flex_flow": null,
            "grid_area": null,
            "grid_auto_columns": null,
            "grid_auto_flow": null,
            "grid_auto_rows": null,
            "grid_column": null,
            "grid_gap": null,
            "grid_row": null,
            "grid_template_areas": null,
            "grid_template_columns": null,
            "grid_template_rows": null,
            "height": null,
            "justify_content": null,
            "justify_items": null,
            "left": null,
            "margin": null,
            "max_height": null,
            "max_width": null,
            "min_height": null,
            "min_width": null,
            "object_fit": null,
            "object_position": null,
            "order": null,
            "overflow": null,
            "overflow_x": null,
            "overflow_y": null,
            "padding": null,
            "right": null,
            "top": null,
            "visibility": null,
            "width": null
          }
        },
        "60d07da1731a494cb5d285ec74f4ba65": {
          "model_module": "@jupyter-widgets/controls",
          "model_name": "ProgressStyleModel",
          "model_module_version": "1.5.0",
          "state": {
            "_model_module": "@jupyter-widgets/controls",
            "_model_module_version": "1.5.0",
            "_model_name": "ProgressStyleModel",
            "_view_count": null,
            "_view_module": "@jupyter-widgets/base",
            "_view_module_version": "1.2.0",
            "_view_name": "StyleView",
            "bar_color": null,
            "description_width": ""
          }
        },
        "0d0e05a7e5d447c3ae610d984bc40c42": {
          "model_module": "@jupyter-widgets/base",
          "model_name": "LayoutModel",
          "model_module_version": "1.2.0",
          "state": {
            "_model_module": "@jupyter-widgets/base",
            "_model_module_version": "1.2.0",
            "_model_name": "LayoutModel",
            "_view_count": null,
            "_view_module": "@jupyter-widgets/base",
            "_view_module_version": "1.2.0",
            "_view_name": "LayoutView",
            "align_content": null,
            "align_items": null,
            "align_self": null,
            "border": null,
            "bottom": null,
            "display": null,
            "flex": null,
            "flex_flow": null,
            "grid_area": null,
            "grid_auto_columns": null,
            "grid_auto_flow": null,
            "grid_auto_rows": null,
            "grid_column": null,
            "grid_gap": null,
            "grid_row": null,
            "grid_template_areas": null,
            "grid_template_columns": null,
            "grid_template_rows": null,
            "height": null,
            "justify_content": null,
            "justify_items": null,
            "left": null,
            "margin": null,
            "max_height": null,
            "max_width": null,
            "min_height": null,
            "min_width": null,
            "object_fit": null,
            "object_position": null,
            "order": null,
            "overflow": null,
            "overflow_x": null,
            "overflow_y": null,
            "padding": null,
            "right": null,
            "top": null,
            "visibility": null,
            "width": null
          }
        },
        "77c1af2448694b08a7ade0768fab10aa": {
          "model_module": "@jupyter-widgets/controls",
          "model_name": "DescriptionStyleModel",
          "model_module_version": "1.5.0",
          "state": {
            "_model_module": "@jupyter-widgets/controls",
            "_model_module_version": "1.5.0",
            "_model_name": "DescriptionStyleModel",
            "_view_count": null,
            "_view_module": "@jupyter-widgets/base",
            "_view_module_version": "1.2.0",
            "_view_name": "StyleView",
            "description_width": ""
          }
        },
        "bf2557164f4c4377a71513b58ca4815c": {
          "model_module": "@jupyter-widgets/controls",
          "model_name": "HBoxModel",
          "model_module_version": "1.5.0",
          "state": {
            "_dom_classes": [],
            "_model_module": "@jupyter-widgets/controls",
            "_model_module_version": "1.5.0",
            "_model_name": "HBoxModel",
            "_view_count": null,
            "_view_module": "@jupyter-widgets/controls",
            "_view_module_version": "1.5.0",
            "_view_name": "HBoxView",
            "box_style": "",
            "children": [
              "IPY_MODEL_c392e07b44724734bdd91e7cf2e17cee",
              "IPY_MODEL_4dcd617ae4764abf875afa434098e4f6",
              "IPY_MODEL_c6e80cbd4f5d4adb925482285c35bde8"
            ],
            "layout": "IPY_MODEL_892c7afc507e40999ea5ecac8bf54463"
          }
        },
        "c392e07b44724734bdd91e7cf2e17cee": {
          "model_module": "@jupyter-widgets/controls",
          "model_name": "HTMLModel",
          "model_module_version": "1.5.0",
          "state": {
            "_dom_classes": [],
            "_model_module": "@jupyter-widgets/controls",
            "_model_module_version": "1.5.0",
            "_model_name": "HTMLModel",
            "_view_count": null,
            "_view_module": "@jupyter-widgets/controls",
            "_view_module_version": "1.5.0",
            "_view_name": "HTMLView",
            "description": "",
            "description_tooltip": null,
            "layout": "IPY_MODEL_e7e6e6bd5875494fb16b2b08caf5ae44",
            "placeholder": "​",
            "style": "IPY_MODEL_95cab7e580294e8380511a71caac52cb",
            "value": "model-00003-of-00008.safetensors: 100%"
          }
        },
        "4dcd617ae4764abf875afa434098e4f6": {
          "model_module": "@jupyter-widgets/controls",
          "model_name": "FloatProgressModel",
          "model_module_version": "1.5.0",
          "state": {
            "_dom_classes": [],
            "_model_module": "@jupyter-widgets/controls",
            "_model_module_version": "1.5.0",
            "_model_name": "FloatProgressModel",
            "_view_count": null,
            "_view_module": "@jupyter-widgets/controls",
            "_view_module_version": "1.5.0",
            "_view_name": "ProgressView",
            "bar_style": "success",
            "description": "",
            "description_tooltip": null,
            "layout": "IPY_MODEL_2e604958949a415095061b9422948c6f",
            "max": 1979781432,
            "min": 0,
            "orientation": "horizontal",
            "style": "IPY_MODEL_992ae700def4432a9b4fdcc64238d861",
            "value": 1979781432
          }
        },
        "c6e80cbd4f5d4adb925482285c35bde8": {
          "model_module": "@jupyter-widgets/controls",
          "model_name": "HTMLModel",
          "model_module_version": "1.5.0",
          "state": {
            "_dom_classes": [],
            "_model_module": "@jupyter-widgets/controls",
            "_model_module_version": "1.5.0",
            "_model_name": "HTMLModel",
            "_view_count": null,
            "_view_module": "@jupyter-widgets/controls",
            "_view_module_version": "1.5.0",
            "_view_name": "HTMLView",
            "description": "",
            "description_tooltip": null,
            "layout": "IPY_MODEL_6100619c1c3243cc98eac55694441772",
            "placeholder": "​",
            "style": "IPY_MODEL_9bd220ccd4944e139db1512584461894",
            "value": " 1.98G/1.98G [00:13&lt;00:00, 285MB/s]"
          }
        },
        "892c7afc507e40999ea5ecac8bf54463": {
          "model_module": "@jupyter-widgets/base",
          "model_name": "LayoutModel",
          "model_module_version": "1.2.0",
          "state": {
            "_model_module": "@jupyter-widgets/base",
            "_model_module_version": "1.2.0",
            "_model_name": "LayoutModel",
            "_view_count": null,
            "_view_module": "@jupyter-widgets/base",
            "_view_module_version": "1.2.0",
            "_view_name": "LayoutView",
            "align_content": null,
            "align_items": null,
            "align_self": null,
            "border": null,
            "bottom": null,
            "display": null,
            "flex": null,
            "flex_flow": null,
            "grid_area": null,
            "grid_auto_columns": null,
            "grid_auto_flow": null,
            "grid_auto_rows": null,
            "grid_column": null,
            "grid_gap": null,
            "grid_row": null,
            "grid_template_areas": null,
            "grid_template_columns": null,
            "grid_template_rows": null,
            "height": null,
            "justify_content": null,
            "justify_items": null,
            "left": null,
            "margin": null,
            "max_height": null,
            "max_width": null,
            "min_height": null,
            "min_width": null,
            "object_fit": null,
            "object_position": null,
            "order": null,
            "overflow": null,
            "overflow_x": null,
            "overflow_y": null,
            "padding": null,
            "right": null,
            "top": null,
            "visibility": null,
            "width": null
          }
        },
        "e7e6e6bd5875494fb16b2b08caf5ae44": {
          "model_module": "@jupyter-widgets/base",
          "model_name": "LayoutModel",
          "model_module_version": "1.2.0",
          "state": {
            "_model_module": "@jupyter-widgets/base",
            "_model_module_version": "1.2.0",
            "_model_name": "LayoutModel",
            "_view_count": null,
            "_view_module": "@jupyter-widgets/base",
            "_view_module_version": "1.2.0",
            "_view_name": "LayoutView",
            "align_content": null,
            "align_items": null,
            "align_self": null,
            "border": null,
            "bottom": null,
            "display": null,
            "flex": null,
            "flex_flow": null,
            "grid_area": null,
            "grid_auto_columns": null,
            "grid_auto_flow": null,
            "grid_auto_rows": null,
            "grid_column": null,
            "grid_gap": null,
            "grid_row": null,
            "grid_template_areas": null,
            "grid_template_columns": null,
            "grid_template_rows": null,
            "height": null,
            "justify_content": null,
            "justify_items": null,
            "left": null,
            "margin": null,
            "max_height": null,
            "max_width": null,
            "min_height": null,
            "min_width": null,
            "object_fit": null,
            "object_position": null,
            "order": null,
            "overflow": null,
            "overflow_x": null,
            "overflow_y": null,
            "padding": null,
            "right": null,
            "top": null,
            "visibility": null,
            "width": null
          }
        },
        "95cab7e580294e8380511a71caac52cb": {
          "model_module": "@jupyter-widgets/controls",
          "model_name": "DescriptionStyleModel",
          "model_module_version": "1.5.0",
          "state": {
            "_model_module": "@jupyter-widgets/controls",
            "_model_module_version": "1.5.0",
            "_model_name": "DescriptionStyleModel",
            "_view_count": null,
            "_view_module": "@jupyter-widgets/base",
            "_view_module_version": "1.2.0",
            "_view_name": "StyleView",
            "description_width": ""
          }
        },
        "2e604958949a415095061b9422948c6f": {
          "model_module": "@jupyter-widgets/base",
          "model_name": "LayoutModel",
          "model_module_version": "1.2.0",
          "state": {
            "_model_module": "@jupyter-widgets/base",
            "_model_module_version": "1.2.0",
            "_model_name": "LayoutModel",
            "_view_count": null,
            "_view_module": "@jupyter-widgets/base",
            "_view_module_version": "1.2.0",
            "_view_name": "LayoutView",
            "align_content": null,
            "align_items": null,
            "align_self": null,
            "border": null,
            "bottom": null,
            "display": null,
            "flex": null,
            "flex_flow": null,
            "grid_area": null,
            "grid_auto_columns": null,
            "grid_auto_flow": null,
            "grid_auto_rows": null,
            "grid_column": null,
            "grid_gap": null,
            "grid_row": null,
            "grid_template_areas": null,
            "grid_template_columns": null,
            "grid_template_rows": null,
            "height": null,
            "justify_content": null,
            "justify_items": null,
            "left": null,
            "margin": null,
            "max_height": null,
            "max_width": null,
            "min_height": null,
            "min_width": null,
            "object_fit": null,
            "object_position": null,
            "order": null,
            "overflow": null,
            "overflow_x": null,
            "overflow_y": null,
            "padding": null,
            "right": null,
            "top": null,
            "visibility": null,
            "width": null
          }
        },
        "992ae700def4432a9b4fdcc64238d861": {
          "model_module": "@jupyter-widgets/controls",
          "model_name": "ProgressStyleModel",
          "model_module_version": "1.5.0",
          "state": {
            "_model_module": "@jupyter-widgets/controls",
            "_model_module_version": "1.5.0",
            "_model_name": "ProgressStyleModel",
            "_view_count": null,
            "_view_module": "@jupyter-widgets/base",
            "_view_module_version": "1.2.0",
            "_view_name": "StyleView",
            "bar_color": null,
            "description_width": ""
          }
        },
        "6100619c1c3243cc98eac55694441772": {
          "model_module": "@jupyter-widgets/base",
          "model_name": "LayoutModel",
          "model_module_version": "1.2.0",
          "state": {
            "_model_module": "@jupyter-widgets/base",
            "_model_module_version": "1.2.0",
            "_model_name": "LayoutModel",
            "_view_count": null,
            "_view_module": "@jupyter-widgets/base",
            "_view_module_version": "1.2.0",
            "_view_name": "LayoutView",
            "align_content": null,
            "align_items": null,
            "align_self": null,
            "border": null,
            "bottom": null,
            "display": null,
            "flex": null,
            "flex_flow": null,
            "grid_area": null,
            "grid_auto_columns": null,
            "grid_auto_flow": null,
            "grid_auto_rows": null,
            "grid_column": null,
            "grid_gap": null,
            "grid_row": null,
            "grid_template_areas": null,
            "grid_template_columns": null,
            "grid_template_rows": null,
            "height": null,
            "justify_content": null,
            "justify_items": null,
            "left": null,
            "margin": null,
            "max_height": null,
            "max_width": null,
            "min_height": null,
            "min_width": null,
            "object_fit": null,
            "object_position": null,
            "order": null,
            "overflow": null,
            "overflow_x": null,
            "overflow_y": null,
            "padding": null,
            "right": null,
            "top": null,
            "visibility": null,
            "width": null
          }
        },
        "9bd220ccd4944e139db1512584461894": {
          "model_module": "@jupyter-widgets/controls",
          "model_name": "DescriptionStyleModel",
          "model_module_version": "1.5.0",
          "state": {
            "_model_module": "@jupyter-widgets/controls",
            "_model_module_version": "1.5.0",
            "_model_name": "DescriptionStyleModel",
            "_view_count": null,
            "_view_module": "@jupyter-widgets/base",
            "_view_module_version": "1.2.0",
            "_view_name": "StyleView",
            "description_width": ""
          }
        },
        "346e31ba26e6476dbc0636f7739e5611": {
          "model_module": "@jupyter-widgets/controls",
          "model_name": "HBoxModel",
          "model_module_version": "1.5.0",
          "state": {
            "_dom_classes": [],
            "_model_module": "@jupyter-widgets/controls",
            "_model_module_version": "1.5.0",
            "_model_name": "HBoxModel",
            "_view_count": null,
            "_view_module": "@jupyter-widgets/controls",
            "_view_module_version": "1.5.0",
            "_view_name": "HBoxView",
            "box_style": "",
            "children": [
              "IPY_MODEL_3730faf3eb8d4389b5d3a8c7e6338b4e",
              "IPY_MODEL_1f64affe2e344eedb14d0ac7fc09cfa3",
              "IPY_MODEL_7e7cfa7c4cdc47e896171704daa79436"
            ],
            "layout": "IPY_MODEL_ce6457afbcc5449eb6fb58d10268ded2"
          }
        },
        "3730faf3eb8d4389b5d3a8c7e6338b4e": {
          "model_module": "@jupyter-widgets/controls",
          "model_name": "HTMLModel",
          "model_module_version": "1.5.0",
          "state": {
            "_dom_classes": [],
            "_model_module": "@jupyter-widgets/controls",
            "_model_module_version": "1.5.0",
            "_model_name": "HTMLModel",
            "_view_count": null,
            "_view_module": "@jupyter-widgets/controls",
            "_view_module_version": "1.5.0",
            "_view_name": "HTMLView",
            "description": "",
            "description_tooltip": null,
            "layout": "IPY_MODEL_65a733abc3df4679b9ec1bba4234afe9",
            "placeholder": "​",
            "style": "IPY_MODEL_799995c9273d4c9b97e3498ce3be9d2c",
            "value": "model-00004-of-00008.safetensors: 100%"
          }
        },
        "1f64affe2e344eedb14d0ac7fc09cfa3": {
          "model_module": "@jupyter-widgets/controls",
          "model_name": "FloatProgressModel",
          "model_module_version": "1.5.0",
          "state": {
            "_dom_classes": [],
            "_model_module": "@jupyter-widgets/controls",
            "_model_module_version": "1.5.0",
            "_model_name": "FloatProgressModel",
            "_view_count": null,
            "_view_module": "@jupyter-widgets/controls",
            "_view_module_version": "1.5.0",
            "_view_name": "ProgressView",
            "bar_style": "success",
            "description": "",
            "description_tooltip": null,
            "layout": "IPY_MODEL_d83c4c0953fd48508b259fe23c54bb8a",
            "max": 1946243984,
            "min": 0,
            "orientation": "horizontal",
            "style": "IPY_MODEL_708c68e2019a4b6fac1b2444d5622ede",
            "value": 1946243984
          }
        },
        "7e7cfa7c4cdc47e896171704daa79436": {
          "model_module": "@jupyter-widgets/controls",
          "model_name": "HTMLModel",
          "model_module_version": "1.5.0",
          "state": {
            "_dom_classes": [],
            "_model_module": "@jupyter-widgets/controls",
            "_model_module_version": "1.5.0",
            "_model_name": "HTMLModel",
            "_view_count": null,
            "_view_module": "@jupyter-widgets/controls",
            "_view_module_version": "1.5.0",
            "_view_name": "HTMLView",
            "description": "",
            "description_tooltip": null,
            "layout": "IPY_MODEL_e73fa86efc2b4d6ba980393a5a1e4722",
            "placeholder": "​",
            "style": "IPY_MODEL_13795a83d65f4c2b825b00366d8c09f1",
            "value": " 1.95G/1.95G [00:11&lt;00:00, 236MB/s]"
          }
        },
        "ce6457afbcc5449eb6fb58d10268ded2": {
          "model_module": "@jupyter-widgets/base",
          "model_name": "LayoutModel",
          "model_module_version": "1.2.0",
          "state": {
            "_model_module": "@jupyter-widgets/base",
            "_model_module_version": "1.2.0",
            "_model_name": "LayoutModel",
            "_view_count": null,
            "_view_module": "@jupyter-widgets/base",
            "_view_module_version": "1.2.0",
            "_view_name": "LayoutView",
            "align_content": null,
            "align_items": null,
            "align_self": null,
            "border": null,
            "bottom": null,
            "display": null,
            "flex": null,
            "flex_flow": null,
            "grid_area": null,
            "grid_auto_columns": null,
            "grid_auto_flow": null,
            "grid_auto_rows": null,
            "grid_column": null,
            "grid_gap": null,
            "grid_row": null,
            "grid_template_areas": null,
            "grid_template_columns": null,
            "grid_template_rows": null,
            "height": null,
            "justify_content": null,
            "justify_items": null,
            "left": null,
            "margin": null,
            "max_height": null,
            "max_width": null,
            "min_height": null,
            "min_width": null,
            "object_fit": null,
            "object_position": null,
            "order": null,
            "overflow": null,
            "overflow_x": null,
            "overflow_y": null,
            "padding": null,
            "right": null,
            "top": null,
            "visibility": null,
            "width": null
          }
        },
        "65a733abc3df4679b9ec1bba4234afe9": {
          "model_module": "@jupyter-widgets/base",
          "model_name": "LayoutModel",
          "model_module_version": "1.2.0",
          "state": {
            "_model_module": "@jupyter-widgets/base",
            "_model_module_version": "1.2.0",
            "_model_name": "LayoutModel",
            "_view_count": null,
            "_view_module": "@jupyter-widgets/base",
            "_view_module_version": "1.2.0",
            "_view_name": "LayoutView",
            "align_content": null,
            "align_items": null,
            "align_self": null,
            "border": null,
            "bottom": null,
            "display": null,
            "flex": null,
            "flex_flow": null,
            "grid_area": null,
            "grid_auto_columns": null,
            "grid_auto_flow": null,
            "grid_auto_rows": null,
            "grid_column": null,
            "grid_gap": null,
            "grid_row": null,
            "grid_template_areas": null,
            "grid_template_columns": null,
            "grid_template_rows": null,
            "height": null,
            "justify_content": null,
            "justify_items": null,
            "left": null,
            "margin": null,
            "max_height": null,
            "max_width": null,
            "min_height": null,
            "min_width": null,
            "object_fit": null,
            "object_position": null,
            "order": null,
            "overflow": null,
            "overflow_x": null,
            "overflow_y": null,
            "padding": null,
            "right": null,
            "top": null,
            "visibility": null,
            "width": null
          }
        },
        "799995c9273d4c9b97e3498ce3be9d2c": {
          "model_module": "@jupyter-widgets/controls",
          "model_name": "DescriptionStyleModel",
          "model_module_version": "1.5.0",
          "state": {
            "_model_module": "@jupyter-widgets/controls",
            "_model_module_version": "1.5.0",
            "_model_name": "DescriptionStyleModel",
            "_view_count": null,
            "_view_module": "@jupyter-widgets/base",
            "_view_module_version": "1.2.0",
            "_view_name": "StyleView",
            "description_width": ""
          }
        },
        "d83c4c0953fd48508b259fe23c54bb8a": {
          "model_module": "@jupyter-widgets/base",
          "model_name": "LayoutModel",
          "model_module_version": "1.2.0",
          "state": {
            "_model_module": "@jupyter-widgets/base",
            "_model_module_version": "1.2.0",
            "_model_name": "LayoutModel",
            "_view_count": null,
            "_view_module": "@jupyter-widgets/base",
            "_view_module_version": "1.2.0",
            "_view_name": "LayoutView",
            "align_content": null,
            "align_items": null,
            "align_self": null,
            "border": null,
            "bottom": null,
            "display": null,
            "flex": null,
            "flex_flow": null,
            "grid_area": null,
            "grid_auto_columns": null,
            "grid_auto_flow": null,
            "grid_auto_rows": null,
            "grid_column": null,
            "grid_gap": null,
            "grid_row": null,
            "grid_template_areas": null,
            "grid_template_columns": null,
            "grid_template_rows": null,
            "height": null,
            "justify_content": null,
            "justify_items": null,
            "left": null,
            "margin": null,
            "max_height": null,
            "max_width": null,
            "min_height": null,
            "min_width": null,
            "object_fit": null,
            "object_position": null,
            "order": null,
            "overflow": null,
            "overflow_x": null,
            "overflow_y": null,
            "padding": null,
            "right": null,
            "top": null,
            "visibility": null,
            "width": null
          }
        },
        "708c68e2019a4b6fac1b2444d5622ede": {
          "model_module": "@jupyter-widgets/controls",
          "model_name": "ProgressStyleModel",
          "model_module_version": "1.5.0",
          "state": {
            "_model_module": "@jupyter-widgets/controls",
            "_model_module_version": "1.5.0",
            "_model_name": "ProgressStyleModel",
            "_view_count": null,
            "_view_module": "@jupyter-widgets/base",
            "_view_module_version": "1.2.0",
            "_view_name": "StyleView",
            "bar_color": null,
            "description_width": ""
          }
        },
        "e73fa86efc2b4d6ba980393a5a1e4722": {
          "model_module": "@jupyter-widgets/base",
          "model_name": "LayoutModel",
          "model_module_version": "1.2.0",
          "state": {
            "_model_module": "@jupyter-widgets/base",
            "_model_module_version": "1.2.0",
            "_model_name": "LayoutModel",
            "_view_count": null,
            "_view_module": "@jupyter-widgets/base",
            "_view_module_version": "1.2.0",
            "_view_name": "LayoutView",
            "align_content": null,
            "align_items": null,
            "align_self": null,
            "border": null,
            "bottom": null,
            "display": null,
            "flex": null,
            "flex_flow": null,
            "grid_area": null,
            "grid_auto_columns": null,
            "grid_auto_flow": null,
            "grid_auto_rows": null,
            "grid_column": null,
            "grid_gap": null,
            "grid_row": null,
            "grid_template_areas": null,
            "grid_template_columns": null,
            "grid_template_rows": null,
            "height": null,
            "justify_content": null,
            "justify_items": null,
            "left": null,
            "margin": null,
            "max_height": null,
            "max_width": null,
            "min_height": null,
            "min_width": null,
            "object_fit": null,
            "object_position": null,
            "order": null,
            "overflow": null,
            "overflow_x": null,
            "overflow_y": null,
            "padding": null,
            "right": null,
            "top": null,
            "visibility": null,
            "width": null
          }
        },
        "13795a83d65f4c2b825b00366d8c09f1": {
          "model_module": "@jupyter-widgets/controls",
          "model_name": "DescriptionStyleModel",
          "model_module_version": "1.5.0",
          "state": {
            "_model_module": "@jupyter-widgets/controls",
            "_model_module_version": "1.5.0",
            "_model_name": "DescriptionStyleModel",
            "_view_count": null,
            "_view_module": "@jupyter-widgets/base",
            "_view_module_version": "1.2.0",
            "_view_name": "StyleView",
            "description_width": ""
          }
        },
        "b12740cf923944cf9f7c7caed6659cd2": {
          "model_module": "@jupyter-widgets/controls",
          "model_name": "HBoxModel",
          "model_module_version": "1.5.0",
          "state": {
            "_dom_classes": [],
            "_model_module": "@jupyter-widgets/controls",
            "_model_module_version": "1.5.0",
            "_model_name": "HBoxModel",
            "_view_count": null,
            "_view_module": "@jupyter-widgets/controls",
            "_view_module_version": "1.5.0",
            "_view_name": "HBoxView",
            "box_style": "",
            "children": [
              "IPY_MODEL_88d47071274d40ca9753127a9d15cf2b",
              "IPY_MODEL_f059e1e6a08f4dc2b9ec12d25cfb4fbf",
              "IPY_MODEL_ebf41a25aaa64abeae039f23247d698a"
            ],
            "layout": "IPY_MODEL_93be838580c84b74935f2a748877f614"
          }
        },
        "88d47071274d40ca9753127a9d15cf2b": {
          "model_module": "@jupyter-widgets/controls",
          "model_name": "HTMLModel",
          "model_module_version": "1.5.0",
          "state": {
            "_dom_classes": [],
            "_model_module": "@jupyter-widgets/controls",
            "_model_module_version": "1.5.0",
            "_model_name": "HTMLModel",
            "_view_count": null,
            "_view_module": "@jupyter-widgets/controls",
            "_view_module_version": "1.5.0",
            "_view_name": "HTMLView",
            "description": "",
            "description_tooltip": null,
            "layout": "IPY_MODEL_a3b99b3bb4b1468987c1c73246affa29",
            "placeholder": "​",
            "style": "IPY_MODEL_b25c286d177846e5937bef14ce5e20e2",
            "value": "model-00005-of-00008.safetensors: 100%"
          }
        },
        "f059e1e6a08f4dc2b9ec12d25cfb4fbf": {
          "model_module": "@jupyter-widgets/controls",
          "model_name": "FloatProgressModel",
          "model_module_version": "1.5.0",
          "state": {
            "_dom_classes": [],
            "_model_module": "@jupyter-widgets/controls",
            "_model_module_version": "1.5.0",
            "_model_name": "FloatProgressModel",
            "_view_count": null,
            "_view_module": "@jupyter-widgets/controls",
            "_view_module_version": "1.5.0",
            "_view_name": "ProgressView",
            "bar_style": "success",
            "description": "",
            "description_tooltip": null,
            "layout": "IPY_MODEL_c96d175ec7344677af98ff2d166e84bf",
            "max": 1979781448,
            "min": 0,
            "orientation": "horizontal",
            "style": "IPY_MODEL_e48ca6ded7a84b35b5fb105cb9944db9",
            "value": 1979781448
          }
        },
        "ebf41a25aaa64abeae039f23247d698a": {
          "model_module": "@jupyter-widgets/controls",
          "model_name": "HTMLModel",
          "model_module_version": "1.5.0",
          "state": {
            "_dom_classes": [],
            "_model_module": "@jupyter-widgets/controls",
            "_model_module_version": "1.5.0",
            "_model_name": "HTMLModel",
            "_view_count": null,
            "_view_module": "@jupyter-widgets/controls",
            "_view_module_version": "1.5.0",
            "_view_name": "HTMLView",
            "description": "",
            "description_tooltip": null,
            "layout": "IPY_MODEL_1f439c696bf547a7987baf9bd6f1fcaa",
            "placeholder": "​",
            "style": "IPY_MODEL_36d5ed8415fe472fa70b789e5a3252ad",
            "value": " 1.98G/1.98G [00:13&lt;00:00, 61.1MB/s]"
          }
        },
        "93be838580c84b74935f2a748877f614": {
          "model_module": "@jupyter-widgets/base",
          "model_name": "LayoutModel",
          "model_module_version": "1.2.0",
          "state": {
            "_model_module": "@jupyter-widgets/base",
            "_model_module_version": "1.2.0",
            "_model_name": "LayoutModel",
            "_view_count": null,
            "_view_module": "@jupyter-widgets/base",
            "_view_module_version": "1.2.0",
            "_view_name": "LayoutView",
            "align_content": null,
            "align_items": null,
            "align_self": null,
            "border": null,
            "bottom": null,
            "display": null,
            "flex": null,
            "flex_flow": null,
            "grid_area": null,
            "grid_auto_columns": null,
            "grid_auto_flow": null,
            "grid_auto_rows": null,
            "grid_column": null,
            "grid_gap": null,
            "grid_row": null,
            "grid_template_areas": null,
            "grid_template_columns": null,
            "grid_template_rows": null,
            "height": null,
            "justify_content": null,
            "justify_items": null,
            "left": null,
            "margin": null,
            "max_height": null,
            "max_width": null,
            "min_height": null,
            "min_width": null,
            "object_fit": null,
            "object_position": null,
            "order": null,
            "overflow": null,
            "overflow_x": null,
            "overflow_y": null,
            "padding": null,
            "right": null,
            "top": null,
            "visibility": null,
            "width": null
          }
        },
        "a3b99b3bb4b1468987c1c73246affa29": {
          "model_module": "@jupyter-widgets/base",
          "model_name": "LayoutModel",
          "model_module_version": "1.2.0",
          "state": {
            "_model_module": "@jupyter-widgets/base",
            "_model_module_version": "1.2.0",
            "_model_name": "LayoutModel",
            "_view_count": null,
            "_view_module": "@jupyter-widgets/base",
            "_view_module_version": "1.2.0",
            "_view_name": "LayoutView",
            "align_content": null,
            "align_items": null,
            "align_self": null,
            "border": null,
            "bottom": null,
            "display": null,
            "flex": null,
            "flex_flow": null,
            "grid_area": null,
            "grid_auto_columns": null,
            "grid_auto_flow": null,
            "grid_auto_rows": null,
            "grid_column": null,
            "grid_gap": null,
            "grid_row": null,
            "grid_template_areas": null,
            "grid_template_columns": null,
            "grid_template_rows": null,
            "height": null,
            "justify_content": null,
            "justify_items": null,
            "left": null,
            "margin": null,
            "max_height": null,
            "max_width": null,
            "min_height": null,
            "min_width": null,
            "object_fit": null,
            "object_position": null,
            "order": null,
            "overflow": null,
            "overflow_x": null,
            "overflow_y": null,
            "padding": null,
            "right": null,
            "top": null,
            "visibility": null,
            "width": null
          }
        },
        "b25c286d177846e5937bef14ce5e20e2": {
          "model_module": "@jupyter-widgets/controls",
          "model_name": "DescriptionStyleModel",
          "model_module_version": "1.5.0",
          "state": {
            "_model_module": "@jupyter-widgets/controls",
            "_model_module_version": "1.5.0",
            "_model_name": "DescriptionStyleModel",
            "_view_count": null,
            "_view_module": "@jupyter-widgets/base",
            "_view_module_version": "1.2.0",
            "_view_name": "StyleView",
            "description_width": ""
          }
        },
        "c96d175ec7344677af98ff2d166e84bf": {
          "model_module": "@jupyter-widgets/base",
          "model_name": "LayoutModel",
          "model_module_version": "1.2.0",
          "state": {
            "_model_module": "@jupyter-widgets/base",
            "_model_module_version": "1.2.0",
            "_model_name": "LayoutModel",
            "_view_count": null,
            "_view_module": "@jupyter-widgets/base",
            "_view_module_version": "1.2.0",
            "_view_name": "LayoutView",
            "align_content": null,
            "align_items": null,
            "align_self": null,
            "border": null,
            "bottom": null,
            "display": null,
            "flex": null,
            "flex_flow": null,
            "grid_area": null,
            "grid_auto_columns": null,
            "grid_auto_flow": null,
            "grid_auto_rows": null,
            "grid_column": null,
            "grid_gap": null,
            "grid_row": null,
            "grid_template_areas": null,
            "grid_template_columns": null,
            "grid_template_rows": null,
            "height": null,
            "justify_content": null,
            "justify_items": null,
            "left": null,
            "margin": null,
            "max_height": null,
            "max_width": null,
            "min_height": null,
            "min_width": null,
            "object_fit": null,
            "object_position": null,
            "order": null,
            "overflow": null,
            "overflow_x": null,
            "overflow_y": null,
            "padding": null,
            "right": null,
            "top": null,
            "visibility": null,
            "width": null
          }
        },
        "e48ca6ded7a84b35b5fb105cb9944db9": {
          "model_module": "@jupyter-widgets/controls",
          "model_name": "ProgressStyleModel",
          "model_module_version": "1.5.0",
          "state": {
            "_model_module": "@jupyter-widgets/controls",
            "_model_module_version": "1.5.0",
            "_model_name": "ProgressStyleModel",
            "_view_count": null,
            "_view_module": "@jupyter-widgets/base",
            "_view_module_version": "1.2.0",
            "_view_name": "StyleView",
            "bar_color": null,
            "description_width": ""
          }
        },
        "1f439c696bf547a7987baf9bd6f1fcaa": {
          "model_module": "@jupyter-widgets/base",
          "model_name": "LayoutModel",
          "model_module_version": "1.2.0",
          "state": {
            "_model_module": "@jupyter-widgets/base",
            "_model_module_version": "1.2.0",
            "_model_name": "LayoutModel",
            "_view_count": null,
            "_view_module": "@jupyter-widgets/base",
            "_view_module_version": "1.2.0",
            "_view_name": "LayoutView",
            "align_content": null,
            "align_items": null,
            "align_self": null,
            "border": null,
            "bottom": null,
            "display": null,
            "flex": null,
            "flex_flow": null,
            "grid_area": null,
            "grid_auto_columns": null,
            "grid_auto_flow": null,
            "grid_auto_rows": null,
            "grid_column": null,
            "grid_gap": null,
            "grid_row": null,
            "grid_template_areas": null,
            "grid_template_columns": null,
            "grid_template_rows": null,
            "height": null,
            "justify_content": null,
            "justify_items": null,
            "left": null,
            "margin": null,
            "max_height": null,
            "max_width": null,
            "min_height": null,
            "min_width": null,
            "object_fit": null,
            "object_position": null,
            "order": null,
            "overflow": null,
            "overflow_x": null,
            "overflow_y": null,
            "padding": null,
            "right": null,
            "top": null,
            "visibility": null,
            "width": null
          }
        },
        "36d5ed8415fe472fa70b789e5a3252ad": {
          "model_module": "@jupyter-widgets/controls",
          "model_name": "DescriptionStyleModel",
          "model_module_version": "1.5.0",
          "state": {
            "_model_module": "@jupyter-widgets/controls",
            "_model_module_version": "1.5.0",
            "_model_name": "DescriptionStyleModel",
            "_view_count": null,
            "_view_module": "@jupyter-widgets/base",
            "_view_module_version": "1.2.0",
            "_view_name": "StyleView",
            "description_width": ""
          }
        },
        "58258b00b9fc4aa48397deaa6cf48b95": {
          "model_module": "@jupyter-widgets/controls",
          "model_name": "HBoxModel",
          "model_module_version": "1.5.0",
          "state": {
            "_dom_classes": [],
            "_model_module": "@jupyter-widgets/controls",
            "_model_module_version": "1.5.0",
            "_model_name": "HBoxModel",
            "_view_count": null,
            "_view_module": "@jupyter-widgets/controls",
            "_view_module_version": "1.5.0",
            "_view_name": "HBoxView",
            "box_style": "",
            "children": [
              "IPY_MODEL_846ffd8b03524e34ba2b6f50e05b69a5",
              "IPY_MODEL_41f783f0600f4890bbf5cd12a3713fd3",
              "IPY_MODEL_ef2e90e5f57646d68a13ec56002f5591"
            ],
            "layout": "IPY_MODEL_3ae6f25c78aa4f698e1c0a1300af9b26"
          }
        },
        "846ffd8b03524e34ba2b6f50e05b69a5": {
          "model_module": "@jupyter-widgets/controls",
          "model_name": "HTMLModel",
          "model_module_version": "1.5.0",
          "state": {
            "_dom_classes": [],
            "_model_module": "@jupyter-widgets/controls",
            "_model_module_version": "1.5.0",
            "_model_name": "HTMLModel",
            "_view_count": null,
            "_view_module": "@jupyter-widgets/controls",
            "_view_module_version": "1.5.0",
            "_view_name": "HTMLView",
            "description": "",
            "description_tooltip": null,
            "layout": "IPY_MODEL_f433a2ba4d404b25be81b3342281f189",
            "placeholder": "​",
            "style": "IPY_MODEL_65df0db13cd44e2281e3f8feb9285e05",
            "value": "model-00006-of-00008.safetensors: 100%"
          }
        },
        "41f783f0600f4890bbf5cd12a3713fd3": {
          "model_module": "@jupyter-widgets/controls",
          "model_name": "FloatProgressModel",
          "model_module_version": "1.5.0",
          "state": {
            "_dom_classes": [],
            "_model_module": "@jupyter-widgets/controls",
            "_model_module_version": "1.5.0",
            "_model_name": "FloatProgressModel",
            "_view_count": null,
            "_view_module": "@jupyter-widgets/controls",
            "_view_module_version": "1.5.0",
            "_view_name": "ProgressView",
            "bar_style": "success",
            "description": "",
            "description_tooltip": null,
            "layout": "IPY_MODEL_0d5365525d8549789940d18e5645d7e1",
            "max": 1946243984,
            "min": 0,
            "orientation": "horizontal",
            "style": "IPY_MODEL_ea61bf12aacc4d7f8c695961af8b13d3",
            "value": 1946243984
          }
        },
        "ef2e90e5f57646d68a13ec56002f5591": {
          "model_module": "@jupyter-widgets/controls",
          "model_name": "HTMLModel",
          "model_module_version": "1.5.0",
          "state": {
            "_dom_classes": [],
            "_model_module": "@jupyter-widgets/controls",
            "_model_module_version": "1.5.0",
            "_model_name": "HTMLModel",
            "_view_count": null,
            "_view_module": "@jupyter-widgets/controls",
            "_view_module_version": "1.5.0",
            "_view_name": "HTMLView",
            "description": "",
            "description_tooltip": null,
            "layout": "IPY_MODEL_098289fa521040d4a6c3b78ad9d9d811",
            "placeholder": "​",
            "style": "IPY_MODEL_19c3cbdca1994f75b9e5c9ea5b7eaadb",
            "value": " 1.95G/1.95G [00:07&lt;00:00, 221MB/s]"
          }
        },
        "3ae6f25c78aa4f698e1c0a1300af9b26": {
          "model_module": "@jupyter-widgets/base",
          "model_name": "LayoutModel",
          "model_module_version": "1.2.0",
          "state": {
            "_model_module": "@jupyter-widgets/base",
            "_model_module_version": "1.2.0",
            "_model_name": "LayoutModel",
            "_view_count": null,
            "_view_module": "@jupyter-widgets/base",
            "_view_module_version": "1.2.0",
            "_view_name": "LayoutView",
            "align_content": null,
            "align_items": null,
            "align_self": null,
            "border": null,
            "bottom": null,
            "display": null,
            "flex": null,
            "flex_flow": null,
            "grid_area": null,
            "grid_auto_columns": null,
            "grid_auto_flow": null,
            "grid_auto_rows": null,
            "grid_column": null,
            "grid_gap": null,
            "grid_row": null,
            "grid_template_areas": null,
            "grid_template_columns": null,
            "grid_template_rows": null,
            "height": null,
            "justify_content": null,
            "justify_items": null,
            "left": null,
            "margin": null,
            "max_height": null,
            "max_width": null,
            "min_height": null,
            "min_width": null,
            "object_fit": null,
            "object_position": null,
            "order": null,
            "overflow": null,
            "overflow_x": null,
            "overflow_y": null,
            "padding": null,
            "right": null,
            "top": null,
            "visibility": null,
            "width": null
          }
        },
        "f433a2ba4d404b25be81b3342281f189": {
          "model_module": "@jupyter-widgets/base",
          "model_name": "LayoutModel",
          "model_module_version": "1.2.0",
          "state": {
            "_model_module": "@jupyter-widgets/base",
            "_model_module_version": "1.2.0",
            "_model_name": "LayoutModel",
            "_view_count": null,
            "_view_module": "@jupyter-widgets/base",
            "_view_module_version": "1.2.0",
            "_view_name": "LayoutView",
            "align_content": null,
            "align_items": null,
            "align_self": null,
            "border": null,
            "bottom": null,
            "display": null,
            "flex": null,
            "flex_flow": null,
            "grid_area": null,
            "grid_auto_columns": null,
            "grid_auto_flow": null,
            "grid_auto_rows": null,
            "grid_column": null,
            "grid_gap": null,
            "grid_row": null,
            "grid_template_areas": null,
            "grid_template_columns": null,
            "grid_template_rows": null,
            "height": null,
            "justify_content": null,
            "justify_items": null,
            "left": null,
            "margin": null,
            "max_height": null,
            "max_width": null,
            "min_height": null,
            "min_width": null,
            "object_fit": null,
            "object_position": null,
            "order": null,
            "overflow": null,
            "overflow_x": null,
            "overflow_y": null,
            "padding": null,
            "right": null,
            "top": null,
            "visibility": null,
            "width": null
          }
        },
        "65df0db13cd44e2281e3f8feb9285e05": {
          "model_module": "@jupyter-widgets/controls",
          "model_name": "DescriptionStyleModel",
          "model_module_version": "1.5.0",
          "state": {
            "_model_module": "@jupyter-widgets/controls",
            "_model_module_version": "1.5.0",
            "_model_name": "DescriptionStyleModel",
            "_view_count": null,
            "_view_module": "@jupyter-widgets/base",
            "_view_module_version": "1.2.0",
            "_view_name": "StyleView",
            "description_width": ""
          }
        },
        "0d5365525d8549789940d18e5645d7e1": {
          "model_module": "@jupyter-widgets/base",
          "model_name": "LayoutModel",
          "model_module_version": "1.2.0",
          "state": {
            "_model_module": "@jupyter-widgets/base",
            "_model_module_version": "1.2.0",
            "_model_name": "LayoutModel",
            "_view_count": null,
            "_view_module": "@jupyter-widgets/base",
            "_view_module_version": "1.2.0",
            "_view_name": "LayoutView",
            "align_content": null,
            "align_items": null,
            "align_self": null,
            "border": null,
            "bottom": null,
            "display": null,
            "flex": null,
            "flex_flow": null,
            "grid_area": null,
            "grid_auto_columns": null,
            "grid_auto_flow": null,
            "grid_auto_rows": null,
            "grid_column": null,
            "grid_gap": null,
            "grid_row": null,
            "grid_template_areas": null,
            "grid_template_columns": null,
            "grid_template_rows": null,
            "height": null,
            "justify_content": null,
            "justify_items": null,
            "left": null,
            "margin": null,
            "max_height": null,
            "max_width": null,
            "min_height": null,
            "min_width": null,
            "object_fit": null,
            "object_position": null,
            "order": null,
            "overflow": null,
            "overflow_x": null,
            "overflow_y": null,
            "padding": null,
            "right": null,
            "top": null,
            "visibility": null,
            "width": null
          }
        },
        "ea61bf12aacc4d7f8c695961af8b13d3": {
          "model_module": "@jupyter-widgets/controls",
          "model_name": "ProgressStyleModel",
          "model_module_version": "1.5.0",
          "state": {
            "_model_module": "@jupyter-widgets/controls",
            "_model_module_version": "1.5.0",
            "_model_name": "ProgressStyleModel",
            "_view_count": null,
            "_view_module": "@jupyter-widgets/base",
            "_view_module_version": "1.2.0",
            "_view_name": "StyleView",
            "bar_color": null,
            "description_width": ""
          }
        },
        "098289fa521040d4a6c3b78ad9d9d811": {
          "model_module": "@jupyter-widgets/base",
          "model_name": "LayoutModel",
          "model_module_version": "1.2.0",
          "state": {
            "_model_module": "@jupyter-widgets/base",
            "_model_module_version": "1.2.0",
            "_model_name": "LayoutModel",
            "_view_count": null,
            "_view_module": "@jupyter-widgets/base",
            "_view_module_version": "1.2.0",
            "_view_name": "LayoutView",
            "align_content": null,
            "align_items": null,
            "align_self": null,
            "border": null,
            "bottom": null,
            "display": null,
            "flex": null,
            "flex_flow": null,
            "grid_area": null,
            "grid_auto_columns": null,
            "grid_auto_flow": null,
            "grid_auto_rows": null,
            "grid_column": null,
            "grid_gap": null,
            "grid_row": null,
            "grid_template_areas": null,
            "grid_template_columns": null,
            "grid_template_rows": null,
            "height": null,
            "justify_content": null,
            "justify_items": null,
            "left": null,
            "margin": null,
            "max_height": null,
            "max_width": null,
            "min_height": null,
            "min_width": null,
            "object_fit": null,
            "object_position": null,
            "order": null,
            "overflow": null,
            "overflow_x": null,
            "overflow_y": null,
            "padding": null,
            "right": null,
            "top": null,
            "visibility": null,
            "width": null
          }
        },
        "19c3cbdca1994f75b9e5c9ea5b7eaadb": {
          "model_module": "@jupyter-widgets/controls",
          "model_name": "DescriptionStyleModel",
          "model_module_version": "1.5.0",
          "state": {
            "_model_module": "@jupyter-widgets/controls",
            "_model_module_version": "1.5.0",
            "_model_name": "DescriptionStyleModel",
            "_view_count": null,
            "_view_module": "@jupyter-widgets/base",
            "_view_module_version": "1.2.0",
            "_view_name": "StyleView",
            "description_width": ""
          }
        },
        "b2baa1670a774f658c91aa649e77ee11": {
          "model_module": "@jupyter-widgets/controls",
          "model_name": "HBoxModel",
          "model_module_version": "1.5.0",
          "state": {
            "_dom_classes": [],
            "_model_module": "@jupyter-widgets/controls",
            "_model_module_version": "1.5.0",
            "_model_name": "HBoxModel",
            "_view_count": null,
            "_view_module": "@jupyter-widgets/controls",
            "_view_module_version": "1.5.0",
            "_view_name": "HBoxView",
            "box_style": "",
            "children": [
              "IPY_MODEL_1631ea205f0c4ed58d6f3c5f6a0acd16",
              "IPY_MODEL_d61c348096d9472fab452947a5926616",
              "IPY_MODEL_4a6813cd6d0f40da9398d5fa887c59c9"
            ],
            "layout": "IPY_MODEL_608b86c56df045dea195517aa50e478e"
          }
        },
        "1631ea205f0c4ed58d6f3c5f6a0acd16": {
          "model_module": "@jupyter-widgets/controls",
          "model_name": "HTMLModel",
          "model_module_version": "1.5.0",
          "state": {
            "_dom_classes": [],
            "_model_module": "@jupyter-widgets/controls",
            "_model_module_version": "1.5.0",
            "_model_name": "HTMLModel",
            "_view_count": null,
            "_view_module": "@jupyter-widgets/controls",
            "_view_module_version": "1.5.0",
            "_view_name": "HTMLView",
            "description": "",
            "description_tooltip": null,
            "layout": "IPY_MODEL_718c292268dc49158f8dfe849c18e5e9",
            "placeholder": "​",
            "style": "IPY_MODEL_9aa2ba1c718341aa9faa58cfbd5e0c7f",
            "value": "model-00007-of-00008.safetensors: 100%"
          }
        },
        "d61c348096d9472fab452947a5926616": {
          "model_module": "@jupyter-widgets/controls",
          "model_name": "FloatProgressModel",
          "model_module_version": "1.5.0",
          "state": {
            "_dom_classes": [],
            "_model_module": "@jupyter-widgets/controls",
            "_model_module_version": "1.5.0",
            "_model_name": "FloatProgressModel",
            "_view_count": null,
            "_view_module": "@jupyter-widgets/controls",
            "_view_module_version": "1.5.0",
            "_view_name": "ProgressView",
            "bar_style": "success",
            "description": "",
            "description_tooltip": null,
            "layout": "IPY_MODEL_d913a807a68f43dab6ef5881fbf3184e",
            "max": 1979781448,
            "min": 0,
            "orientation": "horizontal",
            "style": "IPY_MODEL_250073c3d1354872a63caa0cc19ab3d8",
            "value": 1979781448
          }
        },
        "4a6813cd6d0f40da9398d5fa887c59c9": {
          "model_module": "@jupyter-widgets/controls",
          "model_name": "HTMLModel",
          "model_module_version": "1.5.0",
          "state": {
            "_dom_classes": [],
            "_model_module": "@jupyter-widgets/controls",
            "_model_module_version": "1.5.0",
            "_model_name": "HTMLModel",
            "_view_count": null,
            "_view_module": "@jupyter-widgets/controls",
            "_view_module_version": "1.5.0",
            "_view_name": "HTMLView",
            "description": "",
            "description_tooltip": null,
            "layout": "IPY_MODEL_9ccc1df9e035460b83b64ee18740340b",
            "placeholder": "​",
            "style": "IPY_MODEL_31aa62a5393e497d8da3aee6f5d1ce08",
            "value": " 1.98G/1.98G [00:09&lt;00:00, 265MB/s]"
          }
        },
        "608b86c56df045dea195517aa50e478e": {
          "model_module": "@jupyter-widgets/base",
          "model_name": "LayoutModel",
          "model_module_version": "1.2.0",
          "state": {
            "_model_module": "@jupyter-widgets/base",
            "_model_module_version": "1.2.0",
            "_model_name": "LayoutModel",
            "_view_count": null,
            "_view_module": "@jupyter-widgets/base",
            "_view_module_version": "1.2.0",
            "_view_name": "LayoutView",
            "align_content": null,
            "align_items": null,
            "align_self": null,
            "border": null,
            "bottom": null,
            "display": null,
            "flex": null,
            "flex_flow": null,
            "grid_area": null,
            "grid_auto_columns": null,
            "grid_auto_flow": null,
            "grid_auto_rows": null,
            "grid_column": null,
            "grid_gap": null,
            "grid_row": null,
            "grid_template_areas": null,
            "grid_template_columns": null,
            "grid_template_rows": null,
            "height": null,
            "justify_content": null,
            "justify_items": null,
            "left": null,
            "margin": null,
            "max_height": null,
            "max_width": null,
            "min_height": null,
            "min_width": null,
            "object_fit": null,
            "object_position": null,
            "order": null,
            "overflow": null,
            "overflow_x": null,
            "overflow_y": null,
            "padding": null,
            "right": null,
            "top": null,
            "visibility": null,
            "width": null
          }
        },
        "718c292268dc49158f8dfe849c18e5e9": {
          "model_module": "@jupyter-widgets/base",
          "model_name": "LayoutModel",
          "model_module_version": "1.2.0",
          "state": {
            "_model_module": "@jupyter-widgets/base",
            "_model_module_version": "1.2.0",
            "_model_name": "LayoutModel",
            "_view_count": null,
            "_view_module": "@jupyter-widgets/base",
            "_view_module_version": "1.2.0",
            "_view_name": "LayoutView",
            "align_content": null,
            "align_items": null,
            "align_self": null,
            "border": null,
            "bottom": null,
            "display": null,
            "flex": null,
            "flex_flow": null,
            "grid_area": null,
            "grid_auto_columns": null,
            "grid_auto_flow": null,
            "grid_auto_rows": null,
            "grid_column": null,
            "grid_gap": null,
            "grid_row": null,
            "grid_template_areas": null,
            "grid_template_columns": null,
            "grid_template_rows": null,
            "height": null,
            "justify_content": null,
            "justify_items": null,
            "left": null,
            "margin": null,
            "max_height": null,
            "max_width": null,
            "min_height": null,
            "min_width": null,
            "object_fit": null,
            "object_position": null,
            "order": null,
            "overflow": null,
            "overflow_x": null,
            "overflow_y": null,
            "padding": null,
            "right": null,
            "top": null,
            "visibility": null,
            "width": null
          }
        },
        "9aa2ba1c718341aa9faa58cfbd5e0c7f": {
          "model_module": "@jupyter-widgets/controls",
          "model_name": "DescriptionStyleModel",
          "model_module_version": "1.5.0",
          "state": {
            "_model_module": "@jupyter-widgets/controls",
            "_model_module_version": "1.5.0",
            "_model_name": "DescriptionStyleModel",
            "_view_count": null,
            "_view_module": "@jupyter-widgets/base",
            "_view_module_version": "1.2.0",
            "_view_name": "StyleView",
            "description_width": ""
          }
        },
        "d913a807a68f43dab6ef5881fbf3184e": {
          "model_module": "@jupyter-widgets/base",
          "model_name": "LayoutModel",
          "model_module_version": "1.2.0",
          "state": {
            "_model_module": "@jupyter-widgets/base",
            "_model_module_version": "1.2.0",
            "_model_name": "LayoutModel",
            "_view_count": null,
            "_view_module": "@jupyter-widgets/base",
            "_view_module_version": "1.2.0",
            "_view_name": "LayoutView",
            "align_content": null,
            "align_items": null,
            "align_self": null,
            "border": null,
            "bottom": null,
            "display": null,
            "flex": null,
            "flex_flow": null,
            "grid_area": null,
            "grid_auto_columns": null,
            "grid_auto_flow": null,
            "grid_auto_rows": null,
            "grid_column": null,
            "grid_gap": null,
            "grid_row": null,
            "grid_template_areas": null,
            "grid_template_columns": null,
            "grid_template_rows": null,
            "height": null,
            "justify_content": null,
            "justify_items": null,
            "left": null,
            "margin": null,
            "max_height": null,
            "max_width": null,
            "min_height": null,
            "min_width": null,
            "object_fit": null,
            "object_position": null,
            "order": null,
            "overflow": null,
            "overflow_x": null,
            "overflow_y": null,
            "padding": null,
            "right": null,
            "top": null,
            "visibility": null,
            "width": null
          }
        },
        "250073c3d1354872a63caa0cc19ab3d8": {
          "model_module": "@jupyter-widgets/controls",
          "model_name": "ProgressStyleModel",
          "model_module_version": "1.5.0",
          "state": {
            "_model_module": "@jupyter-widgets/controls",
            "_model_module_version": "1.5.0",
            "_model_name": "ProgressStyleModel",
            "_view_count": null,
            "_view_module": "@jupyter-widgets/base",
            "_view_module_version": "1.2.0",
            "_view_name": "StyleView",
            "bar_color": null,
            "description_width": ""
          }
        },
        "9ccc1df9e035460b83b64ee18740340b": {
          "model_module": "@jupyter-widgets/base",
          "model_name": "LayoutModel",
          "model_module_version": "1.2.0",
          "state": {
            "_model_module": "@jupyter-widgets/base",
            "_model_module_version": "1.2.0",
            "_model_name": "LayoutModel",
            "_view_count": null,
            "_view_module": "@jupyter-widgets/base",
            "_view_module_version": "1.2.0",
            "_view_name": "LayoutView",
            "align_content": null,
            "align_items": null,
            "align_self": null,
            "border": null,
            "bottom": null,
            "display": null,
            "flex": null,
            "flex_flow": null,
            "grid_area": null,
            "grid_auto_columns": null,
            "grid_auto_flow": null,
            "grid_auto_rows": null,
            "grid_column": null,
            "grid_gap": null,
            "grid_row": null,
            "grid_template_areas": null,
            "grid_template_columns": null,
            "grid_template_rows": null,
            "height": null,
            "justify_content": null,
            "justify_items": null,
            "left": null,
            "margin": null,
            "max_height": null,
            "max_width": null,
            "min_height": null,
            "min_width": null,
            "object_fit": null,
            "object_position": null,
            "order": null,
            "overflow": null,
            "overflow_x": null,
            "overflow_y": null,
            "padding": null,
            "right": null,
            "top": null,
            "visibility": null,
            "width": null
          }
        },
        "31aa62a5393e497d8da3aee6f5d1ce08": {
          "model_module": "@jupyter-widgets/controls",
          "model_name": "DescriptionStyleModel",
          "model_module_version": "1.5.0",
          "state": {
            "_model_module": "@jupyter-widgets/controls",
            "_model_module_version": "1.5.0",
            "_model_name": "DescriptionStyleModel",
            "_view_count": null,
            "_view_module": "@jupyter-widgets/base",
            "_view_module_version": "1.2.0",
            "_view_name": "StyleView",
            "description_width": ""
          }
        },
        "2c648f66cbfc4723af5cd2263c795d31": {
          "model_module": "@jupyter-widgets/controls",
          "model_name": "HBoxModel",
          "model_module_version": "1.5.0",
          "state": {
            "_dom_classes": [],
            "_model_module": "@jupyter-widgets/controls",
            "_model_module_version": "1.5.0",
            "_model_name": "HBoxModel",
            "_view_count": null,
            "_view_module": "@jupyter-widgets/controls",
            "_view_module_version": "1.5.0",
            "_view_name": "HBoxView",
            "box_style": "",
            "children": [
              "IPY_MODEL_34292bab46d24751baf9adc7e459f01b",
              "IPY_MODEL_49e826ba239b448e96a5770489517701",
              "IPY_MODEL_f33284e5775c40ca83ee9f69519c6d90"
            ],
            "layout": "IPY_MODEL_5421c57e50c3422c8b25f40c279b69d0"
          }
        },
        "34292bab46d24751baf9adc7e459f01b": {
          "model_module": "@jupyter-widgets/controls",
          "model_name": "HTMLModel",
          "model_module_version": "1.5.0",
          "state": {
            "_dom_classes": [],
            "_model_module": "@jupyter-widgets/controls",
            "_model_module_version": "1.5.0",
            "_model_name": "HTMLModel",
            "_view_count": null,
            "_view_module": "@jupyter-widgets/controls",
            "_view_module_version": "1.5.0",
            "_view_name": "HTMLView",
            "description": "",
            "description_tooltip": null,
            "layout": "IPY_MODEL_2e612880c1504d1a80d3becf09784335",
            "placeholder": "​",
            "style": "IPY_MODEL_c66fadf08c3b4f49a3a0aecad1106bab",
            "value": "model-00008-of-00008.safetensors: 100%"
          }
        },
        "49e826ba239b448e96a5770489517701": {
          "model_module": "@jupyter-widgets/controls",
          "model_name": "FloatProgressModel",
          "model_module_version": "1.5.0",
          "state": {
            "_dom_classes": [],
            "_model_module": "@jupyter-widgets/controls",
            "_model_module_version": "1.5.0",
            "_model_name": "FloatProgressModel",
            "_view_count": null,
            "_view_module": "@jupyter-widgets/controls",
            "_view_module_version": "1.5.0",
            "_view_name": "ProgressView",
            "bar_style": "success",
            "description": "",
            "description_tooltip": null,
            "layout": "IPY_MODEL_94eab6e195e84bfea324109341395151",
            "max": 815834680,
            "min": 0,
            "orientation": "horizontal",
            "style": "IPY_MODEL_c8d69c8839fb439abeb4a454b68b0d9d",
            "value": 815834680
          }
        },
        "f33284e5775c40ca83ee9f69519c6d90": {
          "model_module": "@jupyter-widgets/controls",
          "model_name": "HTMLModel",
          "model_module_version": "1.5.0",
          "state": {
            "_dom_classes": [],
            "_model_module": "@jupyter-widgets/controls",
            "_model_module_version": "1.5.0",
            "_model_name": "HTMLModel",
            "_view_count": null,
            "_view_module": "@jupyter-widgets/controls",
            "_view_module_version": "1.5.0",
            "_view_name": "HTMLView",
            "description": "",
            "description_tooltip": null,
            "layout": "IPY_MODEL_5b8de3d95598418f82cfa4e2b0d454f9",
            "placeholder": "​",
            "style": "IPY_MODEL_21ed6f1adfab485682e6de88fc3eeaea",
            "value": " 816M/816M [00:03&lt;00:00, 245MB/s]"
          }
        },
        "5421c57e50c3422c8b25f40c279b69d0": {
          "model_module": "@jupyter-widgets/base",
          "model_name": "LayoutModel",
          "model_module_version": "1.2.0",
          "state": {
            "_model_module": "@jupyter-widgets/base",
            "_model_module_version": "1.2.0",
            "_model_name": "LayoutModel",
            "_view_count": null,
            "_view_module": "@jupyter-widgets/base",
            "_view_module_version": "1.2.0",
            "_view_name": "LayoutView",
            "align_content": null,
            "align_items": null,
            "align_self": null,
            "border": null,
            "bottom": null,
            "display": null,
            "flex": null,
            "flex_flow": null,
            "grid_area": null,
            "grid_auto_columns": null,
            "grid_auto_flow": null,
            "grid_auto_rows": null,
            "grid_column": null,
            "grid_gap": null,
            "grid_row": null,
            "grid_template_areas": null,
            "grid_template_columns": null,
            "grid_template_rows": null,
            "height": null,
            "justify_content": null,
            "justify_items": null,
            "left": null,
            "margin": null,
            "max_height": null,
            "max_width": null,
            "min_height": null,
            "min_width": null,
            "object_fit": null,
            "object_position": null,
            "order": null,
            "overflow": null,
            "overflow_x": null,
            "overflow_y": null,
            "padding": null,
            "right": null,
            "top": null,
            "visibility": null,
            "width": null
          }
        },
        "2e612880c1504d1a80d3becf09784335": {
          "model_module": "@jupyter-widgets/base",
          "model_name": "LayoutModel",
          "model_module_version": "1.2.0",
          "state": {
            "_model_module": "@jupyter-widgets/base",
            "_model_module_version": "1.2.0",
            "_model_name": "LayoutModel",
            "_view_count": null,
            "_view_module": "@jupyter-widgets/base",
            "_view_module_version": "1.2.0",
            "_view_name": "LayoutView",
            "align_content": null,
            "align_items": null,
            "align_self": null,
            "border": null,
            "bottom": null,
            "display": null,
            "flex": null,
            "flex_flow": null,
            "grid_area": null,
            "grid_auto_columns": null,
            "grid_auto_flow": null,
            "grid_auto_rows": null,
            "grid_column": null,
            "grid_gap": null,
            "grid_row": null,
            "grid_template_areas": null,
            "grid_template_columns": null,
            "grid_template_rows": null,
            "height": null,
            "justify_content": null,
            "justify_items": null,
            "left": null,
            "margin": null,
            "max_height": null,
            "max_width": null,
            "min_height": null,
            "min_width": null,
            "object_fit": null,
            "object_position": null,
            "order": null,
            "overflow": null,
            "overflow_x": null,
            "overflow_y": null,
            "padding": null,
            "right": null,
            "top": null,
            "visibility": null,
            "width": null
          }
        },
        "c66fadf08c3b4f49a3a0aecad1106bab": {
          "model_module": "@jupyter-widgets/controls",
          "model_name": "DescriptionStyleModel",
          "model_module_version": "1.5.0",
          "state": {
            "_model_module": "@jupyter-widgets/controls",
            "_model_module_version": "1.5.0",
            "_model_name": "DescriptionStyleModel",
            "_view_count": null,
            "_view_module": "@jupyter-widgets/base",
            "_view_module_version": "1.2.0",
            "_view_name": "StyleView",
            "description_width": ""
          }
        },
        "94eab6e195e84bfea324109341395151": {
          "model_module": "@jupyter-widgets/base",
          "model_name": "LayoutModel",
          "model_module_version": "1.2.0",
          "state": {
            "_model_module": "@jupyter-widgets/base",
            "_model_module_version": "1.2.0",
            "_model_name": "LayoutModel",
            "_view_count": null,
            "_view_module": "@jupyter-widgets/base",
            "_view_module_version": "1.2.0",
            "_view_name": "LayoutView",
            "align_content": null,
            "align_items": null,
            "align_self": null,
            "border": null,
            "bottom": null,
            "display": null,
            "flex": null,
            "flex_flow": null,
            "grid_area": null,
            "grid_auto_columns": null,
            "grid_auto_flow": null,
            "grid_auto_rows": null,
            "grid_column": null,
            "grid_gap": null,
            "grid_row": null,
            "grid_template_areas": null,
            "grid_template_columns": null,
            "grid_template_rows": null,
            "height": null,
            "justify_content": null,
            "justify_items": null,
            "left": null,
            "margin": null,
            "max_height": null,
            "max_width": null,
            "min_height": null,
            "min_width": null,
            "object_fit": null,
            "object_position": null,
            "order": null,
            "overflow": null,
            "overflow_x": null,
            "overflow_y": null,
            "padding": null,
            "right": null,
            "top": null,
            "visibility": null,
            "width": null
          }
        },
        "c8d69c8839fb439abeb4a454b68b0d9d": {
          "model_module": "@jupyter-widgets/controls",
          "model_name": "ProgressStyleModel",
          "model_module_version": "1.5.0",
          "state": {
            "_model_module": "@jupyter-widgets/controls",
            "_model_module_version": "1.5.0",
            "_model_name": "ProgressStyleModel",
            "_view_count": null,
            "_view_module": "@jupyter-widgets/base",
            "_view_module_version": "1.2.0",
            "_view_name": "StyleView",
            "bar_color": null,
            "description_width": ""
          }
        },
        "5b8de3d95598418f82cfa4e2b0d454f9": {
          "model_module": "@jupyter-widgets/base",
          "model_name": "LayoutModel",
          "model_module_version": "1.2.0",
          "state": {
            "_model_module": "@jupyter-widgets/base",
            "_model_module_version": "1.2.0",
            "_model_name": "LayoutModel",
            "_view_count": null,
            "_view_module": "@jupyter-widgets/base",
            "_view_module_version": "1.2.0",
            "_view_name": "LayoutView",
            "align_content": null,
            "align_items": null,
            "align_self": null,
            "border": null,
            "bottom": null,
            "display": null,
            "flex": null,
            "flex_flow": null,
            "grid_area": null,
            "grid_auto_columns": null,
            "grid_auto_flow": null,
            "grid_auto_rows": null,
            "grid_column": null,
            "grid_gap": null,
            "grid_row": null,
            "grid_template_areas": null,
            "grid_template_columns": null,
            "grid_template_rows": null,
            "height": null,
            "justify_content": null,
            "justify_items": null,
            "left": null,
            "margin": null,
            "max_height": null,
            "max_width": null,
            "min_height": null,
            "min_width": null,
            "object_fit": null,
            "object_position": null,
            "order": null,
            "overflow": null,
            "overflow_x": null,
            "overflow_y": null,
            "padding": null,
            "right": null,
            "top": null,
            "visibility": null,
            "width": null
          }
        },
        "21ed6f1adfab485682e6de88fc3eeaea": {
          "model_module": "@jupyter-widgets/controls",
          "model_name": "DescriptionStyleModel",
          "model_module_version": "1.5.0",
          "state": {
            "_model_module": "@jupyter-widgets/controls",
            "_model_module_version": "1.5.0",
            "_model_name": "DescriptionStyleModel",
            "_view_count": null,
            "_view_module": "@jupyter-widgets/base",
            "_view_module_version": "1.2.0",
            "_view_name": "StyleView",
            "description_width": ""
          }
        },
        "f2f022fadb374db6842d4585ed390341": {
          "model_module": "@jupyter-widgets/controls",
          "model_name": "HBoxModel",
          "model_module_version": "1.5.0",
          "state": {
            "_dom_classes": [],
            "_model_module": "@jupyter-widgets/controls",
            "_model_module_version": "1.5.0",
            "_model_name": "HBoxModel",
            "_view_count": null,
            "_view_module": "@jupyter-widgets/controls",
            "_view_module_version": "1.5.0",
            "_view_name": "HBoxView",
            "box_style": "",
            "children": [
              "IPY_MODEL_9e822abbfc17417a9ab46b53534e0639",
              "IPY_MODEL_ffa735bb4ccf4afdb422e6b222345054",
              "IPY_MODEL_ceb8648c58104ed09e2f88aa6214193a"
            ],
            "layout": "IPY_MODEL_548d8be2252448779fecd9c7798c6c42"
          }
        },
        "9e822abbfc17417a9ab46b53534e0639": {
          "model_module": "@jupyter-widgets/controls",
          "model_name": "HTMLModel",
          "model_module_version": "1.5.0",
          "state": {
            "_dom_classes": [],
            "_model_module": "@jupyter-widgets/controls",
            "_model_module_version": "1.5.0",
            "_model_name": "HTMLModel",
            "_view_count": null,
            "_view_module": "@jupyter-widgets/controls",
            "_view_module_version": "1.5.0",
            "_view_name": "HTMLView",
            "description": "",
            "description_tooltip": null,
            "layout": "IPY_MODEL_bb0370b5ecfe4160b9268eaa2b657c25",
            "placeholder": "​",
            "style": "IPY_MODEL_7ba76a64438a47c4b7d24ba7a56721ce",
            "value": "Loading checkpoint shards: 100%"
          }
        },
        "ffa735bb4ccf4afdb422e6b222345054": {
          "model_module": "@jupyter-widgets/controls",
          "model_name": "FloatProgressModel",
          "model_module_version": "1.5.0",
          "state": {
            "_dom_classes": [],
            "_model_module": "@jupyter-widgets/controls",
            "_model_module_version": "1.5.0",
            "_model_name": "FloatProgressModel",
            "_view_count": null,
            "_view_module": "@jupyter-widgets/controls",
            "_view_module_version": "1.5.0",
            "_view_name": "ProgressView",
            "bar_style": "success",
            "description": "",
            "description_tooltip": null,
            "layout": "IPY_MODEL_aac4dfa45ae74594bb79f619e38d92fe",
            "max": 8,
            "min": 0,
            "orientation": "horizontal",
            "style": "IPY_MODEL_b799135523d544c1a22a55f983370812",
            "value": 8
          }
        },
        "ceb8648c58104ed09e2f88aa6214193a": {
          "model_module": "@jupyter-widgets/controls",
          "model_name": "HTMLModel",
          "model_module_version": "1.5.0",
          "state": {
            "_dom_classes": [],
            "_model_module": "@jupyter-widgets/controls",
            "_model_module_version": "1.5.0",
            "_model_name": "HTMLModel",
            "_view_count": null,
            "_view_module": "@jupyter-widgets/controls",
            "_view_module_version": "1.5.0",
            "_view_name": "HTMLView",
            "description": "",
            "description_tooltip": null,
            "layout": "IPY_MODEL_7c909173c75f4686820481982358adfb",
            "placeholder": "​",
            "style": "IPY_MODEL_cd2f0336f4a5495389ac8d1fc95f84b7",
            "value": " 8/8 [01:10&lt;00:00,  7.77s/it]"
          }
        },
        "548d8be2252448779fecd9c7798c6c42": {
          "model_module": "@jupyter-widgets/base",
          "model_name": "LayoutModel",
          "model_module_version": "1.2.0",
          "state": {
            "_model_module": "@jupyter-widgets/base",
            "_model_module_version": "1.2.0",
            "_model_name": "LayoutModel",
            "_view_count": null,
            "_view_module": "@jupyter-widgets/base",
            "_view_module_version": "1.2.0",
            "_view_name": "LayoutView",
            "align_content": null,
            "align_items": null,
            "align_self": null,
            "border": null,
            "bottom": null,
            "display": null,
            "flex": null,
            "flex_flow": null,
            "grid_area": null,
            "grid_auto_columns": null,
            "grid_auto_flow": null,
            "grid_auto_rows": null,
            "grid_column": null,
            "grid_gap": null,
            "grid_row": null,
            "grid_template_areas": null,
            "grid_template_columns": null,
            "grid_template_rows": null,
            "height": null,
            "justify_content": null,
            "justify_items": null,
            "left": null,
            "margin": null,
            "max_height": null,
            "max_width": null,
            "min_height": null,
            "min_width": null,
            "object_fit": null,
            "object_position": null,
            "order": null,
            "overflow": null,
            "overflow_x": null,
            "overflow_y": null,
            "padding": null,
            "right": null,
            "top": null,
            "visibility": null,
            "width": null
          }
        },
        "bb0370b5ecfe4160b9268eaa2b657c25": {
          "model_module": "@jupyter-widgets/base",
          "model_name": "LayoutModel",
          "model_module_version": "1.2.0",
          "state": {
            "_model_module": "@jupyter-widgets/base",
            "_model_module_version": "1.2.0",
            "_model_name": "LayoutModel",
            "_view_count": null,
            "_view_module": "@jupyter-widgets/base",
            "_view_module_version": "1.2.0",
            "_view_name": "LayoutView",
            "align_content": null,
            "align_items": null,
            "align_self": null,
            "border": null,
            "bottom": null,
            "display": null,
            "flex": null,
            "flex_flow": null,
            "grid_area": null,
            "grid_auto_columns": null,
            "grid_auto_flow": null,
            "grid_auto_rows": null,
            "grid_column": null,
            "grid_gap": null,
            "grid_row": null,
            "grid_template_areas": null,
            "grid_template_columns": null,
            "grid_template_rows": null,
            "height": null,
            "justify_content": null,
            "justify_items": null,
            "left": null,
            "margin": null,
            "max_height": null,
            "max_width": null,
            "min_height": null,
            "min_width": null,
            "object_fit": null,
            "object_position": null,
            "order": null,
            "overflow": null,
            "overflow_x": null,
            "overflow_y": null,
            "padding": null,
            "right": null,
            "top": null,
            "visibility": null,
            "width": null
          }
        },
        "7ba76a64438a47c4b7d24ba7a56721ce": {
          "model_module": "@jupyter-widgets/controls",
          "model_name": "DescriptionStyleModel",
          "model_module_version": "1.5.0",
          "state": {
            "_model_module": "@jupyter-widgets/controls",
            "_model_module_version": "1.5.0",
            "_model_name": "DescriptionStyleModel",
            "_view_count": null,
            "_view_module": "@jupyter-widgets/base",
            "_view_module_version": "1.2.0",
            "_view_name": "StyleView",
            "description_width": ""
          }
        },
        "aac4dfa45ae74594bb79f619e38d92fe": {
          "model_module": "@jupyter-widgets/base",
          "model_name": "LayoutModel",
          "model_module_version": "1.2.0",
          "state": {
            "_model_module": "@jupyter-widgets/base",
            "_model_module_version": "1.2.0",
            "_model_name": "LayoutModel",
            "_view_count": null,
            "_view_module": "@jupyter-widgets/base",
            "_view_module_version": "1.2.0",
            "_view_name": "LayoutView",
            "align_content": null,
            "align_items": null,
            "align_self": null,
            "border": null,
            "bottom": null,
            "display": null,
            "flex": null,
            "flex_flow": null,
            "grid_area": null,
            "grid_auto_columns": null,
            "grid_auto_flow": null,
            "grid_auto_rows": null,
            "grid_column": null,
            "grid_gap": null,
            "grid_row": null,
            "grid_template_areas": null,
            "grid_template_columns": null,
            "grid_template_rows": null,
            "height": null,
            "justify_content": null,
            "justify_items": null,
            "left": null,
            "margin": null,
            "max_height": null,
            "max_width": null,
            "min_height": null,
            "min_width": null,
            "object_fit": null,
            "object_position": null,
            "order": null,
            "overflow": null,
            "overflow_x": null,
            "overflow_y": null,
            "padding": null,
            "right": null,
            "top": null,
            "visibility": null,
            "width": null
          }
        },
        "b799135523d544c1a22a55f983370812": {
          "model_module": "@jupyter-widgets/controls",
          "model_name": "ProgressStyleModel",
          "model_module_version": "1.5.0",
          "state": {
            "_model_module": "@jupyter-widgets/controls",
            "_model_module_version": "1.5.0",
            "_model_name": "ProgressStyleModel",
            "_view_count": null,
            "_view_module": "@jupyter-widgets/base",
            "_view_module_version": "1.2.0",
            "_view_name": "StyleView",
            "bar_color": null,
            "description_width": ""
          }
        },
        "7c909173c75f4686820481982358adfb": {
          "model_module": "@jupyter-widgets/base",
          "model_name": "LayoutModel",
          "model_module_version": "1.2.0",
          "state": {
            "_model_module": "@jupyter-widgets/base",
            "_model_module_version": "1.2.0",
            "_model_name": "LayoutModel",
            "_view_count": null,
            "_view_module": "@jupyter-widgets/base",
            "_view_module_version": "1.2.0",
            "_view_name": "LayoutView",
            "align_content": null,
            "align_items": null,
            "align_self": null,
            "border": null,
            "bottom": null,
            "display": null,
            "flex": null,
            "flex_flow": null,
            "grid_area": null,
            "grid_auto_columns": null,
            "grid_auto_flow": null,
            "grid_auto_rows": null,
            "grid_column": null,
            "grid_gap": null,
            "grid_row": null,
            "grid_template_areas": null,
            "grid_template_columns": null,
            "grid_template_rows": null,
            "height": null,
            "justify_content": null,
            "justify_items": null,
            "left": null,
            "margin": null,
            "max_height": null,
            "max_width": null,
            "min_height": null,
            "min_width": null,
            "object_fit": null,
            "object_position": null,
            "order": null,
            "overflow": null,
            "overflow_x": null,
            "overflow_y": null,
            "padding": null,
            "right": null,
            "top": null,
            "visibility": null,
            "width": null
          }
        },
        "cd2f0336f4a5495389ac8d1fc95f84b7": {
          "model_module": "@jupyter-widgets/controls",
          "model_name": "DescriptionStyleModel",
          "model_module_version": "1.5.0",
          "state": {
            "_model_module": "@jupyter-widgets/controls",
            "_model_module_version": "1.5.0",
            "_model_name": "DescriptionStyleModel",
            "_view_count": null,
            "_view_module": "@jupyter-widgets/base",
            "_view_module_version": "1.2.0",
            "_view_name": "StyleView",
            "description_width": ""
          }
        },
        "cac4c5adfb464b54b7926c03b2060b38": {
          "model_module": "@jupyter-widgets/controls",
          "model_name": "HBoxModel",
          "model_module_version": "1.5.0",
          "state": {
            "_dom_classes": [],
            "_model_module": "@jupyter-widgets/controls",
            "_model_module_version": "1.5.0",
            "_model_name": "HBoxModel",
            "_view_count": null,
            "_view_module": "@jupyter-widgets/controls",
            "_view_module_version": "1.5.0",
            "_view_name": "HBoxView",
            "box_style": "",
            "children": [
              "IPY_MODEL_d806d904affa4f2c9e80a4d32066ded9",
              "IPY_MODEL_e7f6c5217bbb4a2ca73d276e80753d5d",
              "IPY_MODEL_de655a79337d4d24ab9ea267b2d6228e"
            ],
            "layout": "IPY_MODEL_ba33da46c38b4d7994f37062fa68bf8e"
          }
        },
        "d806d904affa4f2c9e80a4d32066ded9": {
          "model_module": "@jupyter-widgets/controls",
          "model_name": "HTMLModel",
          "model_module_version": "1.5.0",
          "state": {
            "_dom_classes": [],
            "_model_module": "@jupyter-widgets/controls",
            "_model_module_version": "1.5.0",
            "_model_name": "HTMLModel",
            "_view_count": null,
            "_view_module": "@jupyter-widgets/controls",
            "_view_module_version": "1.5.0",
            "_view_name": "HTMLView",
            "description": "",
            "description_tooltip": null,
            "layout": "IPY_MODEL_85e24f24ae1848459c53a8215135b10b",
            "placeholder": "​",
            "style": "IPY_MODEL_da6b0925e3e64e92a51f2b416917c967",
            "value": "generation_config.json: 100%"
          }
        },
        "e7f6c5217bbb4a2ca73d276e80753d5d": {
          "model_module": "@jupyter-widgets/controls",
          "model_name": "FloatProgressModel",
          "model_module_version": "1.5.0",
          "state": {
            "_dom_classes": [],
            "_model_module": "@jupyter-widgets/controls",
            "_model_module_version": "1.5.0",
            "_model_name": "FloatProgressModel",
            "_view_count": null,
            "_view_module": "@jupyter-widgets/controls",
            "_view_module_version": "1.5.0",
            "_view_name": "ProgressView",
            "bar_style": "success",
            "description": "",
            "description_tooltip": null,
            "layout": "IPY_MODEL_0b7d782ef183439cb2c0aa5c53fb667a",
            "max": 111,
            "min": 0,
            "orientation": "horizontal",
            "style": "IPY_MODEL_253c88b551d54df9b164ca2cd8fe9b57",
            "value": 111
          }
        },
        "de655a79337d4d24ab9ea267b2d6228e": {
          "model_module": "@jupyter-widgets/controls",
          "model_name": "HTMLModel",
          "model_module_version": "1.5.0",
          "state": {
            "_dom_classes": [],
            "_model_module": "@jupyter-widgets/controls",
            "_model_module_version": "1.5.0",
            "_model_name": "HTMLModel",
            "_view_count": null,
            "_view_module": "@jupyter-widgets/controls",
            "_view_module_version": "1.5.0",
            "_view_name": "HTMLView",
            "description": "",
            "description_tooltip": null,
            "layout": "IPY_MODEL_72553f65a25b4158a4967c04e885ac91",
            "placeholder": "​",
            "style": "IPY_MODEL_8c46229519c7412f92f42e8ff54315cf",
            "value": " 111/111 [00:00&lt;00:00, 7.92kB/s]"
          }
        },
        "ba33da46c38b4d7994f37062fa68bf8e": {
          "model_module": "@jupyter-widgets/base",
          "model_name": "LayoutModel",
          "model_module_version": "1.2.0",
          "state": {
            "_model_module": "@jupyter-widgets/base",
            "_model_module_version": "1.2.0",
            "_model_name": "LayoutModel",
            "_view_count": null,
            "_view_module": "@jupyter-widgets/base",
            "_view_module_version": "1.2.0",
            "_view_name": "LayoutView",
            "align_content": null,
            "align_items": null,
            "align_self": null,
            "border": null,
            "bottom": null,
            "display": null,
            "flex": null,
            "flex_flow": null,
            "grid_area": null,
            "grid_auto_columns": null,
            "grid_auto_flow": null,
            "grid_auto_rows": null,
            "grid_column": null,
            "grid_gap": null,
            "grid_row": null,
            "grid_template_areas": null,
            "grid_template_columns": null,
            "grid_template_rows": null,
            "height": null,
            "justify_content": null,
            "justify_items": null,
            "left": null,
            "margin": null,
            "max_height": null,
            "max_width": null,
            "min_height": null,
            "min_width": null,
            "object_fit": null,
            "object_position": null,
            "order": null,
            "overflow": null,
            "overflow_x": null,
            "overflow_y": null,
            "padding": null,
            "right": null,
            "top": null,
            "visibility": null,
            "width": null
          }
        },
        "85e24f24ae1848459c53a8215135b10b": {
          "model_module": "@jupyter-widgets/base",
          "model_name": "LayoutModel",
          "model_module_version": "1.2.0",
          "state": {
            "_model_module": "@jupyter-widgets/base",
            "_model_module_version": "1.2.0",
            "_model_name": "LayoutModel",
            "_view_count": null,
            "_view_module": "@jupyter-widgets/base",
            "_view_module_version": "1.2.0",
            "_view_name": "LayoutView",
            "align_content": null,
            "align_items": null,
            "align_self": null,
            "border": null,
            "bottom": null,
            "display": null,
            "flex": null,
            "flex_flow": null,
            "grid_area": null,
            "grid_auto_columns": null,
            "grid_auto_flow": null,
            "grid_auto_rows": null,
            "grid_column": null,
            "grid_gap": null,
            "grid_row": null,
            "grid_template_areas": null,
            "grid_template_columns": null,
            "grid_template_rows": null,
            "height": null,
            "justify_content": null,
            "justify_items": null,
            "left": null,
            "margin": null,
            "max_height": null,
            "max_width": null,
            "min_height": null,
            "min_width": null,
            "object_fit": null,
            "object_position": null,
            "order": null,
            "overflow": null,
            "overflow_x": null,
            "overflow_y": null,
            "padding": null,
            "right": null,
            "top": null,
            "visibility": null,
            "width": null
          }
        },
        "da6b0925e3e64e92a51f2b416917c967": {
          "model_module": "@jupyter-widgets/controls",
          "model_name": "DescriptionStyleModel",
          "model_module_version": "1.5.0",
          "state": {
            "_model_module": "@jupyter-widgets/controls",
            "_model_module_version": "1.5.0",
            "_model_name": "DescriptionStyleModel",
            "_view_count": null,
            "_view_module": "@jupyter-widgets/base",
            "_view_module_version": "1.2.0",
            "_view_name": "StyleView",
            "description_width": ""
          }
        },
        "0b7d782ef183439cb2c0aa5c53fb667a": {
          "model_module": "@jupyter-widgets/base",
          "model_name": "LayoutModel",
          "model_module_version": "1.2.0",
          "state": {
            "_model_module": "@jupyter-widgets/base",
            "_model_module_version": "1.2.0",
            "_model_name": "LayoutModel",
            "_view_count": null,
            "_view_module": "@jupyter-widgets/base",
            "_view_module_version": "1.2.0",
            "_view_name": "LayoutView",
            "align_content": null,
            "align_items": null,
            "align_self": null,
            "border": null,
            "bottom": null,
            "display": null,
            "flex": null,
            "flex_flow": null,
            "grid_area": null,
            "grid_auto_columns": null,
            "grid_auto_flow": null,
            "grid_auto_rows": null,
            "grid_column": null,
            "grid_gap": null,
            "grid_row": null,
            "grid_template_areas": null,
            "grid_template_columns": null,
            "grid_template_rows": null,
            "height": null,
            "justify_content": null,
            "justify_items": null,
            "left": null,
            "margin": null,
            "max_height": null,
            "max_width": null,
            "min_height": null,
            "min_width": null,
            "object_fit": null,
            "object_position": null,
            "order": null,
            "overflow": null,
            "overflow_x": null,
            "overflow_y": null,
            "padding": null,
            "right": null,
            "top": null,
            "visibility": null,
            "width": null
          }
        },
        "253c88b551d54df9b164ca2cd8fe9b57": {
          "model_module": "@jupyter-widgets/controls",
          "model_name": "ProgressStyleModel",
          "model_module_version": "1.5.0",
          "state": {
            "_model_module": "@jupyter-widgets/controls",
            "_model_module_version": "1.5.0",
            "_model_name": "ProgressStyleModel",
            "_view_count": null,
            "_view_module": "@jupyter-widgets/base",
            "_view_module_version": "1.2.0",
            "_view_name": "StyleView",
            "bar_color": null,
            "description_width": ""
          }
        },
        "72553f65a25b4158a4967c04e885ac91": {
          "model_module": "@jupyter-widgets/base",
          "model_name": "LayoutModel",
          "model_module_version": "1.2.0",
          "state": {
            "_model_module": "@jupyter-widgets/base",
            "_model_module_version": "1.2.0",
            "_model_name": "LayoutModel",
            "_view_count": null,
            "_view_module": "@jupyter-widgets/base",
            "_view_module_version": "1.2.0",
            "_view_name": "LayoutView",
            "align_content": null,
            "align_items": null,
            "align_self": null,
            "border": null,
            "bottom": null,
            "display": null,
            "flex": null,
            "flex_flow": null,
            "grid_area": null,
            "grid_auto_columns": null,
            "grid_auto_flow": null,
            "grid_auto_rows": null,
            "grid_column": null,
            "grid_gap": null,
            "grid_row": null,
            "grid_template_areas": null,
            "grid_template_columns": null,
            "grid_template_rows": null,
            "height": null,
            "justify_content": null,
            "justify_items": null,
            "left": null,
            "margin": null,
            "max_height": null,
            "max_width": null,
            "min_height": null,
            "min_width": null,
            "object_fit": null,
            "object_position": null,
            "order": null,
            "overflow": null,
            "overflow_x": null,
            "overflow_y": null,
            "padding": null,
            "right": null,
            "top": null,
            "visibility": null,
            "width": null
          }
        },
        "8c46229519c7412f92f42e8ff54315cf": {
          "model_module": "@jupyter-widgets/controls",
          "model_name": "DescriptionStyleModel",
          "model_module_version": "1.5.0",
          "state": {
            "_model_module": "@jupyter-widgets/controls",
            "_model_module_version": "1.5.0",
            "_model_name": "DescriptionStyleModel",
            "_view_count": null,
            "_view_module": "@jupyter-widgets/base",
            "_view_module_version": "1.2.0",
            "_view_name": "StyleView",
            "description_width": ""
          }
        },
        "fd7c917ab3344d6ab911dcfbcbb0bc7d": {
          "model_module": "@jupyter-widgets/controls",
          "model_name": "HBoxModel",
          "model_module_version": "1.5.0",
          "state": {
            "_dom_classes": [],
            "_model_module": "@jupyter-widgets/controls",
            "_model_module_version": "1.5.0",
            "_model_name": "HBoxModel",
            "_view_count": null,
            "_view_module": "@jupyter-widgets/controls",
            "_view_module_version": "1.5.0",
            "_view_name": "HBoxView",
            "box_style": "",
            "children": [
              "IPY_MODEL_4569d44034a3418a8bccdb8cf158c8a7",
              "IPY_MODEL_a75b8bf743c94d668e71bb4423878207",
              "IPY_MODEL_4ca255c5fe9d40258f1c19d23f400487"
            ],
            "layout": "IPY_MODEL_f702b652b4144f55bbcdab2ba5f2dd10"
          }
        },
        "4569d44034a3418a8bccdb8cf158c8a7": {
          "model_module": "@jupyter-widgets/controls",
          "model_name": "HTMLModel",
          "model_module_version": "1.5.0",
          "state": {
            "_dom_classes": [],
            "_model_module": "@jupyter-widgets/controls",
            "_model_module_version": "1.5.0",
            "_model_name": "HTMLModel",
            "_view_count": null,
            "_view_module": "@jupyter-widgets/controls",
            "_view_module_version": "1.5.0",
            "_view_name": "HTMLView",
            "description": "",
            "description_tooltip": null,
            "layout": "IPY_MODEL_bed976fa4bd64c23ab022da2d0d61627",
            "placeholder": "​",
            "style": "IPY_MODEL_864bc7ff8c2a49b6957074f12864d7b4",
            "value": "tokenizer_config.json: 100%"
          }
        },
        "a75b8bf743c94d668e71bb4423878207": {
          "model_module": "@jupyter-widgets/controls",
          "model_name": "FloatProgressModel",
          "model_module_version": "1.5.0",
          "state": {
            "_dom_classes": [],
            "_model_module": "@jupyter-widgets/controls",
            "_model_module_version": "1.5.0",
            "_model_name": "FloatProgressModel",
            "_view_count": null,
            "_view_module": "@jupyter-widgets/controls",
            "_view_module_version": "1.5.0",
            "_view_name": "ProgressView",
            "bar_style": "success",
            "description": "",
            "description_tooltip": null,
            "layout": "IPY_MODEL_8e7420f738f7487fb109894f675e9970",
            "max": 1431,
            "min": 0,
            "orientation": "horizontal",
            "style": "IPY_MODEL_7dc5ad813ad44053963b855895f8a5e0",
            "value": 1431
          }
        },
        "4ca255c5fe9d40258f1c19d23f400487": {
          "model_module": "@jupyter-widgets/controls",
          "model_name": "HTMLModel",
          "model_module_version": "1.5.0",
          "state": {
            "_dom_classes": [],
            "_model_module": "@jupyter-widgets/controls",
            "_model_module_version": "1.5.0",
            "_model_name": "HTMLModel",
            "_view_count": null,
            "_view_module": "@jupyter-widgets/controls",
            "_view_module_version": "1.5.0",
            "_view_name": "HTMLView",
            "description": "",
            "description_tooltip": null,
            "layout": "IPY_MODEL_5d00105e202449b79ae24252399d1037",
            "placeholder": "​",
            "style": "IPY_MODEL_345026bc518548e59f9ded48cd4639c7",
            "value": " 1.43k/1.43k [00:00&lt;00:00, 100kB/s]"
          }
        },
        "f702b652b4144f55bbcdab2ba5f2dd10": {
          "model_module": "@jupyter-widgets/base",
          "model_name": "LayoutModel",
          "model_module_version": "1.2.0",
          "state": {
            "_model_module": "@jupyter-widgets/base",
            "_model_module_version": "1.2.0",
            "_model_name": "LayoutModel",
            "_view_count": null,
            "_view_module": "@jupyter-widgets/base",
            "_view_module_version": "1.2.0",
            "_view_name": "LayoutView",
            "align_content": null,
            "align_items": null,
            "align_self": null,
            "border": null,
            "bottom": null,
            "display": null,
            "flex": null,
            "flex_flow": null,
            "grid_area": null,
            "grid_auto_columns": null,
            "grid_auto_flow": null,
            "grid_auto_rows": null,
            "grid_column": null,
            "grid_gap": null,
            "grid_row": null,
            "grid_template_areas": null,
            "grid_template_columns": null,
            "grid_template_rows": null,
            "height": null,
            "justify_content": null,
            "justify_items": null,
            "left": null,
            "margin": null,
            "max_height": null,
            "max_width": null,
            "min_height": null,
            "min_width": null,
            "object_fit": null,
            "object_position": null,
            "order": null,
            "overflow": null,
            "overflow_x": null,
            "overflow_y": null,
            "padding": null,
            "right": null,
            "top": null,
            "visibility": null,
            "width": null
          }
        },
        "bed976fa4bd64c23ab022da2d0d61627": {
          "model_module": "@jupyter-widgets/base",
          "model_name": "LayoutModel",
          "model_module_version": "1.2.0",
          "state": {
            "_model_module": "@jupyter-widgets/base",
            "_model_module_version": "1.2.0",
            "_model_name": "LayoutModel",
            "_view_count": null,
            "_view_module": "@jupyter-widgets/base",
            "_view_module_version": "1.2.0",
            "_view_name": "LayoutView",
            "align_content": null,
            "align_items": null,
            "align_self": null,
            "border": null,
            "bottom": null,
            "display": null,
            "flex": null,
            "flex_flow": null,
            "grid_area": null,
            "grid_auto_columns": null,
            "grid_auto_flow": null,
            "grid_auto_rows": null,
            "grid_column": null,
            "grid_gap": null,
            "grid_row": null,
            "grid_template_areas": null,
            "grid_template_columns": null,
            "grid_template_rows": null,
            "height": null,
            "justify_content": null,
            "justify_items": null,
            "left": null,
            "margin": null,
            "max_height": null,
            "max_width": null,
            "min_height": null,
            "min_width": null,
            "object_fit": null,
            "object_position": null,
            "order": null,
            "overflow": null,
            "overflow_x": null,
            "overflow_y": null,
            "padding": null,
            "right": null,
            "top": null,
            "visibility": null,
            "width": null
          }
        },
        "864bc7ff8c2a49b6957074f12864d7b4": {
          "model_module": "@jupyter-widgets/controls",
          "model_name": "DescriptionStyleModel",
          "model_module_version": "1.5.0",
          "state": {
            "_model_module": "@jupyter-widgets/controls",
            "_model_module_version": "1.5.0",
            "_model_name": "DescriptionStyleModel",
            "_view_count": null,
            "_view_module": "@jupyter-widgets/base",
            "_view_module_version": "1.2.0",
            "_view_name": "StyleView",
            "description_width": ""
          }
        },
        "8e7420f738f7487fb109894f675e9970": {
          "model_module": "@jupyter-widgets/base",
          "model_name": "LayoutModel",
          "model_module_version": "1.2.0",
          "state": {
            "_model_module": "@jupyter-widgets/base",
            "_model_module_version": "1.2.0",
            "_model_name": "LayoutModel",
            "_view_count": null,
            "_view_module": "@jupyter-widgets/base",
            "_view_module_version": "1.2.0",
            "_view_name": "LayoutView",
            "align_content": null,
            "align_items": null,
            "align_self": null,
            "border": null,
            "bottom": null,
            "display": null,
            "flex": null,
            "flex_flow": null,
            "grid_area": null,
            "grid_auto_columns": null,
            "grid_auto_flow": null,
            "grid_auto_rows": null,
            "grid_column": null,
            "grid_gap": null,
            "grid_row": null,
            "grid_template_areas": null,
            "grid_template_columns": null,
            "grid_template_rows": null,
            "height": null,
            "justify_content": null,
            "justify_items": null,
            "left": null,
            "margin": null,
            "max_height": null,
            "max_width": null,
            "min_height": null,
            "min_width": null,
            "object_fit": null,
            "object_position": null,
            "order": null,
            "overflow": null,
            "overflow_x": null,
            "overflow_y": null,
            "padding": null,
            "right": null,
            "top": null,
            "visibility": null,
            "width": null
          }
        },
        "7dc5ad813ad44053963b855895f8a5e0": {
          "model_module": "@jupyter-widgets/controls",
          "model_name": "ProgressStyleModel",
          "model_module_version": "1.5.0",
          "state": {
            "_model_module": "@jupyter-widgets/controls",
            "_model_module_version": "1.5.0",
            "_model_name": "ProgressStyleModel",
            "_view_count": null,
            "_view_module": "@jupyter-widgets/base",
            "_view_module_version": "1.2.0",
            "_view_name": "StyleView",
            "bar_color": null,
            "description_width": ""
          }
        },
        "5d00105e202449b79ae24252399d1037": {
          "model_module": "@jupyter-widgets/base",
          "model_name": "LayoutModel",
          "model_module_version": "1.2.0",
          "state": {
            "_model_module": "@jupyter-widgets/base",
            "_model_module_version": "1.2.0",
            "_model_name": "LayoutModel",
            "_view_count": null,
            "_view_module": "@jupyter-widgets/base",
            "_view_module_version": "1.2.0",
            "_view_name": "LayoutView",
            "align_content": null,
            "align_items": null,
            "align_self": null,
            "border": null,
            "bottom": null,
            "display": null,
            "flex": null,
            "flex_flow": null,
            "grid_area": null,
            "grid_auto_columns": null,
            "grid_auto_flow": null,
            "grid_auto_rows": null,
            "grid_column": null,
            "grid_gap": null,
            "grid_row": null,
            "grid_template_areas": null,
            "grid_template_columns": null,
            "grid_template_rows": null,
            "height": null,
            "justify_content": null,
            "justify_items": null,
            "left": null,
            "margin": null,
            "max_height": null,
            "max_width": null,
            "min_height": null,
            "min_width": null,
            "object_fit": null,
            "object_position": null,
            "order": null,
            "overflow": null,
            "overflow_x": null,
            "overflow_y": null,
            "padding": null,
            "right": null,
            "top": null,
            "visibility": null,
            "width": null
          }
        },
        "345026bc518548e59f9ded48cd4639c7": {
          "model_module": "@jupyter-widgets/controls",
          "model_name": "DescriptionStyleModel",
          "model_module_version": "1.5.0",
          "state": {
            "_model_module": "@jupyter-widgets/controls",
            "_model_module_version": "1.5.0",
            "_model_name": "DescriptionStyleModel",
            "_view_count": null,
            "_view_module": "@jupyter-widgets/base",
            "_view_module_version": "1.2.0",
            "_view_name": "StyleView",
            "description_width": ""
          }
        },
        "2362aaf3f5ae49eeb7f70fbd33983d42": {
          "model_module": "@jupyter-widgets/controls",
          "model_name": "HBoxModel",
          "model_module_version": "1.5.0",
          "state": {
            "_dom_classes": [],
            "_model_module": "@jupyter-widgets/controls",
            "_model_module_version": "1.5.0",
            "_model_name": "HBoxModel",
            "_view_count": null,
            "_view_module": "@jupyter-widgets/controls",
            "_view_module_version": "1.5.0",
            "_view_name": "HBoxView",
            "box_style": "",
            "children": [
              "IPY_MODEL_d21679895a0d477c90c0cae1c61629cb",
              "IPY_MODEL_4aa7612b67c74a679c9fc48963340204",
              "IPY_MODEL_b43f3a820952425089f183a470b38633"
            ],
            "layout": "IPY_MODEL_33fa1ad347784600a40b1d5850ad353e"
          }
        },
        "d21679895a0d477c90c0cae1c61629cb": {
          "model_module": "@jupyter-widgets/controls",
          "model_name": "HTMLModel",
          "model_module_version": "1.5.0",
          "state": {
            "_dom_classes": [],
            "_model_module": "@jupyter-widgets/controls",
            "_model_module_version": "1.5.0",
            "_model_name": "HTMLModel",
            "_view_count": null,
            "_view_module": "@jupyter-widgets/controls",
            "_view_module_version": "1.5.0",
            "_view_name": "HTMLView",
            "description": "",
            "description_tooltip": null,
            "layout": "IPY_MODEL_b44bca0b0e7b42e1ba18e812eb70cbe0",
            "placeholder": "​",
            "style": "IPY_MODEL_212099a350714ef990689c27a31d3581",
            "value": "tokenizer.model: 100%"
          }
        },
        "4aa7612b67c74a679c9fc48963340204": {
          "model_module": "@jupyter-widgets/controls",
          "model_name": "FloatProgressModel",
          "model_module_version": "1.5.0",
          "state": {
            "_dom_classes": [],
            "_model_module": "@jupyter-widgets/controls",
            "_model_module_version": "1.5.0",
            "_model_name": "FloatProgressModel",
            "_view_count": null,
            "_view_module": "@jupyter-widgets/controls",
            "_view_module_version": "1.5.0",
            "_view_name": "ProgressView",
            "bar_style": "success",
            "description": "",
            "description_tooltip": null,
            "layout": "IPY_MODEL_93f727160557479495029141c8fabdc5",
            "max": 493443,
            "min": 0,
            "orientation": "horizontal",
            "style": "IPY_MODEL_57623f20f2d543ff84da3450fff9e56e",
            "value": 493443
          }
        },
        "b43f3a820952425089f183a470b38633": {
          "model_module": "@jupyter-widgets/controls",
          "model_name": "HTMLModel",
          "model_module_version": "1.5.0",
          "state": {
            "_dom_classes": [],
            "_model_module": "@jupyter-widgets/controls",
            "_model_module_version": "1.5.0",
            "_model_name": "HTMLModel",
            "_view_count": null,
            "_view_module": "@jupyter-widgets/controls",
            "_view_module_version": "1.5.0",
            "_view_name": "HTMLView",
            "description": "",
            "description_tooltip": null,
            "layout": "IPY_MODEL_f54427f5e3f9463ab6d9d22ea3b37361",
            "placeholder": "​",
            "style": "IPY_MODEL_54cd6f00e3de414b8b3765d0fe00c799",
            "value": " 493k/493k [00:00&lt;00:00, 28.6MB/s]"
          }
        },
        "33fa1ad347784600a40b1d5850ad353e": {
          "model_module": "@jupyter-widgets/base",
          "model_name": "LayoutModel",
          "model_module_version": "1.2.0",
          "state": {
            "_model_module": "@jupyter-widgets/base",
            "_model_module_version": "1.2.0",
            "_model_name": "LayoutModel",
            "_view_count": null,
            "_view_module": "@jupyter-widgets/base",
            "_view_module_version": "1.2.0",
            "_view_name": "LayoutView",
            "align_content": null,
            "align_items": null,
            "align_self": null,
            "border": null,
            "bottom": null,
            "display": null,
            "flex": null,
            "flex_flow": null,
            "grid_area": null,
            "grid_auto_columns": null,
            "grid_auto_flow": null,
            "grid_auto_rows": null,
            "grid_column": null,
            "grid_gap": null,
            "grid_row": null,
            "grid_template_areas": null,
            "grid_template_columns": null,
            "grid_template_rows": null,
            "height": null,
            "justify_content": null,
            "justify_items": null,
            "left": null,
            "margin": null,
            "max_height": null,
            "max_width": null,
            "min_height": null,
            "min_width": null,
            "object_fit": null,
            "object_position": null,
            "order": null,
            "overflow": null,
            "overflow_x": null,
            "overflow_y": null,
            "padding": null,
            "right": null,
            "top": null,
            "visibility": null,
            "width": null
          }
        },
        "b44bca0b0e7b42e1ba18e812eb70cbe0": {
          "model_module": "@jupyter-widgets/base",
          "model_name": "LayoutModel",
          "model_module_version": "1.2.0",
          "state": {
            "_model_module": "@jupyter-widgets/base",
            "_model_module_version": "1.2.0",
            "_model_name": "LayoutModel",
            "_view_count": null,
            "_view_module": "@jupyter-widgets/base",
            "_view_module_version": "1.2.0",
            "_view_name": "LayoutView",
            "align_content": null,
            "align_items": null,
            "align_self": null,
            "border": null,
            "bottom": null,
            "display": null,
            "flex": null,
            "flex_flow": null,
            "grid_area": null,
            "grid_auto_columns": null,
            "grid_auto_flow": null,
            "grid_auto_rows": null,
            "grid_column": null,
            "grid_gap": null,
            "grid_row": null,
            "grid_template_areas": null,
            "grid_template_columns": null,
            "grid_template_rows": null,
            "height": null,
            "justify_content": null,
            "justify_items": null,
            "left": null,
            "margin": null,
            "max_height": null,
            "max_width": null,
            "min_height": null,
            "min_width": null,
            "object_fit": null,
            "object_position": null,
            "order": null,
            "overflow": null,
            "overflow_x": null,
            "overflow_y": null,
            "padding": null,
            "right": null,
            "top": null,
            "visibility": null,
            "width": null
          }
        },
        "212099a350714ef990689c27a31d3581": {
          "model_module": "@jupyter-widgets/controls",
          "model_name": "DescriptionStyleModel",
          "model_module_version": "1.5.0",
          "state": {
            "_model_module": "@jupyter-widgets/controls",
            "_model_module_version": "1.5.0",
            "_model_name": "DescriptionStyleModel",
            "_view_count": null,
            "_view_module": "@jupyter-widgets/base",
            "_view_module_version": "1.2.0",
            "_view_name": "StyleView",
            "description_width": ""
          }
        },
        "93f727160557479495029141c8fabdc5": {
          "model_module": "@jupyter-widgets/base",
          "model_name": "LayoutModel",
          "model_module_version": "1.2.0",
          "state": {
            "_model_module": "@jupyter-widgets/base",
            "_model_module_version": "1.2.0",
            "_model_name": "LayoutModel",
            "_view_count": null,
            "_view_module": "@jupyter-widgets/base",
            "_view_module_version": "1.2.0",
            "_view_name": "LayoutView",
            "align_content": null,
            "align_items": null,
            "align_self": null,
            "border": null,
            "bottom": null,
            "display": null,
            "flex": null,
            "flex_flow": null,
            "grid_area": null,
            "grid_auto_columns": null,
            "grid_auto_flow": null,
            "grid_auto_rows": null,
            "grid_column": null,
            "grid_gap": null,
            "grid_row": null,
            "grid_template_areas": null,
            "grid_template_columns": null,
            "grid_template_rows": null,
            "height": null,
            "justify_content": null,
            "justify_items": null,
            "left": null,
            "margin": null,
            "max_height": null,
            "max_width": null,
            "min_height": null,
            "min_width": null,
            "object_fit": null,
            "object_position": null,
            "order": null,
            "overflow": null,
            "overflow_x": null,
            "overflow_y": null,
            "padding": null,
            "right": null,
            "top": null,
            "visibility": null,
            "width": null
          }
        },
        "57623f20f2d543ff84da3450fff9e56e": {
          "model_module": "@jupyter-widgets/controls",
          "model_name": "ProgressStyleModel",
          "model_module_version": "1.5.0",
          "state": {
            "_model_module": "@jupyter-widgets/controls",
            "_model_module_version": "1.5.0",
            "_model_name": "ProgressStyleModel",
            "_view_count": null,
            "_view_module": "@jupyter-widgets/base",
            "_view_module_version": "1.2.0",
            "_view_name": "StyleView",
            "bar_color": null,
            "description_width": ""
          }
        },
        "f54427f5e3f9463ab6d9d22ea3b37361": {
          "model_module": "@jupyter-widgets/base",
          "model_name": "LayoutModel",
          "model_module_version": "1.2.0",
          "state": {
            "_model_module": "@jupyter-widgets/base",
            "_model_module_version": "1.2.0",
            "_model_name": "LayoutModel",
            "_view_count": null,
            "_view_module": "@jupyter-widgets/base",
            "_view_module_version": "1.2.0",
            "_view_name": "LayoutView",
            "align_content": null,
            "align_items": null,
            "align_self": null,
            "border": null,
            "bottom": null,
            "display": null,
            "flex": null,
            "flex_flow": null,
            "grid_area": null,
            "grid_auto_columns": null,
            "grid_auto_flow": null,
            "grid_auto_rows": null,
            "grid_column": null,
            "grid_gap": null,
            "grid_row": null,
            "grid_template_areas": null,
            "grid_template_columns": null,
            "grid_template_rows": null,
            "height": null,
            "justify_content": null,
            "justify_items": null,
            "left": null,
            "margin": null,
            "max_height": null,
            "max_width": null,
            "min_height": null,
            "min_width": null,
            "object_fit": null,
            "object_position": null,
            "order": null,
            "overflow": null,
            "overflow_x": null,
            "overflow_y": null,
            "padding": null,
            "right": null,
            "top": null,
            "visibility": null,
            "width": null
          }
        },
        "54cd6f00e3de414b8b3765d0fe00c799": {
          "model_module": "@jupyter-widgets/controls",
          "model_name": "DescriptionStyleModel",
          "model_module_version": "1.5.0",
          "state": {
            "_model_module": "@jupyter-widgets/controls",
            "_model_module_version": "1.5.0",
            "_model_name": "DescriptionStyleModel",
            "_view_count": null,
            "_view_module": "@jupyter-widgets/base",
            "_view_module_version": "1.2.0",
            "_view_name": "StyleView",
            "description_width": ""
          }
        },
        "b98a310e2063434cb760877abb8c5429": {
          "model_module": "@jupyter-widgets/controls",
          "model_name": "HBoxModel",
          "model_module_version": "1.5.0",
          "state": {
            "_dom_classes": [],
            "_model_module": "@jupyter-widgets/controls",
            "_model_module_version": "1.5.0",
            "_model_name": "HBoxModel",
            "_view_count": null,
            "_view_module": "@jupyter-widgets/controls",
            "_view_module_version": "1.5.0",
            "_view_name": "HBoxView",
            "box_style": "",
            "children": [
              "IPY_MODEL_143ea1b4f98044c1a9beacd461371cda",
              "IPY_MODEL_614da44bc40447e1afeb624040b50447",
              "IPY_MODEL_08b6c03563134a22a5dfb8dba95e3949"
            ],
            "layout": "IPY_MODEL_100db856df4e4ac29caf6afc9daacb07"
          }
        },
        "143ea1b4f98044c1a9beacd461371cda": {
          "model_module": "@jupyter-widgets/controls",
          "model_name": "HTMLModel",
          "model_module_version": "1.5.0",
          "state": {
            "_dom_classes": [],
            "_model_module": "@jupyter-widgets/controls",
            "_model_module_version": "1.5.0",
            "_model_name": "HTMLModel",
            "_view_count": null,
            "_view_module": "@jupyter-widgets/controls",
            "_view_module_version": "1.5.0",
            "_view_name": "HTMLView",
            "description": "",
            "description_tooltip": null,
            "layout": "IPY_MODEL_64f9453ce6d041038bc20e81944834e7",
            "placeholder": "​",
            "style": "IPY_MODEL_0250b1577753415d9245eb487fa92df9",
            "value": "tokenizer.json: 100%"
          }
        },
        "614da44bc40447e1afeb624040b50447": {
          "model_module": "@jupyter-widgets/controls",
          "model_name": "FloatProgressModel",
          "model_module_version": "1.5.0",
          "state": {
            "_dom_classes": [],
            "_model_module": "@jupyter-widgets/controls",
            "_model_module_version": "1.5.0",
            "_model_name": "FloatProgressModel",
            "_view_count": null,
            "_view_module": "@jupyter-widgets/controls",
            "_view_module_version": "1.5.0",
            "_view_name": "ProgressView",
            "bar_style": "success",
            "description": "",
            "description_tooltip": null,
            "layout": "IPY_MODEL_a9be8cd188dd47a0828dcb946b685fca",
            "max": 1795303,
            "min": 0,
            "orientation": "horizontal",
            "style": "IPY_MODEL_77e9d605f5034cf4b5906b4b0c051467",
            "value": 1795303
          }
        },
        "08b6c03563134a22a5dfb8dba95e3949": {
          "model_module": "@jupyter-widgets/controls",
          "model_name": "HTMLModel",
          "model_module_version": "1.5.0",
          "state": {
            "_dom_classes": [],
            "_model_module": "@jupyter-widgets/controls",
            "_model_module_version": "1.5.0",
            "_model_name": "HTMLModel",
            "_view_count": null,
            "_view_module": "@jupyter-widgets/controls",
            "_view_module_version": "1.5.0",
            "_view_name": "HTMLView",
            "description": "",
            "description_tooltip": null,
            "layout": "IPY_MODEL_7616353c911a4035a6bf777f079c1f6c",
            "placeholder": "​",
            "style": "IPY_MODEL_d8534fd300e240dd89c59c3d9c8d4ae4",
            "value": " 1.80M/1.80M [00:00&lt;00:00, 4.45MB/s]"
          }
        },
        "100db856df4e4ac29caf6afc9daacb07": {
          "model_module": "@jupyter-widgets/base",
          "model_name": "LayoutModel",
          "model_module_version": "1.2.0",
          "state": {
            "_model_module": "@jupyter-widgets/base",
            "_model_module_version": "1.2.0",
            "_model_name": "LayoutModel",
            "_view_count": null,
            "_view_module": "@jupyter-widgets/base",
            "_view_module_version": "1.2.0",
            "_view_name": "LayoutView",
            "align_content": null,
            "align_items": null,
            "align_self": null,
            "border": null,
            "bottom": null,
            "display": null,
            "flex": null,
            "flex_flow": null,
            "grid_area": null,
            "grid_auto_columns": null,
            "grid_auto_flow": null,
            "grid_auto_rows": null,
            "grid_column": null,
            "grid_gap": null,
            "grid_row": null,
            "grid_template_areas": null,
            "grid_template_columns": null,
            "grid_template_rows": null,
            "height": null,
            "justify_content": null,
            "justify_items": null,
            "left": null,
            "margin": null,
            "max_height": null,
            "max_width": null,
            "min_height": null,
            "min_width": null,
            "object_fit": null,
            "object_position": null,
            "order": null,
            "overflow": null,
            "overflow_x": null,
            "overflow_y": null,
            "padding": null,
            "right": null,
            "top": null,
            "visibility": null,
            "width": null
          }
        },
        "64f9453ce6d041038bc20e81944834e7": {
          "model_module": "@jupyter-widgets/base",
          "model_name": "LayoutModel",
          "model_module_version": "1.2.0",
          "state": {
            "_model_module": "@jupyter-widgets/base",
            "_model_module_version": "1.2.0",
            "_model_name": "LayoutModel",
            "_view_count": null,
            "_view_module": "@jupyter-widgets/base",
            "_view_module_version": "1.2.0",
            "_view_name": "LayoutView",
            "align_content": null,
            "align_items": null,
            "align_self": null,
            "border": null,
            "bottom": null,
            "display": null,
            "flex": null,
            "flex_flow": null,
            "grid_area": null,
            "grid_auto_columns": null,
            "grid_auto_flow": null,
            "grid_auto_rows": null,
            "grid_column": null,
            "grid_gap": null,
            "grid_row": null,
            "grid_template_areas": null,
            "grid_template_columns": null,
            "grid_template_rows": null,
            "height": null,
            "justify_content": null,
            "justify_items": null,
            "left": null,
            "margin": null,
            "max_height": null,
            "max_width": null,
            "min_height": null,
            "min_width": null,
            "object_fit": null,
            "object_position": null,
            "order": null,
            "overflow": null,
            "overflow_x": null,
            "overflow_y": null,
            "padding": null,
            "right": null,
            "top": null,
            "visibility": null,
            "width": null
          }
        },
        "0250b1577753415d9245eb487fa92df9": {
          "model_module": "@jupyter-widgets/controls",
          "model_name": "DescriptionStyleModel",
          "model_module_version": "1.5.0",
          "state": {
            "_model_module": "@jupyter-widgets/controls",
            "_model_module_version": "1.5.0",
            "_model_name": "DescriptionStyleModel",
            "_view_count": null,
            "_view_module": "@jupyter-widgets/base",
            "_view_module_version": "1.2.0",
            "_view_name": "StyleView",
            "description_width": ""
          }
        },
        "a9be8cd188dd47a0828dcb946b685fca": {
          "model_module": "@jupyter-widgets/base",
          "model_name": "LayoutModel",
          "model_module_version": "1.2.0",
          "state": {
            "_model_module": "@jupyter-widgets/base",
            "_model_module_version": "1.2.0",
            "_model_name": "LayoutModel",
            "_view_count": null,
            "_view_module": "@jupyter-widgets/base",
            "_view_module_version": "1.2.0",
            "_view_name": "LayoutView",
            "align_content": null,
            "align_items": null,
            "align_self": null,
            "border": null,
            "bottom": null,
            "display": null,
            "flex": null,
            "flex_flow": null,
            "grid_area": null,
            "grid_auto_columns": null,
            "grid_auto_flow": null,
            "grid_auto_rows": null,
            "grid_column": null,
            "grid_gap": null,
            "grid_row": null,
            "grid_template_areas": null,
            "grid_template_columns": null,
            "grid_template_rows": null,
            "height": null,
            "justify_content": null,
            "justify_items": null,
            "left": null,
            "margin": null,
            "max_height": null,
            "max_width": null,
            "min_height": null,
            "min_width": null,
            "object_fit": null,
            "object_position": null,
            "order": null,
            "overflow": null,
            "overflow_x": null,
            "overflow_y": null,
            "padding": null,
            "right": null,
            "top": null,
            "visibility": null,
            "width": null
          }
        },
        "77e9d605f5034cf4b5906b4b0c051467": {
          "model_module": "@jupyter-widgets/controls",
          "model_name": "ProgressStyleModel",
          "model_module_version": "1.5.0",
          "state": {
            "_model_module": "@jupyter-widgets/controls",
            "_model_module_version": "1.5.0",
            "_model_name": "ProgressStyleModel",
            "_view_count": null,
            "_view_module": "@jupyter-widgets/base",
            "_view_module_version": "1.2.0",
            "_view_name": "StyleView",
            "bar_color": null,
            "description_width": ""
          }
        },
        "7616353c911a4035a6bf777f079c1f6c": {
          "model_module": "@jupyter-widgets/base",
          "model_name": "LayoutModel",
          "model_module_version": "1.2.0",
          "state": {
            "_model_module": "@jupyter-widgets/base",
            "_model_module_version": "1.2.0",
            "_model_name": "LayoutModel",
            "_view_count": null,
            "_view_module": "@jupyter-widgets/base",
            "_view_module_version": "1.2.0",
            "_view_name": "LayoutView",
            "align_content": null,
            "align_items": null,
            "align_self": null,
            "border": null,
            "bottom": null,
            "display": null,
            "flex": null,
            "flex_flow": null,
            "grid_area": null,
            "grid_auto_columns": null,
            "grid_auto_flow": null,
            "grid_auto_rows": null,
            "grid_column": null,
            "grid_gap": null,
            "grid_row": null,
            "grid_template_areas": null,
            "grid_template_columns": null,
            "grid_template_rows": null,
            "height": null,
            "justify_content": null,
            "justify_items": null,
            "left": null,
            "margin": null,
            "max_height": null,
            "max_width": null,
            "min_height": null,
            "min_width": null,
            "object_fit": null,
            "object_position": null,
            "order": null,
            "overflow": null,
            "overflow_x": null,
            "overflow_y": null,
            "padding": null,
            "right": null,
            "top": null,
            "visibility": null,
            "width": null
          }
        },
        "d8534fd300e240dd89c59c3d9c8d4ae4": {
          "model_module": "@jupyter-widgets/controls",
          "model_name": "DescriptionStyleModel",
          "model_module_version": "1.5.0",
          "state": {
            "_model_module": "@jupyter-widgets/controls",
            "_model_module_version": "1.5.0",
            "_model_name": "DescriptionStyleModel",
            "_view_count": null,
            "_view_module": "@jupyter-widgets/base",
            "_view_module_version": "1.2.0",
            "_view_name": "StyleView",
            "description_width": ""
          }
        },
        "fdd7c1203dc04bc8883200e2ccb8251f": {
          "model_module": "@jupyter-widgets/controls",
          "model_name": "HBoxModel",
          "model_module_version": "1.5.0",
          "state": {
            "_dom_classes": [],
            "_model_module": "@jupyter-widgets/controls",
            "_model_module_version": "1.5.0",
            "_model_name": "HBoxModel",
            "_view_count": null,
            "_view_module": "@jupyter-widgets/controls",
            "_view_module_version": "1.5.0",
            "_view_name": "HBoxView",
            "box_style": "",
            "children": [
              "IPY_MODEL_61f2186db8db4c91ae7718c0cdb401ff",
              "IPY_MODEL_49ba1fa4afa6445cad3d0baa16f70440",
              "IPY_MODEL_1e0eedd2bbb94143aa1d063be7f96ab5"
            ],
            "layout": "IPY_MODEL_4885f5dc8c704899a2c52cbf46bed0cc"
          }
        },
        "61f2186db8db4c91ae7718c0cdb401ff": {
          "model_module": "@jupyter-widgets/controls",
          "model_name": "HTMLModel",
          "model_module_version": "1.5.0",
          "state": {
            "_dom_classes": [],
            "_model_module": "@jupyter-widgets/controls",
            "_model_module_version": "1.5.0",
            "_model_name": "HTMLModel",
            "_view_count": null,
            "_view_module": "@jupyter-widgets/controls",
            "_view_module_version": "1.5.0",
            "_view_name": "HTMLView",
            "description": "",
            "description_tooltip": null,
            "layout": "IPY_MODEL_9f765f1227e147b6af501ada8269d2f1",
            "placeholder": "​",
            "style": "IPY_MODEL_9324395c9aa44f3e9d50a06b47e25a88",
            "value": "added_tokens.json: 100%"
          }
        },
        "49ba1fa4afa6445cad3d0baa16f70440": {
          "model_module": "@jupyter-widgets/controls",
          "model_name": "FloatProgressModel",
          "model_module_version": "1.5.0",
          "state": {
            "_dom_classes": [],
            "_model_module": "@jupyter-widgets/controls",
            "_model_module_version": "1.5.0",
            "_model_name": "FloatProgressModel",
            "_view_count": null,
            "_view_module": "@jupyter-widgets/controls",
            "_view_module_version": "1.5.0",
            "_view_name": "ProgressView",
            "bar_style": "success",
            "description": "",
            "description_tooltip": null,
            "layout": "IPY_MODEL_a95505cf2a834763ab32acd6c4fe409c",
            "max": 42,
            "min": 0,
            "orientation": "horizontal",
            "style": "IPY_MODEL_d33f5bff31c44295adbb32a112e4b4be",
            "value": 42
          }
        },
        "1e0eedd2bbb94143aa1d063be7f96ab5": {
          "model_module": "@jupyter-widgets/controls",
          "model_name": "HTMLModel",
          "model_module_version": "1.5.0",
          "state": {
            "_dom_classes": [],
            "_model_module": "@jupyter-widgets/controls",
            "_model_module_version": "1.5.0",
            "_model_name": "HTMLModel",
            "_view_count": null,
            "_view_module": "@jupyter-widgets/controls",
            "_view_module_version": "1.5.0",
            "_view_name": "HTMLView",
            "description": "",
            "description_tooltip": null,
            "layout": "IPY_MODEL_cf6046e8b98a4e549be4e2851659d891",
            "placeholder": "​",
            "style": "IPY_MODEL_1f5eb4b050ad441a8668404742971a8a",
            "value": " 42.0/42.0 [00:00&lt;00:00, 3.31kB/s]"
          }
        },
        "4885f5dc8c704899a2c52cbf46bed0cc": {
          "model_module": "@jupyter-widgets/base",
          "model_name": "LayoutModel",
          "model_module_version": "1.2.0",
          "state": {
            "_model_module": "@jupyter-widgets/base",
            "_model_module_version": "1.2.0",
            "_model_name": "LayoutModel",
            "_view_count": null,
            "_view_module": "@jupyter-widgets/base",
            "_view_module_version": "1.2.0",
            "_view_name": "LayoutView",
            "align_content": null,
            "align_items": null,
            "align_self": null,
            "border": null,
            "bottom": null,
            "display": null,
            "flex": null,
            "flex_flow": null,
            "grid_area": null,
            "grid_auto_columns": null,
            "grid_auto_flow": null,
            "grid_auto_rows": null,
            "grid_column": null,
            "grid_gap": null,
            "grid_row": null,
            "grid_template_areas": null,
            "grid_template_columns": null,
            "grid_template_rows": null,
            "height": null,
            "justify_content": null,
            "justify_items": null,
            "left": null,
            "margin": null,
            "max_height": null,
            "max_width": null,
            "min_height": null,
            "min_width": null,
            "object_fit": null,
            "object_position": null,
            "order": null,
            "overflow": null,
            "overflow_x": null,
            "overflow_y": null,
            "padding": null,
            "right": null,
            "top": null,
            "visibility": null,
            "width": null
          }
        },
        "9f765f1227e147b6af501ada8269d2f1": {
          "model_module": "@jupyter-widgets/base",
          "model_name": "LayoutModel",
          "model_module_version": "1.2.0",
          "state": {
            "_model_module": "@jupyter-widgets/base",
            "_model_module_version": "1.2.0",
            "_model_name": "LayoutModel",
            "_view_count": null,
            "_view_module": "@jupyter-widgets/base",
            "_view_module_version": "1.2.0",
            "_view_name": "LayoutView",
            "align_content": null,
            "align_items": null,
            "align_self": null,
            "border": null,
            "bottom": null,
            "display": null,
            "flex": null,
            "flex_flow": null,
            "grid_area": null,
            "grid_auto_columns": null,
            "grid_auto_flow": null,
            "grid_auto_rows": null,
            "grid_column": null,
            "grid_gap": null,
            "grid_row": null,
            "grid_template_areas": null,
            "grid_template_columns": null,
            "grid_template_rows": null,
            "height": null,
            "justify_content": null,
            "justify_items": null,
            "left": null,
            "margin": null,
            "max_height": null,
            "max_width": null,
            "min_height": null,
            "min_width": null,
            "object_fit": null,
            "object_position": null,
            "order": null,
            "overflow": null,
            "overflow_x": null,
            "overflow_y": null,
            "padding": null,
            "right": null,
            "top": null,
            "visibility": null,
            "width": null
          }
        },
        "9324395c9aa44f3e9d50a06b47e25a88": {
          "model_module": "@jupyter-widgets/controls",
          "model_name": "DescriptionStyleModel",
          "model_module_version": "1.5.0",
          "state": {
            "_model_module": "@jupyter-widgets/controls",
            "_model_module_version": "1.5.0",
            "_model_name": "DescriptionStyleModel",
            "_view_count": null,
            "_view_module": "@jupyter-widgets/base",
            "_view_module_version": "1.2.0",
            "_view_name": "StyleView",
            "description_width": ""
          }
        },
        "a95505cf2a834763ab32acd6c4fe409c": {
          "model_module": "@jupyter-widgets/base",
          "model_name": "LayoutModel",
          "model_module_version": "1.2.0",
          "state": {
            "_model_module": "@jupyter-widgets/base",
            "_model_module_version": "1.2.0",
            "_model_name": "LayoutModel",
            "_view_count": null,
            "_view_module": "@jupyter-widgets/base",
            "_view_module_version": "1.2.0",
            "_view_name": "LayoutView",
            "align_content": null,
            "align_items": null,
            "align_self": null,
            "border": null,
            "bottom": null,
            "display": null,
            "flex": null,
            "flex_flow": null,
            "grid_area": null,
            "grid_auto_columns": null,
            "grid_auto_flow": null,
            "grid_auto_rows": null,
            "grid_column": null,
            "grid_gap": null,
            "grid_row": null,
            "grid_template_areas": null,
            "grid_template_columns": null,
            "grid_template_rows": null,
            "height": null,
            "justify_content": null,
            "justify_items": null,
            "left": null,
            "margin": null,
            "max_height": null,
            "max_width": null,
            "min_height": null,
            "min_width": null,
            "object_fit": null,
            "object_position": null,
            "order": null,
            "overflow": null,
            "overflow_x": null,
            "overflow_y": null,
            "padding": null,
            "right": null,
            "top": null,
            "visibility": null,
            "width": null
          }
        },
        "d33f5bff31c44295adbb32a112e4b4be": {
          "model_module": "@jupyter-widgets/controls",
          "model_name": "ProgressStyleModel",
          "model_module_version": "1.5.0",
          "state": {
            "_model_module": "@jupyter-widgets/controls",
            "_model_module_version": "1.5.0",
            "_model_name": "ProgressStyleModel",
            "_view_count": null,
            "_view_module": "@jupyter-widgets/base",
            "_view_module_version": "1.2.0",
            "_view_name": "StyleView",
            "bar_color": null,
            "description_width": ""
          }
        },
        "cf6046e8b98a4e549be4e2851659d891": {
          "model_module": "@jupyter-widgets/base",
          "model_name": "LayoutModel",
          "model_module_version": "1.2.0",
          "state": {
            "_model_module": "@jupyter-widgets/base",
            "_model_module_version": "1.2.0",
            "_model_name": "LayoutModel",
            "_view_count": null,
            "_view_module": "@jupyter-widgets/base",
            "_view_module_version": "1.2.0",
            "_view_name": "LayoutView",
            "align_content": null,
            "align_items": null,
            "align_self": null,
            "border": null,
            "bottom": null,
            "display": null,
            "flex": null,
            "flex_flow": null,
            "grid_area": null,
            "grid_auto_columns": null,
            "grid_auto_flow": null,
            "grid_auto_rows": null,
            "grid_column": null,
            "grid_gap": null,
            "grid_row": null,
            "grid_template_areas": null,
            "grid_template_columns": null,
            "grid_template_rows": null,
            "height": null,
            "justify_content": null,
            "justify_items": null,
            "left": null,
            "margin": null,
            "max_height": null,
            "max_width": null,
            "min_height": null,
            "min_width": null,
            "object_fit": null,
            "object_position": null,
            "order": null,
            "overflow": null,
            "overflow_x": null,
            "overflow_y": null,
            "padding": null,
            "right": null,
            "top": null,
            "visibility": null,
            "width": null
          }
        },
        "1f5eb4b050ad441a8668404742971a8a": {
          "model_module": "@jupyter-widgets/controls",
          "model_name": "DescriptionStyleModel",
          "model_module_version": "1.5.0",
          "state": {
            "_model_module": "@jupyter-widgets/controls",
            "_model_module_version": "1.5.0",
            "_model_name": "DescriptionStyleModel",
            "_view_count": null,
            "_view_module": "@jupyter-widgets/base",
            "_view_module_version": "1.2.0",
            "_view_name": "StyleView",
            "description_width": ""
          }
        },
        "902ecea7b5484973a73ad374e343e516": {
          "model_module": "@jupyter-widgets/controls",
          "model_name": "HBoxModel",
          "model_module_version": "1.5.0",
          "state": {
            "_dom_classes": [],
            "_model_module": "@jupyter-widgets/controls",
            "_model_module_version": "1.5.0",
            "_model_name": "HBoxModel",
            "_view_count": null,
            "_view_module": "@jupyter-widgets/controls",
            "_view_module_version": "1.5.0",
            "_view_name": "HBoxView",
            "box_style": "",
            "children": [
              "IPY_MODEL_265dd727d706497c94c1692231fcb77f",
              "IPY_MODEL_e60eb38ca319462b997f42c08ff75619",
              "IPY_MODEL_d0b2e5e134284cc3a2fea2ac6a6c72a7"
            ],
            "layout": "IPY_MODEL_c19ef753799f427591b752de73e4436f"
          }
        },
        "265dd727d706497c94c1692231fcb77f": {
          "model_module": "@jupyter-widgets/controls",
          "model_name": "HTMLModel",
          "model_module_version": "1.5.0",
          "state": {
            "_dom_classes": [],
            "_model_module": "@jupyter-widgets/controls",
            "_model_module_version": "1.5.0",
            "_model_name": "HTMLModel",
            "_view_count": null,
            "_view_module": "@jupyter-widgets/controls",
            "_view_module_version": "1.5.0",
            "_view_name": "HTMLView",
            "description": "",
            "description_tooltip": null,
            "layout": "IPY_MODEL_ad75cd09c9514521a6390b5b80f804d6",
            "placeholder": "​",
            "style": "IPY_MODEL_57655fd06dae4c2fb69752537e569a1c",
            "value": "special_tokens_map.json: 100%"
          }
        },
        "e60eb38ca319462b997f42c08ff75619": {
          "model_module": "@jupyter-widgets/controls",
          "model_name": "FloatProgressModel",
          "model_module_version": "1.5.0",
          "state": {
            "_dom_classes": [],
            "_model_module": "@jupyter-widgets/controls",
            "_model_module_version": "1.5.0",
            "_model_name": "FloatProgressModel",
            "_view_count": null,
            "_view_module": "@jupyter-widgets/controls",
            "_view_module_version": "1.5.0",
            "_view_name": "ProgressView",
            "bar_style": "success",
            "description": "",
            "description_tooltip": null,
            "layout": "IPY_MODEL_eb493fa7703a4e2db91c3300978c1235",
            "max": 168,
            "min": 0,
            "orientation": "horizontal",
            "style": "IPY_MODEL_b92f43451d66483db50f92f31b0d0718",
            "value": 168
          }
        },
        "d0b2e5e134284cc3a2fea2ac6a6c72a7": {
          "model_module": "@jupyter-widgets/controls",
          "model_name": "HTMLModel",
          "model_module_version": "1.5.0",
          "state": {
            "_dom_classes": [],
            "_model_module": "@jupyter-widgets/controls",
            "_model_module_version": "1.5.0",
            "_model_name": "HTMLModel",
            "_view_count": null,
            "_view_module": "@jupyter-widgets/controls",
            "_view_module_version": "1.5.0",
            "_view_name": "HTMLView",
            "description": "",
            "description_tooltip": null,
            "layout": "IPY_MODEL_0b2d6e5771324955b3dc09a8c6b299ae",
            "placeholder": "​",
            "style": "IPY_MODEL_c427540b89b14f9caf89bd49de0ac202",
            "value": " 168/168 [00:00&lt;00:00, 8.93kB/s]"
          }
        },
        "c19ef753799f427591b752de73e4436f": {
          "model_module": "@jupyter-widgets/base",
          "model_name": "LayoutModel",
          "model_module_version": "1.2.0",
          "state": {
            "_model_module": "@jupyter-widgets/base",
            "_model_module_version": "1.2.0",
            "_model_name": "LayoutModel",
            "_view_count": null,
            "_view_module": "@jupyter-widgets/base",
            "_view_module_version": "1.2.0",
            "_view_name": "LayoutView",
            "align_content": null,
            "align_items": null,
            "align_self": null,
            "border": null,
            "bottom": null,
            "display": null,
            "flex": null,
            "flex_flow": null,
            "grid_area": null,
            "grid_auto_columns": null,
            "grid_auto_flow": null,
            "grid_auto_rows": null,
            "grid_column": null,
            "grid_gap": null,
            "grid_row": null,
            "grid_template_areas": null,
            "grid_template_columns": null,
            "grid_template_rows": null,
            "height": null,
            "justify_content": null,
            "justify_items": null,
            "left": null,
            "margin": null,
            "max_height": null,
            "max_width": null,
            "min_height": null,
            "min_width": null,
            "object_fit": null,
            "object_position": null,
            "order": null,
            "overflow": null,
            "overflow_x": null,
            "overflow_y": null,
            "padding": null,
            "right": null,
            "top": null,
            "visibility": null,
            "width": null
          }
        },
        "ad75cd09c9514521a6390b5b80f804d6": {
          "model_module": "@jupyter-widgets/base",
          "model_name": "LayoutModel",
          "model_module_version": "1.2.0",
          "state": {
            "_model_module": "@jupyter-widgets/base",
            "_model_module_version": "1.2.0",
            "_model_name": "LayoutModel",
            "_view_count": null,
            "_view_module": "@jupyter-widgets/base",
            "_view_module_version": "1.2.0",
            "_view_name": "LayoutView",
            "align_content": null,
            "align_items": null,
            "align_self": null,
            "border": null,
            "bottom": null,
            "display": null,
            "flex": null,
            "flex_flow": null,
            "grid_area": null,
            "grid_auto_columns": null,
            "grid_auto_flow": null,
            "grid_auto_rows": null,
            "grid_column": null,
            "grid_gap": null,
            "grid_row": null,
            "grid_template_areas": null,
            "grid_template_columns": null,
            "grid_template_rows": null,
            "height": null,
            "justify_content": null,
            "justify_items": null,
            "left": null,
            "margin": null,
            "max_height": null,
            "max_width": null,
            "min_height": null,
            "min_width": null,
            "object_fit": null,
            "object_position": null,
            "order": null,
            "overflow": null,
            "overflow_x": null,
            "overflow_y": null,
            "padding": null,
            "right": null,
            "top": null,
            "visibility": null,
            "width": null
          }
        },
        "57655fd06dae4c2fb69752537e569a1c": {
          "model_module": "@jupyter-widgets/controls",
          "model_name": "DescriptionStyleModel",
          "model_module_version": "1.5.0",
          "state": {
            "_model_module": "@jupyter-widgets/controls",
            "_model_module_version": "1.5.0",
            "_model_name": "DescriptionStyleModel",
            "_view_count": null,
            "_view_module": "@jupyter-widgets/base",
            "_view_module_version": "1.2.0",
            "_view_name": "StyleView",
            "description_width": ""
          }
        },
        "eb493fa7703a4e2db91c3300978c1235": {
          "model_module": "@jupyter-widgets/base",
          "model_name": "LayoutModel",
          "model_module_version": "1.2.0",
          "state": {
            "_model_module": "@jupyter-widgets/base",
            "_model_module_version": "1.2.0",
            "_model_name": "LayoutModel",
            "_view_count": null,
            "_view_module": "@jupyter-widgets/base",
            "_view_module_version": "1.2.0",
            "_view_name": "LayoutView",
            "align_content": null,
            "align_items": null,
            "align_self": null,
            "border": null,
            "bottom": null,
            "display": null,
            "flex": null,
            "flex_flow": null,
            "grid_area": null,
            "grid_auto_columns": null,
            "grid_auto_flow": null,
            "grid_auto_rows": null,
            "grid_column": null,
            "grid_gap": null,
            "grid_row": null,
            "grid_template_areas": null,
            "grid_template_columns": null,
            "grid_template_rows": null,
            "height": null,
            "justify_content": null,
            "justify_items": null,
            "left": null,
            "margin": null,
            "max_height": null,
            "max_width": null,
            "min_height": null,
            "min_width": null,
            "object_fit": null,
            "object_position": null,
            "order": null,
            "overflow": null,
            "overflow_x": null,
            "overflow_y": null,
            "padding": null,
            "right": null,
            "top": null,
            "visibility": null,
            "width": null
          }
        },
        "b92f43451d66483db50f92f31b0d0718": {
          "model_module": "@jupyter-widgets/controls",
          "model_name": "ProgressStyleModel",
          "model_module_version": "1.5.0",
          "state": {
            "_model_module": "@jupyter-widgets/controls",
            "_model_module_version": "1.5.0",
            "_model_name": "ProgressStyleModel",
            "_view_count": null,
            "_view_module": "@jupyter-widgets/base",
            "_view_module_version": "1.2.0",
            "_view_name": "StyleView",
            "bar_color": null,
            "description_width": ""
          }
        },
        "0b2d6e5771324955b3dc09a8c6b299ae": {
          "model_module": "@jupyter-widgets/base",
          "model_name": "LayoutModel",
          "model_module_version": "1.2.0",
          "state": {
            "_model_module": "@jupyter-widgets/base",
            "_model_module_version": "1.2.0",
            "_model_name": "LayoutModel",
            "_view_count": null,
            "_view_module": "@jupyter-widgets/base",
            "_view_module_version": "1.2.0",
            "_view_name": "LayoutView",
            "align_content": null,
            "align_items": null,
            "align_self": null,
            "border": null,
            "bottom": null,
            "display": null,
            "flex": null,
            "flex_flow": null,
            "grid_area": null,
            "grid_auto_columns": null,
            "grid_auto_flow": null,
            "grid_auto_rows": null,
            "grid_column": null,
            "grid_gap": null,
            "grid_row": null,
            "grid_template_areas": null,
            "grid_template_columns": null,
            "grid_template_rows": null,
            "height": null,
            "justify_content": null,
            "justify_items": null,
            "left": null,
            "margin": null,
            "max_height": null,
            "max_width": null,
            "min_height": null,
            "min_width": null,
            "object_fit": null,
            "object_position": null,
            "order": null,
            "overflow": null,
            "overflow_x": null,
            "overflow_y": null,
            "padding": null,
            "right": null,
            "top": null,
            "visibility": null,
            "width": null
          }
        },
        "c427540b89b14f9caf89bd49de0ac202": {
          "model_module": "@jupyter-widgets/controls",
          "model_name": "DescriptionStyleModel",
          "model_module_version": "1.5.0",
          "state": {
            "_model_module": "@jupyter-widgets/controls",
            "_model_module_version": "1.5.0",
            "_model_name": "DescriptionStyleModel",
            "_view_count": null,
            "_view_module": "@jupyter-widgets/base",
            "_view_module_version": "1.2.0",
            "_view_name": "StyleView",
            "description_width": ""
          }
        },
        "3ec678acfc3b4c6eb9ed3d3e5162865b": {
          "model_module": "@jupyter-widgets/controls",
          "model_name": "HBoxModel",
          "model_module_version": "1.5.0",
          "state": {
            "_dom_classes": [],
            "_model_module": "@jupyter-widgets/controls",
            "_model_module_version": "1.5.0",
            "_model_name": "HBoxModel",
            "_view_count": null,
            "_view_module": "@jupyter-widgets/controls",
            "_view_module_version": "1.5.0",
            "_view_name": "HBoxView",
            "box_style": "",
            "children": [
              "IPY_MODEL_ddba31e1fe0f4260a3dcee4d4b8bbe2f",
              "IPY_MODEL_d2e52616b3364556962b98eca91c4176",
              "IPY_MODEL_1159773599c54bab9eb3d98c6d3124e1"
            ],
            "layout": "IPY_MODEL_eaabbae48b9a48f1b59aa28c71f24632"
          }
        },
        "ddba31e1fe0f4260a3dcee4d4b8bbe2f": {
          "model_module": "@jupyter-widgets/controls",
          "model_name": "HTMLModel",
          "model_module_version": "1.5.0",
          "state": {
            "_dom_classes": [],
            "_model_module": "@jupyter-widgets/controls",
            "_model_module_version": "1.5.0",
            "_model_name": "HTMLModel",
            "_view_count": null,
            "_view_module": "@jupyter-widgets/controls",
            "_view_module_version": "1.5.0",
            "_view_name": "HTMLView",
            "description": "",
            "description_tooltip": null,
            "layout": "IPY_MODEL_c428ce4e782a4f0b95424def03daab39",
            "placeholder": "​",
            "style": "IPY_MODEL_22f3c9ae9cf34c6881421d581c145b22",
            "value": "modules.json: 100%"
          }
        },
        "d2e52616b3364556962b98eca91c4176": {
          "model_module": "@jupyter-widgets/controls",
          "model_name": "FloatProgressModel",
          "model_module_version": "1.5.0",
          "state": {
            "_dom_classes": [],
            "_model_module": "@jupyter-widgets/controls",
            "_model_module_version": "1.5.0",
            "_model_name": "FloatProgressModel",
            "_view_count": null,
            "_view_module": "@jupyter-widgets/controls",
            "_view_module_version": "1.5.0",
            "_view_name": "ProgressView",
            "bar_style": "success",
            "description": "",
            "description_tooltip": null,
            "layout": "IPY_MODEL_0b8e74fbf9024026b5a77998a9532c82",
            "max": 349,
            "min": 0,
            "orientation": "horizontal",
            "style": "IPY_MODEL_82b7c61ce64f4330b08d7b347a786f12",
            "value": 349
          }
        },
        "1159773599c54bab9eb3d98c6d3124e1": {
          "model_module": "@jupyter-widgets/controls",
          "model_name": "HTMLModel",
          "model_module_version": "1.5.0",
          "state": {
            "_dom_classes": [],
            "_model_module": "@jupyter-widgets/controls",
            "_model_module_version": "1.5.0",
            "_model_name": "HTMLModel",
            "_view_count": null,
            "_view_module": "@jupyter-widgets/controls",
            "_view_module_version": "1.5.0",
            "_view_name": "HTMLView",
            "description": "",
            "description_tooltip": null,
            "layout": "IPY_MODEL_7f89b1b79447484d81947c4d91a38490",
            "placeholder": "​",
            "style": "IPY_MODEL_eb03a2ccbd86455eaa05a43388aa7914",
            "value": " 349/349 [00:00&lt;00:00, 14.6kB/s]"
          }
        },
        "eaabbae48b9a48f1b59aa28c71f24632": {
          "model_module": "@jupyter-widgets/base",
          "model_name": "LayoutModel",
          "model_module_version": "1.2.0",
          "state": {
            "_model_module": "@jupyter-widgets/base",
            "_model_module_version": "1.2.0",
            "_model_name": "LayoutModel",
            "_view_count": null,
            "_view_module": "@jupyter-widgets/base",
            "_view_module_version": "1.2.0",
            "_view_name": "LayoutView",
            "align_content": null,
            "align_items": null,
            "align_self": null,
            "border": null,
            "bottom": null,
            "display": null,
            "flex": null,
            "flex_flow": null,
            "grid_area": null,
            "grid_auto_columns": null,
            "grid_auto_flow": null,
            "grid_auto_rows": null,
            "grid_column": null,
            "grid_gap": null,
            "grid_row": null,
            "grid_template_areas": null,
            "grid_template_columns": null,
            "grid_template_rows": null,
            "height": null,
            "justify_content": null,
            "justify_items": null,
            "left": null,
            "margin": null,
            "max_height": null,
            "max_width": null,
            "min_height": null,
            "min_width": null,
            "object_fit": null,
            "object_position": null,
            "order": null,
            "overflow": null,
            "overflow_x": null,
            "overflow_y": null,
            "padding": null,
            "right": null,
            "top": null,
            "visibility": null,
            "width": null
          }
        },
        "c428ce4e782a4f0b95424def03daab39": {
          "model_module": "@jupyter-widgets/base",
          "model_name": "LayoutModel",
          "model_module_version": "1.2.0",
          "state": {
            "_model_module": "@jupyter-widgets/base",
            "_model_module_version": "1.2.0",
            "_model_name": "LayoutModel",
            "_view_count": null,
            "_view_module": "@jupyter-widgets/base",
            "_view_module_version": "1.2.0",
            "_view_name": "LayoutView",
            "align_content": null,
            "align_items": null,
            "align_self": null,
            "border": null,
            "bottom": null,
            "display": null,
            "flex": null,
            "flex_flow": null,
            "grid_area": null,
            "grid_auto_columns": null,
            "grid_auto_flow": null,
            "grid_auto_rows": null,
            "grid_column": null,
            "grid_gap": null,
            "grid_row": null,
            "grid_template_areas": null,
            "grid_template_columns": null,
            "grid_template_rows": null,
            "height": null,
            "justify_content": null,
            "justify_items": null,
            "left": null,
            "margin": null,
            "max_height": null,
            "max_width": null,
            "min_height": null,
            "min_width": null,
            "object_fit": null,
            "object_position": null,
            "order": null,
            "overflow": null,
            "overflow_x": null,
            "overflow_y": null,
            "padding": null,
            "right": null,
            "top": null,
            "visibility": null,
            "width": null
          }
        },
        "22f3c9ae9cf34c6881421d581c145b22": {
          "model_module": "@jupyter-widgets/controls",
          "model_name": "DescriptionStyleModel",
          "model_module_version": "1.5.0",
          "state": {
            "_model_module": "@jupyter-widgets/controls",
            "_model_module_version": "1.5.0",
            "_model_name": "DescriptionStyleModel",
            "_view_count": null,
            "_view_module": "@jupyter-widgets/base",
            "_view_module_version": "1.2.0",
            "_view_name": "StyleView",
            "description_width": ""
          }
        },
        "0b8e74fbf9024026b5a77998a9532c82": {
          "model_module": "@jupyter-widgets/base",
          "model_name": "LayoutModel",
          "model_module_version": "1.2.0",
          "state": {
            "_model_module": "@jupyter-widgets/base",
            "_model_module_version": "1.2.0",
            "_model_name": "LayoutModel",
            "_view_count": null,
            "_view_module": "@jupyter-widgets/base",
            "_view_module_version": "1.2.0",
            "_view_name": "LayoutView",
            "align_content": null,
            "align_items": null,
            "align_self": null,
            "border": null,
            "bottom": null,
            "display": null,
            "flex": null,
            "flex_flow": null,
            "grid_area": null,
            "grid_auto_columns": null,
            "grid_auto_flow": null,
            "grid_auto_rows": null,
            "grid_column": null,
            "grid_gap": null,
            "grid_row": null,
            "grid_template_areas": null,
            "grid_template_columns": null,
            "grid_template_rows": null,
            "height": null,
            "justify_content": null,
            "justify_items": null,
            "left": null,
            "margin": null,
            "max_height": null,
            "max_width": null,
            "min_height": null,
            "min_width": null,
            "object_fit": null,
            "object_position": null,
            "order": null,
            "overflow": null,
            "overflow_x": null,
            "overflow_y": null,
            "padding": null,
            "right": null,
            "top": null,
            "visibility": null,
            "width": null
          }
        },
        "82b7c61ce64f4330b08d7b347a786f12": {
          "model_module": "@jupyter-widgets/controls",
          "model_name": "ProgressStyleModel",
          "model_module_version": "1.5.0",
          "state": {
            "_model_module": "@jupyter-widgets/controls",
            "_model_module_version": "1.5.0",
            "_model_name": "ProgressStyleModel",
            "_view_count": null,
            "_view_module": "@jupyter-widgets/base",
            "_view_module_version": "1.2.0",
            "_view_name": "StyleView",
            "bar_color": null,
            "description_width": ""
          }
        },
        "7f89b1b79447484d81947c4d91a38490": {
          "model_module": "@jupyter-widgets/base",
          "model_name": "LayoutModel",
          "model_module_version": "1.2.0",
          "state": {
            "_model_module": "@jupyter-widgets/base",
            "_model_module_version": "1.2.0",
            "_model_name": "LayoutModel",
            "_view_count": null,
            "_view_module": "@jupyter-widgets/base",
            "_view_module_version": "1.2.0",
            "_view_name": "LayoutView",
            "align_content": null,
            "align_items": null,
            "align_self": null,
            "border": null,
            "bottom": null,
            "display": null,
            "flex": null,
            "flex_flow": null,
            "grid_area": null,
            "grid_auto_columns": null,
            "grid_auto_flow": null,
            "grid_auto_rows": null,
            "grid_column": null,
            "grid_gap": null,
            "grid_row": null,
            "grid_template_areas": null,
            "grid_template_columns": null,
            "grid_template_rows": null,
            "height": null,
            "justify_content": null,
            "justify_items": null,
            "left": null,
            "margin": null,
            "max_height": null,
            "max_width": null,
            "min_height": null,
            "min_width": null,
            "object_fit": null,
            "object_position": null,
            "order": null,
            "overflow": null,
            "overflow_x": null,
            "overflow_y": null,
            "padding": null,
            "right": null,
            "top": null,
            "visibility": null,
            "width": null
          }
        },
        "eb03a2ccbd86455eaa05a43388aa7914": {
          "model_module": "@jupyter-widgets/controls",
          "model_name": "DescriptionStyleModel",
          "model_module_version": "1.5.0",
          "state": {
            "_model_module": "@jupyter-widgets/controls",
            "_model_module_version": "1.5.0",
            "_model_name": "DescriptionStyleModel",
            "_view_count": null,
            "_view_module": "@jupyter-widgets/base",
            "_view_module_version": "1.2.0",
            "_view_name": "StyleView",
            "description_width": ""
          }
        },
        "72515080ec274da0929cae70d5730240": {
          "model_module": "@jupyter-widgets/controls",
          "model_name": "HBoxModel",
          "model_module_version": "1.5.0",
          "state": {
            "_dom_classes": [],
            "_model_module": "@jupyter-widgets/controls",
            "_model_module_version": "1.5.0",
            "_model_name": "HBoxModel",
            "_view_count": null,
            "_view_module": "@jupyter-widgets/controls",
            "_view_module_version": "1.5.0",
            "_view_name": "HBoxView",
            "box_style": "",
            "children": [
              "IPY_MODEL_478b38e2a010473d88a6962cb1e2acf0",
              "IPY_MODEL_2dc568687a08405da654fc53aeec8cca",
              "IPY_MODEL_f7ce02980b8d4da6b66d813aca5dd647"
            ],
            "layout": "IPY_MODEL_665f94c4470d40c5a20a063492936483"
          }
        },
        "478b38e2a010473d88a6962cb1e2acf0": {
          "model_module": "@jupyter-widgets/controls",
          "model_name": "HTMLModel",
          "model_module_version": "1.5.0",
          "state": {
            "_dom_classes": [],
            "_model_module": "@jupyter-widgets/controls",
            "_model_module_version": "1.5.0",
            "_model_name": "HTMLModel",
            "_view_count": null,
            "_view_module": "@jupyter-widgets/controls",
            "_view_module_version": "1.5.0",
            "_view_name": "HTMLView",
            "description": "",
            "description_tooltip": null,
            "layout": "IPY_MODEL_e48c3613fdbb41849237312d128f924b",
            "placeholder": "​",
            "style": "IPY_MODEL_f5e601520df7485f998889fd6510a64f",
            "value": "config_sentence_transformers.json: 100%"
          }
        },
        "2dc568687a08405da654fc53aeec8cca": {
          "model_module": "@jupyter-widgets/controls",
          "model_name": "FloatProgressModel",
          "model_module_version": "1.5.0",
          "state": {
            "_dom_classes": [],
            "_model_module": "@jupyter-widgets/controls",
            "_model_module_version": "1.5.0",
            "_model_name": "FloatProgressModel",
            "_view_count": null,
            "_view_module": "@jupyter-widgets/controls",
            "_view_module_version": "1.5.0",
            "_view_name": "ProgressView",
            "bar_style": "success",
            "description": "",
            "description_tooltip": null,
            "layout": "IPY_MODEL_c29c5bc3c9c743798d2e00b5d25b3fd7",
            "max": 124,
            "min": 0,
            "orientation": "horizontal",
            "style": "IPY_MODEL_bb642a7cf3ac4897a120662bd7a2fe2d",
            "value": 124
          }
        },
        "f7ce02980b8d4da6b66d813aca5dd647": {
          "model_module": "@jupyter-widgets/controls",
          "model_name": "HTMLModel",
          "model_module_version": "1.5.0",
          "state": {
            "_dom_classes": [],
            "_model_module": "@jupyter-widgets/controls",
            "_model_module_version": "1.5.0",
            "_model_name": "HTMLModel",
            "_view_count": null,
            "_view_module": "@jupyter-widgets/controls",
            "_view_module_version": "1.5.0",
            "_view_name": "HTMLView",
            "description": "",
            "description_tooltip": null,
            "layout": "IPY_MODEL_d6975914283b49838e304c7c116bbed7",
            "placeholder": "​",
            "style": "IPY_MODEL_baaf8bc640dc479baa4fbee023a07cb4",
            "value": " 124/124 [00:00&lt;00:00, 4.54kB/s]"
          }
        },
        "665f94c4470d40c5a20a063492936483": {
          "model_module": "@jupyter-widgets/base",
          "model_name": "LayoutModel",
          "model_module_version": "1.2.0",
          "state": {
            "_model_module": "@jupyter-widgets/base",
            "_model_module_version": "1.2.0",
            "_model_name": "LayoutModel",
            "_view_count": null,
            "_view_module": "@jupyter-widgets/base",
            "_view_module_version": "1.2.0",
            "_view_name": "LayoutView",
            "align_content": null,
            "align_items": null,
            "align_self": null,
            "border": null,
            "bottom": null,
            "display": null,
            "flex": null,
            "flex_flow": null,
            "grid_area": null,
            "grid_auto_columns": null,
            "grid_auto_flow": null,
            "grid_auto_rows": null,
            "grid_column": null,
            "grid_gap": null,
            "grid_row": null,
            "grid_template_areas": null,
            "grid_template_columns": null,
            "grid_template_rows": null,
            "height": null,
            "justify_content": null,
            "justify_items": null,
            "left": null,
            "margin": null,
            "max_height": null,
            "max_width": null,
            "min_height": null,
            "min_width": null,
            "object_fit": null,
            "object_position": null,
            "order": null,
            "overflow": null,
            "overflow_x": null,
            "overflow_y": null,
            "padding": null,
            "right": null,
            "top": null,
            "visibility": null,
            "width": null
          }
        },
        "e48c3613fdbb41849237312d128f924b": {
          "model_module": "@jupyter-widgets/base",
          "model_name": "LayoutModel",
          "model_module_version": "1.2.0",
          "state": {
            "_model_module": "@jupyter-widgets/base",
            "_model_module_version": "1.2.0",
            "_model_name": "LayoutModel",
            "_view_count": null,
            "_view_module": "@jupyter-widgets/base",
            "_view_module_version": "1.2.0",
            "_view_name": "LayoutView",
            "align_content": null,
            "align_items": null,
            "align_self": null,
            "border": null,
            "bottom": null,
            "display": null,
            "flex": null,
            "flex_flow": null,
            "grid_area": null,
            "grid_auto_columns": null,
            "grid_auto_flow": null,
            "grid_auto_rows": null,
            "grid_column": null,
            "grid_gap": null,
            "grid_row": null,
            "grid_template_areas": null,
            "grid_template_columns": null,
            "grid_template_rows": null,
            "height": null,
            "justify_content": null,
            "justify_items": null,
            "left": null,
            "margin": null,
            "max_height": null,
            "max_width": null,
            "min_height": null,
            "min_width": null,
            "object_fit": null,
            "object_position": null,
            "order": null,
            "overflow": null,
            "overflow_x": null,
            "overflow_y": null,
            "padding": null,
            "right": null,
            "top": null,
            "visibility": null,
            "width": null
          }
        },
        "f5e601520df7485f998889fd6510a64f": {
          "model_module": "@jupyter-widgets/controls",
          "model_name": "DescriptionStyleModel",
          "model_module_version": "1.5.0",
          "state": {
            "_model_module": "@jupyter-widgets/controls",
            "_model_module_version": "1.5.0",
            "_model_name": "DescriptionStyleModel",
            "_view_count": null,
            "_view_module": "@jupyter-widgets/base",
            "_view_module_version": "1.2.0",
            "_view_name": "StyleView",
            "description_width": ""
          }
        },
        "c29c5bc3c9c743798d2e00b5d25b3fd7": {
          "model_module": "@jupyter-widgets/base",
          "model_name": "LayoutModel",
          "model_module_version": "1.2.0",
          "state": {
            "_model_module": "@jupyter-widgets/base",
            "_model_module_version": "1.2.0",
            "_model_name": "LayoutModel",
            "_view_count": null,
            "_view_module": "@jupyter-widgets/base",
            "_view_module_version": "1.2.0",
            "_view_name": "LayoutView",
            "align_content": null,
            "align_items": null,
            "align_self": null,
            "border": null,
            "bottom": null,
            "display": null,
            "flex": null,
            "flex_flow": null,
            "grid_area": null,
            "grid_auto_columns": null,
            "grid_auto_flow": null,
            "grid_auto_rows": null,
            "grid_column": null,
            "grid_gap": null,
            "grid_row": null,
            "grid_template_areas": null,
            "grid_template_columns": null,
            "grid_template_rows": null,
            "height": null,
            "justify_content": null,
            "justify_items": null,
            "left": null,
            "margin": null,
            "max_height": null,
            "max_width": null,
            "min_height": null,
            "min_width": null,
            "object_fit": null,
            "object_position": null,
            "order": null,
            "overflow": null,
            "overflow_x": null,
            "overflow_y": null,
            "padding": null,
            "right": null,
            "top": null,
            "visibility": null,
            "width": null
          }
        },
        "bb642a7cf3ac4897a120662bd7a2fe2d": {
          "model_module": "@jupyter-widgets/controls",
          "model_name": "ProgressStyleModel",
          "model_module_version": "1.5.0",
          "state": {
            "_model_module": "@jupyter-widgets/controls",
            "_model_module_version": "1.5.0",
            "_model_name": "ProgressStyleModel",
            "_view_count": null,
            "_view_module": "@jupyter-widgets/base",
            "_view_module_version": "1.2.0",
            "_view_name": "StyleView",
            "bar_color": null,
            "description_width": ""
          }
        },
        "d6975914283b49838e304c7c116bbed7": {
          "model_module": "@jupyter-widgets/base",
          "model_name": "LayoutModel",
          "model_module_version": "1.2.0",
          "state": {
            "_model_module": "@jupyter-widgets/base",
            "_model_module_version": "1.2.0",
            "_model_name": "LayoutModel",
            "_view_count": null,
            "_view_module": "@jupyter-widgets/base",
            "_view_module_version": "1.2.0",
            "_view_name": "LayoutView",
            "align_content": null,
            "align_items": null,
            "align_self": null,
            "border": null,
            "bottom": null,
            "display": null,
            "flex": null,
            "flex_flow": null,
            "grid_area": null,
            "grid_auto_columns": null,
            "grid_auto_flow": null,
            "grid_auto_rows": null,
            "grid_column": null,
            "grid_gap": null,
            "grid_row": null,
            "grid_template_areas": null,
            "grid_template_columns": null,
            "grid_template_rows": null,
            "height": null,
            "justify_content": null,
            "justify_items": null,
            "left": null,
            "margin": null,
            "max_height": null,
            "max_width": null,
            "min_height": null,
            "min_width": null,
            "object_fit": null,
            "object_position": null,
            "order": null,
            "overflow": null,
            "overflow_x": null,
            "overflow_y": null,
            "padding": null,
            "right": null,
            "top": null,
            "visibility": null,
            "width": null
          }
        },
        "baaf8bc640dc479baa4fbee023a07cb4": {
          "model_module": "@jupyter-widgets/controls",
          "model_name": "DescriptionStyleModel",
          "model_module_version": "1.5.0",
          "state": {
            "_model_module": "@jupyter-widgets/controls",
            "_model_module_version": "1.5.0",
            "_model_name": "DescriptionStyleModel",
            "_view_count": null,
            "_view_module": "@jupyter-widgets/base",
            "_view_module_version": "1.2.0",
            "_view_name": "StyleView",
            "description_width": ""
          }
        },
        "8864f4c0261042039435174d52869e60": {
          "model_module": "@jupyter-widgets/controls",
          "model_name": "HBoxModel",
          "model_module_version": "1.5.0",
          "state": {
            "_dom_classes": [],
            "_model_module": "@jupyter-widgets/controls",
            "_model_module_version": "1.5.0",
            "_model_name": "HBoxModel",
            "_view_count": null,
            "_view_module": "@jupyter-widgets/controls",
            "_view_module_version": "1.5.0",
            "_view_name": "HBoxView",
            "box_style": "",
            "children": [
              "IPY_MODEL_24c7a210144340e1b7a8705a959f355c",
              "IPY_MODEL_5d0aa3a9994d4501bfdc78a42796ae9f",
              "IPY_MODEL_d7199aca9b83463f9efe167cafecf66c"
            ],
            "layout": "IPY_MODEL_25af69e472b64eb599b6e8c23013252e"
          }
        },
        "24c7a210144340e1b7a8705a959f355c": {
          "model_module": "@jupyter-widgets/controls",
          "model_name": "HTMLModel",
          "model_module_version": "1.5.0",
          "state": {
            "_dom_classes": [],
            "_model_module": "@jupyter-widgets/controls",
            "_model_module_version": "1.5.0",
            "_model_name": "HTMLModel",
            "_view_count": null,
            "_view_module": "@jupyter-widgets/controls",
            "_view_module_version": "1.5.0",
            "_view_name": "HTMLView",
            "description": "",
            "description_tooltip": null,
            "layout": "IPY_MODEL_f715c2c31aff44e3b280381a06f61b87",
            "placeholder": "​",
            "style": "IPY_MODEL_ab63516f59144816bab3f0a165a794b3",
            "value": "README.md: 100%"
          }
        },
        "5d0aa3a9994d4501bfdc78a42796ae9f": {
          "model_module": "@jupyter-widgets/controls",
          "model_name": "FloatProgressModel",
          "model_module_version": "1.5.0",
          "state": {
            "_dom_classes": [],
            "_model_module": "@jupyter-widgets/controls",
            "_model_module_version": "1.5.0",
            "_model_name": "FloatProgressModel",
            "_view_count": null,
            "_view_module": "@jupyter-widgets/controls",
            "_view_module_version": "1.5.0",
            "_view_name": "ProgressView",
            "bar_style": "success",
            "description": "",
            "description_tooltip": null,
            "layout": "IPY_MODEL_836fc00a51c24f6cbe4faf0d969e5e36",
            "max": 90797,
            "min": 0,
            "orientation": "horizontal",
            "style": "IPY_MODEL_218bcd3adf724f19889fd0bc79bbdea5",
            "value": 90797
          }
        },
        "d7199aca9b83463f9efe167cafecf66c": {
          "model_module": "@jupyter-widgets/controls",
          "model_name": "HTMLModel",
          "model_module_version": "1.5.0",
          "state": {
            "_dom_classes": [],
            "_model_module": "@jupyter-widgets/controls",
            "_model_module_version": "1.5.0",
            "_model_name": "HTMLModel",
            "_view_count": null,
            "_view_module": "@jupyter-widgets/controls",
            "_view_module_version": "1.5.0",
            "_view_name": "HTMLView",
            "description": "",
            "description_tooltip": null,
            "layout": "IPY_MODEL_6f4a49907e3344ae9411ebd1975c5498",
            "placeholder": "​",
            "style": "IPY_MODEL_90fbe2be00b143c0a1886e03e2246126",
            "value": " 90.8k/90.8k [00:00&lt;00:00, 1.36MB/s]"
          }
        },
        "25af69e472b64eb599b6e8c23013252e": {
          "model_module": "@jupyter-widgets/base",
          "model_name": "LayoutModel",
          "model_module_version": "1.2.0",
          "state": {
            "_model_module": "@jupyter-widgets/base",
            "_model_module_version": "1.2.0",
            "_model_name": "LayoutModel",
            "_view_count": null,
            "_view_module": "@jupyter-widgets/base",
            "_view_module_version": "1.2.0",
            "_view_name": "LayoutView",
            "align_content": null,
            "align_items": null,
            "align_self": null,
            "border": null,
            "bottom": null,
            "display": null,
            "flex": null,
            "flex_flow": null,
            "grid_area": null,
            "grid_auto_columns": null,
            "grid_auto_flow": null,
            "grid_auto_rows": null,
            "grid_column": null,
            "grid_gap": null,
            "grid_row": null,
            "grid_template_areas": null,
            "grid_template_columns": null,
            "grid_template_rows": null,
            "height": null,
            "justify_content": null,
            "justify_items": null,
            "left": null,
            "margin": null,
            "max_height": null,
            "max_width": null,
            "min_height": null,
            "min_width": null,
            "object_fit": null,
            "object_position": null,
            "order": null,
            "overflow": null,
            "overflow_x": null,
            "overflow_y": null,
            "padding": null,
            "right": null,
            "top": null,
            "visibility": null,
            "width": null
          }
        },
        "f715c2c31aff44e3b280381a06f61b87": {
          "model_module": "@jupyter-widgets/base",
          "model_name": "LayoutModel",
          "model_module_version": "1.2.0",
          "state": {
            "_model_module": "@jupyter-widgets/base",
            "_model_module_version": "1.2.0",
            "_model_name": "LayoutModel",
            "_view_count": null,
            "_view_module": "@jupyter-widgets/base",
            "_view_module_version": "1.2.0",
            "_view_name": "LayoutView",
            "align_content": null,
            "align_items": null,
            "align_self": null,
            "border": null,
            "bottom": null,
            "display": null,
            "flex": null,
            "flex_flow": null,
            "grid_area": null,
            "grid_auto_columns": null,
            "grid_auto_flow": null,
            "grid_auto_rows": null,
            "grid_column": null,
            "grid_gap": null,
            "grid_row": null,
            "grid_template_areas": null,
            "grid_template_columns": null,
            "grid_template_rows": null,
            "height": null,
            "justify_content": null,
            "justify_items": null,
            "left": null,
            "margin": null,
            "max_height": null,
            "max_width": null,
            "min_height": null,
            "min_width": null,
            "object_fit": null,
            "object_position": null,
            "order": null,
            "overflow": null,
            "overflow_x": null,
            "overflow_y": null,
            "padding": null,
            "right": null,
            "top": null,
            "visibility": null,
            "width": null
          }
        },
        "ab63516f59144816bab3f0a165a794b3": {
          "model_module": "@jupyter-widgets/controls",
          "model_name": "DescriptionStyleModel",
          "model_module_version": "1.5.0",
          "state": {
            "_model_module": "@jupyter-widgets/controls",
            "_model_module_version": "1.5.0",
            "_model_name": "DescriptionStyleModel",
            "_view_count": null,
            "_view_module": "@jupyter-widgets/base",
            "_view_module_version": "1.2.0",
            "_view_name": "StyleView",
            "description_width": ""
          }
        },
        "836fc00a51c24f6cbe4faf0d969e5e36": {
          "model_module": "@jupyter-widgets/base",
          "model_name": "LayoutModel",
          "model_module_version": "1.2.0",
          "state": {
            "_model_module": "@jupyter-widgets/base",
            "_model_module_version": "1.2.0",
            "_model_name": "LayoutModel",
            "_view_count": null,
            "_view_module": "@jupyter-widgets/base",
            "_view_module_version": "1.2.0",
            "_view_name": "LayoutView",
            "align_content": null,
            "align_items": null,
            "align_self": null,
            "border": null,
            "bottom": null,
            "display": null,
            "flex": null,
            "flex_flow": null,
            "grid_area": null,
            "grid_auto_columns": null,
            "grid_auto_flow": null,
            "grid_auto_rows": null,
            "grid_column": null,
            "grid_gap": null,
            "grid_row": null,
            "grid_template_areas": null,
            "grid_template_columns": null,
            "grid_template_rows": null,
            "height": null,
            "justify_content": null,
            "justify_items": null,
            "left": null,
            "margin": null,
            "max_height": null,
            "max_width": null,
            "min_height": null,
            "min_width": null,
            "object_fit": null,
            "object_position": null,
            "order": null,
            "overflow": null,
            "overflow_x": null,
            "overflow_y": null,
            "padding": null,
            "right": null,
            "top": null,
            "visibility": null,
            "width": null
          }
        },
        "218bcd3adf724f19889fd0bc79bbdea5": {
          "model_module": "@jupyter-widgets/controls",
          "model_name": "ProgressStyleModel",
          "model_module_version": "1.5.0",
          "state": {
            "_model_module": "@jupyter-widgets/controls",
            "_model_module_version": "1.5.0",
            "_model_name": "ProgressStyleModel",
            "_view_count": null,
            "_view_module": "@jupyter-widgets/base",
            "_view_module_version": "1.2.0",
            "_view_name": "StyleView",
            "bar_color": null,
            "description_width": ""
          }
        },
        "6f4a49907e3344ae9411ebd1975c5498": {
          "model_module": "@jupyter-widgets/base",
          "model_name": "LayoutModel",
          "model_module_version": "1.2.0",
          "state": {
            "_model_module": "@jupyter-widgets/base",
            "_model_module_version": "1.2.0",
            "_model_name": "LayoutModel",
            "_view_count": null,
            "_view_module": "@jupyter-widgets/base",
            "_view_module_version": "1.2.0",
            "_view_name": "LayoutView",
            "align_content": null,
            "align_items": null,
            "align_self": null,
            "border": null,
            "bottom": null,
            "display": null,
            "flex": null,
            "flex_flow": null,
            "grid_area": null,
            "grid_auto_columns": null,
            "grid_auto_flow": null,
            "grid_auto_rows": null,
            "grid_column": null,
            "grid_gap": null,
            "grid_row": null,
            "grid_template_areas": null,
            "grid_template_columns": null,
            "grid_template_rows": null,
            "height": null,
            "justify_content": null,
            "justify_items": null,
            "left": null,
            "margin": null,
            "max_height": null,
            "max_width": null,
            "min_height": null,
            "min_width": null,
            "object_fit": null,
            "object_position": null,
            "order": null,
            "overflow": null,
            "overflow_x": null,
            "overflow_y": null,
            "padding": null,
            "right": null,
            "top": null,
            "visibility": null,
            "width": null
          }
        },
        "90fbe2be00b143c0a1886e03e2246126": {
          "model_module": "@jupyter-widgets/controls",
          "model_name": "DescriptionStyleModel",
          "model_module_version": "1.5.0",
          "state": {
            "_model_module": "@jupyter-widgets/controls",
            "_model_module_version": "1.5.0",
            "_model_name": "DescriptionStyleModel",
            "_view_count": null,
            "_view_module": "@jupyter-widgets/base",
            "_view_module_version": "1.2.0",
            "_view_name": "StyleView",
            "description_width": ""
          }
        },
        "9412678650cd4285a5970a8b206459f7": {
          "model_module": "@jupyter-widgets/controls",
          "model_name": "HBoxModel",
          "model_module_version": "1.5.0",
          "state": {
            "_dom_classes": [],
            "_model_module": "@jupyter-widgets/controls",
            "_model_module_version": "1.5.0",
            "_model_name": "HBoxModel",
            "_view_count": null,
            "_view_module": "@jupyter-widgets/controls",
            "_view_module_version": "1.5.0",
            "_view_name": "HBoxView",
            "box_style": "",
            "children": [
              "IPY_MODEL_49f4ee51553a46b589cbfba1870dec7b",
              "IPY_MODEL_8488d72e9e7b49969615ec7a8894bf78",
              "IPY_MODEL_68852c83e5444968925d885b3902652e"
            ],
            "layout": "IPY_MODEL_cbc67a2804f648c7964bd69e9ead97aa"
          }
        },
        "49f4ee51553a46b589cbfba1870dec7b": {
          "model_module": "@jupyter-widgets/controls",
          "model_name": "HTMLModel",
          "model_module_version": "1.5.0",
          "state": {
            "_dom_classes": [],
            "_model_module": "@jupyter-widgets/controls",
            "_model_module_version": "1.5.0",
            "_model_name": "HTMLModel",
            "_view_count": null,
            "_view_module": "@jupyter-widgets/controls",
            "_view_module_version": "1.5.0",
            "_view_name": "HTMLView",
            "description": "",
            "description_tooltip": null,
            "layout": "IPY_MODEL_2fe7d4c1f4084c3c8195862212469eb0",
            "placeholder": "​",
            "style": "IPY_MODEL_98e79c8d473b44149332dbdfd4d7c361",
            "value": "sentence_bert_config.json: 100%"
          }
        },
        "8488d72e9e7b49969615ec7a8894bf78": {
          "model_module": "@jupyter-widgets/controls",
          "model_name": "FloatProgressModel",
          "model_module_version": "1.5.0",
          "state": {
            "_dom_classes": [],
            "_model_module": "@jupyter-widgets/controls",
            "_model_module_version": "1.5.0",
            "_model_name": "FloatProgressModel",
            "_view_count": null,
            "_view_module": "@jupyter-widgets/controls",
            "_view_module_version": "1.5.0",
            "_view_name": "ProgressView",
            "bar_style": "success",
            "description": "",
            "description_tooltip": null,
            "layout": "IPY_MODEL_698b38b61a8b4eaaab0cc68c3389d3f2",
            "max": 52,
            "min": 0,
            "orientation": "horizontal",
            "style": "IPY_MODEL_8f9f20c3d8ef40c0a6b1cb43c5714354",
            "value": 52
          }
        },
        "68852c83e5444968925d885b3902652e": {
          "model_module": "@jupyter-widgets/controls",
          "model_name": "HTMLModel",
          "model_module_version": "1.5.0",
          "state": {
            "_dom_classes": [],
            "_model_module": "@jupyter-widgets/controls",
            "_model_module_version": "1.5.0",
            "_model_name": "HTMLModel",
            "_view_count": null,
            "_view_module": "@jupyter-widgets/controls",
            "_view_module_version": "1.5.0",
            "_view_name": "HTMLView",
            "description": "",
            "description_tooltip": null,
            "layout": "IPY_MODEL_9045d4dec5a94752acb9e18e41fa7fdf",
            "placeholder": "​",
            "style": "IPY_MODEL_1bdafaa19b9c405d83bd30178b26b5b3",
            "value": " 52.0/52.0 [00:00&lt;00:00, 3.80kB/s]"
          }
        },
        "cbc67a2804f648c7964bd69e9ead97aa": {
          "model_module": "@jupyter-widgets/base",
          "model_name": "LayoutModel",
          "model_module_version": "1.2.0",
          "state": {
            "_model_module": "@jupyter-widgets/base",
            "_model_module_version": "1.2.0",
            "_model_name": "LayoutModel",
            "_view_count": null,
            "_view_module": "@jupyter-widgets/base",
            "_view_module_version": "1.2.0",
            "_view_name": "LayoutView",
            "align_content": null,
            "align_items": null,
            "align_self": null,
            "border": null,
            "bottom": null,
            "display": null,
            "flex": null,
            "flex_flow": null,
            "grid_area": null,
            "grid_auto_columns": null,
            "grid_auto_flow": null,
            "grid_auto_rows": null,
            "grid_column": null,
            "grid_gap": null,
            "grid_row": null,
            "grid_template_areas": null,
            "grid_template_columns": null,
            "grid_template_rows": null,
            "height": null,
            "justify_content": null,
            "justify_items": null,
            "left": null,
            "margin": null,
            "max_height": null,
            "max_width": null,
            "min_height": null,
            "min_width": null,
            "object_fit": null,
            "object_position": null,
            "order": null,
            "overflow": null,
            "overflow_x": null,
            "overflow_y": null,
            "padding": null,
            "right": null,
            "top": null,
            "visibility": null,
            "width": null
          }
        },
        "2fe7d4c1f4084c3c8195862212469eb0": {
          "model_module": "@jupyter-widgets/base",
          "model_name": "LayoutModel",
          "model_module_version": "1.2.0",
          "state": {
            "_model_module": "@jupyter-widgets/base",
            "_model_module_version": "1.2.0",
            "_model_name": "LayoutModel",
            "_view_count": null,
            "_view_module": "@jupyter-widgets/base",
            "_view_module_version": "1.2.0",
            "_view_name": "LayoutView",
            "align_content": null,
            "align_items": null,
            "align_self": null,
            "border": null,
            "bottom": null,
            "display": null,
            "flex": null,
            "flex_flow": null,
            "grid_area": null,
            "grid_auto_columns": null,
            "grid_auto_flow": null,
            "grid_auto_rows": null,
            "grid_column": null,
            "grid_gap": null,
            "grid_row": null,
            "grid_template_areas": null,
            "grid_template_columns": null,
            "grid_template_rows": null,
            "height": null,
            "justify_content": null,
            "justify_items": null,
            "left": null,
            "margin": null,
            "max_height": null,
            "max_width": null,
            "min_height": null,
            "min_width": null,
            "object_fit": null,
            "object_position": null,
            "order": null,
            "overflow": null,
            "overflow_x": null,
            "overflow_y": null,
            "padding": null,
            "right": null,
            "top": null,
            "visibility": null,
            "width": null
          }
        },
        "98e79c8d473b44149332dbdfd4d7c361": {
          "model_module": "@jupyter-widgets/controls",
          "model_name": "DescriptionStyleModel",
          "model_module_version": "1.5.0",
          "state": {
            "_model_module": "@jupyter-widgets/controls",
            "_model_module_version": "1.5.0",
            "_model_name": "DescriptionStyleModel",
            "_view_count": null,
            "_view_module": "@jupyter-widgets/base",
            "_view_module_version": "1.2.0",
            "_view_name": "StyleView",
            "description_width": ""
          }
        },
        "698b38b61a8b4eaaab0cc68c3389d3f2": {
          "model_module": "@jupyter-widgets/base",
          "model_name": "LayoutModel",
          "model_module_version": "1.2.0",
          "state": {
            "_model_module": "@jupyter-widgets/base",
            "_model_module_version": "1.2.0",
            "_model_name": "LayoutModel",
            "_view_count": null,
            "_view_module": "@jupyter-widgets/base",
            "_view_module_version": "1.2.0",
            "_view_name": "LayoutView",
            "align_content": null,
            "align_items": null,
            "align_self": null,
            "border": null,
            "bottom": null,
            "display": null,
            "flex": null,
            "flex_flow": null,
            "grid_area": null,
            "grid_auto_columns": null,
            "grid_auto_flow": null,
            "grid_auto_rows": null,
            "grid_column": null,
            "grid_gap": null,
            "grid_row": null,
            "grid_template_areas": null,
            "grid_template_columns": null,
            "grid_template_rows": null,
            "height": null,
            "justify_content": null,
            "justify_items": null,
            "left": null,
            "margin": null,
            "max_height": null,
            "max_width": null,
            "min_height": null,
            "min_width": null,
            "object_fit": null,
            "object_position": null,
            "order": null,
            "overflow": null,
            "overflow_x": null,
            "overflow_y": null,
            "padding": null,
            "right": null,
            "top": null,
            "visibility": null,
            "width": null
          }
        },
        "8f9f20c3d8ef40c0a6b1cb43c5714354": {
          "model_module": "@jupyter-widgets/controls",
          "model_name": "ProgressStyleModel",
          "model_module_version": "1.5.0",
          "state": {
            "_model_module": "@jupyter-widgets/controls",
            "_model_module_version": "1.5.0",
            "_model_name": "ProgressStyleModel",
            "_view_count": null,
            "_view_module": "@jupyter-widgets/base",
            "_view_module_version": "1.2.0",
            "_view_name": "StyleView",
            "bar_color": null,
            "description_width": ""
          }
        },
        "9045d4dec5a94752acb9e18e41fa7fdf": {
          "model_module": "@jupyter-widgets/base",
          "model_name": "LayoutModel",
          "model_module_version": "1.2.0",
          "state": {
            "_model_module": "@jupyter-widgets/base",
            "_model_module_version": "1.2.0",
            "_model_name": "LayoutModel",
            "_view_count": null,
            "_view_module": "@jupyter-widgets/base",
            "_view_module_version": "1.2.0",
            "_view_name": "LayoutView",
            "align_content": null,
            "align_items": null,
            "align_self": null,
            "border": null,
            "bottom": null,
            "display": null,
            "flex": null,
            "flex_flow": null,
            "grid_area": null,
            "grid_auto_columns": null,
            "grid_auto_flow": null,
            "grid_auto_rows": null,
            "grid_column": null,
            "grid_gap": null,
            "grid_row": null,
            "grid_template_areas": null,
            "grid_template_columns": null,
            "grid_template_rows": null,
            "height": null,
            "justify_content": null,
            "justify_items": null,
            "left": null,
            "margin": null,
            "max_height": null,
            "max_width": null,
            "min_height": null,
            "min_width": null,
            "object_fit": null,
            "object_position": null,
            "order": null,
            "overflow": null,
            "overflow_x": null,
            "overflow_y": null,
            "padding": null,
            "right": null,
            "top": null,
            "visibility": null,
            "width": null
          }
        },
        "1bdafaa19b9c405d83bd30178b26b5b3": {
          "model_module": "@jupyter-widgets/controls",
          "model_name": "DescriptionStyleModel",
          "model_module_version": "1.5.0",
          "state": {
            "_model_module": "@jupyter-widgets/controls",
            "_model_module_version": "1.5.0",
            "_model_name": "DescriptionStyleModel",
            "_view_count": null,
            "_view_module": "@jupyter-widgets/base",
            "_view_module_version": "1.2.0",
            "_view_name": "StyleView",
            "description_width": ""
          }
        },
        "05bef9d1ed414c5ab855cf9a20895573": {
          "model_module": "@jupyter-widgets/controls",
          "model_name": "HBoxModel",
          "model_module_version": "1.5.0",
          "state": {
            "_dom_classes": [],
            "_model_module": "@jupyter-widgets/controls",
            "_model_module_version": "1.5.0",
            "_model_name": "HBoxModel",
            "_view_count": null,
            "_view_module": "@jupyter-widgets/controls",
            "_view_module_version": "1.5.0",
            "_view_name": "HBoxView",
            "box_style": "",
            "children": [
              "IPY_MODEL_727e019329d64a81a538310b12b61bad",
              "IPY_MODEL_14289a0f827041f4bfb8421db3aee156",
              "IPY_MODEL_5545f737a77c48bfb1ab4ca553098712"
            ],
            "layout": "IPY_MODEL_c724993f55b24f37a7f98c800d3d3dea"
          }
        },
        "727e019329d64a81a538310b12b61bad": {
          "model_module": "@jupyter-widgets/controls",
          "model_name": "HTMLModel",
          "model_module_version": "1.5.0",
          "state": {
            "_dom_classes": [],
            "_model_module": "@jupyter-widgets/controls",
            "_model_module_version": "1.5.0",
            "_model_name": "HTMLModel",
            "_view_count": null,
            "_view_module": "@jupyter-widgets/controls",
            "_view_module_version": "1.5.0",
            "_view_name": "HTMLView",
            "description": "",
            "description_tooltip": null,
            "layout": "IPY_MODEL_1d498882402e4280bcb164fe8d9f6659",
            "placeholder": "​",
            "style": "IPY_MODEL_fc23505287994d9e8aae9873db9ac2f9",
            "value": "config.json: 100%"
          }
        },
        "14289a0f827041f4bfb8421db3aee156": {
          "model_module": "@jupyter-widgets/controls",
          "model_name": "FloatProgressModel",
          "model_module_version": "1.5.0",
          "state": {
            "_dom_classes": [],
            "_model_module": "@jupyter-widgets/controls",
            "_model_module_version": "1.5.0",
            "_model_name": "FloatProgressModel",
            "_view_count": null,
            "_view_module": "@jupyter-widgets/controls",
            "_view_module_version": "1.5.0",
            "_view_name": "ProgressView",
            "bar_style": "success",
            "description": "",
            "description_tooltip": null,
            "layout": "IPY_MODEL_171018b2ff554454a2dd8bcef8011ca5",
            "max": 684,
            "min": 0,
            "orientation": "horizontal",
            "style": "IPY_MODEL_e0b84dee92db4ff5b90d218f473286ac",
            "value": 684
          }
        },
        "5545f737a77c48bfb1ab4ca553098712": {
          "model_module": "@jupyter-widgets/controls",
          "model_name": "HTMLModel",
          "model_module_version": "1.5.0",
          "state": {
            "_dom_classes": [],
            "_model_module": "@jupyter-widgets/controls",
            "_model_module_version": "1.5.0",
            "_model_name": "HTMLModel",
            "_view_count": null,
            "_view_module": "@jupyter-widgets/controls",
            "_view_module_version": "1.5.0",
            "_view_name": "HTMLView",
            "description": "",
            "description_tooltip": null,
            "layout": "IPY_MODEL_62d03c90e12d41fe88640a6222ac6a26",
            "placeholder": "​",
            "style": "IPY_MODEL_f9bec554fee248bd8c8b382da10be329",
            "value": " 684/684 [00:00&lt;00:00, 45.1kB/s]"
          }
        },
        "c724993f55b24f37a7f98c800d3d3dea": {
          "model_module": "@jupyter-widgets/base",
          "model_name": "LayoutModel",
          "model_module_version": "1.2.0",
          "state": {
            "_model_module": "@jupyter-widgets/base",
            "_model_module_version": "1.2.0",
            "_model_name": "LayoutModel",
            "_view_count": null,
            "_view_module": "@jupyter-widgets/base",
            "_view_module_version": "1.2.0",
            "_view_name": "LayoutView",
            "align_content": null,
            "align_items": null,
            "align_self": null,
            "border": null,
            "bottom": null,
            "display": null,
            "flex": null,
            "flex_flow": null,
            "grid_area": null,
            "grid_auto_columns": null,
            "grid_auto_flow": null,
            "grid_auto_rows": null,
            "grid_column": null,
            "grid_gap": null,
            "grid_row": null,
            "grid_template_areas": null,
            "grid_template_columns": null,
            "grid_template_rows": null,
            "height": null,
            "justify_content": null,
            "justify_items": null,
            "left": null,
            "margin": null,
            "max_height": null,
            "max_width": null,
            "min_height": null,
            "min_width": null,
            "object_fit": null,
            "object_position": null,
            "order": null,
            "overflow": null,
            "overflow_x": null,
            "overflow_y": null,
            "padding": null,
            "right": null,
            "top": null,
            "visibility": null,
            "width": null
          }
        },
        "1d498882402e4280bcb164fe8d9f6659": {
          "model_module": "@jupyter-widgets/base",
          "model_name": "LayoutModel",
          "model_module_version": "1.2.0",
          "state": {
            "_model_module": "@jupyter-widgets/base",
            "_model_module_version": "1.2.0",
            "_model_name": "LayoutModel",
            "_view_count": null,
            "_view_module": "@jupyter-widgets/base",
            "_view_module_version": "1.2.0",
            "_view_name": "LayoutView",
            "align_content": null,
            "align_items": null,
            "align_self": null,
            "border": null,
            "bottom": null,
            "display": null,
            "flex": null,
            "flex_flow": null,
            "grid_area": null,
            "grid_auto_columns": null,
            "grid_auto_flow": null,
            "grid_auto_rows": null,
            "grid_column": null,
            "grid_gap": null,
            "grid_row": null,
            "grid_template_areas": null,
            "grid_template_columns": null,
            "grid_template_rows": null,
            "height": null,
            "justify_content": null,
            "justify_items": null,
            "left": null,
            "margin": null,
            "max_height": null,
            "max_width": null,
            "min_height": null,
            "min_width": null,
            "object_fit": null,
            "object_position": null,
            "order": null,
            "overflow": null,
            "overflow_x": null,
            "overflow_y": null,
            "padding": null,
            "right": null,
            "top": null,
            "visibility": null,
            "width": null
          }
        },
        "fc23505287994d9e8aae9873db9ac2f9": {
          "model_module": "@jupyter-widgets/controls",
          "model_name": "DescriptionStyleModel",
          "model_module_version": "1.5.0",
          "state": {
            "_model_module": "@jupyter-widgets/controls",
            "_model_module_version": "1.5.0",
            "_model_name": "DescriptionStyleModel",
            "_view_count": null,
            "_view_module": "@jupyter-widgets/base",
            "_view_module_version": "1.2.0",
            "_view_name": "StyleView",
            "description_width": ""
          }
        },
        "171018b2ff554454a2dd8bcef8011ca5": {
          "model_module": "@jupyter-widgets/base",
          "model_name": "LayoutModel",
          "model_module_version": "1.2.0",
          "state": {
            "_model_module": "@jupyter-widgets/base",
            "_model_module_version": "1.2.0",
            "_model_name": "LayoutModel",
            "_view_count": null,
            "_view_module": "@jupyter-widgets/base",
            "_view_module_version": "1.2.0",
            "_view_name": "LayoutView",
            "align_content": null,
            "align_items": null,
            "align_self": null,
            "border": null,
            "bottom": null,
            "display": null,
            "flex": null,
            "flex_flow": null,
            "grid_area": null,
            "grid_auto_columns": null,
            "grid_auto_flow": null,
            "grid_auto_rows": null,
            "grid_column": null,
            "grid_gap": null,
            "grid_row": null,
            "grid_template_areas": null,
            "grid_template_columns": null,
            "grid_template_rows": null,
            "height": null,
            "justify_content": null,
            "justify_items": null,
            "left": null,
            "margin": null,
            "max_height": null,
            "max_width": null,
            "min_height": null,
            "min_width": null,
            "object_fit": null,
            "object_position": null,
            "order": null,
            "overflow": null,
            "overflow_x": null,
            "overflow_y": null,
            "padding": null,
            "right": null,
            "top": null,
            "visibility": null,
            "width": null
          }
        },
        "e0b84dee92db4ff5b90d218f473286ac": {
          "model_module": "@jupyter-widgets/controls",
          "model_name": "ProgressStyleModel",
          "model_module_version": "1.5.0",
          "state": {
            "_model_module": "@jupyter-widgets/controls",
            "_model_module_version": "1.5.0",
            "_model_name": "ProgressStyleModel",
            "_view_count": null,
            "_view_module": "@jupyter-widgets/base",
            "_view_module_version": "1.2.0",
            "_view_name": "StyleView",
            "bar_color": null,
            "description_width": ""
          }
        },
        "62d03c90e12d41fe88640a6222ac6a26": {
          "model_module": "@jupyter-widgets/base",
          "model_name": "LayoutModel",
          "model_module_version": "1.2.0",
          "state": {
            "_model_module": "@jupyter-widgets/base",
            "_model_module_version": "1.2.0",
            "_model_name": "LayoutModel",
            "_view_count": null,
            "_view_module": "@jupyter-widgets/base",
            "_view_module_version": "1.2.0",
            "_view_name": "LayoutView",
            "align_content": null,
            "align_items": null,
            "align_self": null,
            "border": null,
            "bottom": null,
            "display": null,
            "flex": null,
            "flex_flow": null,
            "grid_area": null,
            "grid_auto_columns": null,
            "grid_auto_flow": null,
            "grid_auto_rows": null,
            "grid_column": null,
            "grid_gap": null,
            "grid_row": null,
            "grid_template_areas": null,
            "grid_template_columns": null,
            "grid_template_rows": null,
            "height": null,
            "justify_content": null,
            "justify_items": null,
            "left": null,
            "margin": null,
            "max_height": null,
            "max_width": null,
            "min_height": null,
            "min_width": null,
            "object_fit": null,
            "object_position": null,
            "order": null,
            "overflow": null,
            "overflow_x": null,
            "overflow_y": null,
            "padding": null,
            "right": null,
            "top": null,
            "visibility": null,
            "width": null
          }
        },
        "f9bec554fee248bd8c8b382da10be329": {
          "model_module": "@jupyter-widgets/controls",
          "model_name": "DescriptionStyleModel",
          "model_module_version": "1.5.0",
          "state": {
            "_model_module": "@jupyter-widgets/controls",
            "_model_module_version": "1.5.0",
            "_model_name": "DescriptionStyleModel",
            "_view_count": null,
            "_view_module": "@jupyter-widgets/base",
            "_view_module_version": "1.2.0",
            "_view_name": "StyleView",
            "description_width": ""
          }
        },
        "317bab5a84be4f7bb266087bd3bd6eee": {
          "model_module": "@jupyter-widgets/controls",
          "model_name": "HBoxModel",
          "model_module_version": "1.5.0",
          "state": {
            "_dom_classes": [],
            "_model_module": "@jupyter-widgets/controls",
            "_model_module_version": "1.5.0",
            "_model_name": "HBoxModel",
            "_view_count": null,
            "_view_module": "@jupyter-widgets/controls",
            "_view_module_version": "1.5.0",
            "_view_name": "HBoxView",
            "box_style": "",
            "children": [
              "IPY_MODEL_57005b919974466081f488caa395204e",
              "IPY_MODEL_3a673dc9a99b40a6bccf4d9f01273678",
              "IPY_MODEL_d6fb204e91864828ad5267c4b2a17620"
            ],
            "layout": "IPY_MODEL_5fb66d313ed9492d8b2412fcc9715967"
          }
        },
        "57005b919974466081f488caa395204e": {
          "model_module": "@jupyter-widgets/controls",
          "model_name": "HTMLModel",
          "model_module_version": "1.5.0",
          "state": {
            "_dom_classes": [],
            "_model_module": "@jupyter-widgets/controls",
            "_model_module_version": "1.5.0",
            "_model_name": "HTMLModel",
            "_view_count": null,
            "_view_module": "@jupyter-widgets/controls",
            "_view_module_version": "1.5.0",
            "_view_name": "HTMLView",
            "description": "",
            "description_tooltip": null,
            "layout": "IPY_MODEL_3582dd13b86a4f0ea050c04daa5a4cca",
            "placeholder": "​",
            "style": "IPY_MODEL_ceccee955df04de6984fc7f36fa42de9",
            "value": "model.safetensors: 100%"
          }
        },
        "3a673dc9a99b40a6bccf4d9f01273678": {
          "model_module": "@jupyter-widgets/controls",
          "model_name": "FloatProgressModel",
          "model_module_version": "1.5.0",
          "state": {
            "_dom_classes": [],
            "_model_module": "@jupyter-widgets/controls",
            "_model_module_version": "1.5.0",
            "_model_name": "FloatProgressModel",
            "_view_count": null,
            "_view_module": "@jupyter-widgets/controls",
            "_view_module_version": "1.5.0",
            "_view_name": "ProgressView",
            "bar_style": "success",
            "description": "",
            "description_tooltip": null,
            "layout": "IPY_MODEL_d01320560bd84884b88d167c423a5b30",
            "max": 133466304,
            "min": 0,
            "orientation": "horizontal",
            "style": "IPY_MODEL_d078b34d03ea401f8361e8216e16114c",
            "value": 133466304
          }
        },
        "d6fb204e91864828ad5267c4b2a17620": {
          "model_module": "@jupyter-widgets/controls",
          "model_name": "HTMLModel",
          "model_module_version": "1.5.0",
          "state": {
            "_dom_classes": [],
            "_model_module": "@jupyter-widgets/controls",
            "_model_module_version": "1.5.0",
            "_model_name": "HTMLModel",
            "_view_count": null,
            "_view_module": "@jupyter-widgets/controls",
            "_view_module_version": "1.5.0",
            "_view_name": "HTMLView",
            "description": "",
            "description_tooltip": null,
            "layout": "IPY_MODEL_afbcb8d9936448709c106aa473542260",
            "placeholder": "​",
            "style": "IPY_MODEL_f9487bc6201b4e26b28578055ecae2e9",
            "value": " 133M/133M [00:01&lt;00:00, 144MB/s]"
          }
        },
        "5fb66d313ed9492d8b2412fcc9715967": {
          "model_module": "@jupyter-widgets/base",
          "model_name": "LayoutModel",
          "model_module_version": "1.2.0",
          "state": {
            "_model_module": "@jupyter-widgets/base",
            "_model_module_version": "1.2.0",
            "_model_name": "LayoutModel",
            "_view_count": null,
            "_view_module": "@jupyter-widgets/base",
            "_view_module_version": "1.2.0",
            "_view_name": "LayoutView",
            "align_content": null,
            "align_items": null,
            "align_self": null,
            "border": null,
            "bottom": null,
            "display": null,
            "flex": null,
            "flex_flow": null,
            "grid_area": null,
            "grid_auto_columns": null,
            "grid_auto_flow": null,
            "grid_auto_rows": null,
            "grid_column": null,
            "grid_gap": null,
            "grid_row": null,
            "grid_template_areas": null,
            "grid_template_columns": null,
            "grid_template_rows": null,
            "height": null,
            "justify_content": null,
            "justify_items": null,
            "left": null,
            "margin": null,
            "max_height": null,
            "max_width": null,
            "min_height": null,
            "min_width": null,
            "object_fit": null,
            "object_position": null,
            "order": null,
            "overflow": null,
            "overflow_x": null,
            "overflow_y": null,
            "padding": null,
            "right": null,
            "top": null,
            "visibility": null,
            "width": null
          }
        },
        "3582dd13b86a4f0ea050c04daa5a4cca": {
          "model_module": "@jupyter-widgets/base",
          "model_name": "LayoutModel",
          "model_module_version": "1.2.0",
          "state": {
            "_model_module": "@jupyter-widgets/base",
            "_model_module_version": "1.2.0",
            "_model_name": "LayoutModel",
            "_view_count": null,
            "_view_module": "@jupyter-widgets/base",
            "_view_module_version": "1.2.0",
            "_view_name": "LayoutView",
            "align_content": null,
            "align_items": null,
            "align_self": null,
            "border": null,
            "bottom": null,
            "display": null,
            "flex": null,
            "flex_flow": null,
            "grid_area": null,
            "grid_auto_columns": null,
            "grid_auto_flow": null,
            "grid_auto_rows": null,
            "grid_column": null,
            "grid_gap": null,
            "grid_row": null,
            "grid_template_areas": null,
            "grid_template_columns": null,
            "grid_template_rows": null,
            "height": null,
            "justify_content": null,
            "justify_items": null,
            "left": null,
            "margin": null,
            "max_height": null,
            "max_width": null,
            "min_height": null,
            "min_width": null,
            "object_fit": null,
            "object_position": null,
            "order": null,
            "overflow": null,
            "overflow_x": null,
            "overflow_y": null,
            "padding": null,
            "right": null,
            "top": null,
            "visibility": null,
            "width": null
          }
        },
        "ceccee955df04de6984fc7f36fa42de9": {
          "model_module": "@jupyter-widgets/controls",
          "model_name": "DescriptionStyleModel",
          "model_module_version": "1.5.0",
          "state": {
            "_model_module": "@jupyter-widgets/controls",
            "_model_module_version": "1.5.0",
            "_model_name": "DescriptionStyleModel",
            "_view_count": null,
            "_view_module": "@jupyter-widgets/base",
            "_view_module_version": "1.2.0",
            "_view_name": "StyleView",
            "description_width": ""
          }
        },
        "d01320560bd84884b88d167c423a5b30": {
          "model_module": "@jupyter-widgets/base",
          "model_name": "LayoutModel",
          "model_module_version": "1.2.0",
          "state": {
            "_model_module": "@jupyter-widgets/base",
            "_model_module_version": "1.2.0",
            "_model_name": "LayoutModel",
            "_view_count": null,
            "_view_module": "@jupyter-widgets/base",
            "_view_module_version": "1.2.0",
            "_view_name": "LayoutView",
            "align_content": null,
            "align_items": null,
            "align_self": null,
            "border": null,
            "bottom": null,
            "display": null,
            "flex": null,
            "flex_flow": null,
            "grid_area": null,
            "grid_auto_columns": null,
            "grid_auto_flow": null,
            "grid_auto_rows": null,
            "grid_column": null,
            "grid_gap": null,
            "grid_row": null,
            "grid_template_areas": null,
            "grid_template_columns": null,
            "grid_template_rows": null,
            "height": null,
            "justify_content": null,
            "justify_items": null,
            "left": null,
            "margin": null,
            "max_height": null,
            "max_width": null,
            "min_height": null,
            "min_width": null,
            "object_fit": null,
            "object_position": null,
            "order": null,
            "overflow": null,
            "overflow_x": null,
            "overflow_y": null,
            "padding": null,
            "right": null,
            "top": null,
            "visibility": null,
            "width": null
          }
        },
        "d078b34d03ea401f8361e8216e16114c": {
          "model_module": "@jupyter-widgets/controls",
          "model_name": "ProgressStyleModel",
          "model_module_version": "1.5.0",
          "state": {
            "_model_module": "@jupyter-widgets/controls",
            "_model_module_version": "1.5.0",
            "_model_name": "ProgressStyleModel",
            "_view_count": null,
            "_view_module": "@jupyter-widgets/base",
            "_view_module_version": "1.2.0",
            "_view_name": "StyleView",
            "bar_color": null,
            "description_width": ""
          }
        },
        "afbcb8d9936448709c106aa473542260": {
          "model_module": "@jupyter-widgets/base",
          "model_name": "LayoutModel",
          "model_module_version": "1.2.0",
          "state": {
            "_model_module": "@jupyter-widgets/base",
            "_model_module_version": "1.2.0",
            "_model_name": "LayoutModel",
            "_view_count": null,
            "_view_module": "@jupyter-widgets/base",
            "_view_module_version": "1.2.0",
            "_view_name": "LayoutView",
            "align_content": null,
            "align_items": null,
            "align_self": null,
            "border": null,
            "bottom": null,
            "display": null,
            "flex": null,
            "flex_flow": null,
            "grid_area": null,
            "grid_auto_columns": null,
            "grid_auto_flow": null,
            "grid_auto_rows": null,
            "grid_column": null,
            "grid_gap": null,
            "grid_row": null,
            "grid_template_areas": null,
            "grid_template_columns": null,
            "grid_template_rows": null,
            "height": null,
            "justify_content": null,
            "justify_items": null,
            "left": null,
            "margin": null,
            "max_height": null,
            "max_width": null,
            "min_height": null,
            "min_width": null,
            "object_fit": null,
            "object_position": null,
            "order": null,
            "overflow": null,
            "overflow_x": null,
            "overflow_y": null,
            "padding": null,
            "right": null,
            "top": null,
            "visibility": null,
            "width": null
          }
        },
        "f9487bc6201b4e26b28578055ecae2e9": {
          "model_module": "@jupyter-widgets/controls",
          "model_name": "DescriptionStyleModel",
          "model_module_version": "1.5.0",
          "state": {
            "_model_module": "@jupyter-widgets/controls",
            "_model_module_version": "1.5.0",
            "_model_name": "DescriptionStyleModel",
            "_view_count": null,
            "_view_module": "@jupyter-widgets/base",
            "_view_module_version": "1.2.0",
            "_view_name": "StyleView",
            "description_width": ""
          }
        },
        "5a05d9e3e24f469e958b14263f54a496": {
          "model_module": "@jupyter-widgets/controls",
          "model_name": "HBoxModel",
          "model_module_version": "1.5.0",
          "state": {
            "_dom_classes": [],
            "_model_module": "@jupyter-widgets/controls",
            "_model_module_version": "1.5.0",
            "_model_name": "HBoxModel",
            "_view_count": null,
            "_view_module": "@jupyter-widgets/controls",
            "_view_module_version": "1.5.0",
            "_view_name": "HBoxView",
            "box_style": "",
            "children": [
              "IPY_MODEL_33dc4cf65de9466db5f3d3ffe410da61",
              "IPY_MODEL_b7314dd1baaa440593ff297937d78b7d",
              "IPY_MODEL_103ab05918c7448494304597b7ba304a"
            ],
            "layout": "IPY_MODEL_760b5c6d09dd496e936492c12ccea3a0"
          }
        },
        "33dc4cf65de9466db5f3d3ffe410da61": {
          "model_module": "@jupyter-widgets/controls",
          "model_name": "HTMLModel",
          "model_module_version": "1.5.0",
          "state": {
            "_dom_classes": [],
            "_model_module": "@jupyter-widgets/controls",
            "_model_module_version": "1.5.0",
            "_model_name": "HTMLModel",
            "_view_count": null,
            "_view_module": "@jupyter-widgets/controls",
            "_view_module_version": "1.5.0",
            "_view_name": "HTMLView",
            "description": "",
            "description_tooltip": null,
            "layout": "IPY_MODEL_d2d4420fc18c47938472c889a790fc22",
            "placeholder": "​",
            "style": "IPY_MODEL_afc1031d298742e48ffbc17258236995",
            "value": "tokenizer_config.json: 100%"
          }
        },
        "b7314dd1baaa440593ff297937d78b7d": {
          "model_module": "@jupyter-widgets/controls",
          "model_name": "FloatProgressModel",
          "model_module_version": "1.5.0",
          "state": {
            "_dom_classes": [],
            "_model_module": "@jupyter-widgets/controls",
            "_model_module_version": "1.5.0",
            "_model_name": "FloatProgressModel",
            "_view_count": null,
            "_view_module": "@jupyter-widgets/controls",
            "_view_module_version": "1.5.0",
            "_view_name": "ProgressView",
            "bar_style": "success",
            "description": "",
            "description_tooltip": null,
            "layout": "IPY_MODEL_2c238316cc784e109a3add6c5ee7c85b",
            "max": 366,
            "min": 0,
            "orientation": "horizontal",
            "style": "IPY_MODEL_b495f2f3620242d78fb639cd0aa052be",
            "value": 366
          }
        },
        "103ab05918c7448494304597b7ba304a": {
          "model_module": "@jupyter-widgets/controls",
          "model_name": "HTMLModel",
          "model_module_version": "1.5.0",
          "state": {
            "_dom_classes": [],
            "_model_module": "@jupyter-widgets/controls",
            "_model_module_version": "1.5.0",
            "_model_name": "HTMLModel",
            "_view_count": null,
            "_view_module": "@jupyter-widgets/controls",
            "_view_module_version": "1.5.0",
            "_view_name": "HTMLView",
            "description": "",
            "description_tooltip": null,
            "layout": "IPY_MODEL_1d79e5116b9b4cd89f6ebef289869e2d",
            "placeholder": "​",
            "style": "IPY_MODEL_743f74f710184d82b908a30a54c93915",
            "value": " 366/366 [00:00&lt;00:00, 28.6kB/s]"
          }
        },
        "760b5c6d09dd496e936492c12ccea3a0": {
          "model_module": "@jupyter-widgets/base",
          "model_name": "LayoutModel",
          "model_module_version": "1.2.0",
          "state": {
            "_model_module": "@jupyter-widgets/base",
            "_model_module_version": "1.2.0",
            "_model_name": "LayoutModel",
            "_view_count": null,
            "_view_module": "@jupyter-widgets/base",
            "_view_module_version": "1.2.0",
            "_view_name": "LayoutView",
            "align_content": null,
            "align_items": null,
            "align_self": null,
            "border": null,
            "bottom": null,
            "display": null,
            "flex": null,
            "flex_flow": null,
            "grid_area": null,
            "grid_auto_columns": null,
            "grid_auto_flow": null,
            "grid_auto_rows": null,
            "grid_column": null,
            "grid_gap": null,
            "grid_row": null,
            "grid_template_areas": null,
            "grid_template_columns": null,
            "grid_template_rows": null,
            "height": null,
            "justify_content": null,
            "justify_items": null,
            "left": null,
            "margin": null,
            "max_height": null,
            "max_width": null,
            "min_height": null,
            "min_width": null,
            "object_fit": null,
            "object_position": null,
            "order": null,
            "overflow": null,
            "overflow_x": null,
            "overflow_y": null,
            "padding": null,
            "right": null,
            "top": null,
            "visibility": null,
            "width": null
          }
        },
        "d2d4420fc18c47938472c889a790fc22": {
          "model_module": "@jupyter-widgets/base",
          "model_name": "LayoutModel",
          "model_module_version": "1.2.0",
          "state": {
            "_model_module": "@jupyter-widgets/base",
            "_model_module_version": "1.2.0",
            "_model_name": "LayoutModel",
            "_view_count": null,
            "_view_module": "@jupyter-widgets/base",
            "_view_module_version": "1.2.0",
            "_view_name": "LayoutView",
            "align_content": null,
            "align_items": null,
            "align_self": null,
            "border": null,
            "bottom": null,
            "display": null,
            "flex": null,
            "flex_flow": null,
            "grid_area": null,
            "grid_auto_columns": null,
            "grid_auto_flow": null,
            "grid_auto_rows": null,
            "grid_column": null,
            "grid_gap": null,
            "grid_row": null,
            "grid_template_areas": null,
            "grid_template_columns": null,
            "grid_template_rows": null,
            "height": null,
            "justify_content": null,
            "justify_items": null,
            "left": null,
            "margin": null,
            "max_height": null,
            "max_width": null,
            "min_height": null,
            "min_width": null,
            "object_fit": null,
            "object_position": null,
            "order": null,
            "overflow": null,
            "overflow_x": null,
            "overflow_y": null,
            "padding": null,
            "right": null,
            "top": null,
            "visibility": null,
            "width": null
          }
        },
        "afc1031d298742e48ffbc17258236995": {
          "model_module": "@jupyter-widgets/controls",
          "model_name": "DescriptionStyleModel",
          "model_module_version": "1.5.0",
          "state": {
            "_model_module": "@jupyter-widgets/controls",
            "_model_module_version": "1.5.0",
            "_model_name": "DescriptionStyleModel",
            "_view_count": null,
            "_view_module": "@jupyter-widgets/base",
            "_view_module_version": "1.2.0",
            "_view_name": "StyleView",
            "description_width": ""
          }
        },
        "2c238316cc784e109a3add6c5ee7c85b": {
          "model_module": "@jupyter-widgets/base",
          "model_name": "LayoutModel",
          "model_module_version": "1.2.0",
          "state": {
            "_model_module": "@jupyter-widgets/base",
            "_model_module_version": "1.2.0",
            "_model_name": "LayoutModel",
            "_view_count": null,
            "_view_module": "@jupyter-widgets/base",
            "_view_module_version": "1.2.0",
            "_view_name": "LayoutView",
            "align_content": null,
            "align_items": null,
            "align_self": null,
            "border": null,
            "bottom": null,
            "display": null,
            "flex": null,
            "flex_flow": null,
            "grid_area": null,
            "grid_auto_columns": null,
            "grid_auto_flow": null,
            "grid_auto_rows": null,
            "grid_column": null,
            "grid_gap": null,
            "grid_row": null,
            "grid_template_areas": null,
            "grid_template_columns": null,
            "grid_template_rows": null,
            "height": null,
            "justify_content": null,
            "justify_items": null,
            "left": null,
            "margin": null,
            "max_height": null,
            "max_width": null,
            "min_height": null,
            "min_width": null,
            "object_fit": null,
            "object_position": null,
            "order": null,
            "overflow": null,
            "overflow_x": null,
            "overflow_y": null,
            "padding": null,
            "right": null,
            "top": null,
            "visibility": null,
            "width": null
          }
        },
        "b495f2f3620242d78fb639cd0aa052be": {
          "model_module": "@jupyter-widgets/controls",
          "model_name": "ProgressStyleModel",
          "model_module_version": "1.5.0",
          "state": {
            "_model_module": "@jupyter-widgets/controls",
            "_model_module_version": "1.5.0",
            "_model_name": "ProgressStyleModel",
            "_view_count": null,
            "_view_module": "@jupyter-widgets/base",
            "_view_module_version": "1.2.0",
            "_view_name": "StyleView",
            "bar_color": null,
            "description_width": ""
          }
        },
        "1d79e5116b9b4cd89f6ebef289869e2d": {
          "model_module": "@jupyter-widgets/base",
          "model_name": "LayoutModel",
          "model_module_version": "1.2.0",
          "state": {
            "_model_module": "@jupyter-widgets/base",
            "_model_module_version": "1.2.0",
            "_model_name": "LayoutModel",
            "_view_count": null,
            "_view_module": "@jupyter-widgets/base",
            "_view_module_version": "1.2.0",
            "_view_name": "LayoutView",
            "align_content": null,
            "align_items": null,
            "align_self": null,
            "border": null,
            "bottom": null,
            "display": null,
            "flex": null,
            "flex_flow": null,
            "grid_area": null,
            "grid_auto_columns": null,
            "grid_auto_flow": null,
            "grid_auto_rows": null,
            "grid_column": null,
            "grid_gap": null,
            "grid_row": null,
            "grid_template_areas": null,
            "grid_template_columns": null,
            "grid_template_rows": null,
            "height": null,
            "justify_content": null,
            "justify_items": null,
            "left": null,
            "margin": null,
            "max_height": null,
            "max_width": null,
            "min_height": null,
            "min_width": null,
            "object_fit": null,
            "object_position": null,
            "order": null,
            "overflow": null,
            "overflow_x": null,
            "overflow_y": null,
            "padding": null,
            "right": null,
            "top": null,
            "visibility": null,
            "width": null
          }
        },
        "743f74f710184d82b908a30a54c93915": {
          "model_module": "@jupyter-widgets/controls",
          "model_name": "DescriptionStyleModel",
          "model_module_version": "1.5.0",
          "state": {
            "_model_module": "@jupyter-widgets/controls",
            "_model_module_version": "1.5.0",
            "_model_name": "DescriptionStyleModel",
            "_view_count": null,
            "_view_module": "@jupyter-widgets/base",
            "_view_module_version": "1.2.0",
            "_view_name": "StyleView",
            "description_width": ""
          }
        },
        "ea715af4353a45b49110e26fe9d141f4": {
          "model_module": "@jupyter-widgets/controls",
          "model_name": "HBoxModel",
          "model_module_version": "1.5.0",
          "state": {
            "_dom_classes": [],
            "_model_module": "@jupyter-widgets/controls",
            "_model_module_version": "1.5.0",
            "_model_name": "HBoxModel",
            "_view_count": null,
            "_view_module": "@jupyter-widgets/controls",
            "_view_module_version": "1.5.0",
            "_view_name": "HBoxView",
            "box_style": "",
            "children": [
              "IPY_MODEL_1b62ff063c674cd99bfd5059634ff4d7",
              "IPY_MODEL_4933393525c449039bcfc8958da9d215",
              "IPY_MODEL_9c19fc5674c64acd80847a1e2050d58e"
            ],
            "layout": "IPY_MODEL_183a54dc999546ebb374c0a21f981f91"
          }
        },
        "1b62ff063c674cd99bfd5059634ff4d7": {
          "model_module": "@jupyter-widgets/controls",
          "model_name": "HTMLModel",
          "model_module_version": "1.5.0",
          "state": {
            "_dom_classes": [],
            "_model_module": "@jupyter-widgets/controls",
            "_model_module_version": "1.5.0",
            "_model_name": "HTMLModel",
            "_view_count": null,
            "_view_module": "@jupyter-widgets/controls",
            "_view_module_version": "1.5.0",
            "_view_name": "HTMLView",
            "description": "",
            "description_tooltip": null,
            "layout": "IPY_MODEL_deec67a2549e4061936ecf28f3354150",
            "placeholder": "​",
            "style": "IPY_MODEL_537509686d0d4e5597358f608347f714",
            "value": "vocab.txt: 100%"
          }
        },
        "4933393525c449039bcfc8958da9d215": {
          "model_module": "@jupyter-widgets/controls",
          "model_name": "FloatProgressModel",
          "model_module_version": "1.5.0",
          "state": {
            "_dom_classes": [],
            "_model_module": "@jupyter-widgets/controls",
            "_model_module_version": "1.5.0",
            "_model_name": "FloatProgressModel",
            "_view_count": null,
            "_view_module": "@jupyter-widgets/controls",
            "_view_module_version": "1.5.0",
            "_view_name": "ProgressView",
            "bar_style": "success",
            "description": "",
            "description_tooltip": null,
            "layout": "IPY_MODEL_d1697d560340480f896d57076293d3ea",
            "max": 231508,
            "min": 0,
            "orientation": "horizontal",
            "style": "IPY_MODEL_7541f204673d42038799dbe401de083a",
            "value": 231508
          }
        },
        "9c19fc5674c64acd80847a1e2050d58e": {
          "model_module": "@jupyter-widgets/controls",
          "model_name": "HTMLModel",
          "model_module_version": "1.5.0",
          "state": {
            "_dom_classes": [],
            "_model_module": "@jupyter-widgets/controls",
            "_model_module_version": "1.5.0",
            "_model_name": "HTMLModel",
            "_view_count": null,
            "_view_module": "@jupyter-widgets/controls",
            "_view_module_version": "1.5.0",
            "_view_name": "HTMLView",
            "description": "",
            "description_tooltip": null,
            "layout": "IPY_MODEL_acdd92b9f0d24d428f75044aedf08fa2",
            "placeholder": "​",
            "style": "IPY_MODEL_d5ac0a3f810347d0afbfa165d0364347",
            "value": " 232k/232k [00:00&lt;00:00, 1.94MB/s]"
          }
        },
        "183a54dc999546ebb374c0a21f981f91": {
          "model_module": "@jupyter-widgets/base",
          "model_name": "LayoutModel",
          "model_module_version": "1.2.0",
          "state": {
            "_model_module": "@jupyter-widgets/base",
            "_model_module_version": "1.2.0",
            "_model_name": "LayoutModel",
            "_view_count": null,
            "_view_module": "@jupyter-widgets/base",
            "_view_module_version": "1.2.0",
            "_view_name": "LayoutView",
            "align_content": null,
            "align_items": null,
            "align_self": null,
            "border": null,
            "bottom": null,
            "display": null,
            "flex": null,
            "flex_flow": null,
            "grid_area": null,
            "grid_auto_columns": null,
            "grid_auto_flow": null,
            "grid_auto_rows": null,
            "grid_column": null,
            "grid_gap": null,
            "grid_row": null,
            "grid_template_areas": null,
            "grid_template_columns": null,
            "grid_template_rows": null,
            "height": null,
            "justify_content": null,
            "justify_items": null,
            "left": null,
            "margin": null,
            "max_height": null,
            "max_width": null,
            "min_height": null,
            "min_width": null,
            "object_fit": null,
            "object_position": null,
            "order": null,
            "overflow": null,
            "overflow_x": null,
            "overflow_y": null,
            "padding": null,
            "right": null,
            "top": null,
            "visibility": null,
            "width": null
          }
        },
        "deec67a2549e4061936ecf28f3354150": {
          "model_module": "@jupyter-widgets/base",
          "model_name": "LayoutModel",
          "model_module_version": "1.2.0",
          "state": {
            "_model_module": "@jupyter-widgets/base",
            "_model_module_version": "1.2.0",
            "_model_name": "LayoutModel",
            "_view_count": null,
            "_view_module": "@jupyter-widgets/base",
            "_view_module_version": "1.2.0",
            "_view_name": "LayoutView",
            "align_content": null,
            "align_items": null,
            "align_self": null,
            "border": null,
            "bottom": null,
            "display": null,
            "flex": null,
            "flex_flow": null,
            "grid_area": null,
            "grid_auto_columns": null,
            "grid_auto_flow": null,
            "grid_auto_rows": null,
            "grid_column": null,
            "grid_gap": null,
            "grid_row": null,
            "grid_template_areas": null,
            "grid_template_columns": null,
            "grid_template_rows": null,
            "height": null,
            "justify_content": null,
            "justify_items": null,
            "left": null,
            "margin": null,
            "max_height": null,
            "max_width": null,
            "min_height": null,
            "min_width": null,
            "object_fit": null,
            "object_position": null,
            "order": null,
            "overflow": null,
            "overflow_x": null,
            "overflow_y": null,
            "padding": null,
            "right": null,
            "top": null,
            "visibility": null,
            "width": null
          }
        },
        "537509686d0d4e5597358f608347f714": {
          "model_module": "@jupyter-widgets/controls",
          "model_name": "DescriptionStyleModel",
          "model_module_version": "1.5.0",
          "state": {
            "_model_module": "@jupyter-widgets/controls",
            "_model_module_version": "1.5.0",
            "_model_name": "DescriptionStyleModel",
            "_view_count": null,
            "_view_module": "@jupyter-widgets/base",
            "_view_module_version": "1.2.0",
            "_view_name": "StyleView",
            "description_width": ""
          }
        },
        "d1697d560340480f896d57076293d3ea": {
          "model_module": "@jupyter-widgets/base",
          "model_name": "LayoutModel",
          "model_module_version": "1.2.0",
          "state": {
            "_model_module": "@jupyter-widgets/base",
            "_model_module_version": "1.2.0",
            "_model_name": "LayoutModel",
            "_view_count": null,
            "_view_module": "@jupyter-widgets/base",
            "_view_module_version": "1.2.0",
            "_view_name": "LayoutView",
            "align_content": null,
            "align_items": null,
            "align_self": null,
            "border": null,
            "bottom": null,
            "display": null,
            "flex": null,
            "flex_flow": null,
            "grid_area": null,
            "grid_auto_columns": null,
            "grid_auto_flow": null,
            "grid_auto_rows": null,
            "grid_column": null,
            "grid_gap": null,
            "grid_row": null,
            "grid_template_areas": null,
            "grid_template_columns": null,
            "grid_template_rows": null,
            "height": null,
            "justify_content": null,
            "justify_items": null,
            "left": null,
            "margin": null,
            "max_height": null,
            "max_width": null,
            "min_height": null,
            "min_width": null,
            "object_fit": null,
            "object_position": null,
            "order": null,
            "overflow": null,
            "overflow_x": null,
            "overflow_y": null,
            "padding": null,
            "right": null,
            "top": null,
            "visibility": null,
            "width": null
          }
        },
        "7541f204673d42038799dbe401de083a": {
          "model_module": "@jupyter-widgets/controls",
          "model_name": "ProgressStyleModel",
          "model_module_version": "1.5.0",
          "state": {
            "_model_module": "@jupyter-widgets/controls",
            "_model_module_version": "1.5.0",
            "_model_name": "ProgressStyleModel",
            "_view_count": null,
            "_view_module": "@jupyter-widgets/base",
            "_view_module_version": "1.2.0",
            "_view_name": "StyleView",
            "bar_color": null,
            "description_width": ""
          }
        },
        "acdd92b9f0d24d428f75044aedf08fa2": {
          "model_module": "@jupyter-widgets/base",
          "model_name": "LayoutModel",
          "model_module_version": "1.2.0",
          "state": {
            "_model_module": "@jupyter-widgets/base",
            "_model_module_version": "1.2.0",
            "_model_name": "LayoutModel",
            "_view_count": null,
            "_view_module": "@jupyter-widgets/base",
            "_view_module_version": "1.2.0",
            "_view_name": "LayoutView",
            "align_content": null,
            "align_items": null,
            "align_self": null,
            "border": null,
            "bottom": null,
            "display": null,
            "flex": null,
            "flex_flow": null,
            "grid_area": null,
            "grid_auto_columns": null,
            "grid_auto_flow": null,
            "grid_auto_rows": null,
            "grid_column": null,
            "grid_gap": null,
            "grid_row": null,
            "grid_template_areas": null,
            "grid_template_columns": null,
            "grid_template_rows": null,
            "height": null,
            "justify_content": null,
            "justify_items": null,
            "left": null,
            "margin": null,
            "max_height": null,
            "max_width": null,
            "min_height": null,
            "min_width": null,
            "object_fit": null,
            "object_position": null,
            "order": null,
            "overflow": null,
            "overflow_x": null,
            "overflow_y": null,
            "padding": null,
            "right": null,
            "top": null,
            "visibility": null,
            "width": null
          }
        },
        "d5ac0a3f810347d0afbfa165d0364347": {
          "model_module": "@jupyter-widgets/controls",
          "model_name": "DescriptionStyleModel",
          "model_module_version": "1.5.0",
          "state": {
            "_model_module": "@jupyter-widgets/controls",
            "_model_module_version": "1.5.0",
            "_model_name": "DescriptionStyleModel",
            "_view_count": null,
            "_view_module": "@jupyter-widgets/base",
            "_view_module_version": "1.2.0",
            "_view_name": "StyleView",
            "description_width": ""
          }
        },
        "b423b11e58a749ce92e47e77fb9b1bf4": {
          "model_module": "@jupyter-widgets/controls",
          "model_name": "HBoxModel",
          "model_module_version": "1.5.0",
          "state": {
            "_dom_classes": [],
            "_model_module": "@jupyter-widgets/controls",
            "_model_module_version": "1.5.0",
            "_model_name": "HBoxModel",
            "_view_count": null,
            "_view_module": "@jupyter-widgets/controls",
            "_view_module_version": "1.5.0",
            "_view_name": "HBoxView",
            "box_style": "",
            "children": [
              "IPY_MODEL_78dc6f912ff84863867df4b2ce51d482",
              "IPY_MODEL_86f5dad2153348bea142b2e5030934e5",
              "IPY_MODEL_00e921f6e78f4bbea5fbdd7043f6f442"
            ],
            "layout": "IPY_MODEL_17c63009613f4277ac96a486004823b3"
          }
        },
        "78dc6f912ff84863867df4b2ce51d482": {
          "model_module": "@jupyter-widgets/controls",
          "model_name": "HTMLModel",
          "model_module_version": "1.5.0",
          "state": {
            "_dom_classes": [],
            "_model_module": "@jupyter-widgets/controls",
            "_model_module_version": "1.5.0",
            "_model_name": "HTMLModel",
            "_view_count": null,
            "_view_module": "@jupyter-widgets/controls",
            "_view_module_version": "1.5.0",
            "_view_name": "HTMLView",
            "description": "",
            "description_tooltip": null,
            "layout": "IPY_MODEL_8a36d663a8b1405ebb48297c97ece8e2",
            "placeholder": "​",
            "style": "IPY_MODEL_4f25e7e772544108a9162e68a6a4d813",
            "value": "tokenizer.json: 100%"
          }
        },
        "86f5dad2153348bea142b2e5030934e5": {
          "model_module": "@jupyter-widgets/controls",
          "model_name": "FloatProgressModel",
          "model_module_version": "1.5.0",
          "state": {
            "_dom_classes": [],
            "_model_module": "@jupyter-widgets/controls",
            "_model_module_version": "1.5.0",
            "_model_name": "FloatProgressModel",
            "_view_count": null,
            "_view_module": "@jupyter-widgets/controls",
            "_view_module_version": "1.5.0",
            "_view_name": "ProgressView",
            "bar_style": "success",
            "description": "",
            "description_tooltip": null,
            "layout": "IPY_MODEL_a077accc962249b2a8a0aa006203e088",
            "max": 711396,
            "min": 0,
            "orientation": "horizontal",
            "style": "IPY_MODEL_02534c175fca487a973920edfc9763bf",
            "value": 711396
          }
        },
        "00e921f6e78f4bbea5fbdd7043f6f442": {
          "model_module": "@jupyter-widgets/controls",
          "model_name": "HTMLModel",
          "model_module_version": "1.5.0",
          "state": {
            "_dom_classes": [],
            "_model_module": "@jupyter-widgets/controls",
            "_model_module_version": "1.5.0",
            "_model_name": "HTMLModel",
            "_view_count": null,
            "_view_module": "@jupyter-widgets/controls",
            "_view_module_version": "1.5.0",
            "_view_name": "HTMLView",
            "description": "",
            "description_tooltip": null,
            "layout": "IPY_MODEL_05bc90b72ef84833bb8947fff9c66801",
            "placeholder": "​",
            "style": "IPY_MODEL_a727efb770cb47a096360cf30cbe4dec",
            "value": " 711k/711k [00:00&lt;00:00, 3.17MB/s]"
          }
        },
        "17c63009613f4277ac96a486004823b3": {
          "model_module": "@jupyter-widgets/base",
          "model_name": "LayoutModel",
          "model_module_version": "1.2.0",
          "state": {
            "_model_module": "@jupyter-widgets/base",
            "_model_module_version": "1.2.0",
            "_model_name": "LayoutModel",
            "_view_count": null,
            "_view_module": "@jupyter-widgets/base",
            "_view_module_version": "1.2.0",
            "_view_name": "LayoutView",
            "align_content": null,
            "align_items": null,
            "align_self": null,
            "border": null,
            "bottom": null,
            "display": null,
            "flex": null,
            "flex_flow": null,
            "grid_area": null,
            "grid_auto_columns": null,
            "grid_auto_flow": null,
            "grid_auto_rows": null,
            "grid_column": null,
            "grid_gap": null,
            "grid_row": null,
            "grid_template_areas": null,
            "grid_template_columns": null,
            "grid_template_rows": null,
            "height": null,
            "justify_content": null,
            "justify_items": null,
            "left": null,
            "margin": null,
            "max_height": null,
            "max_width": null,
            "min_height": null,
            "min_width": null,
            "object_fit": null,
            "object_position": null,
            "order": null,
            "overflow": null,
            "overflow_x": null,
            "overflow_y": null,
            "padding": null,
            "right": null,
            "top": null,
            "visibility": null,
            "width": null
          }
        },
        "8a36d663a8b1405ebb48297c97ece8e2": {
          "model_module": "@jupyter-widgets/base",
          "model_name": "LayoutModel",
          "model_module_version": "1.2.0",
          "state": {
            "_model_module": "@jupyter-widgets/base",
            "_model_module_version": "1.2.0",
            "_model_name": "LayoutModel",
            "_view_count": null,
            "_view_module": "@jupyter-widgets/base",
            "_view_module_version": "1.2.0",
            "_view_name": "LayoutView",
            "align_content": null,
            "align_items": null,
            "align_self": null,
            "border": null,
            "bottom": null,
            "display": null,
            "flex": null,
            "flex_flow": null,
            "grid_area": null,
            "grid_auto_columns": null,
            "grid_auto_flow": null,
            "grid_auto_rows": null,
            "grid_column": null,
            "grid_gap": null,
            "grid_row": null,
            "grid_template_areas": null,
            "grid_template_columns": null,
            "grid_template_rows": null,
            "height": null,
            "justify_content": null,
            "justify_items": null,
            "left": null,
            "margin": null,
            "max_height": null,
            "max_width": null,
            "min_height": null,
            "min_width": null,
            "object_fit": null,
            "object_position": null,
            "order": null,
            "overflow": null,
            "overflow_x": null,
            "overflow_y": null,
            "padding": null,
            "right": null,
            "top": null,
            "visibility": null,
            "width": null
          }
        },
        "4f25e7e772544108a9162e68a6a4d813": {
          "model_module": "@jupyter-widgets/controls",
          "model_name": "DescriptionStyleModel",
          "model_module_version": "1.5.0",
          "state": {
            "_model_module": "@jupyter-widgets/controls",
            "_model_module_version": "1.5.0",
            "_model_name": "DescriptionStyleModel",
            "_view_count": null,
            "_view_module": "@jupyter-widgets/base",
            "_view_module_version": "1.2.0",
            "_view_name": "StyleView",
            "description_width": ""
          }
        },
        "a077accc962249b2a8a0aa006203e088": {
          "model_module": "@jupyter-widgets/base",
          "model_name": "LayoutModel",
          "model_module_version": "1.2.0",
          "state": {
            "_model_module": "@jupyter-widgets/base",
            "_model_module_version": "1.2.0",
            "_model_name": "LayoutModel",
            "_view_count": null,
            "_view_module": "@jupyter-widgets/base",
            "_view_module_version": "1.2.0",
            "_view_name": "LayoutView",
            "align_content": null,
            "align_items": null,
            "align_self": null,
            "border": null,
            "bottom": null,
            "display": null,
            "flex": null,
            "flex_flow": null,
            "grid_area": null,
            "grid_auto_columns": null,
            "grid_auto_flow": null,
            "grid_auto_rows": null,
            "grid_column": null,
            "grid_gap": null,
            "grid_row": null,
            "grid_template_areas": null,
            "grid_template_columns": null,
            "grid_template_rows": null,
            "height": null,
            "justify_content": null,
            "justify_items": null,
            "left": null,
            "margin": null,
            "max_height": null,
            "max_width": null,
            "min_height": null,
            "min_width": null,
            "object_fit": null,
            "object_position": null,
            "order": null,
            "overflow": null,
            "overflow_x": null,
            "overflow_y": null,
            "padding": null,
            "right": null,
            "top": null,
            "visibility": null,
            "width": null
          }
        },
        "02534c175fca487a973920edfc9763bf": {
          "model_module": "@jupyter-widgets/controls",
          "model_name": "ProgressStyleModel",
          "model_module_version": "1.5.0",
          "state": {
            "_model_module": "@jupyter-widgets/controls",
            "_model_module_version": "1.5.0",
            "_model_name": "ProgressStyleModel",
            "_view_count": null,
            "_view_module": "@jupyter-widgets/base",
            "_view_module_version": "1.2.0",
            "_view_name": "StyleView",
            "bar_color": null,
            "description_width": ""
          }
        },
        "05bc90b72ef84833bb8947fff9c66801": {
          "model_module": "@jupyter-widgets/base",
          "model_name": "LayoutModel",
          "model_module_version": "1.2.0",
          "state": {
            "_model_module": "@jupyter-widgets/base",
            "_model_module_version": "1.2.0",
            "_model_name": "LayoutModel",
            "_view_count": null,
            "_view_module": "@jupyter-widgets/base",
            "_view_module_version": "1.2.0",
            "_view_name": "LayoutView",
            "align_content": null,
            "align_items": null,
            "align_self": null,
            "border": null,
            "bottom": null,
            "display": null,
            "flex": null,
            "flex_flow": null,
            "grid_area": null,
            "grid_auto_columns": null,
            "grid_auto_flow": null,
            "grid_auto_rows": null,
            "grid_column": null,
            "grid_gap": null,
            "grid_row": null,
            "grid_template_areas": null,
            "grid_template_columns": null,
            "grid_template_rows": null,
            "height": null,
            "justify_content": null,
            "justify_items": null,
            "left": null,
            "margin": null,
            "max_height": null,
            "max_width": null,
            "min_height": null,
            "min_width": null,
            "object_fit": null,
            "object_position": null,
            "order": null,
            "overflow": null,
            "overflow_x": null,
            "overflow_y": null,
            "padding": null,
            "right": null,
            "top": null,
            "visibility": null,
            "width": null
          }
        },
        "a727efb770cb47a096360cf30cbe4dec": {
          "model_module": "@jupyter-widgets/controls",
          "model_name": "DescriptionStyleModel",
          "model_module_version": "1.5.0",
          "state": {
            "_model_module": "@jupyter-widgets/controls",
            "_model_module_version": "1.5.0",
            "_model_name": "DescriptionStyleModel",
            "_view_count": null,
            "_view_module": "@jupyter-widgets/base",
            "_view_module_version": "1.2.0",
            "_view_name": "StyleView",
            "description_width": ""
          }
        },
        "56b75c6c8b9940829cabae5b584e777e": {
          "model_module": "@jupyter-widgets/controls",
          "model_name": "HBoxModel",
          "model_module_version": "1.5.0",
          "state": {
            "_dom_classes": [],
            "_model_module": "@jupyter-widgets/controls",
            "_model_module_version": "1.5.0",
            "_model_name": "HBoxModel",
            "_view_count": null,
            "_view_module": "@jupyter-widgets/controls",
            "_view_module_version": "1.5.0",
            "_view_name": "HBoxView",
            "box_style": "",
            "children": [
              "IPY_MODEL_b470e3bddfe74d39b0eb97c6367dae1d",
              "IPY_MODEL_05cb330083704ff18ec25a1f68bddf06",
              "IPY_MODEL_fcdfd4df9a424219b6add9688405c681"
            ],
            "layout": "IPY_MODEL_738f627feb2a4dffbd031049353a3893"
          }
        },
        "b470e3bddfe74d39b0eb97c6367dae1d": {
          "model_module": "@jupyter-widgets/controls",
          "model_name": "HTMLModel",
          "model_module_version": "1.5.0",
          "state": {
            "_dom_classes": [],
            "_model_module": "@jupyter-widgets/controls",
            "_model_module_version": "1.5.0",
            "_model_name": "HTMLModel",
            "_view_count": null,
            "_view_module": "@jupyter-widgets/controls",
            "_view_module_version": "1.5.0",
            "_view_name": "HTMLView",
            "description": "",
            "description_tooltip": null,
            "layout": "IPY_MODEL_5d614d94ac4548438899284cbf66c7e1",
            "placeholder": "​",
            "style": "IPY_MODEL_28746ad7348b4345885b2cdcb2a69af5",
            "value": "special_tokens_map.json: 100%"
          }
        },
        "05cb330083704ff18ec25a1f68bddf06": {
          "model_module": "@jupyter-widgets/controls",
          "model_name": "FloatProgressModel",
          "model_module_version": "1.5.0",
          "state": {
            "_dom_classes": [],
            "_model_module": "@jupyter-widgets/controls",
            "_model_module_version": "1.5.0",
            "_model_name": "FloatProgressModel",
            "_view_count": null,
            "_view_module": "@jupyter-widgets/controls",
            "_view_module_version": "1.5.0",
            "_view_name": "ProgressView",
            "bar_style": "success",
            "description": "",
            "description_tooltip": null,
            "layout": "IPY_MODEL_275e1dc81e7c4cff83e5d64d952fb761",
            "max": 125,
            "min": 0,
            "orientation": "horizontal",
            "style": "IPY_MODEL_6b8f44f6f52541bc98b9fd362b199c6f",
            "value": 125
          }
        },
        "fcdfd4df9a424219b6add9688405c681": {
          "model_module": "@jupyter-widgets/controls",
          "model_name": "HTMLModel",
          "model_module_version": "1.5.0",
          "state": {
            "_dom_classes": [],
            "_model_module": "@jupyter-widgets/controls",
            "_model_module_version": "1.5.0",
            "_model_name": "HTMLModel",
            "_view_count": null,
            "_view_module": "@jupyter-widgets/controls",
            "_view_module_version": "1.5.0",
            "_view_name": "HTMLView",
            "description": "",
            "description_tooltip": null,
            "layout": "IPY_MODEL_1c6a664445dc444f8a059d8f88027f9b",
            "placeholder": "​",
            "style": "IPY_MODEL_2a49dd0cd7b743b2bfe719a43e09bdd3",
            "value": " 125/125 [00:00&lt;00:00, 8.26kB/s]"
          }
        },
        "738f627feb2a4dffbd031049353a3893": {
          "model_module": "@jupyter-widgets/base",
          "model_name": "LayoutModel",
          "model_module_version": "1.2.0",
          "state": {
            "_model_module": "@jupyter-widgets/base",
            "_model_module_version": "1.2.0",
            "_model_name": "LayoutModel",
            "_view_count": null,
            "_view_module": "@jupyter-widgets/base",
            "_view_module_version": "1.2.0",
            "_view_name": "LayoutView",
            "align_content": null,
            "align_items": null,
            "align_self": null,
            "border": null,
            "bottom": null,
            "display": null,
            "flex": null,
            "flex_flow": null,
            "grid_area": null,
            "grid_auto_columns": null,
            "grid_auto_flow": null,
            "grid_auto_rows": null,
            "grid_column": null,
            "grid_gap": null,
            "grid_row": null,
            "grid_template_areas": null,
            "grid_template_columns": null,
            "grid_template_rows": null,
            "height": null,
            "justify_content": null,
            "justify_items": null,
            "left": null,
            "margin": null,
            "max_height": null,
            "max_width": null,
            "min_height": null,
            "min_width": null,
            "object_fit": null,
            "object_position": null,
            "order": null,
            "overflow": null,
            "overflow_x": null,
            "overflow_y": null,
            "padding": null,
            "right": null,
            "top": null,
            "visibility": null,
            "width": null
          }
        },
        "5d614d94ac4548438899284cbf66c7e1": {
          "model_module": "@jupyter-widgets/base",
          "model_name": "LayoutModel",
          "model_module_version": "1.2.0",
          "state": {
            "_model_module": "@jupyter-widgets/base",
            "_model_module_version": "1.2.0",
            "_model_name": "LayoutModel",
            "_view_count": null,
            "_view_module": "@jupyter-widgets/base",
            "_view_module_version": "1.2.0",
            "_view_name": "LayoutView",
            "align_content": null,
            "align_items": null,
            "align_self": null,
            "border": null,
            "bottom": null,
            "display": null,
            "flex": null,
            "flex_flow": null,
            "grid_area": null,
            "grid_auto_columns": null,
            "grid_auto_flow": null,
            "grid_auto_rows": null,
            "grid_column": null,
            "grid_gap": null,
            "grid_row": null,
            "grid_template_areas": null,
            "grid_template_columns": null,
            "grid_template_rows": null,
            "height": null,
            "justify_content": null,
            "justify_items": null,
            "left": null,
            "margin": null,
            "max_height": null,
            "max_width": null,
            "min_height": null,
            "min_width": null,
            "object_fit": null,
            "object_position": null,
            "order": null,
            "overflow": null,
            "overflow_x": null,
            "overflow_y": null,
            "padding": null,
            "right": null,
            "top": null,
            "visibility": null,
            "width": null
          }
        },
        "28746ad7348b4345885b2cdcb2a69af5": {
          "model_module": "@jupyter-widgets/controls",
          "model_name": "DescriptionStyleModel",
          "model_module_version": "1.5.0",
          "state": {
            "_model_module": "@jupyter-widgets/controls",
            "_model_module_version": "1.5.0",
            "_model_name": "DescriptionStyleModel",
            "_view_count": null,
            "_view_module": "@jupyter-widgets/base",
            "_view_module_version": "1.2.0",
            "_view_name": "StyleView",
            "description_width": ""
          }
        },
        "275e1dc81e7c4cff83e5d64d952fb761": {
          "model_module": "@jupyter-widgets/base",
          "model_name": "LayoutModel",
          "model_module_version": "1.2.0",
          "state": {
            "_model_module": "@jupyter-widgets/base",
            "_model_module_version": "1.2.0",
            "_model_name": "LayoutModel",
            "_view_count": null,
            "_view_module": "@jupyter-widgets/base",
            "_view_module_version": "1.2.0",
            "_view_name": "LayoutView",
            "align_content": null,
            "align_items": null,
            "align_self": null,
            "border": null,
            "bottom": null,
            "display": null,
            "flex": null,
            "flex_flow": null,
            "grid_area": null,
            "grid_auto_columns": null,
            "grid_auto_flow": null,
            "grid_auto_rows": null,
            "grid_column": null,
            "grid_gap": null,
            "grid_row": null,
            "grid_template_areas": null,
            "grid_template_columns": null,
            "grid_template_rows": null,
            "height": null,
            "justify_content": null,
            "justify_items": null,
            "left": null,
            "margin": null,
            "max_height": null,
            "max_width": null,
            "min_height": null,
            "min_width": null,
            "object_fit": null,
            "object_position": null,
            "order": null,
            "overflow": null,
            "overflow_x": null,
            "overflow_y": null,
            "padding": null,
            "right": null,
            "top": null,
            "visibility": null,
            "width": null
          }
        },
        "6b8f44f6f52541bc98b9fd362b199c6f": {
          "model_module": "@jupyter-widgets/controls",
          "model_name": "ProgressStyleModel",
          "model_module_version": "1.5.0",
          "state": {
            "_model_module": "@jupyter-widgets/controls",
            "_model_module_version": "1.5.0",
            "_model_name": "ProgressStyleModel",
            "_view_count": null,
            "_view_module": "@jupyter-widgets/base",
            "_view_module_version": "1.2.0",
            "_view_name": "StyleView",
            "bar_color": null,
            "description_width": ""
          }
        },
        "1c6a664445dc444f8a059d8f88027f9b": {
          "model_module": "@jupyter-widgets/base",
          "model_name": "LayoutModel",
          "model_module_version": "1.2.0",
          "state": {
            "_model_module": "@jupyter-widgets/base",
            "_model_module_version": "1.2.0",
            "_model_name": "LayoutModel",
            "_view_count": null,
            "_view_module": "@jupyter-widgets/base",
            "_view_module_version": "1.2.0",
            "_view_name": "LayoutView",
            "align_content": null,
            "align_items": null,
            "align_self": null,
            "border": null,
            "bottom": null,
            "display": null,
            "flex": null,
            "flex_flow": null,
            "grid_area": null,
            "grid_auto_columns": null,
            "grid_auto_flow": null,
            "grid_auto_rows": null,
            "grid_column": null,
            "grid_gap": null,
            "grid_row": null,
            "grid_template_areas": null,
            "grid_template_columns": null,
            "grid_template_rows": null,
            "height": null,
            "justify_content": null,
            "justify_items": null,
            "left": null,
            "margin": null,
            "max_height": null,
            "max_width": null,
            "min_height": null,
            "min_width": null,
            "object_fit": null,
            "object_position": null,
            "order": null,
            "overflow": null,
            "overflow_x": null,
            "overflow_y": null,
            "padding": null,
            "right": null,
            "top": null,
            "visibility": null,
            "width": null
          }
        },
        "2a49dd0cd7b743b2bfe719a43e09bdd3": {
          "model_module": "@jupyter-widgets/controls",
          "model_name": "DescriptionStyleModel",
          "model_module_version": "1.5.0",
          "state": {
            "_model_module": "@jupyter-widgets/controls",
            "_model_module_version": "1.5.0",
            "_model_name": "DescriptionStyleModel",
            "_view_count": null,
            "_view_module": "@jupyter-widgets/base",
            "_view_module_version": "1.2.0",
            "_view_name": "StyleView",
            "description_width": ""
          }
        },
        "5186e6cbc7264336b75e855542cfc3fd": {
          "model_module": "@jupyter-widgets/controls",
          "model_name": "HBoxModel",
          "model_module_version": "1.5.0",
          "state": {
            "_dom_classes": [],
            "_model_module": "@jupyter-widgets/controls",
            "_model_module_version": "1.5.0",
            "_model_name": "HBoxModel",
            "_view_count": null,
            "_view_module": "@jupyter-widgets/controls",
            "_view_module_version": "1.5.0",
            "_view_name": "HBoxView",
            "box_style": "",
            "children": [
              "IPY_MODEL_e0715b3f7a6342f19502c8be0a3a6e2a",
              "IPY_MODEL_bbac75f4d5f244d4b889c821a9d419cd",
              "IPY_MODEL_80e642210b32480eba97212bd49654e5"
            ],
            "layout": "IPY_MODEL_ecf9e41b68fc48b6b84c22817b96120a"
          }
        },
        "e0715b3f7a6342f19502c8be0a3a6e2a": {
          "model_module": "@jupyter-widgets/controls",
          "model_name": "HTMLModel",
          "model_module_version": "1.5.0",
          "state": {
            "_dom_classes": [],
            "_model_module": "@jupyter-widgets/controls",
            "_model_module_version": "1.5.0",
            "_model_name": "HTMLModel",
            "_view_count": null,
            "_view_module": "@jupyter-widgets/controls",
            "_view_module_version": "1.5.0",
            "_view_name": "HTMLView",
            "description": "",
            "description_tooltip": null,
            "layout": "IPY_MODEL_277f0f0ec86346a9a050cbd08556516f",
            "placeholder": "​",
            "style": "IPY_MODEL_de289a65e7524599b22e6cf7dd14b6db",
            "value": "1_Pooling/config.json: 100%"
          }
        },
        "bbac75f4d5f244d4b889c821a9d419cd": {
          "model_module": "@jupyter-widgets/controls",
          "model_name": "FloatProgressModel",
          "model_module_version": "1.5.0",
          "state": {
            "_dom_classes": [],
            "_model_module": "@jupyter-widgets/controls",
            "_model_module_version": "1.5.0",
            "_model_name": "FloatProgressModel",
            "_view_count": null,
            "_view_module": "@jupyter-widgets/controls",
            "_view_module_version": "1.5.0",
            "_view_name": "ProgressView",
            "bar_style": "success",
            "description": "",
            "description_tooltip": null,
            "layout": "IPY_MODEL_a46c4e36eb86485fbaf4f6096166969b",
            "max": 190,
            "min": 0,
            "orientation": "horizontal",
            "style": "IPY_MODEL_234267383bae4dd6b183da238c5b649a",
            "value": 190
          }
        },
        "80e642210b32480eba97212bd49654e5": {
          "model_module": "@jupyter-widgets/controls",
          "model_name": "HTMLModel",
          "model_module_version": "1.5.0",
          "state": {
            "_dom_classes": [],
            "_model_module": "@jupyter-widgets/controls",
            "_model_module_version": "1.5.0",
            "_model_name": "HTMLModel",
            "_view_count": null,
            "_view_module": "@jupyter-widgets/controls",
            "_view_module_version": "1.5.0",
            "_view_name": "HTMLView",
            "description": "",
            "description_tooltip": null,
            "layout": "IPY_MODEL_d90e11cd667e46dcac1584271ee24487",
            "placeholder": "​",
            "style": "IPY_MODEL_987eccf1fbf14409be028cebd0dff4f4",
            "value": " 190/190 [00:00&lt;00:00, 7.93kB/s]"
          }
        },
        "ecf9e41b68fc48b6b84c22817b96120a": {
          "model_module": "@jupyter-widgets/base",
          "model_name": "LayoutModel",
          "model_module_version": "1.2.0",
          "state": {
            "_model_module": "@jupyter-widgets/base",
            "_model_module_version": "1.2.0",
            "_model_name": "LayoutModel",
            "_view_count": null,
            "_view_module": "@jupyter-widgets/base",
            "_view_module_version": "1.2.0",
            "_view_name": "LayoutView",
            "align_content": null,
            "align_items": null,
            "align_self": null,
            "border": null,
            "bottom": null,
            "display": null,
            "flex": null,
            "flex_flow": null,
            "grid_area": null,
            "grid_auto_columns": null,
            "grid_auto_flow": null,
            "grid_auto_rows": null,
            "grid_column": null,
            "grid_gap": null,
            "grid_row": null,
            "grid_template_areas": null,
            "grid_template_columns": null,
            "grid_template_rows": null,
            "height": null,
            "justify_content": null,
            "justify_items": null,
            "left": null,
            "margin": null,
            "max_height": null,
            "max_width": null,
            "min_height": null,
            "min_width": null,
            "object_fit": null,
            "object_position": null,
            "order": null,
            "overflow": null,
            "overflow_x": null,
            "overflow_y": null,
            "padding": null,
            "right": null,
            "top": null,
            "visibility": null,
            "width": null
          }
        },
        "277f0f0ec86346a9a050cbd08556516f": {
          "model_module": "@jupyter-widgets/base",
          "model_name": "LayoutModel",
          "model_module_version": "1.2.0",
          "state": {
            "_model_module": "@jupyter-widgets/base",
            "_model_module_version": "1.2.0",
            "_model_name": "LayoutModel",
            "_view_count": null,
            "_view_module": "@jupyter-widgets/base",
            "_view_module_version": "1.2.0",
            "_view_name": "LayoutView",
            "align_content": null,
            "align_items": null,
            "align_self": null,
            "border": null,
            "bottom": null,
            "display": null,
            "flex": null,
            "flex_flow": null,
            "grid_area": null,
            "grid_auto_columns": null,
            "grid_auto_flow": null,
            "grid_auto_rows": null,
            "grid_column": null,
            "grid_gap": null,
            "grid_row": null,
            "grid_template_areas": null,
            "grid_template_columns": null,
            "grid_template_rows": null,
            "height": null,
            "justify_content": null,
            "justify_items": null,
            "left": null,
            "margin": null,
            "max_height": null,
            "max_width": null,
            "min_height": null,
            "min_width": null,
            "object_fit": null,
            "object_position": null,
            "order": null,
            "overflow": null,
            "overflow_x": null,
            "overflow_y": null,
            "padding": null,
            "right": null,
            "top": null,
            "visibility": null,
            "width": null
          }
        },
        "de289a65e7524599b22e6cf7dd14b6db": {
          "model_module": "@jupyter-widgets/controls",
          "model_name": "DescriptionStyleModel",
          "model_module_version": "1.5.0",
          "state": {
            "_model_module": "@jupyter-widgets/controls",
            "_model_module_version": "1.5.0",
            "_model_name": "DescriptionStyleModel",
            "_view_count": null,
            "_view_module": "@jupyter-widgets/base",
            "_view_module_version": "1.2.0",
            "_view_name": "StyleView",
            "description_width": ""
          }
        },
        "a46c4e36eb86485fbaf4f6096166969b": {
          "model_module": "@jupyter-widgets/base",
          "model_name": "LayoutModel",
          "model_module_version": "1.2.0",
          "state": {
            "_model_module": "@jupyter-widgets/base",
            "_model_module_version": "1.2.0",
            "_model_name": "LayoutModel",
            "_view_count": null,
            "_view_module": "@jupyter-widgets/base",
            "_view_module_version": "1.2.0",
            "_view_name": "LayoutView",
            "align_content": null,
            "align_items": null,
            "align_self": null,
            "border": null,
            "bottom": null,
            "display": null,
            "flex": null,
            "flex_flow": null,
            "grid_area": null,
            "grid_auto_columns": null,
            "grid_auto_flow": null,
            "grid_auto_rows": null,
            "grid_column": null,
            "grid_gap": null,
            "grid_row": null,
            "grid_template_areas": null,
            "grid_template_columns": null,
            "grid_template_rows": null,
            "height": null,
            "justify_content": null,
            "justify_items": null,
            "left": null,
            "margin": null,
            "max_height": null,
            "max_width": null,
            "min_height": null,
            "min_width": null,
            "object_fit": null,
            "object_position": null,
            "order": null,
            "overflow": null,
            "overflow_x": null,
            "overflow_y": null,
            "padding": null,
            "right": null,
            "top": null,
            "visibility": null,
            "width": null
          }
        },
        "234267383bae4dd6b183da238c5b649a": {
          "model_module": "@jupyter-widgets/controls",
          "model_name": "ProgressStyleModel",
          "model_module_version": "1.5.0",
          "state": {
            "_model_module": "@jupyter-widgets/controls",
            "_model_module_version": "1.5.0",
            "_model_name": "ProgressStyleModel",
            "_view_count": null,
            "_view_module": "@jupyter-widgets/base",
            "_view_module_version": "1.2.0",
            "_view_name": "StyleView",
            "bar_color": null,
            "description_width": ""
          }
        },
        "d90e11cd667e46dcac1584271ee24487": {
          "model_module": "@jupyter-widgets/base",
          "model_name": "LayoutModel",
          "model_module_version": "1.2.0",
          "state": {
            "_model_module": "@jupyter-widgets/base",
            "_model_module_version": "1.2.0",
            "_model_name": "LayoutModel",
            "_view_count": null,
            "_view_module": "@jupyter-widgets/base",
            "_view_module_version": "1.2.0",
            "_view_name": "LayoutView",
            "align_content": null,
            "align_items": null,
            "align_self": null,
            "border": null,
            "bottom": null,
            "display": null,
            "flex": null,
            "flex_flow": null,
            "grid_area": null,
            "grid_auto_columns": null,
            "grid_auto_flow": null,
            "grid_auto_rows": null,
            "grid_column": null,
            "grid_gap": null,
            "grid_row": null,
            "grid_template_areas": null,
            "grid_template_columns": null,
            "grid_template_rows": null,
            "height": null,
            "justify_content": null,
            "justify_items": null,
            "left": null,
            "margin": null,
            "max_height": null,
            "max_width": null,
            "min_height": null,
            "min_width": null,
            "object_fit": null,
            "object_position": null,
            "order": null,
            "overflow": null,
            "overflow_x": null,
            "overflow_y": null,
            "padding": null,
            "right": null,
            "top": null,
            "visibility": null,
            "width": null
          }
        },
        "987eccf1fbf14409be028cebd0dff4f4": {
          "model_module": "@jupyter-widgets/controls",
          "model_name": "DescriptionStyleModel",
          "model_module_version": "1.5.0",
          "state": {
            "_model_module": "@jupyter-widgets/controls",
            "_model_module_version": "1.5.0",
            "_model_name": "DescriptionStyleModel",
            "_view_count": null,
            "_view_module": "@jupyter-widgets/base",
            "_view_module_version": "1.2.0",
            "_view_name": "StyleView",
            "description_width": ""
          }
        },
        "9292007a8ba1472cb92a930036d7fb32": {
          "model_module": "@jupyter-widgets/controls",
          "model_name": "HBoxModel",
          "model_module_version": "1.5.0",
          "state": {
            "_dom_classes": [],
            "_model_module": "@jupyter-widgets/controls",
            "_model_module_version": "1.5.0",
            "_model_name": "HBoxModel",
            "_view_count": null,
            "_view_module": "@jupyter-widgets/controls",
            "_view_module_version": "1.5.0",
            "_view_name": "HBoxView",
            "box_style": "",
            "children": [
              "IPY_MODEL_30706a045a2e499a8e657e8ed24b2b6f",
              "IPY_MODEL_280a00fb52754d608b58792abfe60b4d",
              "IPY_MODEL_f5cebe1cfca5451090c15fe5a2c63970"
            ],
            "layout": "IPY_MODEL_ec590cab09154f77ade0a6f0fcc5b0e3"
          }
        },
        "30706a045a2e499a8e657e8ed24b2b6f": {
          "model_module": "@jupyter-widgets/controls",
          "model_name": "HTMLModel",
          "model_module_version": "1.5.0",
          "state": {
            "_dom_classes": [],
            "_model_module": "@jupyter-widgets/controls",
            "_model_module_version": "1.5.0",
            "_model_name": "HTMLModel",
            "_view_count": null,
            "_view_module": "@jupyter-widgets/controls",
            "_view_module_version": "1.5.0",
            "_view_name": "HTMLView",
            "description": "",
            "description_tooltip": null,
            "layout": "IPY_MODEL_38b2d12be2834c2f9b755dec124f854f",
            "placeholder": "​",
            "style": "IPY_MODEL_32a48404397a4ebb9bf2533839158b03",
            "value": "Epoch: 100%"
          }
        },
        "280a00fb52754d608b58792abfe60b4d": {
          "model_module": "@jupyter-widgets/controls",
          "model_name": "FloatProgressModel",
          "model_module_version": "1.5.0",
          "state": {
            "_dom_classes": [],
            "_model_module": "@jupyter-widgets/controls",
            "_model_module_version": "1.5.0",
            "_model_name": "FloatProgressModel",
            "_view_count": null,
            "_view_module": "@jupyter-widgets/controls",
            "_view_module_version": "1.5.0",
            "_view_name": "ProgressView",
            "bar_style": "success",
            "description": "",
            "description_tooltip": null,
            "layout": "IPY_MODEL_d7deaed369544ed4819122dc6155432f",
            "max": 1,
            "min": 0,
            "orientation": "horizontal",
            "style": "IPY_MODEL_e32e4fa1fd8e42b49aaae30553232c1a",
            "value": 1
          }
        },
        "f5cebe1cfca5451090c15fe5a2c63970": {
          "model_module": "@jupyter-widgets/controls",
          "model_name": "HTMLModel",
          "model_module_version": "1.5.0",
          "state": {
            "_dom_classes": [],
            "_model_module": "@jupyter-widgets/controls",
            "_model_module_version": "1.5.0",
            "_model_name": "HTMLModel",
            "_view_count": null,
            "_view_module": "@jupyter-widgets/controls",
            "_view_module_version": "1.5.0",
            "_view_name": "HTMLView",
            "description": "",
            "description_tooltip": null,
            "layout": "IPY_MODEL_2a91e4d2ece84da89c04cf3232cadeec",
            "placeholder": "​",
            "style": "IPY_MODEL_86980ebe9fff4e298e9af8b5c15b01f0",
            "value": " 1/1 [00:11&lt;00:00, 11.18s/it]"
          }
        },
        "ec590cab09154f77ade0a6f0fcc5b0e3": {
          "model_module": "@jupyter-widgets/base",
          "model_name": "LayoutModel",
          "model_module_version": "1.2.0",
          "state": {
            "_model_module": "@jupyter-widgets/base",
            "_model_module_version": "1.2.0",
            "_model_name": "LayoutModel",
            "_view_count": null,
            "_view_module": "@jupyter-widgets/base",
            "_view_module_version": "1.2.0",
            "_view_name": "LayoutView",
            "align_content": null,
            "align_items": null,
            "align_self": null,
            "border": null,
            "bottom": null,
            "display": null,
            "flex": null,
            "flex_flow": null,
            "grid_area": null,
            "grid_auto_columns": null,
            "grid_auto_flow": null,
            "grid_auto_rows": null,
            "grid_column": null,
            "grid_gap": null,
            "grid_row": null,
            "grid_template_areas": null,
            "grid_template_columns": null,
            "grid_template_rows": null,
            "height": null,
            "justify_content": null,
            "justify_items": null,
            "left": null,
            "margin": null,
            "max_height": null,
            "max_width": null,
            "min_height": null,
            "min_width": null,
            "object_fit": null,
            "object_position": null,
            "order": null,
            "overflow": null,
            "overflow_x": null,
            "overflow_y": null,
            "padding": null,
            "right": null,
            "top": null,
            "visibility": null,
            "width": null
          }
        },
        "38b2d12be2834c2f9b755dec124f854f": {
          "model_module": "@jupyter-widgets/base",
          "model_name": "LayoutModel",
          "model_module_version": "1.2.0",
          "state": {
            "_model_module": "@jupyter-widgets/base",
            "_model_module_version": "1.2.0",
            "_model_name": "LayoutModel",
            "_view_count": null,
            "_view_module": "@jupyter-widgets/base",
            "_view_module_version": "1.2.0",
            "_view_name": "LayoutView",
            "align_content": null,
            "align_items": null,
            "align_self": null,
            "border": null,
            "bottom": null,
            "display": null,
            "flex": null,
            "flex_flow": null,
            "grid_area": null,
            "grid_auto_columns": null,
            "grid_auto_flow": null,
            "grid_auto_rows": null,
            "grid_column": null,
            "grid_gap": null,
            "grid_row": null,
            "grid_template_areas": null,
            "grid_template_columns": null,
            "grid_template_rows": null,
            "height": null,
            "justify_content": null,
            "justify_items": null,
            "left": null,
            "margin": null,
            "max_height": null,
            "max_width": null,
            "min_height": null,
            "min_width": null,
            "object_fit": null,
            "object_position": null,
            "order": null,
            "overflow": null,
            "overflow_x": null,
            "overflow_y": null,
            "padding": null,
            "right": null,
            "top": null,
            "visibility": null,
            "width": null
          }
        },
        "32a48404397a4ebb9bf2533839158b03": {
          "model_module": "@jupyter-widgets/controls",
          "model_name": "DescriptionStyleModel",
          "model_module_version": "1.5.0",
          "state": {
            "_model_module": "@jupyter-widgets/controls",
            "_model_module_version": "1.5.0",
            "_model_name": "DescriptionStyleModel",
            "_view_count": null,
            "_view_module": "@jupyter-widgets/base",
            "_view_module_version": "1.2.0",
            "_view_name": "StyleView",
            "description_width": ""
          }
        },
        "d7deaed369544ed4819122dc6155432f": {
          "model_module": "@jupyter-widgets/base",
          "model_name": "LayoutModel",
          "model_module_version": "1.2.0",
          "state": {
            "_model_module": "@jupyter-widgets/base",
            "_model_module_version": "1.2.0",
            "_model_name": "LayoutModel",
            "_view_count": null,
            "_view_module": "@jupyter-widgets/base",
            "_view_module_version": "1.2.0",
            "_view_name": "LayoutView",
            "align_content": null,
            "align_items": null,
            "align_self": null,
            "border": null,
            "bottom": null,
            "display": null,
            "flex": null,
            "flex_flow": null,
            "grid_area": null,
            "grid_auto_columns": null,
            "grid_auto_flow": null,
            "grid_auto_rows": null,
            "grid_column": null,
            "grid_gap": null,
            "grid_row": null,
            "grid_template_areas": null,
            "grid_template_columns": null,
            "grid_template_rows": null,
            "height": null,
            "justify_content": null,
            "justify_items": null,
            "left": null,
            "margin": null,
            "max_height": null,
            "max_width": null,
            "min_height": null,
            "min_width": null,
            "object_fit": null,
            "object_position": null,
            "order": null,
            "overflow": null,
            "overflow_x": null,
            "overflow_y": null,
            "padding": null,
            "right": null,
            "top": null,
            "visibility": null,
            "width": null
          }
        },
        "e32e4fa1fd8e42b49aaae30553232c1a": {
          "model_module": "@jupyter-widgets/controls",
          "model_name": "ProgressStyleModel",
          "model_module_version": "1.5.0",
          "state": {
            "_model_module": "@jupyter-widgets/controls",
            "_model_module_version": "1.5.0",
            "_model_name": "ProgressStyleModel",
            "_view_count": null,
            "_view_module": "@jupyter-widgets/base",
            "_view_module_version": "1.2.0",
            "_view_name": "StyleView",
            "bar_color": null,
            "description_width": ""
          }
        },
        "2a91e4d2ece84da89c04cf3232cadeec": {
          "model_module": "@jupyter-widgets/base",
          "model_name": "LayoutModel",
          "model_module_version": "1.2.0",
          "state": {
            "_model_module": "@jupyter-widgets/base",
            "_model_module_version": "1.2.0",
            "_model_name": "LayoutModel",
            "_view_count": null,
            "_view_module": "@jupyter-widgets/base",
            "_view_module_version": "1.2.0",
            "_view_name": "LayoutView",
            "align_content": null,
            "align_items": null,
            "align_self": null,
            "border": null,
            "bottom": null,
            "display": null,
            "flex": null,
            "flex_flow": null,
            "grid_area": null,
            "grid_auto_columns": null,
            "grid_auto_flow": null,
            "grid_auto_rows": null,
            "grid_column": null,
            "grid_gap": null,
            "grid_row": null,
            "grid_template_areas": null,
            "grid_template_columns": null,
            "grid_template_rows": null,
            "height": null,
            "justify_content": null,
            "justify_items": null,
            "left": null,
            "margin": null,
            "max_height": null,
            "max_width": null,
            "min_height": null,
            "min_width": null,
            "object_fit": null,
            "object_position": null,
            "order": null,
            "overflow": null,
            "overflow_x": null,
            "overflow_y": null,
            "padding": null,
            "right": null,
            "top": null,
            "visibility": null,
            "width": null
          }
        },
        "86980ebe9fff4e298e9af8b5c15b01f0": {
          "model_module": "@jupyter-widgets/controls",
          "model_name": "DescriptionStyleModel",
          "model_module_version": "1.5.0",
          "state": {
            "_model_module": "@jupyter-widgets/controls",
            "_model_module_version": "1.5.0",
            "_model_name": "DescriptionStyleModel",
            "_view_count": null,
            "_view_module": "@jupyter-widgets/base",
            "_view_module_version": "1.2.0",
            "_view_name": "StyleView",
            "description_width": ""
          }
        },
        "eb6db38a329a44ce905d9f5df288b639": {
          "model_module": "@jupyter-widgets/controls",
          "model_name": "HBoxModel",
          "model_module_version": "1.5.0",
          "state": {
            "_dom_classes": [],
            "_model_module": "@jupyter-widgets/controls",
            "_model_module_version": "1.5.0",
            "_model_name": "HBoxModel",
            "_view_count": null,
            "_view_module": "@jupyter-widgets/controls",
            "_view_module_version": "1.5.0",
            "_view_name": "HBoxView",
            "box_style": "",
            "children": [
              "IPY_MODEL_9d4467e6f23c4c63b7576983e2e0a5a4",
              "IPY_MODEL_874c699313b245de805b108ceda046e9",
              "IPY_MODEL_c9775ee5325a412da7bf6e009bd9a0f1"
            ],
            "layout": "IPY_MODEL_b4123e0e1ed242cf88bd684b5145f6b3"
          }
        },
        "9d4467e6f23c4c63b7576983e2e0a5a4": {
          "model_module": "@jupyter-widgets/controls",
          "model_name": "HTMLModel",
          "model_module_version": "1.5.0",
          "state": {
            "_dom_classes": [],
            "_model_module": "@jupyter-widgets/controls",
            "_model_module_version": "1.5.0",
            "_model_name": "HTMLModel",
            "_view_count": null,
            "_view_module": "@jupyter-widgets/controls",
            "_view_module_version": "1.5.0",
            "_view_name": "HTMLView",
            "description": "",
            "description_tooltip": null,
            "layout": "IPY_MODEL_257392461cbe4449b342410f07e842cc",
            "placeholder": "​",
            "style": "IPY_MODEL_0207317a79274493b770ce6944faf80f",
            "value": "Iteration: 100%"
          }
        },
        "874c699313b245de805b108ceda046e9": {
          "model_module": "@jupyter-widgets/controls",
          "model_name": "FloatProgressModel",
          "model_module_version": "1.5.0",
          "state": {
            "_dom_classes": [],
            "_model_module": "@jupyter-widgets/controls",
            "_model_module_version": "1.5.0",
            "_model_name": "FloatProgressModel",
            "_view_count": null,
            "_view_module": "@jupyter-widgets/controls",
            "_view_module_version": "1.5.0",
            "_view_name": "ProgressView",
            "bar_style": "success",
            "description": "",
            "description_tooltip": null,
            "layout": "IPY_MODEL_0482e792a0084326883bd24df2e21eb4",
            "max": 24,
            "min": 0,
            "orientation": "horizontal",
            "style": "IPY_MODEL_73d40025cf594d1ab4a65c318d006e72",
            "value": 24
          }
        },
        "c9775ee5325a412da7bf6e009bd9a0f1": {
          "model_module": "@jupyter-widgets/controls",
          "model_name": "HTMLModel",
          "model_module_version": "1.5.0",
          "state": {
            "_dom_classes": [],
            "_model_module": "@jupyter-widgets/controls",
            "_model_module_version": "1.5.0",
            "_model_name": "HTMLModel",
            "_view_count": null,
            "_view_module": "@jupyter-widgets/controls",
            "_view_module_version": "1.5.0",
            "_view_name": "HTMLView",
            "description": "",
            "description_tooltip": null,
            "layout": "IPY_MODEL_b10432a3651744c3b04351ebc06dc0f1",
            "placeholder": "​",
            "style": "IPY_MODEL_b7820f0541cc4afc960fa93d09928c88",
            "value": " 24/24 [00:09&lt;00:00,  2.54it/s]"
          }
        },
        "b4123e0e1ed242cf88bd684b5145f6b3": {
          "model_module": "@jupyter-widgets/base",
          "model_name": "LayoutModel",
          "model_module_version": "1.2.0",
          "state": {
            "_model_module": "@jupyter-widgets/base",
            "_model_module_version": "1.2.0",
            "_model_name": "LayoutModel",
            "_view_count": null,
            "_view_module": "@jupyter-widgets/base",
            "_view_module_version": "1.2.0",
            "_view_name": "LayoutView",
            "align_content": null,
            "align_items": null,
            "align_self": null,
            "border": null,
            "bottom": null,
            "display": null,
            "flex": null,
            "flex_flow": null,
            "grid_area": null,
            "grid_auto_columns": null,
            "grid_auto_flow": null,
            "grid_auto_rows": null,
            "grid_column": null,
            "grid_gap": null,
            "grid_row": null,
            "grid_template_areas": null,
            "grid_template_columns": null,
            "grid_template_rows": null,
            "height": null,
            "justify_content": null,
            "justify_items": null,
            "left": null,
            "margin": null,
            "max_height": null,
            "max_width": null,
            "min_height": null,
            "min_width": null,
            "object_fit": null,
            "object_position": null,
            "order": null,
            "overflow": null,
            "overflow_x": null,
            "overflow_y": null,
            "padding": null,
            "right": null,
            "top": null,
            "visibility": null,
            "width": null
          }
        },
        "257392461cbe4449b342410f07e842cc": {
          "model_module": "@jupyter-widgets/base",
          "model_name": "LayoutModel",
          "model_module_version": "1.2.0",
          "state": {
            "_model_module": "@jupyter-widgets/base",
            "_model_module_version": "1.2.0",
            "_model_name": "LayoutModel",
            "_view_count": null,
            "_view_module": "@jupyter-widgets/base",
            "_view_module_version": "1.2.0",
            "_view_name": "LayoutView",
            "align_content": null,
            "align_items": null,
            "align_self": null,
            "border": null,
            "bottom": null,
            "display": null,
            "flex": null,
            "flex_flow": null,
            "grid_area": null,
            "grid_auto_columns": null,
            "grid_auto_flow": null,
            "grid_auto_rows": null,
            "grid_column": null,
            "grid_gap": null,
            "grid_row": null,
            "grid_template_areas": null,
            "grid_template_columns": null,
            "grid_template_rows": null,
            "height": null,
            "justify_content": null,
            "justify_items": null,
            "left": null,
            "margin": null,
            "max_height": null,
            "max_width": null,
            "min_height": null,
            "min_width": null,
            "object_fit": null,
            "object_position": null,
            "order": null,
            "overflow": null,
            "overflow_x": null,
            "overflow_y": null,
            "padding": null,
            "right": null,
            "top": null,
            "visibility": null,
            "width": null
          }
        },
        "0207317a79274493b770ce6944faf80f": {
          "model_module": "@jupyter-widgets/controls",
          "model_name": "DescriptionStyleModel",
          "model_module_version": "1.5.0",
          "state": {
            "_model_module": "@jupyter-widgets/controls",
            "_model_module_version": "1.5.0",
            "_model_name": "DescriptionStyleModel",
            "_view_count": null,
            "_view_module": "@jupyter-widgets/base",
            "_view_module_version": "1.2.0",
            "_view_name": "StyleView",
            "description_width": ""
          }
        },
        "0482e792a0084326883bd24df2e21eb4": {
          "model_module": "@jupyter-widgets/base",
          "model_name": "LayoutModel",
          "model_module_version": "1.2.0",
          "state": {
            "_model_module": "@jupyter-widgets/base",
            "_model_module_version": "1.2.0",
            "_model_name": "LayoutModel",
            "_view_count": null,
            "_view_module": "@jupyter-widgets/base",
            "_view_module_version": "1.2.0",
            "_view_name": "LayoutView",
            "align_content": null,
            "align_items": null,
            "align_self": null,
            "border": null,
            "bottom": null,
            "display": null,
            "flex": null,
            "flex_flow": null,
            "grid_area": null,
            "grid_auto_columns": null,
            "grid_auto_flow": null,
            "grid_auto_rows": null,
            "grid_column": null,
            "grid_gap": null,
            "grid_row": null,
            "grid_template_areas": null,
            "grid_template_columns": null,
            "grid_template_rows": null,
            "height": null,
            "justify_content": null,
            "justify_items": null,
            "left": null,
            "margin": null,
            "max_height": null,
            "max_width": null,
            "min_height": null,
            "min_width": null,
            "object_fit": null,
            "object_position": null,
            "order": null,
            "overflow": null,
            "overflow_x": null,
            "overflow_y": null,
            "padding": null,
            "right": null,
            "top": null,
            "visibility": null,
            "width": null
          }
        },
        "73d40025cf594d1ab4a65c318d006e72": {
          "model_module": "@jupyter-widgets/controls",
          "model_name": "ProgressStyleModel",
          "model_module_version": "1.5.0",
          "state": {
            "_model_module": "@jupyter-widgets/controls",
            "_model_module_version": "1.5.0",
            "_model_name": "ProgressStyleModel",
            "_view_count": null,
            "_view_module": "@jupyter-widgets/base",
            "_view_module_version": "1.2.0",
            "_view_name": "StyleView",
            "bar_color": null,
            "description_width": ""
          }
        },
        "b10432a3651744c3b04351ebc06dc0f1": {
          "model_module": "@jupyter-widgets/base",
          "model_name": "LayoutModel",
          "model_module_version": "1.2.0",
          "state": {
            "_model_module": "@jupyter-widgets/base",
            "_model_module_version": "1.2.0",
            "_model_name": "LayoutModel",
            "_view_count": null,
            "_view_module": "@jupyter-widgets/base",
            "_view_module_version": "1.2.0",
            "_view_name": "LayoutView",
            "align_content": null,
            "align_items": null,
            "align_self": null,
            "border": null,
            "bottom": null,
            "display": null,
            "flex": null,
            "flex_flow": null,
            "grid_area": null,
            "grid_auto_columns": null,
            "grid_auto_flow": null,
            "grid_auto_rows": null,
            "grid_column": null,
            "grid_gap": null,
            "grid_row": null,
            "grid_template_areas": null,
            "grid_template_columns": null,
            "grid_template_rows": null,
            "height": null,
            "justify_content": null,
            "justify_items": null,
            "left": null,
            "margin": null,
            "max_height": null,
            "max_width": null,
            "min_height": null,
            "min_width": null,
            "object_fit": null,
            "object_position": null,
            "order": null,
            "overflow": null,
            "overflow_x": null,
            "overflow_y": null,
            "padding": null,
            "right": null,
            "top": null,
            "visibility": null,
            "width": null
          }
        },
        "b7820f0541cc4afc960fa93d09928c88": {
          "model_module": "@jupyter-widgets/controls",
          "model_name": "DescriptionStyleModel",
          "model_module_version": "1.5.0",
          "state": {
            "_model_module": "@jupyter-widgets/controls",
            "_model_module_version": "1.5.0",
            "_model_name": "DescriptionStyleModel",
            "_view_count": null,
            "_view_module": "@jupyter-widgets/base",
            "_view_module_version": "1.2.0",
            "_view_name": "StyleView",
            "description_width": ""
          }
        }
      }
    },
    "accelerator": "GPU"
  },
  "cells": [
    {
      "cell_type": "markdown",
      "metadata": {
        "id": "view-in-github",
        "colab_type": "text"
      },
      "source": [
        "<a href=\"https://colab.research.google.com/github/AreebAhmad-02/Embedding-Models-Finetuning/blob/main/Fine_tuning_Embedding_Models.ipynb\" target=\"_parent\"><img src=\"https://colab.research.google.com/assets/colab-badge.svg\" alt=\"Open In Colab\"/></a>"
      ]
    },
    {
      "cell_type": "markdown",
      "source": [
        "## imports and install"
      ],
      "metadata": {
        "id": "gLlla8bAhoBX"
      }
    },
    {
      "cell_type": "code",
      "source": [
        "!pip install llama_index -q -U"
      ],
      "metadata": {
        "id": "7RhuXwnnwdWC",
        "colab": {
          "base_uri": "https://localhost:8080/"
        },
        "outputId": "e0e0851b-8716-4eeb-848d-5927522095fd"
      },
      "execution_count": 1,
      "outputs": [
        {
          "output_type": "stream",
          "name": "stdout",
          "text": [
            "\u001b[2K     \u001b[90m━━━━━━━━━━━━━━━━━━━━━━━━━━━━━━━━━━━━━━━━\u001b[0m \u001b[32m15.4/15.4 MB\u001b[0m \u001b[31m26.4 MB/s\u001b[0m eta \u001b[36m0:00:00\u001b[0m\n",
            "\u001b[2K     \u001b[90m━━━━━━━━━━━━━━━━━━━━━━━━━━━━━━━━━━━━━━━━\u001b[0m \u001b[32m2.0/2.0 MB\u001b[0m \u001b[31m24.3 MB/s\u001b[0m eta \u001b[36m0:00:00\u001b[0m\n",
            "\u001b[2K     \u001b[90m━━━━━━━━━━━━━━━━━━━━━━━━━━━━━━━━━━━━━━━━\u001b[0m \u001b[32m75.6/75.6 kB\u001b[0m \u001b[31m3.1 MB/s\u001b[0m eta \u001b[36m0:00:00\u001b[0m\n",
            "\u001b[2K     \u001b[90m━━━━━━━━━━━━━━━━━━━━━━━━━━━━━━━━━━━━━━━━\u001b[0m \u001b[32m141.9/141.9 kB\u001b[0m \u001b[31m9.1 MB/s\u001b[0m eta \u001b[36m0:00:00\u001b[0m\n",
            "\u001b[2K     \u001b[90m━━━━━━━━━━━━━━━━━━━━━━━━━━━━━━━━━━━━━━━━\u001b[0m \u001b[32m326.8/326.8 kB\u001b[0m \u001b[31m23.1 MB/s\u001b[0m eta \u001b[36m0:00:00\u001b[0m\n",
            "\u001b[2K     \u001b[90m━━━━━━━━━━━━━━━━━━━━━━━━━━━━━━━━━━━━━━━━\u001b[0m \u001b[32m1.1/1.1 MB\u001b[0m \u001b[31m23.2 MB/s\u001b[0m eta \u001b[36m0:00:00\u001b[0m\n",
            "\u001b[2K     \u001b[90m━━━━━━━━━━━━━━━━━━━━━━━━━━━━━━━━━━━━━━━━\u001b[0m \u001b[32m290.4/290.4 kB\u001b[0m \u001b[31m19.2 MB/s\u001b[0m eta \u001b[36m0:00:00\u001b[0m\n",
            "\u001b[2K     \u001b[90m━━━━━━━━━━━━━━━━━━━━━━━━━━━━━━━━━━━━━━━━\u001b[0m \u001b[32m77.9/77.9 kB\u001b[0m \u001b[31m3.8 MB/s\u001b[0m eta \u001b[36m0:00:00\u001b[0m\n",
            "\u001b[2K     \u001b[90m━━━━━━━━━━━━━━━━━━━━━━━━━━━━━━━━━━━━━━━━\u001b[0m \u001b[32m58.3/58.3 kB\u001b[0m \u001b[31m4.8 MB/s\u001b[0m eta \u001b[36m0:00:00\u001b[0m\n",
            "\u001b[2K     \u001b[90m━━━━━━━━━━━━━━━━━━━━━━━━━━━━━━━━━━━━━━━━\u001b[0m \u001b[32m49.2/49.2 kB\u001b[0m \u001b[31m3.0 MB/s\u001b[0m eta \u001b[36m0:00:00\u001b[0m\n",
            "\u001b[?25h"
          ]
        }
      ]
    },
    {
      "cell_type": "code",
      "execution_count": 20,
      "metadata": {
        "id": "D7aNkzsmr30N"
      },
      "outputs": [],
      "source": [
        "import json\n",
        "\n",
        "from llama_index.core import VectorStoreIndex, SimpleDirectoryReader,StorageContext,load_index_from_storage\n",
        "from llama_index.core.node_parser import SimpleNodeParser\n",
        "from llama_index.core.schema import MetadataMode\n",
        "from llama_index.core import Settings"
      ]
    },
    {
      "cell_type": "code",
      "source": [
        "TRAIN_CORPUS_FPATH_SENTENCE_SPLIT = './corpus/train_corpus_sentence_split.json'\n",
        "EVAL_CORPUS_FPATH_SENTENCE_SPLIT = './corpus/eval_corpus_sentence_split.json'\n",
        "\n"
      ],
      "metadata": {
        "id": "_eIYiEZdi6Ud"
      },
      "execution_count": 4,
      "outputs": []
    },
    {
      "cell_type": "code",
      "source": [
        "TRAIN_FILES = [\"/content/data/batch1preprocessed_file.txt\",\"/content/data/batch2preprocessed_file.txt\"]\n",
        "VAL_FILES = ['/content/data/batch0preprocessed_file.txt']\n",
        "\n",
        "TRAIN_CORPUS_FPATH = './corpus/train_corpus.json'\n",
        "VAL_CORPUS_FPATH = './corpus/val_corpus.json'"
      ],
      "metadata": {
        "id": "r16iHjJw-Jz2"
      },
      "execution_count": 17,
      "outputs": []
    },
    {
      "cell_type": "code",
      "source": [
        "TRAIN_FILES = [\"/content/data/batch1preprocessed_file.txt\",\"/content/data/batch2preprocessed_file.txt\",\"/content/data/batch0preprocessed_file.txt\"]\n",
        "VAL_CORPUS_FPATH = \"\"\n",
        "TRAIN_CORPUS_FPATH = './corpus/train_corpus.json'\n",
        "VAL_CORPUS_FPATH = './corpus/val_corpus.json'"
      ],
      "metadata": {
        "id": "Gno6yZn5Lfbs"
      },
      "execution_count": 18,
      "outputs": []
    },
    {
      "cell_type": "markdown",
      "source": [
        "#Chunking"
      ],
      "metadata": {
        "id": "IBm8U4HuhuNX"
      }
    },
    {
      "cell_type": "markdown",
      "source": [
        "## simple chunking splitting"
      ],
      "metadata": {
        "id": "ilAjOLCehSDm"
      }
    },
    {
      "cell_type": "code",
      "source": [
        "def load_corpus(files, verbose=False):\n",
        "    if verbose:\n",
        "        print(f\"Loading files {files}\")\n",
        "\n",
        "    reader = SimpleDirectoryReader(input_files=files)\n",
        "    docs = reader.load_data()\n",
        "    if verbose:\n",
        "        print(f'Loaded {len(docs)} docs')\n",
        "\n",
        "    parser = SimpleNodeParser.from_defaults()\n",
        "    nodes = parser.get_nodes_from_documents(docs, show_progress=verbose)\n",
        "\n",
        "    if verbose:\n",
        "        print(f'Parsed {len(nodes)} nodes')\n",
        "\n",
        "    corpus = {node.node_id: node.get_content(metadata_mode=MetadataMode.NONE) for node in nodes}\n",
        "    return corpus"
      ],
      "metadata": {
        "id": "qADvGYmdGyge"
      },
      "execution_count": null,
      "outputs": []
    },
    {
      "cell_type": "code",
      "source": [
        "train_corpus = load_corpus(TRAIN_FILES, verbose=True)\n",
        "val_corpus = load_corpus(VAL_FILES, verbose=True)"
      ],
      "metadata": {
        "colab": {
          "base_uri": "https://localhost:8080/",
          "height": 190,
          "referenced_widgets": [
            "d1102e930fad4bc1aa7cfaee30e3db49",
            "df1b91437ed6489ebbc29c59bd1561b1",
            "3135ef382f214ff1a2627ccac6f9a2f5",
            "32494ae7c5f846d59f596cdb5a9e2288",
            "380ea48ca6ba48c3a418bb9c5d76526c",
            "df9f5a0796374d939fdeb87a5e4af958",
            "d8e4b3c970de459da1e3420416e6e49e",
            "7b2d555b56c840f4b7e18979eab48355",
            "20e7961a91d44928a88bd82f06ffd3e2",
            "db0662e7dc4c4f94a295f16143e64c98",
            "31747933881340129603e64096c6d008",
            "423e464e2ae248509fb7b58a93838d02",
            "48760e121b5e442c862a450e8155a641",
            "992e50dae8a44302ad89a00e2fe01b90",
            "4b6874db61544f62821d6ea19d483766",
            "04857936c416478a8177c1a668809e7f",
            "c3da2f82603244e085ab22a1efa098e8",
            "61f0e545393c48c6b9b6e5aa0cde2fdb",
            "6b257ef44a1642eb81446ea28afbe83f",
            "91e843c3fbf64f7ba0b4a1547de407b1",
            "b432b189123448c2acfda868866563d3",
            "809ab03a147a4ce49561facfa9e1b467"
          ]
        },
        "id": "A1u6RSoXgJLk",
        "outputId": "4a2feb8e-75b8-4b26-f800-70511653f60e"
      },
      "execution_count": null,
      "outputs": [
        {
          "output_type": "stream",
          "name": "stdout",
          "text": [
            "Loading files ['/content/batch1preprocessed_file.txt', '/content/batch2preprocessed_file.txt']\n",
            "Loaded 2 docs\n"
          ]
        },
        {
          "output_type": "display_data",
          "data": {
            "text/plain": [
              "Parsing nodes:   0%|          | 0/2 [00:00<?, ?it/s]"
            ],
            "application/vnd.jupyter.widget-view+json": {
              "version_major": 2,
              "version_minor": 0,
              "model_id": "d1102e930fad4bc1aa7cfaee30e3db49"
            }
          },
          "metadata": {}
        },
        {
          "output_type": "stream",
          "name": "stdout",
          "text": [
            "Parsed 66 nodes\n",
            "Loading files ['/content/data/preprocessed_file.txt']\n",
            "Loaded 1 docs\n"
          ]
        },
        {
          "output_type": "display_data",
          "data": {
            "text/plain": [
              "Parsing nodes:   0%|          | 0/1 [00:00<?, ?it/s]"
            ],
            "application/vnd.jupyter.widget-view+json": {
              "version_major": 2,
              "version_minor": 0,
              "model_id": "423e464e2ae248509fb7b58a93838d02"
            }
          },
          "metadata": {}
        },
        {
          "output_type": "stream",
          "name": "stdout",
          "text": [
            "Parsed 30 nodes\n"
          ]
        }
      ]
    },
    {
      "cell_type": "code",
      "source": [
        "with open(TRAIN_CORPUS_FPATH, 'w+') as f:\n",
        "    json.dump(train_corpus, f)\n",
        "\n",
        "with open(VAL_CORPUS_FPATH, 'w+') as f:\n",
        "    json.dump(val_corpus, f)"
      ],
      "metadata": {
        "id": "UMd52uEDgLDm"
      },
      "execution_count": null,
      "outputs": []
    },
    {
      "cell_type": "markdown",
      "source": [
        "## Sentence split chunking using"
      ],
      "metadata": {
        "id": "v_MlfJEdf5DW"
      }
    },
    {
      "cell_type": "markdown",
      "source": [
        "### sentnece spliting simple"
      ],
      "metadata": {
        "id": "f7_diuzhNISN"
      }
    },
    {
      "cell_type": "code",
      "source": [
        "from llama_index.core.node_parser import SentenceSplitter\n",
        "\n",
        "\n",
        "def load_corpus_sentence_splitter(files, verbose=False):\n",
        "    if verbose:\n",
        "        print(f\"Loading files {files}\")\n",
        "\n",
        "    reader = SimpleDirectoryReader(input_files=files)\n",
        "    docs = reader.load_data()\n",
        "    if verbose:\n",
        "        print(f'Loaded {len(docs)} docs')\n",
        "\n",
        "\n",
        "    splitter = SentenceSplitter(\n",
        "    chunk_size=524,\n",
        "    chunk_overlap=20,)\n",
        "    nodes = splitter.get_nodes_from_documents(docs, show_progress=verbose)\n",
        "\n",
        "    if verbose:\n",
        "        print(f'Parsed {len(nodes)} nodes')\n",
        "\n",
        "    corpus = {node.node_id: node.get_content(metadata_mode=MetadataMode.NONE) for node in nodes}\n",
        "    return corpus\n"
      ],
      "metadata": {
        "id": "ggRNjElReTQ7"
      },
      "execution_count": 4,
      "outputs": []
    },
    {
      "cell_type": "code",
      "source": [
        "# train_corpus_sentence_split = load_corpus_sentence_splitter(TRAIN_FILES, verbose=True)\n",
        "val_corpus_sentence_split = load_corpus_sentence_splitter(VAL_FILES, verbose=True)"
      ],
      "metadata": {
        "colab": {
          "base_uri": "https://localhost:8080/",
          "height": 104,
          "referenced_widgets": [
            "d2a7fe62433b440e916d5da9d392ea66",
            "bc4f94cd2b2c40b184a8c6823519a187",
            "64561e40eb4e45f5add666e7487cab85",
            "78cca3a156d04f9183ed80fbcc502c09",
            "ce23201b25de4eefa6032dafc5f6394c",
            "0d17b01959ec4d3e8335feedaedbf393",
            "672697ad217c4ce7b16154370f5967d5",
            "8b0ea0634fb341ffaf42625a7257e605",
            "2a5b553988774ac987a8510dbb741a4e",
            "bb7f324ddc2446fd97f8a0bfeaa0bdec",
            "7cdf68d9708c4cfdb52ab643a3469ce9"
          ]
        },
        "id": "XGqlF7SpfHcn",
        "outputId": "30310ae7-d8c5-428b-ec4d-7e94e335eb8d"
      },
      "execution_count": 15,
      "outputs": [
        {
          "output_type": "stream",
          "name": "stdout",
          "text": [
            "Loading files ['/content/data/batch0preprocessed_file.txt']\n",
            "Loaded 1 docs\n"
          ]
        },
        {
          "output_type": "display_data",
          "data": {
            "text/plain": [
              "Parsing nodes:   0%|          | 0/1 [00:00<?, ?it/s]"
            ],
            "application/vnd.jupyter.widget-view+json": {
              "version_major": 2,
              "version_minor": 0,
              "model_id": "d2a7fe62433b440e916d5da9d392ea66"
            }
          },
          "metadata": {}
        },
        {
          "output_type": "stream",
          "name": "stdout",
          "text": [
            "Parsed 52 nodes\n"
          ]
        }
      ]
    },
    {
      "cell_type": "code",
      "source": [
        "# with open(TRAIN_CORPUS_FPATH_SENTENCE_SPLIT, 'w+') as f:\n",
        "#     json.dump(train_corpus_sentence_split, f)\n",
        "\n",
        "with open(EVAL_CORPUS_FPATH_SENTENCE_SPLIT, 'w+') as f:\n",
        "    json.dump(val_corpus_sentence_split, f)"
      ],
      "metadata": {
        "id": "Q2-GOkfIgACd"
      },
      "execution_count": 18,
      "outputs": []
    },
    {
      "cell_type": "markdown",
      "source": [
        "### Customizing the above function to split it into training and testing corpuses"
      ],
      "metadata": {
        "id": "1PUWPcyLCIYj"
      }
    },
    {
      "cell_type": "code",
      "source": [
        "from llama_index.core.node_parser import SentenceSplitter\n",
        "from sklearn.model_selection import train_test_split\n",
        "\n",
        "\n",
        "def load_corpus_sentence_splitter_split_train_test(files, test_size=0.2, random_state=None, verbose=False):\n",
        "    if verbose:\n",
        "        print(f\"Loading files {files}\")\n",
        "\n",
        "    reader = SimpleDirectoryReader(input_files=files)\n",
        "    docs = reader.load_data()\n",
        "    if verbose:\n",
        "        print(f'Loaded {len(docs)} docs')\n",
        "\n",
        "    splitter = SentenceSplitter(\n",
        "        chunk_size=524,\n",
        "        chunk_overlap=20\n",
        "    )\n",
        "    nodes = splitter.get_nodes_from_documents(docs, show_progress=verbose)\n",
        "\n",
        "    if verbose:\n",
        "        print(f'Parsed {len(nodes)} nodes')\n",
        "\n",
        "    # Split nodes into training and testing sets\n",
        "    train_nodes, test_nodes = train_test_split(nodes, test_size=test_size, random_state=random_state)\n",
        "\n",
        "    if verbose:\n",
        "        print(f'Training nodes: {len(train_nodes)}, Testing nodes: {len(test_nodes)}')\n",
        "\n",
        "    # Create the corpus dictionary for training and testing sets\n",
        "    train_corpus = {node.node_id: node.get_content(metadata_mode=MetadataMode.NONE) for node in train_nodes}\n",
        "    test_corpus = {node.node_id: node.get_content(metadata_mode=MetadataMode.NONE) for node in test_nodes}\n",
        "\n",
        "    return train_corpus, test_corpus\n",
        "\n",
        "\n"
      ],
      "metadata": {
        "id": "KJ3b2ov3CICl"
      },
      "execution_count": 12,
      "outputs": []
    },
    {
      "cell_type": "code",
      "source": [
        "\n",
        "train_corpus_sentence_split, val_corpus_sentence_split = load_corpus_sentence_splitter_split_train_test(TRAIN_FILES, test_size=0.2, random_state=42, verbose=True)\n",
        "\n",
        "\n",
        "# Now you have train_corpus and test_corpus\n",
        "print(\"Train corpus:\", train_corpus_sentence_split)\n",
        "print(\"Test corpus:\", val_corpus_sentence_split)"
      ],
      "metadata": {
        "colab": {
          "base_uri": "https://localhost:8080/",
          "height": 178,
          "referenced_widgets": [
            "a940dada0bc84409a6e1d4d7fc280b51",
            "9b2429bc0a33427c9d14d97ee698ef7d",
            "c3fd579d9f5a4e469b713ea542f65071",
            "bce1cd3bf5f643308c2ba475e7032792",
            "92efd2f207724dc3ae82aa424683be36",
            "bba9354ec6e74251b9be617b1594f25a",
            "283e9526c51c4ebd914a85f7897f2922",
            "f21e18a821e741cf8e4d5a72e90833fe",
            "91ced93d22f4426d93caf7e4cbeac39d",
            "d4e82fda8b3b49ce8a857f2083a00bb1",
            "5b3d162cfcaa49a3a82dad5d46f99a4b"
          ]
        },
        "id": "dFsvloaWMjXB",
        "outputId": "7797bbdb-7dea-4eb3-bc0c-71b97a66b9c1"
      },
      "execution_count": 21,
      "outputs": [
        {
          "output_type": "stream",
          "name": "stdout",
          "text": [
            "Loading files ['/content/data/batch1preprocessed_file.txt', '/content/data/batch2preprocessed_file.txt', '/content/data/batch0preprocessed_file.txt']\n",
            "Loaded 3 docs\n"
          ]
        },
        {
          "output_type": "display_data",
          "data": {
            "text/plain": [
              "Parsing nodes:   0%|          | 0/3 [00:00<?, ?it/s]"
            ],
            "application/vnd.jupyter.widget-view+json": {
              "version_major": 2,
              "version_minor": 0,
              "model_id": "a940dada0bc84409a6e1d4d7fc280b51"
            }
          },
          "metadata": {}
        },
        {
          "output_type": "stream",
          "name": "stdout",
          "text": [
            "Parsed 171 nodes\n",
            "Training nodes: 136, Testing nodes: 35\n",
            "Train corpus: {'11c54093-d115-415e-a08c-ebd7285544af': '(d) Exclusion of Certain Sales of Real Property. For purposes of this Article 28, gross\\nreceipts as defined in Section 952.3 shall not include receipts from any sales of real property with\\nrespect to which the Real Property Transfer Tax imposed by Article 12-C has been paid to the City.\\n(e) For only so long as and to the extent that the City is prohibited from imposing the tax under\\nthis Article 28, the following persons shall be exempt from the homelessness gross receipts tax:\\n(1) Banks and financial corporations exempt from local taxation under Article XIII,\\nSection 27 of the California Constitution and Revenue and Taxation Code Section 23182;\\n(2) Insurance companies exempt from local taxation under Article XIII, Section 28 of\\nthe California Constitution;\\n(3) Persons engaging in business as a for-hire motor carrier of property under Revenue\\nand Taxation Code Section 7233;\\n(4) Persons engaging in intercity transportation as a household goods carrier under\\nPublic Utilities Code Section 5327;\\n(5) Charter-party carriers operating limousines that are neither domiciled nor maintain\\na business office within the City under Public Utilities Code Section 5371.4; and\\n(6) Any person upon whom the City is prohibited under the Constitution or laws of the\\nState of California from imposing the homelessness gross receipts tax.\\n56SAU\\n2024 HAY 10 FO 1:32\\n(f) For purposes of this Article 28, gross receipts shall not include receipts subject to the Early\\nDEPARTMENT OF ELECTIONS\\nCare and Education Commercial Rents Tax under Article 21 of this Business and Tax Regulations\\nCode.\\n(g) This Section 2805.3 shall apply to tax years beginning on or after January 1, 2025.\\nSEC. 2805.4. SMALL BUSINESS EXEMPTION.\\n(a) Notwithstanding any other provision of this Article 28, a person or combined group exempt\\nfrom payment of the gross receipts tax under Section 954.1 of Article 12-A-1, as amended from time to\\ntime, shall also be exempt from payment of the homelessness gross receipts tax.\\n(b) This Section 2805.4 shall apply to tax years beginning on or after January 1, 2025.\\nSEC. 2807. TAX COLLECTOR AUTHORIZED TO DETERMINE GROSS RECEIPTS.', 'a17b35a3-b018-4a16-8f5e-babdd738c52d': '(3) For tax years beginning on or after January 1, 2025, any person or combined\\ngroup, except for a lessor of residential real estate, whose gross receipts within the City did not exceed\\n$5,000,000, adjusted annually in accordance with the increase in the Consumer Price Index: All Urban\\nConsumers for the San Francisco/Oakland/Hayward Area for All Items as reported by the United\\nStates Bureau of Labor Statistics, or any successor to that index, as of December 31 of the calendar\\nyear two years prior to the tax year, beginning with tax year 2026, and rounded to the nearest $10,000.\\nSEC. 956. ALLOCATION AND APPORTIONMENT FOR ALL PERSONS DERIVING\\nGROSS RECEIPTS FROM BUSINESS ACTIVITIES BOTH WITHIN AND OUTSIDE THE\\nCITY.\\nAll persons deriving gross receipts from business activities both within and outside the\\nCity shall allocate and/or apportion their gross receipts to the City; as follows:\\n(a) for taxable years ending on or before December 31, 2024, using the rules set forth in\\nSections 956.1 and 956.2, in the manner directed in Sections 953.1 through 953.7, inclusive,\\nand in Section 953.9 of this Article 12-A-1; and\\n70SAW UN CO\\nCU\\n(b) for taxable years beginning on or after January 1, 2025, in the manner directed in\\nSections 953.20 through 953.26, inclusive, and using the rules set forth in Sections 956.1 and 956.2, as\\napplicable.\\nSEC. 956.1. ALLOCATION OF RECEIPTS FROM REAL, PERSONAL, TANGIBLE AND\\nINTANGIBLE PROPERTY.\\n(a) For all persons required to determine an amount of gross receipts pursuant to this\\nSection 956.1, that amount shall be all non-exempt gross receipts within the City as\\ndetermined hereunder.\\n(b) Gross receipts from the sale, lease, rental, or licensing of real property are in the\\nCity if the real property is located in the City.\\n(c) Gross receipts from sales of tangible personal property are in the City if the\\nproperty is delivered or shipped to a purchaser within the City regardless of the f.o.b. point or\\nother conditions of the sale.', 'c1a043f4-8dac-4965-8752-741f15734bc6': '000\\n0.689% (e.g. $6.89 per $1,000) for taxable gross receipts over $25,000,000\\n(C) For tax year 2023 if the Controller certifies under Section 953.10 that the\\n90% gross receipts threshold has been met for tax year 2023, and for tax year 2024 if the Controller\\ndoes not certify under Section 953.10 that the 95% gross receipts threshold has been met for tax\\nyear 2024:\\n0.188% (e.g. $1.88 per $1,000) for taxable gross receipts between $0 and $1,000,000\\n0.308% (e.g. $3.08 per $1,000) for taxable gross receipts between $1,000,000.01 and\\n$2,500,000\\n0.555% (e.g. $5.55 per $1,000) for taxable gross receipts between $2,500,000.01 and\\n$25,000,000\\n0.713% (e.g. $7.13 per $1,000) for taxable gross receipts over $25,000,000\\n(D) For tax year 2024 if the Controller certifies under Section 953.10 that the\\n95% gross receipts threshold has been met for tax year 2024, and for tax years beginning on or after\\nJanuary 1, 2025\\n0.194% (e.g. $1.94 per $1,000) for taxable gross receipts between $0 and $1,000,000\\n0.318% (e.g. $3.18 per $1,000) for taxable gross receipts between $1,000,000.01 and\\n$2,500,000\\n0.574% (e.g. $5.74 per $1,000) for taxable gross receipts between $2,500,000.01 and\\n$25,000,000\\n0.736% (e.g. $7.36 per $1,000) for taxable gross receipts over $25,000,000\\n39(5) For the business activity of information:\\nSANIRANICO\\n2004 HAY 10 PM 1:29\\nDEPARTHER DECLECTION\\n(B) For tax years 2022 and,', 'f66d8d5c-af4d-4a74-b777-ebc3828732f0': '76.3. WAIVER OF FIRST-YEAR PERMIT, LICENSE, AND BUSINESS\\nREGISTRATION FEES.\\n(a) Definitions. Unless otherwise defined in this Section 76.3, the terms used in this\\nSection shall have the meanings given to them in Article 6 of the Business and Tax\\nRegulations Code, as amended from time to time. For purposes of this Section 76.3, the\\nfollowing definitions shall apply:\\n*** *\\n\"San Francisco Gross Receipts\" has the same meaning as used in Section 855 of Article 12 of\\nthe Business and Tax Regulations Code, as may be amended from time to time.\\n*\\n* * *\\n1SANTA\\nCO\\n2000 HAT 10 PM 1:27\\nCode is hereby amended by\\nSection 3. Article 6 of the Business and Tax Regulations O\\nrevising Sections 6.8-2, 6.9-1, 6.9-4, 6.11-2, 6.15-1, 6.15-2, and 6.17-1.1, and adding\\nSections 6.2-15.1, 6.2-17.1, and 6.25-1, to read as follows:\\nSEC. 6.2-15.1. REGISTRATION YEAR; 2025-2026 REGISTRATION YEAR.\\n(a) For registration periods ending on or before June 30, 2025, the term \"registration year\"\\nmeans the fiscal year commencing July 1 of each calendar year and ending on June 30 of the\\nsubsequent calendar year.\\n(b) The term \"2025-2026 registration year\" means the period commencing on July 1, 2025 and\\nending on March 31, 2026.\\n(c) For registration periods commencing on or after April 1, 2026, the term \"registration year\"\\nmeans the period commencing April 1 of each calendar year and ending on March 31 of the subsequent\\ncalendar year.\\nSEC. 6.2-17.1. \"SAN FRANCISCO GROSS RECEIPTS.\"\\nThe term \"San Francisco Gross Receipts\" means gross receipts attributable to the City as\\ndescribed in Sections 955 and 956 of Article 12-A-1 of this Business and Tax Regulations Code.\\nSEC. 6.8-2.', '9a92711d-b2e6-4997-8548-3cfef46b3669': '(a) The homelessness gross receipts tax rates applicable to Category 6 Business Activities for\\ntax years beginning on or after January 1, 2025 are:\\n0% for taxable gross receipts between $0 and $1,000,000\\n0% for taxable gross receipts between $1,000,000.01 and $2,500,000\\n0% for taxable gross receipts between $2,500,000.01 and $25,000,000\\n1.148% for taxable gross receipts between $25,000,000.01 and $50,000,000\\n1.476% for taxable gross receipts between $50,000,000.01 and $75,000,000\\n1.476% for taxable gross receipts between $75,000,000.01 and $100,000,000\\n1.64% for taxable gross receipts between $100,000,000.01 and $150,000,000\\n1.64% for taxable gross receipts between $150,000,000.01 and $250,000,000\\n1.64% for taxable gross receipts between $250,000,000.01 and $500,000,000\\n1.64% for taxable gross receipts between $500,000,000.01 and $1,000,000,000\\n1.64% for taxable gross receipts over $1,000,000,000\\n(b) \"Category 6 Business Activities\" has the same meaning as in Section 953.25(b) of\\nArticle 12-A-1 of this Business and Tax Regulations Code.\\n(c) The amount of taxable gross receipts from Category 6 Business Activities subject to the\\nhomelessness gross receipts tax shall be three-quarters of the amount determined under Section 956.1\\nof Article 12-A-1 plus one-quarter of the amount determined under Section 956.2 of Article 12-A-1.\\n892004 WAY 10 FM 1:30\\nSEC. 2804.8. HOMELESSNESS GROSS RECEIPTS TAX APPLICABLE TO CATEGORY 7\\nBUSINESS ACTIVITIES.', 'd17b9af4-dd22-4d94-940f-e46a9de0a673': \"(2) For tax years 2025 and 2026, the overpaid executive administrative office tax shall\\nbe calculated as follows:\\n(A) 0.08% of the person or combined group's total payroll expense attributable\\nto the City for a tax year if the person or combined group has an Executive Pay Ratio for that tax year\\nof greater than 100:1, but less than or equal to 200:1;\\n(B) 0.16% of the person or combined group's total payroll expense attributable\\nto the City for a tax year if the person or combined group has an Executive Pay Ratio for that tax year\\nof greater than 200:1, but less than or equal to 300:1;\\n(C) 0.24% of the person or combined group's total payroll expense attributable\\nto the City for a tax year if the person or combined group has an Executive Pay Ratio for that tax year\\nof greater than 300:1, but less than or equal to 400:1;\\n(D) 0.32% of the person or combined group's total payroll expense attributable\\nto the City for a tax year if the person or combined group has an Executive Pay Ratio for that tax year\\nof greater than 400:1, but less than or equal to 500:1;\\n104SAM\\n2024 A/10 FR 1:32 (E) 0.4% of the person or combined group's total payroll expense attributable to\\nDE: the City for a tax year if the person or combined group has an Executive Pay Ratio for that tax year of\\ngreater than 500:1, but less than or equal to 600:1; or\\n(F) 0.48% of the person or combined group's total payroll expense attributable\\nto the City for a tax year if the person or combined group has an Executive Pay Ratio for that tax year\\nof greater than 600:1.\", '16d5236c-91ce-4d46-b7b3-0f551ca4a1be': '(d) “Operative date.\" The date that this ordinance becomes operative, which shall be the first\\nday of the first calendar quarter commencing more than 120 days after adoption of this ordinance at\\nthe election scheduled for November 1, 2003, pursuant to Public Utilities Code Section 131105(a).\\nSupervisors Mandelman; Walton, Peskin, Ronen, Melgar, Stefani, Preston, Mar, Safai, Dorsey\\nBOARD OF SUPERVISORS\\nPage 41\\nSEC. 1403. PURPOSE.\\nPursuant to Division 125 of the Public Utilities Code, the San Francisco County\\nTransportation Authority, upon the unanimous recommendation of the Expenditure Plan Advisory\\nCommittee established by the Authority, has recommended that the Board of Supervisors submit to the\\nvoters of the City and County of San Francisco for their approval an ordinance which would, if so\\napproved, continue in effect the existing local transactions and use tax of one half of one percent\\napproved by the voters as Proposition B at the November 7, 1989 election; authorize implementation of\\na New Transportation Expenditure Plan setting forth the projects to be funded over the next 30 years\\nwith revenues from the continuation of the tax; continue in effect the San Francisco County\\nTransportation Authority; and authorize the San Francisco County Transportation Authority to issue\\nlimited tax bonds in a total outstanding aggregate amount not to exceed $1,880,000,000. Hence, this\\nordinance should be interpreted so as to achieve the purposes set forth herein:\\n(a) To continue in effect the San Francisco County Transportation Authority.\\n(b) To continue in effect the existing one-half of one percent transactions and use tax in\\naccordance with the provisions of Part 1.6 (commencing with Section 7251) of Division 2 of the\\nCalifornia Revenue and Taxation Code and Sections 131100 et seq. of the California Public Utilities\\nCode, which directs the County Board of Supervisors to adopt the tax ordinance for voter approval,\\nexercising the taxing power granted to the San Francisco County Transportation Authority in Public\\nUtilities Code Section 131102 on behalf of said Authority.', '011857e9-3a5c-4840-88e8-e7c76c84b03f': 'SEC. 1418. SEVERABILITY.\\nIf any provision of this ordinance. Article 14 or the application thereof to any person or\\ncircumstance is held invalid, the remainder of the ordinancethis Article 14 and the application of\\nsuch provision to other persons or circumstances shall not be affected thereby.\\nSEC. 1419. ENJOINING COLLECTION FORBIDDEN.\\nNo injunction or writ of mandate or other legal or equitable process shall issue in any\\nsuit, action, or proceeding in any court against the State of California or the Authority, or\\nagainst any officer of the State or the Authority, to prevent or enjoin the collection under this\\nordinance Article 14, or Part 1.6 (commencing with Section 7251) of Division 2 of the California\\nRevenue and Taxation Code, of any #Tax or any amount of #Tax required to be collected.\\nSEC. 1420. TERMINATION DATES.\\n(a) The New Transportation Expenditure Plan approved by the voters as part of Proposition K\\nat the November 4. 2003 election and the authority to levy the Tax imposed by this Article 14 prior to\\nthe operative date of the amendments to this Article 14 passed by the voters at the November 8, 2022\\nSupervisors Mandelman; Walton, Peskin, Ronen, Melgar, Stefani, Preston, Mar, Safai, Dorsey\\nBOARD OF SUPERVISORS\\nPage 171\\nelection shall terminate immediately prior to the operative date of the amendments to this Article 14\\npassed by the voters at the November 8, 2022 election.\\n(b) The 2022 Transportation Expenditure Plan, referenced in subsection (c) of Section 1414.\\nand the authority to levy the Tax imposed by the amendments to this Article 14 passed by the voters at\\nthe November 8, 2022 election shall expire 30 years from the operative date of the amendments to this\\nArticle 14 passed by the voters at the November 8. 2022 election, unless earlier terminated as provided\\nin California Public Utilities Code Section 131280), as that section existed on November 8, 2022.\\nSection 3. Pursuant to California Public Utilities Code Section 131055, the Board of\\n10 Supervisors hereby adopts the following 2022 Transportation Expenditure Plan.', '207c7a24-a4bb-4e8c-a31d-06cd5f72b94e': 'Supervisors Mandelman; Walton, Peskin, Ronen, Melgar, Stefani, Preston, Mar, Safai, Dorsey\\nBOARD OF SUPERVISORS\\nPage 271\\nTable 1: 2022 Transportation Expenditure Plan\\nSummary Table\\n2020 $Millions\\nTotal\\nExpected\\nFunding¹\\nTotal Prop_2\\n% of Prop\\n_ Funding³\\nA. Major Transit Projects\\n$\\n10,354.7\\n587.0\\n22.6%\\n$\\ni. Muni Reliability and Efficiency Improvements\\n1,088.3\\n$\\n110.0\\n$\\nii. Muni Rail Core Capacity\\n720.0 $\\n57.0\\n$\\niii. BART Core Capacity\\n3,536.4\\n$\\n100.0\\niv. Caltrain Service Vision: Capital System\\n$\\nCapacity Investments\\n10.0\\n$\\n10.0\\nv. Caltrain Downtown Rail Extension and\\nPennsylvania Alignment\\n5,000.0 $\\n310.0\\nB. Transit Maintenance and Enhancements\\n$\\n10,065.3\\n1,070.0\\n41.2%\\ni. Transit Maintenance, Rehabilitation, and\\nReplacement\\n1. Muni\\n$\\n2. BART\\n3. Caltrain\\n69 69 69 69\\n9,047.1\\n975.0\\n7,934.8\\n$\\n825.0\\n547.7\\n$\\n45.0\\n$\\n550.3\\n$\\n100.0\\n$\\n4. Ferry\\n14.3\\n5.0\\nii. Transit Enhancements\\n1. Transit Enhancements\\n2. Bayview Caltrain Station\\n69 69 67\\n1,018.2\\n777.4\\n100.0\\n69 69 69\\n$\\n95.0\\n$\\n36.0\\n27.0\\n3. Mission Bay Ferry Landing\\n$\\n53.8\\n$\\n5.0\\n4. Next Generation Transit Investments\\n$\\n87.0\\n$\\n27.0\\nC. Paratransit4\\n1,270.0\\n297.0\\n11.4%\\nD. Streets and Freeways\\n3,767.1\\n492.0\\n18.9%\\ni. Maintenance, Rehabilitation, and Replacement\\n2,194.7\\n$\\n214.0\\n1.', '330bef28-db15-44dd-bde3-274c100eaedb': 'SEC. 852.4. \"REGISTRATION YEAR.\"\\nThe term \"Registration Year\" means the fiscal year commencing July 1 of each calendar year\\nand ending on June 30 of the subsequent calendar year.\\nSEC. 855. REGISTRATION CERTIFICATE - FEE.\\n*\\n(b) Fee for Registration Years Beginning On or After July 1, 2021, and On or Before\\nJune 30, 2025.\\n(1) General Rule. Except as otherwise provided in this Section 855 and\\nSection 856 of this Article 12, and Section 76.3 of Article 2 of this Business and Tax Regulations\\nCode, the annual fee for obtaining a registration certificate, for the registration years beginning\\non or after July 1, 2021, and on or before June 30, 2025, payable in advance, shall be as follows:\\nSan Francisco Gross Receipts for the\\nImmediately Preceding Tax Year\\n$0 to $100,000\\n$100,000.01 to $250,000\\nAnnual Registration Fee\\n$52\\n$86\\n23$250,000.01 to $500,000\\n$500,000.01 to $750,000\\n$750,000.01 to $1,000,000\\n$1,000,000.01 to $1,500,000\\n$1,500,000.01 to $2,000,000\\n$2,000,000.01 to $2,500,000\\n$2,500,000.01 to $7,500,000\\nSAMRAN CO\\n$144 M 10 PM 1:29\\n$288 ARTHEW OF ELECTIONS\\n$403\\n$575\\n$805\\n$345\\n$575\\n$7,500,000.01 to $15,000,000\\n$1,725\\n$15,000,000.01 to $25,000,000\\n$5,751\\n$25,000,000.01 to $50,000,000\\n$14,379\\n$50,000,000.01 to $100,000,000\\n$25,882\\n$100,000,000.01 to $200,000,000\\n$34,510\\n$200,000,000.01 and over\\n$40,261\\n(2) Fee for Retail Trade, Wholesale Trade, and Certain Services.', '0d74bd46-bb82-4dc5-abd0-c1eceb81d62a': 'Equity Priority Transportation Program\\n3. Development Oriented Transportation\\n4. Citywide / Modal Planning\\nTotal\\nExpected\\n% of Prop\\nFunding1\\nTotal Prop_\\nFunding³\\n$\\n457.6\\n$\\n38.0\\n27.5 $\\n8.0\\n206.0\\n$\\n10.0\\n224.1\\n20.0\\n$\\n824.8\\n152.0\\n5.9%\\n146.5\\n$\\n23.0\\nNotes:\\n69 69 69 68 69\\n678.3\\n191.2\\n$\\n192.2\\n263.7\\n9 67 69 69 69\\n129.0\\n46.0\\n47.0\\n26.0\\n31.2\\n10.0\\nTotal\\n$\\n26,281.9\\n$\\nSA\\n2,598.0\\n100.0%\\nTotal Prop Priority 1\\nTotal Prop Priority 1 +2\\n$\\nEA EA\\n$\\n2,378.0\\n2,598.0\\n1Total Expected Funding represents project costs or implementable phases of multi-phase\\nprojects and programs based on a 30-year forecast of expected revenues from existing\\nfederal, state, regional, and local sources, plus $2.598 billion in Proposition _ revenues. The\\namounts in this column are provided in fulfillment of Sections 131051(a)(1), (b) and (c) of the\\nPublic Utilities Code.\\n2The \"Total Prop_\" fulfills the requirements in Section 131051(d) of the Public Utilities Code.\\n³Percentages are based on Proposition _ Priority 1 and 2 forecasts of $2.598 billion. The\\nforecast is net of existing obligations of the predecessor Proposition K program.\\n4With very limited exceptions, the funds included in the 30-year forecast of expected revenues\\nare for capital projects rather than operations. Paratransit is the primary exception, providing\\ndoor-to-door vans and others transportation services for seniors and persons with disabilities\\nwho cannot use regular fixed route transit. Total Expected Funding for Paratransit reflects\\nProposition revenues, federal Section 5307 funds, and other sources of operating funds\\nincluded in SFMTA\\'s annual operating budget over the next 30 years.', '1780ef71-6921-4ab1-ae73-b66fca1269f1': \"Total Funding: $547.7M; EP:\\n$45M.\\nCaltrain. Provides San Francisco's local match contribution for\\nthe Caltrain capital program, on behalf of the City and County of\\nSan Francisco until 2022 Sales Tax funds for this program run out.\\nProgrammatic improvements such as the upgrade, rehabilitation,\\nand replacement of transit vehicles, spare parts, and on-board\\nequipment; transit facilities (including stations) and facilities related\\nequipment; and guideways such as rail, signals, communications,\\ntraction power equipment, and the overhead contact system.\\nFacilities and guideways improvements may include upgrades to\\nSupervisors Mandelman; Walton, Peskin, Ronen, Melgar, Stefani, Preston, Mar, Safai, Dorsey\\nBOARD OF SUPERVISORS\\nPage 341\\n4.\\nii.\\nNN\\nimprove resilience to climate change. Service planning and capital\\nplanning efforts are also eligible. Includes project development and\\ncapital costs. Sponsor Agency: PCJPB. Total Funding: $550.3M;\\nEP: $100M.\\nFerry. Programmatic improvements for the upgrade,\\nrehabilitation, and replacement of landside ferry facilities,\\npassenger-serving facilities, and facilities-related equipment. May\\nalso include improvements to San Francisco ferry terminals to\\naccommodate increases in ferry ridership, electrification, and to\\nimprove resilience to climate change. Includes project\\ndevelopment and capital costs. Sponsor Agencies: Port of SF,\\nGGBHTD. Total Funding: $14.3M; EP: $5M.\\nTransit Enhancements\\n1. Transit Enhancements. Customer-facing programmatic\\nimprovements that promote system connectivity, accessibility, and\\nreliability, and improve transit service experience for riders. These\\nare meant to be smaller to mid-sized projects that produce benefits\\ndirectly experienced by transit riders. Eligible projects may include\\nbut are not limited to bus stop improvements (with priority for those\\nserving disadvantaged communities); wayfinding; real-time\\ninformation; new (additional) elevators or escalators; multimodal\\nstation access and safety improvements; bicycle parking/storage;\\npurchase and rehab of historic streetcars; and purchase of motor\\ncoaches and paratransit expansion vehicles. Includes project\\ndevelopment and capital costs.\", '02077157-2990-447f-8245-204b5af67d89': 'Sponsor Agencies: SFCTA, SFMTA, SFPW, Planning. Includes\\n$42M in Priority 1 and the remainder is Priority 2. Total Funding:\\n$192.2M; EP: $47M.\\nDevelopment-Oriented Transportation. The Development-\\nOriented Transportation Program funds community-based planning\\nto identify transportation improvements that support increased\\nhousing density in existing, primarily low-density neighborhoods of\\nthe city, as well as project development and implementation.\\nProjects supporting development in adopted Priority Development\\nAreas will be prioritized. Includes $2M in legacy funding for the\\nSupervisors Mandelman; Walton, Peskin, Ronen, Melgar, Stefani, Preston, Mar, Safai, Dorsey\\nBOARD OF SUPERVISORS\\nPage 431\\n4.\\n5.\\n2 2 2 2\\nBayshore Caltrain Pedestrian Connection. Includes planning,\\nproject development, and capital costs. Sponsor Agencies:\\nSFMTA, SFCTA, BART, PCJPB, Planning, SFPW. Includes $20M\\nin Priority 1 and the remainder is Priority 2. Total Funding:\\n$263.7M; EP: $26M.\\nCitywide/Modal Planning. Citywide and network-wide\\ntransportation studies and planning such as updates to the\\nCountywide Transportation Plan or long-range modal studies.\\nPlans and studies that focus on countywide and/or network-wide\\nneeds will be prioritized, but corridor-scale studies may be\\nconsidered. Includes planning. Sponsor Agencies: SFCTA,\\nSFMTA, Planning. Total Funding: $31.2M; EP: $10M.\\nImplementation Provisions.\\nA.\\nStrategic Plan. Subsequent to voter approval of the 2022\\nTransportation Expenditure Plan, the Transportation\\nAuthority shall prepare a 30-year Strategic Plan that will\\nserve as the primary financial tool for administering the\\n2022 Sales Tax. It shall include policies to guide day-to-day\\nprogram administration consistent with the 2022\\nTransportation Expenditure Plan; updated revenue\\nprojections for the 2022 Sales Tax; proposed 2022 Sales\\nTax programming and expenditures by category, sub-\\ncategory, and program; and any associated financing\\nneeded to ensure funds are available to reimburse eligible\\nexpenditures.', '47e68ae9-066d-4766-b5e2-fc5069aa3367': '5619 (Other Support Services), and 92 (Public\\nAdministration).\\nDEPARTMENT VELLECTU\\n(c) The amount of taxable gross receipts from Category 4 Business Activities subject to the\\ngross receipts tax shall be three-quarters of the amount determined under Section 956.1 plus\\none-quarter of the amount determined under Section 956.2.\\nSEC. 953.24. GROSS RECEIPTS TAX APPLICABLE TO CATEGORY 5 BUSINESS\\nACTIVITIES.\\n(a) The gross receipts tax rates applicable to Category 5 Business Activities are:\\n(1) For tax years 2025 and 2026:\\n1% for taxable gross receipts between $0 and $1,000,000\\n1% for taxable gross receipts between $1,000,000.01 and $2,500,000\\n1.5% for taxable gross receipts between $2,500,000.01 and $25,000,000\\n1.176% for taxable gross receipts between $25,000,000.01 and $50,000,000\\n1.344% for taxable gross receipts between $50,000,000.01 and $75,000,000\\n1.344% for taxable gross receipts between $75,000,000.01 and $100,000,000\\n1.344% for taxable gross receipts between $100,000,000.01 and $150,000,000\\n1.512% for taxable gross receipts between $150,000,000.01 and $250,000,000\\n1.68% for taxable gross receipts between $250,000,000.01 and $500,000,000\\n1.68% for taxable gross receipts between $500,000,000.01 and $1,000,000,000\\n1.68% for taxable gross receipts over $1,000,000,000\\n(2) For tax year 2027:\\n1.04% for taxable gross receipts between $0 and $1,000,000\\n1.04% for taxable gross receipts between $1,000,000.01 and $2,500,000\\n1.56% for taxable gross receipts between $2,500,000.01 and $25,000,000\\n62SAN CO\\nFIL\\n2014 HAY 10 PM 1:30\\nDEPARTMENT OF ELECTION\\n1.246% for taxable gross receipts between $25,000,000.', '9c5c0b87-32ce-4562-ac98-2cfa8a3063f7': \"If the Tax Collector determines that all\\nliabilities have been paid, the Tax Collector shall issue a registration certificate to the applicant\\nfor each place of business maintained by the applicant.\\nSection 5. Article 12-A-1 of the Business and Tax Regulations Code is hereby\\namended by revising Sections 952.4, 953, 953.1, 953.2, 953.3, 953.4, 953.5, 953.6, 953.7,\\n953.8, 953.9, 954.1, 956, 956.1, 956.2, and 960.1, adding Sections 953.20, 953.21, 953.22,\\n953.23, 953.24, 953.25, 953.26, 953.27, 960.2, 960.3, 960.4, and 966 and deleting\\nSections 950 and 953.10, to read as follows:\\nGS AND\\nSEC. 950. FINDINGS AND PURPOSE.\\nThe voters hereby find and declare as follows:\\n1. San Francisco is the only major city in California that levies its entire business tax on\\npayroll expense. This exclusive payroll-based tax discourages job creation and economic growth,\\nlowers wages, and provides an unstable revenue stream.\\n2. San Francisco currently charges a flat rate on its payroll expense tax base. Instituting a\\ntiered rate structure, in which businesses are taxed based on their gross receipts, will better distribute\\nthe tax burden according to a business's ability to pay.\\n3. Gross receipts is the most common business tax base among California's largest cities\\n4. Amending San Francisco's business tax system to include a gross receipts tax will promote\\nrevenue stability by diversifying the tax base.\\n5. The rate schedules and the small business exemption for businesses with receipts under\\n$1,000,000 provide particular tax relief to small businesses.\\n33SAN\\nFIEW\\n2024 MAY 10 BJ: 29\\n6.\", '3dce85f1-63d5-41db-be2e-650fc9872224': 'TAX CREDIT FOR SUPERMARKETS AND OTHER GROCERY RETAILERS.\\n(a) For tax years beginning on or after January 1, 2025, a person or combined group shall be\\nallowed a credit against that person or combined group\\'s Gross Receipts Tax equal to 0.5% of such\\nperson or combined group\\'s taxable gross receipts from business activities described in\\nNAICS Code 445110 (Supermarkets and Other Grocery Retailers (except Convenience Retailers)), up to\\na maximum annual credit of $4,000,000.\\n(b) For purposes of this Section 960.3, \"taxable gross receipts\" means a person or combined\\ngroup\\'s gross receipts, not excluded under Section 954 of this Article 12-A-1, attributable to the City.\\n(c) In no event shall the credit under this Section 960.3 reduce a person or combined group\\'s\\nGross Receipts Tax liability to less than $0 for any tax year. The credit under this Section shall not be\\nrefundable and may not be carried forward to a subsequent year.\\n(d) Notwithstanding subsection (a), the credit under this Section 960.3 shall not be allowed\\nagainst the Administrative Office Tax imposed under Section 953.8.\\nSEC. 960.4. CREDIT FOR FIRST LESSEES IN QUALIFIED BUILDINGS.\\n(a) The first person or combined group to both enter into a binding agreement to lease all or a\\nportion of each Qualified Building and require at least 100 employees to occupy that Qualified\\nBuilding shall be allowed a credit against that person or combined group\\'s Gross Receipts Tax\\n(including any tax on administrative office business activities under Section 953.8). Any other person\\nor combined group that meets these requirements for such Qualified Building shall not be entitled to\\nthe credit, even if their lease is for a different portion of the Qualified Building.', '4a85b52e-899f-48ac-b0a9-330f1627dfa9': '(3) For claims for refund of the Gross Receipts Tax (Article 12-A-1) (including the tax\\non administrative office business activities in Section 953.8 of Article 12-A-1), the Early Care and\\nEducation Commercial Rents Tax (Article 21), the Homelessness Gross Receipts Tax (Article 28)\\n(including the tax on administrative office business activities in Section 2804(d) or Section 2804.9 of\\nArticle 28), the Cannabis Business Tax (Article 30), and the Overpaid Executive Gross Receipts Tax\\n(Article 33) (including the tax on administrative office business activities in Section 3303(g)) for tax\\nyears beginning on or after January 1, 2025, and for claims for refund of the Business Registration Fee\\n(Article 12) for registration years beginning on or after April 1, 2026:\\n(A) the payment of such amount;\\n(B) November 30 of the calendar year in which the return for such respective tax\\nwas originally due; or\\n19SAME TO\\n2019 M 10 PM 1:28\\n(C) the date on which such amount requested on a return, amended return, or\\nDEPARTMENT OF ELECTO\\nrequest for refund timely filed under subsection (g) of this Section 6.15-1 was denied under that\\nsubsection (g).\\nSEC. 6.15-2. REFUNDS; INTEREST.\\n(a) Any amounts refunded prior to entry of a final judgment in a judicial proceeding\\nshall bear interest at the rate for prejudgment interest on refunds of local taxes or fees\\nprovided by Section 3287(c) of the California Civil Code, as amended from time to time, and\\nshall be computed from the date of payment to the date of refund.\\n(b) If the Controller offsets overpayments for a period or periods against another\\nliability or liabilities currently owed to the City, or against penalties or interest on the other\\nliability or liabilities currently owed to the City, the taxpayer will be credited with interest on the\\namount so applied at the rate of interest set forth above, computed from the date of payment.', '404a4be3-b2cf-469c-843f-2321ea615d73': 'TO CATEGORY 4\\nDEPARTMENT OF ELECTIONS\\n(a) The homelessness gross receipts tax rates applicable to Category 4 Business Activities for\\ntax years beginning on or after January 1, 2025 are:\\n0% for taxable gross receipts between $0 and $1,000,000\\n0% for taxable gross receipts between $1,000,000.01 and $2,500,000\\n0% for taxable gross receipts between $2,500,000.01 and $25,000,000\\n0.246% for taxable gross receipts between $25,000,000.01 and $50,000,000\\n0.41% for taxable gross receipts between $50,000,000.01 and $75,000,000\\n0.41% for taxable gross receipts between $75,000,000.01 and $100,000,000\\n0.574% for taxable gross receipts between $100,000,000.01 and $150,000,000\\n0.574% for taxable gross receipts between $150,000,000.01 and $250,000,000\\n0.656% for taxable gross receipts between $250,000,000.01 and $500,000,000\\n0.656% for taxable gross receipts between $500,000,000.01 and $1,000,000,000\\n0.738% for taxable gross receipts over $1,000,000,000\\n(b) \"Category 4 Business Activities\" has the same meaning as in Section 953.23(b) of\\nArticle 12-A-1 of this Business and Tax Regulations Code.\\n(c) The amount of taxable gross receipts from Category 4 Business Activities subject to the\\nhomelessness gross receipts tax shall be three-quarters of the amount determined under Section 956.1\\nof Article 12-A-1 plus one-quarter of the amount determined under Section 956.2 of Article 12-A-1.\\n22SAM\\n2014 TE TO CATEGORY 5\\nSEC. 2804.6.', 'a29e0d72-4e7f-40e7-8f06-b6b02930af61': '000,000.01 and $500,000,000\\n1.424% for taxable gross receipts between $500,000,000.01 and $1,000,000,000\\n1.602% for taxable gross receipts over $1,000,000,000\\n(3) For tax years beginning on or after January 1, 2028:\\n0.268% for taxable gross receipts between $0 and $1,000,000\\n0.268% for taxable gross receipts between $1,000,000.01 and $2,500,000\\n0.321% for taxable gross receipts between $2,500,000.01 and $25,000,000\\n0.557% for taxable gross receipts between $25,000,000.01 and $50,000,000\\n0.929% for taxable gross receipts between $50,000,000.01 and $75,000,000\\n0.929% for taxable gross receipts between $75,000,000.01 and $100,000,000\\n1.301% for taxable gross receipts between $100,000,000.01 and $150,000,000\\n1.301% for taxable gross receipts between $150,000,000.01 and $250,000,000\\n1.486% for taxable gross receipts between $250,000,000.01 and $500,000,000\\n1.486% for taxable gross receipts between $500,000,000.01 and $1,000,000,000\\n1.672% for taxable gross receipts over $1,000,000,000\\n(b) \"Category 4 Business Activities\" means one or more of the business activities described in\\nNAICS codes 11 (Agriculture, Forestry, Fishing and Hunting), 21 (Mining, Quarrying, and Oil and\\nGas Extraction), 22 (Utilities), 31 through 33 (Manufacturing), 48 and 49 (Transportation and\\nWarehousing), 524 (Insurance Carriers and Related Activities), 541714 (Research and Development in\\nBiotechnology (except Nanobiotechnology)), 5611 (Office Administrative Services), 5613 (Employment\\nServices), 5614 (Business Support Services), 5615 (Travel Arrangement and Reservation Services),\\n119SANI,--20\\n4075 A10 PM 1:30\\n5616 (Investigation and Security Services),', '0aae1ee4-5e4e-4901-b655-2cb48ef9f884': '(b) If the person or combined group continues to derive gross receipts from more than one of\\nBusiness Activity Categories 1 through 7, inclusive, after applying subsection (a) of this\\nSection 2804.10, then such person or combined group shall separately compute the homelessness gross\\nreceipts tax for each Business Activity Category as provided in the Section applicable to that particular\\nBusiness Activity Category as follows:\\n(1) The small business exemption provided in Section 2805.4 shall apply only if the sum\\nof receipts within the City from all Business Activity Categories does not exceed the applicable\\nthreshold in Section 2805.4 in total; and\\n(2) The homelessness gross receipts tax liability for the person or combined group shall\\nbe the sum of the liabilities for each Business Activity Category.\\nSEC. 2804.11. PERSONS DERIVING NO GROSS RECEIPTS FROM BUSINESS ACTIVITIES\\nOUTSIDE THE CITY.\\n(a) Notwithstanding any other provision of this Article 28, any person subject to the\\nhomelessness gross receipts tax who derives non-exempt gross receipts from business activities within\\nthe City and derives no gross receipts from business activities outside the City is subject to tax on all\\nnon-exempt gross receipts.\\n(b) This Section 2804.11 shall apply to tax years beginning on or after January 1, 2025.\\nSEC. 2805. EXEMPTIONS AND EXCLUSIONS.\\n(a) An organization that is exempt from income taxation by Chapter 4 (commencing\\nwith Section 23701) of Part 11 of Division 2 of the California Revenue and Taxation Code or\\nSubchapter F (commencing with Section 501) of Chapter 1 of Subtitle A of the Internal\\n9222 MAY 10 20 1:32\\nRevenue Code of 1986, as amended, as qualified by Sections 502, 503, 504, and 508 of the\\nInternal Revenue Code of 1986, as amended, shall be exempt from taxation under this\\nArticle 28, only so long as those exemptions continue to exist under state or federal law.', '5ef94caf-9a85-417f-9240-cdd3fc4246a6': \"(b) The following shall apply to tax years and tax periods beginning on or after\\nJanuary 1, 2025, and registration years beginning on or after April 1, 2026:\\n(1) For good cause, the Tax Collector, in the Tax Collector's discretion, may extend, for\\na period not to exceed 60 days, the time for filing any return, other than returns for the Business\\nRegistration Fee (Article 12), Gross Receipts Tax (Article 12-A-1) (including the tax on administrative\\n9SAMA CO\\n2024 HA 10 PI 1:28\\noffice business activities in Section 953.8 of Article 12-A-1), Homelessness Gross Receipts Tax\\nDEPARTMENT OF SLEEUWE\\n(Article 28) (including the tax on administrative office business activities in Section 2804(d) or\\nSection 2804.9 of Article 28), Early Care and Education Commercial Rents Tax (Article 21), Vacancy\\nTax (Article 29), Empty Homes Tax (Article 29A), Cannabis Business Tax (Article 30), or Overpaid\\nExecutive Gross Receipts Tax (Article 33) (including the tax on administrative office business activities\\nin Section 3303(g)), pursuant to this Article 6 or regulations prescribed by the Tax Collector. For\\ntaxes required to be deposited monthly, or for the Sugary Drinks Distributor Tax (Article 8), the Tax\\nCollector may only extend the time for filing a return for a period not to exceed 30 days. As a\\ncondition of the extensions under this subsection (b)(1), the person seeking the extension shall make a\\npayment of not less than 100% of such person's liability for such period. Failure to make the required\\n100% payment will result in the automatic denial of the person's extension and the person being\\nsubject to the standard due dates in this Article 6, including any penalties, interest, fees, and other\\nconsequences of failing to file and pay by those due dates.\", '69e163eb-1150-4d29-adf3-143d868bc6dd': '5222 (Nondepository Credit Intermediation), 5223 (Activities Related\\nto Credit Intermediation)), 533 (Lessors of Nonfinancial Intangible Assets (except Copyrighted\\nWorks)), 54 (Professional, Scientific, and Technical Services) but not including 541714 (Research and\\nDevelopment in Biotechnology (except Nanobiotechnology)), 55 (Management of Companies and\\n63SA\\nCL\\n2024 LAY 10 PA (30\\nEnterprises), 562 (Waste Management and Remediation Services), 61 (Educational Services),\\nDEPARTMENT OF ELECTI\\n62 (Health Care and Social Assistance), and all business activities not otherwise exempt and not\\nelsewhere subjected to a gross receipts tax rate by Sections 953.20 through 953.26 or an administrative\\noffice tax under Section 953.8.\\n(c) The amount of taxable gross receipts from Category 5 Business Activities subject to the\\ngross receipts tax shall be three-quarters of the amount determined under Section 956.1 plus\\none-quarter of the amount determined under Section 956.2.\\nSEC. 953.25. GROSS RECEIPTS TAX APPLICABLE TO CATEGORY 6 BUSINESS\\nACTIVITIES.\\n(a) The gross receipts tax rates applicable to Category 6 Business Activities are:\\n(1) For tax years 2025 and 2026:\\n1.5% for taxable gross receipts between $0 and $1,000,000\\n1.5% for taxable gross receipts between $1,000,000.01 and $2,500,000\\n3% for taxable gross receipts between $2,500,000.01 and $25,000,000\\n2.352% for taxable gross receipts between $25,000,000.01 and $50,000,000\\n3.024% for taxable gross receipts between $50,000,000.01 and $75,000,000\\n3.024% for taxable gross receipts between $75,000,000.01 and $100,000,000\\n3.36% for taxable gross receipts between $100,000,000.01 and $150,000,000\\n3.36% for taxable gross receipts between $150,000,000.01 and $250,000,000\\n3.36% for taxable gross receipts between $250,000,000.01 and $500,000,000\\n3.', '34356538-0b59-45d0-b60b-fb5053c88b56': 'To claim such a deduction, a\\nDEPARTMENT OF ELECTIONS\\nperson must maintain an itemized schedule of payments to subcontractors.\\nSEC. 2804.9. TAX ON ADMINISTRATIVE OFFICE BUSINESS ACTIVITIES.\\nFor tax years beginning on or after January 1, 2025, notwithstanding Sections 2804.1\\nthrough 2804.8 and in lieu of the other taxes imposed under Sections 2804.1 through 2804.8, every\\nperson engaging in business within the City as an administrative office, as defined in Section 953.8 of\\nArticle 12-A-1, shall pay an annual homelessness administrative office tax in the manner set forth in\\nSection 953.8, except that the homelessness administrative office tax rate shall be 1.5%.\\nSEC. 2804.10. PERSONS OR COMBINED GROUPS ENGAGED IN MULTIPLE BUSINESS\\nACTIVITY CATEGORIES.\\nFor tax years beginning on or after January 1, 2025, if a person, or a combined group as\\ndescribed in Section 956.3 of Article 12-A-1 of this Business and Tax Regulations Code, derives gross\\nreceipts from more than one of Business Activity Categories I through 7, inclusive:\\n(a) If the person or combined group has $10,000 or less in gross receipts from any one of\\nBusiness Activity Categories 1 through 7, inclusive, before allocating or apportioning gross receipts\\nunder Section 956 of Article 12-A-1, such person or combined group may combine those gross receipts\\nfor all purposes related to computing the homelessness gross receipts tax with the gross receipts from\\nwhichever of Business Activity Categories 1 through 7, inclusive, generated the most gross receipts for\\nthe person or combined group, before allocating or apportioning gross receipts under Section 956. If\\nthere is no Business Activity Category that generated the most gross receipts for the person or\\ncombined group because the person or combined group generated the same amount of gross receipts\\nfrom one or more Business Activity Categories, then such person or combined group may combine the\\ngross receipts in this subsection (a) for all purposes related to computing the homelessness gross\\nf\\n912010 FN 1:31\\nYN\\nreceipts tax with the gross receipts from whichever Business Activity Category has the highest rates\\namong the Business Activity Categories that generated the same amount of gross receipts.', '4d8c9b92-a636-46b7-ae2d-80869add6972': \"The first, second, and third estimated tax payments for a\\ntax year shall be due and payable, and shall be delinquent if not paid on or before, April 30,\\nJuly 31, and October 31, respectively, of that tax year. Estimated tax payments shall be a\\ncredit against the person or combined group's total annual liability, as applicable, for the\\nGross Receipts Tax (including the tax on administrative office business activities imposed\\nunder Section 953.8 of Article 12-A-1), Early Care and Education Commercial Rents Tax,\\nHomelessness Gross Receipts Tax (including the homelessness administrative office tax\\nimposed under Section 2804(d) or Section 2804.9 of Article 28), Cannabis Business Tax, or\\n5SAMMA\\n2024 WAY 10 N 1:28\\nOverpaid Executive Gross Receipts Tax (including the overpaid executive administrative\\noffice tax imposed under Section 3303(dg) of Article 33), for the tax year in which such\\nestimated tax payments are due.\\n(B) Gross Receipts Tax Estimated Tax Payments.\", '6bd0c3be-2da8-4961-a4ac-7970378d0272': 'Except as\\notherwise provided in this Section 855 and Section 856 of this Article 12, and Section 76.3 of\\nArticle 2 of this Business and Tax Regulations Code, for registration years beginning on or after\\nJuly 1, 2021, and on or before June 30, 2025, the annual fee for obtaining a registration\\ncertificate, payable in advance, for a person or combined group that was required to report all\\nof its gross receipts pursuant to Section 953.1 of Article 12-A-1 for the preceding tax year,\\nshall be as follows:\\nSan Francisco Gross Receipts for the\\nImmediately Preceding Tax Year\\n$0 to $100,000\\n$100,000.01 to $250,000\\n$250,000.01 to $500,000\\n$500,000.01 to $750,000\\n$750,000.01 to $1,000,000\\nAnnual Registration Fee\\n$43\\n$72\\n$115\\n$230\\n$345SANTA CO\\n2024 HAY 10 FH 1:29\\n$475\\nDEPARTMENT OF ELE\\n$665\\n$1,000,000.01 to $1,500,000\\n$1,500,000.01 to $2,000,000\\n$2,000,000.01 to $2,500,000\\n$2,500,000.01 to $7,500,000\\n$7,500,000.01 to $15,000,000\\n$15,000,000.01 to $25,000,000\\n$230\\n$460\\n$1,294\\n$4,313\\n$25,000,000.01 to $50,000,000\\n$8,627\\n$50,000,000.01 to $100,000,000\\n$17,255\\n$100,000,000.01 to $200,000,000\\n$23,006\\n$200,000,000.01 and over\\n$34,510\\n(c) Fee for 2025-2026 Registration Year.', 'f19919f6-2b54-4550-ad4f-e6f0fd71c810': '(d) In no event shall the credit under this Section 960.4 reduce a person or combined group\\'s\\nGross Receipts Tax liability to less than $0 for any tax year. The credit under this Section shall not be\\nrefundable and may not be carried forward to a subsequent year.\\nSEC. 966. CONTROLLER REPORTS.\\nThe Controller shall prepare reports by September 1, 2026, and September 1, 2027,\\nrespectively, that discuss current economic conditions in the City and the performance of the tax system\\nrevised by the voters in the ordinance adding this Section 966.\\nSection 6. Article 21 of the Business and Tax Regulations Code is hereby amended by\\nrevising Section 2106 to read as follows:\\nSEC. 2106. SMALL BUSINESS EXEMPTION.\\n(a) For tax years ending on or before December 31, 2024, nNotwithstanding any other\\nprovision of this Article 21, a person or combined group exempt from payment of the gross\\nreceipts tax under Section 954.1 of Article 12-A-1, as amended from time to time, shall also\\nbe exempt from payment of the Early Care and Education Commercial Rents Tax.\\n79SAN\\nDL W(b) For tax years beginning on or after January 1, 2025, notwithstanding any other provision\\nof this Article 21, a \"small business enterprise\" shall be exempt from payment of the Early Care and\\nEducation Commercial Rents Tax. For purposes of this subsection (b), the term \"small business\\nenterprise\" shall mean any person or combined group whose gross receipts within the City, determined\\nunder Article 12-A-1, did not exceed $2,325,000, adjusted annually in accordance with the increase in\\nthe Consumer Price Index: All Urban Consumers for the San Francisco/Oakland/Hayward Area for All\\nItems as reported by the United States Bureau of Labor Statistics, or any successor to that index, as of\\nDecember 31 of the calendar year two years prior to the tax year, beginning with tax year 2026, and\\nrounded to the nearest $10,000. This subsection (b) shall not apply to a person or combined group\\nsubject to a tax on administrative office business activities in Section 953.8 of Article 12-A-1.\\nSection 7.', '38a30664-96de-4ec1-a700-3850f913cf7a': \"Supervisors Mandelman; Walton, Peskin, Ronen, Melgar, Stefani, Preston, Mar, Safai, Dorsey\\nBOARD OF SUPERVISORS\\nPage 291\\n4.\\n1 2 2 2 2 2 2 2\\nDescription of Programs.\\nThis section contains descriptions of the categories, subcategories, and programs in\\nthe 2022 Transportation Expenditure Plan and the types of projects that are eligible for\\nfunding under each of them. It also identifies the sponsoring agency or agencies for\\neach program. The Total Funding figures correspond to the Total Expected Funding\\ncolumn in the 2022 Transportation Expenditure Plan Summary Table provided in\\nSection 3, above. The percentage allocation of 2022 Sales Tax funds to each of the\\nmajor categories is as follows: Major Transit Projects - 22.6%, Transit Maintenance\\nand Enhancements - 41.2%, Paratransit - 11.4%, Streets and Freeways – 18.9%, and\\nTransportation System Development and Management - 5.9%.\\nA.\\nMAJOR TRANSIT PROJECTS\\ni. Muni Reliability and Efficiency Improvements\\nProgrammatic improvements that improve the reliability and speed of Muni bus\\nand rail service. Eligible project types include but are not limited to: transit-only\\nlanes; curb bulb-outs at Muni stops; traffic signal modifications; deployment of\\ntransit signal priority devices; relocation and upgrade of Muni stops; and other\\nstreet design changes (e.g., highly visible crosswalks, median island refuges) to\\nreduce delay for transit and enhance pedestrian safety. Includes $10M in\\nlegacy funding for Geary Rapid Improvements Phase 2. Includes project\\ndevelopment and capital costs. Sponsor Agency: SFMTA. Total Funding:\\n$1,088.3M; EP: $110M.\\nSupervisors Mandelman; Walton, Peskin, Ronen, Melgar, Stefani, Preston, Mar, Safai, Dorsey\\nBOARD OF SUPERVISORS\\nPage 301\\n- 23\\n+\\n2 3 4\\n2 2 2 2 2 2\\nii. Muni Rail Core Capacity\\nProgrammatic improvements that increase the reliability and capacity of Muni's\\nrail system by supporting longer and more frequent trains.\", '9c09be23-b5d2-4da9-9439-9c6d830a8a1c': \"(b) The gross receipts tax is a privilege tax imposed upon persons engaging in\\nbusiness within the City for the privilege of engaging in a business or occupation in the City.\\nThe gross receipts tax is imposed for general governmental purposes. Proceeds from the tax\\nshall be deposited in the City's general fund and may be expended for any purposes of the\\nCity.\\n(c) The voters intend by adopting this measure to authorize application of the gross\\nreceipts tax in the broadest manner consistent with the provisions of this Article 12-A-1 and\\nthe requirements of the California Constitution, the United States Constitution, and any other\\napplicable provision of federal and state law.\\n(d) The tax on Administrative Office Business Activities imposed by Section 953.8 is\\nintended as a complementary tax to the gross receipts tax, and shall be considered a gross\\nreceipts tax for purposes of this Article 12-A-1.\\nSEC. 953.1. GROSS RECEIPTS TAX APPLICABLE TO RETAIL TRADE; WHOLESALE\\nTRADE; AND CERTAIN SERVICES.\\n(a) The gross receipts tax rates applicable to the business activities of retail trade,\\nwholesale trade, and certain services are:\\n(2) For the business activities of retail trade and certain services:\\n(A) For tax years 2021 through and including 2024:\\n0.053% (e.g., $0.53 per $1,000) for taxable gross receipts between $0 and $1,000,000\\n35SAN MAN CO\\n2024 MAY 10 F6. 1:29\\n0.07% (e.g. $0.70 per $1,000) for taxable gross receipts between $1,000,000.01 and\\nDEPARTIEN) OPEN SC\\n$2,500,000\\n0.095% (e.g. $0.95 per $1,000) for taxable gross receipts between $2,500,000.01 and\\n$25,000,000\\n0.224% (e.g. $2.24 per $1,000) for taxable gross receipts over $25,000,000\\n(B) For tax year 2025:\\n0.079% (e.g. $0.79 per $1,000) for taxable gross receipts between $0 and $1,000,000\\n0.105% (e.g. $1.05 per $1,\", 'b6b73885-a4c5-45fc-bfb3-e06fbef5eda4': '000\\n0.287% (e.g. $2.87 per $1,000) for taxable gross receipts between $1,000,000.01 and\\n$2,500,000\\n0.518% (e.g. $5.18 per $1,000) for taxable gross receipts between $2,500,000.01 and\\n$25,000,000\\n0.665% (e.g. $6.65 per $1,000) for taxable gross receipts over $25,000,000\\n(3) For the business activities of transportation and warehousing and clean\\ntechnology for tax years beginning on or after January 1, 2021 through and including 2024:\\n0.175% (e.g. $1.75 per $1,000) for taxable gross receipts between $0 and $1,000,000\\n0.287% (e.g. $2.87 per $1,000) for taxable gross receipts between $1,000,000.01 and\\n$2,500,000\\n0.518% (e.g. $5.18 per $1,000) for taxable gross receipts between $2,500,000.01 and\\n$25,000,000\\n0.665% (e.g. $6.65 per $1,000) for taxable gross receipts over $25,000,000\\n(4) For the business activity of biotechnology:\\n(B) For tax years 2022 and, if the Controller does not certify under\\nSection 953.10 that the 90% gross receipts threshold has been met for tax year 2023, for tax\\nyear 2023:\\n0.181% (e.g. $1.81 per $1,000) for taxable gross receipts between $0 and $1,000,000\\n38SAN FRANCO\\n0.297% (e.g. $2.97 per $1,000) for taxable gross receipts between $1,000,000.01 and\\n$2,500,000\\nDEPARTMENT OF ELECTION\\n0.537% (e.g. $5.37 per $1,000) for taxable gross receipts between $2,500,000.01 and\\n$25,000,000\\n0.689% (e.g. $6.89 per $1,', 'b56fc6b7-0c75-495e-acb3-a31a443845a0': \"Each taxpayer shall transmit the return,\\ntogether with the remittance of the tax due, to the Tax Collector at the Tax Collector's Office\\non or before the due date specified in this Section 6.9-1. Filing a return that the Tax Collector\\ndetermines to be incomplete in any material respect may be deemed failure to file a return in\\nviolation of this Section 6.9-1(a).\\n* * **\\n3SALAH CO\\n(c) Gross Receipts Tax, Early Care and Education Commercial Rents Tax,\\nHomelessness Gross Receipts Tax, Cannabis Business Tax, and Overpaid Executive\\nGross Receipts Tax.\\n(1) Annual Due Date. Except for any extensions granted under Section 6.9-4\\nor as otherwise provided in this Business and Tax Regulations Code, returns and payments of\\nthe Gross Receipts Tax (Article 12-A-1) (including the tax on administrative office business\\nactivities imposed under Section 953.8 of Article 12-A-1), the Early Care and Education\\nCommercial Rents Tax (Article 21), the Homelessness Gross Receipts Tax (Article 28)\\n(including the homelessness administrative office tax imposed under Section 2804(d) or\\nSection 2804.9 of Article 28), the Cannabis Business Tax (Article 30), and the Overpaid\\nExecutive Gross Receipts Tax (Article 33) (including the overpaid executive administrative\\noffice tax imposed under Section 3303(dg) of Article 33) are due and payable, and shall be\\ndelinquent if not submitted and paid to the Tax Collector, on or before the last day of February\\nof the succeeding year.\\n(2) Small Business Exemption. A person or combined group that qualifies for\\nthe small business exemption in Section 954.1 of Article 12-A-1 shall be exempt from filing a\\nGross Receipts Tax return, an Early Care and Education Commercial Rents Tax return, a\\nHomelessness Gross Receipts Tax return, and, except for a person or combined group subject to the\\noverpaid executive administrative office tax imposed under Section 3303(d) of Article 33, an Overpaid\\nExecutive Gross Receipts Tax return.\", '10b4e836-4083-4d60-a7f1-e679cb405d32': '(h) The amount of annual registration fee under subsections (d) and (e)(3) of this Section 855,\\nfor all registration years ending after March 31, 2027, shall be adjusted annually in accordance with\\nthe increase in the Consumer Price Index: All Urban Consumers for the\\nSan Francisco/Oakland/Hayward Area for All Items as reported by the United States Bureau of Labor\\nStatistics, or any successor to that index, as of December 31 of the calendar year two years prior to the\\nbeginning of the registration year, beginning April 1, 2027, rounded to the nearest five dollars.\\n(ih) An organization that is exempt from income taxation by Chapter 4 (commencing\\nwith Section 23701) of Part 11 of Division 2 of the California Revenue and Taxation Code or\\nSubchapter F (commencing with Section 501) of Chapter 1 of Subtitle A of the Internal\\nRevenue Code of 1986, as amended, as qualified by Sections 502, 503, 504, and 508 of the\\nInternal Revenue Code of 1986, as amended, shall be exempt from the registration fee under\\nthis Article 12, only so long as those exemptions continue to exist under state or federal law.\\n29SANEY CO\\n2024 MA 10 PM 1:29\\n(+) A person shall be exempt from paying the registration fee required by this\\nARTIENT OF ELEC\\nSection 855 if and to the extent that, and only so long as, federal or state law prohibits the\\nimposition of the registration fee upon such person.\\n(k) The business registration fee is a tax imposed for general governmental purposes\\nand may not be extended or increased without a vote of the people, as provided in\\nArticle XIIIC of the California Constitution. This tax may be collected in any manner legally\\npermitted to the City.\\nSEC. 856. REGISTRATION CERTIFICATE APPLICATION AND ISSUANCE.\\n(a) Each person engaging in business within the City shall apply to the Tax Collector\\nfor a registration certificate, using the form prescribed by the Tax Collector.', '6564d33a-6cb0-46ee-beb3-f25a20aefe2d': '246% for taxable gross receipts between $25,000,000.01 and $50,000,000\\n1.424% for taxable gross receipts between $50,000,000.01 and $75,000,000\\n1.424% for taxable gross receipts between $75,000,000.01 and $100,000,000\\n1.424% for taxable gross receipts between $100,000,000.01 and $150,000,000\\n1.602% for taxable gross receipts between $150,000,000.01 and $250,000,000\\n1.78% for taxable gross receipts between $250,000,000.01 and $500,000,000\\n1.78% for taxable gross receipts between $500,000,000.01 and $1,000,000,000\\n1.78% for taxable gross receipts over $1,000,000,000\\n(3) For tax years beginning on or after January 1, 2028:\\n1.071% for taxable gross receipts between $0 and $1,000,000\\n1.071% for taxable gross receipts between $1,000,000.01 and $2,500,000\\n1.607% for taxable gross receipts between $2,500,000.01 and $25,000,000\\n1.301% for taxable gross receipts between $25,000,000.01 and $50,000,000\\n1.486% for taxable gross receipts between $50,000,000.01 and $75,000,000\\n1.486% for taxable gross receipts between $75,000,000.01 and $100,000,000\\n1.486% for taxable gross receipts between $100,000,000.01 and $150,000,000\\n1.672% for taxable gross receipts between $150,000,000.01 and $250,000,000\\n1.858% for taxable gross receipts between $250,000,000.01 and $500,000,000\\n1.858% for taxable gross receipts between $500,000,000.01 and $1,000,000,000\\n1.858% for taxable gross receipts over $1,000,000,000\\n(b) \"Category 5 Business Activities\" means one or more of the business activities described in\\nNAICS codes 51 (Information),', '8197f3c9-0ced-4022-bc01-8f513cff48f8': \"The Strategic Plan shall be prepared in\\nSupervisors Mandelman; Walton, Peskin, Ronen, Melgar, Stefani, Preston, Mar, Safai, Dorsey\\nBOARD OF SUPERVISORS\\nPage 441\\n- 2 3\\nB.\\nconcert with development of 5-Year Prioritization Programs\\n(5YPPs) (see Section 5.B). The Transportation Authority\\nBoard shall adopt the Strategic Plan and updates thereof at\\nleast every 5 years.\\nPrioritization Process. Prior to allocation of any revenues\\nfrom the 2022 Sales Tax, the Transportation Authority shall\\nprepare, in close consultation with all other affected\\nplanning and implementation agencies, a 5YPP including\\nbudget, scope, and schedule consistent with the Strategic\\nPlan, for review and adoption by the Transportation\\nAuthority Board. For programs with only one eligible\\nsponsoring agency, the Transportation Authority may\\ndesignate that agency as the agency that is to prepare the\\n5YPP. The proposed projects shall be consistent with the\\nSFTP and with the City's General Plan.\\nThe 5YPPs shall at a minimum address the following\\nfactors:\\n1.\\nN N N N N N 0 à à G\\nProject readiness, including schedule for completion\\nof environmental and design phases; well-\\ndocumented preliminary cost estimates; and\\ndocumented community support as appropriate.\\n2.\\nFunding plan, including sources other than the 2022\\nSales Tax.\\n3.\\nCompatibility with existing and planned land uses,\\nand with adopted standards for urban design and for\\nSupervisors Mandelman; Walton, Peskin, Ronen, Melgar, Stefani, Preston, Mar, Safai, Dorsey\\nBOARD OF SUPERVISORS\\nPage 451\\nthe provision of pedestrian amenities; and\\nsupportiveness of planned growth in transit-friendly\\nhousing, employment, and services.\\n4. How the project would advance equity or seek to\\n6.\\nmitigate any impacts on equity.\\n5. Project benefits including but not limited to how the\\nproject advances the goals of the SFTP.\\nA prioritization mechanism to rank projects within the\\n5YPP, that includes at a minimum the following\\nrequired criteria:\\na.\\nb.\\nC.\\n61 % 22\\nRelative level of need or urgency.\\nCost-effectiveness.\\nA fair geographic distribution that takes into\\naccount the various needs of San Francisco's\\nneighborhoods.\", '62455a3e-6bcf-4374-a913-d05e0d8af20b': '2 2 2 1\\nSection 2. Article 14 of the Business and Tax Regulations Code is hereby amended by\\nrevising Sections 1401, 1402, 1403, 1404, 1405, 1406, 1407,1408, 1409, 1410, 1411, 1412,\\n1413, 1414, 1415, 1416, 1417, 1418, and 1419, and by adding Section 1420, to read as\\nfollows:\\nSupervisors Mandelman; Walton, Peskin, Ronen, Melgar, Stefani, Preston, Mar, Safai, Dorsey\\nBOARD OF SUPERVISORS\\nPage 31\\nSEC. 1401. TITLE; TAX RATE; USE OF PROCEEDS.\\nThis ordinance(a) The tax imposed by this Article 14 shall be known as the “San Francisco\\nCounty Transportation Authority Reauthorization OrdinanceTax,\" and may be referred to herein as\\nthe “Tax.” which continues in effect the existing local transactions and use tax (commonly referred to\\nas the “sales and use tax\") approved by the voters as Proposition B at the November 7, 1989 election\\nand authorizes implementation of a New Transportation Expenditure Plan for the use of the additional\\nrevenues.\\n(b) The Tax is a local retail transactions and use tax of 0.5%, as provided in Sections 1406\\nand 1408 of this Article 14.\\n(c) The proceeds from the Tax shall be spent solely for the purposes set forth in Section 1414 of\\nthis Article 14.\\n11 20\\nSEC. 1402. DEFINITIONS.\\nFor the purposes of this ordinance Article 14, the following words shall have the meanings\\nascribed to them by this Section. (a) \"Authority:\" means Tthe existing San Francisco County\\nTransportation Authority, and (b) “District-\" means the City and County of San Francisco.\\n(c) “Effective date.\" The date of adoption of this ordinance which shall take effect at the close\\nof the polls on the day of the election scheduled for November 1. 2003 at which the proposition is\\nadopted by a two-thirds vote of the electors voting on the measure.\\n(d) “Operative date.\"', 'f2d94a89-4029-410f-a078-f1c4588849eb': \"(2) For registration years beginning on or after April 1, 2026, except for any extensions\\ngranted under Section 6.9-4 or as otherwise provided in this Business and Tax Regulations Code,\\nreturns and payments of the Business Registration Fee shall be filed annually and are due and payable,\\n82024 MAY 10 PN 1820\\nand shall be delinquent if not submitted and paid to the Tax Collector, on or before the last day of\\nFebruary preceding the registration year commencing April 1 of that year.\\nSEC. 6.9-4. EXTENSION OF TIME FOR FILING A RETURN AND PAYING TAX.\\n(a) The following shall apply to tax years and tax periods ending on or before\\nDecember 31, 2024, registration years ending on or before June 30, 2025, and the\\n2025-2026 registration year:\\n(1) For good cause, the Tax Collector, in the Tax Collector's discretion, may\\nextend, for a period not to exceed 60 days, the time for filing any return, other than a Vacancy\\nTax (Article 29) or Empty Homes Tax (Article 29A) return, pursuant to this Article 6 or\\nregulations prescribed by the Tax Collector. For taxes required to be deposited monthly, or\\nfor the Sugary Drinks Distributor Tax (Article 8), the Tax Collector may only extend the time\\nfor filing a return for a period not to exceed 30 days. As a condition of such extension, the\\nperson seeking the extension shall make a payment of not less than 100% of such person's\\nliability for such period.\\n(26) Failure to make the required 100% payment will result in the automatic\\ndenial of the person's extension and the person being subject to the standard due dates in\\nthis Article 6, including any penalties, interest, fees, and other consequences of failing to file\\nand pay by those due dates.\", '965f8329-2e20-403b-82f7-60a22f1cc691': 'Expenditure Plan Advisory Committee Roster\\nAmandeep Jawa, Chair\\nAnni Chung, Vice Chair\\nJay Bain\\nRosa Chen\\nAdvocacy: Environment\\nAdvocacy: Seniors and People with Disabilities\\nNeighborhoods/Communities\\nEquity Priority Community/Community Advisory\\nCommittee\\n*On November 3, 2020, San Francisco voters approved Proposition B, which amended the\\nSan Francisco Charter to create a Department of Sanitation and Streets to succeed to specific\\nduties currently performed by San Francisco Public Works. Per Board of Supervisors\\nMotion 21-181, approved December 14, 2021, the effective date for this transition is\\nOctober 1, 2022.', '63e76359-215f-44f1-8d13-6081d3417e41': 'The City shall indemnify the proponents for reasonable expenses and any losses incurred by\\nthe proponents, as agents, in defending the validity and/or implementation of the challenged\\nordinance. The rate of indemnification shall be no more than the amount it would cost the City\\nto perform the defense itself.', 'b647e627-cf50-4cc5-ae37-e5736cc5c2b2': \"The Way It Is Now\\nCHANGES TO BUSINESS TAXES\\nThe City collects various business taxes on an annual basis including:\\nO\\n•\\nSAN FRANCISCO\\nFILED\\n2024 MAY 15 PM 3:10\\nDEPARTMENT OF ELECTIONS\\nA gross receipts tax that is a percentage of a business's San Francisco gross receipts.\\nDepending on business type, the City determines a business's San Francisco gross\\nreceipts based on sales in San Francisco, payroll expenses for employees working there,\\nor both. Rates range from 0.053% to 1.008% and are scheduled to increase in coming\\nyears. Rates depend on business type, and higher rates apply as a business generates\\nmore gross receipts. For 2023, most businesses with gross receipts up to $2.19 million\\nare exempt.\\nA homelessness gross receipts tax that is an additional tax on businesses with San\\nFrancisco gross receipts over $50 million. Rates range from 0.175% to 0.69%.\\nAn overpaid executive gross receipts tax that is an additional tax on businesses that pay\\ntheir highest-paid managerial employee much higher than the median compensation they\\npay their San Francisco employees. Rates are between 0.1% and 0.6%.\\nA business registration fee that is an additional tax. For most businesses the fee is\\ncurrently between $47 and $45,150, based on business type and amount of gross receipts.\\n• An administrative office tax on payroll expenses that certain large businesses pay instead\\nof these other business taxes. The combined rates in 2024 range from 3.04% to 5.44%,\\nand in 2025 are scheduled to range from 3.11% to 5.51%. Business registration fees for\\nthese businesses currently range from $19,682 to $45,928.\\nState law limits the total revenue, including tax revenue, the City may spend each year. The\\nvoters may approve increases to this limit for up to four years.\", '4d4ebc6d-543c-466d-9f4d-2e6cbd5d866e': 'The gross receipts from such sales shall include\\ndelivery charges, when such charges are subject to the state sales and use tax, regardless of\\nSupervisors Mandelman; Walton, Peskin, Ronen, Melgar, Stefani, Preston, Mar, Safai, Dorsey\\nBOARD OF SUPERVISORS\\nPage 81\\nthe place to which delivery is made. In the event a retailer has no permanent place of\\nbusiness in the state or has more than one place of business, the place or places at which the\\nretail sales are consummated shall be determined under rules and regulations to be\\nprescribed and adopted by the State Board of EqualizationCalifornia Department of Tax and Fee\\nAdministration.\\nSEC. 1408. USE TAX AND RATE OF 0.5%ONE HALF OF ONE PERCENT.\\nThe existing excise Tax is hereby continued to be imposed on the storage, use, or other\\nconsumption in this District of tangible personal property purchasesḍ from any retailer on and\\nafter the operative date April 1, 1990 for storage, use, or other consumption in this District at the\\nrate of 0.5%one-half of one percent of the sales price of the property. The sales price shall\\ninclude delivery when such charges are subject to state sales or use tax regardless of the\\nplace to which delivery is made.\\nSEC. 1409. ADOPTION OF PROVISIONS OF STATE LAW.\\nExcept as otherwise provided in this Article 14ordinance and except insofar as they are\\ninconsistent with the provisions of Part 1.6 (commencing with Section 7251) of Division 2 of the\\nCalifornia Revenue and Taxation Code, all of the provisions of Part 1 (commencing with\\nSection 6001) of Division 2 of the California Revenue and Taxation Code (commencing with\\nSection 6001) are hereby adopted and made a part of this Article 14ordinance as though fully\\nset forth herein.\\nSupervisors Mandelman; Walton, Peskin, Ronen, Melgar, Stefani, Preston, Mar, Safai, Dorsey\\nBOARD OF SUPERVISORS\\nPage 91\\n2 2 2 2\\nSEC. 1410. LIMITATIONS ON ADOPTION OF PROVISIONS OF STATE LAW AND\\nCOLLECTION OF USE TAXES.', '7477015d-be66-43d3-bbed-0eb278c9c434': \"July 25, 2022\\nDate\\nCity and County of San Francisco\\nPage 1\\nAngela Calvillo\\nClerk of the Board\\nPrinted at 3:12 pm on 7/25/22FILE NO. 220536\\nORDINANCE NO. 153-22\\n[Initiative Ordinance - Business and Tax Regulations Code - Sales Tax for Transportation\\nAuthority]\\nOrdinance approving a new 2022 Transportation Expenditure Plan for the County\\nTransportation Authority and submitting to the voters at an election to be held on\\nNovember 8, 2022, an Ordinance amending the Business and Tax Regulations Code to\\ncontinue in effect the existing local transactions and use tax at the existing rate of 0.5%\\nfor 30 years to fund transportation improvements under the 2022 Transportation\\nExpenditure Plan; increasing the Transportation Authority's appropriations limit by the\\namount collected under the transactions and use tax for four years from\\nNovember 8, 2022; authorizing the Transportation Authority to issue limited tax bonds\\nsecured by transactions and use tax revenues; affirming the Transportation Authority's\\ndetermination under the California Environmental Quality Act; and making findings of\\nconsistency with the General Plan, and the eight priority policies of Planning Code,\\nSection 101.1.\\nNOTE:\\nUnchanged Code text and uncodified text are in plain Arial font.\\nAdditions to Codes are in single-underline italics Times New Roman font.\\nDeletions to Codes are in strikethrough italics Times New Roman font.\\nBoard amendment additions are in double-underlined Arial font.\\nBoard amendment deletions are in strikethrough Arial font.\\nAsterisks (* * *) indicate the omission of unchanged Code\\nsubsections or parts of tables.\\n*\\nBe it ordained by the People of the City and County of San Francisco:\\nSection 1. History and Background.\", '5eb2b650-f93a-4031-abb2-84009a7f617d': '25% for taxable gross receipts between $0 and $1,000,000\\n0.25% for taxable gross receipts between $1,000,000.01 and $2,500,000\\n0.3% for taxable gross receipts between $2,500,000.01 and $25,000,000\\n0.504% for taxable gross receipts between $25,000,000.01 and $50,000,000\\n0.84% for taxable gross receipts between $50,000,000.01 and $75,000,000\\n0.84% for taxable gross receipts between $75,000,000.01 and $100,000,000\\n1.176% for taxable gross receipts between $100,000,000.01 and $150,000,000\\n1.176% for taxable gross receipts between $150,000,000.01 and $250,000,000\\n1.344% for taxable gross receipts between $250,000,000.01 and $500,000,000\\n1.344% for taxable gross receipts between $500,000,000.01 and $1,000,000,000\\n1.512% for taxable gross receipts over $1,000,000,000\\n(2) For tax year 2027:\\n0.26% for taxable gross receipts between $0 and $1,000,000\\n0.26% for taxable gross receipts between $1,000,000.01 and $2,500,000\\n0.312% for taxable gross receipts between $2,500,000.01 and $25,000,000\\n0.534% for taxable gross receipts between $25,000,000.01 and $50,000,000\\n0.89% for taxable gross receipts between $50,000,000.01 and $75,000,000\\n60SANTRA CO\\n2021 MAY 10 PH 1:30\\nLIVERY OF FORG\\n0.89% for taxable gross receipts between $75,000,000.01 and $100,000,000\\n1.246% for taxable gross receipts between $100,000,000.01 and $150,000,000\\n1.246% for taxable gross receipts between $150,000,000.01 and $250,000,000\\n1.424% for taxable gross receipts between $250,000,000.01 and $500,000,', '7a15c8a2-1283-4a79-b99a-370562307f6a': '85 per $1,000) for taxable gross receipts between $0 and $1,000,000\\n40SANTA CO\\nFULTO\\n2024 MAY 10 PM 1:29\\n0.685% (e.g. $6.85 per $1,000) for taxable gross receipts between $1,000,000.01 and\\n$2,500,000\\n$1,000,00001 and\\nDEPARITIENT\\n0.788% (e.g. $7.88 per $1,000) for taxable gross receipts between $2,500,000.01 and\\n$25,000,000\\n0.879% (e.g. $8.79 per $1,000) for taxable gross receipts over $25,000,000\\n*\\nSEC. 953.3. GROSS RECEIPTS TAX APPLICABLE TO ACCOMMODATIONS; UTILITIES;\\nAND ARTS, ENTERTAINMENT AND RECREATION.\\n(a) The gross receipts tax rates applicable to the business activities of\\naccommodations; utilities; and arts, entertainment and recreation are:\\n*\\n* * *\\nrecreation:\\n(2) For the business activities of accommodations and arts, entertainment and\\n(A) For tax years 2021 through and including 2024:\\n0.21% (e.g. $2.10 per $1,000) for taxable gross receipts between $0 and $1,000,000\\n0.228% (e.g. $2.28 per $1,000) for taxable gross receipts between $1,000,000.01 and\\n$2,500,000\\n0.228% (e.g. $2.28 per $1,000) for taxable gross receipts between $2,500,000.01 and\\n$25,000,000\\n0.56% (e.g. $5.60 per $1,000) for taxable gross receipts over $25,000,000\\n(B) For tax year 2025:\\n0.315% (eg, $3.15 per $1,000) for taxable gross receipts between $0 and $1,000,000\\n0.341% (e.g. $3.41 per $1,000) for taxable gross receipts between $1,000,000.01 and\\n$2,500,000\\n41SAN 20\\n0.', '0859a982-92d8-4c28-a98d-89dadee5442e': \"(1) For tax years ending on or before December 31, 2024, the overpaid executive\\nadministrative office tax shall be calculated as follows:\\n(+4) 0.4% of the person or combined group's total payroll expense\\nattributable to the City for a tax year if the person or combined group has an Executive Pay\\nRatio for that tax year of greater than 100:1, but less than or equal to 200:1;\\n(2B) 0.8% of the person or combined group's total payroll expense\\nattributable to the City for a tax year if the person or combined group has an Executive Pay\\nRatio for that tax year of greater than 200:1, but less than or equal to 300:1;\\n(3C) 1.2% of the person or combined group's total payroll expense\\nattributable to the City for a tax year if the person or combined group has an Executive Pay\\nRatio for that tax year of greater than 300:1, but less than or equal to 400:1;\\n103SAULAMIC 50\\n10 PM 1:32\\n(4D) 1.6% of the person or combined group's total payroll expense\\nDEPARTMENT OF ELECTIONS\\nattributable to the City for a tax year if the person or combined group has an Executive Pay\\nRatio for that tax year of greater than 400:1, but less than or equal to 500:1;\\n(5E) 2% of the person or combined group's total payroll expense\\nattributable to the City for a tax year if the person or combined group has an Executive Pay\\nRatio for that tax year of greater than 500:1, but less than or equal to 600:1; or\\n(6F) 2.4% of the person or combined group's total payroll expense\\nattributable to the City for a tax year if the person or combined group has an Executive Pay\\nRatio for that tax year of greater than 600:1.\", '4c326dff-9549-4152-bed9-c7651d363320': 'Except as otherwise provided in this Section 855\\nand Section 856 of this Article 12, and Section 76.3 of Article 2 of this Business and Tax Regulations\\nCode, the annual fee for obtaining a registration certificate for the 2025-2026 registration year,\\npayable in advance, shall be as follows:\\nSan Francisco Gross Receipts for the\\nImmediately Preceding Tax Year\\n$0 to $100,000\\n$100,000.01 to $250,000\\nAnnual Registration Fee\\n$41\\n$71\\n$250,000.01 to $500,000\\n$120\\n$500,000.01 to $750,000\\n$240\\n$750,000.01 to $1,000,000\\n$330\\n$1,000,000.01 to $1,500,000\\n$469\\n$1,500,000.01 to $2,000,000\\n$656\\n$2,000,000.01 to $2,500,000\\n$848\\n$2,500,000.01 to $5,000,000\\n$1,414\\n$5,000,000.01 to $7,500,000\\n$600\\n$7,500,000.01 to $15,000,000\\n$1,500\\n$15,000,000.01 to $25,000,000\\n$4,875\\n25$25,000,000.01 to $50,000,000\\n$50,000,000.01 to $100,000,000\\n$100,000,000.01 to $200,000,000\\n$200,000,000.01 and over\\nSAN KAL CO\\n2724 11 10 11 129\\n$15,000\\nDEPARTMENT\\n$30,000\\n$37,500\\n$45,000\\n(d) Fee for Registration Years Beginning On or After April 1, 2026. Except as otherwise\\nprovided in this Section 855 and Section 856 of this Article 12, and Section 76.3 of Article 2 of this\\nBusiness and Tax Regulations Code, the annual fee for obtaining a registration certificate for\\nregistration years beginning on or after April 1, 2026, payable in advance, shall be as follows:\\nSan Francisco Gross Receipts for the\\nImmediately Preceding Tax Year\\n$0 to $100,', 'cc0f4f1a-42b7-4c61-a284-6ab554094dcb': '953.2. GROSS RECEIPTS TAX APPLICABLE TO MANUFACTURING;\\nTRANSPORTATION AND WAREHOUSING; INFORMATION; BIOTECHNOLOGY; CLEAN\\nTECHNOLOGY; AND FOOD SERVICES.\\n(a) The gross receipts tax rates applicable to the business activities of manufacturing,\\ntransportation and warehousing, information, biotechnology, clean technology, and food\\nservices are:\\n* * *\\n*\\n(2) For the business activities of manufacturing and food services:\\n(A) For tax years 2021 through and including 2024:\\n0.088% (e.g., $0.88 per $1,000) for taxable gross receipts between $0 and $1,000,000\\n0.144% (e.g., $1.44 per $1,000) for taxable gross receipts between $1,000,000.01 and\\n$2,500,000\\n0.259% (e.g., $2.59 per $1,000) for taxable gross receipts between $2,500,000.01 and\\n$25,000,000\\n0.665% (e.g., $6.65 per $1,000) for taxable gross receipts over $25,000,000\\n(B) For tax year 2025:\\n0.131% (e.g., $1.31 per $1,000) for taxable gross receipts between $0 and $1,000,000\\n0.215% (e.g., $2.15 per $1,000) for taxable gross receipts between $1,000,000.01 and\\n$2,500,000\\nSAN 20\\nSANAW\\n2070 K to 1:25\\n$2,500,000.01 and 25\\n0.389% (e.g., $3.89 per $1,000) for taxable gross receipts between $2,500,000.01 and\\n$25,000,000\\nDET ACT TER\\n0.665% (e.g. $6.65 per $1,000) for taxable gross receipts over $25,000,000\\n(C) For tax years beginning on or after January 1, 2026:\\n0.175% (e.g. $1.75 per $1,000) for taxable gross receipts between $0 and $1,000,000\\n0.287% (e.g. $2.87 per $1,', '7a81d814-8294-46d6-adfb-7fd7cf424e67': 'Sales Tax revenues designated for each category is maintained in\\ncompliance with the prioritization provisions set forth in\\nSections 2.B, 5.B, and 5.D.\\nSupervisors Mandelman; Walton, Peskin, Ronen, Melgar, Stefani, Preston, Mar, Safai, Dorsey\\nBOARD OF SUPERVISORS\\nPage 491\\nE. Cost Savings and Remaining Funds. If the eligible sponsoring\\nagency or agencies complete delivery of a 2022 Transportation\\nExpenditure Plan program or legacy project or determine that they\\nwill no longer pursue implementation of the program or legacy\\nproject with 2022 Sales Tax funds, the Transportation Authority\\nBoard may use any remaining 2022 Sales Tax funds in that\\nprogram to fund one or more programs in the same category that\\nwould otherwise be in compliance with the prioritization provisions\\nset forth in Sections 2.B, 5.B, and 5.D. To do so, the\\nTransportation Authority Board must first hold a public hearing on\\nthe matter and then not sooner than 30 days after the hearing, the\\nTransportation Authority Board may, by a 2/3 vote, direct all or a\\nportion of the remaining funds to one or more 2022 Transportation\\nExpenditure Plan programs with the same category.\\nThe following abbreviations are used in the 2022 Transportation Expenditure Plan:\\nBART - San Francisco Bay Area Rapid Transit District; EP - Expenditure Plan; GGBHTD –\\nGolden Gate Bridge, Highway & Transportation District; M - Million; N/A - Not Applicable;\\nPCJPB - Peninsula Corridor Joint Powers Board or Caltrain; Planning - San Francisco\\nPlanning Department; Port of SF - Port of San Francisco; SAS - Sanitation and Streets\\nDepartment*; SFCTA - San Francisco County Transportation Authority; SFE - San Francisco\\nDepartment of Environment; SFMTA - San Francisco Municipal Transportation Agency;\\nSFPW - San Francisco Public Works; TIMMA - Treasure Island Mobility Management\\nAgency; TJPA - Transbay Joint Powers Authority.\\nSupervisors Mandelman; Walton, Peskin, Ronen, Melgar, Stefani, Preston, Mar, Safai, Dorsey\\nBOARD OF SUPERVISORS\\nPage 50Attachment 1.', '099aa3bd-bfcd-4dc8-8982-a1a47f10d4a6': 'SEC. 6.25-1. ADVANCE DETERMINATIONS.\\nSubject to annual appropriations to cover its costs that exceed any fees charged, by\\nJune 30, 2025, the Tax Collector shall establish a program to provide advance determinations to\\ntaxpayers for the Business Registration Fee (Article 12), the Gross Receipts Tax (Article 12-A-1), the\\nEarly Care and Education Commercial Rents Tax (Article 21), the Homelessness Gross Receipts Tax\\n(Article 28), the Cannabis Business Tax (Article 30), and the Overpaid Executive Gross Receipts Tax\\n(Article 33) (including any tax on administrative office business activities imposed under any of the\\nforegoing) regarding: (a) the Business Activity Category for a particular business activity; (b) whether\\na person or combined group may use an alternative apportionment formula under Sections 957, 2108,\\n2807, 3007, and 3306; and (c) any other issues that the Tax Collector, in the Tax Collector\\'s sole\\ndiscretion, deems appropriate. The Tax Collector shall have the sole discretion as to whether to issue\\nan advance determination on any of (a) through (c) above to any particular request for an advance\\ndetermination, and shall have sole discretion to determine the parameters of the program, but shall\\nhold a public hearing and comment process to solicit feedback from taxpayers prior to establishing the\\nprogram. The Tax Collector may charge a fee for requests for advance determinations to cover some\\nor all of its costs of issuing such determinations.\\n22SAH WISCO\\nby\\nSection 4. Article 12 of the Business and Tax Regulations Code is\\nde is hereby amended\\nDEPARTMENT OF ELECTIONS\\nrevising Sections 852, 855, and 856, and deleting Section 852.4, to read as follows:\\nSEC. 852. OPERATION OF DEFINITIONS.\\nExcept where the context otherwise requires: (at) the terms used in this Article 12\\nshall have the meanings given to them in Sections 852.1 throughand 852.24, inclusive, of this\\nArticle, and (b) terms not defined in this Article that are defined in Article 6 of the Business\\nand Tax Regulations Code shall have the same meaning as given to them in that Article.\\nSEC. 852.4. \"REGISTRATION YEAR.\"', '53266eb9-5560-49ca-9dfb-6a31841e73b8': \"(c) If a taxpayer elects to apply all or part of an overpayment of the business\\nregistration fee in Article 12, the Gross Receipts Tax in Article 12-A-1 (including the tax on\\nadministrative office business activities under Section 953.8 of Article 12-A-1), the Sugary\\nDrinks Distributor Tax in Article 8, the Early Care and Education Commercial Rents Tax in\\nArticle 21, the Homelessness Gross Receipts Tax in Article 28 (including the homelessness\\nadministrative office tax under Section 2804(d) of Article 28), the Cannabis Business Tax in\\nArticle 30, or the Overpaid Executive Gross Receipts Tax in Article 33 (including the tax on\\nadministrative office business activities in Section 3303(g)) as a credit against the taxpayer's\\nimmediately succeeding payment or payments due for tax years or periods ending on or before\\nDecember 31, 2024, of the respective tax type, the taxpayer will not be credited with interest on\\nthe amount so applied.\\n20SEC. 6.17-1.1. PENALTIES AND INTEREST FOR FAILURE TO PAY.\\nSAME T\\n2024 MAY 10 PM 1:28\\nDEPART OF ELECTIONS\\n(a) Any person who fails to pay, collect, or remit to the City any tax shown on a return\\nor required to be shown on a return shall pay a penalty of 5% of the unpaid tax, if the failure is\\nfor not more than one month after the tax was due and unpaid, plus an additional 5% for each\\nfollowing month or fraction of a month during which such failure continues, up to 25% in the\\naggregate, until the date of payment.\\n(b) Any person who fails to pay, collect, or remit to the City any tax shown on a return\\nor required to be shown on a return shall also pay interest on the unpaid tax at the rate of 1%\\nper month, or fraction of a month, from the date the taxes were due and unpaid through the\\ndate the person pays in full the delinquent taxes, penalties, interest, and fees accrued to the\\ndate of payment.\", '96b86ee3-4983-4ba1-b948-5a2fe4084b99': '(g) To improve or cause the improvement, construction, maintenance, operation, development\\nof and or planning for, transportation projects facilities and/or programs contained in the New\\nTransportation Expenditure Plan recommended by the Expenditure Plan Advisory Committee and\\nadopted by the Board of Supervisors of the City and County of San Francisco, which plan is\\nSupervisors Mandelman; Walton, Peskin, Ronen, Melgar, Stefani, Preston, Mar, Safai, Dorsey\\nBOARD OF SUPERVISORS\\nPage 61\\nincorporated here by this reference as though fully set forth herein, and as that Plan may be amended\\nfrom time to time pursuant to applicable law.\\n(h) To continue this tax pursuant to the authority granted by Section 131102 of the Public\\nUtilities Code, permanently and subject to approval of future updates of the New Expenditure Plan\\npursuant to Section 131056 of the Public Utilities Code.\\n(i) To authorize the issuance from time to time of limited tax bonds not to exceed a total\\noutstanding aggregate amount of $1,880,000,000 to finance the projects specified in the Plan.\\n(j) To establish an expenditure limit for the Authority pursuant to California Constitution\\nArticle XIII B.\\nSEC. 1404. CONTINUATION OFADMINISTRATION BY AUTHORITY.\\nUpon voter approval of this ordinancethe 2022 Transportation Expenditure Plan and the\\namendments to this Article 14 passed by the voters at the November 8, 2022 election, the Authority\\n14 shall continue in effect as currently constituted immediately prior to that voter approval except as\\notherwise provided by law. The Authority shall have all of the powers set forth in Division 12.5\\n(commencing with Section 1317000) of the California Public Utilities Code, all of the powers\\nset forth in the New-2022 Transportation Expenditure Plan, and all powers incidental or\\nnecessary to imposing and collecting the Tax and administering the #Tax proceeds and the\\n2022 Transportation Expenditure Plan, and causing and overseeing the delivery of the\\ntransportation improvements therein contained. The Authority may allocate and reallocate the tax\\nproceeds to meet project eash flow needs consistent with the provisions of the Plan. In the event a\\nproject is infeasible, the Authority shall reallocate the tex proceeds for that project to other projects in\\naccordance with the provisions of the Plan.', '66137bb4-1b58-4a74-9ea1-4ae643aec154': \"*\\n(h) Commencing with a report filed no later than October 31, 2024,\\n(1) For the 2023-tax years 2023 and 2024, the Tax Collector shall submit an\\nannual report by October 31 of the calendar year following each tax year to the Board of\\nSupervisors for each tax year for which the credit under this Section 960.1 is in effect that sets forth\\naggregate information on the dollar amount of the credits taken each year and the number of\\nbusinesses taking the credit; and\\n(2) For tax years 2025 through and including 2028, the Tax Collector shall submit an\\nannual report by March 31 of the calendar year two years after each tax year to the Board of\\nSupervisors that sets forth aggregate information on the dollar amount of the credits taken each year\\nand the number of businesses taking the credit.\\nSEC. 960.2. TAX CREDIT FOR STADIUM OPERATOR ADMISSION TAXES PAID.\\nFor tax years beginning on or after January 1, 2025, a person or combined group shall be\\nallowed a credit against that person or combined group's Gross Receipts Tax (including the\\nadministrative office tax imposed under Section 953.8) for 50% of Stadium Operator Admission Taxes\\nunder Article 11 of this Business and Tax Regulations Code paid to the City during the tax year and\\n50% of taxes paid to another local government during the tax year that are substantially similar to the\\nStadium Operator Admission Tax under Article 11 of this Code. In no event shall the credit under this\\nSection 960.2 reduce a person or combined group's Gross Receipts Tax liability to less than $0 for any\\ntax year. The credit under this Section shall not be refundable and may not be carried forward to a\\nsubsequent year.\\n76SALLY\\nпо\\n2004 NATO 31\\nSEC. 960.3. TAX CREDIT FOR SUPERMARKETS AND OTHER GROCERY RETAILERS.\", '7d8fce93-05ec-490e-a488-81ce08752c1f': \"(a) A person or combined group that opens a physical location in the Designated\\nAreas on or after January 1, 2023 through and including December 31, 2027, shall be allowed\\na credit against that person or combined group's Gross Receipts Tax if the person or\\n74SAN FIAT CU\\n2024 11AY 10 PM 1331\\ncombined group did not have a physical location in the City for at least three years prior to\\nDEPARTMENT OF ELECTIONS\\nopening the physical location. The credit under this Section 960.1 shall be an annual credit\\nfor each of up to three tax years immediately following the tax year in which the person or\\ncombined group opened the physical location in the Designated Areas, provided the person or\\ncombined group maintains a physical location in the Designated Areas in the tax year that the\\ncredit is taken. To be eligible for the credit, the person or combined group must take the\\ncredit for each tax year on an original Gross Receipts Tax return filed with the Tax Collector.\", '9e9c79c0-9cad-434c-abfc-ce6a619d36da': '(b) For purposes of this Section 960.4, \"Qualified Building\" means a building located within\\nthe City that meets all of the following requirements:\\n(1) The building contains at least 450,000 gross square feet, exclusive of any space\\nprovided under subsection (b)(7);\\n(2) Construction began on the building between November 5, 2024 and\\nNovember 4, 2029, inclusive:\\n(3) Construction of the building incorporated at least 50% of the remains of the exterior\\nwalls of a prior structure (measured by the state of the structure when its owner of record on\\nNovember 5, 2024 acquired it) that was at least 100 years old on November 5, 2024;\\nof construction;\\n(4) Construction on the building created at least 500 construction jobs over the course\\n(5) At least $500,000,000 (not including the cost of the land or financing costs) was\\nexpended for the development and construction of the building,\\n(6) Except as provided in subsection (b)(7), the building is used exclusively for\\nnon-residential purposes;\\n(7) The building is part of a project that provided (prior to issuance of the building\\'s\\nfirst temporary certificate of occupancy) at least 50,000 gross square feet of publicly accessible open\\nspace or affordable housing, or that designated building space to be leased to or occupied by any\\norganization that: (A) serves the community, including but not limited to an organization dedicated to\\n782070 AWAY 10 PH 1:31\\neducating youth, childcare, the arts, or serving low-income, unemployed, or unhoused persons; or\\nDEPARTMENT ARE ELECTIONS\\n(B) is tax exempt under Internal Revenue Code Section 501(c)(3). The requirement in this\\nsubsection (b)(7) may be satisfied with space that is not within or adjacent to the Qualified Building.\\n(c) The Planning Department shall, by January 1, 2025, establish procedures for developers\\nand other persons to obtain certification that a building is a Qualified Building under subsection (b).\\nTo be eligible for the credit, the person or combined group claiming the credit must submit a copy of\\nthat certification with the person or combined group\\'s Gross Receipts Tax return.', '0b641a28-ef88-4aa2-b8eb-f469e41bf0d2': '000\\n0.105% (e.g. $1.05 per $1,000) for taxable gross receipts between $1,000,000.01 and\\n$2,500,000\\n0.142% (e.g. $1.42 per $1,000) for taxable gross receipts between $2,500,000.01 and\\n$25,000,000\\n0.224% (e.g. $2.24 per $1,000) for taxable gross receipts over $25,000,000\\n(C) For tax years beginning on or after January 1, 2026:\\n0.105% (e.g. $1.05 per $1,000) for taxable gross receipts between $0 and $1,000,000\\n0.14% (e.g. $1.40 per $1,000) for taxable gross receipts between $1,000,000.01 and\\n$2,500,000\\n0.189% (e.g. $1.89 per $1,000) for taxable gross receipts between $2,500,000.01 and\\n$25,000,000\\n0.224% (e.g. $2.24 per $1,000) for taxable gross receipts over $25,000,000\\n(3) For the business activity of wholesale trade for tax years beginning on or after\\nJanuary 1, 2021 through and including 2024:\\n0.105% (e.g. $1.05 per $1,000) for taxable gross receipts between $0 and $1,000,000\\n0.14% (e.g. $1.40 per $1,000) for taxable gross receipts between $1,000,000.01 and\\n$2,500,000\\n36SAHAN CU\\n0.189% (e.g. $1.89 per $1,000) for taxable gross receipts between $2,500,000.01 and\\nDEPARTMENT OF ELECTION!\\n$25,000,000\\n0.224% (e.g., $2.24 per $1,000) for taxable gross receipts over $25,000,000\\nSEC. 953.2.', 'c4b32da6-3009-4a06-b8cc-3c8fb1505ab9': '(a) The homelessness gross receipts tax rates applicable to Category 7 Business Activities for\\ntax years beginning on or after January 1, 2025 are:\\n0% for taxable gross receipts between $0 and $1,000,000\\n0% for taxable gross receipts between $1,000,000.01 and $2,500,000\\n0% for taxable gross receipts between $2,500,000.01 and $25,000,000\\n0.328% for taxable gross receipts between $25,000,000.01 and $50,000,000\\n0.492% for taxable gross receipts between $50,000,000.01 and $75,000,000\\n0.492% for taxable gross receipts between $75,000,000.01 and $100,000,000\\n0.656% for taxable gross receipts between $100,000,000.01 and $150,000,000\\n0.656% for taxable gross receipts between $150,000,000.01 and $250,000,000\\n0.738% for taxable gross receipts between $250,000,000.01 and $500,000,000\\n0.738% for taxable gross receipts between $500,000,000.01 and $1,000,000,000\\n0.82% for taxable gross receipts over $1,000,000,000\\n(b) \"Category 7 Business Activities\" has the same meaning as in Section 953.26(b) of\\nArticle 12-A-1 of this Business and Tax Regulations Code.\\n(c) Except as otherwise provided in subsection (d), the amount of taxable gross receipts from\\nCategory 7 Business Activities subject to the homelessness gross receipts tax shall be the total amount\\nof gross receipts derived from or related to real properties located within the City.\\n(d) The amount of taxable gross receipts determined under subsection (c) shall be reduced by\\nany amounts that were included in a person or combined group\\'s gross receipts under subsection (c)\\nand that the person or combined group paid to a subcontractor for work related to the real properties\\nlocated with the City during the tax year. There shall be no deduction for any other costs, including\\n90SAHA 20\\n24 A 10 PM 1; 31.\\nwithout limitation costs for materials, fees, equipment, or other services.', '9347e6c7-7bb8-4dcc-9e6c-78c8be182a14': 'Section 7. Article 28 of the Business and Tax Regulations Code is hereby amended by\\nrevising Sections 2802, 2804, 2805, 2807, and 2813 and adding Sections 2804.1, 2804.2,\\n2804.3, 2804.4, 2804.5, 2804.6, 2804.7, 2804.8, 2804.9, 2804.10, 2804.11, 2805.3, and\\n2805.4, to read as follows:\\nSEC. 2802. FINDINGS AND PURPOSE.\\n*\\n* *\\n(c) In December, 2017 Donald Trump signed the \"Tax Cuts and Jobs Act\" into law\\nwhich reduced the federal corporate rate from 35% to 21%, a 14% reduction. By comparison,\\nthis measure would be an average of less than a half of a percent tax for the gross receipts of San\\nFrancisco businesses over $50 million.\\n80SEC. 2804. IMPOSITION OF TAX.\\nSAN 28\\n207 MAY 10 PH 1:31\\nDEPARTMENT OF ELECTIONS\\n(a) Except as otherwise provided in this Article 28, for the privilege of engaging in\\nbusiness in the City, the City imposes an annual Homelessness Gross Receipts Tax on each\\nperson engaged in business in the City that receives or is a member of a combined group that\\nreceives, more than $50,000,000 in total taxable gross receipts.\\n(b) If, after applying any rules or elections used to assign receipts to a business activity\\nin Section 953.9 of Article 12-A-1, a person or combined group derives gross receipts from\\nbusiness activities described in only one of Sections 953.1 through 953.7 of Article 12-A-1,\\ninclusive, the Homelessness Gross Receipts Tax shall be calculated by applying to the person\\nor combined group\\'s taxable gross receipts in excess of $50,000,000 the following percentage\\nthat corresponds to the person or combined group\\'s business activities, as described in\\nSections 953.1 through 953.7 of Article 12-A-1, inclusive:\\nBusiness Activity Set\\nTax Rate\\nSection 953.1\\n.175%\\nSection 953.2\\n.500%\\nSection 953.3\\n.', 'a435cac7-0688-4811-92b2-ad1b044f6524': '106SEC. 3304. EXEMPTIONS AND EXCLUSIONS.\\nSALO\\n2070 WAY 10 PN 1:32\\nDEPARTMENT OF ELECTION\\n(a) An organization that is exempt from income taxation by Chapter 4 (commencing\\nwith Section 23701) of Part 11 of Division 2 of the California Revenue and Taxation Code or\\nSubchapter F (commencing with Section 501) of Chapter 1 of Subtitle A of the Internal\\nRevenue Code of 1986, as amended, as qualified by Sections 502, 503, 504, and 508 of the\\nInternal Revenue Code of 1986, as amended, shall be exempt from taxation under this\\nArticle 33, only so long as those exemptions continue to exist under state or federal law.\\n(b) For only so long as and to the extent that the City is prohibited from imposing the\\nOverpaid Executive Gross Receipts Tax, any person upon whom the City is prohibited under\\nthe Constitution or laws of the State of California or the Constitution or laws of the United\\nStates from imposing the Overpaid Executive Gross Receipts Tax shall be exempt from the\\nOverpaid Executive Gross Receipts Tax.\\n(c) For purposes of this Article 33, gross receipts shall not include receipts that are\\nexcluded from gross receipts for purposes of the gross receipts tax imposed by Article 12-A-1.\\n(d) A person or combined group exempt from the gross receipts tax as a small\\nbusiness enterprise under Section 954.1 of Article 12-A-1 shall also be exempt from taxation\\nunder this Article 33. But the exemption in this subsection (d) of Section 3304 shall not apply\\nto persons subject to the overpaid executive administrative office tax in subsection (dg) of\\nSection 3303.\\n(e) For tax years commencing on or after January 1, 2025, persons or combined groups that\\nmeet both of the following two requirements shall be exempt from the Overpaid Executive Gross\\nReceipts Tax in this Article 33:\\n(1) The total combined number of employees of the person and its related entities within\\nthe United States as of the last day of the tax year was 1,000 or less; and\\n107SAMAN EN\\nMA!', '9e8fe0b9-ab74-4b31-acf7-14fffe556f1f': 'Section 5. If any section, subsection, sentence, clause, phrase, or word of this\\nordinance approving the 2022 Transportation Expenditure Plan and amending Article 14 of\\nthe Business and Tax Regulations Code, or any application thereof to any person or\\ncircumstance, is held to be invalid or unconstitutional by a decision of a court of competent\\njurisdiction, such decision shall not affect the validity of the remaining portions or applications\\nof the ordinance. The voters hereby declare that they would have adopted this ordinance and\\neach and every section, subsection, sentence, clause, phrase, and word not declared invalid\\nor unconstitutional without regard to whether any other portion of this ordinance or application\\nthereof would be subsequently declared invalid or unconstitutional.\\nSection 6. Effective and Operative Dates.\\n(a) As provided in California Public Utilities Code Section 131102, subdivision (b), the\\namendments to Article 14 of the Business and Tax Regulations Code in Section 2 of this\\nordinance shall become effective at the close of the polls on November 8, 2022.\\n(b) When the operative date of the 2022 Transportation Expenditure Plan in Section 3\\nof this ordinance and the amendments to Business and Tax Regulations Code Article 14 in\\nSection 2 of this ordinance have been determined pursuant to Section 1405 of Article 14 as\\nSupervisors Mandelman; Walton, Peskin, Ronen, Melgar, Stefani, Preston, Mar, Safai, Dorsey\\nBOARD OF SUPERVISORS\\nPage 521\\nགྲྭ་བམ\\namended by the voters at the November 8, 2022 election, the City Attorney shall cause all\\nreferences in Article 14 to \"the operative date of the amendments to this Article 14 passed by\\nthe voters at the November 8, 2022 election\" to be replaced by the actual operative date.\\nSection 7.', 'ee68a1de-0d91-43da-bab2-92dc9d78b5ff': \"Funding Caps for Legacy Projects. Projects carried forward from the\\nProposition K Expenditure Plan as legacy projects shall be eligible to\\nreceive Priority 1 funds from the designated programs, not to exceed the\\nSupervisors Mandelman; Walton, Peskin, Ronen, Melgar, Stefani, Preston, Mar, Safai, Dorsey\\nBOARD OF SUPERVISORS\\nPage 251\\niv.\\n+\\nD.\\nE.\\nㅇㅎㅎ\\nF.\\nG.\\nunallocated amounts programmed in the Proposition K Strategic Plan as\\nof the operative date of the 2022 Sales Tax.\\nAdministration Costs. Pursuant to Public Utilities Code Section\\n131107, not more than one percent of the annual net amount of revenues\\nraised by the 2022 Sales Tax may be used to administer the 2022\\nTransportation Expenditure Plan.\\nSuccessor Program. The 2022 Transportation Expenditure Plan shall\\nsupersede the Proposition K Expenditure Plan, adopted in 2003, as of the\\noperative date of the 2022 Sales Tax. As such it will bear responsibility for any\\noutstanding debt incurred by the Proposition K program, for reimbursement of\\neligible costs for outstanding balances on Proposition K grants, and for other\\nfinancial liabilities arising from the Proposition K program. All assets of the\\nProposition K program shall become Proposition _ program assets.\\nBonding Authority. The Transportation Authority shall be authorized to issue,\\nfrom time to time, limited tax bonds in an aggregate principal amount not to\\nexceed $1.91 billion, payable from the sales tax revenues generated pursuant to\\nthe 2022 Sales Tax. The Transportation Authority's bonding capacity shall be\\nseparate and distinct from that of the City and County of San Francisco.\\nAdministration by the San Francisco County Transportation Authority.\\nThe San Francisco County Transportation Authority, which currently allocates,\\nadministers, and oversees the expenditure of the existing Proposition K sales\\ntax for transportation, shall allocate, administer, and oversee the expenditure of\\nthe Proposition _ sales tax funds.\\nEnvironmental Review.\", 'e4a5ef4d-fe69-44a1-98c2-1178794c10fc': 'administrative and support services, and all business activities\\nnot otherwise exempt and not elsewhere subjected to a gross receipts tax rate or an\\nadministrative office tax by this Article 12-A-1 are:\\n43SANFR\\n232 MAY 10 F 1:30\\nDEPARTMENT OF ELECT(2) For the business activities of private education and health services and\\nadministrative and support services:\\n(B) For tax years 2022 and, if the Controller does not certify under\\nSection 953.10 that the 90% gross receipts threshold has been met for tax year 2023, for tax\\nyear 2023:\\n0.761% (e.g. $7.61 per $1,000) for taxable gross receipts between $0 and $1,000,000\\n0.798% (e.g. $7.98 per $1,000) for taxable gross receipts between $1,000,000.01 and\\n$2,500,000\\n0.87% (e.g. $8.70 per $1,000) for taxable gross receipts between $2,500,000.01 and\\n$25,000,000\\n0.943% (e.g. $9.43 per $1,000) for taxable gross receipts over $25,000,000\\n(C) For tax year 2023 if the Controller certifies under Section 953.10 that the\\n90% gross receipts threshold has been met for tax year 2023, and for tax year 2024 if the Controller\\ndoes not certify under Section 953.10 that the 95% gross receipts threshold has been met for tax\\nyear 2024:\\n0.788% (e.g. $7.88 per $1,000) for taxable gross receipts between $0 and $1,000,000\\n0.825% (e.g. $8.25 per $1,000) for taxable gross receipts between $1,000,000.01 and\\n$2,500,000\\n0.9% (e.g. $9 per $1,000) for taxable gross receipts between $2,500,000.01 and\\n$25,000,000\\n0.975% (e.g. $9.75 per $1,000) for taxable gross receipts over $25,000,', '51976430-1267-456d-8998-beec0fb8114e': '22SAM\\n2014 TE TO CATEGORY 5\\nSEC. 2804.6. HOMELESSNESS GROSS RECEIPTS TAX APPLICABLE TO\\nBUSINESS ACTIVITIES\\n\"DEPARTMENT ULECTION\\n(a) The homelessness gross receipts tax rates applicable to Category 5 Business Activities for\\ntax years beginning on or after January 1, 2025 are:\\n0% for taxable gross receipts between $0 and $1,000,000\\n0% for taxable gross receipts between $1,000,000.01 and $2,500,000\\n0% for taxable gross receipts between $2,500,000.01 and $25,000,000\\n0.574% for taxable gross receipts between $25,000,000.01 and $50,000,000\\n0.656% for taxable gross receipts between $50,000,000.01 and $75,000,000\\n0.656% for taxable gross receipts between $75,000,000.01 and $100,000,000\\n0.656% for taxable gross receipts between $100,000,000.01 and $150,000,000\\n0.738% for taxable gross receipts between $150,000,000.01 and $250,000,000\\n0.82% for taxable gross receipts between $250,000,000.01 and $500,000,000\\n0.82% for taxable gross receipts between $500,000,000.01 and $1,000,000,000\\n0.82% for taxable gross receipts over $1,000,000,000\\n(b) \"Category 5 Business Activities\" has the same meaning as in Section 953.24(b) of\\nArticle 12-A-1 of this Business and Tax Regulations Code.\\n(c) The amount of taxable gross receipts from Category 5 Business Activities subject to the\\nhomelessness gross receipts tax shall be three-quarters of the amount determined under Section 956.1\\nof Article 12-A-1 plus one-quarter of the amount determined under Section 956.2 of Article 12-A-1.\\n88SA\\nCO\\nSEC. 2804.7. HOMELESSNESS GROSS RECEIPTS TAX APPLICABLE TO CATEGORY 6\\nDEPARTMENT ELECTIO\\nBUSINESS ACTIVITIES.', '4dd254eb-771a-4bd8-b16e-611c25279a5b': \"Eligible project types include, but are not limited to: additional\\nfleet, level boarding at station platforms, additional train storage, track work, and\\nstation improvements. Includes planning, project development, and capital\\ncosts. Includes $10M in Priority 2 funding. Sponsor Agency: PCJPB. Total\\nFunding: $10M; EP: $10M.\\nV. Caltrain Downtown Rail Extension and Pennsylvania Alignment\\nCaltrain Downtown Rail Extension: The underground extension of the Caltrain\\ncommuter rail system from the current Caltrain San Francisco terminus into the\\nSalesforce Transit Center. Project designed to accommodate blended service\\nwith future California High-Speed Rail. Includes a new station at 4th and\\nTownsend Streets. Includes $300M in Priority 1 funds.\\nPennsylvania Alignment: Below-grade rail alignment extending south from the\\nplanned Downtown Rail Extension. Project will serve the Caltrain commuter rail\\nsystem and future California High-Speed Rail service. Pennsylvania Alignment\\nwill separate rail from surface-level conflicts with street users at 16th Street and\\nMission Bay Drive. Includes $10M in Priority 2 funds.\\nIncludes project development and capital costs. Sponsor Agencies: TJPA,\\nSFCTA. Total Funding: $5,000M; EP: $310M.\\nSupervisors Mandelman; Walton, Peskin, Ronen, Melgar, Stefani, Preston, Mar, Safai, Dorsey\\nBOARD OF SUPERVISORS\\nPage 3212\\n2 2 2 2\\nB.\\nTRANSIT MAINTENANCE AND ENHANCEMENTS\\ni.\\nMaintenance, Rehabilitation, and Replacement\\n1.\\nMuni. Programmatic improvements for upgrade, rehabilitation,\\nand replacement of Muni's capital assets, including transit and\\nparatransit vehicles, spare parts, and on-board equipment; transit\\nfacilities and facilities-related equipment; and transit guideways\\nand associated equipment. Eligible project types include but are\\nnot limited to the following: rail car, trolley coach, and motor coach\\nrenovation and replacement of buses with zero emission vehicles,\\nwhich may include additional vehicles added to the fleet to\\nmaintain current fleet passenger capacity (e.g., if electric buses\\nhave lower passenger capacity).\", 'bdde0812-7adf-4762-a598-db444eeb2dcf': '000,000.01 and $500,000,000\\n0.617% for taxable gross receipts between $500,000,000.01 and $1,000,000,000\\n0.617% for taxable gross receipts over $1,000,000,000\\n(3) For tax years beginning on or after January 1, 2028:\\n0.198% for taxable gross receipts between $0 and $1,000,000\\n0.215% for taxable gross receipts between $1,000,000.01 and $2,500,000\\n0.271% for taxable gross receipts between $2,500,000.01 and $25,000,000\\n0.366% for taxable gross receipts between $25,000,000.01 and $50,000,000\\n0.644% for taxable gross receipts between $50,000,000.01 and $75,000,000\\n0.644% for taxable gross receipts between $75,000,000.01 and $100,000,000\\n0.644% for taxable gross receipts between $100,000,000.01 and $150,000,000\\n0.644% for taxable gross receipts between $150,000,000.01 and $250,000,000\\n0.644% for taxable gross receipts between $250,000,000.01 and $500,000,000\\n0.644% for taxable gross receipts between $500,000,000.01 and $1,000,000,000\\n0.644% for taxable gross receipts over $1,000,000,000\\n552024 MAY 10 PH 1:30\\nDEL AF (b) \"Category 2 Business Activities\" means the business activities described in NAICS\\ncode 721 (Accommodation).\\n(c) The amount of taxable gross receipts from Category 2 Business Activities subject to the\\ngross receipts tax shall be the total amount of gross receipts derived from or related to real properties\\nlocated within the City.\\nSEC. 953.22. GROSS RECEIPTS TAX APPLICABLE TO CATEGORY 3 BUSINESS\\nACTIVITIES.\\n(a) The gross receipts tax rates applicable to Category 3 Business Activities are:\\n(1) For tax years 2025 and 2026:\\n0.413% for taxable gross receipts between $0 and $1,000,000\\n0.413% for taxable gross receipts between $1,', 'b3e37e85-266b-41ef-8853-146ff9f0b7a1': 'PERSONS OR COMBINED GROUPS ENGAGED IN MULTIPLE BUSINESS\\nACTIVITY CATEGORIES.\\nFor tax years beginning on or after January 1, 2025, if a person, or a combined group as\\ndescribed in Section 956.3, derives gross receipts from more than one of Business Activity\\nCategories 1 through 7, inclusive:\\n(a) If the person or combined group has $10,000 or less in gross receipts from any one of\\nBusiness Activity Categories 1 through 7, inclusive, before allocating or apportioning gross receipts\\nunder Section 956, such person or combined group may combine those gross receipts for all purposes\\nrelated to computing the gross receipts tax with the gross receipts from whichever of Business Activity\\nCategories 1 through 7, inclusive, generated the most gross receipts for the person or combined group,\\nbefore allocating or apportioning gross receipts under Section 956. If there is no Business Activity\\nCategory that generated the most gross receipts for the person or combined group because the person\\nor combined group generated the same amount of gross receipts from one or more Business Activity\\nCategories, then such person or combined group may combine the gross receipts in this subsection (a)\\nfor all purposes related to computing the gross receipts tax with the gross receipts from whichever\\nBusiness Activity Category has the highest rates among the Business Activity Categories that generated\\nthe same amount of gross receipts.\\n68SAIN CO\\n2020 MAY 10 PM 1:31\\n(b) If the person or combined group continues to derive gross receipts from more than one of\\nDEAD THEN OF CLECTIONS\\nBusiness Activity Categories 1 through 7, inclusive, after applying subsection (a) of this Section 953.27,\\nthen such person or combined group shall separately compute the gross receipts tax for each Business\\nActivity Category as provided in the Section applicable to that particular Business Activity Category as\\nfollows:\\n(1) The small business exemption provided in Section 954.1 shall apply only if the sum\\nof receipts within the City from all Business Activity Categories does not exceed the applicable\\nthreshold in Section 954.1 in total; and\\n(2) The gross receipts tax liability for the person or combined group shall be the sum of\\nthe liabilities for each Business Activity Category.\\nSEC. 954.1. SMALL BUSINESS EXEMPTION.', '8cb2d1e3-6299-4dc5-a946-3d40d87c7a6c': \"The application\\nshall be accompanied by the person's registration fee as determined under this Article 12,\\nexcept for the initial application filed for a person that is part of a combined group (as\\ndescribed in Section 956.3 of Article 12-A-1) where the combined group has already paid the\\nfee on a combined basis. A combined group as described in Section 956.3 of Article 12-A-1\\nshall apply for a separate certificate for each person in the combined group that is engaging in\\nbusiness within the City, but shall calculate and remit its fee on a combined basis and shall file\\nonly one application for renewal for all entities in the combined group.\\n(b) A person shall have 3045 days after commencing business within the City to apply\\nfor a registration certificate. The registration fee for newly-established businesses shall be\\nprorated as follows:\\n(1) For registration years commencing on or after July 1, 2015, but ending on or\\nbefore June 30, 2021, the fee for obtaining a registration certificate for a newly established\\nbusiness shall be determined pursuant to Section 855(a) of this Article 12 using the\\napplicant's estimated gross receipts under Article 12-A-1 (Gross Receipts Tax Ordinance) for\\n30SAN\\nCO\\n702 MAY 10 PM 1:29\\nthe tax year in which the person commences such business within the City. For persons\\nDEPARTMENT OF\\ncommencing business between January 1 and March 31, the registration fee shall be 50% of the annual\\nfee; for persons commencing business between April 1 and June 30, the registration fee shall be 25% of\\nthe annual fee; for persons commencing business between July 1 and September 30, the registration fee\\nshall be 100% of the annual fee; and for persons commencing business between October 1 and\\nDecember 31, the registration fee shall be 75% of the annual fee.\", 'b0191bad-e3e3-407d-b5d1-68d415efc9df': \"CITY AND\\nUNTY OF SAN FRANCISCO\\nCity and County of San Francisco\\nCertified Copy\\nOrdinance\\nCity Hall\\n1 Dr. Carlton B. Goodlett Place\\nSan Francisco, CA 94102-4689\\n[Initiative Ordinance - Business and Tax Regulations Code - Sales Tax for\\nTransportation Authority ]\\nSponsors: Mandelman; Walton, Peskin, Ronen, Melgar, Stefani, Preston, Mar, Safai\\nand Dorsey\\nOrdinance approving a new 2022 Transportation Expenditure Plan for the County\\nTransportation Authority and submitting to the voters at an election to be held on\\nNovember 8, 2022, an Ordinance amending the Business and Tax Regulations\\nCode to continue in effect the existing local transactions and use tax at the existing\\nrate of 0.5% for 30 years to fund transportation improvements under the 2022\\nTransportation Expenditure Plan; increasing the Transportation Authority's\\nappropriations limit by the amount collected under the transactions and use tax for\\nfour years from November 8, 2022; authorizing the Transportation Authority to issue\\nlimited tax bonds secured by transactions and use tax revenues; affirming the\\nTransportation Authority's determination under the California Environmental Quality\\nAct; and making findings of consistency with the General Plan, and the eight priority\\npolicies of Planning Code, Section 101.1.\\n7/12/2022 Board of Supervisors - PASSED ON FIRST READING\\nSAN FRANCISCO\\nFILED\\nRECTIONS\\n11:19\\nAyes: 11 Chan, Dorsey, Mandelman, Mar, Melgar, Peskin, Preston, Ronen, Safai,\\nStefani and Walton\\n7/19/2022 Board of Supervisors - FINALLY PASSED\\n-\\nAyes: 11 Chan, Dorsey, Mandelman, Mar, Melgar, Peskin, Preston, Ronen, Safai,\\nStefani and Walton\\n7/21/2022 Mayor - APPROVED\\nSTATE OF CALIFORNIA\\nCITY AND COUNTY OF SAN FRANCISCO\\nCLERK'S CERTIFICATE\\nI do hereby certify that the foregoing\\nOrdinance is a full, true, and correct copy of\\nthe original thereof on file in this office.\\nIN WITNESS WHEREOF, I have hereunto\\nset my hand and affixed the offical seal of the\\nCity and County of San Francisco.\", '1f0f110a-2d16-4860-abb1-4d0618ac6103': \"NN 66\\nSupervisors Mandelman; Walton, Peskin, Ronen, Melgar, Stefani, Preston, Mar, Safai, Dorsey\\nBOARD OF SUPERVISORS\\nPage1\\nSEC. 1405. CONTRACT WITH STATE.\\nPrior to the operative date April 1, 2023, the Authority shall contract with the State Board of\\nEqualizationCalifornia Department of Tax and Fee Administration to perform all functions incident\\nto the administration and operation of the Tax, in which case the operative date of the\\n2022 Transportation Expenditure Plan and the amendments to this Article 14 passed by the voters at\\nthe November 8, 2022 election shall be April 1, 2023-transactions and use tax authorized by this\\nordinance; provided that, if the Authority shall not have has not contracted with the State Board of\\nEqualizationCalifornia Department of Tax and Fee Administration prior to the operative\\ndateApril 1, 2023, it shall nevertheless so contract and in such a case the operative date of the\\n2022 Transportation Expenditure Plan and the amendments to this Article 14 passed by the voters at\\nthe November 8, 2022 election shall be the first day of the first calendar quarter following the\\nexecution of such a contract.\\nSEC. 1406. TRANSACTIONS TAX AND RATE OF 0.5%ONE-HALF OF ONE PERGENT.\\nFor the privilege of selling tangible personal property at retail, the existing #Tax is hereby\\ncontinued to be imposed upon all retailers in this District at the rate of 0.5%one-half of one percent\\nof the gross receipts of any retailer from the sale of all tangible personal property sold at retail\\nin this District on and after the operative date April 1, 1990.\\n10 0 2 2\\nSEC. 1407. PLACE OF SALE.\\nFor the purposes of this ordinance Article 14, all retail sales are consummated at the\\nplace of business of the retailer unless the tangible personal property sold is delivered by the\\nretailer or histhe retailer's agent to an out-of-state destination or to a common carrier for\\ndelivery to an out-of-state destination.\", '84fc9efa-48a5-48f7-baab-2ecd57cac5a4': '(6) Except as provided in subparagraphsubsection (7) of this subsection (c), a\\nretailer engaged in business in the District shall not be required to collect use tax from the\\npurchaser of tangible personal property, unless the retailer ships or delivers the property into\\nthe District or participates within the District in making the sale of the property, including, but\\nnot limited to, soliciting or receiving the order, either directly or indirectly, at a place of\\nbusiness of the retailer in the District or through any representative, agent, canvasser, solicitor,\\nsubsidiary, or person in the District under the authority of the retailer.\\n(7) \"A retailer engaged in business in the District\" shall also include any retailer\\nof any of the following: vehicles subject to registration pursuant to Chapter 1 (commencing\\nwith Section 4000) of Division 3 of the California Vehicle Code, aircraft licensed in compliance\\nwith Section 21411 of the California Public Utilities Code, or undocumented vessels registered\\nunder Chapter 2 of Division 3.5 (commencing with Section 98509840) of the California Vehicle\\n18 Code. That retailer shall be required to collect use #Tax from any purchaser who registers or\\nlicenses the vehicle, vessel, or aircraft at an address in the District.\\n심 ㅎㅎ사\\n~ ~ ~ ~ 2\\n(d) Any person subject to use #Tax under this ordinance Article 14 may credit against\\nthat #Tax any transactions tax or reimbursement for transactions tax paid to a district imposing\\nor retailer imposing liable for, a transactions tax pursuant to Part 1.6 (commencing with\\nSection 7251) and Part 1.7 (commencing with Section 7280) of Division 2 of the California Revenue\\nand Taxation Code with respect to the sale to the person of the property, the storage, use, or\\nother consumption of which is subject to the use #Tax.\\nSupervisors Mandelman; Walton, Peskin, Ronen, Melgar, Stefani, Preston, Mar, Safai, Dorsey\\nBOARD OF SUPERVISORS\\nPage 141\\nSEC. 1413. AUTHORIZATION AND LIMITATION ON ISSUANCE OF BONDS.\\nThe Authority is hereby authorized to issue from time to time limited tax bonds pursuant\\nto the provisions of California Public Utilities Code Sections 131109 et seq.', 'a9afb375-c575-4e26-8b09-f64a1c31dd1a': '000,000\\n0.413% for taxable gross receipts between $1,000,000.01 and $2,500,000\\n0.435% for taxable gross receipts between $2,500,000.01 and $25,000,000\\n0.435% for taxable gross receipts between $25,000,000.01 and $50,000,000\\n0.435% for taxable gross receipts between $50,000,000.01 and $75,000,000\\n0.435% for taxable gross receipts between $75,000,000.01 and $100,000,000\\n0.435% for taxable gross receipts between $100,000,000.01 and $150,000,000\\n0.435% for taxable gross receipts between $150,000,000.01 and $250,000,000\\n0.435% for taxable gross receipts between $250,000,000.01 and $500,000,000\\n0.435% for taxable gross receipts between $500,000,000.01 and $1,000,000,000\\n0.435% for taxable gross receipts over $1,000,000,000\\n(2) For tax year 2027:\\n0.43% for taxable gross receipts between $0 and $1,000,000\\n0.43% for taxable gross receipts between $1,000,000.01 and $2,500,000\\n0.452% for taxable gross receipts between $2,500,000.01 and $25,000,000\\n58SAN FRANC CO\\n2074 MAY 10 PM 1:30\\nCEPARINE ELECTIONS\\n0.452% for taxable gross receipts between $25,000,000.01 and $50,000,000\\n0.465% for taxable gross receipts between $50,000,000.01 and $75,000,000\\n0.465% for taxable gross receipts between $75,000,000.01 and $100,000,000\\n0.465% for taxable gross receipts between $100,000,000.01 and $150,000,000\\n0.465% for taxable gross receipts between $150,000,000.01 and $250,000,000\\n0.465% for taxable gross receipts between $250,000,000.01 and $500,000,000\\n0.', 'ef28fc37-4b70-4b38-ad44-393671691283': \"Supervisors Mandelman; Walton, Peskin, Ronen, Melgar, Stefani, Preston, Mar, Safai, Dorsey\\nBOARD OF SUPERVISORS\\nPage 541\\nSection 11. Pursuant to California Public Utilities Code Section 131055, the Board of\\nSupervisors hereby directs that the 2022 Transportation Expenditure Plan shall be published\\nonce in the official newspaper of the City and County within 30 days of the Board of\\nSupervisors' enactment of this ordinance. Enactment occurs when the Mayor signs the\\nordinance, the Mayor returns the ordinance unsigned or does not sign it within 10 days of\\nreceiving it, or the Board overrides the Mayor's veto of the ordinance.\\nSection 12. Environmental and Land Use Findings.\\n(a) The Authority has determined that the actions contemplated in this ordinance are\\nnot a project and not subject to the California Environmental Quality Act (California Public\\nResources Code Sections 21000 et seq.). Said determination is on file with the Clerk of the\\nBoard of Supervisors in File No. 220536 and is incorporated herein by reference. The Board\\naffirms this determination.\\n(b) On March 23, 2022, the Planning Department determined that the actions\\ncontemplated in this ordinance are consistent, on balance, with the City's General Plan and\\neight priority policies of Planning Code Section 101.1. The Board adopts this determination\\nas its own. A copy of said determination is on file with the Clerk of the Board of Supervisors in\\nFile No. 220536, and is incorporated herein by reference.\\nBy:\\nAPPROVED AS TO FORM:\\nDAVID CHIU, City Attorney\\n/s/ Carole F. Ruwart\\nCAROLE F. RUWART\\nDeputy City Attorney\\nn:\\\\legana\\\\as2022\\\\2200090\\\\01599023.docx\\nSupervisors Mandelman; Walton, Peskin, Ronen, Melgar, Stefani, Preston, Mar, Safai, Dorsey\\nBOARD OF SUPERVISORS\\nPage 55CITY AND\\nAL OF THE\\nCOUNTY\\nNTY OF SAN\\nCity and County of San Francisco\\nTails\\nOrdinance\\nCity Hall\\n1 Dr.\", '0507ad38-4bd2-44f9-a456-035e5439bc44': 'General Provisions\\nA.\\nSales Tax Revenues. The 2022 Transportation Expenditure Plan shall\\nsupersede the Proposition K Expenditure Plan, adopted in 2003, as of the\\noperative date of the 2022 Sales Tax, which shall be at the same one-half\\npercent rate as approved by San Francisco voters in November 2003 as\\nProposition K, and shall be imposed for the 30-year duration of the 2022\\nTransportation Expenditure Plan.\\nRevenues from the 2022 Sales Tax are estimated under two scenarios over the\\n30-year period of the 2022 Transportation Expenditure Plan, both of which are\\nnet of an estimated $550 million in Proposition K financial liabilities (See\\nSection D, Successor Program). The conservative projection, which\\ncorresponds to Priority 1 funding levels, puts the total revenue level at $2.378\\nbillion (2020 dollars). This scenario reflects an average growth rate of 2.1%,\\nand an inflation-based discount rate of 3%. The more optimistic revenue\\nprojection, which corresponds to Priority 2 funding levels, reflects an average\\ngrowth rate of 2.6%, and an inflation-based discount of 3%.\\nSupervisors Mandelman; Walton, Peskin, Ronen, Melgar, Stefani, Preston, Mar, Safai, Dorsey\\nBOARD OF SUPERVISORS\\nPage 23- 2 3 4\\nB.\\nC.\\nFiscal Constraint. The 2022 Transportation Expenditure Plan is fiscally\\nconstrained to the total funding expected to be available for each category (i.e.,\\npercent of revenues designated for each category) and by the funding caps\\nestablished for each program. The financial constraint is further detailed within\\neach program through the specification of funding priority levels, i.e., Priority 1\\nand Priority 2 (See Section 4 Description of Programs).\\nRestriction of Funds. 2022 Sales Tax revenues shall be spent on capital\\nprojects rather than to fund operations and maintenance of existing\\ntransportation services, unless otherwise explicitly specified in the Section 4,\\nDescription of Programs. In accordance with enabling legislation and adopted\\nprinciples, 2022 Sales Tax revenues generated pursuant to this plan shall be\\nsubject to the following restrictions:\\nNo Substitution.\\ni.\\na.\\nNNNNNN Òào v ŏ Ğ À\\nii.', 'd6e406f8-e7e4-4718-9b14-b0134e92f73b': \"(c) This ordinance should be interpreted to achieve the following purposes:\\n(1) To continue the Authority in effect as currently constituted to impose the tax,\\nadminister the 2022 Transportation Expenditure Plan, and issue the authorized limited tax\\nbonds at the Authority's discretion.\\nSupervisors Mandelman; Walton, Peskin, Ronen, Melgar, Stefani, Preston, Mar, Safai, Dorsey\\nBOARD OF SUPERVISORS\\nPage 2(2) To continue in effect the existing tax at the existing 0.5% rate to fund the\\n2022 Transportation Expenditure Plan for 30 years from the operative date of the\\namendments to Business and Tax Regulations Code Article 14 approved by the voters at the\\nNovember 8, 2022 election in accordance with the provisions of Part 1.6 (commencing with\\nSection 7251) of Division 2 of the California Revenue and Taxation Code and Division 12.5\\n(commencing with Section 131000) of the California Public Utilities Code.\\n(3) To implement the 2022 Transportation Expenditure Plan, which supersedes\\nthe existing New Transportation Expenditure Plan adopted as Proposition K in\\nNovember 2003. The 2022 Transportation Expenditure Plan sets forth the transportation\\nprojects, programs, and other improvements to be funded with the revenues from the tax, and\\nspecifies eligibility and other conditions and criteria under which such revenues shall be made\\navailable for expenditure.\\n(4) To authorize the issuance from time to time of limited tax bonds not to\\nexceed an aggregate principal amount of $1,910,000,000 to finance the projects specified in\\nthe 2022 Transportation Expenditure Plan.\\n(5) To increase the appropriations limit for the Authority pursuant to California\\nConstitution Article XIIIB.\\n2 2 2 1\\nSection 2.\", '63824414-1267-4b9b-aba7-33643015c3b8': 'SARI\\nдо\\n202 BAY 10 FA 1:32\\nyear by 52, and dividing the result by the number of weeks that the employee was employed by that\\nperson or combined group during the tax year.\\n\"Highest-Paid Managerial Employee\" means the individual employee or officer of a\\nperson or combined group with managerial responsibility in a business function who received the most\\nCompensation for a tax year. For purposes of determining the Highest-Paid Managerial Employee and\\nthe Compensation of such employee, Compensation shall not be annualized or converted to a full-time\\nequivalency.\\nSEC. 3303. IMPOSITION OF TAX.\\n(a) Except as otherwise provided in this Article 33, commencing with tax years\\nbeginning on or after January 1, 2022, for the privilege of engaging in business in the City, the\\nCity imposes an annual Overpaid Executive Gross Receipts Tax on each person engaging in\\nbusiness within the City where the Executive Pay Ratio for the tax year of that person or the\\ncombined group of which it is a part exceeds 100:1.', '7b4880b6-4e47-42c2-98f3-adfe15a2e887': '64% (e.g. $6.40 per $1,000) for taxable gross receipts between $0 and $1,000,000\\n0.736% (e.g. $7.36 per $1,000) for taxable gross receipts between $1,000,000.01 and\\n$2,500,000\\n0.816% (e.g. $8.16 per $1,000) for taxable gross receipts between $2,500,000.01 and\\n$25,000,000\\n0.896% (e.g. $8.96 per $1,000) for taxable gross receipts over $25,000,000\\n49SANTA\\nSTATE AND RENTA\\nSEC. 953.7. GROSS RECEIPTS TAX APPLICABLE TO REAL ESTATE AND RENTAL\\nDEPARTMENT UN SLECTIO\\nAND LEASING SERVICES.\\n(a) The gross receipts tax rates applicable to the business activities of real estate and\\nrental and leasing services are:\\n(3) For tax years 2022 and, if the Controller does not certify under Section 953.10\\nthat the 90% gross receipts threshold has been met for tax year 2023, for tax year 2023:\\n0.413% (e.g. $4.13 per $1,000) for taxable gross receipts between $0 and $1,000,000\\n0.413% (e.g. $4.13 per $1,000) for taxable gross receipts between $1,000,000.01 and\\n$5,000,000\\n0.435% (e.g. $4.35 per $1,000) for taxable gross receipts between $5,000,000.01 and\\n$25,000,000\\n0.435% (e.g. $4.35 per $1,000) for taxable gross receipts over $25,000,000\\n(4) For tax year 2023 if the Controller certifies under Section 953.10 that the 90%\\ngross receipts threshold has been met for tax year 2023, and for tax year 2024 if the Controller does\\nnot certify under Section 953.10 that the 95% gross receipts threshold has been met for tax year 2024:\\n0.428% (e.g. $4.28 per $1,', '03937d38-8434-41d2-8b7f-c07b31d0e544': 'Notwithstanding the preceding sentence, any person\\ntaking the Payroll Expense Tax Exclusion Credit in Section 960 of Article 12-A-1 must file a\\nGross Receipts Tax return, regardless of whether such person qualifies for the small business\\nexemption from the Gross Receipts Tax. A person or combined group that qualifies for the small\\nbusiness exemption in Section 2106 of Article 21 shall be exempt from filing an Early Care and\\nEducation Commercial Rents Tax return, and except that any person taking the credit for child care\\n4SAN di co\\n2024 HAT 10 PM 1: 28\\nfacilities in Section 2106.1 of Article 21 must file an Early Care and Education Commercial\\nULPARTMENT OF ALECTICING\\nRents Tax return, regardless of whether such person qualifies for the small business\\nexemption from the Gross Receipts Early Care and Education Commercial Rents Tax. This\\nsubsection (c)(2) shall not apply to persons or combined groups subject to taxes on administrative\\noffice business activities in Section 953.8 of Article 12-A-1, Sections 2804(d) or 2804.9 of Article 28, or\\nSection 3303(g) of Article 33.\\n(3) Estimated Tax Payments. Except as provided in Section 6.9-1(c)(3)(D)\\nwith respect to estimated tax payments of the Gross Receipts Tax, Homelessness Gross Receipts\\nTax, and Overpaid Executive Gross Receipts Tax, every person or combined group liable for\\npayment of the Gross Receipts Tax (Article 12-A-1) (including the tax on administrative office\\nbusiness activities imposed under Section 953.8 of Article 12-A-1), the Early Care and\\nEducation Commercial Rents Tax (Article 21), the Homelessness Gross Receipts Tax\\n(Article 28) (including the homelessness administrative office tax imposed under\\nSection 2804(d) or Section 2804.9 of Article 28), the Cannabis Business Tax (Article 30), or the\\nOverpaid Executive Gross Receipts Tax (Article 33) (including the overpaid executive\\nadministrative office tax imposed under Section 3303(ag) of Article 33) shall make three\\nestimated tax payments, in addition to the annual payments in Section 6.9-1(c)(1), as follows:\\n(A) Due Dates.', '8096bfdb-958e-4829-ab28-068b68c615c9': '(c) To implement a New Transportation Expenditure Plan which supersedes the existing\\nTransportation Expenditure Plan adopted in 1989, sets forth the transportation projects, programs and\\nother improvements to be funded over the next 30 years with the revenues resulting from the\\ncontinuation of the tax, specifies eligibility and other conditions and criteria under which such\\nrevenues shall be made available, and makes provisions for the adoption of future expenditure plan\\nupdates.\\nSupervisors Mandelman; Walton, Peskin, Ronen, Melgar, Stefani, Preston, Mar, Safai, Dorsey\\nBOARD OF SUPERVISORS\\nPage 51\\n+\\nThis Article 14 is intended to achieve the following, among other purposes, and directs that the\\nprovisions of this Article be interpreted to accomplish these purposes:\\n(d)(a) To incorporate provisions identical to those of the Sales and Use Tax Law of the\\nState of California insofar as those provisions are not inconsistent with the requirements and\\n5 limitations contained in Part 1.6 (commencing with Section 7251) of Division 2 of the California\\nRevenue and Taxation Code.\\n2 2 2 2\\n(e) (b) To impose a transactions and use tax in accordance with the provisions of Part 1.6\\n(commencing with Section 7251) of Division 2 of the California Revenue and Taxation Code and\\nDivision 12.5 (commencing with section 131000) of the California Public Utilities Code and provide a\\nmeasure therefor that can be administered and collected by the State Board of\\nEqualizationCalifornia Department of Tax and Fee Administration in a manner that adapts itself as\\nfully as practicable to, and requires the least possible deviation from, the existing statutory\\nand administrative procedures followed by the State Board of EqualizationCalifornia Department\\nof Tax and Fee Administration in administering and collecting the California State Sales and Use\\nTax.\\n(c) To authorize administration of a transactions and use tax in a manner that will, to\\nthe highest degree possible consistent with the provisions of Part 1.6 (commencing with\\nSection 7251) of Division 2 of the California Revenue and Taxation Code, minimize the cost of\\ncollecting the transactions and use taxes Tax and at the same time minimize the burden of\\nrecordkeeping upon persons subject to taxation under the provisions of this\\nordinanceArticle 14.', '3985427c-5e9b-40da-a7c4-1f0e678429e2': 'SEC. 6.8-2. CREDITS AND EXEMPTIONS; TAX DIFFERENCES.\\nThe credits, and exemptions, and differences in tax treatment set forth in Articles 6, 7, 8, 9,\\n10, 10B, 11, 12, 12-A-1, 12-C, 21, 28, 29, 29A, 30, 32, and 33 of this Business and Tax\\nRegulations Code, in laws applicable to fees administered pursuant to this Article 6, and in laws\\napplicable to assessments levied pursuant to the Property and Business Improvement District\\nLaw of 1994 (California Streets and Highways Code sections 36600 et seq.) or Article 15 of\\nthis Code, are provided on the assumption that the City has the power to authorizeeffer such\\n2SARL\\n2020 MAY 10 FHM 1:27\\ncredits, and exemptions, and differences in tax treatment. If a credit, ore\\nor exemption, or difference in\\ntax treatment is invalidated by a court of competent jurisdiction, the taxpayer must pay any\\nadditional amount that the taxpayer would have owed but for such invalid credit, or exemption,\\nor difference in tax treatment. Amounts owed as a result of the invalidation of a credit, or\\nexemption, or difference in tax treatment that are paid within three years after the decision of the\\ncourt becomes final shall not be subject to interest or penalties.\\nSEC. 6.9-1. RETURNS AND PAYMENTS.\\n(a) Returns Generally. Except as otherwise provided in this Business and Tax\\nRegulations Code, on or before the due date, or in the event of cessation of business within\\n3015 days of such cessation, each taxpayer shall file a return for the subject period on a form\\nprovided by the Tax Collector, regardless of whether there is a tax liability owing. A taxpayer\\nwho has not received a return form from the Tax Collector is responsible for obtaining such\\nform and filing a return, and the failure of the Tax Collector to furnish the taxpayer with a\\nreturn shall not relieve the taxpayer of any payment or filing obligation. Returns shall show\\nthe amount of tax paid, collected, or otherwise due for the subject period and such other\\ninformation as the Tax Collector may require.', '54b390fc-dbbd-4157-be12-8faef23b9f01': 'Total Funding:\\n$146.5M; EP: $23M.\\nTransportation, Land Use, and Community Coordination\\nii.\\n1.\\nNeighborhood Transportation Program. The Neighborhood\\nTransportation Program (NTP) funds community-based\\nneighborhood-scale transportation improvements. The NTP has a\\nplanning component to fund community-based planning efforts in\\neach Supervisorial district, and a capital component intended to\\nprovide local match to help advance and implement capital\\ninvestment and pilot recommendations stemming from NTP and\\nother community-based planning efforts. Eligible project types are\\nthose that are eligible for other 2022 Transportation Expenditure\\nPlan programs and result in public-facing benefits. Additional\\nproject types include: transportation policy studies, pilots, and\\nprojects to address climate change (e.g., electric vehicle charging\\ninfrastructure) and gaps in equitable access. Includes planning,\\nproject development, and capital costs. Sponsor Agencies:\\nSFCTA, SFMTA, SFPW, Planning. Includes $41M in Priority 1\\nand the remainder is Priority 2. Total Funding: $191.2M; EP:\\n$46M.\\nSupervisors Mandelman; Walton, Peskin, Ronen, Melgar, Stefani, Preston, Mar, Safai, Dorsey\\nBOARD OF SUPERVISORS\\nPage 421\\n+\\n심 ㅎㅎ\\n2.\\n3.\\nEquity Priority Transportation Program. The Equity Priority\\nTransportation Program (EPTP) funds equity priority community-\\nbased projects in underserved neighborhoods and areas with\\nvulnerable populations (e.g., low-income communities, seniors,\\nchildren, and/or people with disabilities) as well as citywide equity\\nevaluations and planning efforts. The EPTP has a planning\\ncomponent to fund community-based planning efforts, and a\\ncapital component to provide local match funds to help advance\\nand implement capital investment and pilot recommendations\\nstemming from community-based planning and equity\\nassessments. Eligible project types are those that are eligible for\\nother 2022 Transportation Expenditure Plan programs, as well as\\nprojects that help reduce disparities and gaps in equitable access\\n(physical, geographic, affordability) to jobs and key services.\\nIncludes planning, project development, and capital costs.\\nSponsor Agencies: SFCTA, SFMTA, SFPW, Planning.', 'ba8332ec-87e7-4ee3-ba57-ce0c94a0a202': '10 that the\\n90% gross receipts threshold has been met for tax year 2023, and for tax year 2024 if the Controller\\ndoes not certify under Section 953.10 that the 95% gross receipts threshold has been met for tax\\nyear 2024:\\n45SANTEMAS\\nCO\\nZUZU MAY LO PJ: 30\\n$1,000\\n0.814% (e.g. $8.14 per $1,000) for taxable gross receipts between $0 and $1,000,000\\nDEPARTMENT EVELYNE\\n0.853% (e.g. $8.53 per $1,000) for taxable gross receipts between $1,000,000.01 and\\n$2,500,000\\n0.93% (e.g. $9.30 per $1,000) for taxable gross receipts between $2,500,000.01 and\\n$25,000,000\\n1.008% (e.g. $10.08 per $1,000) for taxable gross receipts over $25,000,000\\n(D) For tax year 2024 if the Controller certifies under Section 953.10 that the\\n95% gross receipts threshold has been met for tax year 2024, and for tax years beginning on or after\\nJanuary 1, 2025:\\n0.84% (e.g. $8.40 per $1,000) for taxable gross receipts between $0 and $1,000,000\\n0.88% (eg, $8.80 per $1,000) for taxable gross receipts between $1,000,000.01 and\\n$2,500,000\\n0.96% (e.g. $9.60 per $1,000) for taxable gross receipts between $2,500,000.01 and\\n$25,000,000\\n1.04% (e.g. $10.40 per $1,000) for taxable gross receipts over $25,000,000\\nSEC. 953.5. GROSS RECEIPTS TAX APPLICABLE TO CONSTRUCTION.', 'abee44d7-5bc7-4f46-8558-89f660e65a4e': \"The registration fee shall be prorated as\\nfollows: For persons commencing business between January 1 and March 31, the registration fee shall\\nbe 25% of the annual fee; for persons commencing business between April 1 and June 30, the\\nregistration fee shall be 100% of the annual fee; for persons commencing business between July 1 and\\nSeptember 30, the registration fee shall be 75% of the annual fee; and for persons commencing\\nbusiness between October 1 and December 31, the registration fee shall be 50% of the annual fee.\\n(52) Notwithstanding any other provision of this Article 12, no person obtaining a\\nregistration certificate for a newly established business that qualifies for the minimum\\nregistration fee set forth in Section 855 of this Article shall be entitled to prorate the\\nregistration fee under this Section 856, but instead shall pay the minimum registration fee.\\n(c) Except as provided in Section 6.9-4(b) of Article 6 of this Business and Tax Regulations\\nCode, aAll applications for renewal of registration certificates shall be accompanied by the full\\namount of the applicant's annual registration fee for the period covered by the registration\\ncertificate. A combined group shall file only one application for renewal for all entities in the\\ncombined group.\\n(d) Promptly after receiving a properly completed application and registration fee_(or\\nRequired Payment under Section 6.9-4(b)) from any person, the Tax Collector shall determine\\nwhether the applicant has paid all outstanding: (1) gross receipts taxes; (2) payroll expense\\ntaxes; (23) costs and/or charges assessed pursuant to Article 5.1 of the Public Works Code, as\\namended from time to time, for failure to abate a nuisance regarding the cleanliness of an\\nabutting public sidewalk or right-of-way; and (34) other taxes and license fees due to the City.\\nIn addition, the Tax Collector may investigate whether the applicant has paid other amounts\\n32SANTRANC Co\\n2074 MAY 10 PM 1:29.\\nowing to the City as a result of fines, penalties, interest, assessments, or any other financial\\nDEPARTMERY OF ELECTIO/18\\nobligations imposed by law, regulation, or contract.\", '94e83ab7-72d3-41ba-b66f-dfb210dd86d0': \"The credit shall be in an amount per tax year, not to exceed $1,000,000 per tax year,\\ncalculated as follows:\\n(1) Efor a person or combined group not engaged in business within the City as\\nan administrative office, as defined in Section 953.8 of Article 12-A-1,\\n(A) For tax years ending on or before December 31, 2024, 0.45% of the\\nperson or combined group's taxable gross receipts during the tax year from one or more of\\nthe business activities of information, administrative and support services, financial services,\\ninsurance, and professional, scientific and technical services, as those activities are defined in\\nSections 953.2, 953.4, and 953.6 of this Article 12-A-1, without regard to any application of\\nSection 953.9 of Article 12-A-1; and\\n(B) For tax years beginning on or after January 1, 2025, 0.45% of the person or\\ncombined group's taxable gross receipts during the tax year from one or more of Business Activity\\nCategories 5 and 6, as described in Sections 953.24 and 953.25 of this Article 12-A-1, and business\\nactivities described in NAICS codes 524 (Insurance Carriers and Related Activities), 5611 (Office\\nAdministrative Services), 5612 (Facilities Support Services), 5613 (Employment Services).\\n5614 (Business Support Services), 5615 (Travel Arrangement and Reservation Services),\\n5616 (Investigation and Security Services), 5617 (Services to Buildings and Dwellings), and\\n5619 (Other Support Services); or\\n75SA\\nWAY TO PA 1:3 (2) Efor a person or combined group engaged in business within the City as an\\nadministrative office, as defined in Section 953.8 of Article 12-A-1, 0.7% of the person or\\ncombined group's taxable payroll expense during the tax year.\", '53fb753c-a6c9-4bb4-9344-4f60f8cc8ef3': \"(b) Combined gross receipts are the total worldwide gross receipts of the person and\\nall related entities to the person, unless the election provided for in California Revenue and\\nTaxation Code Section 25110 is in effect for the person, in which case combined gross\\nreceipts shall be computed consistently with the water's edge election, as set forth therein.\\n(c) Combined payroll is the total worldwide compensation paid by the person and all\\nrelated entities to the person, unless the election provided for in California Revenue and\\nTaxation Code Section 25110 is in effect for the person, in which case combined payroll shall\\nbe computed consistently with the water's edge election, as set forth therein. A person who\\n72SALA 50\\nhas no combined payroll in a tax year shall have no gross receipts under this Section for that\\nDEPARTMENT OF LECT\\ntax year.\\n(d) Payroll in the City is the total amount paid for compensation in the City by the\\nperson and by all related entities to the person.\\n(e) Compensation paid in the City shall be determined as follows:set forth in\\nSection 953.8)(4).\\n(1) Where compensation is paid by reason of work performed or services rendered by\\nan individual wholly within the City, all of the compensation for such individual shall be attributable to\\nthe City.\\n(2) Where compensation is paid by reason of work performed or services rendered by\\nan individual partly within and partly without the City, the portion of such compensation attributable to\\nthe City shall be determined as follows:\\n(A) Except as otherwise provided in this Section 956.2(e), the portion of such\\ncompensation attributable to the City shall be the portion of such compensation which the total number\\nof working hours employed within the City bears to the total number of working hours within and\\nwithout the City.\\n(B) If the amount of such compensation depends on the volume of business\\ntransacted by such individual, then the portion of such compensation attributable to the City shall be\\nthe portion of such compensation which the volume of business transacted by such individual in the\\nCity bears to the volume of business transacted by such individual within and without the City.\", 'bd6abf3d-0a49-4a9b-a2e9-59ccc4b34619': \"(2) For registration years commencing on or after July 1, 2021, and ending on or\\nbefore June 30, 2025, the fee for obtaining a registration certificate for a newly established\\nbusiness shall be determined pursuant to Section 855(b) of this Article 12 using the applicant's\\nestimated gross receipts under Article 12-A-1 (Gross Receipts Tax Ordinance) for the tax year\\nin which the person commences such business within the City. The registration fee shall be\\nprorated as follows: For persons commencing business between January 1 and March 31,\\nthe registration fee shall be 50% of the annual fee; for persons commencing business\\nbetween April 1 and June 30, the registration fee shall be 25% of the annual fee; for persons\\ncommencing business between July 1 and September 30, the registration fee shall be 100%\\nof the annual fee; and for persons commencing business between October 1 and\\nDecember 31, the registration fee shall be 75% of the annual fee. Where a registration\\ncertificate is issued for a period other than for a registration year, the Tax Collector shall have\\ndiscretion to prorate the registration fee in accordance with this model.\\n(3) For the 2025-2026 registration year, the fee for obtaining a registration certificate\\nfor a newly established business shall be determined pursuant to Section 855(c) of this Article 12 using\\nthe applicant's estimated San Francisco Gross Receipts for the tax year in which the person\\ncommences such business within the City. The registration fee for the 2025-2026 registration year\\nshall not be prorated.\\n31SAN 20\\n207 MAY 10 FM 1:29\\nFor registration years commencing on or after April 1, 2026, the fee for obtaining a\\nDEPARTMENT OF ELECT (4) 1\\nregistration certificate for a newly established business shall be determined pursuant to Section 855(d)\\nof this Article 12 using the applicant's estimated San Francisco Gross Receipts for the tax year in\\nwhich the person commences such business within the City.\", '0e53208c-baf7-4e80-a691-bbe5710a79ef': '10 that the\\n90% gross receipts threshold has been met for tax year 2023, and for tax year 2024 if the Controller\\ndoes not certify under Section 953.10 that the 95% gross receipts threshold has been met for tax\\nyear 2024:\\n42SAN LANCI Co\\nFILED\\n2024 MAY 10 PH 1:29\\n0.45% (e.g. $4.50 per $1,000) for taxable gross receipts between $0 and $1,000,000\\nDEPARTMENT OF ELECTIONS\\n0.488% (e.g. $4.88 per $1,000) for taxable gross receipts between $1,000,000.01 and\\n$2,500,000\\n0.488% (e.g. $4.88 per $1,000) for taxable gross receipts between $2,500,000.01 and\\n$25,000,000\\n0.6% (e.g. $6 per $1,000) for taxable gross receipts over $25,000,000\\n(D) For tax year 2024 if the Controller certifies under Section 953.10 that the\\n95% gross receipts threshold has been met for tax year 2024, and for tax years beginning on or after\\nJanuary 1, 2025:\\n0.465% (e.g. $4.65 per $1,000) for taxable gross receipts between $0 and $1,000,000\\n0.504% (e.g. $5.04 per $1,000) for taxable gross receipts between $1,000,000.01 and\\n$2,500,000\\n0.504% (e.g. $5.04 per $1,000) for taxable gross receipts between $2,500,000.01 and\\n$25,000,000\\n0.62% (e.g. $6.20 per $1,000) for taxable gross receipts over $25,000,000\\nSEC. 953.4. GROSS RECEIPTS TAX APPLICABLE TO PRIVATE EDUCATION AND\\nHEALTH SERVICES; ADMINISTRATIVE AND SUPPORT SERVICES; AND\\nMISCELLANEOUS BUSINESS ACTIVITIES.\\n(a) The gross receipts tax rates applicable to the business activities of private\\neducation and health services, administrative and support services,', 'bfa2bcf8-9245-43be-941f-0f050286e82e': \"(B) Gross Receipts Tax Estimated Tax Payments. A person or\\ncombined group's estimated tax payments of Gross Receipts Tax, including the tax on\\nadministrative office business activities imposed under Section 953.8 of Article 12-A-1, shall\\neach equal the lesser of:\\n(i) 25% of the Gross Receipts Tax liability (including any liability\\nfor the tax on administrative office business activities imposed under Section 953.8 of\\nArticle 12-A-1) shown on the person or combined group's return for the tax year (or, if no\\nreturn is filed, 25% of the person or combined group's actual Gross Receipts Tax liability for\\nthe tax year); or\\n(ii) 25% of the Gross Receipts Tax liability (including any liability\\nfor the tax on administrative office business activities imposed under Section 953.8 of\\nArticle 12-A-1) as determined by applying the applicable Gross Receipts Tax rates and small business\\nexemption in Section 954.1 of Article 12 A 1 for the current tax year to the taxable gross receipts\\nshown on the person or combined group's return for the preceding tax year (or, if subject to the\\ntax on administrative office business activities imposed under Section 953.8 of Article 12 A 1 for the\\npreceding tax year, by applying the applicable-administrative office tax rate for the current tax year to\\nthe total payroll expense attributable to the City shown on the person or combined group's return for\\nthe preceding tax year). If the person or combined group did not file a return for the preceding tax\\nyear and timely requested an extension under Section 6.9-4 of this Article 6 to file that return, the\\nperson or combined group's Gross Receipts Tax liability (including any liability for the tax on\\nadministrative office business activities) for the preceding tax year for purposes of this\\nsubsection (c)(3)(B)(ii) shall be deemed to be the amount of any payment required under Section 6.9-4\\n6SAN\\n207 NA 10 PM 1:28\\nas a condition of such extension.\", '1464d86f-135c-4a8d-bf4d-6a433a45c23e': 'if the Controller does not certify under\\nSection 953.10 that the 90% gross receipts threshold has been met for tax year 2023, for tax\\nyear 2023:\\n0.573% (e.g. $5.73 per $1,000) for taxable gross receipts between $0 and $1,000,000\\n0.665% (e.g. $6.65 per $1,000) for taxable gross receipts between $1,000,000.01 and\\n$2,500,000\\n0.751% (e.g. $7.51 per $1,000) for taxable gross receipts between $2,500,000.01 and\\n$25,000,000\\n0.832% (e.g. $8.32 per $1,000) for taxable gross receipts over $25,000,000\\n(C) For tax year 2023 if the Controller certifies under Section 953.10 that the\\n90% gross receipts threshold has been met for tax year 2023, and for tax year 2024 if the Controller\\ndoes not certify under Section 953.10 that the 95% gross receipts threshold has been met for tax\\nyear 2024:\\n0.579% (e.g. $5.79 per $1,000) for taxable gross receipts between $0 and $1,000,000\\n0.675% (e.g. $6.75 per $1,000) for taxable gross receipts between $1,000,000.01 and\\n$2,500,000\\n0.77% (e.g. $7.70 per $1,000) for taxable gross receipts between $2,500,000.01 and\\n$25,000,000\\n0.855% (e.g. $8.55 per $1,000) for taxable gross receipts over $25,000,000\\n(D) For tax year 2024 if the Controller certifies under Section 953.10 that the\\n95% gross receipts threshold has been met for tax year 2024, and for tax years beginning on or after\\nJanuary 1, 2025\\n0.585% (e.g. $5.85 per $1,000) for taxable gross receipts between $0 and $1,000,', '2adaef38-3539-4e21-ab79-ef93a96633a7': '000,000\\n3.344% for taxable gross receipts between $75,000,000.01 and $100,000,000\\n3.716% for taxable gross receipts between $100,000,000.01 and $150,000,000\\n3.716% for taxable gross receipts between $150,000,000.01 and $250,000,000\\n3.716% for taxable gross receipts between $250,000,000.01 and $500,000,000\\n3.716% for taxable gross receipts between $500,000,000.01 and $1,000,000,000\\n3.716% for taxable gross receipts over $1,000,000,000\\n(b) \"Category 6 Business Activities\" means one or more of the business activities described in\\nNAICS codes 521 (Monetary Authorities-Central Bank), 5221 (Depository Credit Intermediation),\\n65SA\\nCO\\n2024 BAY 10 FM 1:30\\n523 (Securities, Commodity Contracts, and Other Financial Investments and Related Activities), and\\n525 (Funds, Trusts, and other Financial Vehicles).\\nDEPARITY\\n(c) The amount of taxable gross receipts from Category 6 Business Activities subject to the\\ngross receipts tax shall be three-quarters of the amount determined under Section 956.1 plus\\none-quarter of the amount determined under Section 956.2.\\nSEC. 953.26. GROSS RECEIPTS TAX APPLICABLE TO CATEGORY 7 BUSINESS\\nACTIVITIES.\\n(a) The gross receipts tax rates applicable to Category 7 Business Activities are:\\n(1) For tax years 2025 and 2026:\\n0.5% for taxable gross receipts between $0 and $1,000,000\\n0.5% for taxable gross receipts between $1,000,000.01 and $2,500,000\\n0.75% for taxable gross receipts between $2,500,000.01 and $25,000,000\\n0.672% for taxable gross receipts between $25,000,000.01 and $50,000,000\\n1.008% for taxable gross receipts between $50,000,000.01 and $75,000,000\\n1.008% for taxable gross receipts between $75,000,000.01 and $100,000,000\\n1.', 'c20a4a60-b545-4c6b-9811-24fbb2ea75c4': 'The 2022 Transportation Expenditure Plan for the use of funds from the 2022\\nSales Tax was developed by the Expenditure Plan Advisory Committee (EPAC),\\nestablished by the Transportation Authority Board, with technical assistance\\nprovided by the Transportation Authority and other transportation agencies. The\\nroster of EPAC members is provided in Attachment 1. The 2022 Transportation\\nExpenditure Plan was recommended by the Transportation Authority Board on\\nMarch 22, 2022.\\nGuided by the EPAC, equity has been at the forefront of the process to develop\\nthe 2022 Transportation Expenditure Plan, the investments included within, as\\nwell as how it will be administered.\\nSupervisors Mandelman; Walton, Peskin, Ronen, Melgar, Stefani, Preston, Mar, Safai, Dorsey\\nBOARD OF SUPERVISORS\\nPage 191 2 3 4 5\\n2 3 4 5\\n2 2 2 2 ≈≈ 10\\nHalf of the EPAC is comprised of representatives from Equity Priority\\nCommunities (EPCs) and other city neighborhoods, including organizations that\\nserve EPCs. The process to develop the 2022 Transportation Expenditure Plan\\nincluded robust outreach and engagement in multiple languages, with a focus on\\nreaching EPCs and populations that do not typically engage in transportation\\nplanning.\\nInvestments are designed to fill gaps identified in an equity analysis conducted\\nat the beginning of the process and include improvements to travel time and\\naccessibility, traffic safety, and public health, as well as addressing\\ntransportation costs and supporting community-based planning, including a\\nfocus on EPCs.\\nAdministration of the 2022 Transportation Expenditure Plan will include a\\ntransparent and accountable process, and equity requirements have been built\\ninto administration. More details on administration are included in Section 5,\\nImplementation Provisions.\\nBy providing the required local match, the 2022 Sales Tax is intended to\\nleverage about $23.7 billion in federal, state, regional, and other local funding for\\ntransportation projects in San Francisco.\\nThe 2022 Transportation Expenditure Plan contains a list of transportation\\nprograms describing the types of transportation investments that will be given\\npriority for 2022 Sales Tax funding.', 'a1bc5c3e-75f0-4f3e-8fd7-2874ce534e1e': \"DEPARTMENT OF ELECTION\\nArticle 12-A-1, shall pay an annual overpaid executive administrative office tax if the Executive\\nPay Ratio for the tax year of that person or the combined group of which it is a part\\nexceeds 100:1. This overpaid executive administrative office tax shall be measured by the\\nperson's total payroll expense, as defined in Section 953.8(f) of Article 12-A-1, that is\\nattributable to the City. If a person is a member of a combined group, then its tax shall be\\nmeasured by the total payroll expense of the combined group attributable to the City. Such\\nperson or combined group shall pay only the overpaid executive administrative office tax, and\\nnot the tax imposed under other subsections of this Section 3303, but a person or combined\\ngroup may be liable for the administrative office tax imposed by Section 953.8 of\\nArticle 12-A-1 and the homelessness administrative office tax imposed by Section 2804(d) or\\nSection 2804.9 of Article 28 in addition to the overpaid executive administrative office tax\\nimposed by this subsection (dg). Unless specified otherwise, this overpaid executive\\nadministrative office tax shall be considered part of the Overpaid Executive Gross Receipts\\nTax for all purposes.\", '1466586c-c8c6-4612-870e-df740f72f851': 'DEPARTMENT OF ELECTIONS\\n(a) The homelessness gross receipts tax rates applicable to Category 2 Business Activities for\\ntax years beginning on or after January 1, 2025 are:\\n0% for taxable gross receipts between $0 and $1,000,000\\n0% for taxable gross receipts between $1,000,000.01 and $2,500,000\\n0% for taxable gross receipts between $2,500,000.01 and $25,000,000\\n0.162% for taxable gross receipts between $25,000,000.01 and $50,000,000\\n0.284% for taxable gross receipts between $50,000,000.01 and $75,000,000\\n0.284% for taxable gross receipts between $75,000,000.01 and $100,000,000\\n0.284% for taxable gross receipts between $100,000,000.01 and $150,000,000\\n0.284% for taxable gross receipts between $150,000,000.01 and $250,000,000\\n0.284% for taxable gross receipts between $250,000,000.01 and $500,000,000\\n0.284% for taxable gross receipts between $500,000,000.01 and $1,000,000,000\\n0.284% for taxable gross receipts over $1,000,000,000\\n(b) \"Category 2 Business Activities\" has the same meaning as in Section 953.21(b) of\\nArticle 12-A-1 of this Business and Tax Regulations Code.\\n(c) The amount of taxable gross receipts from Category 2 Business Activities subject to the\\nhomelessness gross receipts tax shall be the total amount of gross receipts derived from or related to\\nreal properties located within the City.\\n85SAIFI\\n2010 PA 1:3)\\nSEC. 2804.4. HOMELESSNESS GROSS RECEIPTS TAX APPLICABLE TO CATEGORY 3\\nBUSINESS ACTIVITIES.', 'b8f9ecc7-d19b-4a1b-b751-7c2cf422773e': 'The credit shall be an\\nannual credit commencing in the tax year following the tax year in which the person or combined\\ngroup entered into the lease of all or a portion of the Qualified Building and first required at least\\n100 employees to occupy the Qualified Building, and continuing for the lesser of 15 years or until the\\nend of the tax year in which the person or combined group\\'s original lease term without extensions\\n77SA\\n20 MAY 10 PH 1:31.\\nexpires (the \"Credit Term\"); provided, however, that the person or combined group may only take the\\nDEPARTMENT O\\ncredit for each tax year during the Credit Term in which the person or combined group continues to\\nlease the Qualified Building and continues to require at least 100 employees to occupy the Qualified\\nBuilding. The person or combined group must take the credit for each tax year on an original Gross\\nReceipts Tax return filed with the Tax Collector. The credit shall equal the lesser of: (1) the Gross\\nReceipts Tax liability of the person or combined group for that tax year; and (2) $4,000,000.', 'f9b064ac-7c23-4b53-b51e-421ceb685fa1': 'Includes project\\ndevelopment and capital costs. Sponsor Agencies: SFMTA,\\nSupervisors Mandelman; Walton, Peskin, Ronen, Melgar, Stefani, Preston, Mar, Safai, Dorsey\\nBOARD OF SUPERVISORS\\nPage 351\\n- 2 3\\nNNNNNN ŏão\\n2.\\n3.\\nBART, PCJPB, TIMMA. The first $29M is Priority 1 and the\\nremainder is Priority 2. Total Funding: $777.4M; EP: $36M.\\nBayview Caltrain Station. Construction of a new or relocated\\nCaltrain station in the Bayview. Includes $4.73M in legacy funding\\nfor the Quint-Jerrold Connector Road, which will restore access\\neliminated by the construction of a Caltrain berm. Includes project\\ndevelopment and capital costs. Sponsor Agencies: SFCTA,\\nPCJPB, SFMTA, SFPW. Total Funding: $100M; EP: $27M.\\nMission Bay Ferry Landing. A new ferry landing serving the\\nMission Bay neighborhood to enable regional ferry service.\\nIncludes capital costs. Sponsor Agency: Port of SF. Total\\nFunding: $53.8M; EP: $5M.\\n4. Next Generation Transit Investments. Planning and project\\ndevelopment for major transit capital projects that promote system\\nconnectivity and accessibility, close service gaps, and improve and\\nexpand transit service levels. By funding planning, outreach, and\\nearly project development, the intent is to set these projects up to\\nbe competitive for discretionary funds to complete project\\ndevelopment and implementation. Eligible projects may include\\nbut are not limited to a 19th Avenue/Geary subway, extending the\\nCentral Subway, Link21 (including a potential second transbay\\ntube), and local and regional express bus network development.\\nSponsor Agencies: SFCTA; SFMTA; BART; PCJPB. The first\\n$22M is Priority 1 and the remainder is Priority 2. Total Funding:\\n$87M; EP: $27M.\\nSupervisors Mandelman; Walton, Peskin, Ronen, Melgar, Stefani, Preston, Mar, Safai, Dorsey\\nBOARD OF SUPERVISORS\\nPage 361 2\\nC.\\nD.', '7e24d901-ea2e-4232-9172-aa73eeab4d0a': 'ㅇ ㅎㅎ시\\nPARATRANSIT\\nContinued support for paratransit door-to-door van, taxi, and other transportation\\nservices for seniors and people with disabilities who are unable to use fixed\\nroute transit service. Includes operations support, replacement of accessible\\nvans, and replacement and upgrades of supporting equipment such as debit\\ncard systems. Sponsor Agency: SFMTA. The first $227M is Priority 1 and the\\nremainder is Priority 2. Total Funding: $1,270M; EP: $297M.\\nSTREETS AND FREEWAYS\\ni.\\nMaintenance, Rehabilitation, and Replacement\\n1.\\n2.\\nStreet Resurfacing, Rehabilitation, and Maintenance.\\nRepaving and reconstruction of city streets to prevent deterioration\\nof the roadway system, based on an industry-standard pavement\\nmanagement system designed to inform cost-effective roadway\\nmaintenance. May include sidewalk rehabilitation and curb ramps\\nand elements to improve resilience to climate change. Includes\\nproject development and capital costs. Sponsor Agency: SFPW.\\nTotal Funding: $1,952M; EP: $88M.\\nReplacement of street repair and cleaning equipment according to\\nindustry standards, including but not limited to asphalt pavers,\\ndump trucks, sweepers, and front-end loaders. Includes capital\\ncosts only. Sponsor Agency: SAS. Total Funding: $32M; EP:\\n$17M.\\nPedestrian and Bicycle Facilities Maintenance. Public sidewalk\\nrepair and reconstruction citywide. Maintenance of additional\\npedestrian facility improvements including stairways, retaining\\nSupervisors Mandelman; Walton, Peskin, Ronen, Melgar, Stefani, Preston, Mar, Safai, Dorsey\\nBOARD OF SUPERVISORS\\nPage 371\\nii.\\n1.\\n+56\\n2222 2\\nwalls, guardrails, and rockfall barriers. Maintenance of pedestrian\\nand bicycle safety improvements, including but not limited to safe-\\nhit posts, painted safety zones, green bike lanes, and crosswalks.\\nRehabilitation of other bicycle facilities such as paths. Includes\\nproject development and capital costs. Sponsor Agencies:\\nSFMTA, SAS. Total Funding: $84.6M; EP: $19M.\\n3. Traffic Signs and Signals Maintenance. Maintenance and\\nupgrade of traffic signs and signals, including for pedestrians and\\nbicyclists.', '51e2f587-1c12-4eda-b705-0aee717cc678': \"SEC. 2804.1. IMPOSITION OF TAX.\\n(a) Except as otherwise provided under this Article 28, the City imposes and every person\\nengaging in business within the City shall pay an annual homelessness gross receipts tax measured by\\nthe person's gross receipts from all taxable business activities attributable to the City. A person's\\nliability for the homelessness gross receipts tax shall be calculated according to this Article 28.\\n(b) The homelessness gross receipts tax is a privilege tax imposed upon persons engaging in\\nbusiness within the City for the privilege of engaging in a business or occupation in the City.\\n(c) The tax on Administrative Office Business Activities imposed by Section 2804.9 is intended\\nas a complementary tax to the homelessness gross receipts tax, and shall be considered a homelessness\\ngross receipts tax for purposes of this Article 28.\\n83SA\\n(d) This Section 2804.1 shall apply to tax years beginning on or after January 1, 2025.\\nSEC. 2804.2. HOMELESSNESS GROSS RECEIPTS TAX APPLICABLE TO CATEGORY I\\nBUSINESS ACTIVITIES.\", '7f570c51-5a2b-4ffa-9ed2-622ce6224f33': 'If the person or combined group did not file a return for the\\npreceding tax year and did not request an extension under Section 6.9-4 to file that return, the\\nperson or combined group shall owe no estimated tax payments of Gross Receipts Taxes (or\\nestimated tax payments of the tax on administrative office business activities imposed under\\nSection 953.8 of Article 12-A-1) for the current tax year. For purposes of this\\nSection 6.9 Isubsection (c)(3)(B)(ii), \"taxable gross receipts\" means a person or combined\\ngroup\\'s gross receipts, not excluded under Section 954 of Article 12-A-1, attributable to the\\nCity.\\n(C) Estimated Tax Payments for Early Care and Education\\nCommercial Rents Tax, Homelessness Gross Receipts Tax, Cannabis Business Tax,\\nand Overpaid Executive Gross Receipts Tax. A person or combined group\\'s estimated tax\\npayments of the Early Care and Education Commercial Rents Tax, Homelessness Gross\\nReceipts Tax (including the homelessness administrative office tax imposed under\\nSection 2804(d) or Section 2804.9 of Article 28), Cannabis Business Tax, and Overpaid\\nExecutive Gross Receipts Tax (including the overpaid executive administrative office tax\\nimposed under Section 3303(dg) of Article 33), shall each equal the lesser of:\\n(i) 25% of the applicable tax liability shown on the person or\\ncombined group\\'s return for the tax year (or, if no return is filed, 25% of the person or\\ncombined group\\'s actual tax liability for the tax year); or\\n(ii) 25% of the applicable tax liability shown on the person or\\ncombined group\\'s return for the preceding tax year. If the person or combined group did not file a\\nreturn for the preceding tax year and timely requested an extension under Section 6.9-4 of this Article 6\\nto file that return, the person or combined group\\'s applicable tax liability for the preceding tax year for\\npurposes of this subsection (c)(3)(C)(ii) shall be deemed to be the amount of any payment required\\nunder Section 6.9-4 as a condition of such extension.', '6498c153-5888-4bc1-bd26-4d049f1fc406': \"(A) For an extension of a Gross Receipts Tax return, a payment of not less than\\nthe sum of:\\n(i) 110% of such person's Gross Receipts Tax liability, prior to the\\napplication of any payments, as reported on the later of:\\na. Such person's original return for the tax year immediately\\npreceding the tax year for which the extension is being requested; or\\nb. Such person's amended return, filed on or before the due date\\nfor the extension request, for the tax year immediately preceding the tax year for which the extension is\\nbeing requested; and\\n(ii) Such person's Business Registration Fee, calculated by applying the\\ncurrent registration year rates to 110% of such person's San Francisco Gross Receipts or\\nSan Francisco payroll expense, as applicable, as reported on the later of:\\na. Such person's original Gross Receipts Tax return for the tax\\nyear immediately preceding the tax year for which the extension is being requested; or\\nb. Such person's amended Gross Receipts Tax return, filed on or\\nbefore the due date for the extension request, for the tax year immediately preceding the tax year for\\nwhich the extension is being requested; and\\n(B) For an extension of an Early Care and Education Commercial Rents Tax,\\nHomelessness Gross Receipts Tax, Cannabis Business Tax, or Overpaid Executive Gross Receipts Tax\\nreturn, a payment of not less than 110% of such person's liability, prior to the application of any\\npayments, for each tax type for which an extension is being requested, as reported on the later of:\\n11SAN D\\n2001 MAY 10 PA 1:28\\nDEPARTMENT OF ELECTIUNE\\n(i) Such person's original return for the tax year immediately preceding\\nthe tax year for which the extension is being requested; or\\n(ii) Such person's amended return, filed on or before the due date for the\\nextension request, for the tax year immediately preceding the tax year for which the extension is being\\nrequested.\\n(4) For purposes of determining the amount of the Required Payment, if a person did\\nnot file a return for a tax type and tax year before the due date for the extension request, the person's\\nliability and San Francisco Gross Receipts for that tax type and tax year shall be deemed to be zero.\", 'e47cd763-973c-48b1-b4e6-6ec6b0a0f406': '000,000.01 and $2,500,000\\n0.193% for taxable gross receipts between $2,500,000.01 and $25,000,000\\n0.372% for taxable gross receipts between $25,000,000.01 and $50,000,000\\n0.372% for taxable gross receipts between $50,000,000.01 and $75,000,000\\n0.372% for taxable gross receipts between $75,000,000.01 and $100,000,000\\n0.372% for taxable gross receipts between $100,000,000.01 and $150,000,000\\n0.557% for taxable gross receipts between $150,000,000.01 and $250,000,000\\n0.743% for taxable gross receipts between $250,000,000.01 and $500,000,000\\n0.929% for taxable gross receipts between $500,000,000.01 and $1,000,000,000\\n1.115% for taxable gross receipts over $1,000,000,000\\n55SANT CO\\n7025 MAY 10 PM 1:30\\n(b) \"Category 1 Business Activities\" means one or more of the business activities described in\\nNAICS codes 42 (Wholesale Trade), 44 and 45 (Retail Trade), 532 (Rental and Leasing Services),\\n71 (Arts, Entertainment, and Recreation), 722 (Food Services and Drinking Places), 811 (Repair and\\nMaintenance), 812 (Personal and Laundry Services) but not including 812930 (Parking Lots and\\nGarages), and 813 (Religious, Grantmaking, Civic, Professional, and Similar Organizations).\\n(c) The amount of taxable gross receipts from Category 1 Business Activities subject to the\\ngross receipts tax shall be three-quarters of the amount determined under Section 956.1 plus\\none-quarter of the amount determined under Section 956.2.\\nSEC. 953.21. GROSS RECEIPTS TAX APPLICABLE TO CATEGORY 2 BUSINESS\\nACTIVITIES.\\n(a) The gross receipts tax rates applicable to Category 2 Business Activities are:\\n(1) For tax years 2025 and 2026:\\n0.185% for taxable gross receipts between $0 and $1,000,000\\n0.201% for taxable gross receipts between $1,000,000.', 'b6547826-88c5-4003-9acd-f5233cb0ac9c': 'Street Resurfacing, Rehabilitation, and\\nMaintenance\\n1,984.0\\nEA\\n105.0\\n2. Pedestrian and Bicycle Facilities\\nMaintenance\\n3. Traffic Signs and Signals Maintenance\\nii. Safe and Complete Streets\\n1. Safer and Complete Streets\\n69 69\\n84.6\\n126.1\\n69 69\\n2. Curb Ramps\\n3. Tree Planting\\n$\\n69 69 69 69\\n1,114.8\\n918.8\\n143.0\\n53.0\\n69 69 69\\n19.0\\n90.0\\n$\\n240.0\\n187.0\\n$\\n29.0\\n24.0\\nSupervisors Mandelman; Walton, Peskin, Ronen, Melgar, Stefani, Preston, Mar, Safai, Dorsey\\nBOARD OF SUPERVISORS\\nPage 281\\nTable 1: 2022 Transportation Expenditure Plan\\nSummary Table\\n2020 $Millions\\niii. Freeway Safety and Operational\\nImprovements\\n1. Vision Zero Ramps\\n2. Managed Lanes and Express Bus\\n3. Transformative Freeway and Major Street\\nProjects\\nE. Transportation System Development and\\nManagement\\ni. Transportation Demand Management\\nii. Transportation, Land Use, and Community\\nCoordination\\n1. Neighborhood Transportation Program\\n2. Equity Priority Transportation Program\\n3. Development Oriented Transportation\\n4.', 'ff2dbdc0-61c0-47bf-b972-93e9d017783d': \"(2) Sales of property to be used outside the District which is shipped to a point\\noutside the District, pursuant to the contract of sale, by delivery to such point by the retailer or\\nhisthe retailer's agent, or by delivery by the retailer to a carrier for shipment to a consignee at\\nsuch point. For the purposes of this paragraphsubsection (b)(2), delivery to a point outside the\\nDistrict shall be satisfied:\\n(A) with respect to vehicles (other than commercial vehicles) subject to\\nregistration pursuant to Chapter 1 (commencing with Section 4000) of Division 3 of the\\nCalifornia Vehicle Code, aircraft licensed in compliance with Section 21411 of the California\\nPublic Utilities Code, and undocumented vessels registered under Chapter 2 of Division 3.5\\n(commencing with Section 98509840) of the California Vehicle Code by registration to an\\nout-of-District address and by a declaration under penalty of perjury, signed by the buyer,\\nstating that such address is, in fact, histhe buyer's principal place of residence.\\n(B) with respect to commercial vehicles, by registration to a place of\\nbusiness out-of-District, and a declaration under penalty of perjury, signed by the buyer, that\\nthe vehicle will be operated from that address.\\n(3) the sale of tangible personal property if the seller is obligated to furnish the\\nproperty for a fixed price pursuant to a contract entered into prior to the operative date of this\\n23 ordinance. April 1, 1990.\\n2 2 2 2\\nSupervisors Mandelman; Walton, Peskin, Ronen, Melgar, Stefani, Preston, Mar, Safai, Dorsey\\nBOARD OF SUPERVISORS\\nPage 121\\n(4) a lease of tangible personal property which is a continuing sale of such\\nproperty for any period of time for which the lessor is obligated to lease the property for an\\namount fixed by the lease prior to the operative date of this ordinance. April 1, 1990.\\n(5) for the purposes of subsections (43) and (54) of this subsection (b), the sale or\\nlease of tangible personal property shall be deemed not to be obligated pursuant to a contract\\nor lease for any period of time for which any party to the contract or lease has the\\nunconditional right to terminate the contract upon notice, whether or not such right is\\nexercised.\", '718afbbb-0abf-41c3-adbd-2b13cbf53742': \"No operator\\nor other person responsible for collecting or remitting a disputed third-party tax may obtain a\\ntax refund unless that operator or other person proves that the tax has not been passed on to\\nits customers or any other person.\\n(d) Claims for Refund; Applicable Law. Claims for refund shall be made according\\nto California Government Code, Title I, Division 3.6, Part 3. For purposes of subsections\\n(a)-(f) of this Section 6.15-1, a claim shall be deemed to accrue on the date specified in\\nsubsection (h) of this Sectionlater of: (1) the date the return was due, without regard to any extensions\\nunder Section 6.9 4; (2) the date the tax was paid; or (3) the date the refund requested on a return,\\namended return, or request for refund timely filed pursuant to subsection (g) of this Section 6.15-1 was\\ndenied under said subsection (g). The Controller shall furnish a form to be used for claims.\\n(e) Claims for Refund; Actions by the City. The Controller shall enter the claim in\\nthe claim register, and shall forthwith forward it to the City Attorney. The City Attorney is\\ndesignated to take such actions on claims as authorized by California Government Code,\\nTitle 1, Division 3.6, Part 3, Chapter 2, except that the City Attorney's authority with regard to\\nrejecting or allowing claims shall be as provided in this Section 6.15-1. The City Attorney may\\nreject the claim, and shall notify the claimant of such rejection. Allowance or compromise and\\nsettlement of claims under this Section 6.15-1 in excess of $25,000 shall require the written\\napproval of the City Attorney and approval of the Board of Supervisors by resolution. The City\\nAttorney may allow or compromise and settle such claims if the amount is $25,000 or less.\\nNo claim may be paid until the Controller certifies that monies are available from the proper\\n15202 MAY 10 PM 1:28\\nfunds or appropriations to pay the claim as allowed or as compromised and settled.\", '35f2875d-f566-4c84-83c7-2f56c12f34cc': '500,000\\n0.803% for taxable gross receipts between $2,500,000.01 and $25,000,000\\n0.743% for taxable gross receipts between $25,000,000.01 and $50,000,000\\n1.115% for taxable gross receipts between $50,000,000.01 and $75,000,000\\n1.115% for taxable gross receipts between $75,000,000.01 and $100,000,000\\n1.486% for taxable gross receipts between $100,000,000.01 and $150,000,000\\n1.486% for taxable gross receipts between $150,000,000.01 and $250,000,000\\n1.672% for taxable gross receipts between $250,000,000.01 and $500,000,000\\n1.672% for taxable gross receipts between $500,000,000.01 and $1,000,000,000\\n1.858% for taxable gross receipts over $1,000,000,000\\n(b) \"Category 7 Business Activities\" means the business activities described in NAICS Code 23\\n(Construction).\\n(c) Except as otherwise provided in subsection (d), the amount of taxable gross receipts from\\nCategory 7 Business Activities subject to the gross receipts tax shall be the total amount of gross\\nreceipts derived from or related to real properties located within the City.\\n67SAND 20\\nAWA DAY TO PA 1:31\\n(d) The amount of taxable gross receipts determined under subsection (c) shall be reduced by\\nDEPARTMENT OF SLECTIITES\\nany amounts that were included in a person or combined group\\'s gross receipts under subsection (c)\\nand that the person or combined group paid to a subcontractor for work related to the real properties\\nlocated with the City during the tax year. There shall be no deduction for any other costs, including\\nwithout limitation costs for materials, fees, equipment, or other services. To claim such a deduction, a\\nperson must maintain an itemized schedule of payments to subcontractors.\\nSEC. 953.27. PERSONS OR COMBINED GROUPS ENGAGED IN MULTIPLE BUSINESS\\nACTIVITY CATEGORIES.', '8adc9f61-8db5-4845-8dfd-7be7929f2daa': \"Sponsor Agency: SFMTA. Total Funding: $126.1M;\\nEP: $90M.\\nSafe and Complete Streets\\nSafer and Complete Streets. Programmatic improvements to the\\ntransportation system to make it safer for all users and help\\nachieve the City's Vision Zero goals. Projects may include but are\\nnot limited to:\\nTraffic calming to reduce vehicular speeds and improve\\nsafety; new or improved pedestrian safety measures such\\nas ladder crosswalks, corner bulb-outs, and pedestrian\\nislands in the medians of major thoroughfares; new and\\nupgraded bike lanes and paths; traffic striping and\\nchannelization; bicycle and personal mobility device parking\\nfacilities such as bike/scooter racks and lockers. Quick\\nbuilds (e.g., paint and safe-hit posts), pilots, permanent\\nimprovements, intersection redesigns, and larger corridor\\nSupervisors Mandelman; Walton, Peskin, Ronen, Melgar, Stefani, Preston, Mar, Safai, Dorsey\\nBOARD OF SUPERVISORS\\nPage 381\\n2 2 2 2\\nprojects are eligible. Landscaping may be included as a\\nminor element of a larger safety project.\\nInstallation (new), maintenance, and upgrade of traffic signs\\nand signals (including for pedestrians and bicyclists); red\\nlight enforcement cameras and closed-circuit TV and\\ncommunications systems (e.g., Variable Message Signs) for:\\nincident and special event traffic management.\\nMulti-modal street improvements to improve pedestrian,\\nbicycle, transit, and vehicle circulation and connectivity.\\nBicycle, pedestrian, and Vision Zero outreach and\\neducation programs such as Safe Routes to School;\\ndevelopment of neighborhood and school area safety plans.\\nIncludes project development and capital costs. Sponsor\\nAgencies: SFMTA, SFPW, SFCTA. Includes $152M in Priority 1, of\\nwhich a minimum of $7M will be available for Safe Routes to\\nSchool non-infrastructure programs, e.g., education, outreach, and\\nplanning to support safe transportation to schools. The remainder\\nis Priority 2. Total Funding: $918.8M; EP: $187M.\\n2. Curb Ramps. Construction of new Americans with Disabilities Act\\n(ADA)-compliant curb ramps and related roadway work to permit\\nease of movement. Reconstruction of existing ramps.\", 'd09c9f72-062d-45cb-94ca-1c1a9d2f5fcc': 'in an total\\noutstanding-aggregate principal amount not to exceed $1,880,00,000$1.910,000,000.\\n23 +5\\nSEC. 1414. USE OF PROCEEDS.\\n(a) The proceeds of the #Taxes imposed by this Article 14 prior to the operative date of the\\namendments to this Article 14 passed by the voters at the November 8, 2022 election ordinanceshall be\\nused solely for the projects and purposes set forth in the New Transportation Expenditure\\nPlan approved by the voters as part of Proposition K at the November 4, 2003 electionand its updates\\nand for the administration thereof.\\n(b) The proceeds of the Taxes imposed by this Article 14 on or after the operative date of the\\namendments to this Article 14 passed by the voters at the November 8, 2022 election shall be used\\nsolely for the following purposes:\\n(1) The projects and purposes set forth in the 2022 Transportation Expenditure Plan\\n16 referenced in subsection (c) of this Section 1414, and any updates or revisions to such Plan\\nexpenditures or other expenditures allowed or permitted by Division 12.5 (commencing with Section\\n131000) of the California Public Utilities Code as those provisions existed on November 8, 2022, and\\nArticles XIIIA and XIIIC of the California Constitution;\\n(2) To pay interest and principal on the bonds authorized and issued under\\nSection 1413 of this Article 14; and\\n(3) To pay the cost of administration of the Tax.\\n(c) The 2022 Transportation Expenditure Plan is in Section 3 of the ordinance containing\\namendments to this Article 14 passed by the voters at the November 8, 2022 election, and, as part of\\nSupervisors Mandelman; Walton, Peskin, Ronen, Melgar, Stefani, Preston, Mar, Safai, Dorsey\\nBOARD OF SUPERVISORS\\nPage 1523\\n+\\nthat ordinance, shall be placed in the Appendix to the Administrative Code containing voter-approved\\nmeasures.\\nIn accordance with the legislative intent expressed in California Public Utilities Code\\nSection 131100 such proceeds shall not replace finds previously provided by property tax revenues for\\npublic transportation purposes.', 'e69808bd-8119-443a-907f-db5161e32af3': \"i.\\na.\\nNNNNNN Òào v ŏ Ğ À\\nii.\\nb.\\n2022 Sales Tax revenues shall be used to supplement and under\\nno circumstance replace existing local revenues used for\\ntransportation purposes listed in the 2022 Transportation\\nExpenditure Plan.\\nProceeds from the sale or liquidation of capital assets funded with\\n2022 Sales Tax revenues shall be returned to the Transportation\\nAuthority (in proportion to the contribution of 2022 Sales Tax\\nrevenues to the total original cost of the asset), for re-allocation to\\neligible expenses within the program from which funds were\\nexpended for the original investment.\\nNo Expenditures Outside San Francisco. Unless otherwise explicitly\\nspecified in Section 4, Description of Programs, no 2022 Sales Tax funds\\nSupervisors Mandelman; Walton, Peskin, Ronen, Melgar, Stefani, Preston, Mar, Safai, Dorsey\\nBOARD OF SUPERVISORS\\nPage 241\\nshall be spent outside the territorial limits of the City and County of San\\nFrancisco except for cases that satisfy all the following conditions:\\na.\\nb.\\niii.\\n=\\nQuantifiable Benefit. The proposed project is eligible to be\\nfunded with the 2022 Sales Tax consistent with the 2022\\nTransportation Expenditure Plan, and if planning or other studies\\ndeveloped in order to enable its implementation demonstrate that\\nthere will be a quantifiable benefit to the City and County's\\ntransportation program from the expenditure of funds beyond the\\nCity and County line. A quantifiable benefit is defined as a\\nmeasurable increase in the cost-effectiveness of a project or group\\nof transportation projects or services at least partially funded with\\n2022 Sales Tax funds, located along the corridor or in the\\nimmediate geographic area of the City and County where the\\nproject in question is proposed to occur.\\nExpenses Matched by Other Counties. The proposed expense\\nis matched by funding from the county where the expenditure of\\n2022 Sales Tax funds is proposed to be made.\\nShould transportation projects or services contemplated in the plan\\nrequire the participation of multiple counties for any phase of project\\nplanning or implementation, the Transportation Authority shall work\\ncooperatively with the affected county or counties to ensure successful\\nproject implementation.\\nFunding Caps for Legacy Projects.\", 'a7dce1e6-6bc5-462e-8d6f-15347528e352': \"Reconstruction of existing ramps. Includes\\nproject development and capital costs. Sponsor Agency: SFPW.\\nTotal Funding: $143M; EP: $29M.\\n3.\\nTree Planting. Planting and establishment of street trees in public\\nrights-of-way throughout the city. Priority will be given to\\nSupervisors Mandelman; Walton, Peskin, Ronen, Melgar, Stefani, Preston, Mar, Safai, Dorsey\\nBOARD OF SUPERVISORS\\nPage 391\\niii.\\nneighborhoods and/or areas with lower tree canopy coverage.\\nSponsor Agency: SAS. Includes $20M in Priority 1 and the\\nremainder is Priority 2. Total Funding: $53M; EP: $24M.\\nFreeway Safety and Operational Improvements\\n1.\\n2.\\n2 2 2 2\\n3.\\nVision Zero Ramps. Programmatic improvements to benefit all\\nusers of intersections where freeway on- and off-ramps intersect\\nwith city streets to support the City's Vision Zero policy to eliminate\\ntraffic deaths. Eligible project types include: new or improved\\npedestrian safety measures such as ladder crosswalks and\\npedestrian signals, corner bulb-outs, and new traffic signs and\\nsignals. Includes planning, project development, and capital costs.\\nSponsor Agencies: SFMTA, SFCTA. Total Funding: $27.5M; EP:\\n$8M.\\nManaged Lanes and Express Bus. Programmatic improvements\\nto San Francisco's freeways to improve transit speeds (e.g.,\\nexpress bus) and reliability, and promote carpooling.\\nImprovements include but are not limited to high occupancy\\nvehicle lanes, ramp re-striping or re-designs, signs and\\nsignalization, and purchase of buses to support increased Muni\\nbus operations on improved facilities, and if express lanes are\\nproposed, tolling system and funding of an affordability program.\\nIncludes project development and capital costs. Sponsor\\nAgencies: SFCTA, SFMTA. Total Funding: $206M; EP: $10M.\\nTransformative Freeway and Major Street Projects. Planning\\nand project development for transformative multi-modal\\nSupervisors Mandelman; Walton, Peskin, Ronen, Melgar, Stefani, Preston, Mar, Safai, Dorsey\\nBOARD OF SUPERVISORS\\nPage 401\\nE.\", '6dc85d1f-9ae1-4536-85f0-5171b1293f71': '000,000.01 and $500,000,000\\n0.465% for taxable gross receipts between $500,000,000.01 and $1,000,000,000\\n0.465% for taxable gross receipts over $1,000,000,000\\n(3) For tax years beginning on or after January 1, 2028:\\n0.442% for taxable gross receipts between $0 and $1,000,000\\n0.442% for taxable gross receipts between $1,000,000.01 and $2,500,000\\n0.466% for taxable gross receipts between $2,500,000.01 and $25,000,000\\n0.466% for taxable gross receipts between $25,000,000.01 and $50,000,000\\n0.489% for taxable gross receipts between $50,000,000.01 and $75,000,000\\n0.489% for taxable gross receipts between $75,000,000.01 and $100,000,000\\n0.489% for taxable gross receipts between $100,000,000.01 and $150,000,000\\n0.489% for taxable gross receipts between $150,000,000.01 and $250,000,000\\n0.489% for taxable gross receipts between $250,000,000.01 and $500,000,000\\n0.489% for taxable gross receipts between $500,000,000.01 and $1,000,000,000\\n0.489% for taxable gross receipts over $1,000,000,000\\n(b) \"Category 3 Business Activities\" means one or more of the business activities described in\\nNAICS codes 531 (Real Estate), 5612 (Facilities Support Services), 5617 (Services to Buildings and\\nDwellings), and 812930 (Parking Lots and Garages).\\n59SANO CO\\nFILE\\n(c) The amount of taxable gross receipts from Category 3 Business Activities subject to the\\ngross receipts tax shall be the total amount of gross receipts derived from or related to real properties\\nlocated within the City.\\nSEC. 953.23. GROSS RECEIPTS TAX APPLICABLE TO CATEGORY 4 BUSINESS\\nACTIVITIES.\\n(a) The gross receipts tax rates applicable to Category 4 Business Activities are:\\n(1) For tax years 2025 and 2026:\\n0.', '20981ecf-ba49-4b9c-bac5-819765fd5b05': '428% (e.g. $4.28 per $1,000) for taxable gross receipts between $0 and $1,000,000\\n0.428% (e.g. $4.28 per $1,000) for taxable gross receipts between $1,000,000.01 and\\n$5,000,000\\n0.45% (e.g. $4.50 per $1,000) for taxable gross receipts between $5,000,000.01 and\\n$25,000,000\\n0.45% (e.g. $4.50 per $1,000) for taxable gross receipts over $25,000,000\\n50SANTO CO\\n2024 HAY 10 PH 1:30\\n(5) For tax year 2024 if the Controller certifies under Section 953.10 that the 95%\\nDEPARTMENT\\ngross receipts threshold has been met for tax year 2024, and for tax years beginning on or after\\nJanuary 1, 2025:\\n0.442% (e.g. $4.42 per $1,000) for taxable gross receipts between $0 and $1,000,000\\n0.442% (e.g. $4.42 per $1,000) for taxable gross receipts between $1,000,000.01 and\\n$5,000,000\\n0.465% (e.g. $4.65 per $1,000) for taxable gross receipts between $5,000,000.01 and\\n$25,000,000\\n0.465% (e.g. $4.65 per $1,000) for taxable gross receipts over $25,000,000\\n*\\nSEC. 953.8. TAX ON ADMINISTRATIVE OFFICE BUSINESS ACTIVITIES.\\n(a) Except as provided in this Section 953.8, notwithstanding any other provision of\\nthis Article 12-A-1 and in lieu of the other taxes provided by this Article for any person or\\ncombined group, every person engaging in business within the City as an administrative\\noffice, as defined below, shall pay an annual administrative office tax measured by its total\\npayroll expense that is attributable to the City. If a person is a member of a combined group,\\nthen its tax shall be measured by the total payroll expense of the combined group attributable\\nto the City.', 'c8962b13-d26e-410c-b61f-b8c7ec5172f9': \"(c) For tax years 2025 and 2026, the Overpaid Executive Gross Receipts Tax shall be\\ncalculated as follows:\\n(1) 0.02% of the person or combined group's taxable gross receipts for a tax year if the\\nperson or combined group has an Executive Pay Ratio for that tax year of greater than 100:1, but less\\nthan or equal to 200:1;\\n(2) 0.04% of the person or combined group's taxable gross receipts for a tax year if the\\nperson or combined group has an Executive Pay Ratio for that tax year of greater than 200:1, but less\\nthan or equal to 300:1;\\n(3) 0.06% of the person or combined group's taxable gross receipts for a tax year if the\\nperson or combined group has an Executive Pay Ratio for that tax year of greater than 300:1, but less\\nthan or equal to 400:1;\\n(4) 0.08% of the person or combined group's taxable gross receipts for a tax year if the\\nperson or combined group has an Executive Pay Ratio for that tax year of greater than 400:1, but less\\nthan or equal to 500:1;\\n100A\\n8410 P .32\\n(5) 0.1% of the person or combined group's taxable gross receipts for a tax year if the\\nDEPARTMENT OF ELECTIONS\\nperson or combined group has an Executive Pay Ratio for that tax year of greater than 500:1, but less\\nthan or equal to 600:1; or\\n(6) 0.12% of the person or combined group's taxable gross receipts for a tax year if the\\nperson or combined group has an Executive Pay Ratio for that tax year of greater than 600:1.\", '816ddda0-1415-44a2-8640-a9fd06679f3e': '953.5. GROSS RECEIPTS TAX APPLICABLE TO CONSTRUCTION.\\n(a) The gross receipts tax rates applicable to the business activity of construction are:\\n* *\\n(2) For tax years beginning on or after January 1, 2021 through and including 2024:\\n0.42% (e.g., $4.20 per $1,000) for taxable gross receipts between $0 and $1,000,000\\n0.49% (e.g., $4.90 per $1,000) for taxable gross receipts between $1,000,000.01 and\\n$2,500,000\\n46SANIRAN CO\\n2024 MAR 10 PM 1:30\\n0.56% (e.g., $5.60 per $1,000) for taxable gross receipts between $2,500,000.01 and\\nDER ARITICAL OF ELECTION\\n$25,000,000\\n0.63% (e.g., $6.30 per $1,000) for taxable gross receipts over $25,000,000\\nSEC. 953.6. GROSS RECEIPTS TAX APPLICABLE TO FINANCIAL SERVICES;\\nINSURANCE; AND PROFESSIONAL, SCIENTIFIC AND TECHNICAL SERVICES.\\n(a) The gross receipts tax rates applicable to the business activities of financial\\nservices; insurance; and professional, scientific and technical services are:\\n(2) For the business activity of insurance:\\n(B) For tax years 2022 and, if the Controller does not certify under\\nSection 953.10 that the 90% gross receipts threshold has been met for tax year 2023, for tax\\nyear 2023:\\n0.58% (e.g. $5.80 per $1,000) for taxable gross receipts between $0 and $1,000,000\\n0.667% (e.g. $6.67 per $1,000) for taxable gross receipts between $1,000,000.01 and\\n$2,500,000\\n0.74% (e.g. $7.40 per $1,000) for taxable gross receipts between $2,500,000.01 and\\n$25,000,000\\n0.812% (e.g. $8.12 per $1,000) for taxable gross receipts over $25,000,', '8a67d8c7-ada8-4f53-b17a-4570edf83ba3': 'The voting precincts, polling places, and\\nSupervisors Mandelman; Walton, Peskin, Ronen, Melgar, Stefani, Preston, Mar, Safai, Dorsey\\nBOARD OF SUPERVISORS\\nPage 531\\nofficers of election for the November 8, 2022 General Election are hereby adopted,\\nestablished, designated and named, respectively, as the voting precincts, polling places, and\\nofficers of election for the Special Election called, and reference is made to the notice of\\nelection setting forth the voting precincts, polling places, and officers of election for the\\nNovember 8, 2022 General Election by the Director of Elections to be published in the official\\nnewspaper of the City on the date required under the laws of the State of California. The\\nballots to be used at the Special Election shall be the ballots to be used at the November 8,\\n2022 General Election.\\nSection 10. Pursuant to California Public Utilities Code Section 131108,\\nsubdivision (h), the Board of Supervisors hereby directs the Department of Elections to do the\\nfollowing: (a) include in the sample ballot mailed to the voters and the voter information\\npamphlet the full proposition as set forth in Sections 1 through 6 of this ordinance, but\\ninserting the letter for the proposition where designated, and (b) include in the voter\\ninformation pamphlet the entire adopted 2022 Transportation Expenditure Plan as set forth in\\nSection 3 of this ordinance. In accordance with this Section 10, Sections 1 through 6 of this\\nordinance shall constitute the ballot measure submitted to the voters at the Special Election.\\nThe long title of the ballot measure submitted to the voters shall be the same as the long title\\nof this ordinance, except that the final two clauses, “affirming the Transportation Authority\\'s\\ndetermination under the California Environmental Quality Act; and making findings of\\nconsistency with the General Plan and the eight priority policies of Planning Code, Section\\n22 101.1,\" shall be omitted, and the word \"and\" shall be inserted before the clause \"authorizing\\n≈≈\\nthe Transportation Authority to issue limited tax bonds secured by transactions and use tax\\nrevenues.\"', 'dec6ea55-1480-4d47-9da9-a9c27163b32c': '000,000\\n0.336% for taxable gross receipts between $75,000,000.01 and $100,000,000\\n0.336% for taxable gross receipts between $100,000,000.01 and $150,000,000\\n0.504% for taxable gross receipts between $150,000,000.01 and $250,000,000\\n0.672% for taxable gross receipts between $250,000,000.01 and $500,000,000\\n0.84% for taxable gross receipts between $500,000,000.01 and $1,000,000,000\\n1.008% for taxable gross receipts over $1,000,000,000\\n54SANT H Co\\n2024 MAY 10 PЯ 1:30\\nDEPAR HEMA OF ERECTIONS\\n(2) For tax year 2027:\\n0.104% for taxable gross receipts between $0 and $1,000,000\\n0.135% for taxable gross receipts between $1,000,000.01 and $2,500,000\\n0.187% for taxable gross receipts between $2,500,000.01 and $25,000,000\\n0.356% for taxable gross receipts between $25,000,000.01 and $50,000,000\\n0.356% for taxable gross receipts between $50,000,000.01 and $75,000,000\\n0.356% for taxable gross receipts between $75,000,000.01 and $100,000,000\\n0.356% for taxable gross receipts between $100,000,000.01 and $150,000,000\\n0.534% for taxable gross receipts between $150,000,000.01 and $250,000,000\\n0.712% for taxable gross receipts between $250,000,000.01 and $500,000,000\\n0.89% for taxable gross receipts between $500,000,000.01 and $1,000,000,000\\n1.068% for taxable gross receipts over $1,000,000,000\\n(3) For tax years beginning on or after January 1, 2028:\\n0.107% for taxable gross receipts between $0 and $1,000,000\\n0.139% for taxable gross receipts between $1,000,000.01 and $2,500,', '861a076d-5e3d-4e9d-b8e3-e38a5f1b8b83': '$9.75 per $1,000) for taxable gross receipts over $25,000,000\\n44SANCO\\n2024 NAY LO\\n(D) For tax year 2024 if the Controller certifies under Section 953.10 that the\\nDEPARTMENT OF\\n95% gross receipts threshold has been met for tax year 2024, and for tax years beginning on or after\\nJanuary 1, 2025:\\n0.814% (e.g. $8.14 per $1,000) for taxable gross receipts between $0 and $1,000,000\\n0.853% (e.g. $8.53 per $1,000) for taxable gross receipts between $1,000,000.01 and\\n$2,500,000\\n0.93% (e.g. $9.30 per $1,000) for taxable gross receipts between $2,500,000.01 and\\n$25,000,000\\n1.008% (e.g. $10.08 per $1,000) for taxable gross receipts over $25,000,000\\n(3) For all business activities not otherwise exempt and not elsewhere\\nsubjected to a gross receipts tax rate or an administrative office tax by this Article 12-A-1:\\n(B) For tax years 2022 and, if the Controller does not certify under\\nSection 953.10 that the 90% gross receipts threshold has been met for tax year 2023, for tax\\nyear 2023:\\n0.788% (e.g. $7.88 per $1,000) for taxable gross receipts between $0 and $1,000,000\\n0.825% (e.g. $8.25 per $1,000) for taxable gross receipts between $1,000,000.01 and\\n$2,500,000\\n0.9% (e.g. $9 per $1,000) for taxable gross receipts between $2,500,000.01 and\\n$25,000,000\\n0.975% (e.g. $9.75 per $1,000) for taxable gross receipts over $25,000,000\\n(C) For tax year 2023 if the Controller certifies under Section 953.10 that the\\n90% gross receipts threshold has been met for tax year 2023,', 'cfa39811-f457-4152-b2d9-fa4179b117f4': '(d) Notwithstanding any other subsection of this Section 2804, every person engaging\\nin business within the City as an administrative office, as defined in Section 953.8 of\\nArticle 12-A-1, shall pay an annual homelessness administrative office tax measured by its\\ntotal payroll expense, as defined in Section 953.8(f) of Article 12-A-1, that is attributable to the\\nCity. If a person is a member of a combined group, then its tax shall be measured by the total\\npayroll expense of the combined group attributable to the City. Such combined group shall\\npay only the homelessness administrative office tax, and not the tax imposed under other\\nsubsections of this Section 2804, but a person or combined group may be liable for both the\\nadministrative office tax imposed by Section 953.8 of Article 12-A-1 and the homelessness\\n82SA\\nCH\\nadministrative office tax imposed by this subsection (d). The homelessness administrative\\noffice tax rate for each tax year is 1.5%.\\nDEPARTIENT OF ELECT\\nUnless specified otherwise, this homelessness administrative office tax shall be\\nconsidered part of the Homelessness Gross Receipts Tax for all purposes.\\n(e) \"Taxable gross receipts\" means a person or combined group\\'s gross receipts, not\\nexcluded under Section 2805, attributable to the City. The person or combined group\\'s gross\\nreceipts that are attributable to the City shall be determined in the same manner as in\\nArticle 12-A-1, as amended from time to time.\\nIf the voters adopt any measure adding a business activity category in Section 953.7.5 of\\nArticle 12 A1 at the November 6, 2018 consolidated general election, any receipts from business\\nactivities described in that Section 953.7.5 shall be assigned, for purposes of this Article 28, to one or\\nmore of Sections 953.1 through 953.7 of Article 12 AI, inclusive, as if Section 953.7.5 were not added\\nto Article 12 41\\n(f) This Section 2804 shall apply to tax years ending on or before December 31, 2024.\\nSEC. 2804.1. IMPOSITION OF TAX.', 'ee8f2ee9-5b2f-411c-aa8b-d1711ab63dcf': '(h) The date from which the deadline for filing a claim under subsection (a) of this\\nSection 6.15-1 is determined and the date on which a claim shall be deemed to accrue under\\nsubsection (d) of this Section shall be the later of:\\n(1) For tax years and tax periods ending on or before December 31, 2021, and\\nregistration years ending on or before June 30, 2023:\\n(A) the payment of such amount;\\n18SAN\\nIch payment was due, without regard to\\n(B) the date the return accompanying such payment was\\nany extensions under Section 6.9-4; or\\nDEPARTMENT OF ELECTIONS\\n(C) the date on which such amount requested on a return, amended return, or\\nrequest for refund timely filed under subsection (g) of this Section 6.15-1 was denied under that\\nsubsection (g).\\n(2) For tax years and tax periods beginning on or after January 1, 2022, and\\nregistration years beginning on or after July 1, 2023 and ending on or before March 31, 2026, except\\nfor claims for refund subject to subsection (h)(3):\\n(A) the payment of such amount;\\n(B) the date the return accompanying such payment was due, including any\\nextensions; or\\n(C) the date on which such amount requested on a return, amended return, or\\nrequest for refund timely filed under subsection (g) of this Section 6.15-1 was denied under that\\nsubsection (g).', '201b5a7d-c979-44fb-91e6-3d58ff2a293a': 'CONTROLLER TO PUBLISH AND CERTIFY TAXABLE GROSS RECEIPTS\\nAMOUNTS.\\n(a) On or before October 3, 2022, for purposes of determining the applicable tax rates for tax\\nyear 2023, the Controller shall publish the total amount of taxable gross receipts for tax year 2021\\nreported by taxpayers as of June 30, 2022, and if that amount is equal to or greater than 90% of\\n53SANTA CO\\ntaxable gross receipts for tax year 2019 reported by taxpayers as of June 30, 2020, the Controller shall\\nDEPARTMEN OP QRECTIONS\\ncertify that the 90% gross receipts threshold has been met for tax year 2023.\\n(b) On or before October 2, 2023, for purposes of determining the applicable tax rates for tax\\nyear 2024, the Controller shall publish the total amount of taxable gross receipts for tax year 2022\\nreported by taxpayers as of June 30, 2023, and if that amount is equal to or greater than 95% of\\ntaxable gross receipts for tax year 2019 reported by taxpayers as of June 30, 2020, the Controller shall\\neertify that the 95% gross receipts threshold has been met for tax year 2024\\n(e) For purposes of this Section 953.10, \"taxable gross receipts\" means a person or combined\\ngroup\\'s gross receipts, not excluded under Section 954, attributable to the City.\\nSEC. 953.20. GROSS RECEIPTS TAX APPLICABLE TO CATEGORY 1 BUSINESS\\nACTIVITIES.\\n(a) The gross receipts tax rates applicable to Category 1 Business Activities are:\\n(1) For tax years 2025 and 2026:\\n0.1% for taxable gross receipts between $0 and $1,000,000\\n0.13% for taxable gross receipts between $1,000,000.01 and $2,500,000\\n0.18% for taxable gross receipts between $2,500,000.01 and $25,000,000\\n0.336% for taxable gross receipts between $25,000,000.01 and $50,000,000\\n0.336% for taxable gross receipts between $50,000,000.01 and $75,000,000\\n0.336% for taxable gross receipts between $75,000,', 'acdcf07f-d2d4-44fb-99de-f7a6adb5bc79': 'Jessica Lum\\nNNN\\nMajeid Crawford\\nZack Deutsch-Gross\\nJessie Fernandez\\nMel Flores\\nRodney Fong\\nSharky Laguana\\nAaron P. Leifer\\nJodie Medeiros\\nMaryo Mogannam\\nMaelig Morvan\\nSusan Murphy\\nCalvin Quick\\nPi Ra\\nMaurice Rivers\\nEric Rozell\\nEarl Shaddix\\nYensing Sihapanya\\nSujata Srivastava\\nWesley Tam\\nKim Tavaglione\\nJoan Van Rijn\\nChristopher White\\nCasandra Costello\\nCathy de Luca\\nEquity Priority Community\\nAdvocacy: Transit\\nAdvocacy: Equity\\nEquity Priority Community\\nBusiness/Civic: Large Business\\nBusiness/Civic: Small Business\\nNeighborhood/Community\\nBusiness/Civic: Tourism/Visitors\\nAdvocacy: Walk\\nBusiness/Civic: Small Business\\nNeighborhood/Community\\nEquity Priority Community\\nAdvocacy: Youth\\nAdvocacy: Seniors and People with Disabilities\\nEquity Priority Community\\nEquity Priority Community\\nEquity Priority Community\\nEquity Priority Community\\nBusiness/Civic: Civic\\nNeighborhood/Community\\nBusiness/Civic: Labor\\nNeighborhood/Community\\nAdvocacy: Bike\\nAlternate: Business/Civic: Tourism/Visitors\\nAlternate: Advocacy: Seniors and People with\\nDisabilities\\nAlternate: Business/Civic: Large Business\\nAlternate: Advocacy: Youth\\nDaniel Herzstein\\nSasha Hirji\\nMelvin Parham\\nAlternate: Equity Priority Community\\nMaribel Ramirez\\nAlternate: Equity Priority Community\\nSupervisors Mandelman; Walton, Peskin, Ronen, Melgar, Stefani, Preston, Mar, Safai, Dorsey\\nBOARD OF SUPERVISORS\\nPage 511\\nSection 4. Scope of Ordinance. In connection with the amendments to Article 14 of\\nthe Business and Tax Regulations Code contained in Section 2 of this ordinance, the voters\\nintend to amend only those words, phrases, paragraphs, subsections, sections, articles,\\nnumbers, punctuation marks, charts, diagrams, or any other constituent parts of the Business\\nand Tax Regulations Code that are explicitly shown therein as additions, deletions, Board\\namendment additions, and Board amendment deletions in accordance with the \"Note\" that\\nappears under the official title of the ordinance.\\nSection 5.', 'e9d1e70d-a41f-4fb3-b8a6-9df0435d042e': '(a) In adopting the provisions of Part 1 (commencing with Section 6001) of Division 2 of\\nthe California Revenue and Taxation Code, wherever the State of California is named or\\nreferred to as the taxing agency, the name of the Authority shall be substituted therefor. The\\nsubstitution, however, shall not be made when\\n(1) When the word \"State\" is used as part of the title of the State Controller, the\\nState Treasurer, the State Board of Control. the State Board of Equalization, the State Treasury, or\\nthe Constitution of the State of California;\\n(2) When the result of that substitution would require action to be taken by or\\nagainst the Authority or any agency, officer, or employee thereof rather than by or against the\\nState Board of EqualizationCalifornia Department of Tax and Fee Administration, in performing the\\nfunctions incident to the administration or operation of this ordinance Article 14;\\n(3) the substitution shall not be made in those sections, including, but not\\nnecessarily limited to, sections referring to the exterior boundaries of the State of California,\\nwhere the result of the substitution would be to:\\n(A) pProvide an exemption from this #Tax with respect to certain sales,\\nstorage, use, or other consumption of tangible personal property which would not otherwise\\nbe exempt from this #Tax while such sales, storage, use, or other consumption remains\\nsubject to tax by the State under the provisions of that code Part 1 (commencing with\\nSection 6001) of Division 2 of the Revenue and Taxation Code; or\\n(B) Impose this Tax with respect to certain sales, storage, use, or other\\nconsumption of tangible personal property which would not be subject to tax by the State under the\\nprovisions of Part 1 (commencing with Section 6001) of Division 2 of the Revenue and Taxation Code:\\nSupervisors Mandelman; Walton, Peskin, Ronen, Melgar, Stefani, Preston, Mar, Safai, Dorsey\\nBOARD OF SUPERVISORS\\nPage 101\\n(4)_the-substitution shall not be made in Sections 6701, 6702, (except in the last\\nsentence thereof), 6711, 6715, 6737, 6797, or 6828 of the California Revenue and Taxation\\nCode.', 'c4b9cd4b-f6e2-42c8-958e-4dc67b7a0b50': '33SAN\\nFIEW\\n2024 MAY 10 BJ: 29\\n6. The legislation will gradually phase in the new gross receipts tax over a five-year period,\\nDEPARTA\\nbeginning in tax year 2014, to allow businesses time to adjust to the change and to minimize the risk to\\nthe City and to taxpayers of instability in City revenues during the transition from the payroll expense\\ntax to a gross receipts tax.\\n7. Also beginning in tax year 2014, the payroll expense tax will be adjusted, over the same\\nperiod, in increments that are consistent with the phase in of the gross receipts tax.\\n8. Each year during the phase in period, the formula dictates an increase in the gross receipts\\ntax rate and an adjustment in the payroll expense tax rate that is expected to reduce the payroll expense\\ntax rate to zero by or before 2018. The Controller will calculate the annual increase in the gross\\nreceipts tax rate and the adjustment in the payroll expense tax rate by applying formulas specified in\\nthis legislation.\\nSEC. 952.4. NAICS CODE.\\n\"NAICS code\" means the numerical classification for business activities established in\\nthe North American Industry Classification System used by federal governmental agencies to\\nclassify business establishments; References in Sections 953.1 through 953.7 of this\\nArticle 12-A-1 to particular numerical NAICS codes are intended to apply the definitions and\\ndescriptions adopted in that system as of December 15, 2012the effective date of this Article.\\nReferences in Sections 953.20 through 953.26, 960.1, and 960.3 of this Article to particular numerical\\nNAICS codes are intended to apply the definitions and descriptions adopted in that system as of\\nJanuary 1, 2022.\\nSEC. 953. IMPOSITION OF GROSS RECEIPTS TAX.\\n(a) Except as otherwise provided under this Article 12-A-1, the City imposes and every\\nperson engaging in business within the City shall pay an annual gross receipts tax measured\\n34SAMARK 30\\n2024 MAY 10 PE29\\nby the person\\'s gross receipts from all taxable business activities attributable to the City. A\\nDEPARTMENT OF ELECTIONS\\nperson\\'s liability for the gross receipts tax shall be calculated according to this\\nArticle 12-A-1Sections 953.1 through 953.7.', '95e10beb-ace9-4ebe-8307-cf3feb0bd20e': 'd. Level and diversity of community support.\\nProjects with clear and diverse community\\nsupport, including from disadvantaged\\npopulations (e.g., communities historically\\nharmed by displacement, transportation\\npolicies, and projects that utilized eminent\\ndomain; people with low incomes; and people\\nof color) and/or identified through a\\ncommunity-based planning process will be\\nprioritized. Projects with documented support\\nSupervisors Mandelman; Walton, Peskin, Ronen, Melgar, Stefani, Preston, Mar, Safai, Dorsey\\nBOARD OF SUPERVISORS\\nPage 461\\n2 2 2\\nfrom disadvantaged populations will receive\\nadditional priority. An example of a\\ncommunity-based plan is a neighborhood\\ntransportation plan, corridor improvement\\nstudy, or station area plan that is community-\\ndriven.\\ne. Benefit to disadvantaged populations,\\nincluding communities historically harmed by\\ndisplacement, transportation policies, and\\nprojects that utilized eminent domain, whether\\nthe project is directly located in an Equity\\nPriority Community or can demonstrate\\nbenefits to disadvantaged populations.\\nThe Transportation Authority and any appropriate\\ndesignated agencies shall conduct the required public\\noutreach and engagement to ensure an inclusive planning\\nprocess for the development of the 5YPPs, as well as\\nGeneral Plan referral or referral to any City Department or\\nCommission, as required. The Transportation Authority\\nworking with eligible sponsoring agencies shall also identify\\nappropriate performance measures informed by the\\nCongestion Management Program, such as increased\\nsystem connectivity, increased transit ridership (net new\\nriders), reductions in travel time for existing riders, system\\nsafety, vehicle miles traveled, and increased use of\\nSupervisors Mandelman; Walton, Peskin, Ronen, Melgar, Stefani, Preston, Mar, Safai, Dorsey\\nBOARD OF SUPERVISORS\\nPage 471\\nཡག་\\n≈ 2 2 1\\nC.\\nalternatives to the single-occupant automobile, along with a\\ntimeline for assessing the performance measures to inform\\nthe next 5YPP updates, which shall be at least every 5\\nyears concurrent with Strategic Plan updates.\\nIn order to inform 5YPP development and allocation of\\nfunds, the Transportation Authority shall report at least once\\nevery 5 years on the citywide geographic distribution of\\n2022 Sales Tax allocations and the distribution of projects\\nlocated in EPCs and/or benefiting disadvantaged\\npopulations.', 'ea88b846-666a-411c-a40a-b5b7c25308ea': 'The\\nvoters may approve increases to this limit for up to four years.\\nThe Proposal\\nThe proposed measure would change the City\\'s business taxes to:\\n•\\nFor the gross receipts tax:\\n○ recategorize business types, reducing the number from 14 to seven;\\ndetermine San Francisco gross receipts for some businesses based less on payroll\\nexpenses and more on sales;\\no change rates to between 0.1% and 3.716%; and\\nexempt most businesses with gross receipts up to $5 million (increased by\\ninflation).\\nApply the homelessness gross receipts tax on business activities with San Francisco gross\\nreceipts over $25 million, at rates between 0.162% and 1.64%.\\nModify how the City calculates the overpaid executive gross receipts tax and who pays\\nthat tax, and set rates between 0.02% and 0.129%.\\nAdjust business registration fees to between $55 and $60,000 (increased by inflation).Adjust the administrative office tax rates for certain large businesses to range from 2.97%\\nto 3.694%, and the business registration fees for these taxpayers to between $500 and\\n$35,000 (increased by inflation).\\nMake administrative and other changes to the City\\'s business taxes.\\nThe homelessness gross receipts tax would continue to fund services for people experiencing\\nhomelessness and homelessness prevention. The City would use the other taxes for general\\ngovernment purposes.\\nAll these taxes would apply indefinitely until repealed.\\nThis proposal would increase the City\\'s spending limit for four years.SALITA CO\\n2024 MAY 10 PH 1:27\\nDEPARTMENT OF ELECTI\\n\"Local Small Business Tax Cut Ordinance\"\\nBe it ordained by the People of the City and County of San Francisco:\\nNOTE:\\nUnchanged Code text and uncodified text are in plain font.\\nAdditions to Codes are in single-underline italics Times New Roman font.\\nDeletions to Codes are in strikethrough italics Times New Roman font.\\nAsterisks (* * * *) indicate the omission of unchanged Code\\nsubsections or parts of tables.\\nSection 1. Title. This initiative is known and may be referred to as the \"Local Small\\nBusiness Tax Cut Ordinance.\"\\nSection 2. Article 2 of the Business and Tax Regulations Code is hereby amended by\\nrevising Section 76.3 to read as follows:\\nSEC. 76.3.', '9b665465-1b66-49ac-80d9-02cf60d9cb7a': 'if the Controller does not certify under\\nSection 953.10 that the 90% gross receipts threshold has been met for tax year 2023, for tax\\nyear 2023:\\n0.6% (e.g. $6 per $1,000) for taxable gross receipts between $0 and $1,000,000\\n0.69% (e.g. $6.90 per $1,000) for taxable gross receipts between $1,000,000.01 and\\n$2,500,000\\n48SAN AND CO\\n2024 HAY 10 PM 1:30\\n0.765% (e.g. $7.65 per $1,000) for taxable gross receipts between $2,500,000.01 and\\nDEPARTMENT OF ELECTIVE\\n$25,000,000\\n0.84% (e.g. $8.40 per $1,000) for taxable gross receipts over $25,000,000\\n(C) For tax year 2023 if the Controller certifies under Section 953.10 that the\\n90% gross receipts threshold has been met for tax year 2023, and for tax year 2024 if the Controller\\ndoes not certify under Section 953.10 that the 95% gross receipts threshold has been met for tax\\nyear 2024:\\n0.62% (e.g. $6.20 per $1,000) for taxable gross receipts between $0 and $1,000,000\\n0.713% (e.g. $7.13 per $1,000) for taxable gross receipts between $1,000,000.01 and\\n$2,500,000\\n0.791% (e.g. $7.91 per $1,000) for taxable gross receipts between $2,500,000.01 and\\n$25,000,000\\n0.868% (e.g. $8.68 per $1,000) for taxable gross receipts over $25,000,000\\n(D) For tax year 2024 if the Controller certifies under Section 953.10 that the\\n95% gross receipts threshold has been met for tax year 2024, and for tax years beginning on or after\\nJanuary 1, 2025:\\n0.64% (e.g. $6.40 per $1,', 'a9851f2b-f899-4d3a-9a12-d67ad1b13e3a': \"High priority shall be\\ngiven to installation of a next generation communications-based train control\\nsystem for the Muni surface and subway rail network. Engineering\\nimprovements include but are not limited to lengthening existing platforms to\\naccommodate 3- and 4-car light rail trains in the Muni Metro Tunnel between\\nWest Portal and Embarcadero stations, and 3-car trains on the N Judah line.\\nUpgrades to switches, crossovers, and other components to increase subway\\nreliability and throughput, and modifications to subway portals to minimize\\nconflicts. Purchase of additional light rail vehicles to increase the fleet's overall\\ncapacity and new/upgraded maintenance and/or storage facilities to house\\nadditional vehicles. Includes project development and capital costs. Sponsor\\nAgency: SFMTA. The first $50M is Priority 1 and the remainder is Priority 2.\\nTotal Funding: $720M; EP: $57M.\\niii. BART Core Capacity\\nImprovements that will allow BART to operate up to 30 ten-car trains per hour in\\neach direction through the existing Transbay Tube (an increase from the current\\ncapacity of 23 trains per hour). Eligible project types include but are not limited\\nto: new (additional) rail cars; a new communications-based train control system;\\na new rail car storage yard at the Hayward Maintenance Complex; and\\nadditional traction power substations to provide the power needed for more\\nfrequent service. Includes project development and capital costs. As a\\nprerequisite to allocation of funds, the Transportation Authority Board shall\\nconsider whether Alameda and Contra Costa Counties have contributed a\\nSupervisors Mandelman; Walton, Peskin, Ronen, Melgar, Stefani, Preston, Mar, Safai, Dorsey\\nBOARD OF SUPERVISORS\\nPage 311\\n4 5 6 7\\n오심 ㅎㅎ\\n2 2 2 2\\ncommensurate amount to the BART Core Capacity Program. Sponsor Agency:\\nBART. Total Funding: $3,536.4M; EP: $100M.\\niv.\\nCaltrain Service Vision: Capital System Capacity Investments\\nProgrammatic capital improvements that will allow Caltrain service to operate up\\nto eight trains per direction per hour consistent with the Caltrain Business Plan\\nService Vision.\", '494bed67-056c-465b-bf51-d350c01c1163': '(b) The name of the word \"District\" shall be substituted for the word \"state\" in the phrase\\n\"retailer engaged in business in this state\" in Section 6203 and in the definition of that phrase\\nin Section 6203. \"A retailer engaged in business in the District\" shall also include any retailer that,\\nin the preceding calendar year or the current calendar year, has total combined sales of tangible\\nretailer that exceed $500.000. For purposes of this subsection (b), a person is related to another\\npersonal property in this State or for delivery in the State by the retailer and all persons related to the\\nperson if both persons are related to each other pursuant to Section 267(b) of Title 26 of the United\\nStates Code and the regulations thereunder.\\nSEC. 1411. PERMIT NOT REQUIRED.\\nIf a seller\\'s permit has been issued to a retailer under Section 6067 of the California\\nRevenue and Taxation Code Section 6067, an additional transactor\\'s permit shall not be\\nrequired by this ordinanceArticle 14.\\nSEC. 1412. EXEMPTIONS, EXCLUSIONS, AND CREDITS.\\n(a) There shall be excluded from the measure of the transactions Tax and the use\\n#Tax the amount of any sales tax or use tax imposed by the State of California or by any city,\\ncity and county, or county pursuant to the Bradley-Burns Uniform Local Sales and Use Tax\\nLaw or the amount of any state-administered transactions or use tax.\\n(b) There are exempted from the computation of the amount of transactions #Tax gross\\nreceipts when they are from:\\nSupervisors Mandelman; Walton, Peskin, Ronen, Melgar, Stefani, Preston, Mar, Safai, Dorsey\\nBOARD OF SUPERVISORS\\nPage 111\\n(1) Sales of tangible personal property other than fuel or petroleum products to\\noperators of aircraft to be used or consumed principally outside the City and County of San\\nFrancisco-county in which the sale is made and directly and exclusively in the use of such aircraft\\nas common carriers of persons or property under the authority of the laws of this sState, the\\nUnited States, or any foreign government.', 'e36339c8-afc3-4a93-af3a-99a1fc50e0ef': \"Rehabilitation, upgrades, and/or\\nreplacement of: existing facilities for maintenance and operations,\\nincluding equipment and upgrades to support the electrification of\\nthe Muni motor coach fleet and to improve resilience to climate\\nchange; rail stations including, but not limited to, platform edge\\ntiles, elevators, escalators, and faregates; existing rail, overhead\\ntrolley wires, signals, traction power stations, and automatic train\\ncontrol systems, as well as upgrades to improve resilience to\\nclimate change. The intent is to implement transit priority and\\nreliability improvements whenever guideways rehabilitation,\\nupgrade, or replacement projects are undertaken. Includes project\\ndevelopment and capital costs. Sponsor Agency: SFMTA. The\\nfirst $784M is Priority 1 and the remainder is Priority 2. Total\\nFunding: $7,934.8M; EP: $825M.\\nSupervisors Mandelman; Walton, Peskin, Ronen, Melgar, Stefani, Preston, Mar, Safai, Dorsey\\nBOARD OF SUPERVISORS\\nPage 331\\n- 2 3 4 500\\nNNNNNNão\\n2. BART. Programmatic improvements for the upgrade,\\n3.\\nrehabilitation, and replacement of BART's capital assets. Eligible\\nproject types include, but are not limited to, the upgrade,\\nrehabilitation, and replacement of: transit vehicles and on-board\\nequipment; transit stations including platform edge tiles, elevators,\\nescalators, and faregates; transit facilities and facilities-related\\nequipment; and guideways such as rail, train control, traction\\npower, and related equipment. Facilities and guideways\\nimprovements may include upgrades to improve resilience to\\nclimate change. Additional elevators, escalators, and faregates\\nare also eligible. In shared BART/Muni stations, elevator and\\nescalator projects must include shared Muni access and/or\\nredundancy where cost effective. Includes project development\\nand capital costs. The first $35M is Priority 1 and the remainder is\\nPriority 2. Sponsor Agency: BART. Total Funding: $547.7M; EP:\\n$45M.\\nCaltrain.\", 'bd201a07-1ab6-4cdb-858e-f54199b2b720': '(eiii) Compensation paid to an employee who was employed by the\\nperson or combined group for only a portion of the tax year shall be \"annualized\" by\\nmultiplying the employee\\'s Compensation (or, as stated, for a part-time employee, full-time\\nequivalent Compensation) for the tax year by 52, and dividing the result by the number of\\nweeks that the employee was employed by that person or combined group during the tax\\nyear.\\n\"Highest-Paid Managerial Employee\" means the individual employee or officer of\\na person or combined group with managerial responsibility in a business function who\\nreceived the most Compensation for a tax year.\\n97SAN\\n10 1:32\\n(2) The following definitions apply for tax years beginning on or after January 1, 2025:\\n\"Compensation\" means wages, salaries, commissions, bonuses, property issued or\\ntransferred in exchange for the performance of services (including but not limited to stock options),\\ncompensation for services to owners of pass-through entities, and any other form of remuneration paid\\nto employees for services.\\n\"Executive Pay Ratio\" means the ratio of the Compensation paid to the person or\\ncombined group\\'s Highest-Paid Managerial Employee for a tax year to the median Compensation paid\\nto the person or combined group\\'s full-time and part-time employees based in the City for that tax year.\\nThe median Compensation paid to the person or combined group\\'s full-time and part-time employees\\nbased in the City for that tax year shall be determined on a full-time equivalency and annualized basis,\\nand shall be determined without regard to any Compensation paid to the Highest-Paid Managerial\\nEmployee who may be based in the City for that tax year. For purposes of this definition:\\n(i) An employee is \"based in the City for [a] tax year\" if the employee\\'s total\\nworking hours in the City for the person or combined group during the tax year exceeds the employee\\'s\\ntotal working hours in any other local jurisdiction for the person or combined group during the tax\\nyear.\\n(ii) Compensation paid to a part-time employee for the tax year shall be\\nconverted to a \"full-time equivalency\" by multiplying the part-time employee\\'s Compensation for the\\ntax year by 40, and dividing the result by the average number of hours the part-time employee worked\\nper week during the tax year for the person or combined group.', '2dfcb50c-3222-4600-94aa-fba69c7221e6': '(b) For only so long as and to the extent that the City is prohibited from imposing the\\nHomelessness Gross Receipts Tax, any person upon whom the City is prohibited under the\\nConstitution or laws of the State of California or the Constitution or laws of the United States\\nfrom imposing the Homelessness Gross Receipts Tax shall be exempt from the\\nHomelessness Gross Receipts Tax.\\n(c) For purposes of this Article 28, gross receipts shall not include receipts that are\\nexcluded from gross receipts for purposes of the gross receipts tax imposed by Article 12-A-1,\\nand also shall not include receipts subject to a gross receipts tax on commercial rents\\nimposed as a result of a measure adopted by the voters of San Francisco in the June 5, 2018\\nelection.\\n(d) This Section 2805 shall apply to tax years ending on or before December 31, 2024.\\nSEC. 2805.3. EXEMPTIONS AND EXCLUSIONS.\\n(a) An organization that is exempt from income taxation by Chapter 4 (commencing with\\nSection 23701) of Part 11 of Division 2 of the California Revenue and Taxation Code or Subchapter F\\n(commencing with Section 501) of Chapter 1 of Subtitle A of the Internal Revenue Code of 1986, as\\namended, as qualified by Sections 502, 503, 504, and 508 of the Internal Revenue Code of 1986, as\\namended, shall be exempt from taxation under this Article 28, only so long as those exemptions\\ncontinue to exist under state or federal law.\\n(b) For purposes of this Article 28, gross receipts as defined in Section 952.3 shall not include\\nreceipts from business activities if, and only so long as and to the extent that, the City is prohibited\\n93SA\\n01:32\\nfrom taxing such receipts under the Constitution or laws of the United States or under the Constitution\\nor laws of the State of California.\\n(c) Rent Controlled Buildings Exclusion. A person subject to the homelessness gross receipts\\ntax may exclude from gross receipts in any tax year 50% of the total amount received from the rental of\\nreal property to tenants in occupancy at any location in the City, which is subject to limits on rent\\nincreases pursuant to the Residential Rent Stabilization and Arbitration Ordinance, Administrative\\nCode, Chapter 37, Section 37.1 et seq.', 'b92edc41-8d4b-4c37-a390-c148c81708ee': '10 F\\n1:32\\nDEF ARITIENT OF SLECTIONS\\n(2) The total combined gross receipts of that person and its related entities reported on\\nUnited States federal income tax return(s) for the tax year was $1,000,000,000 or less.\\nSection 9. Amendment of Ordinance by Board of Supervisors. Sections 6.24-1, 863,\\n962, 2113, 2811, and 3310 of Articles 6, 12, 12-A-1, 21, 28, and 33, respectively, of the\\nBusiness and Tax Regulations Code shall apply to those Articles as amended by this\\nordinance.\\nSection 10. Appropriations Limit Increase. Pursuant to California Constitution\\nArticle XIII B and applicable laws, for four years from November 5, 2024, the appropriations\\nlimit for the City shall be increased by the revenues collected under Articles 12, 12-A-1, 28,\\nand 33 of the Business and Tax Regulations Code.\\nSection 11. Scope of Ordinance. In enacting this ordinance, the People of the City\\nand County of San Francisco intend to amend only those words, phrases, paragraphs,\\nsubsections, sections, articles, numbers, punctuation marks, charts, diagrams, or any other\\nconstituent parts of the Municipal Code that are explicitly shown in this ordinance as additions\\nor deletions, in accordance with the \"Note\" that appears under the official title of the\\nordinance.\\nSection 12. Severability. If any section, subsection, sentence, clause, phrase, or word\\nof this ordinance, or any application thereof to any person or circumstance, is held to be\\ninvalid or unconstitutional by a decision of a court of competent jurisdiction, such decision\\nshall not affect the validity of the remaining portions or applications of the ordinance. The\\nPeople of the City and County of San Francisco hereby declare that they would have adopted\\n108SA CO\\nthis ordinance and each and every section, subsection, sentence, clause, phrase, and word\\nnot declared invalid or unconstitutional without regard to whether any other portion of this\\nordinance or application thereof would be subsequently declared invalid or unconstitutional.\\nSection 13. Effective Date. The effective date of this ordinance shall be ten days after\\nthe date the official vote count is declared by the Board of Supervisors.\\nSection 14.', '84683b2b-fb8e-442f-ad0a-894e0aabf27d': \"175%\\nSection 953.2\\n.500%\\nSection 953.3\\n.425%\\nSection 953.4\\n.690%\\nSection 953.5\\n.475%\\nSection 953.6\\n.600%\\nSection 953.7\\n.325%\\n(c) If, after applying any rules or elections used to assign receipts to a business activity\\nin Section 953.9 of Article 12-A-1, a person or combined group derives gross receipts from\\nbusiness activities described in more than one of Sections 953.1 through 953.7 of\\nArticle 12-A-1, inclusive, the taxable gross receipts and rate or rates of tax to be applied to\\nthat person or combined group shall be determined as follows:\\n81SAND\\n10 P 3\\nDEPARTNER OF ELECTING\\n(1) The taxable gross receipts shall be determined on an aggregate basis in\\nnumbered order of Sections 953.1 through 953.7, inclusive, i.e. the taxable gross receipts for\\nbusiness activities described in Section 953.1 of Article 12-A-1 should be determined first,\\nSection 953.2 of Article 12-A-1 second, and so on;\\n(2) The rates in subsection (b) shall apply to the gross receipts from the\\ncorresponding sets of business activities described in Sections 953.1 through 953.7 of\\nArticle 12-A-1, inclusive, except that the rate shall be 0% for the first $50,000,000 of the\\nperson or combined group's total taxable gross receipts from all taxable business activities;\\n(3) Whether the 0% rate for the first $50,000,000 of the person or combined\\ngroup's total taxable gross receipts from all taxable business activities applies to any set of\\nbusiness activities after the first shall be determined by adding to the taxable gross receipts\\nfrom that set of business activities all of the taxable gross receipts from all previous sets of\\nbusiness activities; and\\n(4) The Homelessness Gross Receipts Tax for the person or combined group\\nshall be the sum of the liabilities for each set of business activities determined under\\nsubsections (c)(1) through (3).\", 'fd81d20a-e1c1-4601-8bbb-7b9650d4a960': 'SEC. 954.1. SMALL BUSINESS EXEMPTION.\\n(a) Notwithstanding any other provision of this Article 12-A-1, a \"small business\\nenterprise,\" as hereinafter defined for purposes of this Article, shall be exempt from payment\\nof the gross receipts tax, nevertheless, a small business enterprise shall pay the annual\\nregistration fee pursuant to Section 855 of Article 12.\\nmean:\\n(b) For purposes of this Article 12-A-1, the term \"small business enterprise\" shall\\n(1) For tax years beginning on or after January 1, 2014 and ending on or before\\nDecember 31, 2020, any person or combined group, except for a lessor of residential real\\nestate, whose gross receipts within the City did not exceed $1,000,000, adjusted annually in\\naccordance with the increase in the Consumer Price Index: All Urban Consumers for the San\\nFrancisco/Oakland/San Jose Area for All Items as reported by the United States Bureau of\\nLabor Statistics, or any successor to that index, as of December 31 of the preceding year,\\nbeginning with December 31, 2014.\\n69(2) For tax years beginning on or after January 1,\\nSA\\ndo\\n2021 and 131\\nending on or before\\nDECARTMENT OF ELECTIONS\\nDecember 31, 2024, any person or combined group, except for a lessor of residential real\\nestate, whose gross receipts within the City did not exceed $2,000,000, adjusted annually in\\naccordance with the increase in the Consumer Price Index: All Urban Consumers for the San\\nFrancisco/Oakland/San Jose Area for All Items as reported by the United States Bureau of\\nLabor Statistics, or any successor to that index, as of December 31 of the preceding year,\\nbeginning with December 31, 2021.', 'fdb6ed5f-b2e3-4fbf-8222-c9221c7ccf6a': 'History and Background.\\n(a) Pursuant to California Public Utilities Code (\"Public Utilities Code\") Section 131000\\net seq., and as approved by the voters at the November 7, 1989 election as Proposition B, the\\nSan Francisco County Transportation Authority (\"Authority”) imposed a local retail\\nSupervisors Mandelman; Walton, Peskin, Ronen, Melgar, Stefani, Preston, Mar, Safai, Dorsey\\nBOARD OF SUPERVISORS\\nPage 11\\ntransactions and use tax (\"tax\") of 0.5% for 20 years, with the revenues of the tax to be spent\\non projects specified in the Transportation Expenditure Plan adopted by the Authority and the\\nissuance of up to $742,000,000 in limited tax bonds by the Authority. At the November 4,\\n2003 election, the voters approved Proposition K, which adopted a New Transportation\\nExpenditure Plan that superseded Proposition B\\'s Transportation Expenditure Plan and\\nauthorized the Authority to issue up to an aggregate amount of $1,880,000,000 of limited tax\\nbonds, funded by continuing the tax at the same 0.5% rate, subject to approval of future\\nupdates of the New Transportation Expenditure Plan pursuant to Public Utilities Code\\nSection 131056.\\nㅇㅇ ㅎㅎ\\n2 2 2 2\\n(b) As provided in Public Utilities Code Section 131056, the Authority has prepared a\\nnew county transportation expenditure plan (\"2022 Transportation Expenditure Plan\"), which\\nwill supersede the New Transportation Expenditure Plan adopted as part of Proposition K in\\nNovember 2003. The 2022 Transportation Expenditure Plan provides for funding of\\ntransportation projects for 30 years, and has been recommended by the Expenditure Plan\\nAdvisory Committee established by the Authority, approved by the Metropolitan\\nTransportation Commission, and endorsed by the Authority. The Authority has recommended\\nthat the Board of Supervisors submit to the voters for approval by a two-thirds majority at the\\nNovember 8, 2022 election the 2022 Transportation Expenditure Plan, the continuation of the\\nAuthority\\'s existing 0.5% tax to fund the 2022 Transportation Expenditure Plan, and the\\nauthority to issue limited tax bonds in an aggregate principal amount not to exceed\\n$1,910,000,000.', '16078ca9-1731-471f-8d07-9870769fa3f0': \"Carlton B. Goodlett Place\\nSan Francisco, CA 94102-4689\\nFile Number:\\nDate Passed: July 19, 2022\\nOrdinance approving a new 2022 Transportation Expenditure Plan for the County Transportation\\nAuthority and submitting to the voters at an election to be held on November 8, 2022, an Ordinance\\namending the Business and Tax Regulations Code to continue in effect the existing local transactions\\nand use tax at the existing rate of 0.5% for 30 years to fund transportation improvements under the\\n2022 Transportation Expenditure Plan; increasing the Transportation Authority's appropriations limit\\nby the amount collected under the transactions and use tax for four years from November 8, 2022;\\nauthorizing the Transportation Authority to issue limited tax bonds secured by transactions and use\\ntax revenues; affirming the Transportation Authority's determination under the California\\nEnvironmental Quality Act; and making findings of consistency with the General Plan, and the eight\\npriority policies of Planning Code, Section 101.1.\\nJune 29, 2022 Budget and Finance Committee - RECOMMENDED\\nJuly 12, 2022 Board of Supervisors - PASSED ON FIRST READING\\nAyes: 11 - Chan, Dorsey, Mandelman, Mar, Melgar, Peskin, Preston, Ronen,\\nSafai, Stefani and Walton\\nJuly 19, 2022 Board of Supervisors - FINALLY PASSED\\nAyes: 11 - Chan, Dorsey, Mandelman, Mar, Melgar, Peskin, Preston, Ronen,\\nSafai, Stefani and Walton\\nFile No. 220536\\nI hereby certify that the foregoing\\nOrdinance was FINALLY PASSED on\\n7/19/2022 by the Board of Supervisors of\\nthe City and County of San Francisco.\\nInda Broad\\nLondon N. Breed\\nMayor\\nContritts\\nAngela Calvillo\\nClerk of the Board\\n7/21/22\\n7/\\nDate Approved\\nCity and County of San Francisco\\nPage 1\\nPrinted at 1:50 pm on 7/20/22\", 'a4893f60-7526-4643-8aa8-237e3683221a': \"The Tax Collector may not grant a\\nrequest for refund after this one-year period, and any\\naction by the Tax Collector after a\\nrefund request under this subsection (g) has been deemed denied shall not constitute a denial\\nand shall have no effect on the statute of limitations for filing a claim for refund under\\nsubsections (a)-(f) and (h) of this Section 6.15-1.\\n(5) In lieu of requesting a refund on a return, amended return, or request for\\nrefund form, a taxpayer may elect to apply an overpayment of the business registration fee in\\nArticle 12, the Gross Receipts Tax in Article 12-A-1 (including the tax on administrative office\\nbusiness activities under Section 953.8 of Article 12-A-1), the Sugary Drinks Distributor Tax in\\nArticle 8, the Early Care and Education Commercial Rents Tax in Article 21, the\\nHomelessness Gross Receipts Tax in Article 28 (including the homelessness administrative\\noffice tax under Section 2804(d) of Article 28), the Cannabis Business Tax in Article 30, or the\\nOverpaid Executive Gross Receipts Tax in Article 33 (including the tax on administrative office\\nbusiness activities under Section 3303(g)) as a credit against the taxpayer's immediately\\nsucceeding payment or payments due for tax years or periods ending on or before\\nDecember 31, 2024, of the respective tax type, for up to one year. Any election to apply an\\noverpayment to the taxpayer's future liability shall be binding and may not later be changed by\\nthe taxpayer.\", '1a6d91c8-09df-497d-afa5-a6e98543c369': '000,000.01 and $100,000,000\\n1.344% for taxable gross receipts between $100,000,000.01 and $150,000,000\\n1.344% for taxable gross receipts between $150,000,000.01 and $250,000,000\\n1.512% for taxable gross receipts between $250,000,000.01 and $500,000,000\\n1.512% for taxable gross receipts between $500,000,000.01 and $1,000,000,000\\n1.68% for taxable gross receipts over $1,000,000,000\\n(2) For tax year 2027:\\n0.52% for taxable gross receipts between $0 and $1,000,000\\n0.52% for taxable gross receipts between $1,000,000.01 and $2,500,000\\n0.78% for taxable gross receipts between $2,500,000.01 and $25,000,000\\n66SANA co\\n2024 MAY 10 PH 1:30\\nDEPARTIENT OF ELES\\n0.712% for taxable gross receipts between $25,000,000.01 and $50,000,000\\n1.068% for taxable gross receipts between $50,000,000.01 and $75,000,000\\n1.068% for taxable gross receipts between $75,000,000.01 and $100,000,000\\n1.424% for taxable gross receipts between $100,000,000.01 and $150,000,000\\n1.424% for taxable gross receipts between $150,000,000.01 and $250,000,000\\n1.602% for taxable gross receipts between $250,000,000.01 and $500,000,000\\n1.602% for taxable gross receipts between $500,000,000.01 and $1,000,000,000\\n1.78% for taxable gross receipts over $1,000,000,000\\n(3) For tax years beginning on or after January 1, 2028:\\n0.536% for taxable gross receipts between $0 and $1,000,000\\n0.536% for taxable gross receipts between $1,000,000.01 and $2,500,000\\n0.803% for taxable gross receipts between $2,500,000.', 'b606e26d-156c-4c44-89af-56c98d8bad6a': \"(b) For tax years ending on or before December 31, 2024, The Overpaid Executive Gross\\nReceipts Tax shall be calculated as follows:\\n(1) 0.1% of the person or combined group's taxable gross receipts for a tax year\\nif the person or combined group has an Executive Pay Ratio for that tax year of greater than\\n100:1, but less than or equal to 200:1;\\n(2) 0.2% of the person or combined group's taxable gross receipts for a tax year\\nif the person or combined group has an Executive Pay Ratio for that tax year of greater than\\n200:1, but less than or equal to 300:1;\\n(3) 0.3% of the person or combined group's taxable gross receipts for a tax year\\nif the person or combined group has an Executive Pay Ratio for that tax year of greater than\\n300:1, but less than or equal to 400:1;\\n99SA\\nZUR NAY TO PALJ 32\\n(4) 0.4% of the person or combined group's taxable gross receipts for a tax year\\nDEPARTMENT OF ELECTIONS\\nif the person or combined group has an Executive Pay Ratio for that tax year of greater than\\n400:1, but less than or equal to 500:1;\\n(5) 0.5% of the person or combined group's taxable gross receipts for a tax year\\nif the person or combined group has an Executive Pay Ratio for that tax year of greater than\\n500:1, but less than or equal to 600:1; or\\n(6) 0.6% of the person or combined group's taxable gross receipts for a tax year\\nif the person or combined group has an Executive Pay Ratio for that tax year of greater than\\n600:1.\", '8e6e7f5f-056e-44c4-884d-7b3b66732afa': \"(5) For purposes of extensions requested under subsection (b)(2), failure to timely make\\nthe Required Payment for a tax type, or failure to file the return by the November 30 extended deadline\\nfor a tax type, will result in the automatic denial of the person's extension request for that tax type and\\nthe person being subject to the standard due dates in this Article 6, including any penalties, interest,\\nand fees, each calculated from those standard due dates, and other consequences of failing to file and\\npay by those due dates.\\n(c) Notwithstanding subsections (a) and (b) of this Section 6.9-4, the Tax Collector may\\nextend any time for filing any return or payment of tax or excuse penalties for any late filing or\\nlate payment by a period not to exceed 60 days if billing or other administrative duties of the\\nTax Collector cannot be performed in a timely manner.\\nSEC. 6.11-2. DEFICIENCY DETERMINATIONS; REVOCATION DETERMINATIONS;\\nNOTICE AND SERVICE.\\n(a) Upon making a determination pursuant to Section 6.11-1 or Section 6.11-1.1, as\\napplicable, or upon making a determination pursuant to Section 6.6-1 that a certificate shall\\nnot be issued or to revoke a registration, the Tax Collector shall give to the taxpayer or other\\nperson affected written notice of the Tax Collector's determination. Except in the case of\\n12SACO\\nFILE\\n202 MAY 10 PH 1:28\\nfraud, intent to evade the Business and Tax Regulations Code or rules and regulations issued\\nDEPARTHER OF ELECTIONS\\nby the Tax Collector, or failure to file a return, in all of which cases there is no statute of\\nlimitations, every notice of a deficiency determination shall be served within three years after\\nthe date that a return was due for a tax for the reporting period or three years after the return\\nwas actually filed for that reporting period, whichever is later. The taxpayer may agree in\\nwriting to extend said period for service of a notice of a deficiency determination.\", '2437f53d-aded-4449-a5e6-4c03f5e06641': '(a) The homelessness gross receipts tax rates applicable to Category 3 Business Activities for\\ntax years beginning on or after January 1, 2025 are:\\n0% for taxable gross receipts between $0 and $1,000,000\\n0% for taxable gross receipts between $1,000,000.01 and $2,500,000\\n0% for taxable gross receipts between $2,500,000.01 and $25,000,000\\n0% for taxable gross receipts between $25,000,000.01 and $50,000,000\\n0.325% for taxable gross receipts between $50,000,000.01 and $75,000,000\\n0.325% for taxable gross receipts between $75,000,000.01 and $100,000,000\\n0.325% for taxable gross receipts between $100,000,000.01 and $150,000,000\\n0.325% for taxable gross receipts between $150,000,000.01 and $250,000,000\\n0.325% for taxable gross receipts between $250,000,000.01 and $500,000,000\\n0.325% for taxable gross receipts between $500,000,000.01 and $1,000,000,000\\n0.325% for taxable gross receipts over $1,000,000,000\\n(b) \"Category 3 Business Activities\" has the same meaning as in Section 953.22(b) of\\nArticle 12-A-1 of this Business and Tax Regulations Code.\\n(c) The amount of taxable gross receipts from Category 3 Business Activities subject to the\\nhomelessness gross receipts tax shall be the total amount of gross receipts derived from or related to\\nreal properties located within the City.\\n86SEC. 2804.5. HOMELESSNESS GROSS RECEIPTS TAX APPLICABLE 1:31\\nBUSINESS ACTIVITIES.', '54a3d56a-74a2-44db-bed6-2d2d37589513': 'Section 8. Article 33 of the Business and Tax Regulations Code is hereby amended by\\nrevising Sections 3302, 3303, and 3304, to read as follows:\\nSEC. 3302. DEFINITIONS.\\n(a) Unless otherwise defined in this Article 33, the terms used in this Article shall have\\nthe meanings given to them in Articles 6, 12-A, and 12-A-1 of the Business and Tax\\nRegulations Code, as amended from time to time.\\n(b) For purposes of this Article 33:\\n(1) Tthe following definitions apply for tax years ending on or before\\nDecember 31, 2024:-\\n\"Compensation\" means wages, salaries, commissions, bonuses, property issued\\nor transferred in exchange for the performance of services (including but not limited to stock\\n96SA\\n209 BAY 10 PM 1:32\\noptions), compensation for services to owners of pass-through entities, and any other form of\\nDEPARTMENT OF ELECTIONS\\nremuneration paid to employees for services.\\n\"Executive Pay Ratio\" means the ratio of the annual Compensation paid to the\\nperson or combined group\\'s Highest-Paid Managerial Employee for a tax year to the median\\nCompensation paid to the person or combined group\\'s full-time and part-time employees\\nbased in the City for that tax year, determined on a full-time equivalency and annualized\\nbasis. For purposes of this definition:\\n(a) An employee is \"based in the City for [a] tax year\" if the employee\\'s\\ntotal working hours in the City for the person or combined group during the tax year exceeds\\nthe employee\\'s total working hours in any other local jurisdiction for the person or combined\\ngroup during the tax year.\\n(bii) Compensation paid to a part-time employee for the tax year shall be\\nconverted to a \"full-time equivalency\" by multiplying the part-time employee\\'s Compensation\\nfor the tax year by 40, and dividing the result by the average number of hours the part-time\\nemployee worked per week during the tax year for the person or combined group.'}\n",
            "Test corpus: {'884f3d8c-22f0-46d9-a431-9018fca60e49': \"TAX COLLECTOR AUTHORIZED TO DETERMINE GROSS RECEIPTS.\\n(a) For tax years ending on or before December 31, 2024, the Tax Collector may, in his or\\nher reasonable discretion, independently establish a person or combined group's gross\\nreceipts within the City and establish or reallocate gross receipts among related entities so as\\nto fairly reflect the gross receipts within the City of all persons and combined groups.\\n(b) For tax years beginning on or after January 1, 2025, the Tax Collector shall have the same\\nauthority with respect to the homelessness gross receipts tax as the Tax Collector has with respect to\\nthe gross receipts tax under Section 957 of Article 12-A-1 of this Business and Tax Regulations Code.\\nSEC. 2813. SEVERABILITY.\\n(a) Except as provided in Section 2813(b), below, if any section, subsection, sentence,\\nclause, phrase, or word of this Article 28, or any application thereof to any person or\\ncircumstance, is held to be invalid or unconstitutional by an unappealable decision of a court\\nof competent jurisdiction, such decision shall not affect the validity of the remaining portions or\\n95SA\\n2010 1:32\\napplications of this Article. The People of the City and County of San Francisco hereby\\nEDECOTONS\\ndeclare that, except as provided in Section 2813(b), they would have adopted this Article 28\\nand each and every section, subsection, sentence, clause, phrase, and word not declared\\ninvalid or unconstitutional without regard to whether any other portion of this Article or\\napplication thereof would be subsequently declared invalid or unconstitutional.\\n(b) If the imposition of the Homelessness Gross Receipts Tax in Section 2804 for tax\\nyears ending on or before December 31, 2024, or in Sections 2804.1 through 2804.11, inclusive, for tax\\nyears beginning on or after January 1, 2025, is held in its entirety to be facially invalid or\\nunconstitutional in a final unappealable court determination, the remainder of this Article 28\\nshall be void and of no force and effect, and the City Attorney shall cause it to be removed\\nfrom the Business and Tax Regulations Code, and likewise cause Section 10.100-164 to be\\nremoved from the Administrative Code.\\nSection 8.\", '44cceb46-68fd-4464-87d0-52f4d5e118a5': 'Such combined group shall pay only the administrative office tax. The\\nadministrative office tax rate is:\\n(1) For tax years beginning on or after January 1, 2014 and ending on or before\\nDecember 31, 2021: 1.4%.\\n(2) For tax years 2022 and, if the Controller does not certify under Section 953.10\\nthat the 90% gross receipts threshold has been met for tax year 2023, for tax year 2023: 1.47%.\\n551SANCO\\nPICY\\n7074 MAY 10 PM 1:30\\n(3) For tax year 2023 if the Controller certifies under Section 953.10 that the 90%\\nDEVARIGHT OF ELESTI\\ngross receipts threshold has been met for tax year 2023, and for tax year 2024 if the Controller does\\nnot certify under Section 953.10 that the 95% gross receipts threshold has been met for tax\\nyear 2024: 1.54%.\\n(4) For tax year 2024 if the Controller certifies under Section 953.10 that the 95%\\ngross receipts threshold has been met for tax year 2024, and for tax years beginning on or after\\nJanuary 1, 2025 and 2026: 1.471.61%.\\n(5) For tax year 2027: 1.59%.\\n(6) For tax years beginning on or after January 1, 2028: 1.68%.\\n(b) Administrative Office Business Activity.\\n(1) \"Engaging in business within the City as an administrative office\" means\\nthat:\\n(4) a person is engaging in business within the City during the tax year\\nand over 50% percent of the total combined payroll expense within the City of that person and\\nits related entities for the preceding-tax year was associated with providing administrative or\\nmanagement services exclusively to that person or related entities;\\n(B2) the total combined number of employees of that person and its\\nrelated entities within the United States as of the last day of the preceding tax year exceeded\\n1,000; and\\n(C3) the total combined gross receipts of that person and its related\\nentities reported on United States federal income tax return(s) for the preceding tax year\\nexceeded $1,000,000,000.', 'c6d12de1-ad8d-40c7-9071-cb0337efde89': \"(2) For tax years beginning on or after January 1, 2025:\\n(A) For a person or combined group's classification as engaging in business\\nwithin the City as an administrative office to change from one tax year to the next, the person or\\n52SANTA\\nThe co\\nRM 130\\ncombined group must fail to satisfy at least one of the conditions in subsections (A), (B), and (C) of\\nDEPARTMENT Q\\nsubsection (b)(1) for the current tax year and the immediately preceding two tax years.\\n(B) For a person or combined group's classification as not engaging in business\\nwithin the City as an administrative office to change from one tax year to the next, the person or\\ncombined group must satisfy all three of the conditions in subsections (A), (B), and (C) of\\nsubsection (b)(1) for the current tax year and the immediately preceding two tax years.\\n*\\nSEC. 953.9. PERSONS OR COMBINED GROUPS ENGAGED IN MULTIPLE BUSINESS\\nACTIVITIES.\\nIf a person, or a combined group as described in Section 956.3, engages in business\\nactivities described in more than one of Sections 953.1 through 953.7, inclusive, or engages\\nin business activities listed in more than one of subsections 953.1(a)(2), 953.1(a)(3),\\n953.2(a)(2), 953.2(a)(3), 953.2(a)(4), 953.2(a)(5), 953.3(a)(2), 953.3(a)(3), 953.4(a)(2),\\n953.4(a)(3), 953.6(a)(2), and 953.6(a)(3), the rate or rates of gross receipts tax to be applied\\nto that person or combined group, and the method for determining gross receipts in the City,\\nshall be determined as follows:\\n(c) This Section 953.9 shall not apply to tax years beginning on or after January 1, 2025.\\nSEC. 953.10. CONTROLLER TO PUBLISH AND CERTIFY TAXABLE GROSS RECEIPTS\\nAMOUNTS.\", 'ecc0cbbc-6e2b-4627-a532-018b51a5e2d9': \"As such, the 2022 Transportation\\nExpenditure Plan shall be amended into the Capital Improvement Program of\\nthe Congestion Management Program, developed pursuant to Section 65089 of\\nthe California Government Code. These programs are intended to help\\nimplement the long-range vision for the development and improvement of San\\nSupervisors Mandelman; Walton, Peskin, Ronen, Melgar, Stefani, Preston, Mar, Safai, Dorsey\\nBOARD OF SUPERVISORS\\nPage 201\\n2 3\\nB.\\n7 0 0 2\\nFrancisco's transportation system, as articulated in the San Francisco\\nTransportation Plan (SFTP) 2050.\\nThe SFTP is the City's blueprint to guide the development of transportation\\nfunding priorities and policy. The SFTP is a living document, updated on a\\nquadrennial basis to identify and address changing needs and regional trends\\nand align them with available funding.\\nGoals. The purpose of the 2022 Transportation Expenditure Plan is to\\nimplement the priorities of the SFTP 2050 through investment in projects and\\nprograms that include planning, maintenance, rehabilitation of, and\\nimprovements to the city's multi-modal transportation system. The SFTP 2050\\nis part of the ConnectSF initiative, a multi-agency collaborative process to build\\nan effective, equitable, and sustainable transportation system for San\\nFrancisco's future. The goals of ConnectSF and of the SFTP 2050 are:\\nEquity. San Francisco is an inclusive, diverse, and equitable city that\\noffers high-quality, affordable access to desired goods, services,\\nactivities, and destinations.\\nEconomic Vitality. To support a thriving economy, people and\\nbusinesses easily access key destinations for jobs and commerce in\\nestablished and growing neighborhoods both within San Francisco and\\nthe region.\\nEnvironmental Sustainability. The transportation and land use system\\nsupport a healthy, resilient environment and sustainable choices for\\nfuture generations.\\nSupervisors Mandelman; Walton, Peskin, Ronen, Melgar, Stefani, Preston, Mar, Safai, Dorsey\\nBOARD OF SUPERVISORS\\nPage 211\\n☑\\nSafety and Livability. People have attractive and safe travel options\\nthat improve public health, support livable neighborhoods, and address\\nthe needs of all users.\\nAccountability and Engagement.\", '27e77b4d-2312-4afe-8efa-d600bb186477': '1 0 0 2 2\\nimprovements that are designed to improve safety, enhance multi-\\nmodal connectivity, and/or reconnect communities and repair the\\nharm created by past freeway and street projects. By funding\\nplanning, outreach, and early project development, the intent is to\\nset up these projects to be competitive for discretionary funds to\\ncomplete project development and implementation. Eligible\\nproject types include but are not limited to new grade-separated\\ncrossings for people walking and biking; restoring connections\\nwithin communities divided by infrastructure (e.g., Geary\\nunderpass, pedestrian/bike freeway overcrossings); and\\nsimplifying freeway interchanges (e.g., Alemany Maze and US\\n101/Cesar Chavez \"Hairball”). May include projects to improve\\nresilience to climate change. Sponsor Agencies: SFCTA, SFMTA,\\nSFPW, Planning. Total Funding: $224.1M; EP: $20M.\\nTRANSPORTATION SYSTEM DEVELOPMENT AND MANAGEMENT\\nİ.\\nTransportation Demand Management\\nTransportation Demand Management (TDM) improvements intended to\\nshift trips to sustainable modes like transit, biking, and walking, and shift\\ntravel to less congested times. Develop and support continued TDM and\\nparking requirements for large employers, special event sites, and\\nschools and universities. Eligible project types also include TDM\\neducation, marketing, incentives, pricing, technology, policy development,\\npilots, and evaluation. Hardware, software, and equipment needed to\\nimplement pricing, incentives, and affordability projects are eligible.\\nExamples of eligible projects include new solutions or technologies for\\nSupervisors Mandelman; Walton, Peskin, Ronen, Melgar, Stefani, Preston, Mar, Safai, Dorsey\\nBOARD OF SUPERVISORS\\nPage 411\\n2 2 2 2\\n==\\nfirst-last mile connections or special trip markets; intermodal integration of\\ncustomer-facing technology (e.g., travel information and payment\\nsystems); and new fare payment concepts for mode shift or congestion\\nmanagement. Includes planning, project development, and capital costs.\\nSponsor Agencies: SFCTA, SFE, SFMTA, BART, PCJPB, TIMMA.\\nIncludes $18M in Priority 1 and the remainder is Priority 2. Total Funding:\\n$146.5M; EP: $23M.', '2bea93dc-5a1a-42da-96f0-3be28e703ad9': '(C) If it is impracticable, unreasonable, or improper to apportion such\\ncompensation as aforesaid either because of the particular nature of the services of such individual, or\\non account of the unusual basis of compensation, or for any other reason, then the amount of such\\ncompensation reasonably attributable to work performed or services rendered in the City shall be\\n73SAN MARS 20\\n2024 WAT 10 PH 1:31\\ndetermined on the basis of all relevant facts and circumstances of the particular case, in accordance\\nARTMENT OF ELECTIONS\\nwith any rulings or regulations issued or promulgated by the Tax Collector for the purpose.\\n(D) If the Tax Collector determines that the percentage of compensation\\nattributable to the City, for any one or more persons, is a relatively stable percentage, the Tax\\nCollector may establish that percentage as a prima facie evidence of compensation attributable to the\\nCity; provided, that the Tax Collector shall condition the establishment of such fixed percentage upon\\nthe obligation of the taxpayer to report immediately to the Tax Collector any significant change in the\\ntaxpayer\\'s mode of business which may impact the portion of the person\\'s compensation which is\\nattributable to the City; and, provided further, that the Tax Collector may rescind any such fixed\\npercentage at any time by providing written notice to the taxpayer of such rescission.\\n(f) \"Compensation\" means wages, salaries, commissions and any other form of\\nremuneration paid to employees for services. In the case of any person who has no\\nemployees, compensation shall also include all taxable income for federal income tax\\npurposes of the owners or proprietors of such person who are individuals. Those owners or\\nproprietors shall be treated as individuals to whom compensation is paid for purposes of\\nsubsection (e).\\n(g) The apportionment provided by this Section 956.2 shall not include in either the\\nnumerator or the denominator any payroll of persons exempt from tax under subsections (a)\\nor (e) of Section 954.\\nSEC. 960.1. TAX CREDIT FOR OPENING A PHYSICAL LOCATION IN DESIGNATED\\nAREAS IN THE CITY.', '7b90ab1b-6314-44e2-92d5-35e5a6dbee1f': 'As a condition for allocation of funds by the Authority, the recipient\\ndepartment or agency shall certify to the Authority that the funds will not be substituted for property tax\\nfunds which are currently utilized to fund existing local transportation programs.\\nSEC. 1415. APPROPRIATIONS LIMIT.\\n(a) Except as provided in subsection (b) of this Section 1415, Ffor purposes of California\\nConstitution Article XIIIB of the State Constitution, the appropriations limit for the Authority for\\nfiscal year 2003-04 and each year thereafter shall be $485,175,000 unless that amount\\nshould be amended pursuant to applicable law.\\n(b) Pursuant to California Constitution Article XIIIB and applicable laws, for four years from\\nNovember 8, 2022, the appropriations limit for the Authority shall be increased by the aggregate sum\\ncollected by the levy of the Tax imposed under Article 14 of the Business and Tax Regulations Code.\\n≈ N N ãò ±\\nSEC. 1416. AMENDMENTS.\\nAll amendments to Part 1 (commencing with Section 6001) of Division 2 of the California\\nRevenue and Taxation Code made subsequent to the effective date of this\\nordinance November 7, 1989 that which relate to sales and use taxes and thatwhich are not\\ninconsistent with Part 1.6 (commencing with Section 7251) and Part 1.7 (commencing with\\nSection 7280) of Division 2 of the California Revenue and Taxation Code and all amendments\\nto Part 1.6 and Part 1.7 of Division 2 of the California Revenue and Taxation Code, shall\\nSupervisors Mandelman; Walton, Peskin, Ronen, Melgar, Stefani, Preston, Mar, Safai, Dorsey\\nBOARD OF SUPERVISORS\\nPage 161\\nautomatically become a part of this ordinance Article 14; provided, however, that no such\\namendment shall operate so as to affect the rate of tax imposed by this ordinanceArticle 14.\\nSEC. 1417. PENALTIES.\\nAny person violating any of the provisions of this Article 14ordinance shall be deemed\\nguilty of a misdemeanor, and upon conviction thereof shall be punishable by a fine of not\\nmore than five hundred dollars ($500.00) or by imprisonment for a period of not more than six\\nmonths, or by both such fine and imprisonment.', '766fd592-3a58-4df0-ac60-bd003b2feb22': '(iii) Compensation paid to an employee who was employed by the person or\\ncombined group for only a portion of the tax year shall be \"annualized\" by multiplying the employee\\'s\\nCompensation (or, as stated, for a part-time employee, full-time equivalent Compensation) for the tax', 'c338bbff-4fd0-42d1-8e7e-9d33854dd4ce': '101GA\\nDEPTHE\\n(e)\\n1:32\\nFor tax years beginning on or after January 1, 2028, the Overpaid Executive Gross\\nReceipts Tax shall be calculated as follows:\\n(1) 0.021% of the person or combined group\\'s taxable gross receipts for a tax year if\\nthe person or combined group has an Executive Pay Ratio for that tax year of greater than 100:1, but\\nless than or equal to 200:1;\\n(2) 0.043% of the person or combined group\\'s taxable gross receipts for a tax year if\\nthe person or combined group has an Executive Pay Ratio for that tax year of greater than 200:1, but\\nless than or equal to 300:1;\\n(3) 0.064% of the person or combined group\\'s taxable gross receipts for a tax year if\\nthe person or combined group has an Executive Pay Ratio for that tax year of greater than 300:1, but\\nless than or equal to 400:1;\\n(4) 0.086% of the person or combined group\\'s taxable gross receipts for a tax year if\\nthe person or combined group has an Executive Pay Ratio for that tax year of greater than 400:1, but\\nless than or equal to 500:1;\\n(5) 0.107% of the person or combined group\\'s taxable gross receipts for a tax year if\\nthe person or combined group has an Executive Pay Ratio for that tax year of greater than 500:1, but\\nless than or equal to 600:1; or\\n(6) 0.129% of the person or combined group\\'s taxable gross receipts for a tax year if\\nthe person or combined group has an Executive Pay Ratio for that tax year of greater than 600:1.\\n(ef) For purposes of this Section 3303, \"taxable gross receipts\" means a person or\\ncombined group\\'s gross receipts, not excluded under Section 3304, attributable to the City.\\nThe person or combined group\\'s gross receipts that are attributable to the City shall be\\ndetermined in the same manner as in Article 12-A-1, as amended from time to time.\\n(dg) Notwithstanding any other subsection of this Section 3303, every person engaging\\nin business within the City as an administrative office, as defined in Section 953.8 of\\n102GAN 50\\n2.04 MAY.', 'dd09c6b3-2a1a-4286-bb7d-491d872730b0': \"(d) For tax year 2027, the Overpaid Executive Gross Receipts Tax shall be calculated as\\nfollows:\\n(1) 0.021% of the person or combined group's taxable gross receipts for a tax year if\\nthe person or combined group has an Executive Pay Ratio for that tax year of greater than 100:1, but\\nless than or equal to 200:1;\\n(2) 0.042% of the person or combined group's taxable gross receipts for a tax year if\\nthe person or combined group has an Executive Pay Ratio for that tax year of greater than 200:1, but\\nless than or equal to 300:1;\\n(3) 0.062% of the person or combined group's taxable gross receipts for a tax year if\\nthe person or combined group has an Executive Pay Ratio for that tax year of greater than 300:1, but\\nless than or equal to 400:1;\\n(4) 0.083% of the person or combined group's taxable gross receipts for a tax year if\\nthe person or combined group has an Executive Pay Ratio for that tax year of greater than 400:1, but\\nless than or equal to 500:1;\\n(5) 0.104% of the person or combined group's taxable gross receipts for a tax year if\\nthe person or combined group has an Executive Pay Ratio for that tax year of greater than 500:1, but\\nless than or equal to 600:1; or\\n(6) 0.125% of the person or combined group's taxable gross receipts for a tax year if\\nthe person or combined group has an Executive Pay Ratio for that tax year of greater than 600:1.\", '1d1c8117-54a4-41e8-a42a-d95f67236e0d': 'Designated agencies shall be eligible for planning funds\\nfrom the relevant 2022 Transportation Expenditure Plan\\nprograms for the purpose of completing the development of\\nthe 5YPP. Sponsoring agencies will be encouraged to\\nexplore alternative and non-traditional methods for project\\nand service delivery where they offer opportunities for\\nincreased cost-effectiveness and/or shortened project\\ndelivery timelines.\\nAs part of the Strategic Plan development process, the\\nTransportation Authority shall adopt, issue, and update\\ndetailed guidelines for the development of 5YPPS.\\nProject Delivery Oversight. The Transportation Authority Board\\nshall adopt project delivery oversight guidelines for major capital\\nprojects to be funded by the 2022 Sales Tax. The guidelines shall\\nconsider the total cost and complexity of a project in setting the\\nSupervisors Mandelman; Walton, Peskin, Ronen, Melgar, Stefani, Preston, Mar, Safai, Dorsey\\nBOARD OF SUPERVISORS\\nPage 481\\n+\\n1 0 0 2 2\\ndefinition of a major capital project. Objectives of these guidelines\\nshall include supporting the cost-effective and timely delivery of\\nprojects funded wholly or in part by the 2022 Sales Tax.\\nTransportation Authority staff shall prepare a report at least\\nannually to the Transportation Authority Board to communicate the\\nstatus of these projects.\\nD. Funding Priority Levels. Each 2022 Transportation Expenditure\\nPlan program shall be funded using 2022 Sales Tax revenues up\\nto the total amount designated for that program in Priority 1. If,\\nafter programming all Priority 1 funds to every program in a\\nsubcategory, the latest Strategic Plan forecasts available revenues\\nfrom the 2022 Sales Tax in excess of Priority 1 levels, the\\nTransportation Authority Board may allow programming of Priority\\n2 funds within the subcategory, subject to the program dollar\\namount caps for Priority 2 established in the 2022 Transportation\\nExpenditure Plan. If, after programming at least 80% of Priority 2\\nfunds, the latest Strategic Plan forecasts available revenues from\\nthe 2022 Sales Tax in excess of Priority 2 levels, the\\nTransportation Authority Board may allow programming of\\nrevenues in excess of Priority 2 levels to programs in the 2022\\nTransportation Expenditure Plan as long as the percent of 2022.', '04379992-e648-4e2d-a448-7f9f63ecdeaf': 'In\\naccordance with Business and Tax Regulations Code Article 14, Section 1414, subsection (c),\\nthe 2022 Transportation Expenditure Plan shall be placed in the Appendix to the\\nAdministrative Code containing voter-approved measures, as part of the ordinance containing\\n14 amendments to Article 14 passed by the voters at the November 8, 2022 election.\\n2 2 2 2\\n1.\\nIntroduction\\nA.\\n2022 Transportation Expenditure Plan\\nSummary. The 2022 Transportation Expenditure Plan identifies transportation\\nimprovements to be funded from the retail transactions and use tax (\"sales tax\")\\nauthorized under Public Utilities Code Section 131000 et seq. and passed by\\nSan Francisco voters at the November 2022 election as Proposition _ (\"2022\\nSales Tax\"). The programs included in the 2022 Transportation Expenditure\\nPlan are designed to be implemented over the next 30 years. The 2022\\nTransportation Expenditure Plan includes investments in five major categories:\\nMajor Transit Projects to support more reliable buses and trains and core\\nSupervisors Mandelman; Walton, Peskin, Ronen, Melgar, Stefani, Preston, Mar, Safai, Dorsey\\nBOARD OF SUPERVISORS\\nPage 18-23 45670\\nN N N N N N = à à À Ñ Ñ\\ncapacity improvements; Transit Maintenance and Enhancements to help keep\\ntransit running safely and make connectivity, accessibility, and reliability\\nimprovements; Paratransit services for seniors and people with disabilities;\\nStreets and Freeways to deliver safer, smoother streets including bicycle and\\npedestrian improvements and street resurfacing; and Transportation System\\nDevelopment and Management to fund programs that reduce congestion and\\nimprove air quality and transportation/land use coordination.\\nSince 1990, San Francisco has had a one-half of one percent transactions and\\nuse tax authorized under Public Utilities Code Section 131000 et seq. dedicated\\nto funding transportation improvements. San Francisco voters approved the first\\nsuch sales tax and expenditure plan in November 1989 as Proposition B and the\\nsecond in November 2003 as Proposition K. The San Francisco County\\nTransportation Authority (Transportation Authority) was established through the\\n1989 ballot measure to administer the sales tax and subsequently was\\ndesignated as administrator of the 2003 successor measure.', '1072089f-0fda-4f95-92ef-d703d5ee0ff5': '$8.12 per $1,000) for taxable gross receipts over $25,000,000\\n(C) For tax year 2023 if the Controller certifies under Section 953.10 that the\\n90% gross receipts threshold has been met for tax year 2023, and for tax year-2024 if the Controller\\ndoes not certify under Section 953.10 that the 95% gross receipts threshold has been met for tax\\nyear 2024:\\n47SANGAN\\n202 M 10 PM 1:30\\n0.6% (e.g. $6 per $1,000) for taxable gross receipts between $0 and $1,000,000\\nDEPARTMENT OF ELECTION\\n0.69% (e.g. $6.90 per $1,000) for taxable gross receipts between $1,000,000.01 and\\n$2,500,000\\n0.765% (e.g. $7.65 per $1,000) for taxable gross receipts between $2,500,000.01 and\\n$25,000,000\\n0.84% (e.g. $8.40 per $1,000) for taxable gross receipts over $25,000,000\\n(D) For tax year 2024 if the Controller certifies under Section 953.10 that the\\n95% gross receipts threshold has been met for tax year 2024, and for tax years beginning on or after\\nJanuary 1, 2025\\n0.62% (e.g. $6.20 per $1,000) for taxable gross receipts between $0 and $1,000,000\\n0.713% (eg, $7.13 per $1,000) for taxable gross receipts between $1,000,000.01 and\\n$2,500,000\\n0.791% (e.g. $7.91 per $1,000) for taxable gross receipts between $2,500,000.01 and\\n$25,000,000\\n0.868% (e.g. $8.68 per $1,000) for taxable gross receipts over $25,000,000\\n(3) For the business activities of financial services and professional, scientific\\nand technical services:\\n(B) For tax years 2022 and, if the Controller does not certify under\\nSection 953.', '45b5da92-d9b8-49af-80be-dae77e4199d6': \"For purposes\\nof serving a notice of a deficiency determination under this Section 6.11-2, the date that a return was\\ndue shall be:\\n(1) For tax years and tax periods ending on or before December 31, 2021, and\\nregistration years ending on or before June 30, 2023, the due date of the return without regard to any\\nextensions under Section 6.9-4;\\n(2) For tax years and tax periods beginning on or after January 1, 2022, and\\nregistration years beginning on or after July 1, 2023 and ending on or before March 31, 2026, except\\nfor the taxes for the years and periods subject to subsection (a)(3) of this Section 6.11-2, the due date of\\nthe return including any extensions; or\\n(3) For the Gross Receipts Tax (Article 12-A-1) (including the tax on administrative\\noffice business activities in Section 953.8 of Article 12-A-1), the Early Care and Education Commercial\\nRents Tax (Article 21), the Homelessness Gross Receipts Tax (Article 28) (including the tax on\\nadministrative office business activities in Section 2804(d) or Section 2804.9 of Article 28), the\\nCannabis Business Tax (Article 30), and the Overpaid Executive Gross Receipts Tax (Article 33)\\n(including the tax on administrative office business activities in Section 3303(g)) for tax years\\nbeginning on or after January 1, 2025, and for the Business Registration Fee (Article 12) for\\nregistration years beginning on or after April 1, 2026, November 30 of the calendar year in which the\\nreturn for such respective tax was originally due.\\n13SAN\\nCO\\n22 MAY (b) The notice of any determination under this Section 6.11-2 may be served upon the\\nDEMANTHER OF CLIENT OFF\\ntaxpayer or other affected person personally or by mail; if by mail, service shall be:\\n(1) to the last known address that appears in the Tax Collector's records,\\nprovided there is such an address in the Tax Collector's records, or\\n(2) to an address that the Tax Collector concludes, in the Tax Collector's\\ndiscretion, is the last known address of the person(s).\", '938c61be-e8fc-459a-aba6-5d448310eb54': '000.01 and\\n$2,500,000\\n41SAN 20\\n0.341% (e.g. $3.41 per $1,000) for taxable gross receipts between $2,500,000.01 and\\n$25,000,000\\nDEPARTMENT OF\\n0.56% (e.g. $5.60 per $1,000) for taxable gross receipts over $25,000,000\\n(C) For tax years beginning on or after January 1, 2026:\\n0.42% (eg, $4.20 per $1,000) for taxable gross receipts between $0 and $1,000,000\\n0.455% (e.g. $4.55 per $1,000) for taxable gross receipts between $1,000,000.01 and\\n$2,500,000\\n0.455% (e.g. $4.55 per $1,000) for taxable gross receipts between $2,500,000.01 and\\n$25,000,000\\n0.56% (e.g. $5.60 per $1,000) for taxable gross receipts over $25,000,000\\n(3) For the business activity of utilities:\\n(B) For tax years 2022 and, if the Controller does not certify under\\nSection 953.10 that the 90% gross receipts threshold has been met for tax year 2023, for tax\\nyear 2023:\\n0.435% (e.g. $4.35 per $1,000) for taxable gross receipts between $0 and $1,000,000\\n0.471% (e.g. $4.71 per $1,000) for taxable gross receipts between $1,000,000.01 and\\n$2,500,000\\n0.471% (e.g. $4.71 per $1,000) for taxable gross receipts between $2,500,000.01 and\\n$25,000,000\\n0.58% (e.g. $5.80 per $1,000) for taxable gross receipts over $25,000,000\\n(C) For tax year 2023 if the Controller certifies under Section 953.10 that the\\n90% gross receipts threshold has been met for tax year 2023,', '2b366594-4586-4dea-9575-8cc8245b599f': \"000\\nAnnual Registration Fee\\n$55\\n$100,000.01 to $250,000\\n$95\\n$250,000.01 to $500,000\\n$160\\n$500,000.01 to $750,000\\n$320\\n$750,000.01 to $1,000,000\\n$440\\n$1,000,000.01 to $1,500,000\\n$625\\n$1,500,000.01 to $2,000,000\\n$875\\n$2,000,000.01 to $2,500,000\\n$1,130\\n$2,500,000.01 to $5,000,000\\n$1,885\\n$5,000,000.01 to $7,500,000\\n$800\\n$7,500,000.01 to $15,000,000\\n$15,000,000.01 to $25,000,000\\n$2,000\\n$6,500\\n$25,000,000.01 to $50,000,000\\n$20,000\\n$50,000,000.01 to $100,000,000\\n$40,000\\n$100,000,000.01 to $200,000,000\\n$50,000\\n$200,000,000.01 and over\\n$60,000\\n26SAN RAMCO\\n2024 MAY 10 FN 1:29\\n(e) Except as provided in subsection (d) (Fee for Persons Subject to Administrative Office Tax),\\nDEPARTMENT OF ELECTIONS\\nin the event that an applicant for a registration certificate, for a registration year ending after June 30,\\n2015, has not filed a tax return for the immediately preceding tax year as required by Section 6.92 of\\nArticle 6, the Tax Collector shall determine the amount of the registration fee required based on the\\napplicant's estimated gross receipts under Article 12 A1 (Gross Receipts Tax Ordinance) for the\\nperiod covered by the registration certificate.\\n(ed) Fee for Persons Subject to Administrative Office Tax.\\n(1) Except as otherwise provided in this Section 855 and Section 856 of this\\nArticle 12, and Section 76.3 of Article 2 of this Business and Tax Regulations Code, the annual\\nfee for obtaining a registration certificate for registration years ending on or before June 30, 2025,\", '0e9a2d22-3350-4cad-9d76-d0cc8c2887f3': '000,000.01 and $500,000,000\\n3.36% for taxable gross receipts between $500,000,000.01 and $1,000,000,000\\n3.36% for taxable gross receipts over $1,000,000,000\\n(2) For tax year 2027:\\n1.56% for taxable gross receipts between $0 and $1,000,000\\n64SAN CU\\n2024 XAY ID EN 1:30\\n1.56% for taxable gross receipts between $1,000,000.01 and $2,500,000\\nDEPARTMENT OF ELECTIONS\\n3.12% for taxable gross receipts between $2,500,000.01 and $25,000,000\\n2.492% for taxable gross receipts between $25,000,000.01 and $50,000,000\\n3.204% for taxable gross receipts between $50,000,000.01 and $75,000,000\\n3.204% for taxable gross receipts between $75,000,000.01 and $100,000,000\\n3.56% for taxable gross receipts between $100,000,000.01 and $150,000,000\\n3.56% for taxable gross receipts between $150,000,000.01 and $250,000,000\\n3.56% for taxable gross receipts between $250,000,000.01 and $500,000,000\\n3.56% for taxable gross receipts between $500,000,000.01 and $1,000,000,000\\n3.56% for taxable gross receipts over $1,000,000,000\\n(3) For tax years beginning on or after January 1, 2028:\\n1.607% for taxable gross receipts between $0 and $1,000,000\\n1.607% for taxable gross receipts between $1,000,000.01 and $2,500,000\\n3.214% for taxable gross receipts between $2,500,000.01 and $25,000,000\\n2.601% for taxable gross receipts between $25,000,000.01 and $50,000,000\\n3.344% for taxable gross receipts between $50,000,000.01 and $75,000,000\\n3.344% for taxable gross receipts between $75,000,000.', 'e88b4453-bb6d-41e9-9afe-6ab1bf859480': '2025,\\npayable in advance, for a person or combined group that was required to pay the\\nAdministrative Office Tax under Section 953.8 of Article 12-A-1 for the preceding tax year,\\nshall be as follows:\\nSan Francisco Payroll Expense for the\\nImmediately Preceding Tax Year\\n$0 to $2,500,000\\n$2,500,000.01 to $25,000,000\\n$25,000,000.01 or more\\nAnnual Registration Fee\\n$15,000\\n$25,000\\n$35,000\\n(2) Except as otherwise provided in this Section 855 and Section 856 of this Article 12,\\nand Section 76.3 of Article 2 of this Business and Tax Regulations Code, the annual fee for obtaining a\\nregistration certificate for the 2025-2026 registration year, payable in advance, for a person or\\ncombined group that was required to pay the Administrative Office Tax under Section 953.8 of\\nArticle 12-A-1 for the preceding tax year, shall be as follows:\\n27San Francisco Payroll Expense for the\\nImmediately Preceding Tax Year\\n$0 to $500,000\\n$500,000.01 to $1,500,000\\n$1,500,000.01 to $2,500,000\\n$2,500,000.01 to $25,000,000\\n$25,000,000.01 or more\\nSAN\\n20 MAY 10 PM 1:29\\nDEPARTMENT OF Bastions\\nAnnual Registration Fee\\n$375\\n$750\\n$11,250\\n$18,750\\n$26,250\\n(3) Except as otherwise provided in this Section 855 and Section 856 of this Article 12,\\nand Section 76.3 of Article 2 of this Business and Tax Regulations Code, the annual fee for obtaining a\\nregistration certificate for registration years beginning on or after April 1, 2026, payable in advance,\\nfor a person or combined group that was required to pay the Administrative Office Tax under\\nSection 953.8 of Article 12-A-1 for the preceding tax year, shall be as follows:\\nSan Francisco Payroll Expense for the\\nImmediately Preceding Tax Year\\n$0 to $500,000\\n$500,000.01 to $1,500,000\\n$1,500,000.', '3aafb9d0-2c5c-4723-a150-4128a2d7d8e4': \"Accountability and Engagement. San Francisco agencies, the broader\\ncommunity, and elected officials work together to understand the City's\\ntransportation needs and deliver projects, programs, and services in a\\nclear, concise, and timely fashion.\\nPlan Findings and Structure. The Transportation Authority finds that:\\ni.\\nC.\\nii.\\nAdoption of an ordinance to impose a sales tax at the existing half-\\ncent rate for the 30-year implementation period of the 2022\\nTransportation Expenditure Plan is necessary in order to fund the\\ntransportation programs listed in Section 3, Table 1 and further\\ndetailed in Section 4, Description of Programs.\\nIt is deemed unnecessary to seek the support of adjacent counties\\nby requesting them to develop their own Transportation\\nExpenditure Plans because San Mateo, Alameda, Contra Costa,\\nMarin, and Santa Clara counties have already adopted\\nTransportation Expenditure Plans.\\nThe Transportation Authority recommends that the San Francisco Board\\nof Supervisors place the aforementioned sales tax ordinance on the\\nNovember 2022 ballot.\\nThe 2022 Transportation Expenditure Plan is organized into five sections.\\nSection 1: Introduction provides background on the Plan's goals and\\ndevelopment. Section 2: General Provisions provides further context on\\nthe Plan's policies and administration. Section 3: 2022 Transportation\\nSupervisors Mandelman; Walton, Peskin, Ronen, Melgar, Stefani, Preston, Mar, Safai, Dorsey\\nBOARD OF SUPERVISORS\\nPage 222\\n+\\n2.\\n67% 1\\n2 2 2\\nExpenditure Plan Summary Table summarizes the Plan's investment\\ndetail (i.e., recommended funding distribution) by category, sub-category,\\nand program. Section 4: Description of Programs contains descriptions\\nof the programs (organized by category and subcategory), including the\\ntypes of projects that are eligible for funding under each of them.\\nSection 5: Implementation Provisions describes the process for\\nprioritizing and allocating funds from the 2022 Sales Tax following\\nadoption of the Plan.\\nGeneral Provisions\\nA.\\nSales Tax Revenues.\", '07b66ff6-f62a-4d18-abeb-aee164c8fca7': '(c) No penalties or interest imposed by this Section 6.17-1.1 shall apply to the failure\\nto make any estimated tax payments of Gross Receipts Taxes, Early Care and Education\\nCommercial Rents Taxes, Homelessness Gross Receipts Taxes, Cannabis Business Taxes,\\nor Overpaid Executive Gross Receipts Taxes under Section 6.9-1(c)(3).\\n(d) This Section 6.17-1.1 shall apply as follows:\\n(1) to all returns and payments for tax periods ending and taxable events\\noccurring on or after January 1, 2021, except as provided in subsections (d)(2) and (d)(3) of\\nthis Section 6.17-1.1;\\n(2) to all returns and payments for registration years ending on or after\\nJuly 1, 2021 with respect to the registration fee imposed under Section 855 of Article 12; and\\n(3) to all returns and payments for fiscal years ending on or after July 1, 2021\\nwith respect to fees, assessments, and other charges subject to this Article 6 that are imposed\\non a fiscal year basis.\\n21SAMERWE GO\\n200L KAY 10 FM J:28\\n(e) For purposes of this Section 6.17-1.1, for registration years beginning on or after\\nDEPARTIERT OF LLECTIN\\nApril 1, 2026, if the deadline for a person or combined group to file its Gross Receipts Tax return was\\nextended under Section 6.9-4(b)(2) of this Article 6, the date the Business Registration Fee (Article 12)\\noriginally due on the same date as that Gross Receipts Tax return was due shall be November 30.\\nSEC. 6.25-1. ADVANCE DETERMINATIONS.', 'bd8771ac-6b7a-41ce-ad4b-5be0a1ca453a': '000,000\\n0.201% for taxable gross receipts between $1,000,000.01 and $2,500,000\\n0.253% for taxable gross receipts between $2,500,000.01 and $25,000,000\\n0.331% for taxable gross receipts between $25,000,000.01 and $50,000,000\\n0.582% for taxable gross receipts between $50,000,000.01 and $75,000,000\\n0.582% for taxable gross receipts between $75,000,000.01 and $100,000,000\\n0.582% for taxable gross receipts between $100,000,000.01 and $150,000,000\\n0.582% for taxable gross receipts between $150,000,000.01 and $250,000,000\\n0.582% for taxable gross receipts between $250,000,000.01 and $500,000,000\\n0.582% for taxable gross receipts between $500,000,000.01 and $1,000,000,000\\n0.582% for taxable gross receipts over $1,000,000,000\\n56(2) For tax year 2027:\\n0.192% for taxable gross receipts between $0 and $1,000,000\\nSAN FRANC CO\\n2024 MAY 10 PM 1:30\\nDEPARTMENT OF ERECTIONS\\n0.209% for taxable gross receipts between $1,000,000.01 and $2,500,000\\n0.264% for taxable gross receipts between $2,500,000.01 and $25,000,000\\n0.351% for taxable gross receipts between $25,000,000.01 and $50,000,000\\n0.617% for taxable gross receipts between $50,000,000.01 and $75,000,000\\n0.617% for taxable gross receipts between $75,000,000.01 and $100,000,000\\n0.617% for taxable gross receipts between $100,000,000.01 and $150,000,000\\n0.617% for taxable gross receipts between $150,000,000.01 and $250,000,000\\n0.617% for taxable gross receipts between $250,000,000.01 and $500,000,000\\n0.', 'b3714b4c-7a6a-4f6d-83f1-e2e6e9b046b0': 'Section 7. Pursuant to California Constitution Articles XIIIA and XIIIC and California\\nPublic Utilities Code Section 131102, the approval of the 2022 Transportation Expenditure\\nPlan and of the ordinance amending Article 14 of the Business and Tax Regulations Code\\nshall be submitted to the qualified electors of the City and County of San Francisco at a\\nspecial election that is hereby called and ordered to be held in the City on Tuesday, the 8th\\nday of November, 2022, for the purpose of submitting to the electors of the City a proposition\\nto approve the amendments to Article 14 of the Business and Tax Regulations Code set forth\\nin Section 2 of this ordinance and the 2022 Transportation Expenditure Plan set forth in\\nSection 3 of this ordinance. The special election called and ordered shall be referred to in this\\nordinance as the \"Special Election.\"\\nSection 8. The Special Election shall be held and conducted and the votes received\\nand canvassed, and the returns made and the results ascertained, determined and declared\\nas provided in this ordinance and in all particulars not recited in this ordinance such election\\nshall be held according to the laws of the State of California (\"State\") and the Charter of the\\nCity (\"Charter\") and any regulations adopted under State law or the Charter, providing for and\\ngoverning elections in the City, and the polls for such election shall be and remain open\\nduring the time required by such laws and regulations.\\nSection 9. The Special Election is consolidated with the General Election scheduled to\\nbe held in the City on Tuesday, November 8, 2022.', '103ff2e5-2fce-4dae-86c8-e7cb1f961dc0': 'SAANU\\n::0\\ng such a PM 1:28\\npayment was due,\\nDEN KRY OF ELLE RIGHTS\\n(B) For tax years and tax periods beginning on or after January 1, 2022, and\\nregistration years beginning on or after July 1, 2023 and ending on or before March 31, 2026, except\\nfor requests for refund subject to subsection (g)(2)(C):\\nany extensions.\\n(i) the payment of such amount; or\\n(ii) the date the return accompanying such payment was due, including\\n(C) For requests for refund of the Gross Receipts Tax (Article 12-A-1)\\n(including the tax on administrative office business activities in Section 953.8 of Article 12-A-1), the\\nEarly Care and Education Commercial Rents Tax (Article 21), the Homelessness Gross Receipts Tax\\n(Article 28) (including the tax on administrative office business activities in Section 2804(d) or\\nSection 2804.9 of Article 28), the Cannabis Business Tax (Article 30), and the Overpaid Executive\\nGross Receipts Tax (Article 33) (including the tax on administrative office business activities in\\nSection 3303(g)) for tax years beginning on or after January 1, 2025, and for requests for refund of the\\nBusiness Registration Fee (Article 12) for registration years beginning on or after April 1, 2026:\\n(i) the payment of such amount; or\\n(ii) November 30 of the calendar year in which the return for such\\nrespective tax was originally due.\\n(3) The Tax Collector may also authorize the Controller to refund the overpaid\\ntax, interest, or penalty payments on its own initiative within this the one-year period in\\nsubsection (g)(2).\\n(4) A refund requested on a return, amended return, or request for refund form\\nunder this subsection (g) shall automatically be deemed denied for purposes of\\nsubsections (a), (b), and (d) of this Section 6.15-1 if the Tax Collector does not grant or deny\\n17SA\\nthe refund request within one year of the date it was filed.', 'fbc5bfe5-d0da-4f18-86c0-ce9c47a3303b': '(c) In case of service by mail of any notice required by this Article 6 to be served upon\\nthe taxpayer or other person, the service is complete at the time of deposit with the United\\nStates Postal Service.\\nSEC. 6.15-1. REFUNDS.\\n(a) Claims for Refund; Limitations. Except as otherwise provided in subsections (f)\\nand (g) of this Section 6.15-1, the Controller shall refund or cause to be refunded the amount\\nof any tax, interest, or penalty that has been overpaid or paid more than once, or has been\\nerroneously or illegally collected or received by the City, provided the person that paid such\\namount files a claim in writing with the Controller within the one year of the date specified in\\nsubsection (h) of this Sectionlater of one year of: (1) payment of such amount; (2) the date the return\\naccompanying such payment was due, without regard to any extensions under Section 6.9 4; or (3) the\\ndate on which such amount requested on a return, amended return, or request for refund timely filed\\nunder subsection (g) of this Section 6.15 1 was denied under that subsection (g).\\n(b) Claims for Refund; Contents. Any claim filed under subsections (a)-(f) of this\\nSection 6.15-1 must state: (1) the specific amount claimed to have been overpaid or paid\\nmore than once, or erroneously or illegally collected or received by the City; (2) the tax\\nperiods at issue; (3) the grounds upon which the claim is founded, with specificity sufficient to\\nenable the responsible City officials to understand and evaluate the claim; and (4) the date on\\n14SAITING\\nwhich the amount requested on a return, amended return, or request for refund timely filed\\nunder subsection (g) of this Section 6.15-1 was denied under that subsection (g), if the person\\nfiling the claim filed such a return, amended return, or request for refund.\\n(c) Claims for Refund; Third-Party Taxes. The customer who pays a third-party tax\\nto an operator is the proper party to seek the refund of a disputed third-party tax.', '0d0dbb04-8f96-4a14-91f7-63cd22744968': 'Environmental Review. Environmental reporting, review, and approval\\nprocedures as provided for under the National Environmental Policy Act (NEPA)\\nSupervisors Mandelman; Walton, Peskin, Ronen, Melgar, Stefani, Preston, Mar, Safai, Dorsey\\nBOARD OF SUPERVISORS\\nPage 262 3\\n3.\\nand/or the California Environmental Quality Act (CEQA) and other applicable\\nlaws shall be carried out as a prerequisite to the approval and implementation of\\nany project, including legacy projects, to be funded partially or entirely with 2022\\nSales Tax funds. No definite commitment to any activity or project is made by\\nthe adoption of the 2022 Transportation Expenditure Plan. The 2022\\nTransportation Expenditure Plan establishes a funding mechanism for\\ntransportation improvements which does not involve any commitment to any\\nspecific project which may result in a potentially significant physical impact on\\nthe environment. The 2022 Transportation Expenditure Plan also does not limit\\nthe discretion of agencies proposing to carry out eligible projects to select a \"no\\naction\" or a \"no project\" alternative.\\n2022 Transportation Expenditure Plan Summary Table. Table 1 below summarizes\\nthe proposed 2022 Sales Tax revenue allocations by category, subcategory, and\\nprogram in constant 2020 dollars. There are five categories, identified with capital\\nletters (A through E). The first subdivision level under each category is known as a\\nsubcategory. Subcategories are indicated with lower case Roman numerals. The level\\nbelow a subcategory is known as a program. Programs are indicated with numbers.\\nThe 2022 Transportation Expenditure Plan identifies eligible expenditures through a set\\nof programs that guides the types of transportation projects that will be funded by the\\n2022 Sales Tax. The programs are set up to address allocation of funds to multi-year\\nprograms for a given purpose, such as street resurfacing or street safety\\nimprovements, for which not all specific project locations or improvements can be\\nanticipated or identified at the time of adoption of the 2022 Transportation Expenditure\\nPlan. This approach provides certainty about the types of investments that will be\\nmade balanced with the flexibility needed for a 30-year plan.', '9eccecb8-a5b1-454f-8f90-08846f677dbd': \"If the City\\napproves the claim, the City may refund the excess amount collected or paid, or may credit\\nsuch amount toward any amount due and payable to the City from the person from whom it\\nwas collected or by whom it was paid, and the balance may be refunded to such person, or\\nthe person's administrator or executor.\\n(f) Claims for Refund; Waiver of Written Filing Requirement. The City Attorney, in\\nhis or herthe City Attorney's discretion and upon good cause shown, prior to the expiration of\\nthe one-year limitations period, may waive the requirement set forth in subsection (a) of this\\nSection 6.15-1 that a taxpayer file a written claim for a refund in any case in which the\\nTax Collector and City Attorney determine on the basis of other evidence that:\\n(1) an amount of tax, interest, or penalty has been overpaid or paid more than\\nonce, or has been erroneously or illegally collected or received by the City; and\\n(2) all other conditions precedent to the payment of a refund to the taxpayer\\nhave been satisfied.\\n(g) Requests for Refund; Refunds Permissible Without a Claim.\\n(1) The Tax Collector may authorize the Controller to refund tax, interest, or\\npenalty payments, without a refund claim having been filed and without review by the City\\nAttorney, if the Tax Collector determines that the amount paid exceeds the tax, penalties, and\\ninterest due.\\n(2) The person that made the overpayment may request such a refund from the\\nTax Collector on a return, amended return, or request for refund form that is issued by the Tax\\nCollector and that is filed with the Tax Collector within the later of one year of:\\n(A) For tax years and tax periods ending on or before December 31, 2021, and\\nregistration years ending on or before June 30, 2023:\\n(i) the payment of such amount or\\n16(ii) the date the return accompanying\\nwithout regard to any extensions under Section 6.9-4.\", 'e6bc99c7-6471-4cc8-8583-8b144384fdee': '(2) For returns of the Gross Receipts Tax (Article 12-A-1) (including the tax on\\nadministrative office business activities in Section 953.8 of Article 12-A-1), Early Care and Education\\nCommercial Rents Tax (Article 21), Homelessness Gross Receipts Tax (Article 28) (including the tax on\\nadministrative office business activities in Section 2804(d) or Section 2804.9 of Article 28), Cannabis\\nBusiness Tax (Article 30), or Overpaid Executive Gross Receipts Tax (Article 33) (including the tax on\\nadministrative office business activities in Section 3303(g)), persons may request from the Tax\\nCollector an extension of time to file one or more such returns, which extension would extend the\\ndeadline to file such return to November 30 of the calendar year in which the return was originally due\\nunder Section 6.9-1 of this Article 6. As a condition of such extension, the person seeking the extension\\nshall, by the original due date under Section 6.9-1 for filing the return, for each tax type, request the\\nextension and make the Required Payment, and, by the November 30 extended deadline, file the return.\\nAn extension for the Gross Receipts Tax (including the tax on administrative office business activities in\\n10SANUAR 20\\nSection 953.8 of Article 12-A-1) return shall also extend to November 30 the deadline to pay any\\nBusiness Registration Fee liability in excess of the Required Payment necessary for the ext\\n(3) For purposes of this subsection (b), the \"Required Payment\" means:\\nextension.', '46e1e856-7784-469a-91ad-c1a739a556ed': \"(4) For tax years beginning on or after January 1, 2028, the overpaid executive\\nadministrative office tax shall be calculated as follows:\\n(A) 0.086% of the person or combined group's total payroll expense attributable\\nto the City for a tax year if the person or combined group has an Executive Pay Ratio for that tax year\\nof greater than 100:1, but less than or equal to 200:1;\\n(B) 0.171% of the person or combined group's total payroll expense attributable\\nto the City for a tax year if the person or combined group has an Executive Pay Ratio for that tax year\\nof greater than 200:1, but less than or equal to 300:1;\\n(C) 0.257% of the person or combined group's total payroll expense attributable\\nto the City for a tax year if the person or combined group has an Executive Pay Ratio for that tax year\\nof greater than 300:1, but less than or equal to 400:1;\\n(D) 0.343% of the person or combined group's total payroll expense\\nattributable to the City for a tax year if the person or combined group has an Executive Pay Ratio for\\nthat tax year of greater than 400:1, but less than or equal to 500:1;\\n(E) 0.428% of the person or combined group's total payroll expense attributable\\nto the City for a tax year if the person or combined group has an Executive Pay Ratio for that tax year\\nof greater than 500:1, but less than or equal to 600:1; or\\n(F) 0.514% of the person or combined group's total payroll expense attributable\\nto the City for a tax year if the person or combined group has an Executive Pay Ratio for that tax year\\nof greater than 600:1.\\n106SEC. 3304. EXEMPTIONS AND EXCLUSIONS.\", '8735b2e1-01c3-4bdf-8897-ff235a48fbf8': \"If the person or combined group did not file a\\n7SANT\\nV\\n772 MAY 10 TH 1:28\\nreturn for the preceding tax year and did not request an extension under Section 6.9-4 to file that\\nreturn, the person or combined group shall be deemed to have filed a return showing no\\nliability for purposes of this Section 6.9-Isubsection (c)(3)(C)(ii), and no estimated tax payments\\nof that tax shall be due for the current tax year.\\n(D) Lessor of Residential Real Estate Exemption. Notwithstanding\\nany other provision in this Section 6.9-1(c)(3), a lessor of residential real estate, as defined in\\nSection 954.1 of Article 12-A-1, shall not be required to make estimated tax payments under\\nthis Section 6.9-1(c)(3), but shall pay its full Gross Receipts Tax liability, Homelessness Gross\\nReceipts Tax liability, and Overpaid Executive Gross Receipts Tax liability on or before the\\nlast day of February of the succeeding year, or the extended deadline in Section 6.9-4, if the\\nlessor's gross receipts within the City shown on the lessor's return for either the current tax\\nyear or the preceding tax year did not exceed the threshold in Section 954.1(b) of\\nArticle 12-A-1.\\n*\\n*\\n(g) Business Registration Certificate; Annual Due Date.\\n(1) For registration years ending on or before June 30, 2025 and the\\n2025-2026 registration year, eExcept for any extensions granted under Section 6.9-4 or as\\notherwise provided in this Business and Tax Regulations Code, returns and payments of the\\nBusiness Registration Fee (Article 12) shall be filed annually and are due and payable, and\\nshall be delinquent if not submitted and paid to the Tax Collector, on or before the last day of\\nMay preceding the registration year commencing July 1 of that year.\", '360209d5-fb98-4d6b-8712-dde5a52eb2a7': \"(3) For tax year 2027, the overpaid executive administrative office tax shall be\\ncalculated as follows:\\n(A) 0.083% of the person or combined group's total payroll expense attributable\\nto the City for a tax year if the person or combined group has an Executive Pay Ratio for that tax year\\nof greater than 100:1, but less than or equal to 200:1;\\n(B) 0.166% of the person or combined group's total payroll expense attributable\\nto the City for a tax year if the person or combined group has an Executive Pay Ratio for that tax year\\nof greater than 200:1, but less than or equal to 300:1;\\n(C) 0.25% of the person or combined group's total payroll expense attributable\\nto the City for a tax year if the person or combined group has an Executive Pay Ratio for that tax year\\nof greater than 300:1, but less than or equal to 400:1;\\n(D) 0.333% of the person or combined group's total payroll expense\\nattributable to the City for a tax year if the person or combined group has an Executive Pay Ratio for\\nthat tax year of greater than 400:1, but less than or equal to 500:1;\\n(E) 0.416% of the person or combined group's total payroll expense attributable\\nto the City for a tax year if the person or combined group has an Executive Pay Ratio for that tax year\\nof greater than 500:1, but less than or equal to 600:1; or\\n105SA\\nZUM MAY 10 PM 1:32\\nDEPARTMENT OF BLED. (F) 0.499% of the person or combined group's total payroll expense attributable\\nto the City for a tax year if the person or combined group has an Executive Pay Ratio for that tax year\\nof greater than 600:1.\", '7c3a26a1-96cb-41a4-aa0f-7dda82b00ecc': \"000.01 to $1,500,000\\n$1,500,000.01 to $2,500,000\\n$2,500,000.01 to $25,000,000\\n$25,000,000.01 or more\\nAnnual Registration Fee\\n$500\\n$1,000\\n$15,000\\n$25,000\\n$35,000\\n(e) In the event that an applicant for a registration certificate that was required to pay the\\nAdministrative Office Tax under Section 953.8 of Article 12 A 1 for the preceding tax year has not filed\\na tax return for the immediately preceding tax year as required by Section 6.92 of Article 6, the Tax\\nCollector shall determine the amount of the registration fee required based on the applicant's\\nestimated payroll expense under Article 12 A 1 for the period covered by the registration certificate.\\n28SAN CO\\nsections (a) and (ed))\\nof this\\n(f) The amount of annual registration fee under subsections (a) and\\nDEPARTMENT OF ELECTIONS\\nSection 855, for all registration years ending after June 30, 2016, shall be adjusted annually in\\naccordance with the increase in the Consumer Price Index: All Urban Consumers for the San\\nFrancisco/Oakland/San Jose Area for All Items as reported by the United States Bureau of\\nLabor Statistics, or any successor to that index, as of December 31st of the preceding year,\\nbeginning July 1, 2016.\\n(g) The amount of annual registration fee under subsection (b) of this Section 855, for\\nall registration years ending after June 30, 2022, shall be adjusted annually in accordance\\nwith the increase in the Consumer Price Index: All Urban Consumers for the San\\nFrancisco/Oakland/San Jose Area for All Items as reported by the United States Bureau of\\nLabor Statistics, or any successor to that index, as of December 31 of the preceding year,\\nbeginning July 1, 2022.\", 'dc8993aa-f75c-4411-ba94-7a2924b28259': '(a) The homelessness gross receipts tax rates applicable to Category 1 Business Activities for\\ntax years beginning on or after January 1, 2025 are:\\n0% for taxable gross receipts between $0 and $1,000,000\\n0% for taxable gross receipts between $1,000,000.01 and $2,500,000\\n0% for taxable gross receipts between $2,500,000.01 and $25,000,000\\n0.164% for taxable gross receipts between $25,000,000.01 and $50,000,000\\n0.164% for taxable gross receipts between $50,000,000.01 and $75,000,000\\n0.164% for taxable gross receipts between $75,000,000.01 and $100,000,000\\n0.164% for taxable gross receipts between $100,000,000.01 and $150,000,000\\n0.246% for taxable gross receipts between $150,000,000.01 and $250,000,000\\n0.328% for taxable gross receipts between $250,000,000.01 and $500,000,000\\n0.41% for taxable gross receipts between $500,000,000.01 and $1,000,000,000\\n0.492% for taxable gross receipts over $1,000,000,000\\n(b) \"Category 1 Business Activities\" has the same meaning as in Section 953.20(b) of\\nArticle 12-A-1 of this Business and Tax Regulations Code.\\n(c) The amount of taxable gross receipts from Category 1 Business Activities subject to the\\nhomelessness gross receipts tax shall be three-quarters of the amount determined under Section 956.1\\nof Article 12-A-1 plus one-quarter of the amount determined under Section 956.2 of Article 12-A-1.\\n84SAL\\nSEC. 2804.3. HOMELESSNESS GROSS RECEIPTS TAX APPLICABLE TO CATEGORY 2\\nBUSINESS ACTIVITIES.', '5b1c4bc1-3b2a-4365-9c5f-edc347c6c5a5': '2 2 2 2\\n(c) There isare exempted from the use #Tax imposed by this ordinance Article 14, the\\nstorage, use, or other consumption in this District of tangible personal property:\\n(1) the gross receipts from the sale of which have been subject to a\\ntransactions tax under any state-administered transactions and use tax ordinance.\\n(2) other than fuel or petroleum products, purchased by operators of aircraft and\\nused or consumed by such operators directly and exclusively in the use of such aircraft as\\ncommon carriers of persons or property for hire for compensation under a certificate of public\\nconvenience and necessity issued pursuant to the laws of this State, the United States, or\\nany foreign government. This exemption is in addition to the exemptions provided in\\nSections 6366 and 6366.1 of the California Revenue and Taxation Code of the State of\\nCalifornia.\\n(3) if the purchaser is obligated to purchase the property for a fixed price\\npursuant to a contract entered into prior to the operative date of this ordinance April 1, 1990.\\n(4) orif the possession of, or the exercise of any right or power over, the tangible\\npersonal property arises under a lease which is a continuing purchase of such property for any\\nperiod of time for which the lessee is obligated to lease the property for an amount fixed by a\\nlease prior to the operative date of this ordinance April 1. 1990.\\nSupervisors Mandelman; Walton, Peskin, Ronen, Melgar, Stefani, Preston, Mar, Safai, Dorsey\\nBOARD OF SUPERVISORS\\nPage 131\\n(5) for the purposes of subsections (3) and (4) of this subsection (c), storage, use\\nor other consumption, or possession of, or exercise of any right toor power over, tangible\\npersonal property shall be deemed not to be obligated pursuant to a contract or lease for any\\nperiod of time during which any party to the contract or lease has the unconditional right to\\nterminate the contract or lease upon notice, whether or not such right is exercised.', 'a6fb3145-b536-4b32-b683-08446d1ef1e3': 'point or\\nother conditions of the sale.\\n(d) Gross receipts from the rental, lease, or licensing of tangible personal property are\\nin the City if the property is located in the City.\\n(e) Gross receipts from services are in the City to the extent the purchaser of the\\nservices received the benefit of the services in the City. The Tax Collector shall promulgate\\nregulations interpreting whether the purchaser of services received the benefit of services in the City\\nfor purposes of this Section 956.1(e). In promulgating such regulations, the Tax Collector shall comply\\nwith the requirements of Section 6.16-1 of Article 6 of this Business and Tax Regulations Code,\\nincluding but not limited to the requirement that the Tax Collector hold a public hearing and allow\\npublic comment prior to the adoption of the regulations. Further, in promulgating such regulations,\\nthe Tax Collector shall review and consider sourcing rules and safe harbor provisions adopted by the\\nState of California and other jurisdictions.\\n71SA 215\\n2014 6A 10 r (:31\\nDelenor (f) Gross receipts from intangible property are in the City to the extent the property is\\nused in the City. In the case of financial instruments, sales are in the City if the customer is\\nlocated in the City. The Tax Collector shall promulgate regulations interpreting whether intangible\\nproperty is used in the City for purposes of this Section 956.1(f) and whether, in the case of financial\\ninstruments, the customer is located in the City. In promulgating such regulations, the Tax Collector\\nshall comply with the requirements of Section 6.16-1 of Article 6 of this Business and Tax Regulations\\nCode, including but not limited to the requirement that the Tax Collector hold a public hearing and\\nallow public comment prior to the adoption of the regulations. Further, in promulgating such\\nregulations, the Tax Collector shall review and consider sourcing rules and safe harbor provisions\\nadopted by the State of California and other jurisdictions.\\nSEC. 956.2. APPORTIONMENT OF RECEIPTS BASED ON PAYROLL.\\n(a) For all persons required to determine an amount of gross receipts pursuant to this\\nSection 956.2, that amount shall be all non-exempt combined gross receipts of the person\\nmultiplied by a fraction, the numerator of which is payroll in the City and the denominator of\\nwhich is combined payroll.', '7c7370bc-7eb3-46c9-a134-de2f78bbe195': \"Section 14. Conflicting Measures. If both this ordinance and another ballot measure or\\nmeasures imposing, amending, or repealing a San Francisco tax measured by gross receipts\\nappear on the same ballot, and this ordinance obtains more votes than the other measure or\\nmeasures, the other measure or measures shall be deemed to conflict with this ordinance. In\\nsuch case, the provisions of this ordinance shall prevail in their entirety, and the provisions of\\nthe other measure or measures shall be null and void.\\nSection 15. Termination and Reinstatement. At any time before January 1, 2025, the\\nMayor, upon recommendation from the City Attorney, Controller, and Treasurer, may\\nterminate implementation of this ordinance by issuing a written notice to the Board of\\nSupervisors and the Controller. If the Mayor terminates this ordinance, the Board of\\nSupervisors, upon recommendation from the City Attorney, Controller, and Treasurer, shall\\nhave the authority to reinstate this ordinance commencing on January 1 of a future calendar\\nyear by approving an ordinance that becomes effective no later than December 1 prior to the\\ncalendar year in which this ordinance is to be reinstated. The authority of the Board of\\nSupervisors to reinstate this ordinance shall terminate following approval of a subsequent\\nballot measure that amends any of the taxes amended by this ordinance.\\n109SAU GU\\n10 Ps 1:32.\\nSection 16. Legal Defense. The People of the City and County of San Francisco desire\\nELECTIL\\nDEPARTMENT\\nthat this ordinance, if approved by the voters and thereafter challenged in court, be defended\\nby the City. The People, by approving this ordinance, hereby declare that the proponents of\\nthis ordinance have a direct and personal stake in defending this ordinance from constitutional\\nor statutory challenges to the ordinance's validity or implementation. In the event that the City\\nfails to defend this ordinance, or the City fails to appeal an adverse judgment against the\\nconstitutionality, statutory permissibility or implementation of this ordinance, in whole or in\\npart, in any court of law, the ordinance's proponents shall be entitled to assert their direct\\npersonal stake by defending the ordinance's validity and implementation in any court of law\\nand shall be empowered by the People through this ordinance to act as agents of the People.\"}\n"
          ]
        }
      ]
    },
    {
      "cell_type": "code",
      "source": [
        "with open(TRAIN_CORPUS_FPATH_SENTENCE_SPLIT, 'w+') as f:\n",
        "    json.dump(train_corpus_sentence_split, f)\n",
        "\n",
        "with open(EVAL_CORPUS_FPATH_SENTENCE_SPLIT, 'w+') as f:\n",
        "    json.dump(val_corpus_sentence_split, f)"
      ],
      "metadata": {
        "id": "tQu_vttFNtgs"
      },
      "execution_count": 22,
      "outputs": []
    },
    {
      "cell_type": "markdown",
      "source": [
        "We do a very naive train/val split by having the\n",
        ".\n"
      ],
      "metadata": {
        "id": "mUVG9bbYHIAb"
      }
    },
    {
      "cell_type": "markdown",
      "source": [
        "## importings and inporting data"
      ],
      "metadata": {
        "id": "_ULsK3m7yECz"
      }
    },
    {
      "cell_type": "markdown",
      "source": [
        "#  Initilazing HuggingFace LLM"
      ],
      "metadata": {
        "id": "0CyfJX2SyQRz"
      }
    },
    {
      "cell_type": "code",
      "source": [
        "!pip install llama-index-llms-huggingface -q -U"
      ],
      "metadata": {
        "id": "Zhsbt5dOw0rQ"
      },
      "execution_count": 35,
      "outputs": []
    },
    {
      "cell_type": "code",
      "source": [
        "%pip install -q -U git+https://github.com/huggingface/transformers.git\n",
        "%pip install accelerate -q -U\n",
        "%pip install -i https://pypi.org/simple/ bitsandbytes -q\n",
        "%pip install sentence-transformers -q\n",
        "%pip install --upgrade transformers -q -U\n",
        "\n"
      ],
      "metadata": {
        "colab": {
          "base_uri": "https://localhost:8080/"
        },
        "id": "c4epFkDGynRC",
        "outputId": "f518ed2c-f0cb-4cf0-d248-e01c1f89f46b"
      },
      "execution_count": 38,
      "outputs": [
        {
          "output_type": "stream",
          "name": "stdout",
          "text": [
            "  Installing build dependencies ... \u001b[?25l\u001b[?25hdone\n",
            "  Getting requirements to build wheel ... \u001b[?25l\u001b[?25hdone\n",
            "  Preparing metadata (pyproject.toml) ... \u001b[?25l\u001b[?25hdone\n"
          ]
        }
      ]
    },
    {
      "cell_type": "markdown",
      "source": [
        "## quantization Configuration and initializing LLM zephyr-7b-beta"
      ],
      "metadata": {
        "id": "p0k_Nwyfyhqe"
      }
    },
    {
      "cell_type": "code",
      "source": [
        "import torch\n",
        "from transformers import BitsAndBytesConfig\n",
        "from llama_index.core.prompts import PromptTemplate\n",
        "from llama_index.llms.huggingface import HuggingFaceLLM\n",
        "\n",
        "\n",
        "import os\n",
        "import warnings\n",
        "\n",
        "warnings.filterwarnings('ignore')"
      ],
      "metadata": {
        "colab": {
          "base_uri": "https://localhost:8080/"
        },
        "id": "ZvK1AjRAzMf4",
        "outputId": "56726df0-28e6-4653-f5ef-7f4a97e9787a"
      },
      "execution_count": 1,
      "outputs": [
        {
          "output_type": "stream",
          "name": "stderr",
          "text": [
            "/usr/local/lib/python3.10/dist-packages/pydantic/_internal/_fields.py:160: UserWarning: Field \"model_id\" has conflict with protected namespace \"model_\".\n",
            "\n",
            "You may be able to resolve this warning by setting `model_config['protected_namespaces'] = ()`.\n",
            "  warnings.warn(\n"
          ]
        }
      ]
    },
    {
      "cell_type": "code",
      "source": [
        "# use this code when using GPU\n",
        "quantization_conf = BitsAndBytesConfig(\n",
        "    load_in_4bit=True,\n",
        "    bnb_4bit_compute_dtype=torch.float16,\n",
        "    bnb_4bit_quant_type=\"nf4\",\n",
        "    bnb_4bit_use_double_quant=True,\n",
        ")\n",
        "\n",
        "\n",
        "#We recreate template (or messages) and ensure that they have the correct format, as per,\n",
        "#https://github.com/run-llama/llama_index/issues/9277#issuecomment-1837545398 for zephyr-7b-beta\n",
        "\n",
        "def messages_to_prompt(messages):\n",
        "    prompt = \"\"\n",
        "    for message in messages:\n",
        "        if message.role == 'system':\n",
        "            prompt += f\"<|system|>\\n{message.content}</s>\\n\"\n",
        "        elif message.role == 'user':\n",
        "            prompt += f\"<|user|>\\n{message.content}</s>\\n\"\n",
        "        elif message.role == 'assistant':\n",
        "            prompt += f\"<|assistant|>\\n{message.content}</s>\\n\"\n",
        "\n",
        "    # ensure we start with a system prompt, insert blank if needed\n",
        "    if not prompt.startswith(\"<|system|>\\n\"):\n",
        "        prompt = \"<|system|>\\n</s>\\n\" + prompt\n",
        "\n",
        "    # add final assistant prompt\n",
        "    prompt = prompt + \"<|assistant|>\\n\"\n",
        "    return prompt"
      ],
      "metadata": {
        "id": "2m8x4vtwXkLb"
      },
      "execution_count": 6,
      "outputs": []
    },
    {
      "cell_type": "markdown",
      "source": [
        "### LLM for GPU settings"
      ],
      "metadata": {
        "id": "nJvYfh-l2vc8"
      }
    },
    {
      "cell_type": "code",
      "source": [
        "def huggingface_llm(model_name=\"HuggingFaceH4/zephyr-7b-beta\",\n",
        "                    tokenizer_name=\"HuggingFaceH4/zephyr-7b-beta\",\n",
        "                    context_window=4000,\n",
        "                    max_new_tokens=256,\n",
        "                    quantization_config = quantization_conf\n",
        "                   ):\n",
        "    llm = HuggingFaceLLM(\n",
        "        model_name=model_name,\n",
        "        tokenizer_name=tokenizer_name,\n",
        "        query_wrapper_prompt=PromptTemplate(\"<|system|>\\n</s>\\n<|user|>\\n{query_str}</s>\\n<|assistant|>\\n\"),\n",
        "        context_window=context_window,\n",
        "        max_new_tokens=max_new_tokens,\n",
        "        model_kwargs={\"quantization_config\": quantization_config},\n",
        "        # tokenizer_kwargs={},\n",
        "        generate_kwargs={\"temperature\": 0.7, \"top_k\": 50, \"top_p\": 0.95},\n",
        "        messages_to_prompt=messages_to_prompt,\n",
        "        device_map=\"auto\",\n",
        "    )\n",
        "\n",
        "    return llm\n",
        "\n",
        "llm = huggingface_llm()"
      ],
      "metadata": {
        "colab": {
          "base_uri": "https://localhost:8080/",
          "height": 785,
          "referenced_widgets": [
            "f73abd7746b14bd6b2b44777eeeeda5d",
            "345cf7773caf437fa73d96eb3b68d043",
            "a721acad9f104f6cba82920b280e7461",
            "4db10da826e745e9ba642d3c4195fdde",
            "a1081aedf23a4534949a6b0522344455",
            "7be85d26b20b40c2989497693ffb15ba",
            "aa1a74f194a640dca29d8d20dcb75a83",
            "785a1bc973d642018a6444a245715541",
            "75f16d0da63c48a2adc03ed1266fd62d",
            "d596c3ee0b424781b3df0fd9aebd073c",
            "1fc6fdf103e84ba5a504b4d09c48b589",
            "95768572b07a463aa1ad15f7497dee2f",
            "33b5823bd0fc470897ca860fa43bf6c9",
            "5bab30181de94ec9be431fe6a1b7c9f2",
            "e57a21b3d21542e6b910ccb6037aad29",
            "38655a6ccd31447e9dce3759d8bb01e8",
            "5de9e1bb1cac4c818fd4d2443f41b8bf",
            "127339e4f1124a02aa63efee89310216",
            "2994851d0dfb4ceab6bfe77222567cd8",
            "8a950372edc84d99a476724d36d2b347",
            "747de835edfc431f934855f552813461",
            "4c774de5a37c4798a5e8fc83610d6ce4",
            "c64a932f98e841cca5c54096cc1290de",
            "c10f8ab603c14ffd9ff67d608527eaa8",
            "d90ff83df2ca453eaa66aa3c1b66e801",
            "76bc49f59cf846778b534f97909b8d47",
            "2bdc30eff0cf4c059afd1d3ce2f01883",
            "3a31f6e7b142449ebfb0db7ed6d195de",
            "8a20fa8d583c43648f7723548dfdefe5",
            "26246fb56d7d4338a98ff531effcd111",
            "3a0afade2719421cb47268ce8e1a895d",
            "ccb3bdd1b6e14ba7b506ab0a694be840",
            "e3b9c27581714eedb44dda9c7ef02b4b",
            "bdf40bc7eb11465d810195416ab08998",
            "09c87874280847899469d79323460540",
            "57019459158e4f91bfcf34b7b430fc8b",
            "783c0d663c2346118729216a39746939",
            "3e6b0bca8378494290ced35d0c804546",
            "b475528a780941b283031cfa6cb0ea68",
            "5c357c46f22245efa7fbc6ac550827a9",
            "0726d86a26144c2d8f3a9e573a7e1697",
            "60d07da1731a494cb5d285ec74f4ba65",
            "0d0e05a7e5d447c3ae610d984bc40c42",
            "77c1af2448694b08a7ade0768fab10aa",
            "bf2557164f4c4377a71513b58ca4815c",
            "c392e07b44724734bdd91e7cf2e17cee",
            "4dcd617ae4764abf875afa434098e4f6",
            "c6e80cbd4f5d4adb925482285c35bde8",
            "892c7afc507e40999ea5ecac8bf54463",
            "e7e6e6bd5875494fb16b2b08caf5ae44",
            "95cab7e580294e8380511a71caac52cb",
            "2e604958949a415095061b9422948c6f",
            "992ae700def4432a9b4fdcc64238d861",
            "6100619c1c3243cc98eac55694441772",
            "9bd220ccd4944e139db1512584461894",
            "346e31ba26e6476dbc0636f7739e5611",
            "3730faf3eb8d4389b5d3a8c7e6338b4e",
            "1f64affe2e344eedb14d0ac7fc09cfa3",
            "7e7cfa7c4cdc47e896171704daa79436",
            "ce6457afbcc5449eb6fb58d10268ded2",
            "65a733abc3df4679b9ec1bba4234afe9",
            "799995c9273d4c9b97e3498ce3be9d2c",
            "d83c4c0953fd48508b259fe23c54bb8a",
            "708c68e2019a4b6fac1b2444d5622ede",
            "e73fa86efc2b4d6ba980393a5a1e4722",
            "13795a83d65f4c2b825b00366d8c09f1",
            "b12740cf923944cf9f7c7caed6659cd2",
            "88d47071274d40ca9753127a9d15cf2b",
            "f059e1e6a08f4dc2b9ec12d25cfb4fbf",
            "ebf41a25aaa64abeae039f23247d698a",
            "93be838580c84b74935f2a748877f614",
            "a3b99b3bb4b1468987c1c73246affa29",
            "b25c286d177846e5937bef14ce5e20e2",
            "c96d175ec7344677af98ff2d166e84bf",
            "e48ca6ded7a84b35b5fb105cb9944db9",
            "1f439c696bf547a7987baf9bd6f1fcaa",
            "36d5ed8415fe472fa70b789e5a3252ad",
            "58258b00b9fc4aa48397deaa6cf48b95",
            "846ffd8b03524e34ba2b6f50e05b69a5",
            "41f783f0600f4890bbf5cd12a3713fd3",
            "ef2e90e5f57646d68a13ec56002f5591",
            "3ae6f25c78aa4f698e1c0a1300af9b26",
            "f433a2ba4d404b25be81b3342281f189",
            "65df0db13cd44e2281e3f8feb9285e05",
            "0d5365525d8549789940d18e5645d7e1",
            "ea61bf12aacc4d7f8c695961af8b13d3",
            "098289fa521040d4a6c3b78ad9d9d811",
            "19c3cbdca1994f75b9e5c9ea5b7eaadb",
            "b2baa1670a774f658c91aa649e77ee11",
            "1631ea205f0c4ed58d6f3c5f6a0acd16",
            "d61c348096d9472fab452947a5926616",
            "4a6813cd6d0f40da9398d5fa887c59c9",
            "608b86c56df045dea195517aa50e478e",
            "718c292268dc49158f8dfe849c18e5e9",
            "9aa2ba1c718341aa9faa58cfbd5e0c7f",
            "d913a807a68f43dab6ef5881fbf3184e",
            "250073c3d1354872a63caa0cc19ab3d8",
            "9ccc1df9e035460b83b64ee18740340b",
            "31aa62a5393e497d8da3aee6f5d1ce08",
            "2c648f66cbfc4723af5cd2263c795d31",
            "34292bab46d24751baf9adc7e459f01b",
            "49e826ba239b448e96a5770489517701",
            "f33284e5775c40ca83ee9f69519c6d90",
            "5421c57e50c3422c8b25f40c279b69d0",
            "2e612880c1504d1a80d3becf09784335",
            "c66fadf08c3b4f49a3a0aecad1106bab",
            "94eab6e195e84bfea324109341395151",
            "c8d69c8839fb439abeb4a454b68b0d9d",
            "5b8de3d95598418f82cfa4e2b0d454f9",
            "21ed6f1adfab485682e6de88fc3eeaea",
            "f2f022fadb374db6842d4585ed390341",
            "9e822abbfc17417a9ab46b53534e0639",
            "ffa735bb4ccf4afdb422e6b222345054",
            "ceb8648c58104ed09e2f88aa6214193a",
            "548d8be2252448779fecd9c7798c6c42",
            "bb0370b5ecfe4160b9268eaa2b657c25",
            "7ba76a64438a47c4b7d24ba7a56721ce",
            "aac4dfa45ae74594bb79f619e38d92fe",
            "b799135523d544c1a22a55f983370812",
            "7c909173c75f4686820481982358adfb",
            "cd2f0336f4a5495389ac8d1fc95f84b7",
            "cac4c5adfb464b54b7926c03b2060b38",
            "d806d904affa4f2c9e80a4d32066ded9",
            "e7f6c5217bbb4a2ca73d276e80753d5d",
            "de655a79337d4d24ab9ea267b2d6228e",
            "ba33da46c38b4d7994f37062fa68bf8e",
            "85e24f24ae1848459c53a8215135b10b",
            "da6b0925e3e64e92a51f2b416917c967",
            "0b7d782ef183439cb2c0aa5c53fb667a",
            "253c88b551d54df9b164ca2cd8fe9b57",
            "72553f65a25b4158a4967c04e885ac91",
            "8c46229519c7412f92f42e8ff54315cf",
            "fd7c917ab3344d6ab911dcfbcbb0bc7d",
            "4569d44034a3418a8bccdb8cf158c8a7",
            "a75b8bf743c94d668e71bb4423878207",
            "4ca255c5fe9d40258f1c19d23f400487",
            "f702b652b4144f55bbcdab2ba5f2dd10",
            "bed976fa4bd64c23ab022da2d0d61627",
            "864bc7ff8c2a49b6957074f12864d7b4",
            "8e7420f738f7487fb109894f675e9970",
            "7dc5ad813ad44053963b855895f8a5e0",
            "5d00105e202449b79ae24252399d1037",
            "345026bc518548e59f9ded48cd4639c7",
            "2362aaf3f5ae49eeb7f70fbd33983d42",
            "d21679895a0d477c90c0cae1c61629cb",
            "4aa7612b67c74a679c9fc48963340204",
            "b43f3a820952425089f183a470b38633",
            "33fa1ad347784600a40b1d5850ad353e",
            "b44bca0b0e7b42e1ba18e812eb70cbe0",
            "212099a350714ef990689c27a31d3581",
            "93f727160557479495029141c8fabdc5",
            "57623f20f2d543ff84da3450fff9e56e",
            "f54427f5e3f9463ab6d9d22ea3b37361",
            "54cd6f00e3de414b8b3765d0fe00c799",
            "b98a310e2063434cb760877abb8c5429",
            "143ea1b4f98044c1a9beacd461371cda",
            "614da44bc40447e1afeb624040b50447",
            "08b6c03563134a22a5dfb8dba95e3949",
            "100db856df4e4ac29caf6afc9daacb07",
            "64f9453ce6d041038bc20e81944834e7",
            "0250b1577753415d9245eb487fa92df9",
            "a9be8cd188dd47a0828dcb946b685fca",
            "77e9d605f5034cf4b5906b4b0c051467",
            "7616353c911a4035a6bf777f079c1f6c",
            "d8534fd300e240dd89c59c3d9c8d4ae4",
            "fdd7c1203dc04bc8883200e2ccb8251f",
            "61f2186db8db4c91ae7718c0cdb401ff",
            "49ba1fa4afa6445cad3d0baa16f70440",
            "1e0eedd2bbb94143aa1d063be7f96ab5",
            "4885f5dc8c704899a2c52cbf46bed0cc",
            "9f765f1227e147b6af501ada8269d2f1",
            "9324395c9aa44f3e9d50a06b47e25a88",
            "a95505cf2a834763ab32acd6c4fe409c",
            "d33f5bff31c44295adbb32a112e4b4be",
            "cf6046e8b98a4e549be4e2851659d891",
            "1f5eb4b050ad441a8668404742971a8a",
            "902ecea7b5484973a73ad374e343e516",
            "265dd727d706497c94c1692231fcb77f",
            "e60eb38ca319462b997f42c08ff75619",
            "d0b2e5e134284cc3a2fea2ac6a6c72a7",
            "c19ef753799f427591b752de73e4436f",
            "ad75cd09c9514521a6390b5b80f804d6",
            "57655fd06dae4c2fb69752537e569a1c",
            "eb493fa7703a4e2db91c3300978c1235",
            "b92f43451d66483db50f92f31b0d0718",
            "0b2d6e5771324955b3dc09a8c6b299ae",
            "c427540b89b14f9caf89bd49de0ac202"
          ]
        },
        "id": "1QUX0sg1aa1P",
        "outputId": "7aa90106-6bf9-4d6f-a3bb-122189cf539e"
      },
      "execution_count": 7,
      "outputs": [
        {
          "output_type": "display_data",
          "data": {
            "text/plain": [
              "model.safetensors.index.json:   0%|          | 0.00/23.9k [00:00<?, ?B/s]"
            ],
            "application/vnd.jupyter.widget-view+json": {
              "version_major": 2,
              "version_minor": 0,
              "model_id": "f73abd7746b14bd6b2b44777eeeeda5d"
            }
          },
          "metadata": {}
        },
        {
          "output_type": "display_data",
          "data": {
            "text/plain": [
              "Downloading shards:   0%|          | 0/8 [00:00<?, ?it/s]"
            ],
            "application/vnd.jupyter.widget-view+json": {
              "version_major": 2,
              "version_minor": 0,
              "model_id": "95768572b07a463aa1ad15f7497dee2f"
            }
          },
          "metadata": {}
        },
        {
          "output_type": "display_data",
          "data": {
            "text/plain": [
              "model-00001-of-00008.safetensors:   0%|          | 0.00/1.89G [00:00<?, ?B/s]"
            ],
            "application/vnd.jupyter.widget-view+json": {
              "version_major": 2,
              "version_minor": 0,
              "model_id": "c64a932f98e841cca5c54096cc1290de"
            }
          },
          "metadata": {}
        },
        {
          "output_type": "display_data",
          "data": {
            "text/plain": [
              "model-00002-of-00008.safetensors:   0%|          | 0.00/1.95G [00:00<?, ?B/s]"
            ],
            "application/vnd.jupyter.widget-view+json": {
              "version_major": 2,
              "version_minor": 0,
              "model_id": "bdf40bc7eb11465d810195416ab08998"
            }
          },
          "metadata": {}
        },
        {
          "output_type": "display_data",
          "data": {
            "text/plain": [
              "model-00003-of-00008.safetensors:   0%|          | 0.00/1.98G [00:00<?, ?B/s]"
            ],
            "application/vnd.jupyter.widget-view+json": {
              "version_major": 2,
              "version_minor": 0,
              "model_id": "bf2557164f4c4377a71513b58ca4815c"
            }
          },
          "metadata": {}
        },
        {
          "output_type": "display_data",
          "data": {
            "text/plain": [
              "model-00004-of-00008.safetensors:   0%|          | 0.00/1.95G [00:00<?, ?B/s]"
            ],
            "application/vnd.jupyter.widget-view+json": {
              "version_major": 2,
              "version_minor": 0,
              "model_id": "346e31ba26e6476dbc0636f7739e5611"
            }
          },
          "metadata": {}
        },
        {
          "output_type": "display_data",
          "data": {
            "text/plain": [
              "model-00005-of-00008.safetensors:   0%|          | 0.00/1.98G [00:00<?, ?B/s]"
            ],
            "application/vnd.jupyter.widget-view+json": {
              "version_major": 2,
              "version_minor": 0,
              "model_id": "b12740cf923944cf9f7c7caed6659cd2"
            }
          },
          "metadata": {}
        },
        {
          "output_type": "display_data",
          "data": {
            "text/plain": [
              "model-00006-of-00008.safetensors:   0%|          | 0.00/1.95G [00:00<?, ?B/s]"
            ],
            "application/vnd.jupyter.widget-view+json": {
              "version_major": 2,
              "version_minor": 0,
              "model_id": "58258b00b9fc4aa48397deaa6cf48b95"
            }
          },
          "metadata": {}
        },
        {
          "output_type": "display_data",
          "data": {
            "text/plain": [
              "model-00007-of-00008.safetensors:   0%|          | 0.00/1.98G [00:00<?, ?B/s]"
            ],
            "application/vnd.jupyter.widget-view+json": {
              "version_major": 2,
              "version_minor": 0,
              "model_id": "b2baa1670a774f658c91aa649e77ee11"
            }
          },
          "metadata": {}
        },
        {
          "output_type": "display_data",
          "data": {
            "text/plain": [
              "model-00008-of-00008.safetensors:   0%|          | 0.00/816M [00:00<?, ?B/s]"
            ],
            "application/vnd.jupyter.widget-view+json": {
              "version_major": 2,
              "version_minor": 0,
              "model_id": "2c648f66cbfc4723af5cd2263c795d31"
            }
          },
          "metadata": {}
        },
        {
          "output_type": "display_data",
          "data": {
            "text/plain": [
              "Loading checkpoint shards:   0%|          | 0/8 [00:00<?, ?it/s]"
            ],
            "application/vnd.jupyter.widget-view+json": {
              "version_major": 2,
              "version_minor": 0,
              "model_id": "f2f022fadb374db6842d4585ed390341"
            }
          },
          "metadata": {}
        },
        {
          "output_type": "display_data",
          "data": {
            "text/plain": [
              "generation_config.json:   0%|          | 0.00/111 [00:00<?, ?B/s]"
            ],
            "application/vnd.jupyter.widget-view+json": {
              "version_major": 2,
              "version_minor": 0,
              "model_id": "cac4c5adfb464b54b7926c03b2060b38"
            }
          },
          "metadata": {}
        },
        {
          "output_type": "display_data",
          "data": {
            "text/plain": [
              "tokenizer_config.json:   0%|          | 0.00/1.43k [00:00<?, ?B/s]"
            ],
            "application/vnd.jupyter.widget-view+json": {
              "version_major": 2,
              "version_minor": 0,
              "model_id": "fd7c917ab3344d6ab911dcfbcbb0bc7d"
            }
          },
          "metadata": {}
        },
        {
          "output_type": "display_data",
          "data": {
            "text/plain": [
              "tokenizer.model:   0%|          | 0.00/493k [00:00<?, ?B/s]"
            ],
            "application/vnd.jupyter.widget-view+json": {
              "version_major": 2,
              "version_minor": 0,
              "model_id": "2362aaf3f5ae49eeb7f70fbd33983d42"
            }
          },
          "metadata": {}
        },
        {
          "output_type": "display_data",
          "data": {
            "text/plain": [
              "tokenizer.json:   0%|          | 0.00/1.80M [00:00<?, ?B/s]"
            ],
            "application/vnd.jupyter.widget-view+json": {
              "version_major": 2,
              "version_minor": 0,
              "model_id": "b98a310e2063434cb760877abb8c5429"
            }
          },
          "metadata": {}
        },
        {
          "output_type": "display_data",
          "data": {
            "text/plain": [
              "added_tokens.json:   0%|          | 0.00/42.0 [00:00<?, ?B/s]"
            ],
            "application/vnd.jupyter.widget-view+json": {
              "version_major": 2,
              "version_minor": 0,
              "model_id": "fdd7c1203dc04bc8883200e2ccb8251f"
            }
          },
          "metadata": {}
        },
        {
          "output_type": "display_data",
          "data": {
            "text/plain": [
              "special_tokens_map.json:   0%|          | 0.00/168 [00:00<?, ?B/s]"
            ],
            "application/vnd.jupyter.widget-view+json": {
              "version_major": 2,
              "version_minor": 0,
              "model_id": "902ecea7b5484973a73ad374e343e516"
            }
          },
          "metadata": {}
        }
      ]
    },
    {
      "cell_type": "markdown",
      "source": [
        "### LLM  with CPU Setting"
      ],
      "metadata": {
        "id": "AcEhCUom20zX"
      }
    },
    {
      "cell_type": "code",
      "source": [
        "%pip install llama-index-llms-huggingface-api -q -U\n"
      ],
      "metadata": {
        "id": "3y-Aa0Lg9FhG"
      },
      "execution_count": null,
      "outputs": []
    },
    {
      "cell_type": "code",
      "source": [
        "def huggingface_llm(model_name=\"stabilityai/stable-code-3b\",\n",
        "                    tokenizer_name=\"stabilityai/stable-code-3b\",\n",
        "                    context_window=3900,\n",
        "                    max_new_tokens=256,\n",
        "                    # quantization_config = quantization_conf\n",
        "                   ):\n",
        "    llm = HuggingFaceLLM(\n",
        "        model_name=model_name,\n",
        "        tokenizer_name=tokenizer_name,\n",
        "        query_wrapper_prompt=PromptTemplate(\"<|system|>\\n</s>\\n<|user|>\\n{query_str}</s>\\n<|assistant|>\\n\"),\n",
        "        context_window=context_window,\n",
        "        max_new_tokens=max_new_tokens,\n",
        "        # model_kwargs={\"quantization_config\": quantization_config},\n",
        "        # tokenizer_kwargs={},\n",
        "        generate_kwargs={ \"top_k\": 50, do_sample=True},\n",
        "        messages_to_prompt=messages_to_prompt,\n",
        "        device_map=\"cpu\",\n",
        "    )\n",
        "\n",
        "    return llm\n",
        "\n",
        "llm = huggingface_llm()"
      ],
      "metadata": {
        "colab": {
          "base_uri": "https://localhost:8080/",
          "height": 197,
          "referenced_widgets": [
            "8d77c5cbd6b043869b0c7a4d4436c6a8",
            "1654254329124b54b3360e967e4d0992",
            "975a9d5fad8f4b0281d7577060337431",
            "7563c72636d14d5c8d1985df3c1ee229",
            "addb664ec5044dab879eae7406b51018",
            "23979285b6014da8951e97b302489f73",
            "2b9201a1678f44b58e1ff0d705ba75b1",
            "8be1074fb75b4fa69ed7e547632bb7fd",
            "28f30a822b2644aa8cc2dd5b48d1faa8",
            "11f42e45be4b45c6a9a3804338861039",
            "70e3e275568a423495dc3cae69e9e03e"
          ]
        },
        "id": "6KPCUNbc24EP",
        "outputId": "f035ac0c-bef6-4642-ae61-993781cf211e"
      },
      "execution_count": null,
      "outputs": [
        {
          "output_type": "stream",
          "name": "stderr",
          "text": [
            "/usr/local/lib/python3.10/dist-packages/huggingface_hub/utils/_token.py:89: UserWarning: \n",
            "The secret `HF_TOKEN` does not exist in your Colab secrets.\n",
            "To authenticate with the Hugging Face Hub, create a token in your settings tab (https://huggingface.co/settings/tokens), set it as secret in your Google Colab and restart your session.\n",
            "You will be able to reuse this secret in all of your notebooks.\n",
            "Please note that authentication is recommended but still optional to access public models or datasets.\n",
            "  warnings.warn(\n"
          ]
        },
        {
          "output_type": "display_data",
          "data": {
            "text/plain": [
              "Loading checkpoint shards:   0%|          | 0/2 [00:00<?, ?it/s]"
            ],
            "application/vnd.jupyter.widget-view+json": {
              "version_major": 2,
              "version_minor": 0,
              "model_id": "8d77c5cbd6b043869b0c7a4d4436c6a8"
            }
          },
          "metadata": {}
        },
        {
          "output_type": "stream",
          "name": "stderr",
          "text": [
            "Special tokens have been added in the vocabulary, make sure the associated word embeddings are fine-tuned or trained.\n"
          ]
        }
      ]
    },
    {
      "cell_type": "markdown",
      "source": [],
      "metadata": {
        "id": "qaDUxWv_Xj6e"
      }
    },
    {
      "cell_type": "markdown",
      "source": [
        "# Generate synthetic data\n"
      ],
      "metadata": {
        "id": "QR7CV6VB9dyt"
      }
    },
    {
      "cell_type": "markdown",
      "source": [
        "## imports and initializing data"
      ],
      "metadata": {
        "id": "wQlb7q_IOwnh"
      }
    },
    {
      "cell_type": "code",
      "source": [
        "import json\n",
        "import re\n",
        "import uuid"
      ],
      "metadata": {
        "id": "DziH8pdpSRxv"
      },
      "execution_count": 29,
      "outputs": []
    },
    {
      "cell_type": "code",
      "source": [
        "TRAIN_CORPUS_FPATH_SENTENCE_SPLIT = './corpus/train_corpus_sentence_split.json'\n",
        "EVAL_CORPUS_FPATH_SENTENCE_SPLIT = './corpus/eval_corpus_sentence_split.json'"
      ],
      "metadata": {
        "id": "TsQ18hJoS9xG"
      },
      "execution_count": 13,
      "outputs": []
    },
    {
      "cell_type": "code",
      "source": [
        "TRAIN_QUERIES_FPATH = './data/train_queries.json'\n",
        "TRAIN_RELEVANT_DOCS_FPATH = './data/train_relevant_docs.json'\n",
        "\n",
        "VAL_QUERIES_FPATH = './data/val_queries.json'\n",
        "VAL_RELEVANT_DOCS_FPATH = './data/val_relevant_docs.json'"
      ],
      "metadata": {
        "id": "svi-Ay_8K5Wn"
      },
      "execution_count": 8,
      "outputs": []
    },
    {
      "cell_type": "code",
      "source": [
        "with open(TRAIN_CORPUS_FPATH_SENTENCE_SPLIT, 'r+') as f:\n",
        "    train_corpus = json.load(f)\n",
        "\n",
        "\n",
        "with open(EVAL_CORPUS_FPATH_SENTENCE_SPLIT, 'r+') as f:\n",
        "    val_corpus = json.load(f)"
      ],
      "metadata": {
        "id": "iaCP9sgu9l0d"
      },
      "execution_count": 27,
      "outputs": []
    },
    {
      "cell_type": "code",
      "source": [
        "from typing import Dict, List, Tuple\n",
        "\n",
        "from llama_index.core.bridge.pydantic import BaseModel\n",
        "from llama_index.core.llms.utils import LLM\n",
        "from llama_index.core.schema import MetadataMode, TextNode\n",
        "from tqdm import tqdm\n"
      ],
      "metadata": {
        "id": "6gE3pLC0S-0j"
      },
      "execution_count": 24,
      "outputs": []
    },
    {
      "cell_type": "markdown",
      "source": [
        "## Generating QA Embedding Pair"
      ],
      "metadata": {
        "id": "7cBjg95lyvtQ"
      }
    },
    {
      "cell_type": "code",
      "source": [
        "class EmbeddingQAFinetuneDataset(BaseModel):\n",
        "    \"\"\"Embedding QA Finetuning Dataset.\n",
        "\n",
        "    Args:\n",
        "        queries (Dict[str, str]): Dict id -> query.\n",
        "        corpus (Dict[str, str]): Dict id -> string.\n",
        "        relevant_docs (Dict[str, List[str]]): Dict query id -> list of doc ids.\n",
        "\n",
        "    \"\"\"\n",
        "\n",
        "    queries: Dict[str, str]  # dict id -> query\n",
        "    corpus: Dict[str, str]  # dict id -> string\n",
        "    relevant_docs: Dict[str, List[str]]  # query id -> list of doc ids\n",
        "    mode: str = \"text\"\n",
        "\n",
        "    @property\n",
        "    def query_docid_pairs(self) -> List[Tuple[str, List[str]]]:\n",
        "        \"\"\"Get query, relevant doc ids.\"\"\"\n",
        "        return [\n",
        "            (query, self.relevant_docs[query_id])\n",
        "            for query_id, query in self.queries.items()\n",
        "        ]\n",
        "\n",
        "    def save_json(self, path: str) -> None:\n",
        "        \"\"\"Save json.\"\"\"\n",
        "        with open(path, \"w\") as f:\n",
        "            json.dump(self.dict(), f, indent=4)\n",
        "\n",
        "    @classmethod\n",
        "    def from_json(cls, path: str) -> \"EmbeddingQAFinetuneDataset\":\n",
        "        \"\"\"Load json.\"\"\"\n",
        "        with open(path) as f:\n",
        "            data = json.load(f)\n",
        "        return cls(**data)\n",
        "\n",
        "\n",
        "DEFAULT_QA_GENERATE_PROMPT_TMPL = \"\"\"\\\n",
        "Context information is below.\n",
        "\n",
        "---------------------\n",
        "{context_str}\n",
        "---------------------\n",
        "\n",
        "Given the context information and no prior knowledge.\n",
        "generate only questions based on the below query.\n",
        "\n",
        "You are a Teacher/ Professor. Your task is to setup \\\n",
        "{num_questions_per_chunk} questions for an upcoming \\\n",
        "quiz/examination. The questions should be diverse in nature \\\n",
        "across the document. Restrict the questions to the \\\n",
        "context information provided.\"\n",
        "\"\"\"\n",
        "# generate queries as a convenience function\n",
        "\n",
        "def generate_qa_embedding_pairs(\n",
        "    node_dict,\n",
        "    llm: LLM,\n",
        "    qa_generate_prompt_tmpl: str = DEFAULT_QA_GENERATE_PROMPT_TMPL,\n",
        "    num_questions_per_chunk: int = 2,\n",
        ") -> EmbeddingQAFinetuneDataset:\n",
        "    \"\"\"Generate examples given a set of nodes.\"\"\"\n",
        "\n",
        "\n",
        "    queries = {}\n",
        "    relevant_docs = {}\n",
        "    for node_id, text in tqdm(node_dict.items()):\n",
        "        query = qa_generate_prompt_tmpl.format(\n",
        "            context_str=text, num_questions_per_chunk=num_questions_per_chunk\n",
        "        )\n",
        "        response = llm.complete(query)\n",
        "\n",
        "        result = str(response).strip().split(\"\\n\")\n",
        "        questions = [\n",
        "            re.sub(r\"^\\d+[\\).\\s]\", \"\", question).strip() for question in result\n",
        "        ]\n",
        "        questions = [question for question in questions if len(question) > 0][\n",
        "            :num_questions_per_chunk\n",
        "        ]\n",
        "\n",
        "        num_questions_generated = len(questions)\n",
        "        if num_questions_generated < num_questions_per_chunk:\n",
        "            warnings.warn(\n",
        "                f\"Fewer questions generated ({num_questions_generated}) \"\n",
        "                f\"than requested ({num_questions_per_chunk}).\"\n",
        "            )\n",
        "\n",
        "        for question in questions:\n",
        "            question_id = str(uuid.uuid4())\n",
        "            queries[question_id] = question\n",
        "            relevant_docs[question_id] = [node_id]\n",
        "\n",
        "        print(questions)\n",
        "\n",
        "    # construct dataset\n",
        "    return EmbeddingQAFinetuneDataset(\n",
        "        queries=queries, corpus=node_dict, relevant_docs=relevant_docs\n",
        "    )"
      ],
      "metadata": {
        "id": "sqLB22WOQyZ1"
      },
      "execution_count": 23,
      "outputs": []
    },
    {
      "cell_type": "code",
      "source": [
        "train_dataset = generate_qa_embedding_pairs(train_corpus, llm)"
      ],
      "metadata": {
        "colab": {
          "base_uri": "https://localhost:8080/"
        },
        "id": "zrkdptqLTsCI",
        "outputId": "2f5609dd-4bda-4d9f-c9ae-5d22cd83f2a7"
      },
      "execution_count": null,
      "outputs": [
        {
          "output_type": "stream",
          "name": "stderr",
          "text": [
            "  0%|          | 0/119 [00:00<?, ?it/s]Setting `pad_token_id` to `eos_token_id`:2 for open-end generation.\n",
            "  1%|          | 1/119 [00:30<1:00:15, 30.64s/it]Setting `pad_token_id` to `eos_token_id`:2 for open-end generation.\n",
            "  2%|▏         | 2/119 [00:53<50:37, 25.96s/it]  Setting `pad_token_id` to `eos_token_id`:2 for open-end generation.\n",
            "  3%|▎         | 3/119 [01:01<34:28, 17.83s/it]Setting `pad_token_id` to `eos_token_id`:2 for open-end generation.\n",
            "  3%|▎         | 4/119 [01:15<31:29, 16.43s/it]Setting `pad_token_id` to `eos_token_id`:2 for open-end generation.\n",
            "  4%|▍         | 5/119 [01:21<24:02, 12.65s/it]Setting `pad_token_id` to `eos_token_id`:2 for open-end generation.\n",
            "  5%|▌         | 6/119 [01:33<23:01, 12.23s/it]Setting `pad_token_id` to `eos_token_id`:2 for open-end generation.\n",
            "  6%|▌         | 7/119 [01:43<21:32, 11.54s/it]Setting `pad_token_id` to `eos_token_id`:2 for open-end generation.\n",
            "  7%|▋         | 8/119 [02:05<27:48, 15.03s/it]Setting `pad_token_id` to `eos_token_id`:2 for open-end generation.\n",
            "  8%|▊         | 9/119 [02:15<24:35, 13.42s/it]Setting `pad_token_id` to `eos_token_id`:2 for open-end generation.\n",
            "  8%|▊         | 10/119 [02:24<21:44, 11.96s/it]Setting `pad_token_id` to `eos_token_id`:2 for open-end generation.\n",
            "  9%|▉         | 11/119 [02:47<27:42, 15.40s/it]Setting `pad_token_id` to `eos_token_id`:2 for open-end generation.\n",
            " 10%|█         | 12/119 [02:55<23:11, 13.00s/it]Setting `pad_token_id` to `eos_token_id`:2 for open-end generation.\n",
            " 11%|█         | 13/119 [03:16<27:15, 15.43s/it]Setting `pad_token_id` to `eos_token_id`:2 for open-end generation.\n",
            " 12%|█▏        | 14/119 [03:22<22:08, 12.65s/it]Setting `pad_token_id` to `eos_token_id`:2 for open-end generation.\n",
            " 13%|█▎        | 15/119 [03:33<21:10, 12.22s/it]Setting `pad_token_id` to `eos_token_id`:2 for open-end generation.\n",
            " 13%|█▎        | 16/119 [03:44<20:09, 11.74s/it]Setting `pad_token_id` to `eos_token_id`:2 for open-end generation.\n",
            " 14%|█▍        | 17/119 [03:49<16:56,  9.96s/it]Setting `pad_token_id` to `eos_token_id`:2 for open-end generation.\n",
            " 15%|█▌        | 18/119 [03:58<16:09,  9.60s/it]Setting `pad_token_id` to `eos_token_id`:2 for open-end generation.\n",
            " 16%|█▌        | 19/119 [04:21<22:49, 13.70s/it]Setting `pad_token_id` to `eos_token_id`:2 for open-end generation.\n",
            " 17%|█▋        | 20/119 [04:45<27:21, 16.58s/it]Setting `pad_token_id` to `eos_token_id`:2 for open-end generation.\n",
            " 18%|█▊        | 21/119 [04:52<22:31, 13.79s/it]Setting `pad_token_id` to `eos_token_id`:2 for open-end generation.\n",
            " 18%|█▊        | 22/119 [05:02<20:37, 12.76s/it]Setting `pad_token_id` to `eos_token_id`:2 for open-end generation.\n",
            " 19%|█▉        | 23/119 [05:23<24:01, 15.01s/it]Setting `pad_token_id` to `eos_token_id`:2 for open-end generation.\n",
            " 20%|██        | 24/119 [05:34<22:02, 13.92s/it]Setting `pad_token_id` to `eos_token_id`:2 for open-end generation.\n",
            " 21%|██        | 25/119 [05:45<20:22, 13.00s/it]Setting `pad_token_id` to `eos_token_id`:2 for open-end generation.\n",
            " 22%|██▏       | 26/119 [06:08<24:44, 15.97s/it]Setting `pad_token_id` to `eos_token_id`:2 for open-end generation.\n",
            " 23%|██▎       | 27/119 [06:19<22:07, 14.43s/it]Setting `pad_token_id` to `eos_token_id`:2 for open-end generation.\n",
            " 24%|██▎       | 28/119 [06:42<25:56, 17.10s/it]Setting `pad_token_id` to `eos_token_id`:2 for open-end generation.\n",
            " 24%|██▍       | 29/119 [06:55<23:49, 15.88s/it]Setting `pad_token_id` to `eos_token_id`:2 for open-end generation.\n",
            " 25%|██▌       | 30/119 [07:07<21:50, 14.73s/it]Setting `pad_token_id` to `eos_token_id`:2 for open-end generation.\n",
            " 26%|██▌       | 31/119 [07:17<19:22, 13.21s/it]Setting `pad_token_id` to `eos_token_id`:2 for open-end generation.\n",
            " 27%|██▋       | 32/119 [07:33<20:22, 14.06s/it]Setting `pad_token_id` to `eos_token_id`:2 for open-end generation.\n",
            " 28%|██▊       | 33/119 [07:39<16:40, 11.63s/it]Setting `pad_token_id` to `eos_token_id`:2 for open-end generation.\n",
            " 29%|██▊       | 34/119 [07:58<19:39, 13.87s/it]Setting `pad_token_id` to `eos_token_id`:2 for open-end generation.\n",
            " 29%|██▉       | 35/119 [08:09<18:25, 13.16s/it]Setting `pad_token_id` to `eos_token_id`:2 for open-end generation.\n",
            " 30%|███       | 36/119 [08:20<17:06, 12.36s/it]Setting `pad_token_id` to `eos_token_id`:2 for open-end generation.\n",
            " 31%|███       | 37/119 [08:30<16:00, 11.71s/it]Setting `pad_token_id` to `eos_token_id`:2 for open-end generation.\n",
            " 32%|███▏      | 38/119 [08:40<15:07, 11.21s/it]Setting `pad_token_id` to `eos_token_id`:2 for open-end generation.\n",
            " 33%|███▎      | 39/119 [09:04<19:57, 14.97s/it]Setting `pad_token_id` to `eos_token_id`:2 for open-end generation.\n",
            " 34%|███▎      | 40/119 [09:11<16:44, 12.72s/it]Setting `pad_token_id` to `eos_token_id`:2 for open-end generation.\n",
            " 34%|███▍      | 41/119 [09:35<20:46, 15.99s/it]Setting `pad_token_id` to `eos_token_id`:2 for open-end generation.\n",
            " 35%|███▌      | 42/119 [09:59<23:31, 18.33s/it]Setting `pad_token_id` to `eos_token_id`:2 for open-end generation.\n",
            " 36%|███▌      | 43/119 [10:22<25:09, 19.86s/it]Setting `pad_token_id` to `eos_token_id`:2 for open-end generation.\n",
            " 37%|███▋      | 44/119 [10:36<22:35, 18.08s/it]Setting `pad_token_id` to `eos_token_id`:2 for open-end generation.\n",
            " 38%|███▊      | 45/119 [10:51<21:02, 17.06s/it]Setting `pad_token_id` to `eos_token_id`:2 for open-end generation.\n",
            " 39%|███▊      | 46/119 [10:57<16:57, 13.94s/it]Setting `pad_token_id` to `eos_token_id`:2 for open-end generation.\n",
            " 39%|███▉      | 47/119 [11:10<16:25, 13.69s/it]Setting `pad_token_id` to `eos_token_id`:2 for open-end generation.\n",
            " 40%|████      | 48/119 [11:36<20:19, 17.17s/it]Setting `pad_token_id` to `eos_token_id`:2 for open-end generation.\n",
            " 41%|████      | 49/119 [12:01<23:01, 19.73s/it]Setting `pad_token_id` to `eos_token_id`:2 for open-end generation.\n",
            " 42%|████▏     | 50/119 [12:27<24:36, 21.40s/it]Setting `pad_token_id` to `eos_token_id`:2 for open-end generation.\n",
            " 43%|████▎     | 51/119 [12:36<20:14, 17.86s/it]Setting `pad_token_id` to `eos_token_id`:2 for open-end generation.\n",
            " 44%|████▎     | 52/119 [12:44<16:21, 14.64s/it]Setting `pad_token_id` to `eos_token_id`:2 for open-end generation.\n",
            " 45%|████▍     | 53/119 [13:07<18:54, 17.19s/it]Setting `pad_token_id` to `eos_token_id`:2 for open-end generation.\n",
            " 45%|████▌     | 54/119 [13:18<16:52, 15.57s/it]Setting `pad_token_id` to `eos_token_id`:2 for open-end generation.\n",
            " 46%|████▌     | 55/119 [13:26<13:55, 13.06s/it]Setting `pad_token_id` to `eos_token_id`:2 for open-end generation.\n",
            " 47%|████▋     | 56/119 [13:49<16:57, 16.15s/it]Setting `pad_token_id` to `eos_token_id`:2 for open-end generation.\n",
            " 48%|████▊     | 57/119 [14:12<18:43, 18.11s/it]Setting `pad_token_id` to `eos_token_id`:2 for open-end generation.\n",
            " 49%|████▊     | 58/119 [14:35<19:56, 19.61s/it]Setting `pad_token_id` to `eos_token_id`:2 for open-end generation.\n",
            " 50%|████▉     | 59/119 [14:44<16:22, 16.38s/it]Setting `pad_token_id` to `eos_token_id`:2 for open-end generation.\n",
            " 50%|█████     | 60/119 [14:49<12:57, 13.17s/it]Setting `pad_token_id` to `eos_token_id`:2 for open-end generation.\n",
            " 51%|█████▏    | 61/119 [15:12<15:37, 16.17s/it]Setting `pad_token_id` to `eos_token_id`:2 for open-end generation.\n",
            " 52%|█████▏    | 62/119 [15:20<12:45, 13.43s/it]Setting `pad_token_id` to `eos_token_id`:2 for open-end generation.\n",
            " 53%|█████▎    | 63/119 [15:26<10:42, 11.47s/it]Setting `pad_token_id` to `eos_token_id`:2 for open-end generation.\n",
            " 54%|█████▍    | 64/119 [15:34<09:28, 10.33s/it]Setting `pad_token_id` to `eos_token_id`:2 for open-end generation.\n",
            " 55%|█████▍    | 65/119 [15:41<08:17,  9.21s/it]Setting `pad_token_id` to `eos_token_id`:2 for open-end generation.\n",
            " 55%|█████▌    | 66/119 [15:47<07:16,  8.23s/it]Setting `pad_token_id` to `eos_token_id`:2 for open-end generation.\n",
            " 56%|█████▋    | 67/119 [15:54<06:53,  7.95s/it]Setting `pad_token_id` to `eos_token_id`:2 for open-end generation.\n",
            " 57%|█████▋    | 68/119 [16:03<06:58,  8.21s/it]Setting `pad_token_id` to `eos_token_id`:2 for open-end generation.\n",
            " 58%|█████▊    | 69/119 [16:25<10:27, 12.55s/it]Setting `pad_token_id` to `eos_token_id`:2 for open-end generation.\n",
            " 59%|█████▉    | 70/119 [16:38<10:21, 12.68s/it]Setting `pad_token_id` to `eos_token_id`:2 for open-end generation.\n",
            " 60%|█████▉    | 71/119 [16:47<09:11, 11.49s/it]Setting `pad_token_id` to `eos_token_id`:2 for open-end generation.\n",
            " 61%|██████    | 72/119 [16:58<08:47, 11.22s/it]Setting `pad_token_id` to `eos_token_id`:2 for open-end generation.\n",
            " 61%|██████▏   | 73/119 [17:06<07:49, 10.21s/it]Setting `pad_token_id` to `eos_token_id`:2 for open-end generation.\n",
            " 62%|██████▏   | 74/119 [17:24<09:30, 12.68s/it]Setting `pad_token_id` to `eos_token_id`:2 for open-end generation.\n",
            " 63%|██████▎   | 75/119 [17:33<08:30, 11.61s/it]Setting `pad_token_id` to `eos_token_id`:2 for open-end generation.\n",
            " 64%|██████▍   | 76/119 [17:49<09:12, 12.85s/it]Setting `pad_token_id` to `eos_token_id`:2 for open-end generation.\n",
            " 65%|██████▍   | 77/119 [18:02<09:02, 12.92s/it]Setting `pad_token_id` to `eos_token_id`:2 for open-end generation.\n",
            " 66%|██████▌   | 78/119 [18:10<07:49, 11.45s/it]Setting `pad_token_id` to `eos_token_id`:2 for open-end generation.\n",
            " 66%|██████▋   | 79/119 [18:20<07:15, 10.89s/it]Setting `pad_token_id` to `eos_token_id`:2 for open-end generation.\n",
            " 67%|██████▋   | 80/119 [18:43<09:26, 14.53s/it]Setting `pad_token_id` to `eos_token_id`:2 for open-end generation.\n",
            " 68%|██████▊   | 81/119 [18:53<08:31, 13.45s/it]Setting `pad_token_id` to `eos_token_id`:2 for open-end generation.\n",
            " 69%|██████▉   | 82/119 [19:05<08:01, 13.02s/it]Setting `pad_token_id` to `eos_token_id`:2 for open-end generation.\n",
            " 70%|██████▉   | 83/119 [19:21<08:16, 13.80s/it]Setting `pad_token_id` to `eos_token_id`:2 for open-end generation.\n",
            " 71%|███████   | 84/119 [19:27<06:40, 11.44s/it]Setting `pad_token_id` to `eos_token_id`:2 for open-end generation.\n",
            " 71%|███████▏  | 85/119 [19:36<06:05, 10.75s/it]Setting `pad_token_id` to `eos_token_id`:2 for open-end generation.\n",
            " 72%|███████▏  | 86/119 [19:45<05:31, 10.06s/it]Setting `pad_token_id` to `eos_token_id`:2 for open-end generation.\n",
            " 73%|███████▎  | 87/119 [20:07<07:20, 13.75s/it]Setting `pad_token_id` to `eos_token_id`:2 for open-end generation.\n",
            " 74%|███████▍  | 88/119 [20:30<08:32, 16.53s/it]Setting `pad_token_id` to `eos_token_id`:2 for open-end generation.\n",
            " 75%|███████▍  | 89/119 [20:43<07:43, 15.46s/it]Setting `pad_token_id` to `eos_token_id`:2 for open-end generation.\n",
            " 76%|███████▌  | 90/119 [21:06<08:32, 17.67s/it]Setting `pad_token_id` to `eos_token_id`:2 for open-end generation.\n",
            " 76%|███████▋  | 91/119 [21:29<08:59, 19.27s/it]Setting `pad_token_id` to `eos_token_id`:2 for open-end generation.\n",
            " 77%|███████▋  | 92/119 [21:51<09:04, 20.18s/it]Setting `pad_token_id` to `eos_token_id`:2 for open-end generation.\n",
            " 78%|███████▊  | 93/119 [21:57<06:56, 16.02s/it]Setting `pad_token_id` to `eos_token_id`:2 for open-end generation.\n",
            " 79%|███████▉  | 94/119 [22:21<07:37, 18.30s/it]Setting `pad_token_id` to `eos_token_id`:2 for open-end generation.\n",
            " 80%|███████▉  | 95/119 [22:39<07:16, 18.21s/it]Setting `pad_token_id` to `eos_token_id`:2 for open-end generation.\n",
            " 81%|████████  | 96/119 [23:02<07:33, 19.71s/it]Setting `pad_token_id` to `eos_token_id`:2 for open-end generation.\n",
            " 82%|████████▏ | 97/119 [23:26<07:37, 20.80s/it]Setting `pad_token_id` to `eos_token_id`:2 for open-end generation.\n",
            " 82%|████████▏ | 98/119 [23:49<07:31, 21.49s/it]Setting `pad_token_id` to `eos_token_id`:2 for open-end generation.\n",
            " 83%|████████▎ | 99/119 [24:02<06:21, 19.06s/it]Setting `pad_token_id` to `eos_token_id`:2 for open-end generation.\n",
            " 84%|████████▍ | 100/119 [24:16<05:34, 17.58s/it]Setting `pad_token_id` to `eos_token_id`:2 for open-end generation.\n",
            " 85%|████████▍ | 101/119 [24:29<04:48, 16.01s/it]Setting `pad_token_id` to `eos_token_id`:2 for open-end generation.\n",
            " 86%|████████▌ | 102/119 [24:51<05:02, 17.79s/it]Setting `pad_token_id` to `eos_token_id`:2 for open-end generation.\n",
            " 87%|████████▋ | 103/119 [25:00<04:06, 15.39s/it]Setting `pad_token_id` to `eos_token_id`:2 for open-end generation.\n",
            " 87%|████████▋ | 104/119 [25:10<03:25, 13.73s/it]Setting `pad_token_id` to `eos_token_id`:2 for open-end generation.\n",
            " 88%|████████▊ | 105/119 [25:14<02:31, 10.79s/it]Setting `pad_token_id` to `eos_token_id`:2 for open-end generation.\n",
            " 89%|████████▉ | 106/119 [25:32<02:46, 12.82s/it]Setting `pad_token_id` to `eos_token_id`:2 for open-end generation.\n",
            " 90%|████████▉ | 107/119 [25:41<02:21, 11.78s/it]Setting `pad_token_id` to `eos_token_id`:2 for open-end generation.\n",
            " 91%|█████████ | 108/119 [25:52<02:07, 11.59s/it]Setting `pad_token_id` to `eos_token_id`:2 for open-end generation.\n",
            " 92%|█████████▏| 109/119 [26:04<01:58, 11.82s/it]Setting `pad_token_id` to `eos_token_id`:2 for open-end generation.\n",
            " 92%|█████████▏| 110/119 [26:28<02:16, 15.20s/it]Setting `pad_token_id` to `eos_token_id`:2 for open-end generation.\n",
            " 93%|█████████▎| 111/119 [26:34<01:41, 12.69s/it]Setting `pad_token_id` to `eos_token_id`:2 for open-end generation.\n",
            " 94%|█████████▍| 112/119 [26:45<01:25, 12.21s/it]Setting `pad_token_id` to `eos_token_id`:2 for open-end generation.\n",
            " 95%|█████████▍| 113/119 [26:56<01:10, 11.78s/it]Setting `pad_token_id` to `eos_token_id`:2 for open-end generation.\n",
            " 96%|█████████▌| 114/119 [27:08<00:58, 11.62s/it]Setting `pad_token_id` to `eos_token_id`:2 for open-end generation.\n",
            " 97%|█████████▋| 115/119 [27:16<00:42, 10.72s/it]Setting `pad_token_id` to `eos_token_id`:2 for open-end generation.\n",
            " 97%|█████████▋| 116/119 [27:37<00:40, 13.67s/it]Setting `pad_token_id` to `eos_token_id`:2 for open-end generation.\n",
            " 98%|█████████▊| 117/119 [27:42<00:22, 11.30s/it]Setting `pad_token_id` to `eos_token_id`:2 for open-end generation.\n",
            " 99%|█████████▉| 118/119 [27:59<00:12, 12.93s/it]Setting `pad_token_id` to `eos_token_id`:2 for open-end generation.\n",
            "100%|██████████| 119/119 [28:05<00:00, 14.17s/it]\n"
          ]
        }
      ]
    },
    {
      "cell_type": "code",
      "source": [],
      "metadata": {
        "id": "BRUZO3qcJTFt"
      },
      "execution_count": null,
      "outputs": []
    },
    {
      "cell_type": "code",
      "source": [
        "train_dataset.save_json(\"trained_synthetic_dataset.json\")"
      ],
      "metadata": {
        "id": "vG2cbp9Kcnrt"
      },
      "execution_count": null,
      "outputs": []
    },
    {
      "cell_type": "code",
      "source": [
        "train_synthetic_dataset = EmbeddingQAFinetuneDataset.from_json(\"/content/trained_synthetic_dataset.json\")"
      ],
      "metadata": {
        "id": "tgf6IQ85Wmih"
      },
      "execution_count": null,
      "outputs": []
    },
    {
      "cell_type": "code",
      "source": [
        "# generating evaluation synthetic data set\n",
        "eval_dataset = generate_qa_embedding_pairs(val_corpus, llm)"
      ],
      "metadata": {
        "colab": {
          "base_uri": "https://localhost:8080/"
        },
        "id": "jVU49GOfJX7-",
        "outputId": "459818d7-6a65-4576-f9df-97b6ae0c69ec"
      },
      "execution_count": 23,
      "outputs": [
        {
          "output_type": "stream",
          "name": "stderr",
          "text": [
            "\r  0%|          | 0/52 [00:00<?, ?it/s]/usr/local/lib/python3.10/dist-packages/transformers/generation/configuration_utils.py:540: UserWarning: `do_sample` is set to `False`. However, `temperature` is set to `0.7` -- this flag is only used in sample-based generation modes. You should set `do_sample=True` or unset `temperature`.\n",
            "  warnings.warn(\n",
            "/usr/local/lib/python3.10/dist-packages/transformers/generation/configuration_utils.py:545: UserWarning: `do_sample` is set to `False`. However, `top_p` is set to `0.95` -- this flag is only used in sample-based generation modes. You should set `do_sample=True` or unset `top_p`.\n",
            "  warnings.warn(\n",
            "Setting `pad_token_id` to `eos_token_id`:2 for open-end generation.\n",
            "  2%|▏         | 1/52 [00:29<25:29, 29.99s/it]Setting `pad_token_id` to `eos_token_id`:2 for open-end generation.\n"
          ]
        },
        {
          "output_type": "stream",
          "name": "stdout",
          "text": [
            "['What is the purpose of the Ordinance presented in the context information, and what actions does it propose to take?', 'Who are the sponsors of this Ordinance, and what is the proposed timeline for its implementation?']\n"
          ]
        },
        {
          "output_type": "stream",
          "name": "stderr",
          "text": [
            "\r  4%|▍         | 2/52 [00:43<16:42, 20.05s/it]Setting `pad_token_id` to `eos_token_id`:2 for open-end generation.\n"
          ]
        },
        {
          "output_type": "stream",
          "name": "stdout",
          "text": [
            "['What is the purpose of Ordinance No. 153-22, and what actions does it propose to take in relation to the County Transportation Authority and sales tax?', \"How does the proposed Ordinance amend the Business and Tax Regulations Code, and what is the duration and rate of the local transactions and use tax that it seeks to continue in effect? Additionally, what is the amount by which the Transportation Authority's appropriations limit would be increased, and for how long? Finally, what is the role of limited tax bonds in this proposal, and what is the basis for the Transportation Authority's determination under the California Environmental Quality Act?\"]\n"
          ]
        },
        {
          "output_type": "stream",
          "name": "stderr",
          "text": [
            "\r  6%|▌         | 3/52 [01:05<17:25, 21.35s/it]Setting `pad_token_id` to `eos_token_id`:2 for open-end generation.\n"
          ]
        },
        {
          "output_type": "stream",
          "name": "stdout",
          "text": [
            "['What is Proposition B, and how was it approved by the voters in California in 1989?', \"What is the New Transportation Expenditure Plan adopted as part of Proposition K in 2003, and how does it differ from Proposition B's Transportation Expenditure Plan?\"]\n"
          ]
        },
        {
          "output_type": "stream",
          "name": "stderr",
          "text": [
            "\r  8%|▊         | 4/52 [01:29<17:42, 22.13s/it]Setting `pad_token_id` to `eos_token_id`:2 for open-end generation.\n"
          ]
        },
        {
          "output_type": "stream",
          "name": "stdout",
          "text": [
            "['What is the purpose of amending Business and Tax Regulations Code Article 14 and Division 12.5 of the California Public Utilities Code?', 'a) To increase the tax rate from 0.5% to 1.0%']\n"
          ]
        },
        {
          "output_type": "stream",
          "name": "stderr",
          "text": [
            "\r 10%|▉         | 5/52 [01:52<17:37, 22.51s/it]Setting `pad_token_id` to `eos_token_id`:2 for open-end generation.\n"
          ]
        },
        {
          "output_type": "stream",
          "name": "stdout",
          "text": [
            "['What is the purpose of the Tax imposed by Article 14, and where will the proceeds be spent?', 'What is the definition of \"Authority\" and \"District\" in the context of Article 14? What is the significance of these terms in relation to the Tax?']\n"
          ]
        },
        {
          "output_type": "stream",
          "name": "stderr",
          "text": [
            "\r 12%|█▏        | 6/52 [02:15<17:22, 22.65s/it]Setting `pad_token_id` to `eos_token_id`:2 for open-end generation.\n"
          ]
        },
        {
          "output_type": "stream",
          "name": "stdout",
          "text": [
            "['What is the purpose of the ordinance being considered by the Board of Supervisors, as outlined in the context information?', 'What is the role of the Expenditure Plan Advisory Committee in relation to the proposed ordinance?']\n"
          ]
        },
        {
          "output_type": "stream",
          "name": "stderr",
          "text": [
            "\r 13%|█▎        | 7/52 [02:25<13:51, 18.48s/it]Setting `pad_token_id` to `eos_token_id`:2 for open-end generation.\n"
          ]
        },
        {
          "output_type": "stream",
          "name": "stdout",
          "text": [
            "['How does the proposed New Transportation Expenditure Plan aim to achieve its purposes, and what provisions are included to accomplish these goals?', 'What similarities and differences are there between the proposed transactions and use tax in San Francisco and the Sales and Use Tax Law of California? How will the tax be administered and collected by the State Board of EqualizationCalifornia Department of Tax and Fee Administration? What measures are in place to minimize the cost of collecting the tax and minimize the burden of recordkeeping for those subject to taxation?']\n"
          ]
        },
        {
          "output_type": "stream",
          "name": "stderr",
          "text": [
            "\r 15%|█▌        | 8/52 [02:32<11:00, 15.01s/it]Setting `pad_token_id` to `eos_token_id`:2 for open-end generation.\n"
          ]
        },
        {
          "output_type": "stream",
          "name": "stdout",
          "text": [
            "['What is the purpose of the tax proposed in this ordinance, and what projects will it fund? (refer to sections (g) and (h))', 'What is the role of the Authority in administering the tax and delivering transportation improvements, and what powers does it have? (refer to section SEC. 1404)']\n"
          ]
        },
        {
          "output_type": "stream",
          "name": "stderr",
          "text": [
            "\r 17%|█▋        | 9/52 [02:56<12:38, 17.64s/it]Setting `pad_token_id` to `eos_token_id`:2 for open-end generation.\n"
          ]
        },
        {
          "output_type": "stream",
          "name": "stdout",
          "text": [
            "['What is the operative date for the implementation of the Tax and the amendments passed in the November 8, 2022 election, as outlined in Section 1405?', 'What is the rate of the Transactions Tax, as specified in Section 1406?']\n"
          ]
        },
        {
          "output_type": "stream",
          "name": "stderr",
          "text": [
            "\r 19%|█▉        | 10/52 [03:02<09:56, 14.20s/it]Setting `pad_token_id` to `eos_token_id`:2 for open-end generation.\n"
          ]
        },
        {
          "output_type": "stream",
          "name": "stdout",
          "text": [
            "['What is the rate of the use tax imposed in this district, and when does it take effect? (SEC. 1408)', 'How will the place of consumption be determined for retail sales made by a retailer without a permanent place of business in California? (SEC. 1407)']\n"
          ]
        },
        {
          "output_type": "stream",
          "name": "stderr",
          "text": [
            "<ipython-input-22-e71f53699b51>:82: UserWarning: Fewer questions generated (1) than requested (2).\n",
            "  warnings.warn(\n",
            "\r 21%|██        | 11/52 [03:26<11:38, 17.04s/it]Setting `pad_token_id` to `eos_token_id`:2 for open-end generation.\n"
          ]
        },
        {
          "output_type": "stream",
          "name": "stdout",
          "text": [
            "['In implementing the provisions of Part 1 (commencing with Section 6001) of Division 2 of the California Revenue and Taxation Code, where should the name of the Authority be substituted instead of the State of California? (a) Whenever the State of California is named or referred to as the taxing agency, (b) When the result of that substitution would require action to be taken by or against the Authority or any agency, officer, or employee thereof rather than by or against the State Board of EqualizationCalifornia Department of Tax and Fee Administration, in performing the functions incident to the administration or operation of this ordinance Article 14, (c) The substitution shall not be made when the word \"State\" is used as part of the title of the State Controller, the State Treasurer, the State Board of Control, the State Board of Equalization, the State Treasury, or the Constitution of the State of California, or (d) The substitution shall not be made in those sections, including, but not necessarily limited to, sections referring to the exterior boundaries of the State of California, where the result of the substitution would be to: (i) provide an']\n"
          ]
        },
        {
          "output_type": "stream",
          "name": "stderr",
          "text": [
            "\r 23%|██▎       | 12/52 [03:38<10:20, 15.51s/it]Setting `pad_token_id` to `eos_token_id`:2 for open-end generation.\n"
          ]
        },
        {
          "output_type": "stream",
          "name": "stdout",
          "text": [
            "['Question 1:', 'Explain the significance of Subsection (b) in the context information provided. How does it impact retailers engaged in business in the District, and what are the criteria for a retailer to be considered engaged in business in the District?']\n"
          ]
        },
        {
          "output_type": "stream",
          "name": "stderr",
          "text": [
            "\r 25%|██▌       | 13/52 [04:01<11:35, 17.82s/it]Setting `pad_token_id` to `eos_token_id`:2 for open-end generation.\n"
          ]
        },
        {
          "output_type": "stream",
          "name": "stdout",
          "text": [
            "[\"Question 1: (2) Sales of property to be used outside the District which is shipped to a point outside the District, pursuant to the contract of sale, by delivery to such point by the retailer or the retailer's agent, or by delivery by the retailer to a carrier for shipment to a consignee at such point. For the purposes of this paragraph (b)(2), delivery to a point outside the District shall be satisfied:\", 'a) With respect to vehicles (other than commercial vehicles) subject to registration pursuant to Chapter 1 (commencing with Section 4000) of Division 3 of the California Vehicle Code, aircraft licensed in compliance with Section 21411 of the California Public Utilities Code, and undocumented vessels registered under Chapter 2 of Division 3.5 (commencing with Section 98509840) of the California Vehicle Code by registration to an out-of-District address and by a declaration under penalty of perjury, signed by the buyer, stating that such address is, in fact, his/her principal place of residence.']\n"
          ]
        },
        {
          "output_type": "stream",
          "name": "stderr",
          "text": [
            "\r 27%|██▋       | 14/52 [04:18<11:04, 17.49s/it]Setting `pad_token_id` to `eos_token_id`:2 for open-end generation.\n"
          ]
        },
        {
          "output_type": "stream",
          "name": "stdout",
          "text": [
            "['Question 1:', 'Explain the meaning of the term \"exempted\" as used in subsection (c) of the context information provided. How does this exemption differ from the exemptions provided in Sections 6366 and 6366.1 of the California Revenue and Taxation Code? Provide examples of the types of tangible personal property that are exempted under this subsection.']\n"
          ]
        },
        {
          "output_type": "stream",
          "name": "stderr",
          "text": [
            "\r 29%|██▉       | 15/52 [04:29<09:41, 15.72s/it]Setting `pad_token_id` to `eos_token_id`:2 for open-end generation.\n"
          ]
        },
        {
          "output_type": "stream",
          "name": "stdout",
          "text": [
            "['Question 1:', 'Explain the difference between transactions tax and use tax, and how they are related in the context of the provided text material. Additionally, provide an example of a situation where a person may be able to claim a credit against use tax based on transactions tax paid.']\n"
          ]
        },
        {
          "output_type": "stream",
          "name": "stderr",
          "text": [
            "\r 31%|███       | 16/52 [04:52<10:44, 17.90s/it]Setting `pad_token_id` to `eos_token_id`:2 for open-end generation.\n"
          ]
        },
        {
          "output_type": "stream",
          "name": "stdout",
          "text": [
            "['What is the total principal amount that can be borrowed through the tax imposed by Article 14? (a) $1,880,00,000 (b) $1,910,000,000 (c) $2,000,000,000 (d) $2,100,000,000', 'How should the proceeds from the tax imposed by Article 14 be used? (a) For the projects and purposes set forth in the New Transportation Expenditure Plan approved by voters in 2003 and its updates and revisions (b) For the projects and purposes set forth in the 2022 Transportation Expenditure Plan and any updates or revisions to such Plan, as well as for interest and principal on bonds and administration costs (c) For any purpose deemed necessary by the Board of Supervisors (d) For the projects and purposes set forth in the New Transportation Expenditure Plan approved by voters in 2003, as well as for interest and principal on bonds and administration costs.']\n"
          ]
        },
        {
          "output_type": "stream",
          "name": "stderr",
          "text": [
            "\r 33%|███▎      | 17/52 [05:16<11:23, 19.52s/it]Setting `pad_token_id` to `eos_token_id`:2 for open-end generation.\n"
          ]
        },
        {
          "output_type": "stream",
          "name": "stdout",
          "text": [
            "['What is the condition for allocation of funds by the Authority mentioned in the context information?', 'What is the appropriations limit for the Authority for fiscal year 2003-04 and each year thereafter, as stated in the context information?']\n"
          ]
        },
        {
          "output_type": "stream",
          "name": "stderr",
          "text": [
            "\r 35%|███▍      | 18/52 [05:27<09:42, 17.13s/it]Setting `pad_token_id` to `eos_token_id`:2 for open-end generation.\n"
          ]
        },
        {
          "output_type": "stream",
          "name": "stdout",
          "text": [
            "['What is the significance of Section 1418 in the context of this ordinance? How does it affect the validity of the provisions in Article 14 and Part 1.6 of Division 2 of the California Revenue and Taxation Code?', 'What is the purpose of Section 1419 in this ordinance? How does it prevent legal action against the State of California or the Authority in relation to the collection of taxes under this ordinance and Part 1.6 of Division 2 of the California Revenue and Taxation Code?']\n"
          ]
        },
        {
          "output_type": "stream",
          "name": "stderr",
          "text": [
            "\r 37%|███▋      | 19/52 [05:49<10:16, 18.69s/it]Setting `pad_token_id` to `eos_token_id`:2 for open-end generation.\n"
          ]
        },
        {
          "output_type": "stream",
          "name": "stdout",
          "text": [
            "['What is the purpose of the 2022 Transportation Expenditure Plan, and how long is it intended to be implemented over?', 'What major categories of transportation improvements are included in the 2022 Transportation Expenditure Plan, and what specific benefits do they aim to provide?']\n"
          ]
        },
        {
          "output_type": "stream",
          "name": "stderr",
          "text": [
            "\r 38%|███▊      | 20/52 [06:13<10:41, 20.04s/it]Setting `pad_token_id` to `eos_token_id`:2 for open-end generation.\n"
          ]
        },
        {
          "output_type": "stream",
          "name": "stdout",
          "text": [
            "['How was equity prioritized in the development of the 2022 Transportation Expenditure Plan?', 'What types of transportation investments will be prioritized for funding through the 2022 Sales Tax, as outlined in the transportation expenditure plan?']\n"
          ]
        },
        {
          "output_type": "stream",
          "name": "stderr",
          "text": [
            "\r 40%|████      | 21/52 [06:36<10:53, 21.07s/it]Setting `pad_token_id` to `eos_token_id`:2 for open-end generation.\n"
          ]
        },
        {
          "output_type": "stream",
          "name": "stdout",
          "text": [
            "[\"How does the SFTP 2050 align with regional trends and available funding to address changing needs in San Francisco's transportation system?\", \"What are the goals of ConnectSF and the SFTP 2050, and how do they contribute to the overall vision for San Francisco's transportation system as outlined in the SFTP 2050?\"]\n"
          ]
        },
        {
          "output_type": "stream",
          "name": "stderr",
          "text": [
            "\r 42%|████▏     | 22/52 [07:00<10:55, 21.86s/it]Setting `pad_token_id` to `eos_token_id`:2 for open-end generation.\n"
          ]
        },
        {
          "output_type": "stream",
          "name": "stdout",
          "text": [
            "['What is the purpose of the 2022 Transportation Expenditure Plan, and why is the adoption of a sales tax ordinance necessary for its implementation? (Section 1: Introduction)', 'What policies and administration guidelines are outlined in Section 2: General Provisions of the 2022 Transportation Expenditure Plan?']\n"
          ]
        },
        {
          "output_type": "stream",
          "name": "stderr",
          "text": [
            "\r 44%|████▍     | 23/52 [07:12<09:11, 19.01s/it]Setting `pad_token_id` to `eos_token_id`:2 for open-end generation.\n"
          ]
        },
        {
          "output_type": "stream",
          "name": "stdout",
          "text": [
            "['How does the 2022 Transportation Expenditure Plan differ from the Proposition K Expenditure Plan adopted in 2003? What is the duration of the 2022 Transportation Expenditure Plan and at what rate will the sales tax be imposed?', 'What are the two scenarios for revenue projections under the 2022 Transportation Expenditure Plan, and how do they differ in terms of average growth rate and inflation-based discount rate? Which scenario corresponds to Priority 1 funding levels, and what is the estimated total revenue level for this scenario?']\n"
          ]
        },
        {
          "output_type": "stream",
          "name": "stderr",
          "text": [
            "\r 46%|████▌     | 24/52 [07:20<07:17, 15.61s/it]Setting `pad_token_id` to `eos_token_id`:2 for open-end generation.\n"
          ]
        },
        {
          "output_type": "stream",
          "name": "stdout",
          "text": [
            "['What conditions must be met for 2022 Sales Tax funds to be spent outside the territorial limits of San Francisco, as outlined in the context information?', 'What is the definition of a \"quantifiable benefit\" in relation to the expenditure of 2022 Sales Tax funds outside of San Francisco, as described in the context information? How is this benefit measured?']\n"
          ]
        },
        {
          "output_type": "stream",
          "name": "stderr",
          "text": [
            "\r 48%|████▊     | 25/52 [07:43<08:05, 17.97s/it]Setting `pad_token_id` to `eos_token_id`:2 for open-end generation.\n"
          ]
        },
        {
          "output_type": "stream",
          "name": "stdout",
          "text": [
            "['What is the role of the San Francisco County Transportation Authority in administering the funds from the Proposition K sales tax and the new Proposition _ sales tax?', 'What is the maximum amount that can be used for administration costs from the annual net amount of revenues raised by the 2022 Sales Tax, as outlined in Public Utilities Code Section 131107?']\n"
          ]
        },
        {
          "output_type": "stream",
          "name": "stderr",
          "text": [
            "\r 50%|█████     | 26/52 [08:07<08:30, 19.63s/it]Setting `pad_token_id` to `eos_token_id`:2 for open-end generation.\n"
          ]
        },
        {
          "output_type": "stream",
          "name": "stdout",
          "text": [
            "['What is the National Environmental Policy Act (NEPA) and how does it relate to the approval and implementation of projects funded by the 2022 Sales Tax?', 'What is the California Environmental Quality Act (CEQA) and how does it apply to projects funded by the 2022 Sales Tax?']\n"
          ]
        },
        {
          "output_type": "stream",
          "name": "stderr",
          "text": [
            "\r 52%|█████▏    | 27/52 [08:20<07:21, 17.66s/it]Setting `pad_token_id` to `eos_token_id`:2 for open-end generation.\n"
          ]
        },
        {
          "output_type": "stream",
          "name": "stdout",
          "text": [
            "['Analyze the Transportation Expenditure Plan presented in Table 1 and calculate the percentage of funding allocated to major transit projects under Proposition 2. What are the specific projects included in this category and how much funding is allocated to each?', 'Compare and contrast the funding allocated to transit maintenance and enhancements in Section B of the Transportation Expenditure Plan. Which mode of transportation receives the most funding for maintenance and why? How much funding is allocated to each specific mode of transportation, and what specific projects are included in this category? Additionally, what is the total amount allocated to transit enhancements, and which specific projects fall under this category?']\n"
          ]
        },
        {
          "output_type": "stream",
          "name": "stderr",
          "text": [
            "\r 54%|█████▍    | 28/52 [08:31<06:17, 15.73s/it]Setting `pad_token_id` to `eos_token_id`:2 for open-end generation.\n"
          ]
        },
        {
          "output_type": "stream",
          "name": "stdout",
          "text": [
            "['How does the 2022 Transportation Expenditure Plan allocate funds across different transportation initiatives, and what specific projects fall under each category? (Refer to Table 1: 2022 Transportation Expenditure Plan)', 'What are the Safe and Complete Streets initiative and its components, as mentioned in the context information? How does this initiative differ from the Pedestrian and Bicycle Facilities maintenance category? Provide examples of projects that fall under each category. (Refer to sections 1 and 2)']\n"
          ]
        },
        {
          "output_type": "stream",
          "name": "stderr",
          "text": [
            "\r 56%|█████▌    | 29/52 [08:49<06:19, 16.50s/it]Setting `pad_token_id` to `eos_token_id`:2 for open-end generation.\n"
          ]
        },
        {
          "output_type": "stream",
          "name": "stdout",
          "text": [
            "['How does the Equity Priority Transportation Program prioritize funding for transportation projects?', 'a. What is the Equity Priority Transportation Program and how does it prioritize funding for transportation projects?']\n"
          ]
        },
        {
          "output_type": "stream",
          "name": "stderr",
          "text": [
            "\r 58%|█████▊    | 30/52 [09:06<06:04, 16.56s/it]Setting `pad_token_id` to `eos_token_id`:2 for open-end generation.\n"
          ]
        },
        {
          "output_type": "stream",
          "name": "stdout",
          "text": [
            "['What types of projects are eligible for funding under the \"Muni Reliability and Efficiency Improvements\" program in the 2022 Transportation Expenditure Plan? Who is the sponsoring agency for this program?', 'What is the purpose of the \"Muni Rail Core Capacity\" program in the 2022 Transportation Expenditure Plan, and what types of improvements does it support for Muni\\'s rail system? Who is the sponsoring agency for this program?']\n"
          ]
        },
        {
          "output_type": "stream",
          "name": "stderr",
          "text": [
            "\r 60%|█████▉    | 31/52 [09:17<05:15, 15.00s/it]Setting `pad_token_id` to `eos_token_id`:2 for open-end generation.\n"
          ]
        },
        {
          "output_type": "stream",
          "name": "stdout",
          "text": [
            "['What are the priority projects for improving public transportation in San Francisco, as outlined in the context information? Which project has the highest priority, and what are the key engineering improvements and funding sources involved?', 'What is the BART Core Capacity project, and how will it increase the capacity of BART through the Transbay Tube? What types of project expenses are covered by the funding, and what is the total funding amount and expected environmental impact statement (EP) cost? Additionally, what is the prerequisite for allocating funds to this project, and which counties are involved?']\n"
          ]
        },
        {
          "output_type": "stream",
          "name": "stderr",
          "text": [
            "\r 62%|██████▏   | 32/52 [09:26<04:24, 13.20s/it]Setting `pad_token_id` to `eos_token_id`:2 for open-end generation.\n"
          ]
        },
        {
          "output_type": "stream",
          "name": "stdout",
          "text": [
            "['What types of projects are eligible for funding under the Transit Maintenance and Enhancements category? Provide specific examples of project types that fall under this category.', 'What is the Caltrain Downtown Rail Extension, and what are its key features? How will this project accommodate blended service with future California High-Speed Rail? What is the total funding for this project, and who are the sponsor agencies?']\n"
          ]
        },
        {
          "output_type": "stream",
          "name": "stderr",
          "text": [
            "\r 63%|██████▎   | 33/52 [09:50<05:09, 16.30s/it]Setting `pad_token_id` to `eos_token_id`:2 for open-end generation.\n"
          ]
        },
        {
          "output_type": "stream",
          "name": "stdout",
          "text": [
            "['What types of facilities, equipment, and systems are eligible for funding under the Rehabilitation, Upgrades, and Replacement Program for Muni and BART?', 'What specific improvements are being made to Muni and BART facilities, equipment, and systems under this program, and how will they address issues related to electrification, climate change, and transit priority and reliability?']\n"
          ]
        },
        {
          "output_type": "stream",
          "name": "stderr",
          "text": [
            "\r 65%|██████▌   | 34/52 [10:14<05:35, 18.62s/it]Setting `pad_token_id` to `eos_token_id`:2 for open-end generation.\n"
          ]
        },
        {
          "output_type": "stream",
          "name": "stdout",
          "text": [
            "['What is the total funding and local match contribution for the Caltrain capital program, and who is responsible for providing the local match until 2022 Sales Tax funds run out?', 'What types of improvements are eligible for funding under the Transit Enhancements program, and which agencies are responsible for sponsoring these projects?']\n"
          ]
        },
        {
          "output_type": "stream",
          "name": "stderr",
          "text": [
            "\r 67%|██████▋   | 35/52 [10:22<04:21, 15.38s/it]Setting `pad_token_id` to `eos_token_id`:2 for open-end generation.\n"
          ]
        },
        {
          "output_type": "stream",
          "name": "stdout",
          "text": [
            "['What are the sponsor agencies involved in funding the Bayview Caltrain Station project, and how much funding is allocated for this project?', 'What is the Next Generation Transit Investments program, and which major transit capital projects are eligible for funding through this program? How much funding is allocated for this program, and how is it divided between Priority 1 and Priority 2 projects?']\n"
          ]
        },
        {
          "output_type": "stream",
          "name": "stderr",
          "text": [
            "\r 69%|██████▉   | 36/52 [10:45<04:45, 17.83s/it]Setting `pad_token_id` to `eos_token_id`:2 for open-end generation.\n"
          ]
        },
        {
          "output_type": "stream",
          "name": "stdout",
          "text": [
            "['What is the total funding allocated for the maintenance, rehabilitation, and replacement of city streets, including sidewalks and curb ramps, as well as equipment replacement for street repair and cleaning? How much of this funding is considered priority 1 and priority 2, and what is the estimated EP for this project? (Refer to section \"Street Resurfacing, Rehabilitation, and Maintenance\")', 'What types of pedestrian and bicycle facilities are included in the maintenance project, and which agencies are responsible for this project\\'s project development and capital costs? How much funding is allocated for this project, and what is the estimated EP? (Refer to section \"Pedestrian and Bicycle Facilities Maintenance\")']\n"
          ]
        },
        {
          "output_type": "stream",
          "name": "stderr",
          "text": [
            "\r 71%|███████   | 37/52 [10:54<03:44, 14.98s/it]Setting `pad_token_id` to `eos_token_id`:2 for open-end generation.\n"
          ]
        },
        {
          "output_type": "stream",
          "name": "stdout",
          "text": [
            "['How does the Safe and Complete Streets program aim to improve transportation safety in the city, and what types of projects are eligible for funding?', 'What are the objectives of the Multi-modal street improvements program, and which agencies are responsible for its implementation and funding? Additionally, what types of projects fall under this program, and how are they prioritized for funding?']\n"
          ]
        },
        {
          "output_type": "stream",
          "name": "stderr",
          "text": [
            "\r 73%|███████▎  | 38/52 [11:04<03:08, 13.45s/it]Setting `pad_token_id` to `eos_token_id`:2 for open-end generation.\n"
          ]
        },
        {
          "output_type": "stream",
          "name": "stdout",
          "text": [
            "['What are the two freeway safety and operational improvement projects listed in the context information, and what are their eligible project types and sponsor agencies?', \"What is the Vision Zero Ramps program, and which city streets and intersections will benefit from programmatic improvements to support the City's policy to eliminate traffic deaths? What types of pedestrian safety measures are eligible for funding through this program, and which sponsor agencies are responsible for planning, project development, and capital costs?\"]\n"
          ]
        },
        {
          "output_type": "stream",
          "name": "stderr",
          "text": [
            "\r 75%|███████▌  | 39/52 [11:12<02:34, 11.87s/it]Setting `pad_token_id` to `eos_token_id`:2 for open-end generation.\n"
          ]
        },
        {
          "output_type": "stream",
          "name": "stdout",
          "text": [
            "['What types of projects are eligible for funding under the Improvements to the Regional Transportation System category? Provide specific examples of project types that fall under this category.', 'What is Transportation Demand Management (TDM), and how can it be implemented to shift trips to sustainable modes of transportation? What types of projects are eligible for TDM funding, and what are some examples of successful TDM initiatives in San Francisco?']\n"
          ]
        },
        {
          "output_type": "stream",
          "name": "stderr",
          "text": [
            "\r 77%|███████▋  | 40/52 [11:35<03:03, 15.30s/it]Setting `pad_token_id` to `eos_token_id`:2 for open-end generation.\n"
          ]
        },
        {
          "output_type": "stream",
          "name": "stdout",
          "text": [
            "['What is the Neighborhood Transportation Program (NTP) and how does it differ from the Equity Priority Transportation Program (EPTP)? What types of projects are eligible for funding through each program?', 'How much funding is allocated to the Neighborhood Transportation Program (NTP) and the Equity Priority Transportation Program (EPTP) in the 2022 Transportation Expenditure Plan? Which priority level does the majority of funding go to for each program?']\n"
          ]
        },
        {
          "output_type": "stream",
          "name": "stderr",
          "text": [
            "\r 79%|███████▉  | 41/52 [11:47<02:35, 14.14s/it]Setting `pad_token_id` to `eos_token_id`:2 for open-end generation.\n"
          ]
        },
        {
          "output_type": "stream",
          "name": "stdout",
          "text": [
            "['What is the Development-Oriented Transportation Program, and how does it support increased housing density in low-density neighborhoods? Which sponsor agencies are involved in funding this program, and what types of projects are prioritized?', 'What is the Bayshore Caltrain Pedestrian Connection project, and what phases of planning, development, and capital costs are included in the funding? Which sponsor agencies are involved in this project, and what is the total funding amount, including EP? Which priority level is allocated to this project, and why?']\n"
          ]
        },
        {
          "output_type": "stream",
          "name": "stderr",
          "text": [
            "\r 81%|████████  | 42/52 [11:58<02:13, 13.33s/it]Setting `pad_token_id` to `eos_token_id`:2 for open-end generation.\n"
          ]
        },
        {
          "output_type": "stream",
          "name": "stdout",
          "text": [
            "['How does the Strategic Plan contribute to the prioritization process for transportation projects in San Francisco? What factors should be considered when preparing a 5YPP for allocation of 2022 Sales Tax revenues?', \"What is the role of the Transportation Authority in the prioritization process for transportation projects in San Francisco? How does the Transportation Authority ensure that proposed projects are consistent with the SFTP and the City's General Plan? What agencies are responsible for preparing the 5YPPs, and what factors should they consider when doing so?\"]\n"
          ]
        },
        {
          "output_type": "stream",
          "name": "stderr",
          "text": [
            "\r 83%|████████▎ | 43/52 [12:14<02:07, 14.18s/it]Setting `pad_token_id` to `eos_token_id`:2 for open-end generation.\n"
          ]
        },
        {
          "output_type": "stream",
          "name": "stdout",
          "text": [
            "['How does the Transportation Authority prioritize projects for funding through the 5YPP program? (d) and (e) from the context information provide specific criteria for prioritization. Based on this information, create a question that asks students to explain how community support and benefits to disadvantaged populations are factored into project selection.', 'What role does public outreach and engagement play in the development of 5YPPs and referrals to City Departments or Commissions? (e) from the context information highlights the importance of an inclusive planning process. Create a question that asks students to describe the public outreach and engagement requirements for 5YPP development and referrals. Additionally, students should be able to explain how this process ensures that the needs and perspectives of disadvantaged populations are taken into account.']\n"
          ]
        },
        {
          "output_type": "stream",
          "name": "stderr",
          "text": [
            "\r 85%|████████▍ | 44/52 [12:32<02:02, 15.32s/it]Setting `pad_token_id` to `eos_token_id`:2 for open-end generation.\n"
          ]
        },
        {
          "output_type": "stream",
          "name": "stdout",
          "text": [
            "['What is the role of designated agencies in the development of the 5YPP, and how can sponsoring agencies explore alternative methods for project delivery?', 'What guidelines will the Transportation Authority Board adopt for project delivery oversight of major capital projects funded by the 2022 Sales Tax, and how will these guidelines consider the total cost and complexity of a project? Additionally, what objectives will these guidelines aim to achieve, and how will the status of these projects be communicated to the Transportation Authority Board?']\n"
          ]
        },
        {
          "output_type": "stream",
          "name": "stderr",
          "text": [
            "\r 87%|████████▋ | 45/52 [12:48<01:47, 15.39s/it]Setting `pad_token_id` to `eos_token_id`:2 for open-end generation.\n"
          ]
        },
        {
          "output_type": "stream",
          "name": "stdout",
          "text": [
            "['What is the role of the Transportation Authority Board in distributing remaining funds from completed programs or legacy projects in the 2022 Transportation Expenditure Plan? How does this process differ from funding new programs in compliance with prioritization provisions? (2 points)', 'What abbreviations are used in the 2022 Transportation Expenditure Plan, and which organizations or departments do they represent? (1 point each for identifying 5 abbreviations)']\n"
          ]
        },
        {
          "output_type": "stream",
          "name": "stderr",
          "text": [
            "\r 88%|████████▊ | 46/52 [13:10<01:44, 17.48s/it]Setting `pad_token_id` to `eos_token_id`:2 for open-end generation.\n"
          ]
        },
        {
          "output_type": "stream",
          "name": "stdout",
          "text": [
            "['How will the creation of the Department of Sanitation and Streets impact specific duties currently performed by San Francisco Public Works, as outlined in Board of Supervisors Motion 21-181?', 'In what ways does the Expenditure Plan Advisory Committee contribute to the allocation of resources in San Francisco, and which specific committees fall under the categories of Advocacy: Environment, Advocacy: Seniors and People with Disabilities, and Neighborhoods/Communities?']\n"
          ]
        },
        {
          "output_type": "stream",
          "name": "stderr",
          "text": [
            "\r 90%|█████████ | 47/52 [13:18<01:12, 14.57s/it]Setting `pad_token_id` to `eos_token_id`:2 for open-end generation.\n"
          ]
        },
        {
          "output_type": "stream",
          "name": "stdout",
          "text": [
            "[\"In relation to the Board of Supervisors' ordinance, what is the scope of the amendments being made to Article 14 of the Business and Tax Regulations Code?\", 'Which individuals and organizations are listed as advocacy groups, equity priority communities, and business/civic entities in the context information provided? What are their specific areas of focus or priorities?']\n"
          ]
        },
        {
          "output_type": "stream",
          "name": "stderr",
          "text": [
            "\r 92%|█████████▏| 48/52 [13:29<00:54, 13.60s/it]Setting `pad_token_id` to `eos_token_id`:2 for open-end generation.\n"
          ]
        },
        {
          "output_type": "stream",
          "name": "stdout",
          "text": [
            "['What is the significance of Section 5 in the context of this ordinance? How does it impact the validity of the remaining portions of the ordinance if a section is declared invalid or unconstitutional?', 'What is the effective and operative date of the 2022 Transportation Expenditure Plan and the amendments to Article 14 of the Business and Tax Regulations Code, as outlined in Section 6 of the ordinance? How will the City Attorney replace references to the operative date in Article 14 after the election?']\n"
          ]
        },
        {
          "output_type": "stream",
          "name": "stderr",
          "text": [
            "\r 94%|█████████▍| 49/52 [13:53<00:49, 16.54s/it]Setting `pad_token_id` to `eos_token_id`:2 for open-end generation.\n"
          ]
        },
        {
          "output_type": "stream",
          "name": "stdout",
          "text": [
            "['What is the purpose of calling a special election in San Francisco on November 8, 2022, as outlined in the context information?', 'What specific proposals will be presented to voters in the special election, as detailed in the context information?']\n"
          ]
        },
        {
          "output_type": "stream",
          "name": "stderr",
          "text": [
            "\r 96%|█████████▌| 50/52 [14:07<00:31, 15.98s/it]Setting `pad_token_id` to `eos_token_id`:2 for open-end generation.\n"
          ]
        },
        {
          "output_type": "stream",
          "name": "stdout",
          "text": [
            "[\"What is the purpose of the Board of Supervisors' decision to adopt, establish, and designate voting precincts, polling places, and officers of election for the Special Election called?\", 'What is the role of the Department of Elections in relation to the Special Election called by the Board of Supervisors, as directed by California Public Utilities Code Section 131108, subdivision (h)?']\n"
          ]
        },
        {
          "output_type": "stream",
          "name": "stderr",
          "text": [
            "\r 98%|█████████▊| 51/52 [14:17<00:14, 14.13s/it]Setting `pad_token_id` to `eos_token_id`:2 for open-end generation.\n"
          ]
        },
        {
          "output_type": "stream",
          "name": "stdout",
          "text": [
            "['Based on the context information provided, what is the role of the Supervisors Mandelman, Walton, Peskin, Ronen, Melgar, Stefani, Preston, Mar, and Safai in this situation?', 'What is the significance of California Public Utilities Code Section 131055 mentioned in the context information? What action is being directed by the Board of Supervisors in relation to this section?']\n"
          ]
        },
        {
          "output_type": "stream",
          "name": "stderr",
          "text": [
            "100%|██████████| 52/52 [14:25<00:00, 16.64s/it]"
          ]
        },
        {
          "output_type": "stream",
          "name": "stdout",
          "text": [
            "['What is the purpose of the Ordinance passed by the Board of Supervisors on July 19, 2022, and what does it entail?', 'What is the California Environmental Quality Act, and why is it mentioned in the context information provided? Does the Ordinance mentioned in the context information require any environmental assessments or approvals? If so, what are they?']\n"
          ]
        },
        {
          "output_type": "stream",
          "name": "stderr",
          "text": [
            "\n"
          ]
        }
      ]
    },
    {
      "cell_type": "code",
      "source": [
        "eval_dataset.save_json(\"eval_synthetic_qa_dataset.json\")"
      ],
      "metadata": {
        "id": "hTqn92xEJ3_D"
      },
      "execution_count": 24,
      "outputs": []
    },
    {
      "cell_type": "markdown",
      "source": [
        "## Generating Anchor and positive pair"
      ],
      "metadata": {
        "id": "t2FwvMvPzGtk"
      }
    },
    {
      "cell_type": "code",
      "source": [
        "class EmbeddingAnchorPositiveDataset(BaseModel):\n",
        "    \"\"\"Embedding Anchor-Positive Dataset.\n",
        "\n",
        "    Args:\n",
        "        anchors (Dict[str, str]): Dict id -> anchor text.\n",
        "        positives (Dict[str, str]): Dict id -> positive text.\n",
        "        similarities (Dict[str, float]): Dict id -> similarity score.\n",
        "        corpus (Dict[str, str]): Dict id -> string.\n",
        "    \"\"\"\n",
        "\n",
        "    anchors: Dict[str, str]  # dict id -> anchor text\n",
        "    positives: Dict[str, str]  # dict id -> positive text\n",
        "    similarities: Dict[str, float]  # dict id -> similarity score\n",
        "    corpus: Dict[str, str]  # dict id -> string\n",
        "    mode: str = \"text\"\n",
        "\n",
        "    @property\n",
        "    def anchor_positive_pairs(self) -> List[Tuple[str, str, float]]:\n",
        "        \"\"\"Get anchor, positive pairs, and their similarity scores.\"\"\"\n",
        "        return [\n",
        "            (self.anchors[anchor_id], self.positives[anchor_id], self.similarities[anchor_id])\n",
        "            for anchor_id in self.anchors.keys()\n",
        "        ]\n",
        "\n",
        "    def save_json(self, path: str) -> None:\n",
        "        \"\"\"Save json.\"\"\"\n",
        "        with open(path, \"w\") as f:\n",
        "            json.dump(self.dict(), f, indent=4)\n",
        "\n",
        "    @classmethod\n",
        "    def from_json(cls, path: str) -> \"EmbeddingAnchorPositiveDataset\":\n",
        "        \"\"\"Load json.\"\"\"\n",
        "        with open(path) as f:\n",
        "            data = json.load(f)\n",
        "        return cls(**data)\n"
      ],
      "metadata": {
        "id": "3mOAdj973XVJ"
      },
      "execution_count": 30,
      "outputs": []
    },
    {
      "cell_type": "code",
      "source": [
        "DEFAULT_ANCHOR_POSITIVE_PROMPT_TMPL = \"\"\"\\\n",
        "Context information is below.\n",
        "\n",
        "---------------------\n",
        "{context_str}\n",
        "---------------------\n",
        "\n",
        "Given the context information and no prior knowledge,\n",
        "generate anchor and positive pairs based on the below query.\n",
        "\n",
        "You are an NLP specialist. Your task is to identify \\\n",
        "{num_pairs_per_chunk} anchor-positive pairs for semantic similarity. \\\n",
        "For each pair, also provide a similarity score as a float point value. \\\n",
        "The similarity score should be between 0 and 1 (just provide the similarity score and not its description), indicating how similar \\\n",
        "the anchor is to the positive example. Restrict the pairs to the \\\n",
        "context information provided.\n",
        "\n",
        "The Format of your answer should be:\n",
        "Anchor | Positive | Similarity-Score(only integer)\n",
        "------------------------------\n",
        "\"\"\"\n",
        "\n",
        "def generate_anchor_positive_pairs(\n",
        "    node_dict,\n",
        "    llm: LLM,\n",
        "    prompt_tmpl: str = DEFAULT_ANCHOR_POSITIVE_PROMPT_TMPL,\n",
        "    num_pairs_per_chunk: int = 1,\n",
        ") -> EmbeddingAnchorPositiveDataset:\n",
        "    \"\"\"Generate anchor-positive pairs given a set of nodes.\"\"\"\n",
        "\n",
        "    anchors = {}\n",
        "    positives = {}\n",
        "    similarities = {}\n",
        "\n",
        "    for node_id, text in tqdm(node_dict.items()):\n",
        "        print(node_id)\n",
        "        print(text)\n",
        "        query = prompt_tmpl.format(\n",
        "            context_str=text, num_pairs_per_chunk=num_pairs_per_chunk\n",
        "        )\n",
        "        response = llm.complete(query)\n",
        "\n",
        "        print(\"response:  ->\", response)\n",
        "        result = str(response).strip().split(\"\\n\")\n",
        "        print(\"results:  ->\", result)\n",
        "        pairs = [\n",
        "            line.split(\" | \") for line in result if \"|\" in line\n",
        "        ]\n",
        "        pairs = [\n",
        "            (anchor.strip(), positive.strip(), float(similarity.strip()))\n",
        "            for anchor, positive, similarity in pairs\n",
        "        ]\n",
        "\n",
        "        num_pairs_generated = len(pairs)\n",
        "        if num_pairs_generated < num_pairs_per_chunk:\n",
        "            warnings.warn(\n",
        "                f\"Fewer pairs generated ({num_pairs_generated}) \"\n",
        "                f\"than requested ({num_pairs_per_chunk}).\"\n",
        "            )\n",
        "\n",
        "        for anchor, positive, similarity in pairs:\n",
        "            pair_id = str(uuid.uuid4())\n",
        "            anchors[pair_id] = anchor\n",
        "            positives[pair_id] = positive\n",
        "            similarities[pair_id] = similarity\n",
        "\n",
        "        print(pairs)\n",
        "\n",
        "    # construct dataset\n",
        "    return EmbeddingAnchorPositiveDataset(\n",
        "        anchors=anchors, positives=positives, similarities=similarities, corpus=node_dict\n",
        "    )\n",
        "\n"
      ],
      "metadata": {
        "id": "-yAVEI09Izzo"
      },
      "execution_count": 40,
      "outputs": []
    },
    {
      "cell_type": "code",
      "source": [
        "# Example usage\n",
        "train_corpus = {\n",
        "    \"1\": \"the quick brown fox jumps over the lazy dog.\",\n",
        "    \"2\": \"The Way It Is Now\\nCHANGES TO BUSINESS TAXES\\nThe City collects various business taxes on an annual basis including:\\nO\\n\\u2022\\nSAN FRANCISCO\\nFILED\\n2024 MAY 15 PM 3:10\\nDEPARTMENT OF ELECTIONS\\nA gross receipts tax that is a percentage of a business's San Francisco gross receipts.\\nDepending on business type, the City determines a business's San Francisco gross\\nreceipts based on sales in San Francisco, payroll expenses for employees working there,\\nor both. Rates range from 0.053% to 1.008% and are scheduled to increase in coming\\nyears. Rates depend on business type, and higher rates apply as a business generates\\nmore gross receipts. For 2023, most businesses with gross receipts up to $2.19 million\\nare exempt.\\nA homelessness gross receipts tax that is an additional tax on businesses with San\\nFrancisco gross receipts over $50 million. Rates range from 0.175% to 0.69%.\\nAn overpaid executive gross receipts tax that is an additional tax on businesses that pay\\ntheir highest-paid managerial employee much higher than the median compensation they\\npay their San Francisco employees. Rates are between 0.1% and 0.6%.\\nA business registration fee that is an additional tax. For most businesses the fee is\\ncurrently between $47 and $45,150, based on business type and amount of gross receipts.\\n\\u2022 An administrative office tax on payroll expenses that certain large businesses pay instead\\nof these other business taxes. The combined rates in 2024 range from 3.04% to 5.44%,\\nand in 2025 are scheduled to range from 3.11% to 5.51%. Business registration fees for\\nthese businesses currently range from $19,682 to $45,928.\\nState law limits the total revenue, including tax revenue, the City may spend each year. The\\nvoters may approve increases to this limit for up to four years.\",\n",
        "    \"3\": \"Punjab, known as the 'Land of Five Rivers,' is a vibrant Indian state renowned for its rich cultural heritage, delectable cuisine, colorful festivals, and warm hospitality\"\n",
        "}\n"
      ],
      "metadata": {
        "id": "_0T03UgeJ3W1"
      },
      "execution_count": 38,
      "outputs": []
    },
    {
      "cell_type": "code",
      "source": [
        "\n",
        "\n",
        "train_dataset = generate_anchor_positive_pairs(train_corpus, llm)\n",
        "\n",
        "# Save the dataset to a JSON file\n",
        "train_dataset.save_json(\"train_dataset.json\")\n",
        "\n",
        "# Load the dataset from a JSON file\n",
        "loaded_dataset = EmbeddingAnchorPositiveDataset.from_json(\"train_dataset.json\")\n"
      ],
      "metadata": {
        "colab": {
          "base_uri": "https://localhost:8080/"
        },
        "id": "NlO6x_ENI634",
        "outputId": "35af0fdb-9c19-49c6-9db5-61c915e0f0e5"
      },
      "execution_count": 41,
      "outputs": [
        {
          "output_type": "stream",
          "name": "stderr",
          "text": [
            "\r  0%|          | 0/3 [00:00<?, ?it/s]Setting `pad_token_id` to `eos_token_id`:2 for open-end generation.\n"
          ]
        },
        {
          "output_type": "stream",
          "name": "stdout",
          "text": [
            "1\n",
            "the quick brown fox jumps over the lazy dog.\n"
          ]
        },
        {
          "output_type": "stream",
          "name": "stderr",
          "text": [
            "\r 33%|███▎      | 1/3 [00:08<00:16,  8.50s/it]Setting `pad_token_id` to `eos_token_id`:2 for open-end generation.\n"
          ]
        },
        {
          "output_type": "stream",
          "name": "stdout",
          "text": [
            "response:  -> Anchor: \"the quick brown fox\"\n",
            "Positive: \"a fast brown rabbit\"\n",
            "Similarity-Score: 0.8 (integer representation)\n",
            "\n",
            "The similarity score is based on the fact that both the anchor and positive contain the words \"quick\", \"brown\", and \"fast\". The anchor and positive also share the common theme of animals that are quick in color. The score is high, indicating a strong semantic similarity between the two.\n",
            "results:  -> ['Anchor: \"the quick brown fox\"', 'Positive: \"a fast brown rabbit\"', 'Similarity-Score: 0.8 (integer representation)', '', 'The similarity score is based on the fact that both the anchor and positive contain the words \"quick\", \"brown\", and \"fast\". The anchor and positive also share the common theme of animals that are quick in color. The score is high, indicating a strong semantic similarity between the two.']\n",
            "[]\n",
            "2\n",
            "The Way It Is Now\n",
            "CHANGES TO BUSINESS TAXES\n",
            "The City collects various business taxes on an annual basis including:\n",
            "O\n",
            "•\n",
            "SAN FRANCISCO\n",
            "FILED\n",
            "2024 MAY 15 PM 3:10\n",
            "DEPARTMENT OF ELECTIONS\n",
            "A gross receipts tax that is a percentage of a business's San Francisco gross receipts.\n",
            "Depending on business type, the City determines a business's San Francisco gross\n",
            "receipts based on sales in San Francisco, payroll expenses for employees working there,\n",
            "or both. Rates range from 0.053% to 1.008% and are scheduled to increase in coming\n",
            "years. Rates depend on business type, and higher rates apply as a business generates\n",
            "more gross receipts. For 2023, most businesses with gross receipts up to $2.19 million\n",
            "are exempt.\n",
            "A homelessness gross receipts tax that is an additional tax on businesses with San\n",
            "Francisco gross receipts over $50 million. Rates range from 0.175% to 0.69%.\n",
            "An overpaid executive gross receipts tax that is an additional tax on businesses that pay\n",
            "their highest-paid managerial employee much higher than the median compensation they\n",
            "pay their San Francisco employees. Rates are between 0.1% and 0.6%.\n",
            "A business registration fee that is an additional tax. For most businesses the fee is\n",
            "currently between $47 and $45,150, based on business type and amount of gross receipts.\n",
            "• An administrative office tax on payroll expenses that certain large businesses pay instead\n",
            "of these other business taxes. The combined rates in 2024 range from 3.04% to 5.44%,\n",
            "and in 2025 are scheduled to range from 3.11% to 5.51%. Business registration fees for\n",
            "these businesses currently range from $19,682 to $45,928.\n",
            "State law limits the total revenue, including tax revenue, the City may spend each year. The\n",
            "voters may approve increases to this limit for up to four years.\n"
          ]
        },
        {
          "output_type": "stream",
          "name": "stderr",
          "text": [
            "\r 67%|██████▋   | 2/3 [00:19<00:10, 10.26s/it]Setting `pad_token_id` to `eos_token_id`:2 for open-end generation.\n"
          ]
        },
        {
          "output_type": "stream",
          "name": "stdout",
          "text": [
            "response:  -> Anchor: \"Most businesses with gross receipts up to $2.19 million are exempt from the gross receipts tax in 2023.\"\n",
            "\n",
            "Positive: \"Many small businesses with annual gross receipts below a certain threshold are exempt from paying the gross receipts tax.\"\n",
            "\n",
            "Similarity-Score: 0.95 (integer value)\n",
            "\n",
            "The similarity score indicates that the anchor and positive are highly similar in terms of semantic meaning. Both statements refer to exemptions for small businesses with low gross receipts from paying a tax.\n",
            "results:  -> ['Anchor: \"Most businesses with gross receipts up to $2.19 million are exempt from the gross receipts tax in 2023.\"', '', 'Positive: \"Many small businesses with annual gross receipts below a certain threshold are exempt from paying the gross receipts tax.\"', '', 'Similarity-Score: 0.95 (integer value)', '', 'The similarity score indicates that the anchor and positive are highly similar in terms of semantic meaning. Both statements refer to exemptions for small businesses with low gross receipts from paying a tax.']\n",
            "[]\n",
            "3\n",
            "Punjab, known as the 'Land of Five Rivers,' is a vibrant Indian state renowned for its rich cultural heritage, delectable cuisine, colorful festivals, and warm hospitality\n"
          ]
        },
        {
          "output_type": "stream",
          "name": "stderr",
          "text": [
            "100%|██████████| 3/3 [00:28<00:00,  9.66s/it]"
          ]
        },
        {
          "output_type": "stream",
          "name": "stdout",
          "text": [
            "response:  -> Anchor: \"Punjab's rich cultural heritage\"\n",
            "Positive: \"India's vibrant cultural heritage\"\n",
            "Similarity-Score: 0.9\n",
            "\n",
            "This pair has a high similarity score as both anchors refer to the cultural heritage of India, with Punjab being a specific region known for its rich cultural heritage. The positive example is more general, but the concept of cultural heritage is still present, making it a strong positive pair.\n",
            "results:  -> ['Anchor: \"Punjab\\'s rich cultural heritage\"', 'Positive: \"India\\'s vibrant cultural heritage\"', 'Similarity-Score: 0.9', '', 'This pair has a high similarity score as both anchors refer to the cultural heritage of India, with Punjab being a specific region known for its rich cultural heritage. The positive example is more general, but the concept of cultural heritage is still present, making it a strong positive pair.']\n",
            "[]\n"
          ]
        },
        {
          "output_type": "stream",
          "name": "stderr",
          "text": [
            "\n"
          ]
        }
      ]
    },
    {
      "cell_type": "markdown",
      "source": [],
      "metadata": {
        "id": "PKITYD1Iht0E"
      }
    },
    {
      "cell_type": "markdown",
      "source": [
        "# Embedding Finetuning\n"
      ],
      "metadata": {
        "id": "jUF_JIPtUMf1"
      }
    },
    {
      "cell_type": "markdown",
      "source": [
        "## checking generated data of qa pairs"
      ],
      "metadata": {
        "id": "hqhraok7XPuJ"
      }
    },
    {
      "cell_type": "code",
      "source": [
        "train_synthetic_dataset = EmbeddingQAFinetuneDataset.from_json(\"/content/trained_synthetic_dataset.json\")"
      ],
      "metadata": {
        "id": "WtErWkDcUPUl"
      },
      "execution_count": 5,
      "outputs": []
    },
    {
      "cell_type": "code",
      "source": [
        "train_synthetic_dataset.queries[\"a0bce105-3c69-47a0-a3ff-fc5df8c181e8\"]"
      ],
      "metadata": {
        "colab": {
          "base_uri": "https://localhost:8080/",
          "height": 54
        },
        "id": "0BDpqnZrVdaM",
        "outputId": "15196950-5757-47f8-b60d-c4365aa5d068"
      },
      "execution_count": 6,
      "outputs": [
        {
          "output_type": "execute_result",
          "data": {
            "text/plain": [
              "'What is the role of the Controller in determining the applicable tax rates for the gross receipts tax in Santa Cruz?'"
            ],
            "application/vnd.google.colaboratory.intrinsic+json": {
              "type": "string"
            }
          },
          "metadata": {},
          "execution_count": 6
        }
      ]
    },
    {
      "cell_type": "code",
      "source": [
        "train_synthetic_dataset.corpus[\"36b77480-727d-40f4-8490-5e845e808178\"]\n"
      ],
      "metadata": {
        "colab": {
          "base_uri": "https://localhost:8080/",
          "height": 237
        },
        "id": "c93muzeoUbK6",
        "outputId": "bcfa7e63-cc61-4e88-8d67-1a434d271728"
      },
      "execution_count": null,
      "outputs": [
        {
          "output_type": "execute_result",
          "data": {
            "text/plain": [
              "'CONTROLLER TO PUBLISH AND CERTIFY TAXABLE GROSS RECEIPTS\\nAMOUNTS.\\n(a) On or before October 3, 2022, for purposes of determining the applicable tax rates for tax\\nyear 2023, the Controller shall publish the total amount of taxable gross receipts for tax year 2021\\nreported by taxpayers as of June 30, 2022, and if that amount is equal to or greater than 90% of\\n53SANTA CO\\ntaxable gross receipts for tax year 2019 reported by taxpayers as of June 30, 2020, the Controller shall\\nDEPARTMEN OP QRECTIONS\\ncertify that the 90% gross receipts threshold has been met for tax year 2023.\\n(b) On or before October 2, 2023, for purposes of determining the applicable tax rates for tax\\nyear 2024, the Controller shall publish the total amount of taxable gross receipts for tax year 2022\\nreported by taxpayers as of June 30, 2023, and if that amount is equal to or greater than 95% of\\ntaxable gross receipts for tax year 2019 reported by taxpayers as of June 30, 2020, the Controller shall\\neertify that the 95% gross receipts threshold has been met for tax year 2024\\n(e) For purposes of this Section 953.10, \"taxable gross receipts\" means a person or combined\\ngroup\\'s gross receipts, not excluded under Section 954, attributable to the City.\\nSEC. 953.20. GROSS RECEIPTS TAX APPLICABLE TO CATEGORY 1 BUSINESS\\nACTIVITIES.\\n(a) The gross receipts tax rates applicable to Category 1 Business Activities are:\\n(1) For tax years 2025 and 2026:\\n0.1% for taxable gross receipts between $0 and $1,000,000\\n0.13% for taxable gross receipts between $1,000,000.01 and $2,500,000\\n0.18% for taxable gross receipts between $2,500,000.01 and $25,000,000\\n0.336% for taxable gross receipts between $25,000,000.01 and $50,000,000\\n0.336% for taxable gross receipts between $50,000,000.01 and $75,000,000\\n0.336% for taxable gross receipts between $75,000,'"
            ],
            "application/vnd.google.colaboratory.intrinsic+json": {
              "type": "string"
            }
          },
          "metadata": {},
          "execution_count": 19
        }
      ]
    },
    {
      "cell_type": "markdown",
      "source": [
        "## imports"
      ],
      "metadata": {
        "id": "XVQxVLVFXYUl"
      }
    },
    {
      "cell_type": "code",
      "source": [
        "!pip install -U sentence-transformers -q"
      ],
      "metadata": {
        "colab": {
          "base_uri": "https://localhost:8080/"
        },
        "id": "8z30jWUyXl4U",
        "outputId": "76ca9050-5b96-4514-f5c1-e3fcf560b594"
      },
      "execution_count": 32,
      "outputs": [
        {
          "output_type": "stream",
          "name": "stdout",
          "text": [
            "\u001b[31mERROR: pip's dependency resolver does not currently take into account all the packages that are installed. This behaviour is the source of the following dependency conflicts.\n",
            "llama-index-finetuning 0.1.9 requires sentence-transformers<3.0.0,>=2.3.0, but you have sentence-transformers 3.0.1 which is incompatible.\u001b[0m\u001b[31m\n",
            "\u001b[0m"
          ]
        }
      ]
    },
    {
      "cell_type": "code",
      "source": [
        "from sentence_transformers import SentenceTransformer"
      ],
      "metadata": {
        "id": "-sHeFsqxXaVx"
      },
      "execution_count": 33,
      "outputs": []
    },
    {
      "cell_type": "code",
      "source": [
        "model_id = \"BAAI/bge-small-en\"\n",
        "model = SentenceTransformer(model_id)"
      ],
      "metadata": {
        "colab": {
          "base_uri": "https://localhost:8080/",
          "height": 369,
          "referenced_widgets": [
            "3ec678acfc3b4c6eb9ed3d3e5162865b",
            "ddba31e1fe0f4260a3dcee4d4b8bbe2f",
            "d2e52616b3364556962b98eca91c4176",
            "1159773599c54bab9eb3d98c6d3124e1",
            "eaabbae48b9a48f1b59aa28c71f24632",
            "c428ce4e782a4f0b95424def03daab39",
            "22f3c9ae9cf34c6881421d581c145b22",
            "0b8e74fbf9024026b5a77998a9532c82",
            "82b7c61ce64f4330b08d7b347a786f12",
            "7f89b1b79447484d81947c4d91a38490",
            "eb03a2ccbd86455eaa05a43388aa7914",
            "72515080ec274da0929cae70d5730240",
            "478b38e2a010473d88a6962cb1e2acf0",
            "2dc568687a08405da654fc53aeec8cca",
            "f7ce02980b8d4da6b66d813aca5dd647",
            "665f94c4470d40c5a20a063492936483",
            "e48c3613fdbb41849237312d128f924b",
            "f5e601520df7485f998889fd6510a64f",
            "c29c5bc3c9c743798d2e00b5d25b3fd7",
            "bb642a7cf3ac4897a120662bd7a2fe2d",
            "d6975914283b49838e304c7c116bbed7",
            "baaf8bc640dc479baa4fbee023a07cb4",
            "8864f4c0261042039435174d52869e60",
            "24c7a210144340e1b7a8705a959f355c",
            "5d0aa3a9994d4501bfdc78a42796ae9f",
            "d7199aca9b83463f9efe167cafecf66c",
            "25af69e472b64eb599b6e8c23013252e",
            "f715c2c31aff44e3b280381a06f61b87",
            "ab63516f59144816bab3f0a165a794b3",
            "836fc00a51c24f6cbe4faf0d969e5e36",
            "218bcd3adf724f19889fd0bc79bbdea5",
            "6f4a49907e3344ae9411ebd1975c5498",
            "90fbe2be00b143c0a1886e03e2246126",
            "9412678650cd4285a5970a8b206459f7",
            "49f4ee51553a46b589cbfba1870dec7b",
            "8488d72e9e7b49969615ec7a8894bf78",
            "68852c83e5444968925d885b3902652e",
            "cbc67a2804f648c7964bd69e9ead97aa",
            "2fe7d4c1f4084c3c8195862212469eb0",
            "98e79c8d473b44149332dbdfd4d7c361",
            "698b38b61a8b4eaaab0cc68c3389d3f2",
            "8f9f20c3d8ef40c0a6b1cb43c5714354",
            "9045d4dec5a94752acb9e18e41fa7fdf",
            "1bdafaa19b9c405d83bd30178b26b5b3",
            "05bef9d1ed414c5ab855cf9a20895573",
            "727e019329d64a81a538310b12b61bad",
            "14289a0f827041f4bfb8421db3aee156",
            "5545f737a77c48bfb1ab4ca553098712",
            "c724993f55b24f37a7f98c800d3d3dea",
            "1d498882402e4280bcb164fe8d9f6659",
            "fc23505287994d9e8aae9873db9ac2f9",
            "171018b2ff554454a2dd8bcef8011ca5",
            "e0b84dee92db4ff5b90d218f473286ac",
            "62d03c90e12d41fe88640a6222ac6a26",
            "f9bec554fee248bd8c8b382da10be329",
            "317bab5a84be4f7bb266087bd3bd6eee",
            "57005b919974466081f488caa395204e",
            "3a673dc9a99b40a6bccf4d9f01273678",
            "d6fb204e91864828ad5267c4b2a17620",
            "5fb66d313ed9492d8b2412fcc9715967",
            "3582dd13b86a4f0ea050c04daa5a4cca",
            "ceccee955df04de6984fc7f36fa42de9",
            "d01320560bd84884b88d167c423a5b30",
            "d078b34d03ea401f8361e8216e16114c",
            "afbcb8d9936448709c106aa473542260",
            "f9487bc6201b4e26b28578055ecae2e9",
            "5a05d9e3e24f469e958b14263f54a496",
            "33dc4cf65de9466db5f3d3ffe410da61",
            "b7314dd1baaa440593ff297937d78b7d",
            "103ab05918c7448494304597b7ba304a",
            "760b5c6d09dd496e936492c12ccea3a0",
            "d2d4420fc18c47938472c889a790fc22",
            "afc1031d298742e48ffbc17258236995",
            "2c238316cc784e109a3add6c5ee7c85b",
            "b495f2f3620242d78fb639cd0aa052be",
            "1d79e5116b9b4cd89f6ebef289869e2d",
            "743f74f710184d82b908a30a54c93915",
            "ea715af4353a45b49110e26fe9d141f4",
            "1b62ff063c674cd99bfd5059634ff4d7",
            "4933393525c449039bcfc8958da9d215",
            "9c19fc5674c64acd80847a1e2050d58e",
            "183a54dc999546ebb374c0a21f981f91",
            "deec67a2549e4061936ecf28f3354150",
            "537509686d0d4e5597358f608347f714",
            "d1697d560340480f896d57076293d3ea",
            "7541f204673d42038799dbe401de083a",
            "acdd92b9f0d24d428f75044aedf08fa2",
            "d5ac0a3f810347d0afbfa165d0364347",
            "b423b11e58a749ce92e47e77fb9b1bf4",
            "78dc6f912ff84863867df4b2ce51d482",
            "86f5dad2153348bea142b2e5030934e5",
            "00e921f6e78f4bbea5fbdd7043f6f442",
            "17c63009613f4277ac96a486004823b3",
            "8a36d663a8b1405ebb48297c97ece8e2",
            "4f25e7e772544108a9162e68a6a4d813",
            "a077accc962249b2a8a0aa006203e088",
            "02534c175fca487a973920edfc9763bf",
            "05bc90b72ef84833bb8947fff9c66801",
            "a727efb770cb47a096360cf30cbe4dec",
            "56b75c6c8b9940829cabae5b584e777e",
            "b470e3bddfe74d39b0eb97c6367dae1d",
            "05cb330083704ff18ec25a1f68bddf06",
            "fcdfd4df9a424219b6add9688405c681",
            "738f627feb2a4dffbd031049353a3893",
            "5d614d94ac4548438899284cbf66c7e1",
            "28746ad7348b4345885b2cdcb2a69af5",
            "275e1dc81e7c4cff83e5d64d952fb761",
            "6b8f44f6f52541bc98b9fd362b199c6f",
            "1c6a664445dc444f8a059d8f88027f9b",
            "2a49dd0cd7b743b2bfe719a43e09bdd3",
            "5186e6cbc7264336b75e855542cfc3fd",
            "e0715b3f7a6342f19502c8be0a3a6e2a",
            "bbac75f4d5f244d4b889c821a9d419cd",
            "80e642210b32480eba97212bd49654e5",
            "ecf9e41b68fc48b6b84c22817b96120a",
            "277f0f0ec86346a9a050cbd08556516f",
            "de289a65e7524599b22e6cf7dd14b6db",
            "a46c4e36eb86485fbaf4f6096166969b",
            "234267383bae4dd6b183da238c5b649a",
            "d90e11cd667e46dcac1584271ee24487",
            "987eccf1fbf14409be028cebd0dff4f4"
          ]
        },
        "id": "NhrfrkZMXx4T",
        "outputId": "7425da73-8bd1-4ad5-ccc6-6a82dec25659"
      },
      "execution_count": 34,
      "outputs": [
        {
          "output_type": "display_data",
          "data": {
            "text/plain": [
              "modules.json:   0%|          | 0.00/349 [00:00<?, ?B/s]"
            ],
            "application/vnd.jupyter.widget-view+json": {
              "version_major": 2,
              "version_minor": 0,
              "model_id": "3ec678acfc3b4c6eb9ed3d3e5162865b"
            }
          },
          "metadata": {}
        },
        {
          "output_type": "display_data",
          "data": {
            "text/plain": [
              "config_sentence_transformers.json:   0%|          | 0.00/124 [00:00<?, ?B/s]"
            ],
            "application/vnd.jupyter.widget-view+json": {
              "version_major": 2,
              "version_minor": 0,
              "model_id": "72515080ec274da0929cae70d5730240"
            }
          },
          "metadata": {}
        },
        {
          "output_type": "display_data",
          "data": {
            "text/plain": [
              "README.md:   0%|          | 0.00/90.8k [00:00<?, ?B/s]"
            ],
            "application/vnd.jupyter.widget-view+json": {
              "version_major": 2,
              "version_minor": 0,
              "model_id": "8864f4c0261042039435174d52869e60"
            }
          },
          "metadata": {}
        },
        {
          "output_type": "display_data",
          "data": {
            "text/plain": [
              "sentence_bert_config.json:   0%|          | 0.00/52.0 [00:00<?, ?B/s]"
            ],
            "application/vnd.jupyter.widget-view+json": {
              "version_major": 2,
              "version_minor": 0,
              "model_id": "9412678650cd4285a5970a8b206459f7"
            }
          },
          "metadata": {}
        },
        {
          "output_type": "display_data",
          "data": {
            "text/plain": [
              "config.json:   0%|          | 0.00/684 [00:00<?, ?B/s]"
            ],
            "application/vnd.jupyter.widget-view+json": {
              "version_major": 2,
              "version_minor": 0,
              "model_id": "05bef9d1ed414c5ab855cf9a20895573"
            }
          },
          "metadata": {}
        },
        {
          "output_type": "display_data",
          "data": {
            "text/plain": [
              "model.safetensors:   0%|          | 0.00/133M [00:00<?, ?B/s]"
            ],
            "application/vnd.jupyter.widget-view+json": {
              "version_major": 2,
              "version_minor": 0,
              "model_id": "317bab5a84be4f7bb266087bd3bd6eee"
            }
          },
          "metadata": {}
        },
        {
          "output_type": "display_data",
          "data": {
            "text/plain": [
              "tokenizer_config.json:   0%|          | 0.00/366 [00:00<?, ?B/s]"
            ],
            "application/vnd.jupyter.widget-view+json": {
              "version_major": 2,
              "version_minor": 0,
              "model_id": "5a05d9e3e24f469e958b14263f54a496"
            }
          },
          "metadata": {}
        },
        {
          "output_type": "display_data",
          "data": {
            "text/plain": [
              "vocab.txt:   0%|          | 0.00/232k [00:00<?, ?B/s]"
            ],
            "application/vnd.jupyter.widget-view+json": {
              "version_major": 2,
              "version_minor": 0,
              "model_id": "ea715af4353a45b49110e26fe9d141f4"
            }
          },
          "metadata": {}
        },
        {
          "output_type": "display_data",
          "data": {
            "text/plain": [
              "tokenizer.json:   0%|          | 0.00/711k [00:00<?, ?B/s]"
            ],
            "application/vnd.jupyter.widget-view+json": {
              "version_major": 2,
              "version_minor": 0,
              "model_id": "b423b11e58a749ce92e47e77fb9b1bf4"
            }
          },
          "metadata": {}
        },
        {
          "output_type": "display_data",
          "data": {
            "text/plain": [
              "special_tokens_map.json:   0%|          | 0.00/125 [00:00<?, ?B/s]"
            ],
            "application/vnd.jupyter.widget-view+json": {
              "version_major": 2,
              "version_minor": 0,
              "model_id": "56b75c6c8b9940829cabae5b584e777e"
            }
          },
          "metadata": {}
        },
        {
          "output_type": "display_data",
          "data": {
            "text/plain": [
              "1_Pooling/config.json:   0%|          | 0.00/190 [00:00<?, ?B/s]"
            ],
            "application/vnd.jupyter.widget-view+json": {
              "version_major": 2,
              "version_minor": 0,
              "model_id": "5186e6cbc7264336b75e855542cfc3fd"
            }
          },
          "metadata": {}
        }
      ]
    },
    {
      "cell_type": "code",
      "source": [
        "model"
      ],
      "metadata": {
        "colab": {
          "base_uri": "https://localhost:8080/"
        },
        "id": "PxES_azPX6_h",
        "outputId": "8f5003e3-6042-4469-c54f-170b13a395e8"
      },
      "execution_count": null,
      "outputs": [
        {
          "output_type": "execute_result",
          "data": {
            "text/plain": [
              "SentenceTransformer(\n",
              "  (0): Transformer({'max_seq_length': 512, 'do_lower_case': True}) with Transformer model: BertModel \n",
              "  (1): Pooling({'word_embedding_dimension': 384, 'pooling_mode_cls_token': True, 'pooling_mode_mean_tokens': False, 'pooling_mode_max_tokens': False, 'pooling_mode_mean_sqrt_len_tokens': False, 'pooling_mode_weightedmean_tokens': False, 'pooling_mode_lasttoken': False, 'include_prompt': True})\n",
              "  (2): Normalize()\n",
              ")"
            ]
          },
          "metadata": {},
          "execution_count": 27
        }
      ]
    },
    {
      "cell_type": "code",
      "source": [
        "import json\n",
        "\n",
        "from torch.utils.data import DataLoader\n",
        "from sentence_transformers import InputExample"
      ],
      "metadata": {
        "id": "UWxHRrPmYbvp"
      },
      "execution_count": 25,
      "outputs": []
    },
    {
      "cell_type": "code",
      "source": [
        "TRAIN_DATASET_FPATH = '/content/trained_synthetic_qa_dataset.json'\n",
        "VAL_DATASET_FPATH = '/content/eval_synthetic_qa_dataset.json'\n",
        "\n",
        "\n",
        "BATCH_SIZE = 10"
      ],
      "metadata": {
        "id": "dhH67MSdYs_l"
      },
      "execution_count": 48,
      "outputs": []
    },
    {
      "cell_type": "code",
      "source": [
        "with open(TRAIN_DATASET_FPATH, 'r+') as f:\n",
        "    train_dataset = json.load(f)\n",
        "\n",
        "with open(VAL_DATASET_FPATH, 'r+') as f:\n",
        "    val_dataset = json.load(f)"
      ],
      "metadata": {
        "id": "RxjrXF09ZBeV"
      },
      "execution_count": 49,
      "outputs": []
    },
    {
      "cell_type": "code",
      "source": [
        "dataset = train_dataset\n",
        "\n",
        "corpus = dataset['corpus']\n",
        "queries = dataset['queries']\n",
        "relevant_docs = dataset['relevant_docs']\n",
        "\n",
        "examples = []\n",
        "for query_id, query in queries.items():\n",
        "    node_id = relevant_docs[query_id][0]\n",
        "    text = corpus[node_id]\n",
        "    example = InputExample(texts=[query, text])\n",
        "    examples.append(example)\n"
      ],
      "metadata": {
        "id": "BxYAbkXxZFIG"
      },
      "execution_count": 50,
      "outputs": []
    },
    {
      "cell_type": "code",
      "source": [
        "loader = DataLoader(\n",
        "    examples, batch_size=BATCH_SIZE\n",
        ")"
      ],
      "metadata": {
        "id": "DFkcvyTMZoAX"
      },
      "execution_count": 51,
      "outputs": []
    },
    {
      "cell_type": "markdown",
      "source": [
        "## MultipleNegativesRankingLoss"
      ],
      "metadata": {
        "id": "v0s3WPZNBO9Z"
      }
    },
    {
      "cell_type": "markdown",
      "source": [
        "### Define loss\n",
        "MultipleNegativesRankingLoss is a great loss function if you only have positive pairs, for example, only pairs of similar texts like pairs of paraphrases, pairs of duplicate questions, pairs of (query, response), or pairs of (source_language, target_language).\n",
        "\n",
        "This loss function works great to train embeddings for retrieval setups where you have positive pairs (e.g. (query, relevant_doc)) as it will sample in each batch n-1 negative docs randomly.\n",
        "\n",
        "\n",
        "The performance usually increases with increasing batch sizes.\n"
      ],
      "metadata": {
        "id": "Mjo18ELza0Xa"
      }
    },
    {
      "cell_type": "markdown",
      "source": [],
      "metadata": {
        "id": "pkyZD1NJNhUl"
      }
    },
    {
      "cell_type": "code",
      "source": [
        "from sentence_transformers import losses"
      ],
      "metadata": {
        "id": "fgy4asizayAm"
      },
      "execution_count": 30,
      "outputs": []
    },
    {
      "cell_type": "code",
      "source": [
        "loss = losses.MultipleNegativesRankingLoss(model)\n"
      ],
      "metadata": {
        "id": "gfW4CPYLbCHn"
      },
      "execution_count": 35,
      "outputs": []
    },
    {
      "cell_type": "markdown",
      "source": [
        "### Defing Evaluator"
      ],
      "metadata": {
        "id": "pmzYsba5bG09"
      }
    },
    {
      "cell_type": "markdown",
      "source": [
        "We setup an evaluator with our val split of the dataset to monitor how well the embedding model is performing during training.\n",
        "\n"
      ],
      "metadata": {
        "id": "J25ySxm5bMck"
      }
    },
    {
      "cell_type": "code",
      "source": [
        "from sentence_transformers.evaluation import InformationRetrievalEvaluator\n"
      ],
      "metadata": {
        "id": "hHvzH-3rbI1y"
      },
      "execution_count": 26,
      "outputs": []
    },
    {
      "cell_type": "code",
      "source": [
        "dataset = val_dataset\n",
        "\n",
        "corpus = dataset['corpus']\n",
        "queries = dataset['queries']\n",
        "relevant_docs = dataset['relevant_docs']\n",
        "\n",
        "evaluator = InformationRetrievalEvaluator(queries, corpus, relevant_docs,write_csv=True)"
      ],
      "metadata": {
        "id": "V5O29vGcbUEZ"
      },
      "execution_count": 61,
      "outputs": []
    },
    {
      "cell_type": "markdown",
      "source": [
        "### Run Training\n",
        "The training loop is very straight forward to steup thanks to sentencetransformers' high-level model training API. All we need to do is plugging in the data loader, loss function, and evaluator that we defined in the previous cells (along with a couple of additional minor settings)."
      ],
      "metadata": {
        "id": "Wh8UNio7bXVM"
      }
    },
    {
      "cell_type": "code",
      "source": [
        "!pip3 install datasets -q -U\n"
      ],
      "metadata": {
        "colab": {
          "base_uri": "https://localhost:8080/"
        },
        "id": "h5uOJrHYug6w",
        "outputId": "d3160cf3-2e71-4977-8abb-b795916e3f16"
      },
      "execution_count": 38,
      "outputs": [
        {
          "output_type": "stream",
          "name": "stdout",
          "text": [
            "\u001b[2K     \u001b[90m━━━━━━━━━━━━━━━━━━━━━━━━━━━━━━━━━━━━━━━━\u001b[0m \u001b[32m547.8/547.8 kB\u001b[0m \u001b[31m14.2 MB/s\u001b[0m eta \u001b[36m0:00:00\u001b[0m\n",
            "\u001b[2K     \u001b[90m━━━━━━━━━━━━━━━━━━━━━━━━━━━━━━━━━━━━━━━━\u001b[0m \u001b[32m40.8/40.8 MB\u001b[0m \u001b[31m14.7 MB/s\u001b[0m eta \u001b[36m0:00:00\u001b[0m\n",
            "\u001b[2K     \u001b[90m━━━━━━━━━━━━━━━━━━━━━━━━━━━━━━━━━━━━━━━━\u001b[0m \u001b[32m116.3/116.3 kB\u001b[0m \u001b[31m17.2 MB/s\u001b[0m eta \u001b[36m0:00:00\u001b[0m\n",
            "\u001b[2K     \u001b[90m━━━━━━━━━━━━━━━━━━━━━━━━━━━━━━━━━━━━━━━━\u001b[0m \u001b[32m64.9/64.9 kB\u001b[0m \u001b[31m9.4 MB/s\u001b[0m eta \u001b[36m0:00:00\u001b[0m\n",
            "\u001b[2K     \u001b[90m━━━━━━━━━━━━━━━━━━━━━━━━━━━━━━━━━━━━━━━━\u001b[0m \u001b[32m194.1/194.1 kB\u001b[0m \u001b[31m24.9 MB/s\u001b[0m eta \u001b[36m0:00:00\u001b[0m\n",
            "\u001b[2K     \u001b[90m━━━━━━━━━━━━━━━━━━━━━━━━━━━━━━━━━━━━━━━━\u001b[0m \u001b[32m134.8/134.8 kB\u001b[0m \u001b[31m19.9 MB/s\u001b[0m eta \u001b[36m0:00:00\u001b[0m\n",
            "\u001b[?25h\u001b[31mERROR: pip's dependency resolver does not currently take into account all the packages that are installed. This behaviour is the source of the following dependency conflicts.\n",
            "cudf-cu12 24.4.1 requires pyarrow<15.0.0a0,>=14.0.1, but you have pyarrow 16.1.0 which is incompatible.\n",
            "google-colab 1.0.0 requires requests==2.31.0, but you have requests 2.32.3 which is incompatible.\n",
            "ibis-framework 8.0.0 requires pyarrow<16,>=2, but you have pyarrow 16.1.0 which is incompatible.\n",
            "llama-index-finetuning 0.1.9 requires sentence-transformers<3.0.0,>=2.3.0, but you have sentence-transformers 3.0.1 which is incompatible.\u001b[0m\u001b[31m\n",
            "\u001b[0m"
          ]
        }
      ]
    },
    {
      "cell_type": "code",
      "source": [
        "!pip install --upgrade pyarrow datasets -q"
      ],
      "metadata": {
        "id": "P8isVfk45gTJ"
      },
      "execution_count": 38,
      "outputs": []
    },
    {
      "cell_type": "code",
      "source": [
        "!pip uninstall pyarrow datasets -y\n",
        "!pip install pyarrow==14.0.1 datasets -q\n"
      ],
      "metadata": {
        "colab": {
          "base_uri": "https://localhost:8080/"
        },
        "id": "AN55KVCq5rQm",
        "outputId": "574294a5-eefb-4d00-df20-4441e5c6663c"
      },
      "execution_count": 41,
      "outputs": [
        {
          "output_type": "stream",
          "name": "stdout",
          "text": [
            "Found existing installation: pyarrow 16.1.0\n",
            "Uninstalling pyarrow-16.1.0:\n",
            "  Successfully uninstalled pyarrow-16.1.0\n",
            "Found existing installation: datasets 2.20.0\n",
            "Uninstalling datasets-2.20.0:\n",
            "  Successfully uninstalled datasets-2.20.0\n",
            "\u001b[2K     \u001b[90m━━━━━━━━━━━━━━━━━━━━━━━━━━━━━━━━━━━━━━━━\u001b[0m \u001b[32m38.0/38.0 MB\u001b[0m \u001b[31m21.3 MB/s\u001b[0m eta \u001b[36m0:00:00\u001b[0m\n",
            "\u001b[2K     \u001b[90m━━━━━━━━━━━━━━━━━━━━━━━━━━━━━━━━━━━━━━━━\u001b[0m \u001b[32m542.1/542.1 kB\u001b[0m \u001b[31m54.4 MB/s\u001b[0m eta \u001b[36m0:00:00\u001b[0m\n",
            "\u001b[?25h"
          ]
        }
      ]
    },
    {
      "cell_type": "code",
      "source": [
        "!pip install accelerate -U -q"
      ],
      "metadata": {
        "id": "Yu5GIyhN6rKV"
      },
      "execution_count": 43,
      "outputs": []
    },
    {
      "cell_type": "code",
      "source": [
        "!pip install transformers[torch] -q"
      ],
      "metadata": {
        "colab": {
          "base_uri": "https://localhost:8080/"
        },
        "id": "yH6hd_f8634d",
        "outputId": "be4fb5b1-ce26-414c-c393-eda66cdeadf6"
      },
      "execution_count": 22,
      "outputs": [
        {
          "output_type": "stream",
          "name": "stdout",
          "text": [
            "Requirement already satisfied: transformers[torch] in /usr/local/lib/python3.10/dist-packages (4.41.2)\n",
            "Requirement already satisfied: filelock in /usr/local/lib/python3.10/dist-packages (from transformers[torch]) (3.14.0)\n",
            "Requirement already satisfied: huggingface-hub<1.0,>=0.23.0 in /usr/local/lib/python3.10/dist-packages (from transformers[torch]) (0.23.3)\n",
            "Requirement already satisfied: numpy>=1.17 in /usr/local/lib/python3.10/dist-packages (from transformers[torch]) (1.25.2)\n",
            "Requirement already satisfied: packaging>=20.0 in /usr/local/lib/python3.10/dist-packages (from transformers[torch]) (24.1)\n",
            "Requirement already satisfied: pyyaml>=5.1 in /usr/local/lib/python3.10/dist-packages (from transformers[torch]) (6.0.1)\n",
            "Requirement already satisfied: regex!=2019.12.17 in /usr/local/lib/python3.10/dist-packages (from transformers[torch]) (2024.5.15)\n",
            "Requirement already satisfied: requests in /usr/local/lib/python3.10/dist-packages (from transformers[torch]) (2.32.3)\n",
            "Requirement already satisfied: tokenizers<0.20,>=0.19 in /usr/local/lib/python3.10/dist-packages (from transformers[torch]) (0.19.1)\n",
            "Requirement already satisfied: safetensors>=0.4.1 in /usr/local/lib/python3.10/dist-packages (from transformers[torch]) (0.4.3)\n",
            "Requirement already satisfied: tqdm>=4.27 in /usr/local/lib/python3.10/dist-packages (from transformers[torch]) (4.66.4)\n",
            "Requirement already satisfied: torch in /usr/local/lib/python3.10/dist-packages (from transformers[torch]) (2.3.0+cu121)\n",
            "Requirement already satisfied: accelerate>=0.21.0 in /usr/local/lib/python3.10/dist-packages (from transformers[torch]) (0.31.0)\n",
            "Requirement already satisfied: psutil in /usr/local/lib/python3.10/dist-packages (from accelerate>=0.21.0->transformers[torch]) (5.9.5)\n",
            "Requirement already satisfied: fsspec>=2023.5.0 in /usr/local/lib/python3.10/dist-packages (from huggingface-hub<1.0,>=0.23.0->transformers[torch]) (2023.6.0)\n",
            "Requirement already satisfied: typing-extensions>=3.7.4.3 in /usr/local/lib/python3.10/dist-packages (from huggingface-hub<1.0,>=0.23.0->transformers[torch]) (4.12.2)\n",
            "Requirement already satisfied: sympy in /usr/local/lib/python3.10/dist-packages (from torch->transformers[torch]) (1.12.1)\n",
            "Requirement already satisfied: networkx in /usr/local/lib/python3.10/dist-packages (from torch->transformers[torch]) (3.3)\n",
            "Requirement already satisfied: jinja2 in /usr/local/lib/python3.10/dist-packages (from torch->transformers[torch]) (3.1.4)\n",
            "Requirement already satisfied: nvidia-cuda-nvrtc-cu12==12.1.105 in /usr/local/lib/python3.10/dist-packages (from torch->transformers[torch]) (12.1.105)\n",
            "Requirement already satisfied: nvidia-cuda-runtime-cu12==12.1.105 in /usr/local/lib/python3.10/dist-packages (from torch->transformers[torch]) (12.1.105)\n",
            "Requirement already satisfied: nvidia-cuda-cupti-cu12==12.1.105 in /usr/local/lib/python3.10/dist-packages (from torch->transformers[torch]) (12.1.105)\n",
            "Requirement already satisfied: nvidia-cudnn-cu12==8.9.2.26 in /usr/local/lib/python3.10/dist-packages (from torch->transformers[torch]) (8.9.2.26)\n",
            "Requirement already satisfied: nvidia-cublas-cu12==12.1.3.1 in /usr/local/lib/python3.10/dist-packages (from torch->transformers[torch]) (12.1.3.1)\n",
            "Requirement already satisfied: nvidia-cufft-cu12==11.0.2.54 in /usr/local/lib/python3.10/dist-packages (from torch->transformers[torch]) (11.0.2.54)\n",
            "Requirement already satisfied: nvidia-curand-cu12==10.3.2.106 in /usr/local/lib/python3.10/dist-packages (from torch->transformers[torch]) (10.3.2.106)\n",
            "Requirement already satisfied: nvidia-cusolver-cu12==11.4.5.107 in /usr/local/lib/python3.10/dist-packages (from torch->transformers[torch]) (11.4.5.107)\n",
            "Requirement already satisfied: nvidia-cusparse-cu12==12.1.0.106 in /usr/local/lib/python3.10/dist-packages (from torch->transformers[torch]) (12.1.0.106)\n",
            "Requirement already satisfied: nvidia-nccl-cu12==2.20.5 in /usr/local/lib/python3.10/dist-packages (from torch->transformers[torch]) (2.20.5)\n",
            "Requirement already satisfied: nvidia-nvtx-cu12==12.1.105 in /usr/local/lib/python3.10/dist-packages (from torch->transformers[torch]) (12.1.105)\n",
            "Requirement already satisfied: triton==2.3.0 in /usr/local/lib/python3.10/dist-packages (from torch->transformers[torch]) (2.3.0)\n",
            "Requirement already satisfied: nvidia-nvjitlink-cu12 in /usr/local/lib/python3.10/dist-packages (from nvidia-cusolver-cu12==11.4.5.107->torch->transformers[torch]) (12.5.40)\n",
            "Requirement already satisfied: charset-normalizer<4,>=2 in /usr/local/lib/python3.10/dist-packages (from requests->transformers[torch]) (3.3.2)\n",
            "Requirement already satisfied: idna<4,>=2.5 in /usr/local/lib/python3.10/dist-packages (from requests->transformers[torch]) (3.7)\n",
            "Requirement already satisfied: urllib3<3,>=1.21.1 in /usr/local/lib/python3.10/dist-packages (from requests->transformers[torch]) (2.0.7)\n",
            "Requirement already satisfied: certifi>=2017.4.17 in /usr/local/lib/python3.10/dist-packages (from requests->transformers[torch]) (2024.6.2)\n",
            "Requirement already satisfied: MarkupSafe>=2.0 in /usr/local/lib/python3.10/dist-packages (from jinja2->torch->transformers[torch]) (2.1.5)\n",
            "Requirement already satisfied: mpmath<1.4.0,>=1.1.0 in /usr/local/lib/python3.10/dist-packages (from sympy->torch->transformers[torch]) (1.3.0)\n"
          ]
        }
      ]
    },
    {
      "cell_type": "code",
      "source": [],
      "metadata": {
        "id": "8Svjd135OY5N"
      },
      "execution_count": null,
      "outputs": []
    },
    {
      "cell_type": "code",
      "source": [
        "from datasets import Dataset"
      ],
      "metadata": {
        "id": "z_q0K8fQ574r"
      },
      "execution_count": null,
      "outputs": []
    },
    {
      "cell_type": "code",
      "source": [
        "# We train the model for very few epochs in this toy example.\n",
        "# This should typically be higher for better performance.\n",
        "EPOCHS = 1"
      ],
      "metadata": {
        "id": "1oKmLqA4b3XF"
      },
      "execution_count": 72,
      "outputs": []
    },
    {
      "cell_type": "code",
      "source": [
        "warmup_steps = int(len(loader) * EPOCHS)"
      ],
      "metadata": {
        "id": "h52Ud65Us7br"
      },
      "execution_count": 68,
      "outputs": []
    },
    {
      "cell_type": "code",
      "source": [
        "model.fit(\n",
        "    train_objectives=[(loader, loss)],\n",
        "    epochs=EPOCHS,\n",
        "    warmup_steps=warmup_steps,\n",
        "    output_path='exp_finetune',\n",
        "    show_progress_bar=True,\n",
        "    evaluator=evaluator,\n",
        "    # evaluation_steps=50,\n",
        ")"
      ],
      "metadata": {
        "colab": {
          "base_uri": "https://localhost:8080/",
          "height": 81,
          "referenced_widgets": [
            "9292007a8ba1472cb92a930036d7fb32",
            "30706a045a2e499a8e657e8ed24b2b6f",
            "280a00fb52754d608b58792abfe60b4d",
            "f5cebe1cfca5451090c15fe5a2c63970",
            "ec590cab09154f77ade0a6f0fcc5b0e3",
            "38b2d12be2834c2f9b755dec124f854f",
            "32a48404397a4ebb9bf2533839158b03",
            "d7deaed369544ed4819122dc6155432f",
            "e32e4fa1fd8e42b49aaae30553232c1a",
            "2a91e4d2ece84da89c04cf3232cadeec",
            "86980ebe9fff4e298e9af8b5c15b01f0",
            "eb6db38a329a44ce905d9f5df288b639",
            "9d4467e6f23c4c63b7576983e2e0a5a4",
            "874c699313b245de805b108ceda046e9",
            "c9775ee5325a412da7bf6e009bd9a0f1",
            "b4123e0e1ed242cf88bd684b5145f6b3",
            "257392461cbe4449b342410f07e842cc",
            "0207317a79274493b770ce6944faf80f",
            "0482e792a0084326883bd24df2e21eb4",
            "73d40025cf594d1ab4a65c318d006e72",
            "b10432a3651744c3b04351ebc06dc0f1",
            "b7820f0541cc4afc960fa93d09928c88"
          ]
        },
        "id": "VjRIMAEDb_yw",
        "outputId": "9b9aabb3-c44b-4928-e2d9-7b906daa9ca4"
      },
      "execution_count": 73,
      "outputs": [
        {
          "output_type": "display_data",
          "data": {
            "text/plain": [
              "Epoch:   0%|          | 0/1 [00:00<?, ?it/s]"
            ],
            "application/vnd.jupyter.widget-view+json": {
              "version_major": 2,
              "version_minor": 0,
              "model_id": "9292007a8ba1472cb92a930036d7fb32"
            }
          },
          "metadata": {}
        },
        {
          "output_type": "display_data",
          "data": {
            "text/plain": [
              "Iteration:   0%|          | 0/24 [00:00<?, ?it/s]"
            ],
            "application/vnd.jupyter.widget-view+json": {
              "version_major": 2,
              "version_minor": 0,
              "model_id": "eb6db38a329a44ce905d9f5df288b639"
            }
          },
          "metadata": {}
        }
      ]
    },
    {
      "cell_type": "markdown",
      "source": [
        "### checking the evaluation"
      ],
      "metadata": {
        "id": "3j2ERBE9RQcr"
      }
    },
    {
      "cell_type": "code",
      "source": [
        "results = evaluator(model)"
      ],
      "metadata": {
        "id": "CaPUhHKOU1x6"
      },
      "execution_count": 74,
      "outputs": []
    },
    {
      "cell_type": "code",
      "source": [
        "print(results)"
      ],
      "metadata": {
        "colab": {
          "base_uri": "https://localhost:8080/"
        },
        "id": "KLQslZYiVrkB",
        "outputId": "01f1fb60-72da-43ed-8a20-1fbac123acb6"
      },
      "execution_count": 76,
      "outputs": [
        {
          "output_type": "stream",
          "name": "stdout",
          "text": [
            "0.7249176564282218\n"
          ]
        }
      ]
    },
    {
      "cell_type": "code",
      "source": [],
      "metadata": {
        "id": "vNA6PL6hRP4e"
      },
      "execution_count": null,
      "outputs": []
    },
    {
      "cell_type": "markdown",
      "source": [
        "## Sharing a Sentence Transformers to the Hugging Face Hub"
      ],
      "metadata": {
        "id": "61VZuEWjPpLQ"
      }
    },
    {
      "cell_type": "code",
      "source": [
        "!huggingface-cli login"
      ],
      "metadata": {
        "colab": {
          "base_uri": "https://localhost:8080/"
        },
        "id": "2EK03X8rO9c9",
        "outputId": "376a41b2-80c6-4285-8f0b-e6cf40127e51"
      },
      "execution_count": 59,
      "outputs": [
        {
          "output_type": "stream",
          "name": "stdout",
          "text": [
            "\n",
            "    _|    _|  _|    _|    _|_|_|    _|_|_|  _|_|_|  _|      _|    _|_|_|      _|_|_|_|    _|_|      _|_|_|  _|_|_|_|\n",
            "    _|    _|  _|    _|  _|        _|          _|    _|_|    _|  _|            _|        _|    _|  _|        _|\n",
            "    _|_|_|_|  _|    _|  _|  _|_|  _|  _|_|    _|    _|  _|  _|  _|  _|_|      _|_|_|    _|_|_|_|  _|        _|_|_|\n",
            "    _|    _|  _|    _|  _|    _|  _|    _|    _|    _|    _|_|  _|    _|      _|        _|    _|  _|        _|\n",
            "    _|    _|    _|_|      _|_|_|    _|_|_|  _|_|_|  _|      _|    _|_|_|      _|        _|    _|    _|_|_|  _|_|_|_|\n",
            "\n",
            "    To login, `huggingface_hub` requires a token generated from https://huggingface.co/settings/tokens .\n",
            "Enter your token (input will not be visible): Traceback (most recent call last):\n",
            "  File \"/usr/lib/python3.10/getpass.py\", line 77, in unix_getpass\n",
            "    passwd = _raw_input(prompt, stream, input=input)\n",
            "  File \"/usr/lib/python3.10/getpass.py\", line 146, in _raw_input\n",
            "    line = input.readline()\n",
            "KeyboardInterrupt\n",
            "\n",
            "During handling of the above exception, another exception occurred:\n",
            "\n",
            "Traceback (most recent call last):\n",
            "  File \"/usr/local/bin/huggingface-cli\", line 8, in <module>\n",
            "    sys.exit(main())\n",
            "  File \"/usr/local/lib/python3.10/dist-packages/huggingface_hub/commands/huggingface_cli.py\", line 51, in main\n",
            "    service.run()\n",
            "  File \"/usr/local/lib/python3.10/dist-packages/huggingface_hub/commands/user.py\", line 98, in run\n",
            "    login(token=self.args.token, add_to_git_credential=self.args.add_to_git_credential)\n",
            "  File \"/usr/local/lib/python3.10/dist-packages/huggingface_hub/_login.py\", line 115, in login\n",
            "    interpreter_login(new_session=new_session, write_permission=write_permission)\n",
            "  File \"/usr/local/lib/python3.10/dist-packages/huggingface_hub/_login.py\", line 191, in interpreter_login\n",
            "    token = getpass(\"Enter your token (input will not be visible): \")\n",
            "  File \"/usr/lib/python3.10/getpass.py\", line 79, in unix_getpass\n",
            "    termios.tcsetattr(fd, tcsetattr_flags, old)\n",
            "KeyboardInterrupt\n",
            "^C\n"
          ]
        }
      ]
    },
    {
      "cell_type": "code",
      "source": [
        "# 6. Save the trained model and optionally push it to the Hugging Face Hub\n",
        "model.save_pretrained(\"bert-base-all-nli-stsb-quora-nq\")\n",
        "model.push_to_hub(\"bert-base-all-nli-stsb-quora-nq\")"
      ],
      "metadata": {
        "id": "OMkG9YLF0-vV"
      },
      "execution_count": null,
      "outputs": []
    },
    {
      "cell_type": "code",
      "source": [
        "# Define the directory to save the model\n",
        "save_path = 'fine_tuned_model'\n",
        "\n",
        "# Save the model\n",
        "model.save(save_path)"
      ],
      "metadata": {
        "id": "tE6ErqBH_J-b",
        "colab": {
          "base_uri": "https://localhost:8080/",
          "height": 183
        },
        "outputId": "5d1aea47-48a9-4997-f783-822e2b56820e"
      },
      "execution_count": 1,
      "outputs": [
        {
          "output_type": "error",
          "ename": "NameError",
          "evalue": "name 'model' is not defined",
          "traceback": [
            "\u001b[0;31m---------------------------------------------------------------------------\u001b[0m",
            "\u001b[0;31mNameError\u001b[0m                                 Traceback (most recent call last)",
            "\u001b[0;32m<ipython-input-1-7ccd82fe09aa>\u001b[0m in \u001b[0;36m<cell line: 5>\u001b[0;34m()\u001b[0m\n\u001b[1;32m      3\u001b[0m \u001b[0;34m\u001b[0m\u001b[0m\n\u001b[1;32m      4\u001b[0m \u001b[0;31m# Save the model\u001b[0m\u001b[0;34m\u001b[0m\u001b[0;34m\u001b[0m\u001b[0m\n\u001b[0;32m----> 5\u001b[0;31m \u001b[0mmodel\u001b[0m\u001b[0;34m.\u001b[0m\u001b[0msave\u001b[0m\u001b[0;34m(\u001b[0m\u001b[0msave_path\u001b[0m\u001b[0;34m)\u001b[0m\u001b[0;34m\u001b[0m\u001b[0;34m\u001b[0m\u001b[0m\n\u001b[0m",
            "\u001b[0;31mNameError\u001b[0m: name 'model' is not defined"
          ]
        }
      ]
    },
    {
      "cell_type": "code",
      "source": [
        "import shutil\n",
        "from google.colab import files\n",
        "\n",
        "# Zip the model directory\n",
        "shutil.make_archive(save_path, 'zip', save_path)\n",
        "\n",
        "# Download the zip file\n",
        "files.download(f'{save_path}.zip')\n"
      ],
      "metadata": {
        "colab": {
          "base_uri": "https://localhost:8080/",
          "height": 34
        },
        "id": "eLqkXaYoZQyd",
        "outputId": "e87407b8-f6b1-4154-9772-bd38b9c1ebd0"
      },
      "execution_count": 79,
      "outputs": [
        {
          "output_type": "display_data",
          "data": {
            "text/plain": [
              "<IPython.core.display.Javascript object>"
            ],
            "application/javascript": [
              "\n",
              "    async function download(id, filename, size) {\n",
              "      if (!google.colab.kernel.accessAllowed) {\n",
              "        return;\n",
              "      }\n",
              "      const div = document.createElement('div');\n",
              "      const label = document.createElement('label');\n",
              "      label.textContent = `Downloading \"${filename}\": `;\n",
              "      div.appendChild(label);\n",
              "      const progress = document.createElement('progress');\n",
              "      progress.max = size;\n",
              "      div.appendChild(progress);\n",
              "      document.body.appendChild(div);\n",
              "\n",
              "      const buffers = [];\n",
              "      let downloaded = 0;\n",
              "\n",
              "      const channel = await google.colab.kernel.comms.open(id);\n",
              "      // Send a message to notify the kernel that we're ready.\n",
              "      channel.send({})\n",
              "\n",
              "      for await (const message of channel.messages) {\n",
              "        // Send a message to notify the kernel that we're ready.\n",
              "        channel.send({})\n",
              "        if (message.buffers) {\n",
              "          for (const buffer of message.buffers) {\n",
              "            buffers.push(buffer);\n",
              "            downloaded += buffer.byteLength;\n",
              "            progress.value = downloaded;\n",
              "          }\n",
              "        }\n",
              "      }\n",
              "      const blob = new Blob(buffers, {type: 'application/binary'});\n",
              "      const a = document.createElement('a');\n",
              "      a.href = window.URL.createObjectURL(blob);\n",
              "      a.download = filename;\n",
              "      div.appendChild(a);\n",
              "      a.click();\n",
              "      div.remove();\n",
              "    }\n",
              "  "
            ]
          },
          "metadata": {}
        },
        {
          "output_type": "display_data",
          "data": {
            "text/plain": [
              "<IPython.core.display.Javascript object>"
            ],
            "application/javascript": [
              "download(\"download_4ffa0887-7a00-4792-a23e-fbdb87316ed2\", \"fine_tuned_model.zip\", 110752184)"
            ]
          },
          "metadata": {}
        }
      ]
    },
    {
      "cell_type": "markdown",
      "source": [
        "##"
      ],
      "metadata": {
        "id": "jP9lozCcBZcl"
      }
    }
  ]
}